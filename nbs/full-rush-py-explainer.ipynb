{
 "cells": [
  {
   "cell_type": "markdown",
   "id": "64fa7496",
   "metadata": {},
   "source": [
    "# rush-py Full Walkthrough"
   ]
  },
  {
   "cell_type": "markdown",
   "id": "969056e8",
   "metadata": {},
   "source": [
    "Below we'll walk through the process of building and running a drug discovery workflow explaining concepts in the Rush SDK, where we prepare a protein and ligand for molecular dynamics simulation, run the molecular dynamics and perform a mmpbsa energy calculation."
   ]
  },
  {
   "cell_type": "markdown",
   "id": "8ced1895",
   "metadata": {},
   "source": [
    "First, install the following modules via pip - we require Python > 3.9. Only `rush-py` is neccessary for interacting with the api, but we use additional packages in this notebook for fetching and visualizing data.\n",
    "```\n",
    "pip install rush-py pdb-tools py3Dmol requests\n",
    "```"
   ]
  },
  {
   "cell_type": "markdown",
   "id": "b314f061",
   "metadata": {},
   "source": [
    "# 0) Setup\n",
    "This is where we prepare the rush client, directories, and input data we'll be working with"
   ]
  },
  {
   "cell_type": "markdown",
   "id": "3aa271da",
   "metadata": {},
   "source": [
    "## 0.0) Imports"
   ]
  },
  {
   "cell_type": "code",
   "execution_count": null,
   "id": "3f9cdea8",
   "metadata": {},
   "outputs": [],
   "source": [
    "import os\n",
    "import tarfile\n",
    "from datetime import datetime\n",
    "from pathlib import Path\n",
    "\n",
    "from pdbtools import (\n",
    "    pdb_fetch,\n",
    "    pdb_delhetatm,\n",
    "    pdb_selchain,\n",
    "    pdb_rplresname,\n",
    "    pdb_keepcoord,\n",
    "    pdb_selresname,\n",
    ")\n",
    "import py3Dmol\n",
    "\n",
    "import rush"
   ]
  },
  {
   "cell_type": "markdown",
   "id": "0e170661",
   "metadata": {},
   "source": [
    "## 0.1) Credentials\n",
    "Retrieve your api token from the [Rush UI](https://rush.qdx.co/dashboard/settings).\n",
    "\n",
    "You can either set the RUSH_TOKEN and RUSH_URL environment variables, or provide them as variables to the client directly.\n",
    "\n",
    "To see how to set environment variables, [Wikipedia](https://en.wikipedia.org/wiki/Environment_variable) has an extensive article"
   ]
  },
  {
   "cell_type": "code",
   "execution_count": null,
   "id": "aebb46dd",
   "metadata": {},
   "outputs": [],
   "source": [
    "RUSH_TOKEN = os.getenv(\"RUSH_TOKEN\") or \"YOUR_TOKEN_HERE\"\n",
    "RUSH_URL = os.getenv(\"RUSH_URL\") or \"https://tengu.qdx.ai\""
   ]
  },
  {
   "cell_type": "markdown",
   "id": "bac0cc4a",
   "metadata": {},
   "source": [
    "## 0.2) Configuration\n",
    "Lets set some global variables that define our project, these are not required, but are good practice to help organize the jobs that will be persisted under your account.\n",
    "\n",
    "Make sure you create a unique set of tags for each run.\n",
    "Good practice is to have at least each of the experiment name and system name as a tag."
   ]
  },
  {
   "cell_type": "code",
   "execution_count": null,
   "id": "0d5dee70",
   "metadata": {},
   "outputs": [],
   "source": [
    "EXPERIMENT = \"rush-py-v2-explainer\"\n",
    "SYSTEM = \"1B39\"\n",
    "LIGAND = \"ATP\"\n",
    "TAGS = [\"qdx\", EXPERIMENT, SYSTEM, LIGAND]"
   ]
  },
  {
   "cell_type": "code",
   "execution_count": null,
   "id": "c7ea6709",
   "metadata": {},
   "outputs": [],
   "source": [
    "# |hide\n",
    "# Users won't generally create a workspace\n",
    "# We nuke to ensure run is reproducable\n",
    "WORK_DIR = Path.home() / \"qdx\" / EXPERIMENT\n",
    "\n",
    "if WORK_DIR.exists():\n",
    "    client = rush.build_blocking_provider_with_functions()\n",
    "    client.nuke(remote=False)\n",
    "import os\n",
    "\n",
    "os.makedirs(WORK_DIR, exist_ok=True)"
   ]
  },
  {
   "cell_type": "markdown",
   "id": "c7c74ce2",
   "metadata": {},
   "source": [
    "## 0.3) Build your client\n",
    "Get our client, for calling modules and using the Rush API.\n",
    "\n",
    "As mentioned earlier access_token and url are optional, if you have set the env variables RUSH_TOKEN and RUSH_URL.\n",
    "\n",
    "`batch_tags` will be applied to each run that is spawned by this client.\n",
    "\n",
    "A folder called `.rush` will be created in your workspace directory (defaults to the current working directory, can be overridden by passing `workspace=` to the provider builder"
   ]
  },
  {
   "cell_type": "code",
   "execution_count": null,
   "id": "3e87b644",
   "metadata": {},
   "outputs": [],
   "source": [
    "# By using the `build_provider_with_functions` method,\n",
    "# we will also build helper functions calling each module\n",
    "client = rush.build_blocking_provider_with_functions(\n",
    "    access_token=RUSH_TOKEN, url=RUSH_URL, batch_tags=TAGS\n",
    ")"
   ]
  },
  {
   "cell_type": "markdown",
   "id": "f05d4e8f",
   "metadata": {},
   "source": [
    "## 0.5) Input selection\n",
    "Set where we want to save our inputs\n"
   ]
  },
  {
   "cell_type": "code",
   "execution_count": null,
   "id": "5be27aa7",
   "metadata": {},
   "outputs": [],
   "source": [
    "SYSTEM_PDB_PATH = client.workspace / f\"{SYSTEM}.pdb\"\n",
    "PROTEIN_PDB_PATH = client.workspace / f\"{SYSTEM}_P.pdb\"\n",
    "LIGAND_SMILES_STR = \"c1nc(c2c(n1)n(cn2)[C@H]3[C@@H]([C@@H]([C@H](O3)CO[P@@](=O)(O)O[P@](=O)(O)OP(=O)(O)O)O)O)N\"\n",
    "LIGAND_FILE_PATH = client.workspace / f\"{SYSTEM}L.smi\"\n",
    "LIGAND_PDB_PATH = client.workspace / f\"{LIGAND}_L.pdb\""
   ]
  },
  {
   "cell_type": "markdown",
   "id": "e52766f0",
   "metadata": {},
   "source": [
    "Fetch datafiles from rcsb"
   ]
  },
  {
   "cell_type": "code",
   "execution_count": null,
   "id": "4d73d28a",
   "metadata": {},
   "outputs": [],
   "source": [
    "complex = list(pdb_fetch.fetch_structure(SYSTEM))\n",
    "protein = pdb_delhetatm.remove_hetatm(pdb_selchain.select_chain(complex, \"A\"))\n",
    "# select the ATP residue\n",
    "ligand = pdb_selresname.filter_residue_by_name(complex, LIGAND)\n",
    "# we require ligands to be labelled as UNL\n",
    "ligand = pdb_rplresname.rename_residues(ligand, LIGAND, \"UNL\")\n",
    "# we don't want to repeat all of the remark / metadata that is already in the\n",
    "# protein\n",
    "ligand = pdb_keepcoord.keep_coordinates(ligand)\n",
    "# write our files to the locations defined in the config block\n",
    "with open(SYSTEM_PDB_PATH, \"w\") as f:\n",
    "    for l in complex:\n",
    "        f.write(str(l))\n",
    "with open(PROTEIN_PDB_PATH, \"w\") as f:\n",
    "    for l in protein:\n",
    "        f.write(str(l))\n",
    "with open(LIGAND_PDB_PATH, \"w\") as f:\n",
    "    for l in ligand:\n",
    "        f.write(str(l))"
   ]
  },
  {
   "cell_type": "markdown",
   "id": "bc44e02c",
   "metadata": {},
   "source": [
    "## 0.6) View rush modules\n",
    "Rush modules are \"functions\" that perform various computational chemistry tasks can be run on HPC infrastructure. We maintain multiple versions of these functions so that your scripts will stay stable over upgrades."
   ]
  },
  {
   "cell_type": "code",
   "execution_count": null,
   "id": "c41f5cb4",
   "metadata": {},
   "outputs": [],
   "source": [
    "# Get our latest modules as a dict[module_name, module_path]\n",
    "# If a lock file exists, load it so that the run is reproducible\n",
    "# This will be done automatically if you use the `build_provider_with_functions`\n",
    "# method\n",
    "modules = client.get_latest_module_paths_blocking()"
   ]
  },
  {
   "cell_type": "code",
   "execution_count": null,
   "id": "816343a8",
   "metadata": {},
   "outputs": [],
   "source": [
    "module_name = \"hermes_energy\"\n",
    "module_path = modules[module_name]\n",
    "print(module_path)"
   ]
  },
  {
   "cell_type": "markdown",
   "id": "1cbc6f1b",
   "metadata": {},
   "source": [
    "  - `module_name` is a descriptive string and indicates the \"function\" the module is calling;\n",
    "  - `module_path` is a versioned rush \"endpoint\" for a module accessible via the client.\n",
    "\n",
    "Using the same `module_path` string across multiple runs provides reproducibility."
   ]
  },
  {
   "cell_type": "markdown",
   "id": "9ada0466",
   "metadata": {},
   "source": [
    "## 0.6) Use module functions\n",
    "Next, we'll use helper functions for the modules that we've fetched"
   ]
  },
  {
   "cell_type": "markdown",
   "id": "d02c5788",
   "metadata": {},
   "source": [
    "If we have built a provider with functions, we can use the python `help()` function to describe their usage.\n",
    "\n",
    "The QDX Type Description is a standard type definition across multiple programing languages to assist in interoperablility.\n",
    "@ indicates that the type is stored in a file, which will be synced to cloud storage"
   ]
  },
  {
   "cell_type": "code",
   "execution_count": null,
   "id": "4e5cc917",
   "metadata": {},
   "outputs": [],
   "source": [
    "help(client.convert)"
   ]
  },
  {
   "cell_type": "markdown",
   "id": "35c44069",
   "metadata": {},
   "source": [
    "# 1) Running Rush Modules\n",
    "Below we'll call modules using the functions created on the client.\n",
    "\n",
    "The parameters to a rush module function would look like the following\n",
    "\n",
    "  - `*args`: The values or ids passed to the :\n",
    "    1. For @Objects -  A `pathlib.Path` or a file-like object like `BufferedReader`, `FileIO`, `StringIO` etc.:\n",
    "         Loads the data in the file as an argument.\n",
    "         **NOTE**: The uploaded value isn't just the string of the file,\n",
    "         so don't pass the string directly; pass the path or wrap in StringIO.\n",
    "    2. An rush `Provider.Argument` or `ArgId` returned by a previous call to a rush module via `client.[some_module_name]()`:\n",
    "         The `ArgId` type wraps data for use within rush. It may refer to an object already\n",
    "         uploaded to rush storage, such as outputs of other run calls.\n",
    "         See below for more details. It's easier to understand when you see an example.\n",
    "    3. A parameter, i.e. a value of any other type, including `None`:\n",
    "         Ensure the values match what is outlined in the *args list\n",
    "  - **kwargs\n",
    "      - `target`: The machine we want to run on (eg. `BULLET` for a cluster, `GADI` for a supercomputer).\n",
    "      - `resources`: The resources to use on the target. The most commonly provided being `{\"gpus\": n, \"storage\": storage_in_units, \"storage_units\": \"B\" | \"MB\" | \"GB\", \"walltime\": mins}`.\n",
    "      - `tags`: Tags to associate with our run, so we can easily look up our runs. They will be populated by the `batch_tags` passed to                 the cleint on constructionby default\n",
    "      - `restore`: If this is set to True - the function will check if a single module_instance exists for the same version of the                          function with the same tags, and return that instead of re-running.\n",
    "\n",
    "The return value is a list of `Provider.Arguments`. You can wait for them to resolve by calling `await your_argument.get()`, or pass the arguments directly to subsequent functions, which will cause Rush to do the waiting for you.\n",
    "\n",
    "You can see the status of all the the jobs submitted for your workspace or session by going `client.status()`\n",
    "\n",
    "We will now demonstrate how this works in action"
   ]
  },
  {
   "cell_type": "markdown",
   "id": "4a57e08e",
   "metadata": {},
   "source": [
    "## 1.1) Input Preparation"
   ]
  },
  {
   "cell_type": "markdown",
   "id": "0e4500dd",
   "metadata": {},
   "source": [
    "### 1.1.1) Prep the protein\n",
    "First we will run the protein preparation routine (using pdbfixer and pdb2pqr internally) to prepare the protein for molecular dynamics"
   ]
  },
  {
   "cell_type": "code",
   "execution_count": null,
   "id": "ea1e5a77",
   "metadata": {},
   "outputs": [],
   "source": [
    "# we can check the arguments and outputs for prepare_protein with help()\n",
    "help(client.prepare_protein)"
   ]
  },
  {
   "cell_type": "code",
   "execution_count": null,
   "id": "8c15b0e7",
   "metadata": {},
   "outputs": [],
   "source": [
    "# Here we run the function, it will return a Provider.Arg which you can use to\n",
    "# fetch the results\n",
    "# We set restore = True so that we can restore a previous run to the same path\n",
    "# with the same tags\n",
    "prepared_protein_qdxf, prepared_protein_pdb = client.prepare_protein(\n",
    "    PROTEIN_PDB_PATH, None, None\n",
    ")\n",
    "# This initially only has the id of your result; we will show how to fetch the\n",
    "# actual value later\n",
    "print(f\"{datetime.now().time()} | Running protein prep!\")"
   ]
  },
  {
   "cell_type": "markdown",
   "id": "e6a96fb8",
   "metadata": {},
   "source": [
    "### 1.1.2) Checking results"
   ]
  },
  {
   "cell_type": "markdown",
   "id": "907f0f86",
   "metadata": {},
   "source": [
    "#### 1.1.2.1) Run statuses\n",
    "This will show the status of all of your runs"
   ]
  },
  {
   "cell_type": "code",
   "execution_count": null,
   "id": "acdfb39e",
   "metadata": {},
   "outputs": [],
   "source": [
    "client.status()"
   ]
  },
  {
   "cell_type": "markdown",
   "id": "67b77314",
   "metadata": {},
   "source": [
    "#### 1.1.2.2) Run Logs\n",
    "If any of our runs fail, we can check their logs with or view them in the Rush UI"
   ]
  },
  {
   "cell_type": "code",
   "execution_count": null,
   "id": "bbe401ac",
   "metadata": {},
   "outputs": [],
   "source": [
    "for instance_id, (status, name, count) in (client.status()).items():\n",
    "    if status.value == \"FAILED\":\n",
    "        client.logs(instance_id, \"stderr\")"
   ]
  },
  {
   "cell_type": "markdown",
   "id": "fa9ab703",
   "metadata": {},
   "source": [
    "#### 1.1.2.3) Run Values\n",
    "This will return the \"value\" of the output from the function - for files you will recieve a url that you can download, otherwise you will recieve them as python types"
   ]
  },
  {
   "cell_type": "code",
   "execution_count": null,
   "id": "60987bef",
   "metadata": {},
   "outputs": [],
   "source": [
    "prepared_protein_pdb.get()"
   ]
  },
  {
   "cell_type": "markdown",
   "id": "8092efaa",
   "metadata": {},
   "source": [
    "#### 1.1.2.4) Downloads\n",
    "We provide a utility to download files into your workspace, you can either provide a filename, which will be saved in `workspace/objects/[filename]`, or you can provide your own filepath which the client will use as-is"
   ]
  },
  {
   "cell_type": "code",
   "execution_count": null,
   "id": "497bd31b",
   "metadata": {},
   "outputs": [],
   "source": [
    "downloaded_protein_path = prepared_protein_pdb.download(\n",
    "    filename=\"01_prepared_protein.pdb\", overwrite=True\n",
    ")"
   ]
  },
  {
   "cell_type": "markdown",
   "id": "09cf20d7",
   "metadata": {},
   "source": [
    "We can read our prepared protein pdb like this"
   ]
  },
  {
   "cell_type": "code",
   "execution_count": null,
   "id": "2f0275e7",
   "metadata": {},
   "outputs": [],
   "source": [
    "with open(downloaded_protein_path, \"r\") as f:\n",
    "    print(f.readline(), \"...\")"
   ]
  },
  {
   "cell_type": "markdown",
   "id": "cbf6db93",
   "metadata": {},
   "source": [
    "You should visualize your prepared protein to spot check any incorrectly transformed residues"
   ]
  },
  {
   "cell_type": "code",
   "execution_count": null,
   "id": "f3e5d679",
   "metadata": {},
   "outputs": [],
   "source": [
    "view = py3Dmol.view()\n",
    "with open(client.workspace / \"objects\" / \"01_prepared_protein.pdb\", \"r\") as f:\n",
    "    view.addModel(f.read(), \"pdb\")\n",
    "    view.setStyle({\"cartoon\": {\"color\": \"spectrum\"}})\n",
    "    view.zoomTo()\n",
    "    view.show()"
   ]
  },
  {
   "cell_type": "markdown",
   "id": "7870404b",
   "metadata": {},
   "source": [
    "### 1.1.3) Prep the ligand\n",
    "Next we will prepare the ligand (using auto3d internally)"
   ]
  },
  {
   "cell_type": "code",
   "execution_count": null,
   "id": "45853fea",
   "metadata": {},
   "outputs": [],
   "source": [
    "# we can check the inputs for prepare_ligand with help()\n",
    "help(client.auto3d)"
   ]
  },
  {
   "cell_type": "code",
   "execution_count": null,
   "id": "9f4c32da",
   "metadata": {},
   "outputs": [],
   "source": [
    "with open(LIGAND_FILE_PATH, \"w\") as f:\n",
    "    print(f\"{LIGAND_SMILES_STR} {LIGAND_SMILES_STR}\", file=f)\n",
    "\n",
    "# takes a path with the SMILES\n",
    "(ligand_sdf, ligand_qdxf) = client.auto3d(\n",
    "    LIGAND_FILE_PATH,\n",
    "    \"smi\",\n",
    "    {\"k\": 2, \"use_gpu\": True},\n",
    "    resources={\"gpus\": 1, \"storage\": \"5\", \"storage_units\": \"MB\"},\n",
    ")\n",
    "\n",
    "print(f\"{datetime.now().time()} | Running ligand prep!\")"
   ]
  },
  {
   "cell_type": "code",
   "execution_count": null,
   "id": "0682efd6",
   "metadata": {},
   "outputs": [],
   "source": [
    "# we can check the status again\n",
    "client.status()"
   ]
  },
  {
   "cell_type": "code",
   "execution_count": null,
   "id": "ca25048f",
   "metadata": {},
   "outputs": [],
   "source": [
    "# we can download our outputs\n",
    "ligand_sdf.download(filename=\"01_prepped_ligand.sdf\", overwrite=True)\n",
    "\n",
    "print(f\"{datetime.now().time()} | Downloaded prepped ligand!\")"
   ]
  },
  {
   "cell_type": "code",
   "execution_count": null,
   "id": "66b47dc8",
   "metadata": {},
   "outputs": [],
   "source": [
    "# we can read our outputs\n",
    "with open(client.workspace / \"objects\" / \"01_prepped_ligand.sdf\", \"r\") as f:\n",
    "    print(f.readline(), f.readline(), \"...\")"
   ]
  },
  {
   "cell_type": "markdown",
   "id": "bc0fecd2",
   "metadata": {},
   "source": [
    "## 1.2) Run GROMACS (module: gmx)\n",
    "Next we will run a molecular dynamics simulation on our protein and ligand, using gromacs (gmx)"
   ]
  },
  {
   "cell_type": "code",
   "execution_count": null,
   "id": "0dafd75f",
   "metadata": {},
   "outputs": [],
   "source": [
    "help(client.gmx)"
   ]
  },
  {
   "cell_type": "code",
   "execution_count": null,
   "id": "ba68360e",
   "metadata": {},
   "outputs": [],
   "source": [
    "import json\n",
    "import qdx_py\n",
    "\n",
    "PREPARED_LIGAND_PATH = client.workspace / \"prepared_ligand.pdb\"\n",
    "with open(ligand_qdxf.download(overwrite=True)) as f:\n",
    "    ligand_qdxf_out = json.load(f)\n",
    "prepared_ligand_str = qdx_py.conformer_to_pdb(\n",
    "    json.dumps(ligand_qdxf_out[0])\n",
    ").replace(\"LIG\", \"UNL\")\n",
    "with open(PREPARED_LIGAND_PATH, \"w\") as f:\n",
    "    f.write(prepared_ligand_str)"
   ]
  },
  {
   "cell_type": "code",
   "execution_count": null,
   "id": "74cf3165",
   "metadata": {},
   "outputs": [],
   "source": [
    "gmx_config = {\n",
    "    \"params_overrides\": {\n",
    "        \"em\": {\"nsteps\": 5000},\n",
    "        \"nvt\": {\"nsteps\": 2000},\n",
    "        \"npt\": {\"nsteps\": 2000},\n",
    "        \"md\": {\"nsteps\": 5000},\n",
    "        \"ions\": {},\n",
    "    },\n",
    "    \"num_gpus\": 0,\n",
    "    \"num_replicas\": 1,\n",
    "    \"ligand_charge\": None,\n",
    "    \"save_wets\": False,\n",
    "    \"frame_sel\": {\n",
    "        \"start_time_ps\": 0,\n",
    "        \"end_time_ps\": 10,\n",
    "        \"delta_time_ps\": 1,\n",
    "    },\n",
    "}\n",
    "# we pass the outputs from our prior runs directly, instead of their values,\n",
    "# to prevent them from being re-uploaded\n",
    "_, _, gmx_static_outputs, _, gmx_dry_frames, _, _ = client.gmx(\n",
    "    None,\n",
    "    prepared_protein_pdb,\n",
    "    PREPARED_LIGAND_PATH,\n",
    "    gmx_config,\n",
    "    resources={\n",
    "        \"gpus\": 1,\n",
    "        \"storage\": 1,\n",
    "        \"storage_units\": \"GB\",\n",
    "    },\n",
    ")\n",
    "print(f\"{datetime.now().time()} | Running GROMACS simulation!\")"
   ]
  },
  {
   "cell_type": "code",
   "execution_count": null,
   "id": "ded4d6e6",
   "metadata": {},
   "outputs": [],
   "source": [
    "# we can check the status again\n",
    "client.status()"
   ]
  },
  {
   "cell_type": "code",
   "execution_count": null,
   "id": "bfbe5358",
   "metadata": {},
   "outputs": [],
   "source": [
    "print(\"Fetching gmx results\")\n",
    "\n",
    "gmx_static_outputs.download(\n",
    "    filename=\"02_gmx_static_outputs.tar.gz\", overwrite=True\n",
    ")\n",
    "gmx_dry_frames.download(filename=\"02_gmx_dry_frames.tar.gz\", overwrite=True)\n",
    "\n",
    "print(f\"{datetime.now().time()} | Downloaded GROMACS output!\")"
   ]
  },
  {
   "cell_type": "code",
   "execution_count": null,
   "id": "c7d17e5a",
   "metadata": {},
   "outputs": [],
   "source": [
    "# Extract the \"dry\" (i.e. non-solvated) pdb frames we asked for\n",
    "with tarfile.open(\n",
    "    client.workspace / \"objects\" / \"02_gmx_dry_frames.tar.gz\", \"r\"\n",
    ") as tf:\n",
    "    selected_frame_pdbs = [\n",
    "        tf.extractfile(member).read()\n",
    "        for member in tf\n",
    "        if \"pdb\" in member.name and member.isfile()\n",
    "    ]\n",
    "    for i, frame in enumerate(selected_frame_pdbs):\n",
    "        with open(\n",
    "            client.workspace / \"objects\" / f\"02_gmx_output_frame_{i}.pdb\", \"w\"\n",
    "        ) as pf:\n",
    "            print(frame.decode(\"utf-8\"), file=pf)"
   ]
  },
  {
   "cell_type": "code",
   "execution_count": null,
   "id": "d0d4f177",
   "metadata": {},
   "outputs": [],
   "source": [
    "# Extract the ligand.gro file\n",
    "with tarfile.open(\n",
    "    client.workspace / \"objects\" / \"02_gmx_static_outputs.tar.gz\", \"r\"\n",
    ") as tf:\n",
    "    gro = [\n",
    "        tf.extractfile(member).read()\n",
    "        for member in tf\n",
    "        if \"md.ligand_in.0.gro\" in member.name\n",
    "    ][0]\n",
    "    with open(client.workspace / \"objects\" / f\"md.ligand_in.0.gro\", \"w\") as pf:\n",
    "        print(gro.decode(\"utf-8\"), file=pf)"
   ]
  },
  {
   "cell_type": "code",
   "execution_count": null,
   "id": "763b7ca5",
   "metadata": {},
   "outputs": [],
   "source": [
    "(client.workspace / \"objects\" / f\"md.ligand_in.0.gro\").read_text()[0:50]"
   ]
  },
  {
   "cell_type": "code",
   "execution_count": null,
   "id": "7b1cec48",
   "metadata": {},
   "outputs": [],
   "source": []
  }
 ],
 "metadata": {
  "kernelspec": {
   "display_name": "python3",
   "language": "python",
   "name": "python3"
  }
 },
 "nbformat": 4,
 "nbformat_minor": 5
}