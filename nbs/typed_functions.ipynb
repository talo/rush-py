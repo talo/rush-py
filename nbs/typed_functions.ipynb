{
 "cells": [
  {
   "cell_type": "markdown",
   "id": "e8802c73-ef10-4e9a-b7f6-fa98720c3e4c",
   "metadata": {},
   "source": [
    "# Tengu-py with typed functions\n",
    "\n",
    "As our api is strongly typed, we can generate rich python functions to make pipeline development easier and catch input errors faster"
   ]
  },
  {
   "cell_type": "code",
   "execution_count": null,
   "id": "f660d745-2db1-4302-9a82-a179de2e78d2",
   "metadata": {},
   "outputs": [],
   "source": [
    "import pathlib\n",
    "import tengu\n",
    "import os"
   ]
  },
  {
   "cell_type": "code",
   "execution_count": null,
   "id": "2c094aa6-deed-4c9c-bd13-d02877a777cc",
   "metadata": {},
   "outputs": [],
   "source": [
    "# Set our token - ensure you have exported TENGU_TOKEN in your shell; or just replace the os.getenv with your token\n",
    "TOKEN = os.getenv(\"TENGU_TOKEN\")\n",
    "URL = os.getenv(\"TENGU_URL\")"
   ]
  },
  {
   "cell_type": "code",
   "execution_count": null,
   "id": "dcd95d50-0554-412b-aecf-a3d04848fbe5",
   "metadata": {},
   "outputs": [],
   "source": [
    "client = tengu.Provider(TOKEN, URL)"
   ]
  },
  {
   "cell_type": "code",
   "execution_count": null,
   "id": "cbaea7e6-81f0-47fa-aefd-656385818df8",
   "metadata": {},
   "outputs": [
    {
     "data": {
      "text/plain": [
       "2"
      ]
     },
     "execution_count": null,
     "metadata": {},
     "output_type": "execute_result"
    }
   ],
   "source": [
    "m = []\n",
    "async for i in await client.latest_modules():\n",
    "    m.append(i)\n",
    "len(m)"
   ]
  },
  {
   "cell_type": "code",
   "execution_count": null,
   "id": "7a43fb40-cf62-42e7-b491-88cdb7ec7274",
   "metadata": {},
   "outputs": [
    {
     "ename": "AttributeError",
     "evalue": "'list' object has no attribute 'ins'",
     "output_type": "error",
     "traceback": [
      "\u001b[0;31m---------------------------------------------------------------------------\u001b[0m",
      "\u001b[0;31mAttributeError\u001b[0m                            Traceback (most recent call last)",
      "Cell \u001b[0;32mIn[7], line 1\u001b[0m\n\u001b[0;32m----> 1\u001b[0m fns \u001b[38;5;241m=\u001b[39m \u001b[38;5;28;01mawait\u001b[39;00m client\u001b[38;5;241m.\u001b[39mget_module_functions(names\u001b[38;5;241m=\u001b[39m[\u001b[38;5;124m\"\u001b[39m\u001b[38;5;124mgmx_tengu_pdb\u001b[39m\u001b[38;5;124m\"\u001b[39m])\n",
      "File \u001b[0;32m~/Programming/tengu-py/tengu/provider.py:332\u001b[0m, in \u001b[0;36mBaseProvider.get_module_functions\u001b[0;34m(self, names, lockfile)\u001b[0m\n\u001b[1;32m    329\u001b[0m     module_pages \u001b[38;5;241m=\u001b[39m \u001b[38;5;28;01mawait\u001b[39;00m \u001b[38;5;28mself\u001b[39m\u001b[38;5;241m.\u001b[39mlatest_modules(names\u001b[38;5;241m=\u001b[39mnames)\n\u001b[1;32m    331\u001b[0m \u001b[38;5;28;01masync\u001b[39;00m \u001b[38;5;28;01mfor\u001b[39;00m module \u001b[38;5;129;01min\u001b[39;00m module_pages:\n\u001b[0;32m--> 332\u001b[0m     in_types \u001b[38;5;241m=\u001b[39m [type_from_typedef(i) \u001b[38;5;28;01mfor\u001b[39;00m i \u001b[38;5;129;01min\u001b[39;00m \u001b[43mmodule\u001b[49m\u001b[38;5;241;43m.\u001b[39;49m\u001b[43mins\u001b[49m]\n\u001b[1;32m    333\u001b[0m     out_types \u001b[38;5;241m=\u001b[39m [type_from_typedef(i) \u001b[38;5;28;01mfor\u001b[39;00m i \u001b[38;5;129;01min\u001b[39;00m module\u001b[38;5;241m.\u001b[39mouts]\n\u001b[1;32m    335\u001b[0m     typechecker \u001b[38;5;241m=\u001b[39m build_typechecker(\u001b[38;5;241m*\u001b[39min_types)\n",
      "\u001b[0;31mAttributeError\u001b[0m: 'list' object has no attribute 'ins'"
     ]
    }
   ],
   "source": [
    "fns = await client.get_module_functions(names=[\"gmx_tengu_pdb\"])"
   ]
  },
  {
   "cell_type": "code",
   "execution_count": null,
   "id": "cbe37545-1901-4963-a87f-2ac07bc58939",
   "metadata": {},
   "outputs": [
    {
     "ename": "AttributeError",
     "evalue": "'Provider' object has no attribute 'gmx_tengu_pdb'",
     "output_type": "error",
     "traceback": [
      "\u001b[0;31m---------------------------------------------------------------------------\u001b[0m",
      "\u001b[0;31mAttributeError\u001b[0m                            Traceback (most recent call last)",
      "Cell \u001b[0;32mIn[5], line 1\u001b[0m\n\u001b[0;32m----> 1\u001b[0m help(\u001b[43mclient\u001b[49m\u001b[38;5;241;43m.\u001b[39;49m\u001b[43mgmx_tengu_pdb\u001b[49m)\n",
      "\u001b[0;31mAttributeError\u001b[0m: 'Provider' object has no attribute 'gmx_tengu_pdb'"
     ]
    }
   ],
   "source": [
    "help(client.gmx_tengu_pdb)"
   ]
  },
  {
   "cell_type": "code",
   "execution_count": null,
   "id": "8e10d8d9-b85b-416d-a528-e8ba9abfd986",
   "metadata": {},
   "outputs": [
    {
     "name": "stdout",
     "output_type": "stream",
     "text": [
      "Help on function runner in module tengu.api:\n",
      "\n",
      "runner(*args: [<class 'pathlib.Path'>, list[pathlib.Path] | None, dict[str, typing.Any]], target: Literal['GADI', 'NIX', 'NIX_SSH', 'NIX_SSH_2', 'SETONIX'], resources: dict[str, typing.Any] | None = None, tags: list[str] | None = None) -> [<class 'pathlib.Path'>, <class 'pathlib.Path'>, <class 'pathlib.Path'>, list[pathlib.Path] | None, <class 'pathlib.Path'>]\n",
      "    Runs a molecular dynamics simluation using GROMACS from protein and ligand pdbs as inputs\n",
      "    \n",
      "    protein: @bytes; ligand: @bytes?; gmx-config: {frame_sel:{begin_time:u32,delta_time:u32,end_time:u32}?,ligand_charge:i8?,num_gpus:u8,num_replicas:u8?,param_overrides:{em:[(string,string)],ions:[(string,string)],md:[(string,string)],npt:[(string,string)],nvt:[(string,string)]}} -> ouput_folder: @bytes; dry_frames: @bytes; wet_frames: @bytes; lig_gro: @bytes?; xtcs: @bytes\n",
      "    :param protein: Protein PDB file\n",
      "    :param ligand: Ligand PDB file\n",
      "    :param gmx-config: Configuration record\n",
      "    :return ouput_folder: tar.gz Compressed full GROMACS output folder, containing dry.xtc, dry frames, wet frames, gro of ligand etc.\n",
      "    :return dry_frames: tar.gz of dry pdb frames\n",
      "    :return wet_frames: tar.gz of wet pdb frames\n",
      "    :return lig_gro: tar.gz of ligand gro\n",
      "    :return xtcs: tar.gz of xtc files\n",
      "\n"
     ]
    }
   ],
   "source": [
    "help(fns[\"gmx_tengu_pdb\"])"
   ]
  },
  {
   "cell_type": "code",
   "execution_count": null,
   "id": "8be15231-02ce-4b77-a363-aefc42ff5ab8",
   "metadata": {},
   "outputs": [],
   "source": [
    "molecular_dynamics = fns[\"gmx_tengu_pdb\"]"
   ]
  },
  {
   "cell_type": "code",
   "execution_count": null,
   "id": "556c22b1-3a5d-401c-ada4-9fc5ca8aa17b",
   "metadata": {},
   "outputs": [],
   "source": [
    "run = molecular_dynamics(\n",
    "    pathlib.Path(\"/home/machineer/qdx/tengu-py-demo/test_P.pdb\"),\n",
    "    pathlib.Path(\"/home/machineer/qdx/tengu-py-demo/test_L.pdb\"),\n",
    "    {\"frame_sel\": None, \n",
    "     \"num_gpus\": 0, \n",
    "     \"num_replicas\":None, \n",
    "     \"ligand_charge\":None, \n",
    "     \"param_overrides\": { \n",
    "         \"em\": [(\"nsteps\", \"1000\")], \n",
    "         \"ions\": [(\"nsteps\", \"1000\")], \n",
    "         \"nvt\": [(\"nsteps\", \"1000\")], \n",
    "         \"md\": [(\"nsteps\", \"1000\")], \n",
    "         \"npt\": [(\"nsteps\", \"1000\")]}\n",
    "    },\n",
    "    resources = {\"storage\": 1000000 }, target=\"GADI\")"
   ]
  },
  {
   "cell_type": "code",
   "execution_count": null,
   "id": "222e9c82-cd45-4dd8-91fb-500ca369a958",
   "metadata": {},
   "outputs": [
    {
     "name": "stdout",
     "output_type": "stream",
     "text": [
      "e205dffa-77f1-4ef5-9b88-8a7a30e99536\n"
     ]
    }
   ],
   "source": [
    "print(run[\"module_instance_id\"])"
   ]
  }
 ],
 "metadata": {
  "kernelspec": {
   "display_name": "python3",
   "language": "python",
   "name": "python3"
  }
 },
 "nbformat": 4,
 "nbformat_minor": 5
}
