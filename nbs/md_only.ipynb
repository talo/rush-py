{
 "cells": [
  {
   "cell_type": "markdown",
   "id": "98a95461-2ac2-42bf-9360-747d20cfd856",
   "metadata": {},
   "source": [
    "# GMX MD + MMPBSA\n",
    "## First import dependencies"
   ]
  },
  {
   "cell_type": "code",
   "execution_count": null,
   "id": "1dccc467-6a27-49ea-a27e-494dbed01c2f",
   "metadata": {},
   "outputs": [],
   "source": [
    "import json\n",
    "import os\n",
    "import sys\n",
    "import tarfile\n",
    "\n",
    "from datetime import datetime\n",
    "from pathlib import Path\n",
    "\n",
    "import tengu"
   ]
  },
  {
   "cell_type": "markdown",
   "id": "42682f0a-0d50-4829-b549-bb2603fa6e3e",
   "metadata": {},
   "source": [
    "## Set our token"
   ]
  },
  {
   "cell_type": "code",
   "execution_count": null,
   "id": "aea98d86-b99e-4475-ba1c-37a5934c592c",
   "metadata": {},
   "outputs": [],
   "source": [
    "# Set our token - ensure you have exported TENGU_TOKEN in your shell; or just replace the os.getenv with your token\n",
    "TOKEN = os.getenv(\"TENGU_TOKEN\")"
   ]
  },
  {
   "cell_type": "markdown",
   "id": "0cbd9dbf-55b9-46d2-9032-a13d74be834f",
   "metadata": {},
   "source": [
    "## Set up our working directory and shared configuration"
   ]
  },
  {
   "cell_type": "code",
   "execution_count": null,
   "id": "0067abfc-cc95-4f7f-961f-9701882f320e",
   "metadata": {},
   "outputs": [],
   "source": [
    "# Define our project information\n",
    "DESCRIPTION = \"tengu-py demo notebook\"\n",
    "TAGS = [\"md_only\", \"tengu-py\", \"demo\"]\n",
    "WORK_DIR = Path.home() / \"qdx\" / \"tengu-py-md-demo\"\n",
    "OUT_DIR = WORK_DIR / \"runs\"\n",
    "OUT_DIR.mkdir(parents=True, exist_ok=True)\n",
    "\n",
    "# Set our inputs - unsure ligand residue is UNL\n",
    "SYSTEM_PDB_PATH = WORK_DIR / \"test.pdb\"\n",
    "PROTEIN_PDB_PATH = WORK_DIR / \"test_P.pdb\"\n",
    "LIGAND_PDB_PATH = WORK_DIR / \"test_L.pdb\"\n",
    "NUM_GPUS=0"
   ]
  },
  {
   "cell_type": "code",
   "execution_count": null,
   "id": "4aecd082-1a58-4985-9c7c-4748cfec415d",
   "metadata": {},
   "outputs": [],
   "source": [
    "# fetch datafiles\n",
    "complex = list(pdb_keepcoord.keep_coordinates(pdb_fetch.fetch_structure(\"3HTB\")))\n",
    "protein = pdb_delhetatm.remove_hetatm(pdb_selchain.select_chain(complex, \"A\"))\n",
    "ligand = pdb_rplresname.rename_residues(pdb_selresname.filter_residue_by_name(complex, \"JZ4\"), \"JZ4\", \"UNL\")\n",
    "with open(SYSTEM_PDB_PATH, 'w') as f:\n",
    "    for l in complex:\n",
    "        f.write(str(l))\n",
    "with open(PROTEIN_PDB_PATH, 'w') as f:\n",
    "    for l in protein:\n",
    "        f.write(str(l))\n",
    "with open(LIGAND_PDB_PATH, 'w') as f:\n",
    "    for l in ligand:\n",
    "        f.write(str(l))        "
   ]
  },
  {
   "cell_type": "markdown",
   "id": "c9041eab-3cfb-4802-b756-82a6c4efee30",
   "metadata": {},
   "source": [
    "## Initialize our tengu client and fetch available module paths"
   ]
  },
  {
   "cell_type": "code",
   "execution_count": null,
   "id": "19c716d2-36c2-493b-bc52-9c73576ad8cf",
   "metadata": {},
   "outputs": [],
   "source": [
    "# Get our client, for calling modules and using the tengu API\n",
    "client = tengu.Provider(access_token=TOKEN)"
   ]
  },
  {
   "cell_type": "code",
   "execution_count": null,
   "id": "8ed80133-6d5e-4f6e-8063-3edcf8408171",
   "metadata": {},
   "outputs": [],
   "source": [
    "# Get our latest modules as a dict[module_name, module_path]\n",
    "modules = client.get_latest_module_paths()"
   ]
  },
  {
   "cell_type": "markdown",
   "id": "8c15f03b-9c58-4264-9826-aee12f4b6f57",
   "metadata": {},
   "source": [
    "## Run gromacs on Gadi"
   ]
  },
  {
   "cell_type": "code",
   "execution_count": null,
   "id": "563fb3e9-db86-4b51-93e5-17f4f05088e6",
   "metadata": {},
   "outputs": [],
   "source": [
    "gmx_config = {\n",
    "    \"param_overrides\": {\n",
    "        \"md\": [(\"nsteps\", \"5000\")],\n",
    "        \"em\": [(\"nsteps\", \"1000\")],\n",
    "        \"nvt\": [(\"nsteps\", \"1000\")],\n",
    "        \"npt\": [(\"nsteps\", \"1000\")],\n",
    "        \"ions\": [],\n",
    "    },\n",
    "    \"num_gpus\": NUM_GPUS,\n",
    "    \"num_replicas\": 1,\n",
    "    \"ligand_charge\": None,\n",
    "    \"frame_sel\": {\n",
    "       \"begin_time\": 1,\n",
    "       \"delta_time\": 1,\n",
    "        \"end_time\": 2\n",
    "    },  \n",
    "}\n",
    "gmx_result = client.run2(\n",
    "    modules[\"gmx_tengu_pdb\"],\n",
    "    [\n",
    "        PROTEIN_PDB_PATH,\n",
    "        LIGAND_PDB_PATH,\n",
    "        gmx_config,\n",
    "    ],\n",
    "    target=\"GADI\",\n",
    "    resources={\"gpus\": NUM_GPUS, \"storage\": 1_024_000_000, \"walltime\": 60},\n",
    "    tags=TAGS,\n",
    ")\n",
    "gmx_run_id = gmx_result[\"module_instance_id\"]\n",
    "gmx_output_id = gmx_result[\"output_ids\"][0]\n",
    "gmx_ligand_gro_id = gmx_result[\"output_ids\"][3]\n",
    "print(f\"{datetime.now().time()} | Running GROMACS simulation!\")"
   ]
  },
  {
   "cell_type": "markdown",
   "id": "b4695a52-f1a3-4c2b-99d8-785ae4c143e0",
   "metadata": {},
   "source": [
    "## Save run details"
   ]
  },
  {
   "cell_type": "code",
   "execution_count": null,
   "id": "7b233546-752b-4f07-995b-0f883303aed4",
   "metadata": {},
   "outputs": [],
   "source": [
    "with open(OUT_DIR / f\"02-gmx-{gmx_run_id}.json\", \"w\") as f:\n",
    "    json.dump(gmx_result, f, default=str, indent=2)"
   ]
  },
  {
   "cell_type": "markdown",
   "id": "c05763eb-ec42-4329-a652-e4e58d34a259",
   "metadata": {},
   "source": [
    "## Wait for module to complete and download results"
   ]
  },
  {
   "cell_type": "code",
   "execution_count": null,
   "id": "19dff0ff-8bc2-4e15-86fe-faddccde9ece",
   "metadata": {},
   "outputs": [],
   "source": [
    "done = client.poll_module_instance(gmx_run_id, n_retries=60, poll_rate=60)\n",
    "if done[\"status\"] != \"COMPLETED\":\n",
    "    print(\"Module instance failed!\")\n",
    "    for content in done[\"stdout\"][\"nodes\"]:\n",
    "        for line in content[\"content\"]:\n",
    "            print(line)\n",
    "    for line in [c for c in [content[\"content\"] for content in done[\"stderr\"][\"nodes\"]]]:\n",
    "        for line in line:\n",
    "            print(line)\n",
    "else: \n",
    "    client.download_object(gmx_output_id, OUT_DIR / \"02-gmx-output.zip\")\n",
    "    # Get the \"dry\" (i.e. non-solvated) frames we asked for\n",
    "    with tarfile.open(OUT_DIR / \"02-gmx-output.tar.gz\", \"r\") as tf:\n",
    "        selected_frame_pdbs = [\n",
    "            tf.extractfile(member)\n",
    "            for member in sorted(tf, key=lambda m: m.name)\n",
    "            if (\"dry\" in member.name and \"pdb\" in member.name)\n",
    "        ]\n",
    "    client.download_object(gmx_ligand_gro_id, OUT_DIR / \"02-gmx-ligand.gro\")\n",
    "    print(f\"{datetime.now().time()} | Downloaded GROMACS output!\")"
   ]
  },
  {
   "cell_type": "markdown",
   "id": "a97aa394-793c-4ff6-8273-0a8183ea7e67",
   "metadata": {},
   "source": [
    "## Run MMPBSA on Gadi, using GMX outputs"
   ]
  },
  {
   "cell_type": "code",
   "execution_count": null,
   "id": "662e0e1e-41ef-4793-8a85-61f3c338b978",
   "metadata": {},
   "outputs": [],
   "source": [
    "mmpbsa_config = [\n",
    "    401,  # start frame\n",
    "    901,  # end frame\n",
    "    None,  # optional argument for overriding raw GROMACS parameters\n",
    "    12,  # num_cpus\n",
    "]\n",
    "mmpbsa_result = client.run2(\n",
    "    modules[\"gmx_mmpbsa_tengu\"],\n",
    "    [\n",
    "        gmx_output_id,\n",
    "        *mmpbsa_config,\n",
    "    ],\n",
    "    target=\"GADI\",\n",
    "    resources={\"storage\": 1_024_000_000, \"walltime\": 600},\n",
    "    tags=TAGS,\n",
    ")\n",
    "mmpbsa_run_id = mmpbsa_result[\"module_instance_id\"]\n",
    "mmpbsa_output_id = mmpbsa_result[\"output_ids\"][0]\n",
    "print(f\"{datetime.now().time()} | Running GROMACS MM-PBSA calculation!\")"
   ]
  },
  {
   "cell_type": "markdown",
   "id": "eb9fd89f-d961-44d2-8f8b-f9f92598d49a",
   "metadata": {},
   "source": [
    "## Save run details"
   ]
  },
  {
   "cell_type": "code",
   "execution_count": null,
   "id": "d8835a80-951a-4e29-8e9f-8ac89745ba9e",
   "metadata": {},
   "outputs": [],
   "source": [
    "with open(OUT_DIR / f\"03-mmpbsa-{mmpbsa_run_id}.json\", \"w\") as f:\n",
    "    json.dump(mmpbsa_result, f, default=str, indent=2)"
   ]
  },
  {
   "cell_type": "markdown",
   "id": "9813f311-8d9e-41ca-a683-a773804869d8",
   "metadata": {},
   "source": [
    "## Wait for module to complete and download results"
   ]
  },
  {
   "cell_type": "code",
   "execution_count": null,
   "id": "4513f0c6-a269-44d6-bb6f-f1e7d7743dfd",
   "metadata": {},
   "outputs": [],
   "source": [
    "client.poll_module_instance(mmpbsa_run_id)\n",
    "client.download_object(mmpbsa_output_id, OUT_DIR / \"03-mmpbsa-output.tar.gz\")\n",
    "print(f\"{datetime.now().time()} | Downloaded MM-PBSA results!\")"
   ]
  }
 ],
 "metadata": {
  "kernelspec": {
   "display_name": "python3",
   "language": "python",
   "name": "python3"
  }
 },
 "nbformat": 4,
 "nbformat_minor": 5
}
