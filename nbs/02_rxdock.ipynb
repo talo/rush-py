{
 "cells": [
  {
   "cell_type": "markdown",
   "id": "dd663e5c-c4c1-4b34-ad75-adfb20d62dc4",
   "metadata": {},
   "source": [
    "# RxDock Module\n",
    "\n",
    "This workflow incorporates **[RxDock](https://rxdock.gitlab.io)** as the docking software, providing an efficient and flexible approach to structure-based drug discovery. rDock is an open-source docking program designed for high-throughput virtual screening and molecular docking, supporting both rigid and flexible docking protocols.\n",
    "\n",
    "## Functionality\n",
    "\n",
    "1. **Defining the Docking Grid**  \n",
    "   - RxDock requires a docking grid definition, which can be set based on known ligand positions or predicted binding sites.\n",
    "\n",
    "3. **Docking with RxDock**  \n",
    "   - The docking process accounts for ligand flexibility and different scoring functions to evaluate binding affinity.\n",
    "\n",
    "4. **Post-Processing and Analysis**  \n",
    "   - Docked poses are filtered and ranked based on their docking scores.  \n",
    "   - The best-scoring ligand conformations are selected for further analysis or downstream simulations.\n"
   ]
  },
  {
   "cell_type": "code",
   "execution_count": null,
   "id": "8511e519-d815-481f-a9c0-f78ec6c240ce",
   "metadata": {},
   "outputs": [],
   "source": [
    "from rush import build_blocking_provider"
   ]
  },
  {
   "cell_type": "code",
   "execution_count": null,
   "id": "8fd4995b",
   "metadata": {},
   "outputs": [],
   "source": [
    "# |hide\n",
    "# hidden setup for the notebook\n",
    "import os\n",
    "import pathlib\n",
    "\n",
    "WORK_DIR = pathlib.Path(\"~/qdx/benchmark_notebook\").expanduser()\n",
    "if WORK_DIR.exists():\n",
    "    !rm -r $WORK_DIR\n",
    "os.makedirs(WORK_DIR, exist_ok=True)\n",
    "# swap into clean workdir so that our tests are deterministic\n",
    "os.chdir(WORK_DIR)\n",
    "PUT_YOUR_TOKEN_HERE = os.environ[\"RUSH_TOKEN\"]\n",
    "PUT_YOUR_PREFERRED_WORKING_DIRECTORY_HERE = WORK_DIR\n",
    "os.environ[\"RUSH_RESTORE_BY_DEFAULT\"] = \"False\""
   ]
  },
  {
   "cell_type": "code",
   "execution_count": null,
   "id": "8820614c",
   "metadata": {},
   "outputs": [],
   "source": [
    "client = build_blocking_provider(\n",
    "    access_token=PUT_YOUR_TOKEN_HERE\n",
    "    # for example, if your token is 00000000-dddd-cccc-0000-11111111,\n",
    "    # then you should put access_token=\"00000000-dddd-cccc-0000-11111111\"\n",
    "    # (including the double quotes)\n",
    ")"
   ]
  },
  {
   "cell_type": "code",
   "execution_count": null,
   "id": "f830d7a6",
   "metadata": {},
   "outputs": [],
   "source": [
    "benchmark = client.benchmark(name=\"OpenFF CDK2 RMSD17 Benchmark\")"
   ]
  },
  {
   "cell_type": "code",
   "execution_count": 10,
   "id": "b5b980cf-2e72-4bd3-842b-aff4dbc65aaf",
   "metadata": {},
   "outputs": [],
   "source": [
    "# |hide\n",
    "from IPython.display import Markdown as md\n",
    "rex_code_above = \"\"\"\n",
    "let\n",
    "    runspec = RunSpec {\n",
    "        target = 'Bullet',\n",
    "        resources = Resources {\n",
    "            storage = some 10,\n",
    "            storage_units = some \"MB\",\n",
    "            gpus = some 1\n",
    "        }\n",
    "    },\n",
    "\n",
    "    runspec_nogpu = RunSpec {\n",
    "        target = 'Bullet',\n",
    "        resources = Resources {\n",
    "            storage = some 10,\n",
    "            storage_units = some \"MB\",\n",
    "            gpus = none\n",
    "        }\n",
    "    },\n",
    "\n",
    "    auto3d = \\\\smi ->\n",
    "        let\n",
    "            result = get 0 (auto3d_rex_s runspec { k = 1 } [smi]),\n",
    "            make_virtual_object = \\\\index ->\n",
    "                VirtualObject {\n",
    "                    path = get \"path\" (get index result),\n",
    "                    size = get \"size\" (get index result),\n",
    "                    format = \"json\"\n",
    "                }\n",
    "        in\n",
    "            (make_virtual_object 0, make_virtual_object 1),\n",
    "\n",
    "    rxdock_options = {\n",
    "            n_runs = 2,\n",
    "            radius = 8.0,\n",
    "            min_volumn = none,\n",
    "            small_sphere = none\n",
    "        },\n",
    "\n",
    "    rxdock = \\\\protein_conformer_trc -> \\\\small_molecule_conformer_tr ->\n",
    "            rxdock_rex_s runspec rxdock_options [protein_conformer_trc] [small_molecule_conformer_tr],\n",
    "\n",
    "in\n",
    "\\\\input ->\n",
    "    let\n",
    "        protein = load (id (get 0 input)) 'ProteinConformer',\n",
    "        smol_id = id (get 1 input),\n",
    "        smiles = smi (load smol_id 'Smol'),\n",
    "\n",
    "        structure = load (structure_id protein) 'Structure',\n",
    "        trc = [\n",
    "            topology structure,\n",
    "            residues structure,\n",
    "            chains structure\n",
    "        ],\n",
    "\n",
    "        smol_structure = auto3d smiles,\n",
    "\n",
    "        docked_structure = rxdock trc [smol_structure],\n",
    "\n",
    "        min_affinity =  (get \"score\" (get \"Ok\" (get 0 docked_structure))), # TODO: Does not work yet\n",
    "\n",
    "        binding_affinity = BindingAffinity {\n",
    "            affinity = min_affinity,\n",
    "            affinity_metric = 'kcal/mol',\n",
    "            protein_id = protein_id protein,\n",
    "            smol_id = smol_id,\n",
    "            metadata = Metadata {\n",
    "                name = \"blah\",\n",
    "                description = none,\n",
    "                tags = []\n",
    "            }\n",
    "        }\n",
    "    in\n",
    "        [BenchmarkArg {\n",
    "            entity = \"BindingAffinity\",\n",
    "            id = save binding_affinity\n",
    "        }]\n",
    "\"\"\""
   ]
  },
  {
   "cell_type": "code",
   "execution_count": null,
   "id": "b17604b3",
   "metadata": {},
   "outputs": [],
   "source": [
    "#| echo:false\n",
    "md(f\"```haskell{rex_code_above}```\")"
   ]
  },
  {
   "cell_type": "code",
   "execution_count": null,
   "id": "33f2e2b4",
   "metadata": {},
   "outputs": [],
   "source": [
    "submission = client.run_benchmark(\n",
    "    benchmark.id, \n",
    "    rex_code_above, \n",
    "    \"using rxdock\", \n",
    "    sample=0.2)"
   ]
  },
  {
   "cell_type": "code",
   "execution_count": null,
   "id": "7aa50bb0",
   "metadata": {},
   "outputs": [],
   "source": []
  }
 ],
 "metadata": {
  "kernelspec": {
   "display_name": "Python 3 (ipykernel)",
   "language": "python",
   "name": "python3"
  },
  "language_info": {
   "codemirror_mode": {
    "name": "ipython",
    "version": 3
   },
   "file_extension": ".py",
   "mimetype": "text/x-python",
   "name": "python",
   "nbconvert_exporter": "python",
   "pygments_lexer": "ipython3",
   "version": "3.12.5"
  }
 },
 "nbformat": 4,
 "nbformat_minor": 5
}
