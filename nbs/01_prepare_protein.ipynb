{
 "cells": [
  {
   "cell_type": "markdown",
   "id": "2b61ddb6-0d29-423a-ab5e-90255f9d5be2",
   "metadata": {},
   "source": [
    "# Prepare Protein Module"
   ]
  },
  {
   "cell_type": "markdown",
   "id": "dd663e5c-c4c1-4b34-ad75-adfb20d62dc4",
   "metadata": {},
   "source": [
    "This module is used to fill missing residues add hydrogens, and slightly optimise the structure of a protein conformer via energy minimization"
   ]
  },
  {
   "cell_type": "code",
   "execution_count": null,
   "id": "8511e519-d815-481f-a9c0-f78ec6c240ce",
   "metadata": {},
   "outputs": [],
   "source": []
  },
  {
   "cell_type": "code",
   "execution_count": 10,
   "id": "b5b980cf-2e72-4bd3-842b-aff4dbc65aaf",
   "metadata": {},
   "outputs": [],
   "source": [
    "# |hide\n",
    "from IPython.display import Markdown as md\n",
    "rex_code_above = \"\"\"\n",
    "    runspec = RunSpec {\n",
    "        target = 'Bullet',\n",
    "        resources = Resources {\n",
    "            storage = some 10,\n",
    "            storage_units = some \"MB\",\n",
    "            gpus = some 1\n",
    "        }\n",
    "    },\n",
    "\n",
    "    prepare_protein_options = {\n",
    "        truncation_threshold = some 2\n",
    "        capping_style = some 'Truncated'\n",
    "        naming_scheme = some 'Amber'\n",
    "        ph = some 7.4\n",
    "    },\n",
    "\n",
    "    prepare_protein = \\\\protein_conformer_trc -> prepare_protein_rex_s runspec prepare_protein_options protein_conformer_trc,\n",
    "\n",
    "    protein_conformer_id = id (get 0 (inputs input)),\n",
    "    protein_conformer = load protein_conformer_id 'ProteinConformer',\n",
    "    structure = load (structure_id protein_conformer) 'Structure',\n",
    "    trc = [\n",
    "        topology structure,\n",
    "        residues structure,\n",
    "        chains structure\n",
    "    ],\n",
    "\n",
    "    prepare_protein_result = prepare_protein trc,\n",
    "    make_virtual_object = \\\\index ->\n",
    "        VirtualObject {\n",
    "            path = get \"path\" (get index auto3d_result),\n",
    "            size = get \"size\" (get index auto3d_result),\n",
    "            format = \"json\"\n",
    "        },\n",
    "    topology = make_virtual_object 0,\n",
    "    residues = make_virtual_object 1,\n",
    "    chains = make_virtual_object 2,\n",
    "    prepared_trc = ( topology, residues, chains )\n",
    "\n",
    "in\n",
    "   {- consume your prepared_trc -}\n",
    "\"\"\""
   ]
  }
 ],
 "metadata": {
  "kernelspec": {
   "display_name": "Python 3 (ipykernel)",
   "language": "python",
   "name": "python3"
  },
  "language_info": {
   "codemirror_mode": {
    "name": "ipython",
    "version": 3
   },
   "file_extension": ".py",
   "mimetype": "text/x-python",
   "name": "python",
   "nbconvert_exporter": "python",
   "pygments_lexer": "ipython3",
   "version": "3.12.5"
  }
 },
 "nbformat": 4,
 "nbformat_minor": 5
}
