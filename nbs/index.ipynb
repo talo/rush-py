{
 "cells": [
  {
   "cell_type": "markdown",
   "id": "d8628687",
   "metadata": {},
   "source": [
    "# rush-py\n",
    "\n",
    "> Python SDK for the QDX Rush quantum computational chemistry workflow management system"
   ]
  },
  {
   "cell_type": "markdown",
   "id": "0d82f4c0",
   "metadata": {},
   "source": [
    "# Quickstart\n",
    "This document will walk through executing jobs on the Rush platform, by demonstrating how to prepare a protein. For a comprehensive guide on the concepts and constructing a full workflow, see the [full rush-py explainer](https://talo.github.io/rush-py/full-rush-py-explainer.html) document."
   ]
  },
  {
   "cell_type": "markdown",
   "id": "7cb2646d",
   "metadata": {},
   "source": [
    "First, install the following modules via pip—we require Python ≥ 3.9:\n",
    "```\n",
    "pip install rush-py pdb-tools\n",
    "```"
   ]
  },
  {
   "cell_type": "markdown",
   "id": "05f9fdef",
   "metadata": {},
   "source": [
    "# 0) Code Sample\n",
    "See the detailed breakdown in sections."
   ]
  },
  {
   "cell_type": "code",
   "execution_count": null,
   "id": "bbbb7a07",
   "metadata": {},
   "outputs": [],
   "source": [
    "# |hide\n",
    "import os\n",
    "from pathlib import Path\n",
    "\n",
    "YOUR_TOKEN = os.getenv(\"RUSH_TOKEN\")\n",
    "WORK_DIR = Path.home() / \"qdx\" / \"index\"\n",
    "\n",
    "os.makedirs(WORK_DIR, exist_ok=True)\n",
    "os.chdir(WORK_DIR)"
   ]
  },
  {
   "cell_type": "code",
   "execution_count": null,
   "id": "4ae8d6db",
   "metadata": {},
   "outputs": [],
   "source": [
    "# |hide\n",
    "!rm -r ./.rush"
   ]
  },
  {
   "cell_type": "code",
   "execution_count": null,
   "id": "16bc6f23",
   "metadata": {},
   "outputs": [],
   "source": [
    "# Get a pdb to work with - we use the pdb-tools cli here\n",
    "# but you can download directly from rcsb.org\n",
    "!pdb_fetch '1brs' | pdb_selchain -A | pdb_delhetatm > '1B39_A_nohet.pdb'"
   ]
  },
  {
   "cell_type": "code",
   "execution_count": null,
   "id": "64eeee9d",
   "metadata": {},
   "outputs": [
    {
     "name": "stdout",
     "output_type": "stream",
     "text": [
      "2024-04-08 17:12:28,141 - rush - INFO - Not restoring by default via default\n",
      "2024-04-08 17:12:29,451 - rush - INFO - Argument 10ef4d21-fac5-4962-973b-cf0f6e26d964 is now ModuleInstanceStatus.RESOLVING\n",
      "2024-04-08 17:12:40,388 - rush - INFO - Argument 10ef4d21-fac5-4962-973b-cf0f6e26d964 is now ModuleInstanceStatus.ADMITTED\n",
      "2024-04-08 17:12:44,734 - rush - INFO - Argument 10ef4d21-fac5-4962-973b-cf0f6e26d964 is now ModuleInstanceStatus.DISPATCHED\n",
      "2024-04-08 17:12:45,825 - rush - INFO - Argument 10ef4d21-fac5-4962-973b-cf0f6e26d964 is now ModuleInstanceStatus.RUNNING\n",
      "2024-04-08 17:12:59,570 - rush - INFO - Argument 10ef4d21-fac5-4962-973b-cf0f6e26d964 is now ModuleInstanceStatus.AWAITING_UPLOAD\n",
      "[{\"topology\": {\"version\": \"V1\", \"symbols\": [\"N\", \" ...\n"
     ]
    }
   ],
   "source": [
    "# ...import the dependencies and set your configuration\n",
    "from pathlib import Path\n",
    "import rush\n",
    "\n",
    "os.environ[\"RUSH_TOKEN\"] = YOUR_TOKEN\n",
    "\n",
    "# 1.3 Build your client\n",
    "client = rush.build_blocking_provider_with_functions()\n",
    "\n",
    "# 2.1 Prepare the protein\n",
    "prepared_protein_qdxf, prepared_protein_pdb = client.prepare_protein(\n",
    "    Path(\"1B39_A_nohet.pdb\"), None, None, tags=[\"example_prep\"]\n",
    ")\n",
    "\n",
    "# 2.3 Return run values\n",
    "print(prepared_protein_qdxf.download(overwrite=True).open().read()[0:50], \"...\")"
   ]
  },
  {
   "cell_type": "code",
   "execution_count": null,
   "id": "70ce9148",
   "metadata": {},
   "outputs": [],
   "source": [
    "# |hide\n",
    "!rm 1B39_A_nohet.pdb"
   ]
  },
  {
   "cell_type": "markdown",
   "id": "3957b22c",
   "metadata": {},
   "source": [
    "# 1) Setup\n",
    "This is where we prepare the rush client, directories, and input data we'll be working with."
   ]
  },
  {
   "cell_type": "markdown",
   "id": "facfdaf3",
   "metadata": {},
   "source": [
    "## 1.0) Imports"
   ]
  },
  {
   "cell_type": "code",
   "execution_count": null,
   "id": "596fb3ab",
   "metadata": {},
   "outputs": [],
   "source": [
    "import json\n",
    "from pathlib import Path\n",
    "\n",
    "from pdbtools import pdb_delhetatm, pdb_fetch, pdb_selchain\n",
    "\n",
    "import rush"
   ]
  },
  {
   "cell_type": "markdown",
   "id": "3ab01e89",
   "metadata": {},
   "source": [
    "## 1.1) Credentials\n",
    "Retrieve your API token from the [Rush UI](https://rush.qdx.co/dashboard/settings).\n",
    "\n",
    "You can either set the `RUSH_URL` and `RUSH_TOKEN` environment variables or provide them as variables to the client directly.\n",
    "\n",
    "To see how to set environment variables, [Wikipedia](https://en.wikipedia.org/wiki/Environment_variable) has an extensive article."
   ]
  },
  {
   "cell_type": "code",
   "execution_count": null,
   "id": "69a1b24f",
   "metadata": {},
   "outputs": [],
   "source": [
    "os.environ[\"RUSH_TOKEN\"] = YOUR_TOKEN"
   ]
  },
  {
   "cell_type": "markdown",
   "id": "3a98dd1d",
   "metadata": {},
   "source": [
    "## 1.2) Configuration\n",
    "Lets set some global variables that define our project. These are not required, but are good practice to help organize the jobs that will be persisted under your account.\n",
    "\n",
    "Make sure you create a unique set of tags for each run.\n",
    "Good practice is to have at least each of the experiment name and system name as a tag."
   ]
  },
  {
   "cell_type": "code",
   "execution_count": null,
   "id": "382793d2",
   "metadata": {},
   "outputs": [],
   "source": [
    "EXPERIMENT = \"rush-py-quickstart\"\n",
    "SYSTEM = \"1B39\"\n",
    "TAGS = [\"qdx\", EXPERIMENT, SYSTEM]"
   ]
  },
  {
   "cell_type": "code",
   "execution_count": null,
   "id": "907f18a0",
   "metadata": {},
   "outputs": [
    {
     "name": "stdout",
     "output_type": "stream",
     "text": [
      "2024-04-08 17:13:26,253 - rush - INFO - Not restoring by default via default\n",
      "2024-04-08 17:13:26,393 - rush - WARNING - Module echo has a different version on the server: github:talo/tengu-module-example/5cbcd752c614769b2e1bf18a9bc8031034e471a8#tengu_echo.\n",
      "                                Use `.update_modules()` to update the lock file\n",
      "2024-04-08 17:13:26,393 - rush - WARNING - Module spam has a different version on the server: github:talo/tengu-module-example/d7b013bf8024c75410928e037fbaae0a01b74613#spam.\n",
      "                                Use `.update_modules()` to update the lock file\n",
      "2024-04-08 17:13:26,394 - rush - WARNING - Module delay has a different version on the server: github:talo/tengu-module-example/d7b013bf8024c75410928e037fbaae0a01b74613#delay.\n",
      "                                Use `.update_modules()` to update the lock file\n",
      "2024-04-08 17:13:26,394 - rush - WARNING - Module github:talo/qm_geo_opt/8030ca9dd1da58c9ef526ac7432523a2aa308a37#qm_geo_opt_tengu is not in the lock file\n",
      "2024-04-08 17:13:26,394 - rush - WARNING - Module gmx_resume has a different version on the server: github:talo/tengu-gmx/eaaa2472bd2dc67eed931fa1816fd0b46c509599#gmx_resume_tengu.\n",
      "                                Use `.update_modules()` to update the lock file\n",
      "2024-04-08 17:13:26,395 - rush - WARNING - Module gmx has a different version on the server: github:talo/tengu-gmx/9eab938f2ac983ce6764c1473851849b5e4d9b24#gmx_tengu.\n",
      "                                Use `.update_modules()` to update the lock file\n"
     ]
    }
   ],
   "source": [
    "# |hide\n",
    "WORK_DIR = Path.home() / \"qdx\" / EXPERIMENT\n",
    "\n",
    "if WORK_DIR.exists():\n",
    "    client = rush.Provider(workspace=WORK_DIR)\n",
    "    rush.provider.asyncio_run(client.nuke(remote=True))\n",
    "\n",
    "os.makedirs(WORK_DIR, exist_ok=True)\n",
    "os.chdir(WORK_DIR)"
   ]
  },
  {
   "cell_type": "markdown",
   "id": "1a0ac49d",
   "metadata": {},
   "source": [
    "## 1.3) Build your client\n",
    "Get our client, which we'll use for calling modules and generally for using the Rush API.\n",
    "\n",
    "As mentioned earlier, `url` and `access_token` are optional if you have set the env variables `RUSH_URL` and `RUSH_TOKEN` respectively.\n",
    "\n",
    "`batch_tags` will be applied to each run that is spawned by this client.\n",
    "\n",
    "A folder called `.rush` will be created in your workspace directory (defaults to the current working directory, can be overridden by passing `workspace=` to the provider builder)."
   ]
  },
  {
   "cell_type": "code",
   "execution_count": null,
   "id": "64f9ab36",
   "metadata": {},
   "outputs": [
    {
     "name": "stdout",
     "output_type": "stream",
     "text": [
      "2024-04-08 17:13:26,467 - rush - INFO - Not restoring by default via default\n"
     ]
    }
   ],
   "source": [
    "# By using the `build_provider_with_functions` method,\n",
    "# we will also build helper functions calling each module\n",
    "client = rush.build_blocking_provider_with_functions(batch_tags=TAGS)"
   ]
  },
  {
   "cell_type": "code",
   "execution_count": null,
   "id": "599d6e1c",
   "metadata": {},
   "outputs": [],
   "source": [
    "# |hide\n",
    "client = rush.build_blocking_provider_with_functions(\n",
    "    batch_tags=TAGS,\n",
    "    restore_by_default=True,\n",
    ")"
   ]
  },
  {
   "cell_type": "markdown",
   "id": "9c9090eb",
   "metadata": {},
   "source": [
    "## 1.4) Input selection\n",
    "Fetch a pdb from RCSB, stripping hetatoms and selecting a single chain to pass as input to the modules:"
   ]
  },
  {
   "cell_type": "code",
   "execution_count": null,
   "id": "f0cb19a1",
   "metadata": {},
   "outputs": [],
   "source": [
    "PROTEIN_PDB_PATH = client.workspace / f\"{SYSTEM}_P.pdb\"\n",
    "\n",
    "complex = list(pdb_fetch.fetch_structure(SYSTEM))\n",
    "protein = pdb_delhetatm.remove_hetatm(pdb_selchain.select_chain(complex, \"A\"))\n",
    "with open(PROTEIN_PDB_PATH, \"w\") as f:\n",
    "    for l in protein:\n",
    "        f.write(str(l))"
   ]
  },
  {
   "cell_type": "markdown",
   "id": "c4abc645",
   "metadata": {},
   "source": [
    "# 2) Running Rush Modules\n",
    "You can view which modules are available, alongside their documentation, in the [API Documentation](https://talo.github.io/rush-py/api/)."
   ]
  },
  {
   "cell_type": "markdown",
   "id": "a0e463fc",
   "metadata": {},
   "source": [
    "## 2.0) Prep the protein\n",
    "First we will run the protein preparation routine (using pdbfixer and pdb2pqr internally) to prepare the protein for a molecular dynamics simulation."
   ]
  },
  {
   "cell_type": "code",
   "execution_count": null,
   "id": "28aaba3a",
   "metadata": {},
   "outputs": [
    {
     "name": "stdout",
     "output_type": "stream",
     "text": [
      "Help on function prepare_protein in module rush.provider:\n",
      "\n",
      "prepare_protein(*args: *tuple[RushObject[bytes], Optional[float], Optional[EnumValue]], target: 'Target | None' = None, resources: 'Resources | None' = None, tags: 'list[str] | None' = None, restore: 'bool | None' = None) -> tuple[RushObject[list[Record]], RushObject[bytes]]\n",
      "    Prepare a PDB for downstream tasks: protonate, fill missing atoms, etc.\n",
      "\n",
      "    Module version:\n",
      "    `github:talo/prepare_protein/fbeca1ad893cd763b00dc275c43806c0edce03de#prepare_protein_tengu`\n",
      "\n",
      "    QDX Type Description:\n",
      "\n",
      "        input_pdb: Object[@$PDB];\n",
      "        ph: f32?;\n",
      "        naming_scheme: NamingScheme[Amber | Charmm]?\n",
      "        ->\n",
      "        output_qdxf: Object[[Conformer]];\n",
      "        output_pdb: Object[@$PDB]\n",
      "\n",
      "\n",
      "    :param input_pdb: An input protein as a file; one PDB file\n",
      "    :param ph: The ph for determining protonation states; 0-14\n",
      "    :param naming_scheme: \\\n",
      "                    The force field naming scheme to use; \\\n",
      "                    options are \"amber\" or \"charmm\"; \\\n",
      "                    None produces RCSB/IUPAC standard naming\\\n",
      "\n",
      "    :return output_qdxf: An output protein a vec: one qdxf per model in pdb\n",
      "    :return output_pdb: An output protein as a file: one PDB file\n",
      "\n"
     ]
    }
   ],
   "source": [
    "# we can check the arguments and outputs for prepare_protein with help()\n",
    "help(client.prepare_protein)"
   ]
  },
  {
   "cell_type": "code",
   "execution_count": null,
   "id": "493c2f37",
   "metadata": {},
   "outputs": [
    {
     "name": "stdout",
     "output_type": "stream",
     "text": [
      "2024-04-08 17:13:29,649 - rush - INFO - Trying to restore job with tags: ['qdx', 'rush-py-quickstart', '1B39'] and path: github:talo/prepare_protein/fbeca1ad893cd763b00dc275c43806c0edce03de#prepare_protein_tengu\n"
     ]
    },
    {
     "data": {
      "text/plain": [
       "Arg(id=37deb248-97fe-443d-b243-36ba172ca7be, value=None)"
      ]
     },
     "execution_count": null,
     "metadata": {},
     "output_type": "execute_result"
    }
   ],
   "source": [
    "# Here we run the function, it will return a Provider.Arg which you can use to\n",
    "# fetch the results\n",
    "# We set restore = True so that we can restore a previous run to the same path\n",
    "# with the same tags\n",
    "prepared_protein_qdxf, prepared_protein_pdb = client.prepare_protein(\n",
    "    PROTEIN_PDB_PATH, None, None\n",
    ")\n",
    "# This initially only has the id of your result; we will show how to fetch the\n",
    "# actual value later\n",
    "prepared_protein_qdxf"
   ]
  },
  {
   "cell_type": "markdown",
   "id": "575c5704",
   "metadata": {},
   "source": [
    "## 2.1) Run statuses\n",
    "This will show the status of all of your runs. You can also view run statuses on the [Rush UI](https://rush.qdx.co/dashboard/jobs)."
   ]
  },
  {
   "cell_type": "code",
   "execution_count": null,
   "id": "c0d9cc79",
   "metadata": {},
   "outputs": [
    {
     "data": {
      "text/plain": [
       "{'8e8357a0-3c37-4c23-bf98-567db98d74df': (<ModuleInstanceStatus.RESOLVING: 'RESOLVING'>,\n",
       "  'prepare_protein',\n",
       "  1)}"
      ]
     },
     "execution_count": null,
     "metadata": {},
     "output_type": "execute_result"
    }
   ],
   "source": [
    "client.status()"
   ]
  },
  {
   "cell_type": "markdown",
   "id": "74a2356a",
   "metadata": {},
   "source": [
    "## 2.2) Run Values\n",
    "This will return the \"value\" of the output from the function—for files you will recieve a url that you can download, otherwise you will recieve them as python types:"
   ]
  },
  {
   "cell_type": "code",
   "execution_count": null,
   "id": "1928e14b",
   "metadata": {},
   "outputs": [
    {
     "name": "stdout",
     "output_type": "stream",
     "text": [
      "2024-04-08 17:13:29,921 - rush - INFO - Argument 37deb248-97fe-443d-b243-36ba172ca7be is now ModuleInstanceStatus.RESOLVING\n",
      "2024-04-08 17:13:36,501 - rush - INFO - Argument 37deb248-97fe-443d-b243-36ba172ca7be is now ModuleInstanceStatus.ADMITTED\n",
      "2024-04-08 17:13:40,894 - rush - INFO - Argument 37deb248-97fe-443d-b243-36ba172ca7be is now ModuleInstanceStatus.DISPATCHED\n",
      "2024-04-08 17:13:43,225 - rush - INFO - Argument 37deb248-97fe-443d-b243-36ba172ca7be is now ModuleInstanceStatus.RUNNING\n",
      "2024-04-08 17:13:55,523 - rush - INFO - Argument 37deb248-97fe-443d-b243-36ba172ca7be is now ModuleInstanceStatus.AWAITING_UPLOAD\n"
     ]
    },
    {
     "data": {
      "text/plain": [
       "'https://storage.googleapis.com/qdx-store/4a4271de-5e14-4756-b115-9c034d7ab294?x-goog-signature=202cb9f86a4351fc30780d26713b4478012548544ff30ba6700f349ad1fcc63137dfb1d2db92fc9d39bc51ba9881c44b27e89e0781aec23d034ec61c4efe2c806b8d784d124863a37d16ce0df02880e272aa0d0dc8f6be23f7214f207183337eb80c9dd0d70757e2761d8f366eea997d066761fadd9ed33483aa8ec98e7fb00e62a78501fdbc2e1e3b9eb4f9e2374a68972937bcae562d114a7e705ca645cd7eb80e5df835c9e462aa34601c8e14691ad6bcbfafef751a7562d8ea3640e77e79f2bd2f6f3b2533df462e245fc4991729f44bee6aa7d9de31cb8a14615b37ba7950c40af54f5a9f146a1a1fb91b2a9f6692d1bca60a8fb2cecd98c2b33fdbd558&x-goog-algorithm=GOOG4-RSA-SHA256&x-goog-credential=qdx-store-user%40humming-bird-321603.iam.gserviceaccount.com%2F20240408%2Fasia-southeast1%2Fstorage%2Fgoog4_request&x-goog-date=20240408T091417Z&x-goog-expires=3600&x-goog-signedheaders=host'"
      ]
     },
     "execution_count": null,
     "metadata": {},
     "output_type": "execute_result"
    }
   ],
   "source": [
    "protein_qdxf_info = prepared_protein_qdxf.get()\n",
    "protein_qdxf_info"
   ]
  },
  {
   "cell_type": "markdown",
   "id": "15c76147",
   "metadata": {},
   "source": [
    "## 2.3) Downloads\n",
    "We provide a utility to download files into your workspace, you can either provide a filename, which will be saved in `workspace/objects/[filename]`, or you can provide your own filepath which the client will use as-is:"
   ]
  },
  {
   "cell_type": "code",
   "execution_count": null,
   "id": "4172b1c2",
   "metadata": {},
   "outputs": [],
   "source": [
    "protein_qdxf_file = prepared_protein_qdxf.download(overwrite=True)"
   ]
  },
  {
   "cell_type": "code",
   "execution_count": null,
   "id": "fbf72ed5",
   "metadata": {},
   "outputs": [
    {
     "data": {
      "text/plain": [
       "['MET', 'GLU', 'ASN', 'PHE', 'GLN', 'LYS', 'VAL', 'GLU', 'LYS', 'ILE']"
      ]
     },
     "execution_count": null,
     "metadata": {},
     "output_type": "execute_result"
    }
   ],
   "source": [
    "# qdxf files can be loaded as json\n",
    "with open(protein_qdxf_file) as f:\n",
    "    protein_qdxf_data = json.load(f)[0]\n",
    "protein_qdxf_data[\"amino_acid_seq\"][:10]"
   ]
  },
  {
   "cell_type": "code",
   "execution_count": null,
   "id": "6998d9f6",
   "metadata": {},
   "outputs": [
    {
     "data": {
      "text/plain": [
       "PosixPath('/home/machineer/qdx/rush-py-quickstart/objects/01_prepared_protein.pdb')"
      ]
     },
     "execution_count": null,
     "metadata": {},
     "output_type": "execute_result"
    }
   ],
   "source": [
    "prepared_protein_pdb.download(filename=\"01_prepared_protein.pdb\", overwrite=True)"
   ]
  },
  {
   "cell_type": "code",
   "execution_count": null,
   "id": "9ce208df",
   "metadata": {},
   "outputs": [
    {
     "name": "stdout",
     "output_type": "stream",
     "text": [
      "REMARK   1 CREATED WITH OPENMM 8.0, 2024-04-08\n",
      " ...\n"
     ]
    }
   ],
   "source": [
    "# we can read our prepared protein pdb like this\n",
    "with open(client.workspace / \"objects\" / \"01_prepared_protein.pdb\", \"r\") as f:\n",
    "    print(f.readline(), \"...\")"
   ]
  }
 ],
 "metadata": {
  "kernelspec": {
   "display_name": "python3",
   "language": "python",
   "name": "python3"
  }
 },
 "nbformat": 4,
 "nbformat_minor": 5
}
