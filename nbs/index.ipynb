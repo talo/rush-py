{
 "cells": [
  {
   "cell_type": "markdown",
   "id": "2eab58b1",
   "metadata": {},
   "source": [
    "# tengu-py\n",
    "\n",
    "> Python SDK for the QDX Quantum Chemistry workflow management system"
   ]
  },
  {
   "cell_type": "markdown",
   "id": "ba241309",
   "metadata": {},
   "source": [
    "Below we'll walk through the process of building and running a drug discovery workflow, where we prepare a protein and ligand for molecular dynamics simulation, run the molecular dynamics, perform a quantum lattice interaction energy calculation."
   ]
  },
  {
   "cell_type": "markdown",
   "id": "c3572644",
   "metadata": {},
   "source": [
    "First, install the following modules via pip - we require Python > 3.10\n",
    "```\n",
    "pip install tengu-py pdb-tools\n",
    "```"
   ]
  },
  {
   "cell_type": "markdown",
   "id": "29bbf158",
   "metadata": {},
   "source": [
    "# 0) Setup\n",
    "This is where we prepare the tengu client, directories, and input data we'll be working with"
   ]
  },
  {
   "cell_type": "markdown",
   "id": "3a954d0c",
   "metadata": {},
   "source": [
    "## 0.0) Imports"
   ]
  },
  {
   "cell_type": "code",
   "execution_count": null,
   "id": "8ae3bb2c",
   "metadata": {},
   "outputs": [],
   "source": [
    "import os\n",
    "import tarfile\n",
    "from datetime import datetime\n",
    "from pathlib import Path\n",
    "\n",
    "from pdbtools import pdb_fetch, pdb_delhetatm, pdb_selchain, pdb_rplresname, pdb_keepcoord, pdb_selresname\n",
    "\n",
    "import tengu"
   ]
  },
  {
   "cell_type": "markdown",
   "id": "ae4dd3d8",
   "metadata": {},
   "source": [
    "### 0.1) Credentials"
   ]
  },
  {
   "cell_type": "code",
   "execution_count": null,
   "id": "1c7ace88",
   "metadata": {},
   "outputs": [],
   "source": [
    "# Set our token - ensure you have exported TENGU_TOKEN in your shell; or just replace the os.getenv with your token\n",
    "TOKEN = os.getenv(\"TENGU_TOKEN\")\n",
    "# You might have a custom deployment url, by default it will use https://tengu.qdx.ai\n",
    "URL = os.getenv(\"TENGU_URL\") or \"https://tengu.qdx.ai\"\n",
    "# These env variables will be read by default, so you can skip this step in future"
   ]
  },
  {
   "cell_type": "markdown",
   "id": "cf3b5232",
   "metadata": {},
   "source": [
    "### 0.2) Configuration"
   ]
  },
  {
   "cell_type": "code",
   "execution_count": null,
   "id": "6e4e9c87",
   "metadata": {},
   "outputs": [],
   "source": [
    "# Define our project information\n",
    "DESCRIPTION = \"tengu-py demo notebook\"\n",
    "TAGS = [\"qdx\", \"tengu-py-v2\", \"demo\", \"cdk2\", \"atp\"]\n",
    "WORK_DIR = Path.home() / \"qdx\" / \"tengu-py-demo\"\n",
    "\n",
    "# Set our inputs\n",
    "SYSTEM_PDB_PATH = WORK_DIR / \"test.pdb\"\n",
    "PROTEIN_PDB_PATH = WORK_DIR / \"test_P.pdb\"\n",
    "LIGAND_SMILES_STR = (\n",
    "    \"c1nc(c2c(n1)n(cn2)[C@H]3[C@@H]([C@@H]([C@H](O3)CO[P@@](=O)(O)O[P@](=O)(O)OP(=O)(O)O)O)O)N\"\n",
    ")\n",
    "LIGAND_PDB_PATH = WORK_DIR / \"test_L.pdb\""
   ]
  },
  {
   "cell_type": "markdown",
   "id": "9859d230",
   "metadata": {},
   "source": [
    "### 0.3) Input selection"
   ]
  },
  {
   "cell_type": "code",
   "execution_count": null,
   "id": "88153670",
   "metadata": {},
   "outputs": [],
   "source": [
    "# fetch datafiles\n",
    "complex = list(pdb_fetch.fetch_structure(\"1B39\"))\n",
    "protein = pdb_delhetatm.remove_hetatm(pdb_selchain.select_chain(complex, \"A\"))\n",
    "# select the ATP residue\n",
    "ligand = pdb_selresname.filter_residue_by_name(complex, \"ATP\")\n",
    "# we require ligands to be labelled as UNL\n",
    "ligand = pdb_rplresname.rename_residues(ligand, \"ATP\", \"UNL\")\n",
    "# we don't want to repeat all of the remark / metadata that is already in the protein\n",
    "ligand = pdb_keepcoord.keep_coordinates(ligand)\n",
    "# write our files to the locations defined in the config block\n",
    "with open(SYSTEM_PDB_PATH, \"w\") as f:\n",
    "    for l in complex:\n",
    "        f.write(str(l))\n",
    "with open(PROTEIN_PDB_PATH, \"w\") as f:\n",
    "    for l in protein:\n",
    "        f.write(str(l))\n",
    "with open(LIGAND_PDB_PATH, \"w\") as f:\n",
    "    for l in ligand:\n",
    "        f.write(str(l))"
   ]
  },
  {
   "cell_type": "markdown",
   "id": "10beeb8e",
   "metadata": {},
   "source": [
    "### 0.5) Build your client"
   ]
  },
  {
   "cell_type": "code",
   "execution_count": null,
   "id": "bd03d4a4",
   "metadata": {},
   "outputs": [
    {
     "name": "stdout",
     "output_type": "stream",
     "text": [
      "building module for github:talo/tengu-prelude/083e958d64e9e716754f76560bd3e60557e6a691#hermes_binding\n",
      "building module for github:talo/gmx_tengu_support/68cfc9dc1533bd54dfa21b346642410ff0fce570#gmx_frame_select_pdb\n",
      "building module for github:talo/gmx_tengu_support/a15ebf3e86b779203b463193c0ecc025c9f916df#gmx_frame_select\n",
      "building module for github:talo/gmx_tengu_support/d4ea797dcdedf9b91de1b76a32f8a95f0cbf21df#gmx_mmpbsa_tengu\n",
      "building module for github:talo/tengu-module-example/b334a851530033b79762c3341bf584f8939feee1#tengu_echo\n",
      "building module for github:talo/tengu-module-example/b334a851530033b79762c3341bf584f8939feee1#spam\n",
      "building module for github:talo/tengu-module-example/b334a851530033b79762c3341bf584f8939feee1#delay\n",
      "building module for github:talo/tengu-module-flake-parts/b6afd5abb624fed203990045927d381cefc6ef04#dummy\n",
      "building module for github:talo/gmx_tengu_support/a473bc4a302eebebcb5f54a899192be75c0daa91#gmx_tengu_pdb\n",
      "building module for github:talo/gmx_tengu_support/a473bc4a302eebebcb5f54a899192be75c0daa91#gmx_tengu\n",
      "building module for github:talo/gmx_tengu_support/e36ef0823a083d16d8bd0a36f57aef1bc8735c8d#gmx_em\n",
      "building module for github:talo/gypsum_dl/04acd1852cb3e2c8d0347e15763926fdf9a93a5d#prepare_ligand_tengu\n",
      "building module for github:talo/pdb2pqr/6a0c4b2cf6d42f53d1cc889f3926b7e0ab8d1552#prepare_protein_tengu\n",
      "building module for github:talo/pdb2pqr/6a0c4b2cf6d42f53d1cc889f3926b7e0ab8d1552#pdb2pqr_tengu\n",
      "building module for github:talo/tengu-prelude/b624dbe6f9ccb7ccc417d52cdc3dd251de76b604#hermes_lattice\n",
      "building module for github:talo/tengu-prelude/b624dbe6f9ccb7ccc417d52cdc3dd251de76b604#qp_gen_inputs\n",
      "building module for github:talo/tengu-prelude/b624dbe6f9ccb7ccc417d52cdc3dd251de76b604#qp_collate\n",
      "building module for github:talo/tengu-prelude/9b0c89cbd3b7541b6d700ccf66bbdf9e4c82b630#pick_conformer\n",
      "building module for github:talo/tengu-prelude/9b0c89cbd3b7541b6d700ccf66bbdf9e4c82b630#pdbfixer\n",
      "building module for github:talo/tengu-prelude/9b0c89cbd3b7541b6d700ccf66bbdf9e4c82b630#hermes_energy\n",
      "building module for github:talo/tengu-prelude/9b0c89cbd3b7541b6d700ccf66bbdf9e4c82b630#convert\n",
      "building module for github:talo/tengu-prelude/9b0c89cbd3b7541b6d700ccf66bbdf9e4c82b630#concat\n"
     ]
    }
   ],
   "source": [
    "# Get our client, for calling modules and using the tengu API\n",
    "# Note, access_token and url are optional, if you have set the env variables TENGU_TOKEN and TENGU_URL\n",
    "# Workspace sets the location where we will store our session history file and module lock file\n",
    "# By using the `build_provider_with_functions` method, we will also build helper functions calling each module\n",
    "client = await tengu.build_provider_with_functions(\n",
    "    access_token=TOKEN, url=URL, workspace=WORK_DIR, batch_tags=TAGS\n",
    ")"
   ]
  },
  {
   "cell_type": "markdown",
   "id": "b08c0303",
   "metadata": {},
   "source": [
    "### 0.6) View tengu modules\n",
    "Tengu modules are \"functions\" that perform various computational chemistry tasks can be run on HPC infrastructure. We maintain multiple versions of these functions so that your scripts will stay stable over upgrades."
   ]
  },
  {
   "cell_type": "code",
   "execution_count": null,
   "id": "429f0190",
   "metadata": {},
   "outputs": [],
   "source": [
    "# Get our latest modules as a dict[module_name, module_path]\n",
    "# If a lock file exists, load it so that the run is reproducable\n",
    "# This will be done automatically if you use the `build_provider_with_functions` method\n",
    "modules = await client.get_latest_module_paths()"
   ]
  },
  {
   "cell_type": "code",
   "execution_count": null,
   "id": "aee49efc",
   "metadata": {},
   "outputs": [
    {
     "name": "stdout",
     "output_type": "stream",
     "text": [
      "github:talo/tengu-prelude/9b0c89cbd3b7541b6d700ccf66bbdf9e4c82b630#hermes_energy\n"
     ]
    }
   ],
   "source": [
    "module_name = \"hermes_energy\"\n",
    "module_path = modules[module_name]\n",
    "print(module_path)"
   ]
  },
  {
   "cell_type": "markdown",
   "id": "a4367d5a",
   "metadata": {},
   "source": [
    "  - `module_name` is a descriptive string and indicates the \"function\" the module is calling;\n",
    "  - `module_path` is a versioned tengu \"endpoint\" for a module accessible via the client.\n",
    "\n",
    "Using the same `module_path` string across multiple runs provides reproducibility."
   ]
  },
  {
   "cell_type": "markdown",
   "id": "1cca66a3",
   "metadata": {},
   "source": [
    "### 0.7) Build module functions\n",
    "Next, we'll build helper functions for the modules that we've fetched"
   ]
  },
  {
   "cell_type": "markdown",
   "id": "11a99757",
   "metadata": {},
   "source": [
    "`get_module_functions`\n",
    "We can use the python `help()` function to describe their usage.\n",
    "\n",
    "The QDX Type Description is a standard type definition across multiple programing languages to assist in interoperablility.\n",
    "@ indicates that the type is stored in a file, which will be synced to cloud storage"
   ]
  },
  {
   "cell_type": "code",
   "execution_count": null,
   "id": "503acb26",
   "metadata": {},
   "outputs": [
    {
     "name": "stdout",
     "output_type": "stream",
     "text": [
      "Help on function convert in module tengu.provider:\n",
      "\n",
      "async convert(*args: [list[typing.Union[str, ~T]], <class 'pathlib.Path'>], target: tengu.graphql_client.enums.ModuleInstanceTarget | None = <ModuleInstanceTarget.NIX: 'NIX'>, resources: tengu.graphql_client.input_types.ModuleInstanceResourcesInput | None = None, tags: list[str] | None = None, restore: bool | None = None) -> [<class 'pathlib.Path'>]\n",
      "    Convert biomolecular and chemical file formats to the QDX file format. Supports PDB and SDF\n",
      "    \n",
      "    Module version: github:talo/tengu-prelude/9b0c89cbd3b7541b6d700ccf66bbdf9e4c82b630#convert\n",
      "    \n",
      "    QDX Type Description:\n",
      "    \n",
      "        format: PDB|SDF;\n",
      "    \n",
      "        input: @bytes \n",
      "    \n",
      "    ->\n",
      "    \n",
      "        output: @[Conformer]\n",
      "    \n",
      "    \n",
      "    \n",
      "    :param format: the format of the input file\n",
      "    :param input: the input file\n",
      "    :return output: the output conformers\n",
      "\n"
     ]
    }
   ],
   "source": [
    "help(client.convert)"
   ]
  },
  {
   "cell_type": "markdown",
   "id": "9fa55b86",
   "metadata": {},
   "source": [
    "# 1) Running Tengu Modules\n",
    "Below we'll call modules using the functions created on the client.\n",
    "\n",
    "The parameters to a tengu module function would look like the following\n",
    "\n",
    "  - `*args`: The values or ids passed to the :\n",
    "    1. For @Objects -  A `pathlib.Path` or a file-like object like `BufferedReader`, `FileIO`, `StringIO` etc.:\n",
    "         Loads the data in the file as an argument.\n",
    "         **NOTE**: The uploaded value isn't just the string of the file,\n",
    "         so don't pass the string directly; pass the path or wrap in StringIO.\n",
    "    2. An tengu `Provider.Argument` or `ArgId` returned by a previous call to a tengu module via `client.[some_module_name]()`:\n",
    "         The `ArgId` type wraps data for use within tengu. It may refer to an object already\n",
    "         uploaded to tengu storage, such as outputs of other run calls.\n",
    "         See below for more details. It's easier to understand when you see an example.\n",
    "    3. A parameter, i.e. a value of any other type, including `None`:\n",
    "         Ensure the values match what is outlined in the *args list\n",
    "  - **kwargs\n",
    "      - `target`: The machine we want to run on (eg. `NIX_SSH` for a cluster, `GADI` for a supercomputer).\n",
    "      - `resources`: The resources to use on the target. The most commonly provided being {\"gpus\": n, \"storage\": i}\n",
    "      - `tags`: Tags to associate with our run, so we can easily look up our runs. They will be populated by the `batch_tags` passed to                 the cleint on constructionby default\n",
    "      - `restore`: If this is set to True - the function will check if a single module_instance exists for the same version of the                          function with the same tags, and return that instead of re-running.\n",
    "\n",
    "The return value is a list of `Provider.Arguments`. You can wait for them to resolve by calling `await your_argument.get()`, or pass the arguments directly to subsequent functions, which will cause Tengu to do the waiting for you.\n",
    "\n",
    "You can see the status of all the the jobs submitted for your workspace or session by going `client.status()`\n",
    "\n",
    "We will now demonstrate how this works in action"
   ]
  },
  {
   "cell_type": "markdown",
   "id": "2f29502a",
   "metadata": {},
   "source": [
    "## 1.1) Input Preparation"
   ]
  },
  {
   "cell_type": "markdown",
   "id": "18eaec95",
   "metadata": {},
   "source": [
    "### 1.1.1) Prep the protein\n",
    "First we will run the protein preparation routine (using pdbfixer internally) to prepare the protein for molecular dynamics"
   ]
  },
  {
   "cell_type": "code",
   "execution_count": null,
   "id": "6c939f0d",
   "metadata": {},
   "outputs": [
    {
     "name": "stdout",
     "output_type": "stream",
     "text": [
      "Help on function prepare_protein in module tengu.provider:\n",
      "\n",
      "async prepare_protein(*args: [<class 'pathlib.Path'>], target: tengu.graphql_client.enums.ModuleInstanceTarget | None = <ModuleInstanceTarget.NIX_SSH_3: 'NIX_SSH_3'>, resources: tengu.graphql_client.input_types.ModuleInstanceResourcesInput | None = None, tags: list[str] | None = None, restore: bool | None = None) -> [<class 'pathlib.Path'>]\n",
      "    Prepare a PDB for downstream tasks: protonate, fill missing atoms, etc.\n",
      "    \n",
      "    Module version: github:talo/pdb2pqr/6a0c4b2cf6d42f53d1cc889f3926b7e0ab8d1552#prepare_protein_tengu\n",
      "    \n",
      "    QDX Type Description:\n",
      "    \n",
      "        input_pdb: @bytes \n",
      "    \n",
      "    ->\n",
      "    \n",
      "        output_pdb: @bytes\n",
      "    \n",
      "    \n",
      "    \n",
      "    :param input_pdb: An input molecule as a file: one PDB file\n",
      "    :return output_pdb: An output molecule as a file: one PDB file\n",
      "\n"
     ]
    }
   ],
   "source": [
    "# we can check the arguments and outputs for prepare_protein with help()\n",
    "help(client.prepare_protein)"
   ]
  },
  {
   "cell_type": "code",
   "execution_count": null,
   "id": "ac7b2075",
   "metadata": {},
   "outputs": [
    {
     "name": "stdout",
     "output_type": "stream",
     "text": [
      "10:23:14.188124 | Running protein prep!\n"
     ]
    },
    {
     "data": {
      "text/plain": [
       "Arg(id=a963bca4-cb29-46bf-8df6-3bf5a3c2ee1b, value=None)"
      ]
     },
     "execution_count": null,
     "metadata": {},
     "output_type": "execute_result"
    }
   ],
   "source": [
    "# Here we run the function, it will return a Provider.Arg which you can use to fetch the results\n",
    "# We set restore = True so that we can restore a previous run to the same path with the same tags\n",
    "(prepared_protein,) = await client.prepare_protein(PROTEIN_PDB_PATH, restore=True)\n",
    "print(f\"{datetime.now().time()} | Running protein prep!\")\n",
    "prepared_protein  # this initially only have the id of your result, we will show how to fetch the actual value later"
   ]
  },
  {
   "cell_type": "markdown",
   "id": "11ad137e",
   "metadata": {},
   "source": [
    "### 1.1.2) Checking results"
   ]
  },
  {
   "cell_type": "code",
   "execution_count": null,
   "id": "6ab1e12c",
   "metadata": {},
   "outputs": [
    {
     "data": {
      "text/plain": [
       "{'e581230b-894f-46a5-bdbb-f07c8f8ceff8': (<ModuleInstanceStatus.FAILED: 'FAILED'>,\n",
       "  'qp_collate',\n",
       "  1),\n",
       " '5f6a969b-3a56-48a2-afa1-25939218fc52': (<ModuleInstanceStatus.FAILED: 'FAILED'>,\n",
       "  'hermes_energy',\n",
       "  1),\n",
       " '51d050d4-1dbf-4915-b590-9c3dcd475d14': (<ModuleInstanceStatus.FAILED: 'FAILED'>,\n",
       "  'qp_gen_inputs',\n",
       "  1),\n",
       " '748d3de2-8984-4c4a-bd8c-090430b8db86': (<ModuleInstanceStatus.COMPLETED: 'COMPLETED'>,\n",
       "  'gmx_pdb',\n",
       "  1),\n",
       " '746ee040-7450-4917-b60d-e4056c9d850a': (<ModuleInstanceStatus.COMPLETED: 'COMPLETED'>,\n",
       "  'prepare_ligand',\n",
       "  1),\n",
       " '847ba79d-c6a0-43e5-acce-28928b2f349f': (<ModuleInstanceStatus.COMPLETED: 'COMPLETED'>,\n",
       "  'prepare_protein',\n",
       "  1)}"
      ]
     },
     "execution_count": null,
     "metadata": {},
     "output_type": "execute_result"
    }
   ],
   "source": [
    "# This will show the status of all of your runs\n",
    "await client.status()"
   ]
  },
  {
   "cell_type": "code",
   "execution_count": null,
   "id": "acb93d18",
   "metadata": {},
   "outputs": [],
   "source": [
    "# If any of our runs fail, we can check their logs with\n",
    "for instance_id, (status, name, count) in (await client.status()).items():\n",
    "    if status.value == \"FAILED\":\n",
    "        async for log_page in client.logs(instance_id, \"stderr\"):\n",
    "            for log in log_page:\n",
    "                print(log)"
   ]
  },
  {
   "cell_type": "code",
   "execution_count": null,
   "id": "b366ed8e",
   "metadata": {},
   "outputs": [
    {
     "data": {
      "text/plain": [
       "{'url': 'https://storage.googleapis.com/qdx-store/1b2fab86-8335-41c3-a1fa-1989f1e72378?x-goog-signature=404e416df57e358769ffb1be5b7fcd295a0f7d7dbe092f2b000162122bcfdf12f10b9797352cd407911d916f7336c9ccd6e6de90eb438527578b48c6dadbb29fc355e27a355795ba6024988ebec0dde9550a5c1fa9c3ba030f2c5d86c508e8264f21933c5d557fc228b5e77fe2efd6a2f4690e522f0fcebce908592e446a82f27a0078d89432ef7e82b1644b2c149d0bcdd59778eb0d6221974c211bccca4d2381991ba10dbe80d30111ac7d72322a6ce11d249dc8192f3572cf710369a582e7b26e75d9454b5077ca5b5ffb7cb562a5ca4f281ddfc76c3852fc27b2e910ac319ace6704a5ece45520279890c9bc99fe69ed3ad700a1f7a6dfbd7374b825404b&x-goog-algorithm=GOOG4-RSA-SHA256&x-goog-credential=qdx-store-user%40humming-bird-321603.iam.gserviceaccount.com%2F20231207%2Fasia-southeast1%2Fstorage%2Fgoog4_request&x-goog-date=20231207T022316Z&x-goog-expires=3600&x-goog-signedheaders=host'}"
      ]
     },
     "execution_count": null,
     "metadata": {},
     "output_type": "execute_result"
    }
   ],
   "source": [
    "# this will return the \"value\" of the output from the function - for files you will recieve a url that you can download,\n",
    "# otherwise you will recieve them as python types\n",
    "await prepared_protein.get()"
   ]
  },
  {
   "cell_type": "code",
   "execution_count": null,
   "id": "1542bc66",
   "metadata": {},
   "outputs": [],
   "source": [
    "# we provide a utility to download files into your workspace,\n",
    "# you can either provide a filename, which will be saved in workspace/objects/[filename],\n",
    "# or you can provide your own filepath which the client will use as-is\n",
    "try:\n",
    "    await prepared_protein.download(filename=\"01_prepared_protein.pdb\")\n",
    "except FileExistsError:\n",
    "    # we will raise an error if you try to overwrite an existing file, you can force the file to overwrite\n",
    "    # by passing an absolute filepath instead\n",
    "    pass"
   ]
  },
  {
   "cell_type": "code",
   "execution_count": null,
   "id": "f12bcfa0",
   "metadata": {},
   "outputs": [
    {
     "name": "stdout",
     "output_type": "stream",
     "text": [
      "REMARK   1 PQR file generated by PDB2PQR\n",
      " ...\n"
     ]
    }
   ],
   "source": [
    "# we can read our prepared protein pdb like this\n",
    "with open(client.workspace / \"objects\" / \"01_prepared_protein.pdb\", \"r\") as f:\n",
    "    print(f.readline(), \"...\")"
   ]
  },
  {
   "cell_type": "markdown",
   "id": "fc9f27c6",
   "metadata": {},
   "source": [
    "### 1.1.3) Prep the ligand\n",
    "Next we will prepare the ligand (using gypsum_dl internally)"
   ]
  },
  {
   "cell_type": "code",
   "execution_count": null,
   "id": "8ff5646f",
   "metadata": {},
   "outputs": [
    {
     "name": "stdout",
     "output_type": "stream",
     "text": [
      "Help on function prepare_ligand in module tengu.provider:\n",
      "\n",
      "async prepare_ligand(*args: [<class 'str'>, <class 'pathlib.Path'>, dict[str, ~T]], target: tengu.graphql_client.enums.ModuleInstanceTarget | None = <ModuleInstanceTarget.NIX_SSH_3: 'NIX_SSH_3'>, resources: tengu.graphql_client.input_types.ModuleInstanceResourcesInput | None = None, tags: list[str] | None = None, restore: bool | None = None) -> [<class 'pathlib.Path'>, <class 'pathlib.Path'>]\n",
      "    Prepare ligand for sim. or quantum energy calc. using gypsum_dl\n",
      "    \n",
      "    Module version: github:talo/gypsum_dl/04acd1852cb3e2c8d0347e15763926fdf9a93a5d#prepare_ligand_tengu\n",
      "    \n",
      "    QDX Type Description:\n",
      "    \n",
      "        in: string;\n",
      "    \n",
      "        in: @bytes;\n",
      "    \n",
      "        in: {\n",
      "    \n",
      "        job_manager:string,\n",
      "    \n",
      "        let_tautomers_change_chirality:bool,\n",
      "    \n",
      "        max_ph:f32,\n",
      "    \n",
      "        max_variants_per_compound:i32,\n",
      "    \n",
      "        min_ph:f32,\n",
      "    \n",
      "        num_processors:i32,\n",
      "    \n",
      "        output_folder:string,\n",
      "    \n",
      "        pka_precision:f32,\n",
      "    \n",
      "        separate_output_files:bool,\n",
      "    \n",
      "        skip_adding_hydrogen:bool,\n",
      "    \n",
      "        skip_alternate_ring_conformations:bool,\n",
      "    \n",
      "        skip_enumerate_chiral_mol:bool,\n",
      "    \n",
      "        skip_enumerate_double_bonds:bool,\n",
      "    \n",
      "        skip_making_tautomers:bool,\n",
      "    \n",
      "        skip_optimize_geometry:bool,\n",
      "    \n",
      "        source:string,\n",
      "    \n",
      "        thoroughness:i32,\n",
      "    \n",
      "        use_durrant_lab_filters:bool\n",
      "    \n",
      "        } \n",
      "    \n",
      "    ->\n",
      "    \n",
      "        out: @bytes;\n",
      "    \n",
      "        out: @bytesPrepare ligand for sim. or quantum energy calc. using gypsum_dl.\n",
      "    \n",
      "    \n",
      "    Inputs:\n",
      "        - An input molecule as a SMILES string\n",
      "        - The same input molecule as a PDB file\n",
      "        - A json file representing any other options to pass; see gypsum_dl docs for details\n",
      "    \n",
      "    \n",
      "    Outputs:\n",
      "        - A pdb file containing the prepared version of the molecule, ready for downstream use\n",
      "\n"
     ]
    }
   ],
   "source": [
    "# we can check the inputs for prepare_ligand with help()\n",
    "help(client.prepare_ligand)"
   ]
  },
  {
   "cell_type": "code",
   "execution_count": null,
   "id": "ff192bc3",
   "metadata": {},
   "outputs": [
    {
     "name": "stdout",
     "output_type": "stream",
     "text": [
      "10:23:18.129087 | Running ligand prep!\n"
     ]
    }
   ],
   "source": [
    "ligand_prep_config = {\n",
    "    \"source\": \"\",\n",
    "    \"output_folder\": \"./\",\n",
    "    \"job_manager\": \"multiprocessing\",\n",
    "    \"num_processors\": -1,\n",
    "    \"max_variants_per_compound\": 1,\n",
    "    \"thoroughness\": 3,\n",
    "    \"separate_output_files\": True,\n",
    "    \"min_ph\": 6.4,\n",
    "    \"max_ph\": 8.4,\n",
    "    \"pka_precision\": 1.0,\n",
    "    \"skip_optimize_geometry\": True,\n",
    "    \"skip_alternate_ring_conformations\": True,\n",
    "    \"skip_adding_hydrogen\": False,\n",
    "    \"skip_making_tautomers\": True,\n",
    "    \"skip_enumerate_chiral_mol\": True,\n",
    "    \"skip_enumerate_double_bonds\": True,\n",
    "    \"let_tautomers_change_chirality\": False,\n",
    "    \"use_durrant_lab_filters\": True,\n",
    "}\n",
    "(prepared_ligand_pdb, prepared_ligand_sdf) = await client.prepare_ligand(\n",
    "    LIGAND_SMILES_STR,\n",
    "    LIGAND_PDB_PATH,\n",
    "    ligand_prep_config,\n",
    "    restore=True,\n",
    ")\n",
    "print(f\"{datetime.now().time()} | Running ligand prep!\")"
   ]
  },
  {
   "cell_type": "code",
   "execution_count": null,
   "id": "ee1927a6",
   "metadata": {},
   "outputs": [
    {
     "data": {
      "text/plain": [
       "{'e581230b-894f-46a5-bdbb-f07c8f8ceff8': (<ModuleInstanceStatus.FAILED: 'FAILED'>,\n",
       "  'qp_collate',\n",
       "  1),\n",
       " '5f6a969b-3a56-48a2-afa1-25939218fc52': (<ModuleInstanceStatus.FAILED: 'FAILED'>,\n",
       "  'hermes_energy',\n",
       "  1),\n",
       " '51d050d4-1dbf-4915-b590-9c3dcd475d14': (<ModuleInstanceStatus.FAILED: 'FAILED'>,\n",
       "  'qp_gen_inputs',\n",
       "  1),\n",
       " '748d3de2-8984-4c4a-bd8c-090430b8db86': (<ModuleInstanceStatus.COMPLETED: 'COMPLETED'>,\n",
       "  'gmx_pdb',\n",
       "  1),\n",
       " '746ee040-7450-4917-b60d-e4056c9d850a': (<ModuleInstanceStatus.COMPLETED: 'COMPLETED'>,\n",
       "  'prepare_ligand',\n",
       "  1),\n",
       " '847ba79d-c6a0-43e5-acce-28928b2f349f': (<ModuleInstanceStatus.COMPLETED: 'COMPLETED'>,\n",
       "  'prepare_protein',\n",
       "  1)}"
      ]
     },
     "execution_count": null,
     "metadata": {},
     "output_type": "execute_result"
    }
   ],
   "source": [
    "# we can check the status again\n",
    "await client.status()"
   ]
  },
  {
   "cell_type": "code",
   "execution_count": null,
   "id": "2737e28b",
   "metadata": {},
   "outputs": [
    {
     "name": "stdout",
     "output_type": "stream",
     "text": [
      "10:23:21.141026 | Downloaded prepped ligand!\n"
     ]
    }
   ],
   "source": [
    "# we can download our outputs\n",
    "try:\n",
    "    await prepared_ligand_pdb.download(filename=\"01_prepped_ligand.pdb\")\n",
    "    await prepared_ligand_sdf.download(filename=\"01_prepped_ligand.sdf\")\n",
    "except FileExistsError:\n",
    "    pass\n",
    "\n",
    "print(f\"{datetime.now().time()} | Downloaded prepped ligand!\")"
   ]
  },
  {
   "cell_type": "code",
   "execution_count": null,
   "id": "43344033",
   "metadata": {},
   "outputs": [
    {
     "name": "stdout",
     "output_type": "stream",
     "text": [
      "untitled_0_molnum_0\n",
      "      RDKit          3D\n",
      " ...\n"
     ]
    }
   ],
   "source": [
    "# we can read our outputs\n",
    "with open(client.workspace / \"objects\" / \"01_prepped_ligand.sdf\", \"r\") as f:\n",
    "    print(f.readline(), f.readline(), \"...\")"
   ]
  },
  {
   "cell_type": "markdown",
   "id": "8f75d4c6",
   "metadata": {},
   "source": [
    "## 1.2) Run GROMACS (module: gmx_tengu / gmx_tengu_pdb)\n",
    "Next we will run a molecular dynamics simulation on our protein and ligand, using gromacs (gmx)"
   ]
  },
  {
   "cell_type": "code",
   "execution_count": null,
   "id": "3d8da267",
   "metadata": {},
   "outputs": [
    {
     "name": "stdout",
     "output_type": "stream",
     "text": [
      "Help on function gmx_pdb in module tengu.provider:\n",
      "\n",
      "async gmx_pdb(*args: [<class 'pathlib.Path'>, typing.Optional[~T], dict[str, ~T]], target: tengu.graphql_client.enums.ModuleInstanceTarget | None = <ModuleInstanceTarget.NIX_SSH: 'NIX_SSH'>, resources: tengu.graphql_client.input_types.ModuleInstanceResourcesInput | None = None, tags: list[str] | None = None, restore: bool | None = None) -> [<class 'pathlib.Path'>, <class 'pathlib.Path'>, <class 'pathlib.Path'>, typing.Optional[~T], <class 'pathlib.Path'>]\n",
      "    Runs a molecular dynamics simluation using GROMACS from protein and ligand pdbs as inputs\n",
      "    \n",
      "    Module version: github:talo/gmx_tengu_support/a473bc4a302eebebcb5f54a899192be75c0daa91#gmx_tengu_pdb\n",
      "    \n",
      "    QDX Type Description:\n",
      "    \n",
      "        protein: @bytes;\n",
      "    \n",
      "        ligand: @bytes?;\n",
      "    \n",
      "        gmx-config: {\n",
      "    \n",
      "        frame_sel:{\n",
      "    \n",
      "        begin_time:u32,\n",
      "    \n",
      "        delta_time:u32,\n",
      "    \n",
      "        end_time:u32\n",
      "    \n",
      "        }?,\n",
      "    \n",
      "        ligand_charge:i8?,\n",
      "    \n",
      "        num_gpus:u8,\n",
      "    \n",
      "        num_replicas:u8?,\n",
      "    \n",
      "        param_overrides:{\n",
      "    \n",
      "        em:[(string,\n",
      "    \n",
      "        string)],\n",
      "    \n",
      "        ions:[(string,\n",
      "    \n",
      "        string)],\n",
      "    \n",
      "        md:[(string,\n",
      "    \n",
      "        string)],\n",
      "    \n",
      "        npt:[(string,\n",
      "    \n",
      "        string)],\n",
      "    \n",
      "        nvt:[(string,\n",
      "    \n",
      "        string)]\n",
      "    \n",
      "        }\n",
      "    \n",
      "        } \n",
      "    \n",
      "    ->\n",
      "    \n",
      "        ouput_folder: @bytes;\n",
      "    \n",
      "        dry_frames: @bytes;\n",
      "    \n",
      "        wet_frames: @bytes;\n",
      "    \n",
      "        lig_gro: @bytes?;\n",
      "    \n",
      "        xtcs: @bytes\n",
      "    \n",
      "    \n",
      "    \n",
      "    :param protein: Protein PDB file\n",
      "    :param ligand: Ligand PDB file\n",
      "    :param gmx-config: Configuration record\n",
      "    :return ouput_folder: tar.gz Compressed full GROMACS output folder, containing dry.xtc, dry frames, wet frames, gro of ligand etc.\n",
      "    :return dry_frames: tar.gz of dry pdb frames\n",
      "    :return wet_frames: tar.gz of wet pdb frames\n",
      "    :return lig_gro: tar.gz of ligand gro\n",
      "    :return xtcs: tar.gz of xtc files\n",
      "\n"
     ]
    }
   ],
   "source": [
    "help(client.gmx_pdb)"
   ]
  },
  {
   "cell_type": "code",
   "execution_count": null,
   "id": "681080f8",
   "metadata": {},
   "outputs": [
    {
     "name": "stdout",
     "output_type": "stream",
     "text": [
      "10:23:21.201348 | Running GROMACS simulation!\n"
     ]
    }
   ],
   "source": [
    "gmx_config = {\n",
    "    \"param_overrides\": {\n",
    "        \"md\": [(\"nsteps\", \"5000\")],\n",
    "        \"em\": [(\"nsteps\", \"1000\")],\n",
    "        \"nvt\": [(\"nsteps\", \"1000\")],\n",
    "        \"npt\": [(\"nsteps\", \"1000\")],\n",
    "        \"ions\": [],\n",
    "    },\n",
    "    \"num_gpus\": 0,\n",
    "    \"num_replicas\": 1,\n",
    "    \"ligand_charge\": None,\n",
    "    \"frame_sel\": {\n",
    "        \"begin_time\": 1,\n",
    "        \"end_time\": 10,\n",
    "        \"delta_time\": 2,\n",
    "    },\n",
    "}\n",
    "# we pass the outputs from our prior runs directly, instead of their values, to prevent them from being re-uploaded\n",
    "(gmx_run_folder_tar, dry_frames_tar, wet_frames_tar, lig_gro_tar, xtcs_tar) = await client.gmx_pdb(\n",
    "    prepared_protein,\n",
    "    prepared_ligand_pdb,\n",
    "    gmx_config,\n",
    "    resources={\"gpus\": 0, \"storage\": 1, \"storage_units\": \"GB\", \"cpus\": 48, \"walltime\": 60},\n",
    "    restore=True,\n",
    ")\n",
    "print(f\"{datetime.now().time()} | Running GROMACS simulation!\")"
   ]
  },
  {
   "cell_type": "code",
   "execution_count": null,
   "id": "3f85d220",
   "metadata": {},
   "outputs": [
    {
     "data": {
      "text/plain": [
       "{'e581230b-894f-46a5-bdbb-f07c8f8ceff8': (<ModuleInstanceStatus.FAILED: 'FAILED'>,\n",
       "  'qp_collate',\n",
       "  1),\n",
       " '5f6a969b-3a56-48a2-afa1-25939218fc52': (<ModuleInstanceStatus.FAILED: 'FAILED'>,\n",
       "  'hermes_energy',\n",
       "  1),\n",
       " '51d050d4-1dbf-4915-b590-9c3dcd475d14': (<ModuleInstanceStatus.FAILED: 'FAILED'>,\n",
       "  'qp_gen_inputs',\n",
       "  1),\n",
       " '748d3de2-8984-4c4a-bd8c-090430b8db86': (<ModuleInstanceStatus.COMPLETED: 'COMPLETED'>,\n",
       "  'gmx_pdb',\n",
       "  1),\n",
       " '746ee040-7450-4917-b60d-e4056c9d850a': (<ModuleInstanceStatus.COMPLETED: 'COMPLETED'>,\n",
       "  'prepare_ligand',\n",
       "  1),\n",
       " '847ba79d-c6a0-43e5-acce-28928b2f349f': (<ModuleInstanceStatus.COMPLETED: 'COMPLETED'>,\n",
       "  'prepare_protein',\n",
       "  1)}"
      ]
     },
     "execution_count": null,
     "metadata": {},
     "output_type": "execute_result"
    }
   ],
   "source": [
    "# we can check the status again\n",
    "await client.status()"
   ]
  },
  {
   "cell_type": "code",
   "execution_count": null,
   "id": "794844d9",
   "metadata": {},
   "outputs": [
    {
     "name": "stdout",
     "output_type": "stream",
     "text": [
      "Fetching gmx results\n",
      "10:23:24.315210 | Downloaded GROMACS output!\n"
     ]
    }
   ],
   "source": [
    "print(\"Fetching gmx results\")\n",
    "try:\n",
    "    await dry_frames_tar.download(filename=\"02_gmx_dry_frames.tar.gz\")\n",
    "    await lig_gro_tar.download(filename=\"02_gmx_lig_gro.tar.gz\")\n",
    "    await gmx_run_folder_tar.download(filename=\"02_gmx_run_folder.tar.gz\")\n",
    "\n",
    "except FileExistsError:\n",
    "    pass\n",
    "\n",
    "print(f\"{datetime.now().time()} | Downloaded GROMACS output!\")"
   ]
  },
  {
   "cell_type": "code",
   "execution_count": null,
   "id": "f42c5d8a",
   "metadata": {},
   "outputs": [],
   "source": [
    "# Extract the \"dry\" (i.e. non-solvated) pdb frames we asked for\n",
    "with tarfile.open(client.workspace / \"objects\" / \"02_gmx_dry_frames.tar.gz\", \"r\") as tf:\n",
    "    selected_frame_pdbs = [tf.extractfile(member).read() for member in tf if \"pdb\" in member.name]\n",
    "    for i, frame in enumerate(selected_frame_pdbs):\n",
    "        with open(client.workspace / \"objects\" / f\"02_gmx_output_frame_{i}.pdb\", \"w\") as pf:\n",
    "            print(frame.decode(\"utf-8\"), file=pf)"
   ]
  },
  {
   "cell_type": "code",
   "execution_count": null,
   "id": "b0607cc0",
   "metadata": {},
   "outputs": [],
   "source": [
    "# Extract the ligand.gro file\n",
    "with tarfile.open(client.workspace / \"objects\" / \"02_gmx_lig_gro.tar.gz\", \"r\") as tf:\n",
    "    gro = [tf.extractfile(member).read() for member in tf if \"temp\" in member.name][0]\n",
    "    with open(client.workspace / \"objects\" / f\"02_gmx_lig.gro\", \"w\") as pf:\n",
    "        print(gro.decode(\"utf-8\"), file=pf)"
   ]
  },
  {
   "cell_type": "code",
   "execution_count": null,
   "id": "8992a61c",
   "metadata": {},
   "outputs": [
    {
     "name": "stdout",
     "output_type": "stream",
     "text": [
      "Help on function qp_collate in module tengu.provider:\n",
      "\n",
      "async qp_collate(*args: [<class 'pathlib.Path'>, list[~T]], target: tengu.graphql_client.enums.ModuleInstanceTarget | None = <ModuleInstanceTarget.NIX: 'NIX'>, resources: tengu.graphql_client.input_types.ModuleInstanceResourcesInput | None = None, tags: list[str] | None = None, restore: bool | None = None) -> [<class 'pathlib.Path'>]\n",
      "    Takes hermes results and amino acid to fragment indexes and outputs interaction energies.\n",
      "    \n",
      "    Module version: github:talo/tengu-prelude/b624dbe6f9ccb7ccc417d52cdc3dd251de76b604#qp_collate\n",
      "    \n",
      "    QDX Type Description:\n",
      "    \n",
      "        hermes_results: @{\n",
      "    \n",
      "        dimer_energies:DimerEnergies?,\n",
      "    \n",
      "        energy:Energy,\n",
      "    \n",
      "        fragment_basis_functions:[{\n",
      "    \n",
      "        n_occupied_basis_functions:u32,\n",
      "    \n",
      "        n_virtual_basis_functions:u32,\n",
      "    \n",
      "        total_n_basis_functions:u32\n",
      "    \n",
      "        }]?,\n",
      "    \n",
      "        full_system_basis_functions:{\n",
      "    \n",
      "        n_occupied_basis_functions:u32,\n",
      "    \n",
      "        n_virtual_basis_functions:u32,\n",
      "    \n",
      "        total_n_basis_functions:u32\n",
      "    \n",
      "        }?,\n",
      "    \n",
      "        monomer_energies:MonomerEnergies?,\n",
      "    \n",
      "        trimer_energies:TrimerEnergies?\n",
      "    \n",
      "        };\n",
      "    \n",
      "        amino_acid_to_fragment_indexes: [(string,\n",
      "    \n",
      "        u32)] \n",
      "    \n",
      "    ->\n",
      "    \n",
      "        out: @{\n",
      "    \n",
      "        amino_acid_interaction_energies:[{\n",
      "    \n",
      "        amino_acid_id:string,\n",
      "    \n",
      "        dimer_hf_interaction_e:f64,\n",
      "    \n",
      "        dimer_mp2_os_interaction_e:f64?,\n",
      "    \n",
      "        dimer_mp2_ss_interaction_e:f64?\n",
      "    \n",
      "        }],\n",
      "    \n",
      "        amino_acid_to_fragment_indexes:[(string,\n",
      "    \n",
      "        u32)],\n",
      "    \n",
      "        dimer_hf_energies:[f64],\n",
      "    \n",
      "        dimer_hf_interaction_energies:[f64],\n",
      "    \n",
      "        dimer_mp2_os_energies:[f64?],\n",
      "    \n",
      "        dimer_mp2_os_interaction_energies:[f64?],\n",
      "    \n",
      "        dimer_mp2_ss_energies:[f64?],\n",
      "    \n",
      "        dimer_mp2_ss_interaction_energies:[f64?],\n",
      "    \n",
      "        dimer_pairs:[[u32]],\n",
      "    \n",
      "        full_lattice_energy:(f64,\n",
      "    \n",
      "        f64?,\n",
      "    \n",
      "        f64?)\n",
      "    \n",
      "        }\n",
      "    \n",
      "    \n",
      "    \n",
      "    :param hermes_results: hermes results\n",
      "    :param amino_acid_to_fragment_indexes: amino acid to fragment indexes, from qp-gen-inputs\n",
      "\n"
     ]
    }
   ],
   "source": [
    "help(client.qp_collate)"
   ]
  },
  {
   "cell_type": "markdown",
   "id": "8f3766be",
   "metadata": {},
   "source": [
    "## 1.3) Run quantum energy calculation (modules: qp_gen_inputs, hermes_energy, qp_collate)"
   ]
  },
  {
   "cell_type": "markdown",
   "id": "09deb315",
   "metadata": {},
   "source": [
    "Tengu has \"protocols\" which are multiple functions wired together as a single function. In order to get our Quantum Pairwise (QP) energy results, we need to run 3 modules, which we provide as a protocol under `tengu.run_qp`.\n",
    "\n",
    "We run the protocol by giving it a provider, and paths to the versions of the 3 modules it requires"
   ]
  },
  {
   "cell_type": "code",
   "execution_count": null,
   "id": "b1e2a539",
   "metadata": {},
   "outputs": [
    {
     "name": "stdout",
     "output_type": "stream",
     "text": [
      "launched qp_prep_instance 51d050d4-1dbf-4915-b590-9c3dcd475d14\n",
      "launched hermes_instance 5f6a969b-3a56-48a2-afa1-25939218fc52\n",
      "10:23:24.474485 | Running QP energy calculation!\n"
     ]
    }
   ],
   "source": [
    "(energy_result, qp_result) = await tengu.run_qp(\n",
    "    client,\n",
    "    modules[\"qp_gen_inputs\"],\n",
    "    modules[\"hermes_energy\"],\n",
    "    modules[\"qp_collate\"],\n",
    "    pdb=client.workspace / \"objects\" / f\"02_gmx_output_frame_0.pdb\",\n",
    "    gro=client.workspace / \"objects\" / f\"02_gmx_lig.gro\",\n",
    "    lig=prepared_ligand_sdf,\n",
    "    lig_type=\"sdf\",\n",
    "    lig_res_id=\"UNL\",  # The ligand's residue code in the PDB file; this is what our prep uses\n",
    "    use_new_fragmentation_method=True,\n",
    "    hermes_target=\"NIX_SSH_3\",\n",
    "    hermes_resources=tengu.Resources(storage=10, storage_units=\"MB\", gpus=1, walltime=60),\n",
    "    restore=True,\n",
    "    tags=[\"with_resources\", \"with_new_frag\"],\n",
    ")\n",
    "print(f\"{datetime.now().time()} | Running QP energy calculation!\")"
   ]
  },
  {
   "cell_type": "code",
   "execution_count": null,
   "id": "5eac6e54",
   "metadata": {},
   "outputs": [
    {
     "data": {
      "text/plain": [
       "{'e581230b-894f-46a5-bdbb-f07c8f8ceff8': (<ModuleInstanceStatus.FAILED: 'FAILED'>,\n",
       "  'qp_collate',\n",
       "  1),\n",
       " '5f6a969b-3a56-48a2-afa1-25939218fc52': (<ModuleInstanceStatus.FAILED: 'FAILED'>,\n",
       "  'hermes_energy',\n",
       "  1),\n",
       " '51d050d4-1dbf-4915-b590-9c3dcd475d14': (<ModuleInstanceStatus.FAILED: 'FAILED'>,\n",
       "  'qp_gen_inputs',\n",
       "  1),\n",
       " '748d3de2-8984-4c4a-bd8c-090430b8db86': (<ModuleInstanceStatus.COMPLETED: 'COMPLETED'>,\n",
       "  'gmx_pdb',\n",
       "  1),\n",
       " '746ee040-7450-4917-b60d-e4056c9d850a': (<ModuleInstanceStatus.COMPLETED: 'COMPLETED'>,\n",
       "  'prepare_ligand',\n",
       "  1),\n",
       " '847ba79d-c6a0-43e5-acce-28928b2f349f': (<ModuleInstanceStatus.COMPLETED: 'COMPLETED'>,\n",
       "  'prepare_protein',\n",
       "  1)}"
      ]
     },
     "execution_count": null,
     "metadata": {},
     "output_type": "execute_result"
    }
   ],
   "source": [
    "await client.status()"
   ]
  },
  {
   "cell_type": "code",
   "execution_count": null,
   "id": "8b44eead",
   "metadata": {},
   "outputs": [],
   "source": [
    "await qp_result.get()\n",
    "print(f\"{datetime.now().time()} | Got qp interaction energy!\")"
   ]
  },
  {
   "cell_type": "markdown",
   "id": "8d6a9ed8",
   "metadata": {},
   "source": [
    "## 1.4) Run MM-PBSA"
   ]
  },
  {
   "cell_type": "code",
   "execution_count": null,
   "id": "1db4631e",
   "metadata": {},
   "outputs": [
    {
     "name": "stdout",
     "output_type": "stream",
     "text": [
      "Help on function gmx_mmpbsa in module tengu.provider:\n",
      "\n",
      "async gmx_mmpbsa(*args: [<class 'pathlib.Path'>, dict[str, ~T]], target: tengu.graphql_client.enums.ModuleInstanceTarget | None = <ModuleInstanceTarget.NIX_SSH_3: 'NIX_SSH_3'>, resources: tengu.graphql_client.input_types.ModuleInstanceResourcesInput | None = None, tags: list[str] | None = None, restore: bool | None = None) -> [<class 'pathlib.Path'>]\n",
      "    Updates the geometry of a conformer runnning GROMACS's energy minimization in solvent\n",
      "    \n",
      "    Module version: github:talo/gmx_tengu_support/d4ea797dcdedf9b91de1b76a32f8a95f0cbf21df#gmx_mmpbsa_tengu\n",
      "    \n",
      "    QDX Type Description:\n",
      "    \n",
      "        output_tar_gz: @bytes;\n",
      "    \n",
      "        mmpbsa_config: {\n",
      "    \n",
      "        end_frame:u64,\n",
      "    \n",
      "        interaction_entropy:bool?,\n",
      "    \n",
      "        interval:u32?,\n",
      "    \n",
      "        num_cpus:u32,\n",
      "    \n",
      "        rerun_consolidate:bool?,\n",
      "    \n",
      "        start_frame:u64\n",
      "    \n",
      "        } \n",
      "    \n",
      "    ->\n",
      "    \n",
      "        output: @bytes\n",
      "    \n",
      "    \n",
      "    \n",
      "    :param output_tar_gz: Compressed GROMACS output folder\n",
      "    :param mmpbsa_config: Configuration record for mmpbsa:\n",
      "    start_frame: Frame to start with\n",
      "    end_frame: Frame to end with\n",
      "    num_cpus: Number of CPUs to use - cannot be larger than the number of frames\n",
      "    rerun_consolidate: Rerun consolidate if you are unsure of the validity of the dry.xtc\n",
      "    interaction_entropy: Calculate interaction entropy\n",
      "    \n",
      "    :return output: Compressed mmpbsa output folder\n",
      "\n"
     ]
    }
   ],
   "source": [
    "help(client.gmx_mmpbsa)"
   ]
  },
  {
   "cell_type": "code",
   "execution_count": null,
   "id": "9b60c92e",
   "metadata": {},
   "outputs": [
    {
     "name": "stdout",
     "output_type": "stream",
     "text": [
      "10:25:11.820807 | Running GROMACS MM-PBSA calculation!\n"
     ]
    }
   ],
   "source": [
    "mmpbsa_config = {\n",
    "    \"start_frame\": 1,\n",
    "    \"end_frame\": 2,\n",
    "    \"num_cpus\": 1,  # cannot be greater than number of frames\n",
    "}\n",
    "(mmpbsa_result_tar,) = await client.gmx_mmpbsa(\n",
    "    gmx_run_folder_tar,\n",
    "    mmpbsa_config,\n",
    "    resources=tengu.Resources(storage=100, storage_units=\"MB\", gpus=0, walltime=60),\n",
    "    target=\"GADI\",\n",
    ")\n",
    "print(f\"{datetime.now().time()} | Running GROMACS MM-PBSA calculation!\")"
   ]
  },
  {
   "cell_type": "code",
   "execution_count": null,
   "id": "d4823f69",
   "metadata": {},
   "outputs": [
    {
     "name": "stdout",
     "output_type": "stream",
     "text": [
      "Fetching gmx_mmpbsa results\n"
     ]
    }
   ],
   "source": [
    "print(\"Fetching gmx_mmpbsa results\")\n",
    "try:\n",
    "    await mmpbsa_result_tar.download(filename=\"04_gmx_mmpbsa_run_folder.tar.gz\")\n",
    "except FileExistsError:\n",
    "    pass\n",
    "print(f\"{datetime.now().time()} | Downloaded MM-PBSA results!\")"
   ]
  }
 ],
 "metadata": {
  "kernelspec": {
   "display_name": "python3",
   "language": "python",
   "name": "python3"
  }
 },
 "nbformat": 4,
 "nbformat_minor": 5
}
