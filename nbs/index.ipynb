{
 "cells": [
  {
   "cell_type": "markdown",
   "id": "07540e33-cad3-46f1-bfa9-5d5d38d00b66",
   "metadata": {},
   "source": [
    "# rush-py\n",
    "> Python SDK for the Rush computational chemistry workflow management system "
   ]
  },
  {
   "cell_type": "markdown",
   "id": "1c50b21f-2cc7-4155-8683-91d2180b076b",
   "metadata": {},
   "source": [
    "# Install\n",
    "\n",
    "First, install the following modules via the command-line (we require Python ≥ 3.11):"
   ]
  },
  {
   "cell_type": "markdown",
   "id": "2a23cece-7119-4549-a929-7791d30eb93a",
   "metadata": {},
   "source": [
    "``` bash\n",
    "pip install rush-py\n",
    "```"
   ]
  },
  {
   "cell_type": "markdown",
   "id": "4baf732b-a5d3-44f9-a592-f27cd59cf7bd",
   "metadata": {},
   "source": [
    "## Running benchmarks of computational chemistry workflows"
   ]
  },
  {
   "cell_type": "markdown",
   "id": "a0245bfe-79e0-4a16-bb34-edc2d3de3425",
   "metadata": {},
   "source": [
    "You can submit protocols for benchmarking using the `rex` workflow scripting language."
   ]
  },
  {
   "cell_type": "code",
   "execution_count": 5,
   "id": "366b2716-e11e-4af5-8eee-409445658749",
   "metadata": {},
   "outputs": [],
   "source": [
    "from rush import build_blocking_provider_with_functions"
   ]
  },
  {
   "cell_type": "code",
   "execution_count": 6,
   "id": "c2452647-5006-4322-ab26-ffe9be971f65",
   "metadata": {},
   "outputs": [],
   "source": [
    "# |hide\n",
    "# hidden setup for the notebook\n",
    "import os\n",
    "import pathlib\n",
    "\n",
    "WORK_DIR = pathlib.Path(\"~/qdx/benchmark_notebook\").expanduser()\n",
    "if WORK_DIR.exists():\n",
    "    !rm -r $WORK_DIR\n",
    "os.makedirs(WORK_DIR, exist_ok=True)\n",
    "# swap into clean workdir so that our tests are deterministic\n",
    "os.chdir(WORK_DIR)\n",
    "PUT_YOUR_TOKEN_HERE = os.environ[\"RUSH_TOKEN\"]\n",
    "PUT_YOUR_PREFERRED_WORKING_DIRECTORY_HERE = WORK_DIR\n",
    "os.environ[\"RUSH_RESTORE_BY_DEFAULT\"] = \"False\""
   ]
  },
  {
   "cell_type": "code",
   "execution_count": 7,
   "id": "08970296-73c7-4587-9b38-93e17e3b16fb",
   "metadata": {},
   "outputs": [
    {
     "name": "stdout",
     "output_type": "stream",
     "text": [
      "2025-02-03 14:39:37,084 - rush - INFO - Not restoring by default via env\n"
     ]
    }
   ],
   "source": [
    "client = build_blocking_provider_with_functions(\n",
    "    access_token=PUT_YOUR_TOKEN_HERE\n",
    "    # for example, if your token is 00000000-dddd-cccc-0000-11111111,\n",
    "    # then you should put access_token=\"00000000-dddd-cccc-0000-11111111\"\n",
    "    # (including the double quotes)\n",
    ")"
   ]
  },
  {
   "cell_type": "code",
   "execution_count": 9,
   "id": "3e747fb2-f93c-4905-9b12-e04dfa9ed268",
   "metadata": {},
   "outputs": [],
   "source": [
    "benchmark = client.benchmark_blocking(name=\"OpenFF Protein-Ligand Binding Benchmark\")"
   ]
  },
  {
   "cell_type": "code",
   "execution_count": 10,
   "id": "cf9be066-b094-40f1-8f44-cf2867bbb67b",
   "metadata": {},
   "outputs": [],
   "source": [
    "# |hide\n",
    "from IPython.display import Markdown as md\n",
    "rex_code_above = \"\"\"\n",
    "let\n",
    "    runspec = RunSpec {\n",
    "        target = 'Bullet',\n",
    "        resources = Resources {\n",
    "            storage = some 10,\n",
    "            storage_units = some \"MB\",\n",
    "            gpus = some 1\n",
    "        }\n",
    "    },\n",
    "\n",
    "    runspec_nogpu = RunSpec {\n",
    "        target = 'Bullet',\n",
    "        resources = Resources {\n",
    "            storage = some 10,\n",
    "            storage_units = some \"MB\",\n",
    "            gpus = none\n",
    "        }\n",
    "    },\n",
    "\n",
    "    auto3d = \\\\smi ->\n",
    "        let\n",
    "            result = get 0 (auto3d_rex_s runspec { k = 1 } [smi]),\n",
    "            make_virtual_object = \\\\index ->\n",
    "                VirtualObject {\n",
    "                    path = get \"path\" (get index result),\n",
    "                    size = get \"size\" (get index result),\n",
    "                    format = \"json\"\n",
    "                }\n",
    "        in\n",
    "            (make_virtual_object 0, make_virtual_object 1),\n",
    "\n",
    "    p2rank = \\\\prot_conf ->  p2rank_rex_s runspec_nogpu {} prot_conf,\n",
    "\n",
    "    gnina = \\\\prot_conf -> \\\\bounding_box -> \\\\smol_conf ->\n",
    "        get 0 (get 0 (gnina_rex_s runspec {} [prot_conf] [bounding_box] smol_conf [])),\n",
    "\n",
    "in\n",
    "\\\\input ->\n",
    "    let\n",
    "        protein = load (id (get 0 input)) 'ProteinConformer',\n",
    "        smol_id = id (get 1 input),\n",
    "        smiles = smi (load smol_id 'Smol'),\n",
    "\n",
    "        structure = load (structure_id protein) 'Structure',\n",
    "        trc = [\n",
    "            topology structure,\n",
    "            residues structure,\n",
    "            chains structure\n",
    "        ],\n",
    "\n",
    "        bounding_box = get 0 (get 0 (p2rank trc)),\n",
    "\n",
    "        smol_structure = auto3d smiles,\n",
    "\n",
    "        docked_structure = gnina trc bounding_box [smol_structure],\n",
    "\n",
    "        min_affinity = list_min (map (get \"affinity\") (get \"scores\" docked_structure)),\n",
    "\n",
    "        binding_affinity = BindingAffinity {\n",
    "            affinity = min_affinity,\n",
    "            affinity_metric = 'kcal/mol',\n",
    "            protein_id = protein_id protein,\n",
    "            smol_id = smol_id,\n",
    "            metadata = Metadata {\n",
    "                name = id input,\n",
    "                description = none,\n",
    "                tags = [id input]\n",
    "            }\n",
    "        }\n",
    "    in\n",
    "        [BenchmarkArg {\n",
    "            entity = \"BindingAffinity\",\n",
    "            id = save binding_affinity\n",
    "        }]\n",
    "\"\"\""
   ]
  },
  {
   "cell_type": "code",
   "execution_count": 16,
   "id": "b3391406-9462-4004-ada5-315cba702943",
   "metadata": {
    "jupyter": {
     "source_hidden": true
    },
    "scrolled": true
   },
   "outputs": [
    {
     "data": {
      "text/markdown": [
       "```haskell\n",
       "let\n",
       "    runspec = RunSpec {\n",
       "        target = 'Bullet',\n",
       "        resources = Resources {\n",
       "            storage = some 10,\n",
       "            storage_units = some \"MB\",\n",
       "            gpus = some 1\n",
       "        }\n",
       "    },\n",
       "\n",
       "    runspec_nogpu = RunSpec {\n",
       "        target = 'Bullet',\n",
       "        resources = Resources {\n",
       "            storage = some 10,\n",
       "            storage_units = some \"MB\",\n",
       "            gpus = none\n",
       "        }\n",
       "    },\n",
       "\n",
       "    auto3d = \\smi ->\n",
       "        let\n",
       "            result = get 0 (auto3d_rex_s runspec { k = 1 } [smi]),\n",
       "            make_virtual_object = \\index ->\n",
       "                VirtualObject {\n",
       "                    path = get \"path\" (get index result),\n",
       "                    size = get \"size\" (get index result),\n",
       "                    format = \"json\"\n",
       "                }\n",
       "        in\n",
       "            (make_virtual_object 0, make_virtual_object 1),\n",
       "\n",
       "    p2rank = \\prot_conf ->  p2rank_rex_s runspec_nogpu {} prot_conf,\n",
       "\n",
       "    gnina = \\prot_conf -> \\bounding_box -> \\smol_conf ->\n",
       "        get 0 (get 0 (gnina_rex_s runspec {} [prot_conf] [bounding_box] smol_conf [])),\n",
       "\n",
       "in\n",
       "\\input ->\n",
       "    let\n",
       "        protein = load (id (get 0 input)) 'ProteinConformer',\n",
       "        smol_id = id (get 1 input),\n",
       "        smiles = smi (load smol_id 'Smol'),\n",
       "\n",
       "        structure = load (structure_id protein) 'Structure',\n",
       "        trc = [\n",
       "            topology structure,\n",
       "            residues structure,\n",
       "            chains structure\n",
       "        ],\n",
       "\n",
       "        bounding_box = get 0 (get 0 (p2rank trc)),\n",
       "\n",
       "        smol_structure = auto3d smiles,\n",
       "\n",
       "        docked_structure = gnina trc bounding_box [smol_structure],\n",
       "\n",
       "        min_affinity = list_min (map (get \"affinity\") (get \"scores\" docked_structure)),\n",
       "\n",
       "        binding_affinity = BindingAffinity {\n",
       "            affinity = min_affinity,\n",
       "            affinity_metric = 'kcal/mol',\n",
       "            protein_id = protein_id protein,\n",
       "            smol_id = smol_id,\n",
       "            metadata = Metadata {\n",
       "                name = id input,\n",
       "                description = none,\n",
       "                tags = [id input]\n",
       "            }\n",
       "        }\n",
       "    in\n",
       "        [BenchmarkArg {\n",
       "            entity = \"BindingAffinity\",\n",
       "            id = save binding_affinity\n",
       "        }]\n",
       "```"
      ],
      "text/plain": [
       "<IPython.core.display.Markdown object>"
      ]
     },
     "execution_count": 16,
     "metadata": {},
     "output_type": "execute_result"
    }
   ],
   "source": [
    "#| echo:false\n",
    "md(f\"```haskell{rex_code_above}```\")"
   ]
  },
  {
   "cell_type": "code",
   "execution_count": 15,
   "id": "0b827f59-76af-4dc4-abf8-668ab5784daa",
   "metadata": {},
   "outputs": [
    {
     "name": "stdout",
     "output_type": "stream",
     "text": [
      "View your submission at https://rush.cloud/project/864e3391-ba26-481e-8ec8-9dffeb938cdf/runs?selectedRunId=57edc0bc-9de0-4d69-8bb8-9fc939ed4793\n"
     ]
    }
   ],
   "source": [
    "submission = client.run_benchmark_blocking(\n",
    "    benchmark.id, \n",
    "    rex_code_above, \n",
    "    \"simple submission\", \n",
    "    sample=0.2)"
   ]
  },
  {
   "cell_type": "code",
   "execution_count": null,
   "id": "57f213c6-37ac-4b6d-b7ff-d6c32d50abe8",
   "metadata": {},
   "outputs": [],
   "source": []
  }
 ],
 "metadata": {
  "kernelspec": {
   "display_name": "Python 3 (ipykernel)",
   "language": "python",
   "name": "python3"
  },
  "language_info": {
   "codemirror_mode": {
    "name": "ipython",
    "version": 3
   },
   "file_extension": ".py",
   "mimetype": "text/x-python",
   "name": "python",
   "nbconvert_exporter": "python",
   "pygments_lexer": "ipython3",
   "version": "3.12.5"
  }
 },
 "nbformat": 4,
 "nbformat_minor": 5
}
