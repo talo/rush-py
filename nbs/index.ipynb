{
 "cells": [
  {
   "cell_type": "markdown",
   "id": "b4028a5d",
   "metadata": {},
   "source": [
    "# rush-py\n",
    "\n",
    "> Python SDK for the QDX Quantum Chemistry workflow management system"
   ]
  },
  {
   "cell_type": "markdown",
   "id": "12ec4840",
   "metadata": {},
   "source": [
    "# Quickstart\n",
    "This document will walk through executing jobs on the rush platform. For a comprehensive guide on the concepts and constructing a full workflow, see the [full rush-py explainer](https://talo.github.io/rush-py/full-rush-py-explainer.html) document."
   ]
  },
  {
   "cell_type": "markdown",
   "id": "464b6d45",
   "metadata": {},
   "source": [
    "First, install the following modules via pip—we require Python ≥ 3.10:\n",
    "```\n",
    "pip install rush-py pdb-tools\n",
    "```"
   ]
  },
  {
   "cell_type": "markdown",
   "id": "7e2d2461",
   "metadata": {},
   "source": [
    "# 0) Setup\n",
    "This is where we prepare the rush client, directories, and input data we'll be working with."
   ]
  },
  {
   "cell_type": "markdown",
   "id": "e61b63ed",
   "metadata": {},
   "source": [
    "## 0.0) Imports"
   ]
  },
  {
   "cell_type": "code",
   "execution_count": null,
   "id": "9c10fbbc",
   "metadata": {},
   "outputs": [],
   "source": [
    "import os\n",
    "import tarfile\n",
    "from datetime import datetime\n",
    "from pathlib import Path\n",
    "\n",
    "import py3Dmol\n",
    "import requests\n",
    "from pdbtools import pdb_delhetatm, pdb_fetch, pdb_selchain\n",
    "\n",
    "import rush"
   ]
  },
  {
   "cell_type": "markdown",
   "id": "8310b10d",
   "metadata": {},
   "source": [
    "*_NOTE_*: This walkthrough assumes that you are running code in a Jupyter notebook, which allows for top level `await` calls. If you are writing a normal Python script, you will need to wrap your code in something like the following:\n",
    "``` python\n",
    "import asyncio\n",
    "def main():\n",
    "    #your code here\n",
    "asyncio.run(main)\n",
    "```"
   ]
  },
  {
   "cell_type": "markdown",
   "id": "da759feb",
   "metadata": {},
   "source": [
    "## 0.1) Credentials\n",
    "Retrieve your API token from the [Rush UI](https://rush.qdx.co/dashboard/settings).\n",
    "\n",
    "You can either set the `RUSH_URL` and `RUSH_TOKEN` environment variables or provide them as variables to the client directly.\n",
    "\n",
    "To see how to set environment variables, [Wikipedia](https://en.wikipedia.org/wiki/Environment_variable) has an extensive article."
   ]
  },
  {
   "cell_type": "code",
   "execution_count": null,
   "id": "05dc6672",
   "metadata": {},
   "outputs": [],
   "source": [
    "RUSH_URL = os.getenv(\"RUSH_URL\") or \"https://tengu.qdx.ai\"\n",
    "RUSH_TOKEN = os.getenv(\"RUSH_TOKEN\") or \"YOUR_TOKEN_HERE\""
   ]
  },
  {
   "cell_type": "markdown",
   "id": "c8fec9f3",
   "metadata": {},
   "source": [
    "## 0.2) Configuration\n",
    "Lets set some global variables that define our project. These are not required, but are good practice to help organize the jobs that will be persisted under your account.\n",
    "\n",
    "Make sure you create a unique set of tags for each run.\n",
    "Good practice is to have at least each of the experiment name and system name as a tag."
   ]
  },
  {
   "cell_type": "code",
   "execution_count": null,
   "id": "daca1524",
   "metadata": {},
   "outputs": [],
   "source": [
    "EXPERIMENT = \"rush-py-quickstart\"\n",
    "SYSTEM = \"1B39\"\n",
    "TAGS = [\"qdx\", EXPERIMENT, SYSTEM]"
   ]
  },
  {
   "cell_type": "code",
   "execution_count": null,
   "id": "7293301e",
   "metadata": {},
   "outputs": [],
   "source": [
    "# |hide\n",
    "WORK_DIR = Path.home() / \"qdx\" / EXPERIMENT\n",
    "\n",
    "if WORK_DIR.exists():\n",
    "    client = rush.Provider(workspace=WORK_DIR)\n",
    "    await client.nuke(remote=False)\n",
    "\n",
    "os.makedirs(WORK_DIR, exist_ok=True)\n",
    "import sys\n",
    "\n",
    "os.chdir(WORK_DIR)"
   ]
  },
  {
   "cell_type": "markdown",
   "id": "d0341ae3",
   "metadata": {},
   "source": [
    "## 0.2) Build your client\n",
    "Get our client, which we'll use for calling modules and generally for using the Rush API.\n",
    "\n",
    "As mentioned earlier, `url` and `access_token` are optional if you have set the env variables `RUSH_URL` and `RUSH_TOKEN` respectively.\n",
    "\n",
    "`batch_tags` will be applied to each run that is spawned by this client.\n",
    "\n",
    "A folder called `.rush` will be created in your workspace directory (defaults to the current working directory, can be overridden by passing `workspace=` to the provider builder)."
   ]
  },
  {
   "cell_type": "code",
   "execution_count": null,
   "id": "e560bb76",
   "metadata": {},
   "outputs": [],
   "source": [
    "# By using the `build_provider_with_functions` method,\n",
    "# we will also build helper functions calling each module\n",
    "client = await rush.build_provider_with_functions(url=RUSH_URL, access_token=RUSH_TOKEN, batch_tags=TAGS)"
   ]
  },
  {
   "cell_type": "code",
   "execution_count": null,
   "id": "03885b63",
   "metadata": {},
   "outputs": [],
   "source": [
    "# |hide\n",
    "client = await rush.build_provider_with_functions(\n",
    "    url=RUSH_URL, access_token=RUSH_TOKEN, batch_tags=TAGS, restore_by_default=True\n",
    ")"
   ]
  },
  {
   "cell_type": "markdown",
   "id": "e835fcaf",
   "metadata": {},
   "source": [
    "## 0.3) Input selection\n",
    "Fetch data files from RCSB to pass as input to the modules:"
   ]
  },
  {
   "cell_type": "code",
   "execution_count": null,
   "id": "b24fa4b2",
   "metadata": {},
   "outputs": [],
   "source": [
    "PROTEIN_PDB_PATH = client.workspace / f\"{SYSTEM}_P.pdb\"\n",
    "\n",
    "complex = list(pdb_fetch.fetch_structure(SYSTEM))\n",
    "protein = pdb_delhetatm.remove_hetatm(pdb_selchain.select_chain(complex, \"A\"))\n",
    "with open(PROTEIN_PDB_PATH, \"w\") as f:\n",
    "    for l in protein:\n",
    "        f.write(str(l))"
   ]
  },
  {
   "cell_type": "code",
   "execution_count": null,
   "id": "40c03797",
   "metadata": {},
   "outputs": [
    {
     "name": "stdout",
     "output_type": "stream",
     "text": [
      "Help on function convert in module rush.provider:\n",
      "\n",
      "async convert(*args: *tuple[EnumValue, RushObject[bytes]], target: 'Target | None' = None, resources: 'Resources | None' = {'storage': 10, 'storage_units': 'MB', 'gpus': 0}, tags: 'list[str] | None' = None, restore: 'bool | None' = None) -> tuple[RushObject[list[Conformer]]]\n",
      "    Convert biomolecular and chemical file formats to the QDX file format. Supports PDB and SDF\n",
      "    \n",
      "    Module version:  \n",
      "    `github:talo/tengu-prelude/efc6d8b3a8cc342cd9866d037abb77dac40a4d56#convert`\n",
      "    \n",
      "    QDX Type Description:\n",
      "    \n",
      "        format: PDB | SDF;\n",
      "        input: @bytes\n",
      "        ->\n",
      "        output: @[Conformer]\n",
      "    \n",
      "    \n",
      "    :param format: the format of the input file\n",
      "    :param input: the input file\n",
      "    :return output: the output conformers\n",
      "\n"
     ]
    }
   ],
   "source": [
    "help(client.convert)"
   ]
  },
  {
   "cell_type": "markdown",
   "id": "1d980157",
   "metadata": {},
   "source": [
    "# 1) Running Rush Modules\n",
    "You can view which modules are available, alongside their documentation, in the [API Documentation](https://talo.github.io/rush-py/api/)."
   ]
  },
  {
   "cell_type": "markdown",
   "id": "52c0d435",
   "metadata": {},
   "source": [
    "## 1.1) Prep the protein\n",
    "First we will run the protein preparation routine (using pdbfixer and pdb2pqr internally) to prepare the protein for a molecular dynamics simulation."
   ]
  },
  {
   "cell_type": "code",
   "execution_count": null,
   "id": "83ee7eeb",
   "metadata": {},
   "outputs": [
    {
     "name": "stdout",
     "output_type": "stream",
     "text": [
      "Help on function prepare_protein in module rush.provider:\n",
      "\n",
      "async prepare_protein(*args: *tuple[RushObject[bytes]], target: 'Target | None' = None, resources: 'Resources | None' = {'storage': 138, 'storage_units': 'MB', 'gpus': 1}, tags: 'list[str] | None' = None, restore: 'bool | None' = None) -> tuple[RushObject[list[Conformer]], RushObject[bytes]]\n",
      "    Prepare a PDB for downstream tasks: protonate, fill missing atoms, etc.\n",
      "    \n",
      "    Module version:  \n",
      "    `github:talo/prepare_protein/83bed2ad1f01f495c94518717f9f5b1bd7fe855c#prepare_protein_tengu`\n",
      "    \n",
      "    QDX Type Description:\n",
      "    \n",
      "        input_pdb: @bytes\n",
      "        ->\n",
      "        output_qdxf: @[Conformer];\n",
      "        output_pdb: @bytes\n",
      "    \n",
      "    \n",
      "    :param input_pdb: An input protein as a file; one PDB file\n",
      "    :return output_qdxf: An output protein a vec: one qdxf per model in pdb\n",
      "    :return output_pdb: An output protein as a file: one PDB file\n",
      "\n"
     ]
    }
   ],
   "source": [
    "# we can check the arguments and outputs for prepare_protein with help()\n",
    "help(client.prepare_protein)"
   ]
  },
  {
   "cell_type": "code",
   "execution_count": null,
   "id": "844e4c83",
   "metadata": {},
   "outputs": [
    {
     "name": "stdout",
     "output_type": "stream",
     "text": [
      "2024-02-16 17:14:00,643 - rush - INFO - Trying to restore job with tags: ['qdx', 'rush-py-quickstart', '1B39'] and path: github:talo/prepare_protein/83bed2ad1f01f495c94518717f9f5b1bd7fe855c#prepare_protein_tengu\n",
      "2024-02-16 17:14:00,835 - rush - INFO - Restoring job from previous run with id b073d2c8-5754-4b8e-8bd4-31d7b2c6a0b7\n"
     ]
    },
    {
     "data": {
      "text/plain": [
       "Arg(id=906fad5a-4829-4a39-8ffa-73bcdfd82c17, value=None)"
      ]
     },
     "execution_count": null,
     "metadata": {},
     "output_type": "execute_result"
    }
   ],
   "source": [
    "# Here we run the function, it will return a Provider.Arg which you can use to\n",
    "# fetch the results\n",
    "# We set restore = True so that we can restore a previous run to the same path\n",
    "# with the same tags\n",
    "prepared_protein_qdxf, prepared_protein_pdb = await client.prepare_protein(\n",
    "    PROTEIN_PDB_PATH,\n",
    ")\n",
    "# This initially only has the id of your result; we will show how to fetch the\n",
    "# actual value later\n",
    "prepared_protein_qdxf"
   ]
  },
  {
   "cell_type": "markdown",
   "id": "c2e83241",
   "metadata": {},
   "source": [
    "## 1.3) Run statuses\n",
    "This will show the status of all of your runs. You can also view run statuses on the [Rush UI](https://rush.qdx.co/dashboard/jobs)."
   ]
  },
  {
   "cell_type": "code",
   "execution_count": null,
   "id": "e5d584f9",
   "metadata": {},
   "outputs": [
    {
     "data": {
      "text/plain": [
       "{}"
      ]
     },
     "execution_count": null,
     "metadata": {},
     "output_type": "execute_result"
    }
   ],
   "source": [
    "await client.status()"
   ]
  },
  {
   "cell_type": "markdown",
   "id": "f948f612",
   "metadata": {},
   "source": [
    "## 1.4) Run Values\n",
    "This will return the \"value\" of the output from the function—for files you will recieve a url that you can download, otherwise you will recieve them as python types:"
   ]
  },
  {
   "cell_type": "code",
   "execution_count": null,
   "id": "d10b9549",
   "metadata": {},
   "outputs": [
    {
     "data": {
      "text/plain": [
       "4849"
      ]
     },
     "execution_count": null,
     "metadata": {},
     "output_type": "execute_result"
    }
   ],
   "source": [
    "protein_qdxf_value = await prepared_protein_qdxf.get()\n",
    "len(protein_qdxf_value[0][\"topology\"][\"symbols\"])"
   ]
  },
  {
   "cell_type": "markdown",
   "id": "806bd4bf",
   "metadata": {},
   "source": [
    "## 1.5) Downloads\n",
    "We provide a utility to download files into your workspace, you can either provide a filename, which will be saved in `workspace/objects/[filename]`, or you can provide your own filepath which the client will use as-is:"
   ]
  },
  {
   "cell_type": "code",
   "execution_count": null,
   "id": "a97df06b",
   "metadata": {},
   "outputs": [],
   "source": [
    "await prepared_protein_pdb.download(filename=\"01_prepared_protein.pdb\", overwrite=True)"
   ]
  },
  {
   "cell_type": "code",
   "execution_count": null,
   "id": "4f1b45c7",
   "metadata": {},
   "outputs": [
    {
     "name": "stdout",
     "output_type": "stream",
     "text": [
      "REMARK   1 CREATED WITH OPENMM 8.0, 2024-02-10\n",
      " ...\n"
     ]
    }
   ],
   "source": [
    "# we can read our prepared protein pdb like this\n",
    "with open(client.workspace / \"objects\" / \"01_prepared_protein.pdb\", \"r\") as f:\n",
    "    print(f.readline(), \"...\")"
   ]
  },
  {
   "cell_type": "code",
   "execution_count": null,
   "id": "c7fbecea",
   "metadata": {},
   "outputs": [],
   "source": []
  }
 ],
 "metadata": {
  "kernelspec": {
   "display_name": "python3",
   "language": "python",
   "name": "python3"
  }
 },
 "nbformat": 4,
 "nbformat_minor": 5
}
