{
 "cells": [
  {
   "cell_type": "markdown",
   "id": "89cc3d80-3f42-4763-aa53-baf6697773f5",
   "metadata": {},
   "source": [
    "## tengu-py\n",
    "\n",
    "Below we'll walk through the process of building and running a drug discovery workflow using tengu!\n",
    "\n",
    "First, install the following modules via pip - we require Python > 3.10\n",
    "```\n",
    "pip install tengu-py pdb-tools\n",
    "```"
   ]
  },
  {
   "cell_type": "code",
   "execution_count": null,
   "id": "ec825c28-64f4-440b-a8a6-dd3f56952738",
   "metadata": {},
   "outputs": [],
   "source": [
    "import json\n",
    "import os\n",
    "import sys\n",
    "import tarfile\n",
    "\n",
    "from pdbtools import *\n",
    "import requests\n",
    "from datetime import datetime\n",
    "from pathlib import Path\n",
    "\n",
    "import tengu"
   ]
  },
  {
   "cell_type": "markdown",
   "id": "8625bc3b-0b5f-4234-9299-6fe698105d21",
   "metadata": {},
   "source": [
    "### 0) Setup"
   ]
  },
  {
   "cell_type": "code",
   "execution_count": null,
   "id": "843580e1-c309-476e-849d-23f027fb53bd",
   "metadata": {},
   "outputs": [],
   "source": [
    "# Set our token - ensure you have exported TENGU_TOKEN in your shell; or just replace the os.getenv with your token\n",
    "TOKEN = os.getenv(\"TENGU_TOKEN\")"
   ]
  },
  {
   "cell_type": "code",
   "execution_count": null,
   "id": "0b66ff52-d94e-4e2e-bb34-8c6b11a37b66",
   "metadata": {},
   "outputs": [],
   "source": [
    "# Define our project information\n",
    "DESCRIPTION = \"tengu-py demo notebook\"\n",
    "TAGS = [\"qdx\", \"tengu-py\", \"demo\"]\n",
    "WORK_DIR = Path.home() / \"qdx\" / \"tengu-py-demo\"\n",
    "OUT_DIR = WORK_DIR / \"runs\"\n",
    "OUT_DIR.mkdir(parents=True, exist_ok=True)\n",
    "\n",
    "# Set our inputs\n",
    "SYSTEM_PDB_PATH = WORK_DIR / \"test.pdb\"\n",
    "PROTEIN_PDB_PATH = WORK_DIR / \"test_P.pdb\"\n",
    "LIGAND_SMILES_STR = \"CCCc1ccccc1O\"\n",
    "LIGAND_PDB_PATH = WORK_DIR / \"test_L.pdb\""
   ]
  },
  {
   "cell_type": "code",
   "execution_count": null,
   "id": "874d2399-e5ea-41bb-a603-9d9c72c77b28",
   "metadata": {},
   "outputs": [],
   "source": [
    "# fetch datafiles\n",
    "complex = pdb_fetch.fetch_structure(\"3HTB\")\n",
    "protein = pdb_delhetatm.remove_hetatm(pdb_selchain.select_chain(complex, \"A\"))\n",
    "ligand = pdb_selres.select_residuese(complex, \"JZ4\")\n",
    "with open(SYSTEM_PDB_PATH, 'w') as f:\n",
    "    for l in complex:\n",
    "        f.write(str(l))\n",
    "with open(PROTEIN_PDB_PATH, 'w') as f:\n",
    "    for l in protein:\n",
    "        f.write(str(l))\n",
    "with open(LIGAND_PDB_PATH, 'w') as f:\n",
    "    for l in ligand:\n",
    "        f.write(str(l))        "
   ]
  },
  {
   "cell_type": "code",
   "execution_count": null,
   "id": "68aa47e0-aa5c-4ceb-806a-d119bbdd3104",
   "metadata": {},
   "outputs": [],
   "source": [
    "# Get our client, for calling modules and using the tengu API\n",
    "client = tengu.Provider(access_token=TOKEN)"
   ]
  },
  {
   "cell_type": "code",
   "execution_count": null,
   "id": "fdd3addc-d24b-42f1-a354-2c116830e163",
   "metadata": {},
   "outputs": [],
   "source": [
    "# Get our latest modules as a dict[module_name, module_path]\n",
    "modules = client.get_latest_module_paths()"
   ]
  },
  {
   "cell_type": "markdown",
   "id": "75f8f37b-4958-4ae9-b983-5fd2496816a6",
   "metadata": {},
   "source": [
    "  - `module_name` is a descriptive string and indicates the \"function\" the module is calling;\n",
    "  - `module_path` is a versioned tengu \"endpoint\" for a module accessible via the client.\n",
    "\n",
    "Using the same `module_path` string across multiple runs provides reproducibility.\n",
    "\n",
    "The following is an example of how save and load frozen modules:\n",
    "```python\n",
    "frozen_modules_filepath = client.save_module_paths(modules)\n",
    "frozen_modules = client.load_module_paths(frozen_modules_filepath)\n",
    "assert(modules == frozen_modules)\n",
    "```\n",
    "\n",
    "You could save modules and provide a fixed string to load_module_paths:\n",
    "```python\n",
    "FROZEN_MODULES_FILEPATH = 'tengu-modules-20231006T132244.json'\n",
    "frozen_modules = client.load_module_paths(FROZEN_MODULES_FILEPATH)\n",
    "```"
   ]
  },
  {
   "cell_type": "markdown",
   "id": "d8332cce-d765-4e1c-9683-e29eaa072938",
   "metadata": {},
   "source": [
    "Below we'll call modules using `client.run2(...)`.\n",
    "\n",
    "The parameters to client.run2() are as follows:\n",
    "  - `module_path`: The endpoint of the module we'll be running;\n",
    "  - `args`: A list of the arguments to the module; an argument can be one of the following:\n",
    "    1. A `pathlib.Path` or a file-like object like `BufferedReader`, `FileIO`, `StringIO` etc.:  \n",
    "         Loads the data in the file as an argument.  \n",
    "         **NOTE**: The uploaded value isn't just the string of the file,\n",
    "               so don't pass the string directly; pass the path or wrap in StringIO.\n",
    "    2. A `tengu.ArgId`:  \n",
    "         Uses an object already uploaded to tengu, such as outputs of other run calls.  \n",
    "         See below for more details. It's easier to understand when you see an example.\n",
    "    3. A parameter, i.e. a value of any other type, including `None`:  \n",
    "         Tengu modules take configs as json in the backend; we'll convert for you.  \n",
    "         Just pass arguments directly, as per the schema for the module you're running.\n",
    "  - `target`: The machine we want to run on (`NIX_SSH` for a cluster, `GADI` for a supercomputer).\n",
    "  - `resources`: The resources to use on the target.\n",
    "  - `tags`: Tags to associate with our run, so we can easily look up our runs.\n",
    "\n",
    "The return value is a dict that contains:\n",
    "  - key `\"module_instance_id\"` -> val is a `ModuleInstanceId` for the run itself;\n",
    "  - key `\"output_ids\"` -> val is a list of `ArgId`s, one for each output.\n",
    "\n",
    "Both of these ID types have the form of a UUID.\n",
    "This ID lets you manipulate the output of this module without having to:\n",
    "  1) Wait for the module to finish its computation, or\n",
    "  2) Download the actual value corresponding to this output.\n",
    "\n",
    "You can pass it to subsequent modules as if it were the value itself, or\n",
    "you can wait on it to obtain the value itself.\n",
    "\n",
    "<div class=\"alert alert-block alert-warning\">A coming improvement will provide explicit naming and type info for the\n",
    "inputs and outputs of each module, which will improve clarity and discoverability.</div>"
   ]
  },
  {
   "cell_type": "markdown",
   "id": "edc9328c-8e55-4b96-9a3c-36bc0d9181e9",
   "metadata": {},
   "source": [
    "### 1.1) Prep the protein"
   ]
  },
  {
   "cell_type": "code",
   "execution_count": null,
   "id": "bf21de4e-57cc-4ff5-9a96-7d37fe42a2f1",
   "metadata": {},
   "outputs": [],
   "source": [
    "pdb2pqr_result = client.run2(\n",
    "    modules[\"pdb2pqr_tengu\"],\n",
    "    [\n",
    "        PROTEIN_PDB_PATH,\n",
    "    ],\n",
    "    target=\"NIX_SSH\",\n",
    "    resources={\"gpus\": 1, \"storage\": 1_024_000_000, \"walltime\": 15},\n",
    "    tags=TAGS,\n",
    ")\n",
    "pdb2pqr_run_id = pdb2pqr_result[\"module_instance_id\"]\n",
    "prepped_protein_id = pdb2pqr_result[\"output_ids\"][0]\n",
    "print(f\"{datetime.now().time()} | Running protein prep!\")"
   ]
  },
  {
   "cell_type": "code",
   "execution_count": null,
   "id": "d7378e61-6d31-4dc3-a286-e37b014b6a22",
   "metadata": {},
   "outputs": [],
   "source": [
    "with open(OUT_DIR / f\"01-pdb2pqr-{pdb2pqr_run_id}.json\", \"w\") as f:\n",
    "    json.dump(pdb2pqr_result, f, default=str, indent=2)"
   ]
  },
  {
   "cell_type": "code",
   "execution_count": null,
   "id": "8aa9ecab-8ac7-4ce3-9cb8-b92d99adf8cf",
   "metadata": {},
   "outputs": [],
   "source": [
    "client.poll_module_instance(pdb2pqr_run_id)\n",
    "client.download_object(prepped_protein_id, OUT_DIR / \"01-prepped-protein.pdb\")\n",
    "print(f\"{datetime.now().time()} | Downloaded prepped protein!\")"
   ]
  },
  {
   "cell_type": "markdown",
   "id": "f4e4f0db-10af-472c-adfa-36d5e6f63f2b",
   "metadata": {},
   "source": [
    "### 1.2) Prep the ligand"
   ]
  },
  {
   "cell_type": "code",
   "execution_count": null,
   "id": "e7581edd-9b5f-466d-9263-667720d0ae05",
   "metadata": {},
   "outputs": [],
   "source": [
    "ligand_prep_config = {\n",
    "    \"source\": \"\",\n",
    "    \"output_folder\": \"./\",\n",
    "    \"job_manager\": \"multiprocessing\",\n",
    "    \"num_processors\": -1,\n",
    "    \"max_variants_per_compound\": 1,\n",
    "    \"thoroughness\": 3,\n",
    "    \"separate_output_files\": True,\n",
    "    \"min_ph\": 6.4,\n",
    "    \"max_ph\": 8.4,\n",
    "    \"pka_precision\": 1.0,\n",
    "    \"skip_optimize_geometry\": True,\n",
    "    \"skip_alternate_ring_conformations\": True,\n",
    "    \"skip_adding_hydrogen\": False,\n",
    "    \"skip_making_tautomers\": True,\n",
    "    \"skip_enumerate_chiral_mol\": True,\n",
    "    \"skip_enumerate_double_bonds\": True,\n",
    "    \"let_tautomers_change_chirality\": False,\n",
    "    \"use_durrant_lab_filters\": True,\n",
    "}\n",
    "ligand_prep_result = client.run2(\n",
    "    modules[\"prepare_ligand_tengu\"],\n",
    "    [\n",
    "        LIGAND_SMILES_STR,\n",
    "        LIGAND_PDB_PATH,\n",
    "        ligand_prep_config,\n",
    "    ],\n",
    "    target=\"NIX_SSH\",\n",
    "    resources={\"gpus\": 1, \"storage\": 16_000_000, \"walltime\": 5},\n",
    "    tags=TAGS,\n",
    ")\n",
    "ligand_prep_run_id = ligand_prep_result[\"module_instance_id\"]\n",
    "prepped_ligand_id = ligand_prep_result[\"output_ids\"][0]\n",
    "print(f\"{datetime.now().time()} | Running ligand prep!\")"
   ]
  },
  {
   "cell_type": "code",
   "execution_count": null,
   "id": "befcdd4d-ad16-4669-a71b-b6d449cd25fa",
   "metadata": {},
   "outputs": [],
   "source": [
    "with open(OUT_DIR / f\"01-prepare-ligand-{ligand_prep_run_id}.json\", \"w\") as f:\n",
    "    json.dump(ligand_prep_result, f, default=str, indent=2)"
   ]
  },
  {
   "cell_type": "code",
   "execution_count": null,
   "id": "534caef1-cfdd-47aa-bc44-d7b5c725e280",
   "metadata": {},
   "outputs": [],
   "source": [
    "client.poll_module_instance(ligand_prep_run_id)\n",
    "client.download_object(prepped_ligand_id, OUT_DIR / \"01-prepped-ligand.pdb\")\n",
    "print(f\"{datetime.now().time()} | Downloaded prepped ligand!\")"
   ]
  },
  {
   "cell_type": "markdown",
   "id": "f207ff3d-2e89-43bc-8ab4-089c70f3044b",
   "metadata": {},
   "source": [
    "### 2) Run GROMACS (module: gmx_tengu / gmx_tengu_pdb)"
   ]
  },
  {
   "cell_type": "code",
   "execution_count": null,
   "id": "6787e249-46e9-42ae-b258-5ee3dc8c1be5",
   "metadata": {},
   "outputs": [],
   "source": [
    "gmx_config = {\n",
    "    \"param_overrides\": {\n",
    "        \"md\": [(\"nsteps\", \"5000\")],\n",
    "        \"em\": [(\"nsteps\", \"1000\")],\n",
    "        \"nvt\": [(\"nsteps\", \"1000\")],\n",
    "        \"npt\": [(\"nsteps\", \"1000\")],\n",
    "        \"ions\": [],\n",
    "    },\n",
    "    \"num_gpus\": 4,\n",
    "    \"num_replicas\": 1,\n",
    "    \"ligand_charge\": None,\n",
    "    \"frame_sel\": {\n",
    "        \"begin_time\": 2,\n",
    "        \"end_time\": 10,\n",
    "        \"delta_time\": 2,\n",
    "    },\n",
    "}\n",
    "gmx_result = client.run2(\n",
    "    # TODO: Should be using qdxf conformer verions of these modules\n",
    "    modules[\"gmx_tengu_pdb\"],\n",
    "    [\n",
    "        prepped_protein_id,\n",
    "        prepped_ligand_id,\n",
    "        gmx_config,\n",
    "    ],\n",
    "    target=\"GADI\",\n",
    "    resources={\"gpus\": 4, \"storage\": 1_024_000_000, \"cpus\": 48, \"walltime\": 60},\n",
    "    tags=TAGS,\n",
    ")\n",
    "gmx_run_id = gmx_result[\"module_instance_id\"]\n",
    "gmx_output_id = gmx_result[\"output_ids\"][0]\n",
    "gmx_ligand_gro_id = gmx_result[\"output_ids\"][3]\n",
    "print(f\"{datetime.now().time()} | Running GROMACS simulation!\")"
   ]
  },
  {
   "cell_type": "code",
   "execution_count": null,
   "id": "5f6d817e-4487-47df-bbe3-1e461be4e04e",
   "metadata": {},
   "outputs": [],
   "source": [
    "with open(OUT_DIR / f\"02-gmx-{gmx_run_id}.json\", \"w\") as f:\n",
    "    json.dump(gmx_result, f, default=str, indent=2)"
   ]
  },
  {
   "cell_type": "code",
   "execution_count": null,
   "id": "bddd19b2-7ed0-4e76-8818-080db2a9a66e",
   "metadata": {},
   "outputs": [],
   "source": [
    "client.poll_module_instance(gmx_run_id, n_retries=60, poll_rate=60)\n",
    "client.download_object(gmx_output_id, OUT_DIR / \"02-gmx-output.zip\")\n",
    "# Get the \"dry\" (i.e. non-solvated) frames we asked for\n",
    "with tarfile.open(OUT_DIR / \"02-gmx-output.zip\", \"r\") as tf:\n",
    "    selected_frame_pdbs = [\n",
    "        tf.extractfile(member)\n",
    "        for member in sorted(tf, key=lambda m: m.name)\n",
    "        if (\"dry\" in member.name and \"pdb\" in member.name)\n",
    "    ]\n",
    "client.download_object(gmx_ligand_gro_id, OUT_DIR / \"02-gmx-ligand.gro\")\n",
    "print(f\"{datetime.now().time()} | Downloaded GROMACS output!\")"
   ]
  },
  {
   "cell_type": "markdown",
   "id": "5ce81a98-a7c2-4a0a-9b19-d2082f2bce96",
   "metadata": {},
   "source": [
    "### 3.1) Run quantum energy calculation (modules: qp_gen_inputs, hermes_energy, qp_collate)"
   ]
  },
  {
   "cell_type": "code",
   "execution_count": null,
   "id": "00da5dfa-6c0a-4f22-b15e-91fd537ef076",
   "metadata": {},
   "outputs": [],
   "source": [
    "# We have a helper function for this, as it combines 3 modules without much need\n",
    "# to inspect the intermediate results.\n",
    "(_, _, qp_result) = client.run_qp(\n",
    "    modules[\"qp_gen_inputs\"],\n",
    "    modules[\"hermes_energy\"],\n",
    "    modules[\"qp_collate\"],\n",
    "    pdb=selected_frame_pdbs[0],  # extractfile returns a BufferedReader, which is file-like\n",
    "    gro=gmx_ligand_gro_id,\n",
    "    lig=prepped_ligand_id,\n",
    "    lig_type=\"sdf\",\n",
    "    lig_res_id=\"UNL\",  # The ligand's residue code in the PDB file; this is what our prep uses\n",
    "    target=\"GADI\",\n",
    "    resources={\"storage\": 1_024_000_000, \"walltime\": 600},\n",
    "    tags=TAGS,\n",
    ")\n",
    "qp_run_id = qp_result[\"module_instance_id\"]\n",
    "qp_interaction_energy_id = qp_result[\"output_ids\"][0]\n",
    "print(f\"{datetime.now().time()} | Running QP energy calculation!\")"
   ]
  },
  {
   "cell_type": "code",
   "execution_count": null,
   "id": "06250e23-bcdb-48f2-8f31-54e60acf23da",
   "metadata": {},
   "outputs": [],
   "source": [
    "with open(OUT_DIR / f\"03-qp-{qp_run_id}.json\", \"w\") as f:\n",
    "    json.dump(qp_result, f, default=str, indent=2)"
   ]
  },
  {
   "cell_type": "code",
   "execution_count": null,
   "id": "10470682-f3be-4f84-8213-74c057d92b18",
   "metadata": {},
   "outputs": [],
   "source": [
    "client.poll_module_instance(qp_run_id)\n",
    "client.download_object(qp_interaction_energy_id, OUT_DIR / \"03-qp-interaction-energy.json\")\n",
    "print(f\"{datetime.now().time()} | Downloaded qp interaction energy!\")"
   ]
  },
  {
   "cell_type": "markdown",
   "id": "e80cb6a1-1b00-4a8a-a00c-4cd58b249d02",
   "metadata": {},
   "source": [
    "### 3.2) Run MM-PBSA"
   ]
  },
  {
   "cell_type": "code",
   "execution_count": null,
   "id": "e56dd8b1-15a1-4ed8-b29f-4bff66d23b9a",
   "metadata": {},
   "outputs": [],
   "source": [
    "mmpbsa_config = [\n",
    "    401,  # start frame\n",
    "    901,  # end frame\n",
    "    None,  # optional argument for overriding raw GROMACS parameters\n",
    "    12,  # num_cpus\n",
    "]\n",
    "mmpbsa_result = client.run2(\n",
    "    modules[\"gmx_mmpbsa_tengu\"],\n",
    "    [\n",
    "        gmx_output_id,\n",
    "        *mmpbsa_config,\n",
    "    ],\n",
    "    target=\"GADI\",\n",
    "    resources={\"storage\": 1_024_000_000, \"walltime\": 600},\n",
    "    tags=TAGS,\n",
    ")\n",
    "mmpbsa_run_id = mmpbsa_result[\"module_instance_id\"]\n",
    "mmpbsa_output_id = mmpbsa_result[\"output_ids\"][0]\n",
    "print(f\"{datetime.now().time()} | Running GROMACS MM-PBSA calculation!\")"
   ]
  },
  {
   "cell_type": "code",
   "execution_count": null,
   "id": "7729febe-431b-4bab-bf3b-a5ba5c238c1c",
   "metadata": {},
   "outputs": [],
   "source": [
    "with open(OUT_DIR / f\"03-mmpbsa-{mmpbsa_run_id}.json\", \"w\") as f:\n",
    "    json.dump(mmpbsa_result, f, default=str, indent=2)"
   ]
  },
  {
   "cell_type": "code",
   "execution_count": null,
   "id": "7cce8e86-18bc-4627-8177-d1d3280f4657",
   "metadata": {},
   "outputs": [],
   "source": [
    "client.poll_module_instance(mmpbsa_run_id)\n",
    "client.download_object(mmpbsa_output_id, OUT_DIR / \"03-mmpbsa-output.zip\")\n",
    "print(f\"{datetime.now().time()} | Downloaded MM-PBSA results!\")"
   ]
  }
 ],
 "metadata": {
  "kernelspec": {
   "display_name": "python3",
   "language": "python",
   "name": "python3"
  }
 },
 "nbformat": 4,
 "nbformat_minor": 5
}
