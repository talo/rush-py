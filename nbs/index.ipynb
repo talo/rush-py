{
 "cells": [
  {
   "cell_type": "markdown",
   "id": "d8628687",
   "metadata": {},
   "source": [
    "# Quickstart\n",
    "\n",
    "This guide will walk you through executing a basic job using Rush, by demonstrating how to generate 3D small molecule conformers. For a deeper dive and an example of a full end-to-end in silico protocol, see the [Comprehensive Guide](https://talo.github.io/rush-py/full-rush-py-explainer.html)."
   ]
  },
  {
   "cell_type": "markdown",
   "id": "7cb2646d",
   "metadata": {},
   "source": [
    "# Install\n",
    "\n",
    "First, install the following modules via the command-line (we require Python ≥ 3.9):"
   ]
  },
  {
   "cell_type": "code",
   "execution_count": null,
   "id": "4ede743c",
   "metadata": {
    "vscode": {
     "languageId": "shellscript"
    }
   },
   "outputs": [],
   "source": [
    "pip install rush-py"
   ]
  },
  {
   "cell_type": "markdown",
   "id": "8776d341",
   "metadata": {},
   "source": [
    "# Full Code\n",
    "\n",
    "One of the simplest things you can do with Rush is generate 3D small molecule conformers from SMILES using the Auto3D module. We will break down how to do this step-by-step, but lets start with the full code:"
   ]
  },
  {
   "cell_type": "code",
   "execution_count": 3,
   "id": "337827e9",
   "metadata": {},
   "outputs": [
    {
     "name": "stdout",
     "output_type": "stream",
     "text": [
      "{'2dbbf418-b44c-4c80-b922-82804b92e050': (<ModuleInstanceStatus.RESOLVING: 'RESOLVING'>, 'auto3d', 1)}\n",
      "2024-05-11 15:28:41,032 - rush - INFO - Argument 155f3471-9360-4205-b07d-e011ab29d71b is now ModuleInstanceStatus.RESOLVING\n",
      "2024-05-11 15:28:43,597 - rush - INFO - Argument 155f3471-9360-4205-b07d-e011ab29d71b is now ModuleInstanceStatus.ADMITTED\n",
      "2024-05-11 15:28:56,585 - rush - INFO - Argument 155f3471-9360-4205-b07d-e011ab29d71b is now ModuleInstanceStatus.DISPATCHED\n",
      "2024-05-11 15:29:01,874 - rush - INFO - Argument 155f3471-9360-4205-b07d-e011ab29d71b is now ModuleInstanceStatus.QUEUED\n"
     ]
    }
   ],
   "source": [
    "import rush\n",
    "\n",
    "client = rush.build_blocking_provider_with_functions(access_token = \"593f1c51-fa9c-4745-9527-f4063a2ece1a\")\n",
    "\n",
    "# setup an SMI file that contains the SMILES string of our ligand\n",
    "ligand_smi_filename = client.workspace / \"ligand.smi\"\n",
    "ligand_smi_filename.write_text(\n",
    "    \"c1nc(c2c(n1)n(cn2)[C@H]3[C@@H]([C@@H]([C@H](O3)CO[P@@](=O)(O)O[P@](=O)(O)OP(=O)(O)O)O)O)N 1\"\n",
    ")\n",
    "\n",
    "# run Auto3D which will give us 3 conformers of our ligand\n",
    "# in the SDF format and the QDXF format\n",
    "ligand_sdf_handle, ligand_qdxf_handle = client.auto3d(\n",
    "    ligand_smi_filename, # the filename that stores our ligand\n",
    "    \"smi\",               # the format of the file\n",
    "    {\n",
    "        \"k\": 3,         # number of conformers to generate\n",
    "        \"use_gpu\": True # use GPU for faster compute\n",
    "    },        \n",
    "    resources={\n",
    "        \"gpus\": 1,            # the number of GPUs to use\n",
    "        \"storage\": 5,         # the amount of storage to use\n",
    "        \"storage_units\": \"MB\" # the units of storage (here we are using megabytes)\n",
    "    },\n",
    ")\n",
    "\n",
    "# print the status of all jobs\n",
    "print(client.status())\n",
    "\n",
    "# download the results (this will block until the Auto3D job has completed)\n",
    "ligand_sdf = ligand_sdf_handle.download()\n",
    "ligand_qdxf = ligand_qdxf_handle.download()\n",
    "\n",
    "print(ligand_sdf.read_text())  # print the SDF version of the result\n",
    "print(ligand_qdxf.read_text()) # print the QDXF version of the result"
   ]
  },
  {
   "cell_type": "markdown",
   "id": "21a39a0f",
   "metadata": {},
   "source": [
    "# Step-by-step"
   ]
  },
  {
   "cell_type": "markdown",
   "id": "b765ea83",
   "metadata": {},
   "source": [
    "## Import the Rush Python library\n",
    "\n",
    "The first thing we do is import the `rush` Python library:"
   ]
  },
  {
   "cell_type": "code",
   "execution_count": null,
   "id": "90252533",
   "metadata": {},
   "outputs": [],
   "source": [
    "import rush"
   ]
  },
  {
   "cell_type": "markdown",
   "id": "6b8cf6f0",
   "metadata": {},
   "source": [
    "## Create a Rush client\n",
    "\n",
    "The next step is to create a client. This client will be used to interact with the Rush API. You will need to provide your Access Token to authenticate with the API. You can get your Access Token by signing up at [https://rush.qdx.co](https://rush.qdx.co) and going into your account settings.\n",
    "\n",
    "Usually, you should store your Access Token somewhere safe and not hardcode it into your scripts (e.g. in a configuration file or environment variable). For the sake of this example, we will hardcode it:"
   ]
  },
  {
   "cell_type": "code",
   "execution_count": null,
   "id": "48ff9a07",
   "metadata": {},
   "outputs": [],
   "source": [
    "client = rush.build_blocking_provider_with_functions(access_token = \"PASTE_YOUR_TOKEN_HERE\")"
   ]
  },
  {
   "cell_type": "markdown",
   "id": "d6b434cc",
   "metadata": {},
   "source": [
    "But specifying that we want a \"blocking provider\" we are telling Rush that whenever we interact with the API we want to wait for the response before continuing. This is useful for simple scripts that are not running lots of jobs in parallel."
   ]
  },
  {
   "cell_type": "markdown",
   "id": "62470b10",
   "metadata": {},
   "source": [
    "## Create an example SMILES file\n",
    "\n",
    "To run Auto3D we need to specify the SMILES strings for which we want 3D conformers to be generated. These SMILES strings must be stored in a `.smi` file. For this example, we will use a sample file that contains the SMILES strings for one simple small molecule:"
   ]
  },
  {
   "cell_type": "code",
   "execution_count": null,
   "id": "1a49135e",
   "metadata": {},
   "outputs": [],
   "source": [
    "# setup an SMI file that contains the SMILES string of our ligand\n",
    "ligand_smi_filename = client.workspace / \"ligand.smi\"\n",
    "ligand_smi_filename.write_text(\n",
    "    \"c1nc(c2c(n1)n(cn2)[C@H]3[C@@H]([C@@H]([C@H](O3)CO[P@@](=O)(O)O[P@](=O)(O)OP(=O)(O)O)O)O)N 1\"\n",
    ")"
   ]
  },
  {
   "cell_type": "markdown",
   "id": "2ea10a4d",
   "metadata": {},
   "source": [
    "### A small note about workspaces\n",
    "\n",
    "By default, the `client.workspace` will be your current working directory, so after this code runs you should see a file in your current working directory called `\"ligand.smi\"`. If you want to specify a different workspace directory, you can do so by specifying the `workspace` argument when building the client:"
   ]
  },
  {
   "cell_type": "code",
   "execution_count": null,
   "id": "236cf73f",
   "metadata": {},
   "outputs": [],
   "source": [
    "# instead of creating a client with this code\n",
    "client = rush.build_blocking_provider_with_functions(access_token = \"PASTE_YOUR_TOKEN_HERE\")\n",
    "\n",
    "# you can create a client with this code, and explicitly set the workspace\n",
    "client = rush.build_blocking_provider_with_functions(\n",
    "    access_token = \"PUT_YOUR_TOKEN_HERE\",\n",
    "    workspace=\"PUT_YOUR_PREFERRED_DIRECTORY_HERE\"\n",
    ")"
   ]
  },
  {
   "cell_type": "markdown",
   "id": "69762536",
   "metadata": {},
   "source": [
    "##  Run Auto3D\n",
    "\n",
    "Now that we have our SMILES file, we can use it as input to run the Auto3D module. This will generate 3D conformers (in a variety of possible protonation states) for each SMILES string in the SMILES file:"
   ]
  },
  {
   "cell_type": "code",
   "execution_count": null,
   "id": "522f89b5",
   "metadata": {},
   "outputs": [],
   "source": [
    "# run Auto3D which will give us 3 conformers of our ligand\n",
    "# in the SDF format and the QDXF format\n",
    "ligand_sdf_handle, ligand_qdxf_handle = client.auto3d(\n",
    "    ligand_smi_filename, # the filename that stores our ligand\n",
    "    \"smi\",               # the format of the file\n",
    "    {\n",
    "        \"k\": 3,         # number of conformers to generate\n",
    "        \"use_gpu\": True # use GPU for faster compute\n",
    "    },        \n",
    "    resources={\n",
    "        \"gpus\": 1,            # the number of GPUs to use\n",
    "        \"storage\": 5,         # the amount of storage to use\n",
    "        \"storage_units\": \"MB\" # the units of storage (here we are using megabytes)\n",
    "    },\n",
    ")"
   ]
  },
  {
   "cell_type": "markdown",
   "id": "52b18242",
   "metadata": {},
   "source": [
    "### A small note about resources\n",
    "\n",
    "In addition to their module-specific inputs, all modules also accept the `resource=` parameter. This parameter specifies the computational resources that you want to use to run the module. In this example, we have asked Rush to run the Auto3D module using 1 GPU and 5 megabytes of storage space."
   ]
  },
  {
   "cell_type": "markdown",
   "id": "f4af4a7b",
   "metadata": {},
   "source": [
    "## See the job status\n",
    "\n",
    "Calling `client.auto3d` will tell Rush to run a new Auto3D job. However, it will not wait for the job to complete before continuing. This is convenient, because sometimes jobs can take a long time to run, and we might have other code we want to run in the meantime. If we want to track the status of all of our jobs, we can use the `client.status` function:"
   ]
  },
  {
   "cell_type": "code",
   "execution_count": null,
   "id": "20152c74",
   "metadata": {},
   "outputs": [],
   "source": [
    "# print the status of all jobs\n",
    "print(client.status())"
   ]
  },
  {
   "cell_type": "markdown",
   "id": "1b659de7",
   "metadata": {},
   "source": [
    "## Download the results\n",
    "\n",
    "After calling `client.auto3d`, we got back two handles: `ligand_sdf_handle` and `ligand_qdxf_handle`. These handles are references to the results of the Auto3D job. They are stored in Rush and we can access them from anywhere at any time. We can use these handles as inputs to other modules, we can download their contents, and we can even use them to check the status of the Auto3D job that we ran.\n",
    "\n",
    "For now, we simply download the results and print them out:"
   ]
  },
  {
   "cell_type": "code",
   "execution_count": null,
   "id": "327e6682",
   "metadata": {},
   "outputs": [],
   "source": [
    "# download the results (this will block until the Auto3D job has completed)\n",
    "ligand_sdf = ligand_sdf_handle.download()\n",
    "ligand_qdxf = ligand_qdxf_handle.download()\n",
    "\n",
    "print(ligand_sdf.read_text())  # print the SDF version of the result\n",
    "print(ligand_qdxf.read_text()) # print the QDXF version of the result"
   ]
  },
  {
   "cell_type": "markdown",
   "id": "93a2765c",
   "metadata": {},
   "source": [
    "If you want to find the actual files, they will be in the `objects` directory inside your `client.workspace` directory. Remember, by default, the `client.workspace` is the current working directory."
   ]
  },
  {
   "cell_type": "markdown",
   "id": "b27d058f",
   "metadata": {},
   "source": [
    "### A note about handles\n",
    "\n",
    "For most things that we are interested in doing, we do not have to wait for the job created by `client.auto3d` to actually complete. We can start using `ligand_sdf_handle` and `ligand_qdxf_handle` straight away. For example, we could pass them as inputs to a molecular dynamics simulation job. This would tell Rush to automatically run the molecular dynamics simulation job as soon as the Auto3D job completes.\n",
    "\n",
    "However, the `download` function is kind of special and will explicitly block our program from continuing until the Auto3D job is complete. This is because `download` actually fetches the contents of the handles from Rush, and to do so it needs to be sure the contents actually exists."
   ]
  },
  {
   "cell_type": "markdown",
   "id": "bb799201",
   "metadata": {},
   "source": [
    "# Next steps\n",
    "\n",
    "In this quickstart, we generated 3D small molecule conformers from SMILES strings using the Auto3D module. We learned how to:\n",
    "\n",
    "1. Create a client\n",
    "2. Run the Auto3D module\n",
    "3. Check the status of the job\n",
    "4. Download the results\n",
    "\n",
    "Checkout our other quickstarts to see how to use other modules. For example, now that we have some 3D small molecule conformers, we can run molecular dynamics simulation, quantum energy calculations, quantum geometry optimizations, docking, and much more!"
   ]
  }
 ],
 "metadata": {
  "kernelspec": {
   "display_name": "python3",
   "language": "python",
   "name": "python3"
  },
  "language_info": {
   "codemirror_mode": {
    "name": "ipython",
    "version": 3
   },
   "file_extension": ".py",
   "mimetype": "text/x-python",
   "name": "python",
   "nbconvert_exporter": "python",
   "pygments_lexer": "ipython3",
   "version": "3.12.2"
  }
 },
 "nbformat": 4,
 "nbformat_minor": 5
}
