{
 "cells": [
  {
   "cell_type": "markdown",
   "id": "6b3c1b49",
   "metadata": {},
   "source": [
    "# rush-py\n",
    "\n",
    "> Python SDK for the QDX Quantum Chemistry workflow management system"
   ]
  },
  {
   "cell_type": "markdown",
   "id": "6f6163a1",
   "metadata": {},
   "source": [
    "# Quickstart\n",
    "This document will walk through executing jobs on the rush platform. For a comprehensive guide on the concepts and constructing a full workflow, see the [full rush-py explainer](./Tutorials/0-full-rush-py-explainer.ipynb) document."
   ]
  },
  {
   "cell_type": "markdown",
   "id": "0f2ed102",
   "metadata": {},
   "source": [
    "First, install the following modules via pip—we require Python ≥ 3.10:\n",
    "```\n",
    "pip install rush-py pdb-tools\n",
    "```"
   ]
  },
  {
   "cell_type": "markdown",
   "id": "bde61f2d",
   "metadata": {},
   "source": [
    "# 0) Setup\n",
    "This is where we prepare the rush client, directories, and input data we'll be working with."
   ]
  },
  {
   "cell_type": "markdown",
   "id": "e3255512",
   "metadata": {},
   "source": [
    "## 0.0) Imports"
   ]
  },
  {
   "cell_type": "code",
   "execution_count": null,
   "id": "78cdaade",
   "metadata": {},
   "outputs": [],
   "source": [
    "import os\n",
    "import tarfile\n",
    "from datetime import datetime\n",
    "from pathlib import Path\n",
    "\n",
    "import py3Dmol\n",
    "import requests\n",
    "from pdbtools import pdb_delhetatm, pdb_fetch, pdb_selchain\n",
    "\n",
    "import rush"
   ]
  },
  {
   "cell_type": "markdown",
   "id": "62603ab1-6197-4cc3-aa91-e51544b836ab",
   "metadata": {},
   "source": [
    "*_NOTE_*: This walkthrough assumes that you are running code in a Jupyter notebook, which allows for top level `await` calls. If you are writing a normal Python script, you will need to wrap your code in something like the following:\n",
    "``` python\n",
    "import asyncio\n",
    "def main():\n",
    "    #your code here\n",
    "asyncio.run(main)\n",
    "```"
   ]
  },
  {
   "cell_type": "markdown",
   "id": "aeff251d",
   "metadata": {},
   "source": [
    "## 0.1) Credentials\n",
    "Retrieve your API token from the [Rush UI](https://rush.qdx.co/dashboard/settings).\n",
    "\n",
    "You can either set the `RUSH_URL` and `RUSH_TOKEN` environment variables or provide them as variables to the client directly. \n",
    "\n",
    "To see how to set environment variables, [Wikipedia](https://en.wikipedia.org/wiki/Environment_variable) has an extensive article."
   ]
  },
  {
   "cell_type": "code",
   "execution_count": null,
   "id": "d4388592",
   "metadata": {},
   "outputs": [],
   "source": [
    "RUSH_URL = os.getenv(\"RUSH_URL\") or \"https://tengu.qdx.ai\"\n",
    "RUSH_TOKEN = os.getenv(\"RUSH_TOKEN\") or \"YOUR_TOKEN_HERE\""
   ]
  },
  {
   "cell_type": "markdown",
   "id": "3346c341",
   "metadata": {},
   "source": [
    "## 0.2) Configuration\n",
    "Lets set some global variables that define our project. These are not required, but are good practice to help organize the jobs that will be persisted under your account.\n",
    "\n",
    "Make sure you create a unique set of tags for each run.\n",
    "Good practice is to have at least each of the experiment name and system name as a tag."
   ]
  },
  {
   "cell_type": "code",
   "execution_count": null,
   "id": "8153cd61",
   "metadata": {},
   "outputs": [],
   "source": [
    "EXPERIMENT = \"rush-py-quickstart\"\n",
    "SYSTEM = \"1B39\"\n",
    "TAGS = [\"qdx\", EXPERIMENT, SYSTEM]"
   ]
  },
  {
   "cell_type": "code",
   "execution_count": null,
   "id": "585c4dd6-3510-460f-acec-0066ff993386",
   "metadata": {},
   "outputs": [],
   "source": [
    "# |hide\n",
    "WORK_DIR = Path.home() / \"qdx\" / EXPERIMENT\n",
    "\n",
    "if WORK_DIR.exists():\n",
    "    client = rush.Provider(workspace=WORK_DIR)\n",
    "    await client.nuke(remote=True)\n",
    "    \n",
    "os.makedirs(WORK_DIR, exist_ok=True)\n",
    "import sys\n",
    "os.chdir(WORK_DIR)"
   ]
  },
  {
   "cell_type": "markdown",
   "id": "fb3288a6",
   "metadata": {},
   "source": [
    "## 0.2) Build your client\n",
    "Get our client, which we'll use for calling modules and generally for using the Rush API.\n",
    "\n",
    "As mentioned earlier, `url` and `access_token` are optional if you have set the env variables `RUSH_URL` and `RUSH_TOKEN` respectively.\n",
    "\n",
    "`batch_tags` will be applied to each run that is spawned by this client.\n",
    "\n",
    "A folder called `.rush` will be created in your workspace directory (defaults to the current working directory, can be overridden by passing `workspace=` to the provider builder)."
   ]
  },
  {
   "cell_type": "code",
   "execution_count": null,
   "id": "3eef5d46",
   "metadata": {},
   "outputs": [],
   "source": [
    "# By using the `build_provider_with_functions` method, we will also build helper functions calling each module\n",
    "client = await rush.build_provider_with_functions(\n",
    "    url=RUSH_URL, access_token=RUSH_TOKEN, batch_tags=TAGS\n",
    ")"
   ]
  },
  {
   "cell_type": "markdown",
   "id": "ebee89a7",
   "metadata": {},
   "source": [
    "## 0.3) Input selection\n",
    "Fetch data files from RCSB to pass as input to the modules:"
   ]
  },
  {
   "cell_type": "code",
   "execution_count": null,
   "id": "002a0188",
   "metadata": {},
   "outputs": [],
   "source": [
    "PROTEIN_PDB_PATH = client.workspace / f\"{SYSTEM}_P.pdb\"\n",
    "\n",
    "complex = list(pdb_fetch.fetch_structure(SYSTEM))\n",
    "protein = pdb_delhetatm.remove_hetatm(pdb_selchain.select_chain(complex, \"A\"))\n",
    "with open(PROTEIN_PDB_PATH, \"w\") as f:\n",
    "    for l in protein:\n",
    "        f.write(str(l))"
   ]
  },
  {
   "cell_type": "code",
   "execution_count": null,
   "id": "fb29959d",
   "metadata": {},
   "outputs": [
    {
     "name": "stdout",
     "output_type": "stream",
     "text": [
      "Help on function convert in module rush.provider:\n",
      "\n",
      "async convert(*args: [list[typing.Union[str, ~T]], <class 'pathlib.Path'>], target: rush.graphql_client.enums.ModuleInstanceTarget | None = 'NIX_SSH', resources: rush.graphql_client.input_types.ModuleInstanceResourcesInput | None = ModuleInstanceResourcesInput(gpus=0, gpu_mem=None, gpu_mem_units=None, cpus=None, nodes=None, mem=None, mem_units=None, storage=10, storage_units=<MemUnits.MB: 'MB'>, walltime=None, storage_mounts=None), tags: list[str] | None = None, restore: bool | None = None) -> [<class 'pathlib.Path'>]\n",
      "    Convert biomolecular and chemical file formats to the QDX file format. Supports PDB and SDF\n",
      "    \n",
      "    Module version: `tengu-prelude/efc6d8b3a8cc342cd9866d037abb77dac40a4d56`\n",
      "    \n",
      "    QDX Type Description:\n",
      "    \n",
      "        format: PDB | SDF;\n",
      "        input: @bytes\n",
      "        ->\n",
      "        output: @[Conformer]\n",
      "    \n",
      "    :param format: the format of the input file\n",
      "    :param input: the input file\n",
      "    :return output: the output conformers\n",
      "\n"
     ]
    }
   ],
   "source": [
    "help(client.convert)"
   ]
  },
  {
   "cell_type": "markdown",
   "id": "ecf07726",
   "metadata": {},
   "source": [
    "# 1) Running Rush Modules\n",
    "You can view which modules are available, alongside their documentation, in the [API Documentation](./api/index.html)."
   ]
  },
  {
   "cell_type": "markdown",
   "id": "522fc95b",
   "metadata": {},
   "source": [
    "## 1.1) Prep the protein\n",
    "First we will run the protein preparation routine (using pdbfixer and pdb2pqr internally) to prepare the protein for a molecular dynamics simulation."
   ]
  },
  {
   "cell_type": "code",
   "execution_count": null,
   "id": "805cfd0c",
   "metadata": {},
   "outputs": [
    {
     "name": "stdout",
     "output_type": "stream",
     "text": [
      "Help on function prepare_protein in module rush.provider:\n",
      "\n",
      "async prepare_protein(*args: [<class 'pathlib.Path'>], target: rush.graphql_client.enums.ModuleInstanceTarget | None = 'NIX_SSH_2', resources: rush.graphql_client.input_types.ModuleInstanceResourcesInput | None = ModuleInstanceResourcesInput(gpus=1, gpu_mem=None, gpu_mem_units=None, cpus=None, nodes=None, mem=None, mem_units=None, storage=138, storage_units=<MemUnits.MB: 'MB'>, walltime=None, storage_mounts=None), tags: list[str] | None = None, restore: bool | None = None) -> [<class 'pathlib.Path'>, <class 'pathlib.Path'>]\n",
      "    Prepare a PDB for downstream tasks: protonate, fill missing atoms, etc.\n",
      "    \n",
      "    Module version: `prepare_protein/83bed2ad1f01f495c94518717f9f5b1bd7fe855c`\n",
      "    \n",
      "    QDX Type Description:\n",
      "    \n",
      "        input_pdb: @bytes\n",
      "        ->\n",
      "        output_qdxf: @[Conformer];\n",
      "        output_pdb: @bytes\n",
      "    \n",
      "    :param input_pdb: An input protein as a file: one PDB file\n",
      "    :return output_qdxf: An output protein a vec: one qdxf per model in pdb\n",
      "    :return output_pdb: An output protein as a file: one PDB file\n",
      "\n"
     ]
    }
   ],
   "source": [
    "# we can check the arguments and outputs for prepare_protein with help()\n",
    "help(client.prepare_protein)"
   ]
  },
  {
   "cell_type": "code",
   "execution_count": null,
   "id": "cbc1fb21",
   "metadata": {},
   "outputs": [
    {
     "data": {
      "text/plain": [
       "Arg(id=f1b19818-53bc-4cc5-8a4d-466695df7fe7, value=None)"
      ]
     },
     "execution_count": null,
     "metadata": {},
     "output_type": "execute_result"
    }
   ],
   "source": [
    "# Here we run the function, it will return a Provider.Arg which you can use to fetch the results\n",
    "# We set restore = True so that we can restore a previous run to the same path with the same tags\n",
    "prepared_protein_qdxf, prepared_protein_pdb = await client.prepare_protein(PROTEIN_PDB_PATH)\n",
    "prepared_protein_qdxf  # this initially only have the id of your result; we will show how to fetch the actual value later"
   ]
  },
  {
   "cell_type": "markdown",
   "id": "09a9f6ab",
   "metadata": {},
   "source": [
    "## 1.3) Run statuses\n",
    "This will show the status of all of your runs. You can also view run statuses on the [Rush UI](https://rush.qdx.co/dashboard/jobs)."
   ]
  },
  {
   "cell_type": "code",
   "execution_count": null,
   "id": "87cbd627",
   "metadata": {},
   "outputs": [
    {
     "data": {
      "text/plain": [
       "{'12a34c57-4f6f-42e6-a40e-094f51120e44': (<ModuleInstanceStatus.RESOLVING: 'RESOLVING'>,\n",
       "  'prepare_protein',\n",
       "  1),\n",
       " '30d2e785-a9a1-4084-8258-ae8b244f5a9c': (<ModuleInstanceStatus.COMPLETED: 'COMPLETED'>,\n",
       "  'prepare_protein',\n",
       "  1),\n",
       " '2ae750f0-87d3-4709-b971-9eac24fffbc2': (<ModuleInstanceStatus.COMPLETED: 'COMPLETED'>,\n",
       "  'prepare_protein',\n",
       "  1),\n",
       " '7d67f71b-efc0-4c73-8e49-1a8fc16a5441': (<ModuleInstanceStatus.COMPLETED: 'COMPLETED'>,\n",
       "  'prepare_protein',\n",
       "  1),\n",
       " '4d24286f-ae31-4e3a-95e9-b874b56febbe': (<ModuleInstanceStatus.COMPLETED: 'COMPLETED'>,\n",
       "  'prepare_protein',\n",
       "  1)}"
      ]
     },
     "execution_count": null,
     "metadata": {},
     "output_type": "execute_result"
    }
   ],
   "source": [
    "await client.status()"
   ]
  },
  {
   "cell_type": "markdown",
   "id": "b17e51bf",
   "metadata": {},
   "source": [
    "## 1.4) Run Values\n",
    "This will return the \"value\" of the output from the function—for files you will recieve a url that you can download, otherwise you will recieve them as python types:"
   ]
  },
  {
   "cell_type": "code",
   "execution_count": null,
   "id": "89440719",
   "metadata": {},
   "outputs": [
    {
     "name": "stdout",
     "output_type": "stream",
     "text": [
      "2024-01-29 20:20:36,260 - rush - INFO - Argument f1b19818-53bc-4cc5-8a4d-466695df7fe7 is now ModuleInstanceStatus.RESOLVING\n",
      "2024-01-29 20:20:41,071 - rush - INFO - Argument f1b19818-53bc-4cc5-8a4d-466695df7fe7 is now ModuleInstanceStatus.ADMITTED\n",
      "2024-01-29 20:21:09,641 - rush - INFO - Argument f1b19818-53bc-4cc5-8a4d-466695df7fe7 is now ModuleInstanceStatus.DISPATCHED\n",
      "2024-01-29 20:21:15,560 - rush - INFO - Argument f1b19818-53bc-4cc5-8a4d-466695df7fe7 is now ModuleInstanceStatus.RUNNING\n",
      "2024-01-29 20:21:38,928 - rush - INFO - Argument f1b19818-53bc-4cc5-8a4d-466695df7fe7 is now ModuleInstanceStatus.AWAITING_UPLOAD\n"
     ]
    },
    {
     "data": {
      "text/plain": [
       "4848"
      ]
     },
     "execution_count": null,
     "metadata": {},
     "output_type": "execute_result"
    }
   ],
   "source": [
    "protein_qdxf_value = await prepared_protein_qdxf.get()\n",
    "len(protein_qdxf_value[0][\"topology\"][\"symbols\"])"
   ]
  },
  {
   "cell_type": "markdown",
   "id": "560eb2ae",
   "metadata": {},
   "source": [
    "## 1.5) Downloads\n",
    "We provide a utility to download files into your workspace, you can either provide a filename, which will be saved in `workspace/objects/[filename]`, or you can provide your own filepath which the client will use as-is:"
   ]
  },
  {
   "cell_type": "code",
   "execution_count": null,
   "id": "a877d9ff",
   "metadata": {},
   "outputs": [],
   "source": [
    "await prepared_protein_pdb.download(filename=\"01_prepared_protein.pdb\", overwrite=True)"
   ]
  },
  {
   "cell_type": "code",
   "execution_count": null,
   "id": "90ca488f",
   "metadata": {},
   "outputs": [
    {
     "name": "stdout",
     "output_type": "stream",
     "text": [
      "REMARK   1 CREATED WITH OPENMM 8.0, 2024-01-29\n",
      " ...\n"
     ]
    }
   ],
   "source": [
    "# we can read our prepared protein pdb like this\n",
    "with open(client.workspace / \"objects\" / \"01_prepared_protein.pdb\", \"r\") as f:\n",
    "    print(f.readline(), \"...\")"
   ]
  }
 ],
 "metadata": {
  "kernelspec": {
   "display_name": "python3",
   "language": "python",
   "name": "python3"
  }
 },
 "nbformat": 4,
 "nbformat_minor": 5
}
