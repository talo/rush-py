{
 "cells": [
  {
   "cell_type": "markdown",
   "id": "d8628687",
   "metadata": {},
   "source": [
    "# rush-py\n",
    "\n",
    "> Python SDK for the QDX Rush quantum computational chemistry workflow management system"
   ]
  },
  {
   "cell_type": "markdown",
   "id": "0d82f4c0",
   "metadata": {},
   "source": [
    "# Quickstart\n",
    "This document will walk through executing jobs on the Rush platform, by demonstrating how to prepare a protein. For a comprehensive guide on the concepts and constructing a full workflow, see the [full rush-py explainer](https://talo.github.io/rush-py/full-rush-py-explainer.html) document."
   ]
  },
  {
   "cell_type": "markdown",
   "id": "7cb2646d",
   "metadata": {},
   "source": [
    "First, install the following modules via pip—we require Python ≥ 3.9:\n",
    "```\n",
    "pip install rush-py pdb-tools\n",
    "```"
   ]
  },
  {
   "cell_type": "markdown",
   "id": "05f9fdef",
   "metadata": {},
   "source": [
    "# 0) Code Sample\n",
    "See the detailed breakdown in sections."
   ]
  },
  {
   "cell_type": "code",
   "execution_count": null,
   "id": "bbbb7a07",
   "metadata": {},
   "outputs": [],
   "source": [
    "# |hide\n",
    "import os\n",
    "\n",
    "YOUR_TOKEN = os.getenv(\"RUSH_TOKEN\")"
   ]
  },
  {
   "cell_type": "code",
   "execution_count": null,
   "id": "4ae8d6db",
   "metadata": {},
   "outputs": [],
   "source": [
    "# |hide\n",
    "!rm -r ./.rush"
   ]
  },
  {
   "cell_type": "code",
   "execution_count": null,
   "id": "16bc6f23",
   "metadata": {},
   "outputs": [],
   "source": [
    "# Get a pdb to work with - we use the pdb-tools cli here\n",
    "# but you can download directly from rcsb.org\n",
    "!pdb_fetch '1brs' | pdb_selchain -A | pdb_delhetatm > '1B39_A_nohet.pdb'"
   ]
  },
  {
   "cell_type": "code",
   "execution_count": null,
   "id": "64eeee9d",
   "metadata": {},
   "outputs": [
    {
     "name": "stdout",
     "output_type": "stream",
     "text": [
      "2024-03-16 10:06:45,881 - rush - INFO - Argument c5eee246-447d-4170-b075-a70069103e8a is now ModuleInstanceStatus.RESOLVING\n",
      "2024-03-16 10:06:46,979 - rush - INFO - Argument c5eee246-447d-4170-b075-a70069103e8a is now ModuleInstanceStatus.ADMITTED\n",
      "2024-03-16 10:06:52,438 - rush - INFO - Argument c5eee246-447d-4170-b075-a70069103e8a is now ModuleInstanceStatus.RUNNING\n",
      "2024-03-16 10:06:59,127 - rush - INFO - Argument c5eee246-447d-4170-b075-a70069103e8a is now ModuleInstanceStatus.AWAITING_UPLOAD\n",
      "[{\"topology\": {\"version\": \"V1\", \"symbols\": [\"N\", \" ...\n"
     ]
    }
   ],
   "source": [
    "# ...import the dependencies and set your configuration\n",
    "from pathlib import Path\n",
    "import rush\n",
    "\n",
    "os.environ[\"RUSH_TOKEN\"] = YOUR_TOKEN\n",
    "\n",
    "# 1.3 Build your client\n",
    "client = rush.build_blocking_provider_with_functions()\n",
    "\n",
    "# 2.1 Prepare the protein\n",
    "prepared_protein_qdxf, prepared_protein_pdb = client.prepare_protein(\n",
    "    Path(\"1B39_A_nohet.pdb\")\n",
    ")\n",
    "\n",
    "# 2.3 Return run values\n",
    "print(prepared_protein_qdxf.download().open().read()[0:50], \"...\")"
   ]
  },
  {
   "cell_type": "code",
   "execution_count": null,
   "id": "70ce9148",
   "metadata": {},
   "outputs": [],
   "source": [
    "# |hide\n",
    "!rm 1B39_A_nohet.pdb"
   ]
  },
  {
   "cell_type": "markdown",
   "id": "3957b22c",
   "metadata": {},
   "source": [
    "# 1) Setup\n",
    "This is where we prepare the rush client, directories, and input data we'll be working with."
   ]
  },
  {
   "cell_type": "markdown",
   "id": "facfdaf3",
   "metadata": {},
   "source": [
    "## 1.0) Imports"
   ]
  },
  {
   "cell_type": "code",
   "execution_count": null,
   "id": "596fb3ab",
   "metadata": {},
   "outputs": [],
   "source": [
    "import json\n",
    "from pathlib import Path\n",
    "\n",
    "from pdbtools import pdb_delhetatm, pdb_fetch, pdb_selchain\n",
    "\n",
    "import rush"
   ]
  },
  {
   "cell_type": "markdown",
   "id": "3ab01e89",
   "metadata": {},
   "source": [
    "## 1.1) Credentials\n",
    "Retrieve your API token from the [Rush UI](https://rush.qdx.co/dashboard/settings).\n",
    "\n",
    "You can either set the `RUSH_URL` and `RUSH_TOKEN` environment variables or provide them as variables to the client directly.\n",
    "\n",
    "To see how to set environment variables, [Wikipedia](https://en.wikipedia.org/wiki/Environment_variable) has an extensive article."
   ]
  },
  {
   "cell_type": "code",
   "execution_count": null,
   "id": "69a1b24f",
   "metadata": {},
   "outputs": [],
   "source": [
    "os.environ[\"RUSH_TOKEN\"] = YOUR_TOKEN"
   ]
  },
  {
   "cell_type": "markdown",
   "id": "3a98dd1d",
   "metadata": {},
   "source": [
    "## 1.2) Configuration\n",
    "Lets set some global variables that define our project. These are not required, but are good practice to help organize the jobs that will be persisted under your account.\n",
    "\n",
    "Make sure you create a unique set of tags for each run.\n",
    "Good practice is to have at least each of the experiment name and system name as a tag."
   ]
  },
  {
   "cell_type": "code",
   "execution_count": null,
   "id": "382793d2",
   "metadata": {},
   "outputs": [],
   "source": [
    "EXPERIMENT = \"rush-py-quickstart\"\n",
    "SYSTEM = \"1B39\"\n",
    "TAGS = [\"qdx\", EXPERIMENT, SYSTEM]"
   ]
  },
  {
   "cell_type": "code",
   "execution_count": null,
   "id": "907f18a0",
   "metadata": {},
   "outputs": [],
   "source": [
    "# |hide\n",
    "WORK_DIR = Path.home() / \"qdx\" / EXPERIMENT\n",
    "\n",
    "if WORK_DIR.exists():\n",
    "    client = rush.Provider(workspace=WORK_DIR)\n",
    "    rush.provider.asyncio_run(client.nuke(remote=True))\n",
    "\n",
    "os.makedirs(WORK_DIR, exist_ok=True)\n",
    "os.chdir(WORK_DIR)"
   ]
  },
  {
   "cell_type": "markdown",
   "id": "1a0ac49d",
   "metadata": {},
   "source": [
    "## 1.3) Build your client\n",
    "Get our client, which we'll use for calling modules and generally for using the Rush API.\n",
    "\n",
    "As mentioned earlier, `url` and `access_token` are optional if you have set the env variables `RUSH_URL` and `RUSH_TOKEN` respectively.\n",
    "\n",
    "`batch_tags` will be applied to each run that is spawned by this client.\n",
    "\n",
    "A folder called `.rush` will be created in your workspace directory (defaults to the current working directory, can be overridden by passing `workspace=` to the provider builder)."
   ]
  },
  {
   "cell_type": "code",
   "execution_count": null,
   "id": "64f9ab36",
   "metadata": {},
   "outputs": [],
   "source": [
    "# By using the `build_provider_with_functions` method,\n",
    "# we will also build helper functions calling each module\n",
    "client = rush.build_blocking_provider_with_functions(batch_tags=TAGS)"
   ]
  },
  {
   "cell_type": "code",
   "execution_count": null,
   "id": "599d6e1c",
   "metadata": {},
   "outputs": [],
   "source": [
    "# |hide\n",
    "client = rush.build_blocking_provider_with_functions(\n",
    "    batch_tags=TAGS,\n",
    "    restore_by_default=True,\n",
    ")"
   ]
  },
  {
   "cell_type": "markdown",
   "id": "9c9090eb",
   "metadata": {},
   "source": [
    "## 1.4) Input selection\n",
    "Fetch a pdb from RCSB, stripping hetatoms and selecting a single chain to pass as input to the modules:"
   ]
  },
  {
   "cell_type": "code",
   "execution_count": null,
   "id": "f0cb19a1",
   "metadata": {},
   "outputs": [],
   "source": [
    "PROTEIN_PDB_PATH = client.workspace / f\"{SYSTEM}_P.pdb\"\n",
    "\n",
    "complex = list(pdb_fetch.fetch_structure(SYSTEM))\n",
    "protein = pdb_delhetatm.remove_hetatm(pdb_selchain.select_chain(complex, \"A\"))\n",
    "with open(PROTEIN_PDB_PATH, \"w\") as f:\n",
    "    for l in protein:\n",
    "        f.write(str(l))"
   ]
  },
  {
   "cell_type": "markdown",
   "id": "c4abc645",
   "metadata": {},
   "source": [
    "# 2) Running Rush Modules\n",
    "You can view which modules are available, alongside their documentation, in the [API Documentation](https://talo.github.io/rush-py/api/)."
   ]
  },
  {
   "cell_type": "markdown",
   "id": "a0e463fc",
   "metadata": {},
   "source": [
    "## 2.0) Prep the protein\n",
    "First we will run the protein preparation routine (using pdbfixer and pdb2pqr internally) to prepare the protein for a molecular dynamics simulation."
   ]
  },
  {
   "cell_type": "code",
   "execution_count": null,
   "id": "28aaba3a",
   "metadata": {},
   "outputs": [
    {
     "name": "stdout",
     "output_type": "stream",
     "text": [
      "Help on function prepare_protein in module rush.provider:\n",
      "\n",
      "prepare_protein(*args: *tuple[RushObject[bytes]], **kwargs) -> tuple[RushObject[list[Record]], RushObject[bytes]]\n",
      "    Prepare a PDB for downstream tasks: protonate, fill missing atoms, etc.\n",
      "\n",
      "    Module version:\n",
      "    `github:talo/prepare_protein/58bca0b416a7dd2080cf40d54cd91d619284407b#prepare_protein_tengu`\n",
      "\n",
      "    QDX Type Description:\n",
      "\n",
      "        input_pdb: Object[@$Bytes]\n",
      "        ->\n",
      "        output_qdxf: Object[[Conformer]];\n",
      "        output_pdb: Object[@$Bytes]\n",
      "\n",
      "\n",
      "    :param input_pdb: An input protein as a file; one PDB file\n",
      "    :return output_qdxf: An output protein a vec: one qdxf per model in pdb\n",
      "    :return output_pdb: An output protein as a file: one PDB file\n",
      "\n"
     ]
    }
   ],
   "source": [
    "# we can check the arguments and outputs for prepare_protein with help()\n",
    "help(client.prepare_protein)"
   ]
  },
  {
   "cell_type": "code",
   "execution_count": null,
   "id": "493c2f37",
   "metadata": {},
   "outputs": [
    {
     "name": "stdout",
     "output_type": "stream",
     "text": [
      "2024-03-16 10:07:17,306 - rush - INFO - Trying to restore job with tags: ['qdx', 'rush-py-quickstart', '1B39'] and path: github:talo/prepare_protein/58bca0b416a7dd2080cf40d54cd91d619284407b#prepare_protein_tengu\n"
     ]
    },
    {
     "data": {
      "text/plain": [
       "Arg(id=230881bc-841f-452d-9061-cdbc07a094ea, value=None)"
      ]
     },
     "execution_count": null,
     "metadata": {},
     "output_type": "execute_result"
    }
   ],
   "source": [
    "# Here we run the function, it will return a Provider.Arg which you can use to\n",
    "# fetch the results\n",
    "# We set restore = True so that we can restore a previous run to the same path\n",
    "# with the same tags\n",
    "prepared_protein_qdxf, prepared_protein_pdb = client.prepare_protein(\n",
    "    PROTEIN_PDB_PATH,\n",
    ")\n",
    "# This initially only has the id of your result; we will show how to fetch the\n",
    "# actual value later\n",
    "prepared_protein_qdxf"
   ]
  },
  {
   "cell_type": "markdown",
   "id": "575c5704",
   "metadata": {},
   "source": [
    "## 2.1) Run statuses\n",
    "This will show the status of all of your runs. You can also view run statuses on the [Rush UI](https://rush.qdx.co/dashboard/jobs)."
   ]
  },
  {
   "cell_type": "code",
   "execution_count": null,
   "id": "c0d9cc79",
   "metadata": {},
   "outputs": [
    {
     "data": {
      "text/plain": [
       "{'dbff9db9-0469-48b5-9eb0-8af2ca1b5b17': (<ModuleInstanceStatus.RESOLVING: 'RESOLVING'>,\n",
       "  'prepare_protein',\n",
       "  1)}"
      ]
     },
     "execution_count": null,
     "metadata": {},
     "output_type": "execute_result"
    }
   ],
   "source": [
    "client.status()"
   ]
  },
  {
   "cell_type": "markdown",
   "id": "74a2356a",
   "metadata": {},
   "source": [
    "## 2.2) Run Values\n",
    "This will return the \"value\" of the output from the function—for files you will recieve a url that you can download, otherwise you will recieve them as python types:"
   ]
  },
  {
   "cell_type": "code",
   "execution_count": null,
   "id": "1928e14b",
   "metadata": {},
   "outputs": [
    {
     "name": "stdout",
     "output_type": "stream",
     "text": [
      "2024-03-16 10:07:17,617 - rush - INFO - Argument 230881bc-841f-452d-9061-cdbc07a094ea is now ModuleInstanceStatus.RESOLVING\n",
      "2024-03-16 10:07:20,949 - rush - INFO - Argument 230881bc-841f-452d-9061-cdbc07a094ea is now ModuleInstanceStatus.ADMITTED\n",
      "2024-03-16 10:07:26,400 - rush - INFO - Argument 230881bc-841f-452d-9061-cdbc07a094ea is now ModuleInstanceStatus.DISPATCHED\n",
      "2024-03-16 10:07:27,489 - rush - INFO - Argument 230881bc-841f-452d-9061-cdbc07a094ea is now ModuleInstanceStatus.RUNNING\n",
      "2024-03-16 10:07:39,719 - rush - INFO - Argument 230881bc-841f-452d-9061-cdbc07a094ea is now ModuleInstanceStatus.AWAITING_UPLOAD\n"
     ]
    },
    {
     "data": {
      "text/plain": [
       "'https://storage.googleapis.com/qdx-store/a585ccd8-a002-4556-9820-c7b87cc8d648?x-goog-signature=0dfa4232a8d8c62ca888a7287c37ea1e72fa423eee22d72514bd2050203f718169175fae7e6cafe937a0622a0fc8251b1b42b7578e3eb1319875ca30608d64505380137e513f5059d0263891ed1429bcd89f2cd7394a6286e5da4f5356e2da1208558177c012a459599e260465c5074db31ae479400750e0a959555627634c33c94281a55e11b7d8f32a94aee6416ca26018bcb655b4ac4867452f22cf04d8b8219184eddc5854566d08ac3a898b3274725e03ef7f5aed1433ee307d127bc67c6ae1f3c1ae50ed93a6765655ea2c4355df5f6f7bd799f644304076f361f1d018cd69c02b2fdda7057cc3db921917b5cecc989afb25fe562498b0f3dd7dd16454&x-goog-algorithm=GOOG4-RSA-SHA256&x-goog-credential=qdx-store-user%40humming-bird-321603.iam.gserviceaccount.com%2F20240316%2Fasia-southeast1%2Fstorage%2Fgoog4_request&x-goog-date=20240316T020800Z&x-goog-expires=3600&x-goog-signedheaders=host'"
      ]
     },
     "execution_count": null,
     "metadata": {},
     "output_type": "execute_result"
    }
   ],
   "source": [
    "protein_qdxf_info = prepared_protein_qdxf.get()\n",
    "protein_qdxf_info"
   ]
  },
  {
   "cell_type": "markdown",
   "id": "15c76147",
   "metadata": {},
   "source": [
    "## 2.3) Downloads\n",
    "We provide a utility to download files into your workspace, you can either provide a filename, which will be saved in `workspace/objects/[filename]`, or you can provide your own filepath which the client will use as-is:"
   ]
  },
  {
   "cell_type": "code",
   "execution_count": null,
   "id": "4172b1c2",
   "metadata": {},
   "outputs": [],
   "source": [
    "protein_qdxf_file = prepared_protein_qdxf.download(overwrite=True)"
   ]
  },
  {
   "cell_type": "code",
   "execution_count": null,
   "id": "fbf72ed5",
   "metadata": {},
   "outputs": [
    {
     "data": {
      "text/plain": [
       "['MET', 'GLU', 'ASN', 'PHE', 'GLN', 'LYS', 'VAL', 'GLU', 'LYS', 'ILE']"
      ]
     },
     "execution_count": null,
     "metadata": {},
     "output_type": "execute_result"
    }
   ],
   "source": [
    "# qdxf files can be loaded as json\n",
    "with open(protein_qdxf_file) as f:\n",
    "    protein_qdxf_data = json.load(f)[0]\n",
    "protein_qdxf_data[\"amino_acid_seq\"][:10]"
   ]
  },
  {
   "cell_type": "code",
   "execution_count": null,
   "id": "6998d9f6",
   "metadata": {},
   "outputs": [
    {
     "data": {
      "text/plain": [
       "PosixPath('/home/machineer/qdx/rush-py-quickstart/objects/01_prepared_protein.pdb')"
      ]
     },
     "execution_count": null,
     "metadata": {},
     "output_type": "execute_result"
    }
   ],
   "source": [
    "prepared_protein_pdb.download(\n",
    "    filename=\"01_prepared_protein.pdb\", overwrite=True\n",
    ")"
   ]
  },
  {
   "cell_type": "code",
   "execution_count": null,
   "id": "9ce208df",
   "metadata": {},
   "outputs": [
    {
     "name": "stdout",
     "output_type": "stream",
     "text": [
      "REMARK   1 CREATED WITH OPENMM 8.0, 2024-03-16\n",
      " ...\n"
     ]
    }
   ],
   "source": [
    "# we can read our prepared protein pdb like this\n",
    "with open(client.workspace / \"objects\" / \"01_prepared_protein.pdb\", \"r\") as f:\n",
    "    print(f.readline(), \"...\")"
   ]
  }
 ],
 "metadata": {
  "kernelspec": {
   "display_name": "python3",
   "language": "python",
   "name": "python3"
  }
 },
 "nbformat": 4,
 "nbformat_minor": 5
}
