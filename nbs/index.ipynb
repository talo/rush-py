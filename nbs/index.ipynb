{
 "cells": [
  {
   "cell_type": "markdown",
   "id": "2eab58b1",
   "metadata": {},
   "source": [
    "# tengu-py\n",
    "\n",
    "> Python SDK for the QDX Quantum Chemistry workflow management system"
   ]
  },
  {
   "cell_type": "markdown",
   "id": "ba241309",
   "metadata": {},
   "source": [
    "Below we'll walk through the process of building and running a drug discovery workflow, where we prepare a protein and ligand for molecular dynamics simulation, run the molecular dynamics, perform a quantum lattice interaction energy calculation."
   ]
  },
  {
   "cell_type": "markdown",
   "id": "c3572644",
   "metadata": {},
   "source": [
    "First, install the following modules via pip - we require Python > 3.10\n",
    "```\n",
    "pip install tengu-py pdb-tools\n",
    "```"
   ]
  },
  {
   "cell_type": "markdown",
   "id": "29bbf158",
   "metadata": {},
   "source": [
    "# 0) Setup\n",
    "This is where we prepare the tengu client, directories, and input data we'll be working with"
   ]
  },
  {
   "cell_type": "markdown",
   "id": "3a954d0c",
   "metadata": {},
   "source": [
    "## 0.0) Imports"
   ]
  },
  {
   "cell_type": "code",
   "execution_count": null,
   "id": "8ae3bb2c",
   "metadata": {},
   "outputs": [],
   "source": [
    "import os\n",
    "import tarfile\n",
    "from datetime import datetime\n",
    "from pathlib import Path\n",
    "\n",
    "from pdbtools import pdb_fetch, pdb_delhetatm, pdb_selchain, pdb_rplresname, pdb_keepcoord, pdb_selresname\n",
    "\n",
    "import tengu"
   ]
  },
  {
   "cell_type": "markdown",
   "id": "ae4dd3d8",
   "metadata": {},
   "source": [
    "## 0.1) Credentials"
   ]
  },
  {
   "cell_type": "code",
   "execution_count": null,
   "id": "1c7ace88",
   "metadata": {},
   "outputs": [],
   "source": [
    "# Set our token - ensure you have exported TENGU_TOKEN in your shell; or just replace the os.getenv with your token\n",
    "TOKEN = os.getenv(\"TENGU_TOKEN\")\n",
    "# You might have a custom deployment url, by default it will use https://tengu.qdx.ai\n",
    "URL = os.getenv(\"TENGU_URL\") or \"https://tengu.qdx.ai\"\n",
    "# These env variables will be read by default, so you can skip this step in future"
   ]
  },
  {
   "cell_type": "markdown",
   "id": "cf3b5232",
   "metadata": {},
   "source": [
    "## 0.2) Configuration\n",
    "Lets set some global variables that define our project"
   ]
  },
  {
   "cell_type": "code",
   "execution_count": null,
   "id": "6e4e9c87",
   "metadata": {},
   "outputs": [],
   "source": [
    "# Define our project information\n",
    "DESCRIPTION = \"tengu-py demo notebook\"\n",
    "TAGS = [\"qdx\", \"tengu-py-v2\", \"tutorial\", \"cdk2\"]\n",
    "WORK_DIR = Path.home() / \"qdx\" / \"tengu-py-demo\"\n",
    "# Set our inputs\n",
    "SYSTEM_PDB_PATH = WORK_DIR / \"test.pdb\"\n",
    "PROTEIN_PDB_PATH = WORK_DIR / \"test_P.pdb\"\n",
    "LIGAND_SMILES_STR = (\n",
    "    \"c1nc(c2c(n1)n(cn2)[C@H]3[C@@H]([C@@H]([C@H](O3)CO[P@@](=O)(O)O[P@](=O)(O)OP(=O)(O)O)O)O)N\"\n",
    ")\n",
    "LIGAND_PDB_PATH = WORK_DIR / \"test_L.pdb\""
   ]
  },
  {
   "cell_type": "code",
   "execution_count": null,
   "id": "d842860d-4694-40f7-9592-324bd3ada907",
   "metadata": {},
   "outputs": [],
   "source": [
    "#|hide\n",
    "if WORK_DIR.exists():\n",
    "    client = tengu.Provider(workspace=WORK_DIR)\n",
    "    await client.nuke(remote=True)"
   ]
  },
  {
   "cell_type": "markdown",
   "id": "c9ca4139-6546-4e29-8501-f76a86a6137e",
   "metadata": {},
   "source": [
    "Ensure your workdir exists"
   ]
  },
  {
   "cell_type": "code",
   "execution_count": null,
   "id": "cc4b1eda-290d-4857-87e9-e9f0218dd7b5",
   "metadata": {},
   "outputs": [],
   "source": [
    "os.makedirs(WORK_DIR)"
   ]
  },
  {
   "cell_type": "markdown",
   "id": "10beeb8e",
   "metadata": {},
   "source": [
    "## 0.2) Build your client"
   ]
  },
  {
   "cell_type": "code",
   "execution_count": null,
   "id": "bd03d4a4",
   "metadata": {},
   "outputs": [],
   "source": [
    "# Get our client, for calling modules and using the tengu API\n",
    "# Note, access_token and url are optional, if you have set the env variables TENGU_TOKEN and TENGU_URL\n",
    "# Workspace sets the location where we will store our session history file and module lock file\n",
    "# By using the `build_provider_with_functions` method, we will also build helper functions calling each module\n",
    "client = await tengu.build_provider_with_functions(\n",
    "    access_token=TOKEN, url=URL, workspace=WORK_DIR, batch_tags=TAGS\n",
    ")"
   ]
  },
  {
   "cell_type": "markdown",
   "id": "9859d230",
   "metadata": {},
   "source": [
    "## 0.3) Input selection"
   ]
  },
  {
   "cell_type": "code",
   "execution_count": null,
   "id": "88153670",
   "metadata": {},
   "outputs": [],
   "source": [
    "# fetch datafiles\n",
    "complex = list(pdb_fetch.fetch_structure(\"1B39\"))\n",
    "protein = pdb_delhetatm.remove_hetatm(pdb_selchain.select_chain(complex, \"A\"))\n",
    "# select the ATP residue\n",
    "ligand = pdb_selresname.filter_residue_by_name(complex, \"ATP\")\n",
    "# we require ligands to be labelled as UNL\n",
    "ligand = pdb_rplresname.rename_residues(ligand, \"ATP\", \"UNL\")\n",
    "# we don't want to repeat all of the remark / metadata that is already in the protein\n",
    "ligand = pdb_keepcoord.keep_coordinates(ligand)\n",
    "# write our files to the locations defined in the config block\n",
    "with open(SYSTEM_PDB_PATH, \"w\") as f:\n",
    "    for l in complex:\n",
    "        f.write(str(l))\n",
    "with open(PROTEIN_PDB_PATH, \"w\") as f:\n",
    "    for l in protein:\n",
    "        f.write(str(l))\n",
    "with open(LIGAND_PDB_PATH, \"w\") as f:\n",
    "    for l in ligand:\n",
    "        f.write(str(l))"
   ]
  },
  {
   "cell_type": "markdown",
   "id": "b08c0303",
   "metadata": {},
   "source": [
    "## 0.4) View tengu modules\n",
    "Tengu modules are \"functions\" that perform various computational chemistry tasks can be run on HPC infrastructure. We maintain multiple versions of these functions so that your scripts will stay stable over upgrades."
   ]
  },
  {
   "cell_type": "code",
   "execution_count": null,
   "id": "429f0190",
   "metadata": {},
   "outputs": [],
   "source": [
    "# Get our latest modules as a dict[module_name, module_path]\n",
    "# If a lock file exists, load it so that the run is reproducable\n",
    "# This will be done automatically if you use the `build_provider_with_functions` method\n",
    "modules = await client.get_latest_module_paths()"
   ]
  },
  {
   "cell_type": "code",
   "execution_count": null,
   "id": "aee49efc",
   "metadata": {},
   "outputs": [
    {
     "name": "stdout",
     "output_type": "stream",
     "text": [
      "github:talo/tengu-prelude/b624dbe6f9ccb7ccc417d52cdc3dd251de76b604#hermes_energy\n"
     ]
    }
   ],
   "source": [
    "module_name = \"hermes_energy\"\n",
    "module_path = modules[module_name]\n",
    "print(module_path)"
   ]
  },
  {
   "cell_type": "markdown",
   "id": "a4367d5a",
   "metadata": {},
   "source": [
    "  - `module_name` is a descriptive string and indicates the \"function\" the module is calling;\n",
    "  - `module_path` is a versioned tengu \"endpoint\" for a module accessible via the client.\n",
    "\n",
    "Using the same `module_path` string across multiple runs provides reproducibility."
   ]
  },
  {
   "cell_type": "markdown",
   "id": "1cca66a3",
   "metadata": {},
   "source": [
    "## 0.5) Build module functions\n",
    "Next, we'll build helper functions for the modules that we've fetched"
   ]
  },
  {
   "cell_type": "markdown",
   "id": "11a99757",
   "metadata": {},
   "source": [
    "`get_module_functions`\n",
    "We can use the python `help()` function to describe their usage.\n",
    "\n",
    "The QDX Type Description is a standard type definition across multiple programing languages to assist in interoperablility.\n",
    "@ indicates that the type is stored in a file, which will be synced to cloud storage"
   ]
  },
  {
   "cell_type": "code",
   "execution_count": null,
   "id": "503acb26",
   "metadata": {},
   "outputs": [
    {
     "name": "stdout",
     "output_type": "stream",
     "text": [
      "Help on function convert in module tengu.provider:\n",
      "\n",
      "async convert(*args: [list[typing.Union[str, ~T]], <class 'pathlib.Path'>], target: tengu.graphql_client.enums.ModuleInstanceTarget | None = <ModuleInstanceTarget.NIX: 'NIX'>, resources: tengu.graphql_client.input_types.ModuleInstanceResourcesInput | None = None, tags: list[str] | None = None, restore: bool | None = None) -> [<class 'pathlib.Path'>]\n",
      "    Convert biomolecular and chemical file formats to the QDX file format. Supports PDB and SDF\n",
      "    \n",
      "    Module version: github:talo/tengu-prelude/b624dbe6f9ccb7ccc417d52cdc3dd251de76b604#convert\n",
      "    \n",
      "    QDX Type Description:\n",
      "    \n",
      "        format: PDB|SDF;\n",
      "    \n",
      "        input: @bytes \n",
      "    \n",
      "    ->\n",
      "    \n",
      "        output: @[Conformer]\n",
      "    \n",
      "    \n",
      "    \n",
      "    :param format: the format of the input file\n",
      "    :param input: the input file\n",
      "    :return output: the output conformers\n",
      "\n"
     ]
    }
   ],
   "source": [
    "help(client.convert)"
   ]
  },
  {
   "cell_type": "markdown",
   "id": "9fa55b86",
   "metadata": {},
   "source": [
    "# 1) Running Tengu Modules\n",
    "Below we'll call modules using the functions created on the client.\n",
    "\n",
    "The parameters to a tengu module function would look like the following\n",
    "\n",
    "  - `*args`: The values or ids passed to the :\n",
    "    1. For @Objects -  A `pathlib.Path` or a file-like object like `BufferedReader`, `FileIO`, `StringIO` etc.:\n",
    "         Loads the data in the file as an argument.\n",
    "         **NOTE**: The uploaded value isn't just the string of the file,\n",
    "         so don't pass the string directly; pass the path or wrap in StringIO.\n",
    "    2. An tengu `Provider.Argument` or `ArgId` returned by a previous call to a tengu module via `client.[some_module_name]()`:\n",
    "         The `ArgId` type wraps data for use within tengu. It may refer to an object already\n",
    "         uploaded to tengu storage, such as outputs of other run calls.\n",
    "         See below for more details. It's easier to understand when you see an example.\n",
    "    3. A parameter, i.e. a value of any other type, including `None`:\n",
    "         Ensure the values match what is outlined in the *args list\n",
    "  - **kwargs\n",
    "      - `target`: The machine we want to run on (eg. `NIX_SSH` for a cluster, `GADI` for a supercomputer).\n",
    "      - `resources`: The resources to use on the target. The most commonly provided being `{\"gpus\": n, \"storage\": storage_in_units, \"storage_units\": \"B\" | \"MB\" | \"GB\", \"walltime\": mins}`. \n",
    "      - `tags`: Tags to associate with our run, so we can easily look up our runs. They will be populated by the `batch_tags` passed to                 the cleint on constructionby default\n",
    "      - `restore`: If this is set to True - the function will check if a single module_instance exists for the same version of the                          function with the same tags, and return that instead of re-running.\n",
    "\n",
    "The return value is a list of `Provider.Arguments`. You can wait for them to resolve by calling `await your_argument.get()`, or pass the arguments directly to subsequent functions, which will cause Tengu to do the waiting for you.\n",
    "\n",
    "You can see the status of all the the jobs submitted for your workspace or session by going `client.status()`\n",
    "\n",
    "We will now demonstrate how this works in action"
   ]
  },
  {
   "cell_type": "markdown",
   "id": "2f29502a",
   "metadata": {},
   "source": [
    "## 1.1) Input Preparation"
   ]
  },
  {
   "cell_type": "markdown",
   "id": "18eaec95",
   "metadata": {},
   "source": [
    "### 1.1.1) Prep the protein\n",
    "First we will run the protein preparation routine (using pdbfixer internally) to prepare the protein for molecular dynamics"
   ]
  },
  {
   "cell_type": "code",
   "execution_count": null,
   "id": "6c939f0d",
   "metadata": {},
   "outputs": [
    {
     "name": "stdout",
     "output_type": "stream",
     "text": [
      "Help on function prepare_protein in module tengu.provider:\n",
      "\n",
      "async prepare_protein(*args: [<class 'pathlib.Path'>], target: tengu.graphql_client.enums.ModuleInstanceTarget | None = <ModuleInstanceTarget.NIX_SSH_2: 'NIX_SSH_2'>, resources: tengu.graphql_client.input_types.ModuleInstanceResourcesInput | None = ModuleInstanceResourcesInput(gpus=1, gpu_mem=None, gpu_mem_units=None, cpus=None, nodes=None, mem=None, mem_units=None, storage=128, storage_units=<MemUnits.MB: 'MB'>, walltime=None, storage_mounts=None), tags: list[str] | None = None, restore: bool | None = None) -> [<class 'pathlib.Path'>, <class 'pathlib.Path'>]\n",
      "    Prepare a PDB for downstream tasks: protonate, fill missing atoms, etc.\n",
      "    \n",
      "    Module version: github:talo/pdb2pqr/ff5abe87af13f31478ede490d37468a536621e9c#prepare_protein_tengu\n",
      "    \n",
      "    QDX Type Description:\n",
      "    \n",
      "        input_pdb: @bytes \n",
      "    \n",
      "    ->\n",
      "    \n",
      "        output_qdxf: @[Conformer];\n",
      "    \n",
      "        output_pdb: @bytes\n",
      "    \n",
      "    \n",
      "    \n",
      "    :param input_pdb: An input protein as a file: one PDB file\n",
      "    :return output_qdxf: An output protein a vec: one qdxf per model in pdb\n",
      "    :return output_pdb: An output protein as a file: one PDB file\n",
      "\n"
     ]
    }
   ],
   "source": [
    "# we can check the arguments and outputs for prepare_protein with help()\n",
    "help(client.prepare_protein)"
   ]
  },
  {
   "cell_type": "code",
   "execution_count": null,
   "id": "ac7b2075",
   "metadata": {},
   "outputs": [
    {
     "name": "stdout",
     "output_type": "stream",
     "text": [
      "15:02:30.196229 | Running protein prep!\n"
     ]
    },
    {
     "data": {
      "text/plain": [
       "Arg(id=2a4ef6fb-6048-446d-9e7c-465b5c7a4a33, value=None)"
      ]
     },
     "execution_count": null,
     "metadata": {},
     "output_type": "execute_result"
    }
   ],
   "source": [
    "# Here we run the function, it will return a Provider.Arg which you can use to fetch the results\n",
    "# We set restore = True so that we can restore a previous run to the same path with the same tags\n",
    "(prepared_protein_qdxf, prepared_protein_pdb) = await client.prepare_protein(PROTEIN_PDB_PATH, target=\"NIX_SSH_2\")\n",
    "print(f\"{datetime.now().time()} | Running protein prep!\")\n",
    "prepared_protein_qdxf  # this initially only have the id of your result, we will show how to fetch the actual value later"
   ]
  },
  {
   "cell_type": "markdown",
   "id": "11ad137e",
   "metadata": {},
   "source": [
    "### 1.1.2) Checking results"
   ]
  },
  {
   "cell_type": "markdown",
   "id": "1a62f54d-881a-4712-8dec-cbc5518cf2c5",
   "metadata": {},
   "source": [
    "#### 1.1.2.1) Run statuses\n",
    "This will show the status of all of your runs"
   ]
  },
  {
   "cell_type": "code",
   "execution_count": null,
   "id": "6ab1e12c",
   "metadata": {},
   "outputs": [
    {
     "data": {
      "text/plain": [
       "{'4607a597-5d9d-4cd6-a2a0-44b245ad6573': (<ModuleInstanceStatus.RESOLVING: 'RESOLVING'>,\n",
       "  'prepare_protein',\n",
       "  1)}"
      ]
     },
     "execution_count": null,
     "metadata": {},
     "output_type": "execute_result"
    }
   ],
   "source": [
    "await client.status()"
   ]
  },
  {
   "cell_type": "markdown",
   "id": "45074636-51c7-4063-a831-533d2a7ea1da",
   "metadata": {},
   "source": [
    "#### 1.1.2.2) Run Logs\n",
    "If any of our runs fail, we can check their logs with"
   ]
  },
  {
   "cell_type": "code",
   "execution_count": null,
   "id": "acb93d18",
   "metadata": {},
   "outputs": [],
   "source": [
    "for instance_id, (status, name, count) in (await client.status()).items():\n",
    "    if status.value == \"FAILED\":\n",
    "        async for log_page in client.logs(instance_id, \"stderr\"):\n",
    "            for log in log_page:\n",
    "                print(log)\n",
    "        break"
   ]
  },
  {
   "cell_type": "markdown",
   "id": "5b4eb8e6-a038-4e88-8f80-7409f52c1026",
   "metadata": {},
   "source": [
    "#### 1.1.2.3) Run Values\n",
    "This will return the \"value\" of the output from the function - for files you will recieve a url that you can download, otherwise you will recieve them as python types"
   ]
  },
  {
   "cell_type": "code",
   "execution_count": null,
   "id": "b366ed8e",
   "metadata": {},
   "outputs": [
    {
     "name": "stdout",
     "output_type": "stream",
     "text": [
      "2024-01-19 15:02:30,484 - tengu - INFO - Argument bdbff0eb-fd10-4ec7-8d8f-74b0206279e3 is now ModuleInstanceStatus.RESOLVING\n",
      "2024-01-19 15:02:30,484 - tengu - INFO - Argument bdbff0eb-fd10-4ec7-8d8f-74b0206279e3 is now ModuleInstanceStatus.RESOLVING\n",
      "2024-01-19 15:02:40,834 - tengu - INFO - Argument bdbff0eb-fd10-4ec7-8d8f-74b0206279e3 is now ModuleInstanceStatus.ADMITTED\n",
      "2024-01-19 15:02:40,834 - tengu - INFO - Argument bdbff0eb-fd10-4ec7-8d8f-74b0206279e3 is now ModuleInstanceStatus.ADMITTED\n"
     ]
    }
   ],
   "source": [
    "await prepared_protein_pdb.get()"
   ]
  },
  {
   "cell_type": "markdown",
   "id": "03264cb7-a0ef-4f46-a53c-b2b106277dc6",
   "metadata": {},
   "source": [
    "#### 1.1.2.3) Downloads\n",
    "We provide a utility to download files into your workspace, you can either provide a filename, which will be saved in `workspace/objects/[filename]`, or you can provide your own filepath which the client will use as-is"
   ]
  },
  {
   "cell_type": "code",
   "execution_count": null,
   "id": "1542bc66",
   "metadata": {},
   "outputs": [],
   "source": [
    "try:\n",
    "    await prepared_protein_pdb.download(filename=\"01_prepared_protein.pdb\")\n",
    "except FileExistsError:\n",
    "    # we will raise an error if you try to overwrite an existing file, you can force the file to overwrite\n",
    "    # by passing an absolute filepath instead\n",
    "    pass"
   ]
  },
  {
   "cell_type": "code",
   "execution_count": null,
   "id": "f12bcfa0",
   "metadata": {},
   "outputs": [],
   "source": [
    "# we can read our prepared protein pdb like this\n",
    "with open(client.workspace / \"objects\" / \"01_prepared_protein.pdb\", \"r\") as f:\n",
    "    print(f.readline(), \"...\")"
   ]
  },
  {
   "cell_type": "markdown",
   "id": "fc9f27c6",
   "metadata": {},
   "source": [
    "### 1.1.3) Prep the ligand\n",
    "Next we will prepare the ligand (using gypsum_dl internally)"
   ]
  },
  {
   "cell_type": "code",
   "execution_count": null,
   "id": "8ff5646f",
   "metadata": {},
   "outputs": [],
   "source": [
    "# we can check the inputs for prepare_ligand with help()\n",
    "help(client.prepare_ligand)"
   ]
  },
  {
   "cell_type": "code",
   "execution_count": null,
   "id": "ff192bc3",
   "metadata": {},
   "outputs": [],
   "source": [
    "ligand_prep_config = {\n",
    "    \"source\": \"\",\n",
    "    \"output_folder\": \"./\",\n",
    "    \"job_manager\": \"multiprocessing\",\n",
    "    \"num_processors\": -1,\n",
    "    \"max_variants_per_compound\": 1,\n",
    "    \"thoroughness\": 3,\n",
    "    \"separate_output_files\": True,\n",
    "    \"min_ph\": 6.4,\n",
    "    \"max_ph\": 8.4,\n",
    "    \"pka_precision\": 1.0,\n",
    "    \"skip_optimize_geometry\": True,\n",
    "    \"skip_alternate_ring_conformations\": True,\n",
    "    \"skip_adding_hydrogen\": False,\n",
    "    \"skip_making_tautomers\": True,\n",
    "    \"skip_enumerate_chiral_mol\": True,\n",
    "    \"skip_enumerate_double_bonds\": True,\n",
    "    \"let_tautomers_change_chirality\": False,\n",
    "    \"use_durrant_lab_filters\": True,\n",
    "}\n",
    "(prepared_ligand_pdb, prepared_ligand_sdf) = await client.prepare_ligand(\n",
    "    LIGAND_SMILES_STR,\n",
    "    LIGAND_PDB_PATH,\n",
    "    ligand_prep_config,\n",
    "    restore=True,\n",
    ")\n",
    "print(f\"{datetime.now().time()} | Running ligand prep!\")"
   ]
  },
  {
   "cell_type": "code",
   "execution_count": null,
   "id": "ee1927a6",
   "metadata": {},
   "outputs": [],
   "source": [
    "# we can check the status again\n",
    "await client.status()"
   ]
  },
  {
   "cell_type": "code",
   "execution_count": null,
   "id": "2737e28b",
   "metadata": {},
   "outputs": [],
   "source": [
    "# we can download our outputs\n",
    "try:\n",
    "    await prepared_ligand_pdb.download(filename=\"01_prepped_ligand.pdb\")\n",
    "    await prepared_ligand_sdf.download(filename=\"01_prepped_ligand.sdf\")\n",
    "except FileExistsError:\n",
    "    pass\n",
    "\n",
    "print(f\"{datetime.now().time()} | Downloaded prepped ligand!\")"
   ]
  },
  {
   "cell_type": "code",
   "execution_count": null,
   "id": "43344033",
   "metadata": {},
   "outputs": [],
   "source": [
    "# we can read our outputs\n",
    "with open(client.workspace / \"objects\" / \"01_prepped_ligand.sdf\", \"r\") as f:\n",
    "    print(f.readline(), f.readline(), \"...\")"
   ]
  },
  {
   "cell_type": "markdown",
   "id": "8f75d4c6",
   "metadata": {},
   "source": [
    "## 1.2) Run GROMACS (module: gmx_tengu / gmx_tengu_pdb)\n",
    "Next we will run a molecular dynamics simulation on our protein and ligand, using gromacs (gmx)"
   ]
  },
  {
   "cell_type": "code",
   "execution_count": null,
   "id": "3d8da267",
   "metadata": {},
   "outputs": [],
   "source": [
    "help(client.gmx)"
   ]
  },
  {
   "cell_type": "code",
   "execution_count": null,
   "id": "681080f8",
   "metadata": {},
   "outputs": [],
   "source": [
    "gmx_config = {\n",
    "    \"param_overrides\": {\n",
    "        \"md\": {\"nsteps\", \"5000\"},\n",
    "        \"em\": {\"nsteps\", \"1000\"},\n",
    "        \"nvt\": {\"nsteps\", \"1000\"},\n",
    "        \"npt\": {\"nsteps\", \"1000\"},\n",
    "        \"ions\": {},\n",
    "    },\n",
    "    \"num_gpus\": 0,\n",
    "    \"num_replicas\": 1,\n",
    "    \"ligand_charge\": None,\n",
    "    \"save_wets\": False,\n",
    "    \"frame_sel\": {\n",
    "        \"start_frame\": 1,\n",
    "        \"end_frame\": 10,\n",
    "        \"interval\": 2,\n",
    "    },\n",
    "}\n",
    "# we pass the outputs from our prior runs directly, instead of their values, to prevent them from being re-uploaded\n",
    "gmx_results = await client.gmx(\n",
    "    None,\n",
    "    prepared_protein_pdb,\n",
    "    prepared_ligand_pdb,\n",
    "    gmx_config,\n",
    "    resources={\"gpus\": 0, \"storage\": 1, \"storage_units\": \"GB\", \"cpus\": 48, \"walltime\": 60},\n",
    "    target=\"NIX_SSH_2\"\n",
    ")\n",
    "print(f\"{datetime.now().time()} | Running GROMACS simulation!\")"
   ]
  },
  {
   "cell_type": "code",
   "execution_count": null,
   "id": "3f85d220",
   "metadata": {},
   "outputs": [],
   "source": [
    "# we can check the status again\n",
    "await client.status()"
   ]
  },
  {
   "cell_type": "code",
   "execution_count": null,
   "id": "794844d9",
   "metadata": {},
   "outputs": [],
   "source": [
    "print(\"Fetching gmx results\")\n",
    "try:\n",
    "    await gmx_results[5].download(filename=\"02_gmx_dry_frames.tar.gz\")\n",
    "    await gmx_results[0].download(filename=\"02_gmx_lig_gro.tar.gz\")\n",
    "\n",
    "except FileExistsError:\n",
    "    pass\n",
    "\n",
    "print(f\"{datetime.now().time()} | Downloaded GROMACS output!\")"
   ]
  },
  {
   "cell_type": "code",
   "execution_count": null,
   "id": "f42c5d8a",
   "metadata": {},
   "outputs": [],
   "source": [
    "# Extract the \"dry\" (i.e. non-solvated) pdb frames we asked for\n",
    "with tarfile.open(client.workspace / \"objects\" / \"02_gmx_dry_frames.tar.gz\", \"r\") as tf:\n",
    "    selected_frame_pdbs = [tf.extractfile(member).read() for member in tf if \"pdb\" in member.name]\n",
    "    for i, frame in enumerate(selected_frame_pdbs):\n",
    "        with open(client.workspace / \"objects\" / f\"02_gmx_output_frame_{i}.pdb\", \"w\") as pf:\n",
    "            print(frame.decode(\"utf-8\"), file=pf)"
   ]
  },
  {
   "cell_type": "code",
   "execution_count": null,
   "id": "b0607cc0",
   "metadata": {},
   "outputs": [],
   "source": [
    "# Extract the ligand.gro file\n",
    "with tarfile.open(client.workspace / \"objects\" / \"02_gmx_lig_gro.tar.gz\", \"r\") as tf:\n",
    "    gro = [tf.extractfile(member).read() for member in tf if \"temp\" in member.name][0]\n",
    "    with open(client.workspace / \"objects\" / f\"02_gmx_lig.gro\", \"w\") as pf:\n",
    "        print(gro.decode(\"utf-8\"), file=pf)"
   ]
  },
  {
   "cell_type": "code",
   "execution_count": null,
   "id": "8992a61c",
   "metadata": {},
   "outputs": [],
   "source": [
    "help(client.qp_collate)"
   ]
  },
  {
   "cell_type": "markdown",
   "id": "8f3766be",
   "metadata": {},
   "source": [
    "## 1.3) Run quantum energy calculation (modules: qp_gen_inputs, hermes_energy, qp_collate)"
   ]
  },
  {
   "cell_type": "markdown",
   "id": "09deb315",
   "metadata": {},
   "source": [
    "Tengu has \"protocols\" which are multiple functions wired together as a single function. In order to get our Quantum Pairwise (QP) energy results, we need to run 3 modules, which we provide as a protocol under `tengu.run_qp`.\n",
    "\n",
    "We run the protocol by giving it a provider, and paths to the versions of the 3 modules it requires"
   ]
  },
  {
   "cell_type": "code",
   "execution_count": null,
   "id": "b1e2a539",
   "metadata": {},
   "outputs": [],
   "source": [
    "(energy_result, qp_result) = await tengu.run_qp(\n",
    "    client,\n",
    "    modules[\"qp_gen_inputs\"],\n",
    "    modules[\"hermes_energy\"],\n",
    "    modules[\"qp_collate\"],\n",
    "    pdb=client.workspace / \"objects\" / f\"02_gmx_output_frame_0.pdb\",\n",
    "    gro=client.workspace / \"objects\" / f\"02_gmx_lig.gro\",\n",
    "    lig=prepared_ligand_sdf,\n",
    "    lig_type=\"sdf\",\n",
    "    lig_res_id=\"UNL\",  # The ligand's residue code in the PDB file; this is what our prep uses\n",
    "    use_new_fragmentation_method=True,\n",
    "    hermes_target=\"NIX_SSH_3\",\n",
    "    hermes_resources=tengu.Resources(storage=10, storage_units=\"MB\", gpus=1, walltime=60),\n",
    "    restore=True,\n",
    "    tags=[\"with_resources\", \"with_new_frag\"],\n",
    ")\n",
    "print(f\"{datetime.now().time()} | Running QP energy calculation!\")"
   ]
  },
  {
   "cell_type": "code",
   "execution_count": null,
   "id": "5eac6e54",
   "metadata": {},
   "outputs": [],
   "source": [
    "await client.status()"
   ]
  },
  {
   "cell_type": "code",
   "execution_count": null,
   "id": "8b44eead",
   "metadata": {},
   "outputs": [],
   "source": [
    "await qp_result.get()\n",
    "print(f\"{datetime.now().time()} | Got qp interaction energy!\")"
   ]
  },
  {
   "cell_type": "markdown",
   "id": "8d6a9ed8",
   "metadata": {},
   "source": [
    "## 1.4) Run MM-PBSA"
   ]
  },
  {
   "cell_type": "code",
   "execution_count": null,
   "id": "1db4631e",
   "metadata": {},
   "outputs": [],
   "source": [
    "help(client.gmx_mmpbsa)"
   ]
  },
  {
   "cell_type": "code",
   "execution_count": null,
   "id": "9b60c92e",
   "metadata": {},
   "outputs": [],
   "source": [
    "mmpbsa_config = {\n",
    "    \"start_frame\": 1,\n",
    "    \"end_frame\": 2,\n",
    "    \"num_cpus\": 1,  # cannot be greater than number of frames\n",
    "}\n",
    "(mmpbsa_result_tar,) = await client.gmx_mmpbsa(\n",
    "    gmx_results[1],\n",
    "    gmx_results[4],\n",
    "    gmx_results[6],\n",
    "    gmx_results[2],\n",
    "    mmpbsa_config,\n",
    "    resources=tengu.Resources(storage=100, storage_units=\"MB\", cpus=42, gpus=0, walltime=60, mem=1024 * 42),\n",
    "    target=\"GADI\",\n",
    ")\n",
    "print(f\"{datetime.now().time()} | Running GROMACS MM-PBSA calculation!\")"
   ]
  },
  {
   "cell_type": "code",
   "execution_count": null,
   "id": "d4823f69",
   "metadata": {},
   "outputs": [],
   "source": [
    "print(\"Fetching gmx_mmpbsa results\")\n",
    "try:\n",
    "    await mmpbsa_result_tar.download(filename=\"04_gmx_mmpbsa_run_folder.tar.gz\")\n",
    "except FileExistsError:\n",
    "    pass\n",
    "print(f\"{datetime.now().time()} | Downloaded MM-PBSA results!\")"
   ]
  }
 ],
 "metadata": {
  "kernelspec": {
   "display_name": "python3",
   "language": "python",
   "name": "python3"
  }
 },
 "nbformat": 4,
 "nbformat_minor": 5
}
