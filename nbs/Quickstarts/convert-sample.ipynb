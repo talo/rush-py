{
 "cells": [
  {
   "cell_type": "markdown",
   "id": "51c4b1fa",
   "metadata": {},
   "source": [
    "# Convert — Run a simple conversion of a PDB to the QDXF format"
   ]
  },
  {
   "cell_type": "markdown",
   "id": "5b18a80d",
   "metadata": {},
   "source": [
    "See [the tutorial](/Tutorials/convert.ipynb) for a more detailed explanation."
   ]
  },
  {
   "cell_type": "code",
   "execution_count": null,
   "id": "204007ca",
   "metadata": {},
   "outputs": [],
   "source": [
    "# |hide\n",
    "WORK_DIR = '~/qdx/convert/'\n",
    "%cd -q ~\n",
    "!rm -r $WORK_DIR || true\n",
    "!mkdir -p $WORK_DIR\n",
    "%cd -q $WORK_DIR"
   ]
  },
  {
   "cell_type": "code",
   "execution_count": null,
   "id": "c0a03d12",
   "metadata": {},
   "outputs": [
    {
     "name": "stdout",
     "output_type": "stream",
     "text": [
      "1B39_A_nohet.pdb\n"
     ]
    }
   ],
   "source": [
    "# Get a pdb to work with - we use the pdb-tools cli here but you can download directly from rcsb.org\n",
    "!pdb_fetch 1brs | pdb_selchain -A | pdb_delhetatm > 1B39_A_nohet.pdb\n",
    "!ls"
   ]
  },
  {
   "cell_type": "code",
   "execution_count": null,
   "id": "e4436b55",
   "metadata": {},
   "outputs": [
    {
     "name": "stdout",
     "output_type": "stream",
     "text": [
      "2024-03-16 10:15:03,275 - rush - INFO - Argument b11b755a-6033-4216-8831-10f876ad7ed2 is now ModuleInstanceStatus.RESOLVING\n",
      "2024-03-16 10:15:04,568 - rush - INFO - Argument b11b755a-6033-4216-8831-10f876ad7ed2 is now ModuleInstanceStatus.ADMITTED\n",
      "2024-03-16 10:15:51,977 - rush - INFO - Argument b11b755a-6033-4216-8831-10f876ad7ed2 is now ModuleInstanceStatus.QUEUED\n",
      "2024-03-16 10:15:53,103 - rush - INFO - Argument b11b755a-6033-4216-8831-10f876ad7ed2 is now ModuleInstanceStatus.AWAITING_UPLOAD\n",
      "[{\"topology\": {\"version\": null, \"symbols\": [\"N\", \"C\", \"C\", \"O\", \"C\", \" ...\n"
     ]
    }
   ],
   "source": [
    "from pathlib import Path\n",
    "import rush\n",
    "\n",
    "client = rush.build_blocking_provider_with_functions(batch_tags=[\"convert\"])\n",
    "\n",
    "# Assumes the protein files are in a pdb_file folder that is under the current working directory\n",
    "# Iterate over each protein file in your directory and run convert\n",
    "(conformer,) = client.convert(\n",
    "    \"PDB\", Path.cwd() / \"1B39_A_nohet.pdb\", target=\"NIX\"\n",
    ")\n",
    "print(conformer.download().open().read()[0:70], \"...\")"
   ]
  }
 ],
 "metadata": {
  "kernelspec": {
   "display_name": "python3",
   "language": "python",
   "name": "python3"
  }
 },
 "nbformat": 4,
 "nbformat_minor": 5
}
