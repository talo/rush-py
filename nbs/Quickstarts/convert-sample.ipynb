{
 "cells": [
  {
   "cell_type": "markdown",
   "id": "51c4b1fa",
   "metadata": {},
   "source": [
    "# Convert — Run a simple conversion of a PDB to the QDXF format"
   ]
  },
  {
   "cell_type": "markdown",
   "id": "5b18a80d",
   "metadata": {},
   "source": [
    "See [the tutorial](/Tutorials/convert.ipynb) for a more detailed explanation."
   ]
  },
  {
   "cell_type": "code",
   "execution_count": null,
   "id": "204007ca",
   "metadata": {},
   "outputs": [],
   "source": [
    "# |hide\n",
    "import os\n",
    "import pathlib\n",
    "\n",
    "WORK_DIR = pathlib.Path(\"~/qdx/convert/\").expanduser()\n",
    "if WORK_DIR.exists():\n",
    "    !rm -r $WORK_DIR\n",
    "os.makedirs(WORK_DIR)\n",
    "os.chdir(WORK_DIR)"
   ]
  },
  {
   "cell_type": "code",
   "execution_count": null,
   "id": "c0a03d12",
   "metadata": {},
   "outputs": [
    {
     "name": "stdout",
     "output_type": "stream",
     "text": [
      "1B39_A_nohet.pdb\n"
     ]
    }
   ],
   "source": [
    "# Get a pdb to work with\n",
    "# We use the pdb-tools cli here but you can download directly from rcsb.org\n",
    "!pdb_fetch '1brs' | pdb_selchain -A | pdb_delhetatm > '1B39_A_nohet.pdb'\n",
    "!ls"
   ]
  },
  {
   "cell_type": "code",
   "execution_count": null,
   "id": "e4436b55",
   "metadata": {},
   "outputs": [
    {
     "name": "stdout",
     "output_type": "stream",
     "text": [
      "2024-04-09 13:30:27,934 - rush - INFO - Not restoring by default via default\n",
      "2024-04-09 13:30:29,302 - rush - INFO - Argument c5bdc2e0-608a-49f5-acb4-52a06178e242 is now ModuleInstanceStatus.RESOLVING\n",
      "2024-04-09 13:30:30,403 - rush - INFO - Argument c5bdc2e0-608a-49f5-acb4-52a06178e242 is now ModuleInstanceStatus.ADMITTED\n",
      "2024-04-09 13:30:32,961 - rush - INFO - Argument c5bdc2e0-608a-49f5-acb4-52a06178e242 is now ModuleInstanceStatus.QUEUED\n",
      "2024-04-09 13:30:34,068 - rush - INFO - Argument c5bdc2e0-608a-49f5-acb4-52a06178e242 is now ModuleInstanceStatus.AWAITING_UPLOAD\n",
      "[{\"topology\": {\"version\": null, \"symbols\": [\"N\", \"C\", \"C\", \"O\", \"C\", \" ...\n"
     ]
    }
   ],
   "source": [
    "from pathlib import Path\n",
    "\n",
    "import rush\n",
    "\n",
    "client = rush.build_blocking_provider_with_functions(batch_tags=[\"convert\"])\n",
    "\n",
    "conformer, = client.convert(\n",
    "    \"PDB\", Path.cwd() / \"1B39_A_nohet.pdb\", target=\"NIX\"\n",
    ")\n",
    "print(conformer.download().read_text()[0:70], \"...\")"
   ]
  }
 ],
 "metadata": {
  "kernelspec": {
   "display_name": "python3",
   "language": "python",
   "name": "python3"
  }
 },
 "nbformat": 4,
 "nbformat_minor": 5
}
