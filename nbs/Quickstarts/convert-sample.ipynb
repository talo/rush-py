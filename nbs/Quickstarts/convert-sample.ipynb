{
 "cells": [
  {
   "cell_type": "markdown",
   "id": "51c4b1fa",
   "metadata": {},
   "source": [
    "# Convert — Run a simple conversion of a PDB to the QDXF format"
   ]
  },
  {
   "cell_type": "markdown",
   "id": "5b18a80d",
   "metadata": {},
   "source": [
    "See [the tutorial](/Tutorials/convert.ipynb)."
   ]
  },
  {
   "cell_type": "code",
   "execution_count": 2,
   "id": "204007ca",
   "metadata": {},
   "outputs": [
    {
     "name": "stdout",
     "output_type": "stream",
     "text": [
      "shell-init: error retrieving current directory: getcwd: cannot access parent directories: No such file or directory\n",
      "/home/dylan/qdx/convert\n"
     ]
    }
   ],
   "source": [
    "# |hide\n",
    "!rm -r ~/qdx/convert/ || true\n",
    "!mkdir -p ~/qdx/convert/\n",
    "%cd ~/qdx/convert/"
   ]
  },
  {
   "cell_type": "code",
   "execution_count": 3,
   "id": "c0a03d12",
   "metadata": {},
   "outputs": [
    {
     "name": "stdout",
     "output_type": "stream",
     "text": [
      "1B39_A_nohet.pdb\n"
     ]
    }
   ],
   "source": [
    "# Get a pdb to work with - we use the pdb-tools cli here but you can download directly from rcsb.org\n",
    "!pdb_fetch 1brs | pdb_selchain -A | pdb_delhetatm > 1B39_A_nohet.pdb\n",
    "!ls"
   ]
  },
  {
   "cell_type": "code",
   "execution_count": 4,
   "id": "27495e11",
   "metadata": {},
   "outputs": [],
   "source": [
    "# |hide\n",
    "import os\n",
    "import rush\n",
    "from pathlib import Path\n",
    "\n",
    "WORK_DIR = Path.home() / \"qdx\" / \"convert\"\n",
    "\n",
    "if WORK_DIR.exists():\n",
    "    client = rush.Provider(workspace=WORK_DIR)\n",
    "    await client.nuke(remote=False)\n",
    "\n",
    "os.makedirs(WORK_DIR, exist_ok=True)\n",
    "os.chdir(WORK_DIR)"
   ]
  },
  {
   "cell_type": "code",
   "execution_count": 5,
   "id": "e4436b55",
   "metadata": {},
   "outputs": [
    {
     "name": "stdout",
     "output_type": "stream",
     "text": [
      "2024-03-13 03:35:12,504 - rush - INFO - Argument d3e2f639-f931-4369-ada8-078bc7b7911b is now ModuleInstanceStatus.RESOLVING\n",
      "2024-03-13 03:35:13,660 - rush - INFO - Argument d3e2f639-f931-4369-ada8-078bc7b7911b is now ModuleInstanceStatus.ADMITTED\n",
      "2024-03-13 03:35:15,872 - rush - INFO - Argument d3e2f639-f931-4369-ada8-078bc7b7911b is now ModuleInstanceStatus.RUNNING\n",
      "2024-03-13 03:35:16,980 - rush - INFO - Argument d3e2f639-f931-4369-ada8-078bc7b7911b is now ModuleInstanceStatus.AWAITING_UPLOAD\n",
      "https://storage.googleapis.com/qdx-store/e9c7d712-8a3d-48ec-afbd-b02b14a879c8?x-goog-signature=02d64732a1d037e09ad896d699bdbed2cd6aca0475c64d9c1c31dc7a96cd3eba1da4d7815a5928352e6531173a90198360ddbf51383db105ea45a1e5deccf2a388632e38312fa219bd76d29c4be9bcd0a73173b5582691b708f72a8cd825f1f983d93f88a76b710ea2198fa7057342cc985bb14f78bb5168d830d6454b4cb270961cbf4f061a32293e389b43c3150e6ded7d8f5c11b572c192be23fbc3f6c480956ebe3f2da902645a5a150cafad85e3dff05d2010a9ad52eb9fef0b6e5dba07bdd1a617ade678d6dce4ce8f569d60ccefb0ed4ce5f0758ee158e629a0881e074c7bbe978c5f27a5ba98e25760edc532ed616cab61216a8c07b3b2728857e992&x-goog-algorithm=GOOG4-RSA-SHA256&x-goog-credential=qdx-store-user%40humming-bird-321603.iam.gserviceaccount.com%2F20240313%2Fasia-southeast1%2Fstorage%2Fgoog4_request&x-goog-date=20240313T033528Z&x-goog-expires=3600&x-goog-signedheaders=host\n"
     ]
    }
   ],
   "source": [
    "from pathlib import Path\n",
    "import rush\n",
    "\n",
    "client = rush.build_blocking_provider_with_functions(\n",
    "    workspace=WORK_DIR, batch_tags=[\"convert\"]\n",
    ")\n",
    "\n",
    "# Assumes the protein files are in a pdb_file folder that is under the current working directory\n",
    "# Iterate over each protein file in your directory and run convert\n",
    "(conformer,) = client.convert(\n",
    "    \"PDB\", Path.cwd() / \"1B39_A_nohet.pdb\", target=\"NIX\"\n",
    ")\n",
    "print(conformer.get_blocking())"
   ]
  }
 ],
 "metadata": {
  "kernelspec": {
   "display_name": "Python 3 (ipykernel)",
   "language": "python",
   "name": "python3"
  },
  "language_info": {
   "codemirror_mode": {
    "name": "ipython",
    "version": 3
   },
   "file_extension": ".py",
   "mimetype": "text/x-python",
   "name": "python",
   "nbconvert_exporter": "python",
   "pygments_lexer": "ipython3",
   "version": "3.11.6"
  }
 },
 "nbformat": 4,
 "nbformat_minor": 5
}
