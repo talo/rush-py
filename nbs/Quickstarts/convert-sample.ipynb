{
 "cells": [
  {
   "cell_type": "markdown",
   "id": "51c4b1fa",
   "metadata": {},
   "source": [
    "# Convert — Run a simple conversion of a PDB to the QDXF format"
   ]
  },
  {
   "cell_type": "markdown",
   "id": "5b18a80d",
   "metadata": {},
   "source": [
    "See [the tutorial](/Tutorials/convert.ipynb)."
   ]
  },
  {
   "cell_type": "code",
   "execution_count": 2,
   "id": "204007ca",
   "metadata": {},
   "outputs": [
    {
     "name": "stdout",
     "output_type": "stream",
     "text": [
      "shell-init: error retrieving current directory: getcwd: cannot access parent directories: No such file or directory\n",
      "/home/dylan/qdx/convert/pdb_files\n"
     ]
    }
   ],
   "source": [
    "# |hide\n",
    "!rm -r ~/qdx/convert/ || true\n",
    "!mkdir -p ~/qdx/convert/pdb_files\n",
    "%cd ~/qdx/convert/pdb_files"
   ]
  },
  {
   "cell_type": "code",
   "execution_count": 3,
   "id": "c0a03d12",
   "metadata": {},
   "outputs": [
    {
     "name": "stdout",
     "output_type": "stream",
     "text": [
      "1B27_nohet.pdb\t1B39_A_nohet.pdb  2ZA4_nohet.pdb\n"
     ]
    }
   ],
   "source": [
    "# Get a pdb to work with - we use the pdb-tools cli here but you can download directly from rcsb.org\n",
    "# The code snippet below assumes that you are in the directory $HOME/qdx/convert/pdb_files\n",
    "!pdb_fetch 1brs | pdb_selchain -A | pdb_delhetatm > 1B39_A_nohet.pdb\n",
    "!pdb_fetch 2za4 | pdb_delhetatm > 2ZA4_nohet.pdb\n",
    "!pdb_fetch 1b27 | pdb_selchain -A | pdb_delhetatm > 1B27_nohet.pdb\n",
    "\n",
    "!ls"
   ]
  },
  {
   "cell_type": "code",
   "execution_count": 1,
   "id": "e4436b55",
   "metadata": {},
   "outputs": [
    {
     "name": "stdout",
     "output_type": "stream",
     "text": [
      "Converting /home/dylan/qdx/convert/pdb_files/1B39_A_nohet.pdb\n",
      "2024-02-29 03:20:32,942 - rush - INFO - Trying to restore job with tags: ['convert'] and path: github:talo/tengu-prelude/f506c7ead174cdb7e8d1725139254bb85c6b62f8#convert\n",
      "2024-02-29 03:20:33,282 - rush - INFO - Argument fb754905-3814-4102-98a5-8c989a9c8e8c is now ModuleInstanceStatus.RESOLVING\n",
      "2024-02-29 03:20:34,400 - rush - INFO - Argument fb754905-3814-4102-98a5-8c989a9c8e8c is now ModuleInstanceStatus.ADMITTED\n",
      "2024-02-29 03:21:30,884 - rush - INFO - Argument fb754905-3814-4102-98a5-8c989a9c8e8c is now ModuleInstanceStatus.QUEUED\n",
      "2024-02-29 03:21:32,001 - rush - INFO - Argument fb754905-3814-4102-98a5-8c989a9c8e8c is now ModuleInstanceStatus.AWAITING_UPLOAD\n",
      "url='https://storage.googleapis.com/rush_store_default/5b78265e-e1c6-4c79-9a8b-be009e245293?x-goog-signature=5f97f5b7ea19ade287de8ec058b723d09b0bb58f5e9cd5dfe5f69806631af6a10057612c8012f11c716fbbdb4bb44e340d7925a6e1f860befe1989fd788f34569d3beb8963b3683458671fa071e540145612ff41a78ec4e02046f82547b5b8535d58080adda702b178fffbf4ff577613526a82bd4e5cb38edb7e5b5b5e44ef2fea9359428e49567c0373b96c33d1bcdfe9a06bfaedf5f0709b439546c051c6216f00794e9469e3254dc741864dbe71c7e54277d27324f7cbc84f9a9413c735d074dde7cccbf58c502c36a2b5f5457bc4ba5d412387a7e0b7c8241e9de4df8d646f58da0eb3ba925fd0c1ea3dff6e6c0bce3c6be0e591d4bb33d2e352b757d645&x-goog-algorithm=GOOG4-RSA-SHA256&x-goog-credential=qdx-store-user%40humming-bird-321603.iam.gserviceaccount.com%2F20240229%2Fasia-southeast1%2Fstorage%2Fgoog4_request&x-goog-date=20240229T032139Z&x-goog-expires=3600&x-goog-signedheaders=host'\n",
      "Converting /home/dylan/qdx/convert/pdb_files/2ZA4_nohet.pdb\n",
      "2024-02-29 03:21:39,593 - rush - INFO - Trying to restore job with tags: ['convert'] and path: github:talo/tengu-prelude/f506c7ead174cdb7e8d1725139254bb85c6b62f8#convert\n",
      "2024-02-29 03:21:39,658 - rush - INFO - Restoring job from previous run with id 5a218db5-775b-4ac4-990e-62b3b7a6abbb\n",
      "url='https://storage.googleapis.com/rush_store_default/5b78265e-e1c6-4c79-9a8b-be009e245293?x-goog-signature=4839c72392874e525f7435ebdd92e5066f6a7cc9dba09ae32305a2005694b006d073145f2d817b96c82b4c081dd14ae8d41ea650fce4354a30ce934cfb2480c37e0fdc88813139682320e92b901cfe9b481c7cda1144e913fd5a8dfd6e453d9a846d3f71e5b95313c2f624eb94279b5f077374b3654a59ee5c7f9aee053b228b23284370a5dd07fad95a3f91c4e5ecb39e018d6161336aa714ea2c2757481a9e71ddd2a56932df1f0c00e40115973c6e086b2d2b2057799a96e1feb919e4eccbe7561f1252ad3e3fa5d69eb668da97ea63fcf77f5e23ce0379dcf51b2089a8249e529fa8d463b8901ebb0513a31fb3079cc6d3a21a205d9f36049e144179add9&x-goog-algorithm=GOOG4-RSA-SHA256&x-goog-credential=qdx-store-user%40humming-bird-321603.iam.gserviceaccount.com%2F20240229%2Fasia-southeast1%2Fstorage%2Fgoog4_request&x-goog-date=20240229T032141Z&x-goog-expires=3600&x-goog-signedheaders=host'\n",
      "Converting /home/dylan/qdx/convert/pdb_files/1B27_nohet.pdb\n",
      "2024-02-29 03:21:41,334 - rush - INFO - Trying to restore job with tags: ['convert'] and path: github:talo/tengu-prelude/f506c7ead174cdb7e8d1725139254bb85c6b62f8#convert\n",
      "2024-02-29 03:21:41,392 - rush - INFO - Restoring job from previous run with id 5a218db5-775b-4ac4-990e-62b3b7a6abbb\n",
      "url='https://storage.googleapis.com/rush_store_default/5b78265e-e1c6-4c79-9a8b-be009e245293?x-goog-signature=148d2b76b0a5d3cb5870ada4fd3f71278bfab5db368cd77e4f8377721c44368e31fe120948c915d4e8085d079f3dd1e1842e92a360a5281e9a0ba34fc70c83c0646e680d836cc4099262e0a032e8b5af0b9c705b4b2f7bfddd19cfd901d0f37defcab9f3a09491cc98d326cb7b494f1ef8f9fc53f83cc27790ae8417868bb8a912d4b64fb0cbc6f2ebd97d87e7e5c6754328b1a4b9ec62e69b5847975b6c23a5b4aaa451f4052e93ae36046435265899cd396fd7a18a56d477ef4f19c3697aca2b3778f4239cde522029010b6935dbe206738dd15edb1fe86c1e1063bc618e6b4ee87a89e797640117acbe147f116fb2897c08a7ef12e11895dba8d0013d28a3&x-goog-algorithm=GOOG4-RSA-SHA256&x-goog-credential=qdx-store-user%40humming-bird-321603.iam.gserviceaccount.com%2F20240229%2Fasia-southeast1%2Fstorage%2Fgoog4_request&x-goog-date=20240229T032142Z&x-goog-expires=3600&x-goog-signedheaders=host'\n"
     ]
    }
   ],
   "source": [
    "from glob import glob\n",
    "from pathlib import Path\n",
    "import rush\n",
    "\n",
    "WORK_DIR = Path.home() / \"qdx\" / \"convert\"\n",
    "# |hide_line\n",
    "if WORK_DIR.exists():\n",
    "# |hide_line\n",
    "    client = rush.Provider(workspace=WORK_DIR)\n",
    "# |hide_line\n",
    "    await client.nuke(remote=False)\n",
    "\n",
    "# We have written the protein files to this directory\n",
    "PROTEIN_PDB_FOLDER_PATH = WORK_DIR / \"pdb_files\"\n",
    "TAGS = ['convert']\n",
    "\n",
    "client = await rush.build_provider_with_functions(workspace=WORK_DIR, batch_tags=TAGS)\n",
    "# |hide_line\n",
    "client = await rush.build_provider_with_functions(workspace=WORK_DIR, batch_tags=TAGS, restore_by_default=True)\n",
    "\n",
    "# Iterate over each protein file in your directory\n",
    "for pdb in glob(str(PROTEIN_PDB_FOLDER_PATH / \"*.pdb\")):\n",
    "    print(f\"Converting {pdb}\")\n",
    "    (conformer,) = await client.convert(\"PDB\", Path(pdb), target=\"NIX\")\n",
    "    print(await conformer.get())"
   ]
  }
 ],
 "metadata": {
  "kernelspec": {
   "display_name": "Python 3 (ipykernel)",
   "language": "python",
   "name": "python3"
  },
  "language_info": {
   "codemirror_mode": {
    "name": "ipython",
    "version": 3
   },
   "file_extension": ".py",
   "mimetype": "text/x-python",
   "name": "python",
   "nbconvert_exporter": "python",
   "pygments_lexer": "ipython3",
   "version": "3.11.6"
  }
 },
 "nbformat": 4,
 "nbformat_minor": 5
}
