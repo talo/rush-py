{
 "cells": [
  {
   "cell_type": "markdown",
   "id": "a74c1b35",
   "metadata": {},
   "source": [
    "# Convert — Run a simple conversion of a PDB to the QDXF format"
   ]
  },
  {
   "cell_type": "markdown",
   "id": "c1e7dd14",
   "metadata": {},
   "source": [
    "See [the tutorial](/Tutorials/convert.ipynb) for a more detailed explanation."
   ]
  },
  {
   "cell_type": "code",
   "execution_count": null,
   "id": "4625cf46",
   "metadata": {},
   "outputs": [],
   "source": [
    "# |hide\n",
    "import os\n",
    "import pathlib\n",
    "\n",
    "WORK_DIR = pathlib.Path(\"~/qdx/convert/\").expanduser()\n",
    "if WORK_DIR.exists():\n",
    "    !rm -r $WORK_DIR\n",
    "os.makedirs(WORK_DIR)\n",
    "os.chdir(WORK_DIR)"
   ]
  },
  {
   "cell_type": "code",
   "execution_count": null,
   "id": "9b54e6da",
   "metadata": {},
   "outputs": [
    {
     "name": "stdout",
     "output_type": "stream",
     "text": [
      "1B39_A_nohet.pdb\n"
     ]
    }
   ],
   "source": [
    "# Get a pdb to work with\n",
    "# We use the pdb-tools cli here but you can download directly from rcsb.org\n",
    "!pdb_fetch '1brs' | pdb_selchain -A | pdb_delhetatm > '1B39_A_nohet.pdb'\n",
    "!ls"
   ]
  },
  {
   "cell_type": "code",
   "execution_count": null,
   "id": "2065c0cf",
   "metadata": {},
   "outputs": [
    {
     "name": "stdout",
     "output_type": "stream",
     "text": [
      "2024-04-23 13:25:53,424 - rush - INFO - Argument 990429dc-90c8-486d-8e21-708dc17fab82 is now ModuleInstanceStatus.RESOLVING\n",
      "2024-04-23 13:25:54,601 - rush - INFO - Argument 990429dc-90c8-486d-8e21-708dc17fab82 is now ModuleInstanceStatus.ADMITTED\n",
      "2024-04-23 13:25:59,464 - rush - INFO - Argument 990429dc-90c8-486d-8e21-708dc17fab82 is now ModuleInstanceStatus.RUNNING\n",
      "2024-04-23 13:26:00,693 - rush - INFO - Argument 990429dc-90c8-486d-8e21-708dc17fab82 is now ModuleInstanceStatus.AWAITING_UPLOAD\n",
      "[{\"topology\": {\"symbols\": [\"N\", \"C\", \"C\", \"O\", \"C\", \"C\", \"C\", \"N\", \"C\" ...\n"
     ]
    }
   ],
   "source": [
    "from pathlib import Path\n",
    "\n",
    "import rush\n",
    "\n",
    "client = rush.build_blocking_provider_with_functions(batch_tags=[\"convert\"])\n",
    "\n",
    "(conformer,) = client.convert(\n",
    "    \"PDB\", Path.cwd() / \"1B39_A_nohet.pdb\", target=\"TINY\"\n",
    ")\n",
    "print(conformer.download().read_text()[0:70], \"...\")"
   ]
  }
 ],
 "metadata": {
  "kernelspec": {
   "display_name": "python3",
   "language": "python",
   "name": "python3"
  }
 },
 "nbformat": 4,
 "nbformat_minor": 5
}
