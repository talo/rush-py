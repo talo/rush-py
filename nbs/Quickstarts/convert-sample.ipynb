{
 "cells": [
  {
   "cell_type": "markdown",
   "id": "51c4b1fa",
   "metadata": {},
   "source": [
    "# Convert — Run a simple conversion of a PDB to the QDXF format"
   ]
  },
  {
   "cell_type": "markdown",
   "id": "5b18a80d",
   "metadata": {},
   "source": [
    "See [the tutorial](/Tutorials/convert.ipynb)."
   ]
  },
  {
   "cell_type": "code",
   "execution_count": null,
   "id": "204007ca",
   "metadata": {},
   "outputs": [],
   "source": [
    "# |hide\n",
    "!rm -r ~/qdx/convert/ || true\n",
    "!mkdir -p ~/qdx/convert/\n",
    "%cd ~/qdx/convert/"
   ]
  },
  {
   "cell_type": "code",
   "execution_count": null,
   "id": "c0a03d12",
   "metadata": {},
   "outputs": [],
   "source": [
    "# Get a pdb to work with - we use the pdb-tools cli here but you can download directly from rcsb.org\n",
    "!pdb_fetch 1brs | pdb_selchain -A | pdb_delhetatm > 1B39_A_nohet.pdb\n",
    "!ls"
   ]
  },
  {
   "cell_type": "code",
   "execution_count": null,
   "id": "27495e11",
   "metadata": {},
   "outputs": [],
   "source": [
    "# |hide\n",
    "import os\n",
    "from pathlib import Path\n",
    "\n",
    "WORK_DIR = Path.home() / \"qdx\" / \"convert\"\n",
    "\n",
    "if WORK_DIR.exists():\n",
    "    client = rush.Provider(workspace=WORK_DIR)\n",
    "    await client.nuke(remote=False)\n",
    "\n",
    "os.makedirs(WORK_DIR, exist_ok=True)\n",
    "os.chdir(WORK_DIR)"
   ]
  },
  {
   "cell_type": "code",
   "execution_count": null,
   "id": "e4436b55",
   "metadata": {},
   "outputs": [],
   "source": [
    "from pathlib import Path\n",
    "import rush\n",
    "\n",
    "client = await rush.build_provider_with_functions(\n",
    "    workspace=WORK_DIR, batch_tags=[\"convert\"]\n",
    ")\n",
    "# |hide_line\n",
    "client = await rush.build_provider_with_functions(\n",
    "    workspace=WORK_DIR, batch_tags=[\"convert\"], restore_by_default=True\n",
    ")\n",
    "\n",
    "# Assumes the protein files are in a pdb_file folder that is under the current working directory\n",
    "# Iterate over each protein file in your directory and run convert\n",
    "(conformer,) = await client.convert(\n",
    "    \"PDB\", Path.cwd() / \"1B39_A_nohet\", target=\"NIX\"\n",
    ")\n",
    "print(await conformer.get())"
   ]
  }
 ],
 "metadata": {
  "kernelspec": {
   "display_name": "Python 3 (ipykernel)",
   "language": "python",
   "name": "python3"
  }
 },
 "nbformat": 4,
 "nbformat_minor": 5
}
