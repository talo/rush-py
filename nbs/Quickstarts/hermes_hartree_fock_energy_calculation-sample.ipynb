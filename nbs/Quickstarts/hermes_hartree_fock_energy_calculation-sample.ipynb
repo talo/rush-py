{
 "cells": [
  {
   "cell_type": "markdown",
   "id": "cd8a75d1",
   "metadata": {},
   "source": [
    "# Hermes — Run a basic Hartree-Fock energy calculation"
   ]
  },
  {
   "cell_type": "markdown",
   "id": "170e1e83",
   "metadata": {},
   "source": [
    "See [the tutorial](/Tutorials/hermes_hartree_fock_energy_calculation.ipynb)."
   ]
  },
  {
   "cell_type": "code",
   "execution_count": null,
   "id": "b50ee234",
   "metadata": {},
   "outputs": [],
   "source": [
    "# |hide\n",
    "!rm -r ~/qdx/convert/ || true\n",
    "!mkdir -p ~/qdx/convert/\n",
    "%cd ~/qdx/hermes_hartree_fock_quickstart/"
   ]
  },
  {
   "cell_type": "code",
   "execution_count": null,
   "id": "ff8aab19",
   "metadata": {},
   "outputs": [],
   "source": [
    "# Get a pdb to work with - we use the pdb-tools cli here but you can download directly from rcsb.org\n",
    "!pdb_fetch 1brs | pdb_selchain -A | pdb_delhetatm > 1B39_A_nohet.pdb\n",
    "!ls"
   ]
  },
  {
   "cell_type": "code",
   "execution_count": null,
   "id": "ce8aa67c",
   "metadata": {},
   "outputs": [],
   "source": [
    "# |hide\n",
    "import json\n",
    "import os\n",
    "import rush\n",
    "from pathlib import Path\n",
    "\n",
    "WORK_DIR = Path.home() / \"qdx\" / \"hermes_hartree_fock_quickstart\"\n",
    "\n",
    "if WORK_DIR.exists():\n",
    "    client = rush.Provider(workspace=WORK_DIR)\n",
    "    await client.nuke(remote=False)\n",
    "\n",
    "os.makedirs(WORK_DIR, exist_ok=True)\n",
    "os.chdir(WORK_DIR)"
   ]
  },
  {
   "cell_type": "code",
   "execution_count": null,
   "id": "38f360d3",
   "metadata": {},
   "outputs": [],
   "source": [
    "import rush\n",
    "\n",
    "# Get our client, for calling modules and using the rush API\n",
    "# - edit in your access token and API URL or set the RUSH_TOKEN and RUSH_URL environment variables\n",
    "client = await rush.build_provider_with_functions(\n",
    "    batch_tags=[\"hermes\"],\n",
    ")\n",
    "\n",
    "# |hide_line\n",
    "client = await rush.build_provider_with_functions(\n",
    "    batch_tags=[\"hermes\"], restore_by_default=True\n",
    ")\n",
    "\n",
    "(prepared_protein_qdxf, prepared_protein_pdb) = await client.prepare_protein(\n",
    "    \"1B39_A_nohet.pdb\"\n",
    ")\n",
    "\n",
    "# There may be multiple conformers, so select the first one\n",
    "(first_conformer,) = await client.pick_conformer(prepared_protein_qdxf, 0)\n",
    "\n",
    "# Fragment the protein so that we can run a quantum energy calculation\n",
    "(fragmented_protein,) = await client.fragment_aa(first_conformer, 1, \"All\")\n",
    "\n",
    "# Arguments\n",
    "HERMES_RESOURCES = {\n",
    "    \"gpus\": 1,\n",
    "    \"storage\": 100,\n",
    "    \"storage_units\": \"MB\",\n",
    "    \"walltime\": 60,\n",
    "}\n",
    "\n",
    "fragmented_protein_out = await fragmented_protein.get()\n",
    "fragmented_protein_contents = json.load(\n",
    "    open(await fragmented_protein.download(), \"r\")\n",
    ")\n",
    "\n",
    "# Quantum energy calculation\n",
    "(hermes_energy,) = await client.hermes_energy(\n",
    "    fragmented_protein,\n",
    "    {},\n",
    "    {\n",
    "        \"basis\": \"STO-3G\",\n",
    "        \"aux_basis\": \"6-31G\",\n",
    "        \"method\": \"RestrictedRIMP2\",\n",
    "    },  # configuration for a fast converging, low accuracy run\n",
    "    {\n",
    "        \"scf\": {\n",
    "            \"max_iter\": 50,\n",
    "            \"max_diis_history_length\": 12,\n",
    "            \"convergence_metric\": \"DIIS\",\n",
    "            \"dynamic_screening_threshold_exp\": 10,\n",
    "            \"ndiis\": 8,\n",
    "            \"niter\": 40,\n",
    "            \"scf_conv\": 0.000001,\n",
    "        },\n",
    "        \"frag\": {\n",
    "            \"cutoffs\": {\"dimer\": 22},\n",
    "            \"cutoff_type\": \"Centroid\",\n",
    "            \"level\": \"Dimer\",\n",
    "            \"reference_fragment\": len(\n",
    "                fragmented_protein_contents[\"topology\"][\"fragments\"]\n",
    "            )\n",
    "            - 1,\n",
    "        },\n",
    "    },\n",
    "    resources=HERMES_RESOURCES,\n",
    ")\n",
    "\n",
    "energy = json.load(open(await hermes_energy.download(), \"r\"))\n",
    "# Let's look at the expanded Hartree Fock energy\n",
    "energy[\"expanded_hf_energy\"]"
   ]
  }
 ],
 "metadata": {
  "kernelspec": {
   "display_name": "Python 3 (ipykernel)",
   "language": "python",
   "name": "python3"
  }
 },
 "nbformat": 4,
 "nbformat_minor": 5
}