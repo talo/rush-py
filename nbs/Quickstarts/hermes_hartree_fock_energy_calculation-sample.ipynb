{
 "cells": [
  {
   "cell_type": "markdown",
   "id": "cd8a75d1",
   "metadata": {},
   "source": [
    "# Hermes — Run a basic Hartree-Fock energy calculation"
   ]
  },
  {
   "cell_type": "markdown",
   "id": "170e1e83",
   "metadata": {},
   "source": [
    "See [the tutorial](/Tutorials/hermes_hartree_fock_energy_calculation.ipynb) for an in-depth explanation of how the Hermes Hartree-Fock energy calculation works."
   ]
  },
  {
   "cell_type": "code",
   "execution_count": 11,
   "id": "b50ee234",
   "metadata": {},
   "outputs": [
    {
     "name": "stdout",
     "output_type": "stream",
     "text": [
      "shell-init: error retrieving current directory: getcwd: cannot access parent directories: No such file or directory\n",
      "/home/dylan/qdx/hermes_hartree_fock_quickstart\n"
     ]
    }
   ],
   "source": [
    "# |hide\n",
    "!rm -r ~/qdx/hermes_hartree_fock_quickstart/\n",
    "!mkdir -p  ~/qdx/hermes_hartree_fock_quickstart/\n",
    "%cd ~/qdx/hermes_hartree_fock_quickstart/"
   ]
  },
  {
   "cell_type": "code",
   "execution_count": 12,
   "id": "ff8aab19",
   "metadata": {},
   "outputs": [
    {
     "name": "stdout",
     "output_type": "stream",
     "text": [
      "1B39_A_nohet.pdb\n"
     ]
    }
   ],
   "source": [
    "# Get a pdb to work with - we use the pdb-tools cli here but you can download directly from rcsb.org\n",
    "!pdb_fetch 1brs | pdb_selchain -A | pdb_delhetatm > 1B39_A_nohet.pdb\n",
    "!ls"
   ]
  },
  {
   "cell_type": "code",
   "execution_count": 14,
   "id": "38f360d3",
   "metadata": {},
   "outputs": [
    {
     "ename": "FileNotFoundError",
     "evalue": "[Errno 2] No such file or directory: '/home/dylan/qdx/hermes_hatree_fock_quickstart/1B39_A_nohet.pdb'",
     "output_type": "error",
     "traceback": [
      "\u001b[0;31m---------------------------------------------------------------------------\u001b[0m",
      "\u001b[0;31mFileNotFoundError\u001b[0m                         Traceback (most recent call last)",
      "Cell \u001b[0;32mIn[14], line 11\u001b[0m\n\u001b[1;32m      5\u001b[0m \u001b[38;5;66;03m# Get our client, for calling modules and using the rush API\u001b[39;00m\n\u001b[1;32m      6\u001b[0m \u001b[38;5;66;03m# - edit in your access token and API URL or set the RUSH_TOKEN and RUSH_URL environment variables\u001b[39;00m\n\u001b[1;32m      7\u001b[0m client \u001b[38;5;241m=\u001b[39m rush\u001b[38;5;241m.\u001b[39mbuild_blocking_provider_with_functions(\n\u001b[1;32m      8\u001b[0m     batch_tags\u001b[38;5;241m=\u001b[39m[\u001b[38;5;124m\"\u001b[39m\u001b[38;5;124mhermes\u001b[39m\u001b[38;5;124m\"\u001b[39m],\n\u001b[1;32m      9\u001b[0m )\n\u001b[0;32m---> 11\u001b[0m (prepared_protein_qdxf, prepared_protein_pdb) \u001b[38;5;241m=\u001b[39m \u001b[43mclient\u001b[49m\u001b[38;5;241;43m.\u001b[39;49m\u001b[43mprepare_protein\u001b[49m\u001b[43m(\u001b[49m\n\u001b[1;32m     12\u001b[0m \u001b[43m    \u001b[49m\u001b[43mPath\u001b[49m\u001b[43m(\u001b[49m\u001b[43mPath\u001b[49m\u001b[38;5;241;43m.\u001b[39;49m\u001b[43mhome\u001b[49m\u001b[43m(\u001b[49m\u001b[43m)\u001b[49m\u001b[43m \u001b[49m\u001b[38;5;241;43m/\u001b[39;49m\u001b[43m \u001b[49m\u001b[38;5;124;43m'\u001b[39;49m\u001b[38;5;124;43mqdx\u001b[39;49m\u001b[38;5;124;43m'\u001b[39;49m\u001b[43m \u001b[49m\u001b[38;5;241;43m/\u001b[39;49m\u001b[43m \u001b[49m\u001b[38;5;124;43m'\u001b[39;49m\u001b[38;5;124;43mhermes_hatree_fock_quickstart\u001b[39;49m\u001b[38;5;124;43m'\u001b[39;49m\u001b[43m \u001b[49m\u001b[38;5;241;43m/\u001b[39;49m\u001b[43m  \u001b[49m\u001b[38;5;124;43m\"\u001b[39;49m\u001b[38;5;124;43m1B39_A_nohet.pdb\u001b[39;49m\u001b[38;5;124;43m\"\u001b[39;49m\u001b[43m)\u001b[49m\n\u001b[1;32m     13\u001b[0m \u001b[43m)\u001b[49m\n\u001b[1;32m     15\u001b[0m \u001b[38;5;66;03m# There may be multiple conformers, so select the first one\u001b[39;00m\n\u001b[1;32m     16\u001b[0m (first_conformer,) \u001b[38;5;241m=\u001b[39m client\u001b[38;5;241m.\u001b[39mpick_conformer(prepared_protein_qdxf, \u001b[38;5;241m0\u001b[39m)\n",
      "File \u001b[0;32m~/repos/rush-py/rush/provider.py:1543\u001b[0m, in \u001b[0;36mbuild_blocking_provider_with_functions.<locals>.closure.<locals>.blocking_func\u001b[0;34m(*args, **kwargs)\u001b[0m\n\u001b[1;32m   1542\u001b[0m \u001b[38;5;28;01mdef\u001b[39;00m \u001b[38;5;21mblocking_func\u001b[39m(\u001b[38;5;241m*\u001b[39margs, \u001b[38;5;241m*\u001b[39m\u001b[38;5;241m*\u001b[39mkwargs):\n\u001b[0;32m-> 1543\u001b[0m     \u001b[38;5;28;01mreturn\u001b[39;00m \u001b[43masyncio_run\u001b[49m\u001b[43m(\u001b[49m\u001b[43mfunc\u001b[49m\u001b[43m(\u001b[49m\u001b[38;5;241;43m*\u001b[39;49m\u001b[43margs\u001b[49m\u001b[43m,\u001b[49m\u001b[43m \u001b[49m\u001b[38;5;241;43m*\u001b[39;49m\u001b[38;5;241;43m*\u001b[39;49m\u001b[43mkwargs\u001b[49m\u001b[43m)\u001b[49m\u001b[43m)\u001b[49m\n",
      "File \u001b[0;32m~/repos/rush-py/rush/provider.py:1595\u001b[0m, in \u001b[0;36masyncio_run\u001b[0;34m(coro)\u001b[0m\n\u001b[1;32m   1586\u001b[0m \u001b[38;5;28;01mdef\u001b[39;00m \u001b[38;5;21masyncio_run\u001b[39m(coro: Awaitable[T]) \u001b[38;5;241m-\u001b[39m\u001b[38;5;241m>\u001b[39m T:\n\u001b[1;32m   1587\u001b[0m \u001b[38;5;250m    \u001b[39m\u001b[38;5;124;03m\"\"\"\u001b[39;00m\n\u001b[1;32m   1588\u001b[0m \u001b[38;5;124;03m    Runs the coroutine in an event loop running on a background thread,\u001b[39;00m\n\u001b[1;32m   1589\u001b[0m \u001b[38;5;124;03m    and blocks the current thread until it returns a result.\u001b[39;00m\n\u001b[0;32m   (...)\u001b[0m\n\u001b[1;32m   1593\u001b[0m \u001b[38;5;124;03m    :param timeout: How many seconds we should wait for a result before raising an error\u001b[39;00m\n\u001b[1;32m   1594\u001b[0m \u001b[38;5;124;03m    \"\"\"\u001b[39;00m\n\u001b[0;32m-> 1595\u001b[0m     \u001b[38;5;28;01mreturn\u001b[39;00m \u001b[43masyncio\u001b[49m\u001b[38;5;241;43m.\u001b[39;49m\u001b[43mrun_coroutine_threadsafe\u001b[49m\u001b[43m(\u001b[49m\u001b[43mcoro\u001b[49m\u001b[43m,\u001b[49m\u001b[43m \u001b[49m\u001b[43m_LOOP\u001b[49m\u001b[43m)\u001b[49m\u001b[38;5;241;43m.\u001b[39;49m\u001b[43mresult\u001b[49m\u001b[43m(\u001b[49m\u001b[43m)\u001b[49m\n",
      "File \u001b[0;32m/nix/store/8k4p193rnzy3rqjkv19abz3b738l25z9-python3-3.11.6/lib/python3.11/concurrent/futures/_base.py:456\u001b[0m, in \u001b[0;36mFuture.result\u001b[0;34m(self, timeout)\u001b[0m\n\u001b[1;32m    454\u001b[0m     \u001b[38;5;28;01mraise\u001b[39;00m CancelledError()\n\u001b[1;32m    455\u001b[0m \u001b[38;5;28;01melif\u001b[39;00m \u001b[38;5;28mself\u001b[39m\u001b[38;5;241m.\u001b[39m_state \u001b[38;5;241m==\u001b[39m FINISHED:\n\u001b[0;32m--> 456\u001b[0m     \u001b[38;5;28;01mreturn\u001b[39;00m \u001b[38;5;28;43mself\u001b[39;49m\u001b[38;5;241;43m.\u001b[39;49m\u001b[43m__get_result\u001b[49m\u001b[43m(\u001b[49m\u001b[43m)\u001b[49m\n\u001b[1;32m    457\u001b[0m \u001b[38;5;28;01melse\u001b[39;00m:\n\u001b[1;32m    458\u001b[0m     \u001b[38;5;28;01mraise\u001b[39;00m \u001b[38;5;167;01mTimeoutError\u001b[39;00m()\n",
      "File \u001b[0;32m/nix/store/8k4p193rnzy3rqjkv19abz3b738l25z9-python3-3.11.6/lib/python3.11/concurrent/futures/_base.py:401\u001b[0m, in \u001b[0;36mFuture.__get_result\u001b[0;34m(self)\u001b[0m\n\u001b[1;32m    399\u001b[0m \u001b[38;5;28;01mif\u001b[39;00m \u001b[38;5;28mself\u001b[39m\u001b[38;5;241m.\u001b[39m_exception:\n\u001b[1;32m    400\u001b[0m     \u001b[38;5;28;01mtry\u001b[39;00m:\n\u001b[0;32m--> 401\u001b[0m         \u001b[38;5;28;01mraise\u001b[39;00m \u001b[38;5;28mself\u001b[39m\u001b[38;5;241m.\u001b[39m_exception\n\u001b[1;32m    402\u001b[0m     \u001b[38;5;28;01mfinally\u001b[39;00m:\n\u001b[1;32m    403\u001b[0m         \u001b[38;5;66;03m# Break a reference cycle with the exception in self._exception\u001b[39;00m\n\u001b[1;32m    404\u001b[0m         \u001b[38;5;28mself\u001b[39m \u001b[38;5;241m=\u001b[39m \u001b[38;5;28;01mNone\u001b[39;00m\n",
      "File \u001b[0;32m~/repos/rush-py/rush/provider.py:1182\u001b[0m, in \u001b[0;36mBaseProvider.get_module_functions.<locals>.closure.<locals>.runner\u001b[0;34m(target, resources, tags, restore, *args)\u001b[0m\n\u001b[1;32m   1180\u001b[0m     target \u001b[38;5;241m=\u001b[39m random_target()\n\u001b[1;32m   1181\u001b[0m typechecker(\u001b[38;5;241m*\u001b[39margs)\n\u001b[0;32m-> 1182\u001b[0m run \u001b[38;5;241m=\u001b[39m \u001b[38;5;28;01mawait\u001b[39;00m \u001b[38;5;28mself\u001b[39m\u001b[38;5;241m.\u001b[39mrun(\n\u001b[1;32m   1183\u001b[0m     path, \u001b[38;5;28mlist\u001b[39m(args), target, resources, tags, out_tags\u001b[38;5;241m=\u001b[39m\u001b[38;5;28;01mNone\u001b[39;00m, restore\u001b[38;5;241m=\u001b[39mrestore\n\u001b[1;32m   1184\u001b[0m )\n\u001b[1;32m   1185\u001b[0m \u001b[38;5;28;01mreturn\u001b[39;00m \u001b[38;5;28mtuple\u001b[39m(Provider\u001b[38;5;241m.\u001b[39mArg(\u001b[38;5;28mself\u001b[39m, out\u001b[38;5;241m.\u001b[39mid, source\u001b[38;5;241m=\u001b[39mrun\u001b[38;5;241m.\u001b[39mid) \u001b[38;5;28;01mfor\u001b[39;00m out \u001b[38;5;129;01min\u001b[39;00m run\u001b[38;5;241m.\u001b[39mouts)\n",
      "File \u001b[0;32m~/repos/rush-py/rush/provider.py:873\u001b[0m, in \u001b[0;36mBaseProvider.run\u001b[0;34m(self, path, args, target, resources, tags, out_tags, restore)\u001b[0m\n\u001b[1;32m    870\u001b[0m         arg \u001b[38;5;241m=\u001b[39m ArgumentInput(value\u001b[38;5;241m=\u001b[39m\u001b[38;5;28minput\u001b[39m)\n\u001b[1;32m    871\u001b[0m     \u001b[38;5;28;01mreturn\u001b[39;00m arg\n\u001b[0;32m--> 873\u001b[0m arg_dicts \u001b[38;5;241m=\u001b[39m \u001b[43m[\u001b[49m\u001b[43mgen_arg_dict\u001b[49m\u001b[43m(\u001b[49m\u001b[38;5;28;43minput\u001b[39;49m\u001b[43m)\u001b[49m\u001b[43m \u001b[49m\u001b[38;5;28;43;01mfor\u001b[39;49;00m\u001b[43m \u001b[49m\u001b[38;5;28;43minput\u001b[39;49m\u001b[43m \u001b[49m\u001b[38;5;129;43;01min\u001b[39;49;00m\u001b[43m \u001b[49m\u001b[43margs\u001b[49m\u001b[43m]\u001b[49m\n\u001b[1;32m    875\u001b[0m \u001b[38;5;28;01mif\u001b[39;00m \u001b[38;5;129;01mnot\u001b[39;00m resources:\n\u001b[1;32m    876\u001b[0m     resources \u001b[38;5;241m=\u001b[39m ModuleInstanceResourcesInput(\n\u001b[1;32m    877\u001b[0m         storage\u001b[38;5;241m=\u001b[39m\u001b[38;5;28mmax\u001b[39m(\n\u001b[1;32m    878\u001b[0m             \u001b[38;5;28mint\u001b[39m(math\u001b[38;5;241m.\u001b[39mceil(storage_requirements[\u001b[38;5;124m\"\u001b[39m\u001b[38;5;124mstorage\u001b[39m\u001b[38;5;124m\"\u001b[39m] \u001b[38;5;241m/\u001b[39m \u001b[38;5;241m1024\u001b[39m \u001b[38;5;241m/\u001b[39m \u001b[38;5;241m1024\u001b[39m)),\n\u001b[0;32m   (...)\u001b[0m\n\u001b[1;32m    881\u001b[0m         storage_units\u001b[38;5;241m=\u001b[39mMemUnits\u001b[38;5;241m.\u001b[39mMB,\n\u001b[1;32m    882\u001b[0m     )\n",
      "File \u001b[0;32m~/repos/rush-py/rush/provider.py:873\u001b[0m, in \u001b[0;36m<listcomp>\u001b[0;34m(.0)\u001b[0m\n\u001b[1;32m    870\u001b[0m         arg \u001b[38;5;241m=\u001b[39m ArgumentInput(value\u001b[38;5;241m=\u001b[39m\u001b[38;5;28minput\u001b[39m)\n\u001b[1;32m    871\u001b[0m     \u001b[38;5;28;01mreturn\u001b[39;00m arg\n\u001b[0;32m--> 873\u001b[0m arg_dicts \u001b[38;5;241m=\u001b[39m [\u001b[43mgen_arg_dict\u001b[49m\u001b[43m(\u001b[49m\u001b[38;5;28;43minput\u001b[39;49m\u001b[43m)\u001b[49m \u001b[38;5;28;01mfor\u001b[39;00m \u001b[38;5;28minput\u001b[39m \u001b[38;5;129;01min\u001b[39;00m args]\n\u001b[1;32m    875\u001b[0m \u001b[38;5;28;01mif\u001b[39;00m \u001b[38;5;129;01mnot\u001b[39;00m resources:\n\u001b[1;32m    876\u001b[0m     resources \u001b[38;5;241m=\u001b[39m ModuleInstanceResourcesInput(\n\u001b[1;32m    877\u001b[0m         storage\u001b[38;5;241m=\u001b[39m\u001b[38;5;28mmax\u001b[39m(\n\u001b[1;32m    878\u001b[0m             \u001b[38;5;28mint\u001b[39m(math\u001b[38;5;241m.\u001b[39mceil(storage_requirements[\u001b[38;5;124m\"\u001b[39m\u001b[38;5;124mstorage\u001b[39m\u001b[38;5;124m\"\u001b[39m] \u001b[38;5;241m/\u001b[39m \u001b[38;5;241m1024\u001b[39m \u001b[38;5;241m/\u001b[39m \u001b[38;5;241m1024\u001b[39m)),\n\u001b[0;32m   (...)\u001b[0m\n\u001b[1;32m    881\u001b[0m         storage_units\u001b[38;5;241m=\u001b[39mMemUnits\u001b[38;5;241m.\u001b[39mMB,\n\u001b[1;32m    882\u001b[0m     )\n",
      "File \u001b[0;32m~/repos/rush-py/rush/provider.py:857\u001b[0m, in \u001b[0;36mBaseProvider.run.<locals>.gen_arg_dict\u001b[0;34m(input)\u001b[0m\n\u001b[1;32m    855\u001b[0m     arg\u001b[38;5;241m.\u001b[39mid \u001b[38;5;241m=\u001b[39m \u001b[38;5;28minput\u001b[39m\n\u001b[1;32m    856\u001b[0m \u001b[38;5;28;01melif\u001b[39;00m \u001b[38;5;28misinstance\u001b[39m(\u001b[38;5;28minput\u001b[39m, Path):\n\u001b[0;32m--> 857\u001b[0m     storage_requirements[\u001b[38;5;124m\"\u001b[39m\u001b[38;5;124mstorage\u001b[39m\u001b[38;5;124m\"\u001b[39m] \u001b[38;5;241m+\u001b[39m\u001b[38;5;241m=\u001b[39m \u001b[38;5;28;43minput\u001b[39;49m\u001b[38;5;241;43m.\u001b[39;49m\u001b[43mstat\u001b[49m\u001b[43m(\u001b[49m\u001b[43m)\u001b[49m\u001b[38;5;241m.\u001b[39mst_size\n\u001b[1;32m    858\u001b[0m     \u001b[38;5;28;01mif\u001b[39;00m \u001b[38;5;28minput\u001b[39m\u001b[38;5;241m.\u001b[39mname\u001b[38;5;241m.\u001b[39mendswith(\u001b[38;5;124m\"\u001b[39m\u001b[38;5;124m.json\u001b[39m\u001b[38;5;124m\"\u001b[39m):\n\u001b[1;32m    859\u001b[0m         \u001b[38;5;28;01mwith\u001b[39;00m \u001b[38;5;28mopen\u001b[39m(\u001b[38;5;28minput\u001b[39m, \u001b[38;5;124m\"\u001b[39m\u001b[38;5;124mr\u001b[39m\u001b[38;5;124m\"\u001b[39m) \u001b[38;5;28;01mas\u001b[39;00m f:\n",
      "File \u001b[0;32m/nix/store/8k4p193rnzy3rqjkv19abz3b738l25z9-python3-3.11.6/lib/python3.11/pathlib.py:1013\u001b[0m, in \u001b[0;36mPath.stat\u001b[0;34m(self, follow_symlinks)\u001b[0m\n\u001b[1;32m   1008\u001b[0m \u001b[38;5;28;01mdef\u001b[39;00m \u001b[38;5;21mstat\u001b[39m(\u001b[38;5;28mself\u001b[39m, \u001b[38;5;241m*\u001b[39m, follow_symlinks\u001b[38;5;241m=\u001b[39m\u001b[38;5;28;01mTrue\u001b[39;00m):\n\u001b[1;32m   1009\u001b[0m \u001b[38;5;250m    \u001b[39m\u001b[38;5;124;03m\"\"\"\u001b[39;00m\n\u001b[1;32m   1010\u001b[0m \u001b[38;5;124;03m    Return the result of the stat() system call on this path, like\u001b[39;00m\n\u001b[1;32m   1011\u001b[0m \u001b[38;5;124;03m    os.stat() does.\u001b[39;00m\n\u001b[1;32m   1012\u001b[0m \u001b[38;5;124;03m    \"\"\"\u001b[39;00m\n\u001b[0;32m-> 1013\u001b[0m     \u001b[38;5;28;01mreturn\u001b[39;00m os\u001b[38;5;241m.\u001b[39mstat(\u001b[38;5;28mself\u001b[39m, follow_symlinks\u001b[38;5;241m=\u001b[39mfollow_symlinks)\n",
      "\u001b[0;31mFileNotFoundError\u001b[0m: [Errno 2] No such file or directory: '/home/dylan/qdx/hermes_hatree_fock_quickstart/1B39_A_nohet.pdb'"
     ]
    }
   ],
   "source": [
    "import rush\n",
    "import json\n",
    "from pathlib import Path\n",
    "\n",
    "# Get our client, for calling modules and using the rush API\n",
    "# - edit in your access token and API URL or set the RUSH_TOKEN and RUSH_URL environment variables\n",
    "client = rush.build_blocking_provider_with_functions(\n",
    "    batch_tags=[\"hermes\"],\n",
    ")\n",
    "\n",
    "(prepared_protein_qdxf, prepared_protein_pdb) = client.prepare_protein(\n",
    "    Path(Path.home() / 'qdx' / 'hermes_hartree_fock_quickstart' /  \"1B39_A_nohet.pdb\")\n",
    ")\n",
    "\n",
    "# There may be multiple conformers, so select the first one\n",
    "(first_conformer,) = client.pick_conformer(prepared_protein_qdxf, 0)\n",
    "\n",
    "# Fragment the protein so that we can run a quantum energy calculation\n",
    "(fragmented_protein,) = client.fragment_aa(first_conformer, 1, \"All\")\n",
    "\n",
    "# Arguments\n",
    "HERMES_RESOURCES = {\n",
    "    \"gpus\": 1,\n",
    "    \"storage\": 100,\n",
    "    \"storage_units\": \"MB\",\n",
    "    \"walltime\": 60,\n",
    "}\n",
    "\n",
    "fragmented_protein_out = await fragmented_protein.get()\n",
    "fragmented_protein_contents = json.load(\n",
    "    open(fragmented_protein.download_blocking(), \"r\")\n",
    ")\n",
    "\n",
    "# Quantum energy calculation\n",
    "(hermes_energy,) = client.hermes_energy(\n",
    "    fragmented_protein,\n",
    "    {},\n",
    "    {\n",
    "        \"basis\": \"STO-3G\",\n",
    "        \"aux_basis\": \"6-31G\",\n",
    "        \"method\": \"RestrictedRIMP2\",\n",
    "    },  # configuration for a fast converging, low accuracy run\n",
    "    {\n",
    "        \"scf\": {\n",
    "            \"max_iter\": 50,\n",
    "            \"max_diis_history_length\": 12,\n",
    "            \"convergence_metric\": \"DIIS\",\n",
    "            \"dynamic_screening_threshold_exp\": 10,\n",
    "            \"ndiis\": 8,\n",
    "            \"niter\": 40,\n",
    "            \"scf_conv\": 0.000001,\n",
    "        },\n",
    "        \"frag\": {\n",
    "            \"cutoffs\": {\"dimer\": 22},\n",
    "            \"cutoff_type\": \"Centroid\",\n",
    "            \"level\": \"Dimer\",\n",
    "            \"reference_fragment\": len(\n",
    "                fragmented_protein_contents[\"topology\"][\"fragments\"]\n",
    "            )\n",
    "            - 1,\n",
    "        },\n",
    "    },\n",
    "    resources=HERMES_RESOURCES,\n",
    ")\n",
    "\n",
    "energy = json.load(open(hermes_energy.download_blocking(), \"r\"))\n",
    "# Let's look at the expanded Hartree Fock energy\n",
    "energy[\"expanded_hf_energy\"]"
   ]
  },
  {
   "cell_type": "code",
   "execution_count": null,
   "id": "eb22db6a",
   "metadata": {},
   "outputs": [],
   "source": []
  }
 ],
 "metadata": {
  "kernelspec": {
   "display_name": "Python 3 (ipykernel)",
   "language": "python",
   "name": "python3"
  },
  "language_info": {
   "codemirror_mode": {
    "name": "ipython",
    "version": 3
   },
   "file_extension": ".py",
   "mimetype": "text/x-python",
   "name": "python",
   "nbconvert_exporter": "python",
   "pygments_lexer": "ipython3",
   "version": "3.11.6"
  }
 },
 "nbformat": 4,
 "nbformat_minor": 5
}
