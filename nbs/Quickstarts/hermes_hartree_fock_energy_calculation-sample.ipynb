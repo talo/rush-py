{
 "cells": [
  {
   "cell_type": "markdown",
   "id": "cd8a75d1",
   "metadata": {},
   "source": [
    "# Hermes — Run a basic Hartree-Fock energy calculation"
   ]
  },
  {
   "cell_type": "markdown",
   "id": "170e1e83",
   "metadata": {},
   "source": [
    "See [the tutorial](/Tutorials/hermes_hartree_fock_energy_calculation.ipynb) for an in-depth explanation of how the Hermes Hartree-Fock energy calculation works."
   ]
  },
  {
   "cell_type": "code",
   "execution_count": null,
   "id": "b50ee234",
   "metadata": {},
   "outputs": [
    {
     "name": "stdout",
     "output_type": "stream",
     "text": [
      "/home/machineer/qdx/hermes_hartree_fock_quickstart\n"
     ]
    }
   ],
   "source": [
    "# |hide\n",
    "WORK_DIR = '~/qdx/hermes_hartree_fock_quickstart/'\n",
    "!rm -r $WORK_DIR\n",
    "!mkdir -p $WORK_DIR\n",
    "%cd $WORK_DIR"
   ]
  },
  {
   "cell_type": "code",
   "execution_count": null,
   "id": "ff8aab19",
   "metadata": {},
   "outputs": [
    {
     "name": "stdout",
     "output_type": "stream",
     "text": [
      "1B39_A_nohet.pdb\n"
     ]
    }
   ],
   "source": [
    "# Get a pdb to work with - we use the pdb-tools cli here but you can download directly from rcsb.org\n",
    "!pdb_fetch 1brs | pdb_selchain -A | pdb_delhetatm > 1B39_A_nohet.pdb\n",
    "!ls"
   ]
  },
  {
   "cell_type": "code",
   "execution_count": null,
   "id": "38f360d3",
   "metadata": {},
   "outputs": [
    {
     "name": "stdout",
     "output_type": "stream",
     "text": [
      "2024-03-16 10:15:34,990 - rush - INFO - Argument d3c589e3-d757-4528-8173-67ff5b5b593a is now ModuleInstanceStatus.RESOLVING\n",
      "2024-03-16 10:16:35,558 - rush - INFO - Argument d3c589e3-d757-4528-8173-67ff5b5b593a is now ModuleInstanceStatus.ADMITTED\n",
      "2024-03-16 10:16:53,885 - rush - INFO - Argument d3c589e3-d757-4528-8173-67ff5b5b593a is now ModuleInstanceStatus.DISPATCHED\n",
      "2024-03-16 10:16:54,965 - rush - INFO - Argument d3c589e3-d757-4528-8173-67ff5b5b593a is now ModuleInstanceStatus.AWAITING_UPLOAD\n",
      "2024-03-16 10:17:21,570 - rush - INFO - Argument c461912c-77b1-4563-a746-c73ae9c92120 is now ModuleInstanceStatus.RESOLVING\n",
      "2024-03-16 10:17:27,061 - rush - INFO - Argument c461912c-77b1-4563-a746-c73ae9c92120 is now ModuleInstanceStatus.ADMITTED\n",
      "2024-03-16 10:17:31,419 - rush - INFO - Argument c461912c-77b1-4563-a746-c73ae9c92120 is now ModuleInstanceStatus.DISPATCHED\n",
      "2024-03-16 10:17:32,570 - rush - INFO - Argument c461912c-77b1-4563-a746-c73ae9c92120 is now ModuleInstanceStatus.RUNNING\n",
      "2024-03-16 10:22:43,927 - rush - INFO - Argument c461912c-77b1-4563-a746-c73ae9c92120 is now ModuleInstanceStatus.AWAITING_UPLOAD\n"
     ]
    },
    {
     "data": {
      "text/plain": [
       "0.5644545493014448"
      ]
     },
     "execution_count": null,
     "metadata": {},
     "output_type": "execute_result"
    }
   ],
   "source": [
    "import rush\n",
    "import json\n",
    "from pathlib import Path\n",
    "\n",
    "# Get our client, for calling modules and using the rush API\n",
    "# - edit in your access token and API URL or set the RUSH_TOKEN and RUSH_URL environment variables\n",
    "client = rush.build_blocking_provider_with_functions(\n",
    "    batch_tags=[\"hermes\"],\n",
    ")\n",
    "\n",
    "(prepared_protein_qdxf, prepared_protein_pdb) = client.prepare_protein(\n",
    "    Path(Path.home() / 'qdx' / 'hermes_hartree_fock_quickstart' /  \"1B39_A_nohet.pdb\")\n",
    ")\n",
    "\n",
    "# There may be multiple conformers, so select the first one\n",
    "(first_conformer,) = client.pick_conformer(prepared_protein_qdxf, 0)\n",
    "\n",
    "# Fragment the protein so that we can run a quantum energy calculation\n",
    "(fragmented_protein,) = client.fragment_aa(first_conformer, 1, \"All\", 30)\n",
    "\n",
    "# Arguments\n",
    "HERMES_RESOURCES = {\n",
    "    \"gpus\": 1,\n",
    "    \"storage\": 100,\n",
    "    \"storage_units\": \"MB\",\n",
    "    \"walltime\": 60,\n",
    "}\n",
    "\n",
    "fragmented_protein_contents = json.load(\n",
    "    open(fragmented_protein.download(), \"r\")\n",
    ")\n",
    "\n",
    "# Quantum energy calculation\n",
    "(hermes_energy,) = client.hermes_energy(\n",
    "    fragmented_protein,\n",
    "    {},\n",
    "    {\n",
    "        \"basis\": \"STO-3G\",\n",
    "        \"aux_basis\": \"6-31G\",\n",
    "        \"method\": \"RestrictedHF\",\n",
    "    },  # configuration for a fast converging, low accuracy run\n",
    "    None,\n",
    "    {\n",
    "        \"cutoffs\": {\"dimer\": 15 },\n",
    "        \"level\": \"Dimer\",\n",
    "        \"reference_fragment\": len(\n",
    "            fragmented_protein_contents[\"topology\"][\"fragments\"]\n",
    "        )\n",
    "        - 1,\n",
    "        \n",
    "    },\n",
    "    None,\n",
    "    resources=HERMES_RESOURCES,\n",
    ")\n",
    "\n",
    "energy = json.load(open(hermes_energy.download(), \"r\"))\n",
    "# Let's look at the expanded Hartree Fock energy\n",
    "energy[\"expanded_hf_energy\"]"
   ]
  },
  {
   "cell_type": "code",
   "execution_count": null,
   "id": "5ddcbb6f-a0ee-4277-872a-c89cc1095651",
   "metadata": {},
   "outputs": [],
   "source": []
  }
 ],
 "metadata": {
  "kernelspec": {
   "display_name": "python3",
   "language": "python",
   "name": "python3"
  }
 },
 "nbformat": 4,
 "nbformat_minor": 5
}
