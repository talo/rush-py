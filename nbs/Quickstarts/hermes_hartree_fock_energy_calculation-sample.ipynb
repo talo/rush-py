{
 "cells": [
  {
   "cell_type": "markdown",
   "id": "cd8a75d1",
   "metadata": {},
   "source": [
    "# Hermes — Run a basic Hartree-Fock energy calculation"
   ]
  },
  {
   "cell_type": "markdown",
   "id": "170e1e83",
   "metadata": {},
   "source": [
    "See [the tutorial](/Tutorials/hermes_hartree_fock_energy_calculation.ipynb) for an in-depth explanation of how the Hermes Hartree-Fock energy calculation works."
   ]
  },
  {
   "cell_type": "code",
   "execution_count": null,
   "id": "b50ee234",
   "metadata": {},
   "outputs": [],
   "source": [
    "# |hide\n",
    "import os\n",
    "import pathlib\n",
    "\n",
    "WORK_DIR = pathlib.Path(\"~/qdx/hermes_hartree_fock_quickstart/\").expanduser()\n",
    "if WORK_DIR.exists():\n",
    "    !rm -r $WORK_DIR\n",
    "os.makedirs(WORK_DIR)\n",
    "os.chdir(WORK_DIR)"
   ]
  },
  {
   "cell_type": "code",
   "execution_count": null,
   "id": "ff8aab19",
   "metadata": {},
   "outputs": [
    {
     "name": "stdout",
     "output_type": "stream",
     "text": [
      "1B39_A_nohet.pdb\n"
     ]
    }
   ],
   "source": [
    "# Get a pdb to work with - we use the pdb-tools cli here but you can download directly from rcsb.org\n",
    "!pdb_fetch 1brs | pdb_selchain -A | pdb_delhetatm > 1B39_A_nohet.pdb\n",
    "!ls"
   ]
  },
  {
   "cell_type": "code",
   "execution_count": null,
   "id": "38f360d3",
   "metadata": {},
   "outputs": [
    {
     "name": "stdout",
     "output_type": "stream",
     "text": [
      "2024-03-19 14:51:09,990 - rush - INFO - Restoring by default via env\n",
      "2024-03-19 14:51:11,205 - rush - INFO - Trying to restore job with tags: ['hermes_quickstart'] and path: github:talo/prepare_protein/947cdbc000031e192153a20a9b4a8fbb12279102#prepare_protein_tengu\n",
      "2024-03-19 14:51:11,377 - rush - INFO - Trying to restore job with tags: ['hermes_quickstart'] and path: github:talo/tengu-prelude/b345a0b0077225c63d904d0e03fb9ca1acec55ed#pick_conformer\n",
      "2024-03-19 14:51:11,511 - rush - INFO - Trying to restore job with tags: ['hermes_quickstart'] and path: github:talo/tengu-prelude/4a16cf12be35f0a40c113d4410046de865f1906f#fragment_aa\n",
      "2024-03-19 14:51:11,783 - rush - INFO - Argument b7f9b99c-6af4-45f4-bd73-3bf84603c05f is now ModuleInstanceStatus.RESOLVING\n",
      "2024-03-19 14:53:04,633 - rush - INFO - Argument b7f9b99c-6af4-45f4-bd73-3bf84603c05f is now ModuleInstanceStatus.ADMITTED\n",
      "2024-03-19 14:53:14,698 - rush - INFO - Argument b7f9b99c-6af4-45f4-bd73-3bf84603c05f is now ModuleInstanceStatus.DISPATCHED\n",
      "2024-03-19 14:53:20,317 - rush - INFO - Argument b7f9b99c-6af4-45f4-bd73-3bf84603c05f is now ModuleInstanceStatus.AWAITING_UPLOAD\n",
      "2024-03-19 14:53:49,835 - rush - INFO - Trying to restore job with tags: ['hermes_quickstart'] and path: github:talo/tengu-prelude/4a16cf12be35f0a40c113d4410046de865f1906f#hermes_energy\n",
      "2024-03-19 14:53:50,080 - rush - INFO - Argument 61acec81-29e1-421c-8946-428a8dd58a8c is now ModuleInstanceStatus.RESOLVING\n",
      "2024-03-19 14:53:52,478 - rush - INFO - Argument 61acec81-29e1-421c-8946-428a8dd58a8c is now ModuleInstanceStatus.ADMITTED\n",
      "2024-03-19 14:54:31,194 - rush - INFO - Argument 61acec81-29e1-421c-8946-428a8dd58a8c is now ModuleInstanceStatus.DISPATCHED\n",
      "2024-03-19 14:54:36,759 - rush - INFO - Argument 61acec81-29e1-421c-8946-428a8dd58a8c is now ModuleInstanceStatus.RUNNING\n",
      "2024-03-19 14:55:20,893 - rush - INFO - Argument 61acec81-29e1-421c-8946-428a8dd58a8c is now ModuleInstanceStatus.AWAITING_UPLOAD\n"
     ]
    },
    {
     "data": {
      "text/plain": [
       "0.5644136911942041"
      ]
     },
     "execution_count": null,
     "metadata": {},
     "output_type": "execute_result"
    }
   ],
   "source": [
    "import rush\n",
    "import json\n",
    "from pathlib import Path\n",
    "\n",
    "# Get our client, for calling modules and using the rush API\n",
    "# - edit in your access token and API URL or set the RUSH_TOKEN and RUSH_URL environment variables\n",
    "client = rush.build_blocking_provider_with_functions(\n",
    "    batch_tags=[\"hermes_quickstart\"],\n",
    ")\n",
    "\n",
    "(prepared_protein_qdxf, prepared_protein_pdb) = client.prepare_protein(\n",
    "    Path(\n",
    "        Path.home()\n",
    "        / \"qdx\"\n",
    "        / \"hermes_hartree_fock_quickstart\"\n",
    "        / \"1B39_A_nohet.pdb\"\n",
    "    )\n",
    ")\n",
    "\n",
    "# There may be multiple conformers, so select the first one\n",
    "(first_conformer,) = client.pick_conformer(prepared_protein_qdxf, 0)\n",
    "\n",
    "# Fragment the protein so that we can run a quantum energy calculation\n",
    "(fragmented_protein,) = client.fragment_aa(first_conformer, 1, \"All\", 30)\n",
    "\n",
    "# Arguments\n",
    "HERMES_RESOURCES = {\n",
    "    \"gpus\": 1,\n",
    "    \"storage\": 100,\n",
    "    \"storage_units\": \"MB\",\n",
    "    \"walltime\": 60,\n",
    "}\n",
    "\n",
    "fragmented_protein_contents = json.load(open(fragmented_protein.download(), \"r\"))\n",
    "\n",
    "# Quantum energy calculation\n",
    "(hermes_energy,) = client.hermes_energy(\n",
    "    fragmented_protein,\n",
    "    {},\n",
    "    {\n",
    "        \"basis\": \"STO-3G\",\n",
    "        \"aux_basis\": \"6-31G\",\n",
    "        \"method\": \"RestrictedHF\",\n",
    "    },  # configuration for a fast converging, low accuracy run\n",
    "    None,\n",
    "    {\n",
    "        \"cutoffs\": {\"dimer\": 15},\n",
    "        \"level\": \"Dimer\",\n",
    "        \"reference_fragment\": len(\n",
    "            fragmented_protein_contents[\"topology\"][\"fragments\"]\n",
    "        )\n",
    "        - 1,\n",
    "    },\n",
    "    None,\n",
    "    resources=HERMES_RESOURCES,\n",
    ")\n",
    "\n",
    "energy = json.load(open(hermes_energy.download(), \"r\"))\n",
    "# Let's look at the expanded Hartree Fock energy\n",
    "energy[\"expanded_hf_energy\"]"
   ]
  },
  {
   "cell_type": "code",
   "execution_count": null,
   "id": "5ddcbb6f-a0ee-4277-872a-c89cc1095651",
   "metadata": {},
   "outputs": [],
   "source": []
  }
 ],
 "metadata": {
  "kernelspec": {
   "display_name": "python3",
   "language": "python",
   "name": "python3"
  }
 },
 "nbformat": 4,
 "nbformat_minor": 5
}
