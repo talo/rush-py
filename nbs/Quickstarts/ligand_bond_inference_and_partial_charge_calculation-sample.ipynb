{
 "cells": [
  {
   "cell_type": "markdown",
   "id": "7e5f21cd",
   "metadata": {},
   "source": [
    "# Dubai — Quantum accurate bond inference and partial charge calculations"
   ]
  },
  {
   "cell_type": "markdown",
   "id": "bff0315b",
   "metadata": {},
   "source": [
    "See [the tutorial](/Tutorials/ligand_bond_inference_and_partial_charge_calculation.ipynb)."
   ]
  },
  {
   "cell_type": "code",
   "execution_count": null,
   "id": "e1b1849b-6fa2-40aa-9204-e39b8e659592",
   "metadata": {},
   "outputs": [],
   "source": [
    "# |hide\n",
    "WORK_DIR = '~/qdx/dubai_quickstart/'\n",
    "!rm -r $WORK_DIR || true\n",
    "!mkdir -p $WORK_DIR\n",
    "%cd -q $WORK_DIR"
   ]
  },
  {
   "cell_type": "code",
   "execution_count": null,
   "id": "8a2391c8",
   "metadata": {},
   "outputs": [
    {
     "name": "stdout",
     "output_type": "stream",
     "text": [
      "2024-03-16 10:16:20,028 - rush - INFO - Argument bd9a2e88-3520-4891-9935-d34a23558de4 is now ModuleInstanceStatus.RESOLVING\n",
      "2024-03-16 10:16:36,237 - rush - INFO - Argument bd9a2e88-3520-4891-9935-d34a23558de4 is now ModuleInstanceStatus.ADMITTED\n",
      "2024-03-16 10:16:53,447 - rush - INFO - Argument bd9a2e88-3520-4891-9935-d34a23558de4 is now ModuleInstanceStatus.DISPATCHED\n",
      "2024-03-16 10:16:54,517 - rush - INFO - Argument bd9a2e88-3520-4891-9935-d34a23558de4 is now ModuleInstanceStatus.AWAITING_UPLOAD\n",
      "2024-03-16 10:17:10,128 - rush - INFO - Argument 242c61cf-40f2-44ad-9eda-dc62b9a8bbb6 is now ModuleInstanceStatus.RESOLVING\n",
      "2024-03-16 10:17:13,348 - rush - INFO - Argument 242c61cf-40f2-44ad-9eda-dc62b9a8bbb6 is now ModuleInstanceStatus.ADMITTED\n",
      "2024-03-16 10:23:22,896 - rush - INFO - Argument 242c61cf-40f2-44ad-9eda-dc62b9a8bbb6 is now ModuleInstanceStatus.DISPATCHED\n",
      "2024-03-16 10:23:23,972 - rush - INFO - Argument 242c61cf-40f2-44ad-9eda-dc62b9a8bbb6 is now ModuleInstanceStatus.RUNNING\n",
      "2024-03-16 10:23:30,609 - rush - INFO - Argument 242c61cf-40f2-44ad-9eda-dc62b9a8bbb6 is now ModuleInstanceStatus.AWAITING_UPLOAD\n",
      "Bond inference performed correctly!\n"
     ]
    }
   ],
   "source": [
    "import json\n",
    "from pathlib import Path\n",
    "\n",
    "import requests\n",
    "import rush\n",
    "\n",
    "# Get our client, for calling modules and using the rush API\n",
    "# set the RUSH_TOKEN  environment variables\n",
    "client = rush.build_blocking_provider_with_functions()\n",
    "\n",
    "# Convert aspirin to a QDXF file so we can use it for this demo\n",
    "SMILES_STRING = \"CC(=O)OC1=CC=CC=C1C(=O)O\"\n",
    "SDF_LINK = f\"https://pubchem.ncbi.nlm.nih.gov/rest/pug/compound/smiles/{SMILES_STRING}/record/SDF?record_type=3d\"\n",
    "\n",
    "file_path = client.workspace / \"aspirin.sdf\"\n",
    "with open(file_path, \"wb\") as f:\n",
    "    f.write(requests.get(SDF_LINK).content)\n",
    "\n",
    "(ligand,) = client.convert(\n",
    "    \"SDF\", Path(file_path)\n",
    ")\n",
    "\n",
    "ligand = json.load(open(ligand.download(), \"r\"))\n",
    "\n",
    "# Remove connectivity\n",
    "EXPECTED_CONNECTIVITY = ligand[0][\"topology\"][\"connectivity\"]\n",
    "ligand = ligand[0]\n",
    "del ligand[\"topology\"][\"connectivity\"]\n",
    "\n",
    "ligand[\"topology\"][\"fragment_multiplicities\"] = [1]\n",
    "\n",
    "# Arguments\n",
    "DUBAI_RESOURCES = {\n",
    "    \"gpus\": 1,\n",
    "    \"storage\": 1024_000,\n",
    "    \"walltime\": 60,\n",
    "}\n",
    "LIGAND_FILEPATH = client.workspace / \"aspirin.qdxf.json\"\n",
    "json.dump(ligand, open(LIGAND_FILEPATH, \"w\"))\n",
    "\n",
    "# Run the inference\n",
    "(ligand_with_bonds,) = client.dubai(\n",
    "    LIGAND_FILEPATH, resources=DUBAI_RESOURCES\n",
    ")\n",
    "\n",
    "output_ligand = json.load(ligand_with_bonds.download().open())\n",
    "\n",
    "for expected_bond, outputted_bond in zip(\n",
    "    EXPECTED_CONNECTIVITY, output_ligand[\"topology\"][\"connectivity\"]\n",
    "):\n",
    "    # Check start atoms are the same\n",
    "    assert expected_bond[0] == outputted_bond[0]\n",
    "    # Check ending atoms are the same\n",
    "    assert expected_bond[1] == outputted_bond[1]\n",
    "    # NB: we don't check the third item of the bond -- the bond type. This is\n",
    "    # because Dubai accurately outputs ring bonds as a specific 'RINGBOND' type,\n",
    "    # whereas SDF aspirin was interleaving single and double bonds.\n",
    "print(\"Bond inference performed correctly!\")"
   ]
  }
 ],
 "metadata": {
  "kernelspec": {
   "display_name": "python3",
   "language": "python",
   "name": "python3"
  }
 },
 "nbformat": 4,
 "nbformat_minor": 5
}
