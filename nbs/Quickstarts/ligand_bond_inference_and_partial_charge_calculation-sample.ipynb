{
 "cells": [
  {
   "cell_type": "markdown",
   "id": "7e5f21cd",
   "metadata": {},
   "source": [
    "# Dubai — Quantum accurate bond inference and partial charge calculations"
   ]
  },
  {
   "cell_type": "markdown",
   "id": "bff0315b",
   "metadata": {},
   "source": [
    "See [the tutorial](/Tutorials/ligand_bond_inference_and_partial_charge_calculation.ipynb) for a detailed explanation."
   ]
  },
  {
   "cell_type": "code",
   "execution_count": null,
   "id": "e1b1849b-6fa2-40aa-9204-e39b8e659592",
   "metadata": {},
   "outputs": [],
   "source": [
    "# |hide\n",
    "import os\n",
    "import pathlib\n",
    "\n",
    "WORK_DIR = pathlib.Path(\"~/qdx/dubai_quickstart/\").expanduser()\n",
    "if WORK_DIR.exists():\n",
    "    !rm -r $WORK_DIR\n",
    "os.makedirs(WORK_DIR)\n",
    "os.chdir(WORK_DIR)\n",
    "YOUR_TOKEN = os.getenv(\"RUSH_TOKEN\")"
   ]
  },
  {
   "cell_type": "code",
   "execution_count": null,
   "id": "8a2391c8",
   "metadata": {},
   "outputs": [
    {
     "name": "stdout",
     "output_type": "stream",
     "text": [
      "2024-04-10 16:01:28,488 - rush - INFO - Not restoring by default via default\n",
      "2024-04-10 16:01:31,737 - rush - INFO - Argument b171f51b-0ae1-461f-8afb-46528ee59595 is now ModuleInstanceStatus.RESOLVING\n",
      "2024-04-10 16:01:35,053 - rush - INFO - Argument b171f51b-0ae1-461f-8afb-46528ee59595 is now ModuleInstanceStatus.ADMITTED\n",
      "2024-04-10 16:01:38,691 - rush - INFO - Argument b171f51b-0ae1-461f-8afb-46528ee59595 is now ModuleInstanceStatus.AWAITING_UPLOAD\n",
      "2024-04-10 16:01:55,349 - rush - INFO - Argument 09196a92-09e7-4e81-bf29-190210598bd8 is now ModuleInstanceStatus.RESOLVING\n",
      "2024-04-10 16:01:58,631 - rush - INFO - Argument 09196a92-09e7-4e81-bf29-190210598bd8 is now ModuleInstanceStatus.ADMITTED\n",
      "2024-04-10 16:05:15,767 - rush - INFO - Argument 09196a92-09e7-4e81-bf29-190210598bd8 is now ModuleInstanceStatus.RUNNING\n",
      "2024-04-10 16:05:22,552 - rush - INFO - Argument 09196a92-09e7-4e81-bf29-190210598bd8 is now ModuleInstanceStatus.AWAITING_UPLOAD\n",
      "Bond inference performed correctly!\n"
     ]
    }
   ],
   "source": [
    "import json\n",
    "from pathlib import Path\n",
    "\n",
    "import requests\n",
    "\n",
    "import rush\n",
    "\n",
    "os.environ[\"RUSH_TOKEN\"] = YOUR_TOKEN\n",
    "\n",
    "client = rush.build_blocking_provider_with_functions(\n",
    "    batch_tags=[\"bond_inference_quickstart\"]\n",
    ")\n",
    "\n",
    "# Convert aspirin to a QDXF file so we can use it for this demo\n",
    "SMILES_STRING = \"CC(=O)OC1=CC=CC=C1C(=O)O\"\n",
    "SDF_LINK = f\"https://pubchem.ncbi.nlm.nih.gov/rest/pug/compound/smiles/{SMILES_STRING}/record/SDF?record_type=3d\"\n",
    "aspirin_sdf_file = Path(client.workspace / \"aspirin.sdf\")\n",
    "aspirin_sdf_file.write_bytes(requests.get(SDF_LINK).content)\n",
    "(ligand_qdxf,) = client.convert(\"SDF\", aspirin_sdf_file)\n",
    "\n",
    "ligand_dict = json.loads(ligand_qdxf.download().read_text())\n",
    "\n",
    "# Remove connectivity\n",
    "EXPECTED_CONNECTIVITY = ligand_dict[0][\"topology\"][\"connectivity\"]\n",
    "ligand = ligand_dict[0]\n",
    "del ligand[\"topology\"][\"connectivity\"]\n",
    "ligand[\"topology\"][\"fragment_multiplicities\"] = [1]\n",
    "\n",
    "LIGAND_FILEPATH = client.workspace / \"aspirin.qdxf.json\"\n",
    "LIGAND_FILEPATH.write_text(json.dumps(ligand))\n",
    "\n",
    "# Run the inference\n",
    "(ligand_with_bonds,) = client.dubai(\n",
    "    LIGAND_FILEPATH, resources={\"gpus\": 1, \"storage\": 1024_000, \"walltime\": 60}\n",
    ")\n",
    "\n",
    "output_ligand = json.loads(ligand_with_bonds.download().read_text())\n",
    "\n",
    "for expected_bond, inferred_bond in zip(\n",
    "    EXPECTED_CONNECTIVITY, output_ligand[\"topology\"][\"connectivity\"]\n",
    "):\n",
    "    # Check start atoms are the same\n",
    "    assert expected_bond[0] == inferred_bond[0]\n",
    "    # Check ending atoms are the same\n",
    "    assert expected_bond[1] == inferred_bond[1]\n",
    "    # NB: we don't check the third item of the bond -- the bond type. This is\n",
    "    # because Dubai accurately outputs ring bonds as a specific 'RINGBOND' type,\n",
    "    # whereas SDF aspirin was interleaving single and double bonds.\n",
    "print(\"Bond inference performed correctly!\")"
   ]
  },
  {
   "cell_type": "code",
   "execution_count": null,
   "id": "39564ae2-6cd6-4317-a2ef-901be3d52980",
   "metadata": {},
   "outputs": [],
   "source": []
  }
 ],
 "metadata": {
  "kernelspec": {
   "display_name": "python3",
   "language": "python",
   "name": "python3"
  }
 },
 "nbformat": 4,
 "nbformat_minor": 5
}
