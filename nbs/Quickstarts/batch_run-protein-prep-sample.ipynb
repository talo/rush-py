{
 "cells": [
  {
   "cell_type": "markdown",
   "id": "fef8f457",
   "metadata": {},
   "source": [
    "# prepare_protein — Run a batch protein preperation in parallel"
   ]
  },
  {
   "cell_type": "markdown",
   "id": "2ed0ad9a",
   "metadata": {},
   "source": [
    "See [the tutorial](/Tutorials/batch_run-protein-prep.ipynb).\n",
    "\n",
    "This quickstart uses the async functionality to download files in parallel. If running outside of a Juptyter notebook, you will need to wrap the code in an async main function like this: \n",
    "``` python\n",
    "import asyncio\n",
    "async def main():\n",
    "    #your code here\n",
    "asyncio.run(main())\n",
    "```\n"
   ]
  },
  {
   "cell_type": "code",
   "execution_count": null,
   "id": "3419dc68-e023-4c16-bbc8-f2c9d6979b09",
   "metadata": {},
   "outputs": [],
   "source": [
    "# |hide\n",
    "WORK_DIR = '~/qdx/qs_batch_run_protein_prep'\n",
    "%cd -q ~\n",
    "!rm -r $WORK_DIR || true\n",
    "!mkdir -p $WORK_DIR\n",
    "%cd -q $WORK_DIR"
   ]
  },
  {
   "cell_type": "code",
   "execution_count": null,
   "id": "da7a39de",
   "metadata": {},
   "outputs": [],
   "source": [
    "# Get PDBs to work with - we use the pdb-tools cli here but you can download directly from rcsb.org\n",
    "!pdb_fetch '1b39' | pdb_delhetatm > '1B39_nohet.pdb'\n",
    "!pdb_fetch '4qxi' | pdb_delhetatm > '4QXI_nohet.pdb'\n",
    "!pdb_fetch '8fsu' | pdb_delhetatm > '8FSU_nohet.pdb'"
   ]
  },
  {
   "cell_type": "code",
   "execution_count": null,
   "id": "1d4af86e",
   "metadata": {},
   "outputs": [
    {
     "name": "stdout",
     "output_type": "stream",
     "text": [
      "preparing /home/machineer/qdx/qs_batch_run_protein_prep/8FSU_nohet.pdb\n",
      "preparing /home/machineer/qdx/qs_batch_run_protein_prep/1B39_nohet.pdb\n",
      "preparing /home/machineer/qdx/qs_batch_run_protein_prep/4QXI_nohet.pdb\n",
      "2024-03-16 10:14:28,870 - rush - INFO - Argument 49db9ee4-b836-42c0-a726-f262028f1495 is now ModuleInstanceStatus.RESOLVING\n",
      "2024-03-16 10:14:28,963 - rush - INFO - Argument 6f70de2a-a6fb-4486-a358-b059d7ac769f is now ModuleInstanceStatus.RESOLVING\n",
      "2024-03-16 10:14:28,999 - rush - INFO - Argument 0d414ada-d303-406b-822c-aa54fe2e7919 is now ModuleInstanceStatus.RESOLVING\n",
      "2024-03-16 10:14:29,015 - rush - INFO - Argument 870c76e8-fbfa-4e6f-8e82-2835cf58380d is now ModuleInstanceStatus.ADMITTED\n",
      "2024-03-16 10:14:29,018 - rush - INFO - Argument 24ce1191-80fd-4478-8bf9-349427f89d56 is now ModuleInstanceStatus.RESOLVING\n",
      "2024-03-16 10:14:29,941 - rush - INFO - Argument 49db9ee4-b836-42c0-a726-f262028f1495 is now ModuleInstanceStatus.ADMITTED\n",
      "2024-03-16 10:14:30,035 - rush - INFO - Argument 6f70de2a-a6fb-4486-a358-b059d7ac769f is now ModuleInstanceStatus.ADMITTED\n",
      "2024-03-16 10:14:30,070 - rush - INFO - Argument 0d414ada-d303-406b-822c-aa54fe2e7919 is now ModuleInstanceStatus.ADMITTED\n",
      "2024-03-16 10:14:30,178 - rush - INFO - Argument 24ce1191-80fd-4478-8bf9-349427f89d56 is now ModuleInstanceStatus.ADMITTED\n",
      "2024-03-16 10:14:30,578 - rush - INFO - Argument 63ec4832-54d7-4abe-a6d6-0d7275ae480e is now ModuleInstanceStatus.ADMITTED\n",
      "2024-03-16 10:14:34,437 - rush - INFO - Argument 870c76e8-fbfa-4e6f-8e82-2835cf58380d is now ModuleInstanceStatus.DISPATCHED\n",
      "2024-03-16 10:14:35,169 - rush - INFO - Argument 63ec4832-54d7-4abe-a6d6-0d7275ae480e is now ModuleInstanceStatus.DISPATCHED\n",
      "2024-03-16 10:14:35,565 - rush - INFO - Argument 870c76e8-fbfa-4e6f-8e82-2835cf58380d is now ModuleInstanceStatus.RUNNING\n",
      "2024-03-16 10:14:36,316 - rush - INFO - Argument 63ec4832-54d7-4abe-a6d6-0d7275ae480e is now ModuleInstanceStatus.RUNNING\n",
      "2024-03-16 10:14:41,199 - rush - INFO - Argument 870c76e8-fbfa-4e6f-8e82-2835cf58380d is now ModuleInstanceStatus.AWAITING_UPLOAD\n",
      "2024-03-16 10:14:41,829 - rush - INFO - Argument 63ec4832-54d7-4abe-a6d6-0d7275ae480e is now ModuleInstanceStatus.AWAITING_UPLOAD\n",
      "2024-03-16 10:22:35,157 - rush - INFO - Argument 6f70de2a-a6fb-4486-a358-b059d7ac769f is now ModuleInstanceStatus.DISPATCHED\n",
      "2024-03-16 10:22:35,637 - rush - INFO - Argument 24ce1191-80fd-4478-8bf9-349427f89d56 is now ModuleInstanceStatus.DISPATCHED\n",
      "2024-03-16 10:22:36,702 - rush - INFO - Argument 24ce1191-80fd-4478-8bf9-349427f89d56 is now ModuleInstanceStatus.RUNNING\n",
      "2024-03-16 10:22:37,311 - rush - INFO - Argument 6f70de2a-a6fb-4486-a358-b059d7ac769f is now ModuleInstanceStatus.RUNNING\n",
      "2024-03-16 10:22:42,803 - rush - INFO - Argument 6f70de2a-a6fb-4486-a358-b059d7ac769f is now ModuleInstanceStatus.AWAITING_UPLOAD\n",
      "2024-03-16 10:22:43,258 - rush - INFO - Argument 24ce1191-80fd-4478-8bf9-349427f89d56 is now ModuleInstanceStatus.AWAITING_UPLOAD\n",
      "2024-03-16 10:22:52,683 - rush - INFO - Argument 0d414ada-d303-406b-822c-aa54fe2e7919 is now ModuleInstanceStatus.DISPATCHED\n",
      "2024-03-16 10:22:52,727 - rush - INFO - Argument 49db9ee4-b836-42c0-a726-f262028f1495 is now ModuleInstanceStatus.DISPATCHED\n",
      "2024-03-16 10:22:53,764 - rush - INFO - Argument 0d414ada-d303-406b-822c-aa54fe2e7919 is now ModuleInstanceStatus.RUNNING\n",
      "2024-03-16 10:22:53,799 - rush - INFO - Argument 49db9ee4-b836-42c0-a726-f262028f1495 is now ModuleInstanceStatus.RUNNING\n",
      "2024-03-16 10:23:05,867 - rush - INFO - Argument 0d414ada-d303-406b-822c-aa54fe2e7919 is now ModuleInstanceStatus.AWAITING_UPLOAD\n",
      "2024-03-16 10:23:05,951 - rush - INFO - Argument 49db9ee4-b836-42c0-a726-f262028f1495 is now ModuleInstanceStatus.AWAITING_UPLOAD\n"
     ]
    },
    {
     "data": {
      "text/plain": [
       "[PosixPath('/home/machineer/qdx/qs_batch_run_protein_prep/objects/protein_8FSU_nohet_prepared.qdxf.json'),\n",
       " PosixPath('/home/machineer/qdx/qs_batch_run_protein_prep/objects/protein_1B39_nohet_prepared.qdxf.json'),\n",
       " PosixPath('/home/machineer/qdx/qs_batch_run_protein_prep/objects/protein_4QXI_nohet_prepared.qdxf.json'),\n",
       " PosixPath('/home/machineer/qdx/qs_batch_run_protein_prep/objects/protein_8FSU_nohet_prepared.pdb'),\n",
       " PosixPath('/home/machineer/qdx/qs_batch_run_protein_prep/objects/protein_1B39_nohet_prepared.pdb'),\n",
       " PosixPath('/home/machineer/qdx/qs_batch_run_protein_prep/objects/protein_4QXI_nohet_prepared.pdb')]"
      ]
     },
     "execution_count": null,
     "metadata": {},
     "output_type": "execute_result"
    }
   ],
   "source": [
    "import asyncio\n",
    "from pathlib import Path\n",
    "from glob import glob\n",
    "\n",
    "import rush\n",
    "\n",
    "client = await rush.build_provider_with_functions(\n",
    "    batch_tags=[\"batch_run_protein_prep\"]\n",
    ")\n",
    "\n",
    "protein_outputs = []\n",
    "for protein_path in glob(str(Path.cwd() / \"*.pdb\")):\n",
    "    print(\"preparing\", protein_path)\n",
    "    protein_path = Path(protein_path)\n",
    "    name = protein_path.stem\n",
    "\n",
    "    prepped_protein_qdxf, prepped_protein_pdb = await client.prepare_protein(\n",
    "        protein_path,\n",
    "        tags=[\"batch_run_protein_prep\"],\n",
    "        resources={\"gpus\": 1, \"storage\": \"10\", \"storage_units\": \"MB\" },\n",
    "    )\n",
    "    protein_outputs.append((name, prepped_protein_qdxf, prepped_protein_pdb))\n",
    "\n",
    "await asyncio.gather(\n",
    "    *([\n",
    "        output[1].download(filename=f\"protein_{output[0]}_prepared.qdxf.json\")\n",
    "        for output in protein_outputs\n",
    "    ]\n",
    "    + [\n",
    "        output[2].download(filename=f\"protein_{output[0]}_prepared.pdb\")\n",
    "        for output in protein_outputs\n",
    "    ])\n",
    ")"
   ]
  },
  {
   "cell_type": "code",
   "execution_count": null,
   "id": "e0fe4a60-310c-4ce0-9208-1b90f789b128",
   "metadata": {},
   "outputs": [
    {
     "name": "stdout",
     "output_type": "stream",
     "text": [
      "protein_1B39_nohet_prepared.pdb        protein_4QXI_nohet_prepared.qdxf.json\n",
      "protein_1B39_nohet_prepared.qdxf.json  protein_8FSU_nohet_prepared.pdb\n",
      "protein_4QXI_nohet_prepared.pdb        protein_8FSU_nohet_prepared.qdxf.json\n"
     ]
    }
   ],
   "source": [
    "OUTPUT_DIR = client.workspace / \"objects\"\n",
    "!ls $OUTPUT_DIR"
   ]
  },
  {
   "cell_type": "code",
   "execution_count": null,
   "id": "4e6b176b-06dd-41db-8f2b-79f92a4455b2",
   "metadata": {},
   "outputs": [],
   "source": []
  }
 ],
 "metadata": {
  "kernelspec": {
   "display_name": "python3",
   "language": "python",
   "name": "python3"
  }
 },
 "nbformat": 4,
 "nbformat_minor": 5
}
