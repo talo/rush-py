{
 "cells": [
  {
   "cell_type": "markdown",
   "id": "fef8f457",
   "metadata": {},
   "source": [
    "# prepare_protein — Run a batch protein preperation in parallel"
   ]
  },
  {
   "cell_type": "markdown",
   "id": "2ed0ad9a",
   "metadata": {},
   "source": [
    "See [the tutorial](/Tutorials/batch_run-protein-prep.ipynb).\n",
    "\n",
    "This quickstart uses the async functionality to download files in parallel. If running outside of a Juptyter notebook, you will need to wrap the code in an async main function like this: \n",
    "``` python\n",
    "import asyncio\n",
    "\n",
    "async def main():\n",
    "    #your code here\n",
    "    \n",
    "asyncio.run(main())\n",
    "```"
   ]
  },
  {
   "cell_type": "code",
   "execution_count": null,
   "id": "3419dc68-e023-4c16-bbc8-f2c9d6979b09",
   "metadata": {},
   "outputs": [],
   "source": [
    "# |hide\n",
    "import os\n",
    "import pathlib\n",
    "\n",
    "WORK_DIR = pathlib.Path(\"~/qdx/qs_batch_run_protein_prep\").expanduser()\n",
    "if WORK_DIR.exists():\n",
    "    !rm -r $WORK_DIR\n",
    "os.makedirs(WORK_DIR, exist_ok=True)\n",
    "os.chdir(WORK_DIR)"
   ]
  },
  {
   "cell_type": "code",
   "execution_count": null,
   "id": "da7a39de",
   "metadata": {},
   "outputs": [],
   "source": [
    "# Get PDBs to work with\n",
    "# We use the pdb-tools cli here but you can download directly from rcsb.org\n",
    "!pdb_fetch '1b39' | pdb_delhetatm > '1B39_nohet.pdb'\n",
    "!pdb_fetch '4qxi' | pdb_delhetatm > '4QXI_nohet.pdb'\n",
    "!pdb_fetch '8fsu' | pdb_delhetatm > '8FSU_nohet.pdb'"
   ]
  },
  {
   "cell_type": "code",
   "execution_count": null,
   "id": "1d4af86e",
   "metadata": {},
   "outputs": [
    {
     "name": "stdout",
     "output_type": "stream",
     "text": [
      "preparing /home/machineer/qdx/qs_batch_run_protein_prep/8FSU_nohet.pdb\n",
      "preparing /home/machineer/qdx/qs_batch_run_protein_prep/1B39_nohet.pdb\n",
      "preparing /home/machineer/qdx/qs_batch_run_protein_prep/4QXI_nohet.pdb\n",
      "2024-03-18 13:22:53,196 - rush - INFO - Argument 95db10da-651c-4af2-a151-d58263fe0052 is now ModuleInstanceStatus.RESOLVING\n",
      "2024-03-18 13:22:53,221 - rush - INFO - Argument 01960dc1-1437-4a72-90db-01180c10788c is now ModuleInstanceStatus.RESOLVING\n",
      "2024-03-18 13:22:53,224 - rush - INFO - Argument 4e6500ab-6a1d-476b-842d-9539f0f3a013 is now ModuleInstanceStatus.RESOLVING\n",
      "2024-03-18 13:22:53,252 - rush - INFO - Argument 155d40cd-a14c-44a5-83f8-8b00bbd9e14f is now ModuleInstanceStatus.RESOLVING\n",
      "2024-03-18 13:22:53,282 - rush - INFO - Argument 1de12415-b48c-45b7-9981-92ef9685daed is now ModuleInstanceStatus.RESOLVING\n",
      "2024-03-18 13:22:53,286 - rush - INFO - Argument adf7e0c4-b2a3-4dba-8fcd-d65113a716bf is now ModuleInstanceStatus.RESOLVING\n",
      "2024-03-18 13:23:07,384 - rush - INFO - Argument 95db10da-651c-4af2-a151-d58263fe0052 is now ModuleInstanceStatus.ADMITTED\n",
      "2024-03-18 13:23:07,400 - rush - INFO - Argument 01960dc1-1437-4a72-90db-01180c10788c is now ModuleInstanceStatus.ADMITTED\n",
      "2024-03-18 13:23:07,428 - rush - INFO - Argument 1de12415-b48c-45b7-9981-92ef9685daed is now ModuleInstanceStatus.ADMITTED\n",
      "2024-03-18 13:23:07,429 - rush - INFO - Argument 155d40cd-a14c-44a5-83f8-8b00bbd9e14f is now ModuleInstanceStatus.ADMITTED\n",
      "2024-03-18 13:23:07,517 - rush - INFO - Argument adf7e0c4-b2a3-4dba-8fcd-d65113a716bf is now ModuleInstanceStatus.ADMITTED\n",
      "2024-03-18 13:23:08,421 - rush - INFO - Argument 4e6500ab-6a1d-476b-842d-9539f0f3a013 is now ModuleInstanceStatus.ADMITTED\n",
      "2024-03-18 13:32:24,402 - rush - INFO - Argument 01960dc1-1437-4a72-90db-01180c10788c is now ModuleInstanceStatus.DISPATCHED\n",
      "2024-03-18 13:32:24,686 - rush - INFO - Argument 95db10da-651c-4af2-a151-d58263fe0052 is now ModuleInstanceStatus.DISPATCHED\n",
      "2024-03-18 13:32:25,484 - rush - INFO - Argument 01960dc1-1437-4a72-90db-01180c10788c is now ModuleInstanceStatus.RUNNING\n",
      "2024-03-18 13:32:25,771 - rush - INFO - Argument 95db10da-651c-4af2-a151-d58263fe0052 is now ModuleInstanceStatus.RUNNING\n",
      "2024-03-18 13:32:32,269 - rush - INFO - Argument 01960dc1-1437-4a72-90db-01180c10788c is now ModuleInstanceStatus.AWAITING_UPLOAD\n",
      "2024-03-18 13:32:32,519 - rush - INFO - Argument 95db10da-651c-4af2-a151-d58263fe0052 is now ModuleInstanceStatus.AWAITING_UPLOAD\n",
      "2024-03-18 13:33:02,482 - rush - INFO - Argument adf7e0c4-b2a3-4dba-8fcd-d65113a716bf is now ModuleInstanceStatus.DISPATCHED\n",
      "2024-03-18 13:33:02,562 - rush - INFO - Argument 1de12415-b48c-45b7-9981-92ef9685daed is now ModuleInstanceStatus.DISPATCHED\n",
      "2024-03-18 13:33:03,568 - rush - INFO - Argument adf7e0c4-b2a3-4dba-8fcd-d65113a716bf is now ModuleInstanceStatus.RUNNING\n",
      "2024-03-18 13:33:03,661 - rush - INFO - Argument 1de12415-b48c-45b7-9981-92ef9685daed is now ModuleInstanceStatus.RUNNING\n",
      "2024-03-18 13:33:09,267 - rush - INFO - Argument 1de12415-b48c-45b7-9981-92ef9685daed is now ModuleInstanceStatus.AWAITING_UPLOAD\n",
      "2024-03-18 13:33:10,309 - rush - INFO - Argument adf7e0c4-b2a3-4dba-8fcd-d65113a716bf is now ModuleInstanceStatus.AWAITING_UPLOAD\n",
      "2024-03-18 13:34:51,221 - rush - INFO - Argument 155d40cd-a14c-44a5-83f8-8b00bbd9e14f is now ModuleInstanceStatus.DISPATCHED\n",
      "2024-03-18 13:34:52,242 - rush - INFO - Argument 4e6500ab-6a1d-476b-842d-9539f0f3a013 is now ModuleInstanceStatus.DISPATCHED\n",
      "2024-03-18 13:34:53,352 - rush - INFO - Argument 4e6500ab-6a1d-476b-842d-9539f0f3a013 is now ModuleInstanceStatus.RUNNING\n",
      "2024-03-18 13:34:53,413 - rush - INFO - Argument 155d40cd-a14c-44a5-83f8-8b00bbd9e14f is now ModuleInstanceStatus.RUNNING\n",
      "2024-03-18 13:35:05,753 - rush - INFO - Argument 4e6500ab-6a1d-476b-842d-9539f0f3a013 is now ModuleInstanceStatus.AWAITING_UPLOAD\n",
      "2024-03-18 13:35:05,764 - rush - INFO - Argument 155d40cd-a14c-44a5-83f8-8b00bbd9e14f is now ModuleInstanceStatus.AWAITING_UPLOAD\n"
     ]
    },
    {
     "data": {
      "text/plain": [
       "[PosixPath('/home/machineer/qdx/qs_batch_run_protein_prep/objects/protein_8FSU_nohet_prepared.qdxf.json'),\n",
       " PosixPath('/home/machineer/qdx/qs_batch_run_protein_prep/objects/protein_1B39_nohet_prepared.qdxf.json'),\n",
       " PosixPath('/home/machineer/qdx/qs_batch_run_protein_prep/objects/protein_4QXI_nohet_prepared.qdxf.json'),\n",
       " PosixPath('/home/machineer/qdx/qs_batch_run_protein_prep/objects/protein_8FSU_nohet_prepared.pdb'),\n",
       " PosixPath('/home/machineer/qdx/qs_batch_run_protein_prep/objects/protein_1B39_nohet_prepared.pdb'),\n",
       " PosixPath('/home/machineer/qdx/qs_batch_run_protein_prep/objects/protein_4QXI_nohet_prepared.pdb')]"
      ]
     },
     "execution_count": null,
     "metadata": {},
     "output_type": "execute_result"
    }
   ],
   "source": [
    "import asyncio\n",
    "from glob import glob\n",
    "from pathlib import Path\n",
    "\n",
    "import rush\n",
    "\n",
    "client = await rush.build_provider_with_functions(\n",
    "    batch_tags=[\"batch_run_protein_prep\"]\n",
    ")\n",
    "\n",
    "protein_outputs = []\n",
    "for protein_path in glob(str(Path.cwd() / \"*.pdb\")):\n",
    "    print(\"preparing\", protein_path)\n",
    "    protein_path = Path(protein_path)\n",
    "    name = protein_path.stem\n",
    "\n",
    "    prepped_protein_qdxf, prepped_protein_pdb = await client.prepare_protein(\n",
    "        protein_path,\n",
    "        tags=[\"batch_run_protein_prep\"],\n",
    "        resources={\"gpus\": 1, \"storage\": \"10\", \"storage_units\": \"MB\"},\n",
    "    )\n",
    "    protein_outputs.append((name, prepped_protein_qdxf, prepped_protein_pdb))\n",
    "\n",
    "await asyncio.gather(\n",
    "    *(\n",
    "        [\n",
    "            output[1].download(filename=f\"protein_{output[0]}_prepared.qdxf.json\")\n",
    "            for output in protein_outputs\n",
    "        ]\n",
    "        + [\n",
    "            output[2].download(filename=f\"protein_{output[0]}_prepared.pdb\")\n",
    "            for output in protein_outputs\n",
    "        ]\n",
    "    )\n",
    ")"
   ]
  },
  {
   "cell_type": "code",
   "execution_count": null,
   "id": "e0fe4a60-310c-4ce0-9208-1b90f789b128",
   "metadata": {},
   "outputs": [
    {
     "name": "stdout",
     "output_type": "stream",
     "text": [
      "protein_1B39_nohet_prepared.pdb        protein_4QXI_nohet_prepared.qdxf.json\n",
      "protein_1B39_nohet_prepared.qdxf.json  protein_8FSU_nohet_prepared.pdb\n",
      "protein_4QXI_nohet_prepared.pdb        protein_8FSU_nohet_prepared.qdxf.json\n"
     ]
    }
   ],
   "source": [
    "OUTPUT_DIR = client.workspace / \"objects\"\n",
    "!ls $OUTPUT_DIR"
   ]
  },
  {
   "cell_type": "code",
   "execution_count": null,
   "id": "4e6b176b-06dd-41db-8f2b-79f92a4455b2",
   "metadata": {},
   "outputs": [],
   "source": []
  }
 ],
 "metadata": {
  "kernelspec": {
   "display_name": "Python 3 (ipykernel)",
   "language": "python",
   "name": "python3"
  },
  "language_info": {
   "name": ""
  }
 },
 "nbformat": 4,
 "nbformat_minor": 5
}
