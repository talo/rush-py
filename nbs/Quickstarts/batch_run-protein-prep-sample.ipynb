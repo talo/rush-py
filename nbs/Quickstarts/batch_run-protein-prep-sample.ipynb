{
 "cells": [
  {
   "cell_type": "markdown",
   "id": "fef8f457",
   "metadata": {},
   "source": [
    "# prepare_protein — Run a batch protein preperation in parallel"
   ]
  },
  {
   "cell_type": "markdown",
   "id": "2ed0ad9a",
   "metadata": {},
   "source": [
    "See [the tutorial](/Tutorials/batch_run-protein-prep.ipynb)."
   ]
  },
  {
   "cell_type": "code",
   "execution_count": null,
   "id": "efc2a112",
   "metadata": {},
   "outputs": [],
   "source": [
    "# |hide\n",
    "!rm -r ~/qdx/batch_run_protein_prep/ || true\n",
    "!mkdir -p ~/qdx/batch_run_protein_prep/\n",
    "%cd ~/qdx/batch_run_protein_prep/"
   ]
  },
  {
   "cell_type": "code",
   "execution_count": null,
   "id": "da7a39de",
   "metadata": {},
   "outputs": [],
   "source": [
    "# Get PDBs to work with - we use the pdb-tools cli here but you can download directly from rcsb.org\n",
    "!pdb_fetch 1b39 | pdb_delhetatm > 1B39_nohet.pdb\n",
    "!pdb_fetch 4qxi | pdb_delhetatm > 1B39_nohet.pdb\n",
    "!pdb_fetch 8fsu | pdb_delhetatm > 8FSU_nohet.pdb"
   ]
  },
  {
   "cell_type": "code",
   "execution_count": null,
   "id": "197903da",
   "metadata": {},
   "outputs": [],
   "source": [
    "# |hide\n",
    "import os\n",
    "import rush\n",
    "from pathlib import Path\n",
    "\n",
    "WORK_DIR = Path.home() / \"qdx\" / \"batch_run_protein_prep\"\n",
    "\n",
    "if WORK_DIR.exists():\n",
    "    client = rush.Provider(workspace=WORK_DIR)\n",
    "    await client.nuke(remote=False)\n",
    "\n",
    "os.makedirs(WORK_DIR, exist_ok=True)\n",
    "os.chdir(WORK_DIR)"
   ]
  },
  {
   "cell_type": "code",
   "execution_count": null,
   "id": "4d7c626c",
   "metadata": {},
   "outputs": [],
   "source": [
    "import rush\n",
    "\n",
    "# Get our client, for calling modules and using the rush API\n",
    "client = await rush.build_provider_with_functions(batch_tags=[\"batch_run_protein_prep\"])\n",
    "\n",
    "# |hide_line\n",
    "client = await rush.build_provider_with_functions(\n",
    "    workspace=WORK_DIR, batch_tags=[\"batch_run_protein_prep\"], restore_by_default=True\n",
    ")"
   ]
  },
  {
   "cell_type": "code",
   "execution_count": null,
   "id": "1d4af86e",
   "metadata": {},
   "outputs": [],
   "source": [
    "import asyncio\n",
    "from pathlib import Path\n",
    "from glob import glob\n",
    "\n",
    "protein_outputs = []\n",
    "for protein_path in glob(str(Path.cwd() / \"*.pdb\")):\n",
    "    protein_path = Path(protein_path)\n",
    "    name = protein_path.stem\n",
    "\n",
    "    (prepped_protein_qdxf, prepped_protein_pdb) = await client.prepare_protein(\n",
    "        protein_path,\n",
    "        tags=[\"batch_run_protein_prep\"],\n",
    "        target=\"NIX_SSH\",\n",
    "        resources={\n",
    "            \"gpus\": 1,\n",
    "            \"storage\": 100,\n",
    "            \"storage_units\": \"MB\",\n",
    "        },\n",
    "    )\n",
    "    protein_outputs.append((name, prepped_protein_qdxf, prepped_protein_pdb))\n",
    "\n",
    "await asyncio.gather(\n",
    "    *[output[1].download(filename=f\"protein_{output[0]}_prepared.qdxf.json\") for output in protein_outputs]\n",
    "    + [output[2].download(filename=f\"protein_{output[0]}_prepared.pdb\") for output in protein_outputs],\n",
    ")"
   ]
  }
 ],
 "metadata": {
  "kernelspec": {
   "display_name": "Python 3 (ipykernel)",
   "language": "python",
   "name": "python3"
  },
  "language_info": {
   "codemirror_mode": {
    "name": "ipython",
    "version": 3
   },
   "file_extension": ".py",
   "mimetype": "text/x-python",
   "name": "python",
   "nbconvert_exporter": "python",
   "pygments_lexer": "ipython3",
   "version": "3.11.6"
  }
 },
 "nbformat": 4,
 "nbformat_minor": 5
}
