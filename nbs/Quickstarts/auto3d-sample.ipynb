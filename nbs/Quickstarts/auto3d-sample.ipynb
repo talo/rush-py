{
 "cells": [
  {
   "cell_type": "markdown",
   "metadata": {},
   "source": [
    "# Auto3d — Generate 3d structures for a smiles string or tautomers for an sdf"
   ]
  },
  {
   "cell_type": "markdown",
   "metadata": {},
   "source": [
    "See [the tutorial](/Tutorials/auto3d_conformer_tautomer_generation.ipynb) for a more detailed explanation."
   ]
  },
  {
   "cell_type": "code",
   "execution_count": null,
   "metadata": {},
   "outputs": [],
   "source": [
    "# |hide\n",
    "import os\n",
    "import pathlib\n",
    "\n",
    "WORK_DIR = pathlib.Path(\"~/qdx/auto3d/\").expanduser()\n",
    "if WORK_DIR.exists():\n",
    "    !rm -r $WORK_DIR\n",
    "os.makedirs(WORK_DIR)\n",
    "os.chdir(WORK_DIR)\n",
    "YOUR_TOKEN = os.getenv(\"RUSH_TOKEN\")"
   ]
  },
  {
   "cell_type": "code",
   "execution_count": null,
   "metadata": {},
   "outputs": [
    {
     "name": "stdout",
     "output_type": "stream",
     "text": [
      "2024-04-10 15:25:04,967 - rush - INFO - Not restoring by default via default\n",
      "2024-04-10 15:25:06,223 - rush - INFO - Argument a5d83e7a-6608-4e71-8420-0313b37a0e9c is now ModuleInstanceStatus.RESOLVING\n",
      "2024-04-10 15:25:11,718 - rush - INFO - Argument a5d83e7a-6608-4e71-8420-0313b37a0e9c is now ModuleInstanceStatus.ADMITTED\n",
      "2024-04-10 15:25:14,972 - rush - INFO - Argument a5d83e7a-6608-4e71-8420-0313b37a0e9c is now ModuleInstanceStatus.DISPATCHED\n",
      "2024-04-10 15:25:16,182 - rush - INFO - Argument a5d83e7a-6608-4e71-8420-0313b37a0e9c is now ModuleInstanceStatus.RUNNING\n",
      "2024-04-10 15:38:14,935 - rush - INFO - Argument a5d83e7a-6608-4e71-8420-0313b37a0e9c is now ModuleInstanceStatus.AWAITING_UPLOAD\n",
      "[{\"topology\": {\"symbols\": [\"N\", \"C\", \"N\", \"C\", \"N\", \"C\", \"C\", \"N\", \"C\" ...\n"
     ]
    }
   ],
   "source": [
    "import rush\n",
    "\n",
    "os.environ[\"RUSH_TOKEN\"] = YOUR_TOKEN\n",
    "\n",
    "client = rush.build_blocking_provider_with_functions(\n",
    "    batch_tags=[\"auto3d_quickstart\"]\n",
    ")\n",
    "\n",
    "# Write a SMILES to disk\n",
    "LIGAND_FILE_PATH = client.workspace / \"ligand.smi\"\n",
    "LIGAND_FILE_PATH.write_text(\n",
    "    \"c1nc(c2c(n1)n(cn2)[C@H]3[C@@H]([C@@H]([C@H](O3)CO[P@@](=O)(O)O[P@](=O)(O)OP(=O)(O)O)O)O)N 1\"\n",
    ")\n",
    "\n",
    "ligand_sdf, ligand_qdxf = client.auto3d(\n",
    "    LIGAND_FILE_PATH,\n",
    "    \"smi\",\n",
    "    { \"k\": 3 },\n",
    "    resources={\"gpus\": 1, \"storage\": 5, \"storage_units\": \"MB\"},\n",
    ")\n",
    "\n",
    "print(ligand_qdxf.download().read_text()[0:70], \"...\")"
   ]
  },
  {
   "cell_type": "code",
   "execution_count": null,
   "metadata": {},
   "outputs": [],
   "source": []
  }
 ],
 "metadata": {
  "kernelspec": {
   "display_name": "python3",
   "language": "python",
   "name": "python3"
  }
 },
 "nbformat": 4,
 "nbformat_minor": 4
}
