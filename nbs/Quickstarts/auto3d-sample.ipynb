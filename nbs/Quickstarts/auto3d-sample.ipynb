{
 "cells": [
  {
   "cell_type": "markdown",
   "metadata": {},
   "source": [
    "# Auto3d — Generate 3d structures for a smiles string or tautomers for an sdf"
   ]
  },
  {
   "cell_type": "markdown",
   "metadata": {},
   "source": [
    "See [the tutorial](/Tutorials/auto3d_conformer_tautomer_generation.ipynb) for a more detailed explanation."
   ]
  },
  {
   "cell_type": "code",
   "execution_count": null,
   "metadata": {},
   "outputs": [],
   "source": [
    "# |hide\n",
    "import os\n",
    "import pathlib\n",
    "\n",
    "WORK_DIR = pathlib.Path(\"~/qdx/auto3d/\").expanduser()\n",
    "if WORK_DIR.exists():\n",
    "    !rm -r $WORK_DIR\n",
    "os.makedirs(WORK_DIR)\n",
    "os.chdir(WORK_DIR)\n",
    "YOUR_TOKEN = os.getenv(\"RUSH_TOKEN\")"
   ]
  },
  {
   "cell_type": "code",
   "execution_count": null,
   "metadata": {},
   "outputs": [
    {
     "name": "stdout",
     "output_type": "stream",
     "text": [
      "2024-05-07 21:39:04,787 - rush - INFO - Argument caa599c0-7ecc-44d9-84f8-b53e54309b60 is now ModuleInstanceStatus.RESOLVING\n",
      "2024-05-07 21:39:06,003 - rush - INFO - Argument caa599c0-7ecc-44d9-84f8-b53e54309b60 is now ModuleInstanceStatus.ADMITTED\n",
      "2024-05-07 21:39:09,716 - rush - INFO - Argument caa599c0-7ecc-44d9-84f8-b53e54309b60 is now ModuleInstanceStatus.DISPATCHED\n",
      "2024-05-07 21:39:11,151 - rush - INFO - Argument caa599c0-7ecc-44d9-84f8-b53e54309b60 is now ModuleInstanceStatus.RUNNING\n",
      "2024-05-07 21:57:08,263 - rush - INFO - Argument caa599c0-7ecc-44d9-84f8-b53e54309b60 is now ModuleInstanceStatus.AWAITING_UPLOAD\n",
      "[\n",
      "  {\n",
      "    \"topology\": {\n",
      "      \"version\": \"V1\",\n",
      "      \"symbols\": [\n",
      "     ...\n"
     ]
    }
   ],
   "source": [
    "import rush\n",
    "\n",
    "os.environ[\"RUSH_TOKEN\"] = YOUR_TOKEN\n",
    "\n",
    "client = rush.build_blocking_provider_with_functions(\n",
    "    batch_tags=[\"auto3d_quickstart\"]\n",
    ")\n",
    "\n",
    "# Write a SMILES to disk\n",
    "LIGAND_FILE_PATH = client.workspace / \"ligand.smi\"\n",
    "LIGAND_FILE_PATH.write_text(\n",
    "    \"c1nc(c2c(n1)n(cn2)[C@H]3[C@@H]([C@@H]([C@H](O3)CO[P@@](=O)(O)O[P@](=O)(O)OP(=O)(O)O)O)O)N 1\"\n",
    ")\n",
    "\n",
    "ligand_sdf, ligand_qdxf = client.auto3d(\n",
    "    LIGAND_FILE_PATH,\n",
    "    \"smi\",\n",
    "    {\"k\": 2, \"use_gpu\": True},\n",
    "    resources={\"gpus\": 1, \"storage\": 5, \"storage_units\": \"MB\"},\n",
    ")\n",
    "\n",
    "print(ligand_qdxf.download().read_text()[0:70], \"...\")"
   ]
  },
  {
   "cell_type": "code",
   "execution_count": null,
   "metadata": {},
   "outputs": [],
   "source": []
  }
 ],
 "metadata": {
  "kernelspec": {
   "display_name": "python3",
   "language": "python",
   "name": "python3"
  }
 },
 "nbformat": 4,
 "nbformat_minor": 4
}
