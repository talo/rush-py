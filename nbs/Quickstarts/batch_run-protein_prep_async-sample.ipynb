{
 "cells": [
  {
   "cell_type": "markdown",
   "id": "fef8f457",
   "metadata": {},
   "source": [
    "# prepare_protein — Run a batch protein preperation in parallel"
   ]
  },
  {
   "cell_type": "markdown",
   "id": "2ed0ad9a",
   "metadata": {},
   "source": [
    "See [the tutorial](/Tutorials/batch_run-protein-prep.ipynb).\n",
    "\n",
    "This quickstart uses the async functionality to download files in parallel. If running outside of a Juptyter notebook, you will need to wrap the code in an async main function like this: \n",
    "``` python\n",
    "import asyncio\n",
    "\n",
    "async def main():\n",
    "    #your code here\n",
    "    \n",
    "asyncio.run(main())\n",
    "```"
   ]
  },
  {
   "cell_type": "code",
   "execution_count": null,
   "id": "3419dc68-e023-4c16-bbc8-f2c9d6979b09",
   "metadata": {},
   "outputs": [],
   "source": [
    "# |hide\n",
    "import os\n",
    "import pathlib\n",
    "\n",
    "WORK_DIR = pathlib.Path(\"~/qdx/qs_batch_run_protein_prep\").expanduser()\n",
    "if WORK_DIR.exists():\n",
    "    !rm -r $WORK_DIR\n",
    "os.makedirs(WORK_DIR, exist_ok=True)\n",
    "os.chdir(WORK_DIR)"
   ]
  },
  {
   "cell_type": "code",
   "execution_count": null,
   "id": "da7a39de",
   "metadata": {},
   "outputs": [],
   "source": [
    "# Get PDBs to work with\n",
    "# We use the pdb-tools cli here but you can download directly from rcsb.org\n",
    "!pdb_fetch '1b39' | pdb_delhetatm > '1B39_nohet.pdb'\n",
    "!pdb_fetch '4qxi' | pdb_delhetatm > '4QXI_nohet.pdb'\n",
    "!pdb_fetch '8fsu' | pdb_delhetatm > '8FSU_nohet.pdb'"
   ]
  },
  {
   "cell_type": "code",
   "execution_count": null,
   "id": "1d4af86e",
   "metadata": {},
   "outputs": [
    {
     "name": "stdout",
     "output_type": "stream",
     "text": [
      "2024-04-10 15:46:57,187 - rush - INFO - Not restoring by default via default\n",
      "preparing /home/machineer/qdx/qs_batch_run_protein_prep/8FSU_nohet.pdb\n",
      "preparing /home/machineer/qdx/qs_batch_run_protein_prep/1B39_nohet.pdb\n",
      "preparing /home/machineer/qdx/qs_batch_run_protein_prep/4QXI_nohet.pdb\n",
      "2024-04-10 15:47:03,897 - rush - INFO - Argument feae45e5-6d88-465f-bc71-722848c6d06e is now ModuleInstanceStatus.RESOLVING\n",
      "2024-04-10 15:47:03,961 - rush - INFO - Argument 75bb4f40-0ce6-4093-8add-475d1f38e226 is now ModuleInstanceStatus.RESOLVING\n",
      "2024-04-10 15:47:03,992 - rush - INFO - Argument 71189844-b1a3-40c3-8e2e-a2e4d2eace28 is now ModuleInstanceStatus.RESOLVING\n",
      "2024-04-10 15:47:04,004 - rush - INFO - Argument 770a9c09-030a-4d12-8e19-252787039875 is now ModuleInstanceStatus.RESOLVING\n",
      "2024-04-10 15:47:04,035 - rush - INFO - Argument d280af91-5816-4f32-8120-e6e2ede8b4b1 is now ModuleInstanceStatus.RESOLVING\n",
      "2024-04-10 15:47:04,045 - rush - INFO - Argument ea6e2e0f-aa8f-4d20-9192-c2f099859878 is now ModuleInstanceStatus.RESOLVING\n",
      "2024-04-10 15:47:05,066 - rush - INFO - Argument 71189844-b1a3-40c3-8e2e-a2e4d2eace28 is now ModuleInstanceStatus.ADMITTED\n",
      "2024-04-10 15:47:05,097 - rush - INFO - Argument 770a9c09-030a-4d12-8e19-252787039875 is now ModuleInstanceStatus.ADMITTED\n",
      "2024-04-10 15:47:05,118 - rush - INFO - Argument d280af91-5816-4f32-8120-e6e2ede8b4b1 is now ModuleInstanceStatus.ADMITTED\n",
      "2024-04-10 15:47:06,082 - rush - INFO - Argument feae45e5-6d88-465f-bc71-722848c6d06e is now ModuleInstanceStatus.ADMITTED\n",
      "2024-04-10 15:47:08,387 - rush - INFO - Argument 75bb4f40-0ce6-4093-8add-475d1f38e226 is now ModuleInstanceStatus.ADMITTED\n",
      "2024-04-10 15:47:08,438 - rush - INFO - Argument ea6e2e0f-aa8f-4d20-9192-c2f099859878 is now ModuleInstanceStatus.ADMITTED\n",
      "2024-04-10 15:47:09,395 - rush - INFO - Argument feae45e5-6d88-465f-bc71-722848c6d06e is now ModuleInstanceStatus.DISPATCHED\n",
      "2024-04-10 15:47:09,471 - rush - INFO - Argument 71189844-b1a3-40c3-8e2e-a2e4d2eace28 is now ModuleInstanceStatus.DISPATCHED\n",
      "2024-04-10 15:47:10,492 - rush - INFO - Argument feae45e5-6d88-465f-bc71-722848c6d06e is now ModuleInstanceStatus.RUNNING\n",
      "2024-04-10 15:47:10,560 - rush - INFO - Argument 71189844-b1a3-40c3-8e2e-a2e4d2eace28 is now ModuleInstanceStatus.RUNNING\n",
      "2024-04-10 15:47:11,643 - rush - INFO - Argument 75bb4f40-0ce6-4093-8add-475d1f38e226 is now ModuleInstanceStatus.DISPATCHED\n",
      "2024-04-10 15:47:11,744 - rush - INFO - Argument ea6e2e0f-aa8f-4d20-9192-c2f099859878 is now ModuleInstanceStatus.DISPATCHED\n",
      "2024-04-10 15:47:12,750 - rush - INFO - Argument 75bb4f40-0ce6-4093-8add-475d1f38e226 is now ModuleInstanceStatus.RUNNING\n",
      "2024-04-10 15:47:12,847 - rush - INFO - Argument ea6e2e0f-aa8f-4d20-9192-c2f099859878 is now ModuleInstanceStatus.RUNNING\n",
      "2024-04-10 15:47:16,063 - rush - INFO - Argument feae45e5-6d88-465f-bc71-722848c6d06e is now ModuleInstanceStatus.AWAITING_UPLOAD\n",
      "2024-04-10 15:47:16,121 - rush - INFO - Argument 71189844-b1a3-40c3-8e2e-a2e4d2eace28 is now ModuleInstanceStatus.AWAITING_UPLOAD\n",
      "2024-04-10 15:47:24,979 - rush - INFO - Argument 75bb4f40-0ce6-4093-8add-475d1f38e226 is now ModuleInstanceStatus.AWAITING_UPLOAD\n",
      "2024-04-10 15:47:25,046 - rush - INFO - Argument ea6e2e0f-aa8f-4d20-9192-c2f099859878 is now ModuleInstanceStatus.AWAITING_UPLOAD\n",
      "2024-04-10 15:47:25,820 - rush - INFO - Argument d280af91-5816-4f32-8120-e6e2ede8b4b1 is now ModuleInstanceStatus.DISPATCHED\n",
      "2024-04-10 15:47:25,838 - rush - INFO - Argument 770a9c09-030a-4d12-8e19-252787039875 is now ModuleInstanceStatus.DISPATCHED\n",
      "2024-04-10 15:47:26,919 - rush - INFO - Argument 770a9c09-030a-4d12-8e19-252787039875 is now ModuleInstanceStatus.RUNNING\n",
      "2024-04-10 15:47:26,920 - rush - INFO - Argument d280af91-5816-4f32-8120-e6e2ede8b4b1 is now ModuleInstanceStatus.RUNNING\n",
      "2024-04-10 15:47:33,545 - rush - INFO - Argument d280af91-5816-4f32-8120-e6e2ede8b4b1 is now ModuleInstanceStatus.AWAITING_UPLOAD\n",
      "2024-04-10 15:47:33,555 - rush - INFO - Argument 770a9c09-030a-4d12-8e19-252787039875 is now ModuleInstanceStatus.AWAITING_UPLOAD\n"
     ]
    },
    {
     "data": {
      "text/plain": [
       "[PosixPath('/home/machineer/qdx/qs_batch_run_protein_prep/objects/protein_8FSU_nohet_prepared.qdxf.json'),\n",
       " PosixPath('/home/machineer/qdx/qs_batch_run_protein_prep/objects/protein_1B39_nohet_prepared.qdxf.json'),\n",
       " PosixPath('/home/machineer/qdx/qs_batch_run_protein_prep/objects/protein_4QXI_nohet_prepared.qdxf.json'),\n",
       " PosixPath('/home/machineer/qdx/qs_batch_run_protein_prep/objects/protein_8FSU_nohet_prepared.pdb'),\n",
       " PosixPath('/home/machineer/qdx/qs_batch_run_protein_prep/objects/protein_1B39_nohet_prepared.pdb'),\n",
       " PosixPath('/home/machineer/qdx/qs_batch_run_protein_prep/objects/protein_4QXI_nohet_prepared.pdb')]"
      ]
     },
     "execution_count": null,
     "metadata": {},
     "output_type": "execute_result"
    }
   ],
   "source": [
    "import asyncio\n",
    "from glob import glob\n",
    "from pathlib import Path\n",
    "\n",
    "import rush\n",
    "\n",
    "client = await rush.build_provider_with_functions(\n",
    "    batch_tags=[\"batch_run_protein_prep\"]\n",
    ")\n",
    "\n",
    "protein_outputs = []\n",
    "for protein_path in glob(str(Path.cwd() / \"*.pdb\")):\n",
    "    print(\"preparing\", protein_path)\n",
    "    protein_path = Path(protein_path)\n",
    "    name = protein_path.stem\n",
    "\n",
    "    prepped_protein_qdxf, prepped_protein_pdb = await client.prepare_protein(\n",
    "        protein_path,\n",
    "        None,\n",
    "        None,\n",
    "        tags=[\"batch_run_protein_prep\"],\n",
    "        resources={\"gpus\": 1, \"storage\": \"10\", \"storage_units\": \"MB\"},\n",
    "    )\n",
    "    protein_outputs.append((name, prepped_protein_qdxf, prepped_protein_pdb))\n",
    "\n",
    "await asyncio.gather(\n",
    "    *(\n",
    "        [\n",
    "            output[1].download(filename=f\"protein_{output[0]}_prepared.qdxf.json\")\n",
    "            for output in protein_outputs\n",
    "        ]\n",
    "        + [\n",
    "            output[2].download(filename=f\"protein_{output[0]}_prepared.pdb\")\n",
    "            for output in protein_outputs\n",
    "        ]\n",
    "    )\n",
    ")"
   ]
  },
  {
   "cell_type": "code",
   "execution_count": null,
   "id": "e0fe4a60-310c-4ce0-9208-1b90f789b128",
   "metadata": {},
   "outputs": [
    {
     "name": "stdout",
     "output_type": "stream",
     "text": [
      "protein_1B39_nohet_prepared.pdb        protein_4QXI_nohet_prepared.qdxf.json\n",
      "protein_1B39_nohet_prepared.qdxf.json  protein_8FSU_nohet_prepared.pdb\n",
      "protein_4QXI_nohet_prepared.pdb        protein_8FSU_nohet_prepared.qdxf.json\n"
     ]
    }
   ],
   "source": [
    "OUTPUT_DIR = client.workspace / \"objects\"\n",
    "!ls $OUTPUT_DIR"
   ]
  },
  {
   "cell_type": "code",
   "execution_count": null,
   "id": "4e6b176b-06dd-41db-8f2b-79f92a4455b2",
   "metadata": {},
   "outputs": [],
   "source": []
  }
 ],
 "metadata": {
  "kernelspec": {
   "display_name": "python3",
   "language": "python",
   "name": "python3"
  }
 },
 "nbformat": 4,
 "nbformat_minor": 5
}
