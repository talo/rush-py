{
 "cells": [
  {
   "cell_type": "markdown",
   "metadata": {},
   "source": [
    "# Docking with Gnina\n",
    "\n",
    "In this quickstart guide we will see how to dock a small molecule into a protein using the Gnina module. "
   ]
  },
  {
   "cell_type": "markdown",
   "metadata": {},
   "source": [
    "# Install\n",
    "\n",
    "First, install the following modules via the command-line (we require Python ≥ 3.9):"
   ]
  },
  {
   "cell_type": "code",
   "execution_count": 2,
   "metadata": {
    "vscode": {
     "languageId": "shellscript"
    }
   },
   "outputs": [
    {
     "name": "stdout",
     "output_type": "stream",
     "text": [
      "Requirement already satisfied: rush-py in /opt/miniconda3/envs/openmm-env/lib/python3.12/site-packages (3.0.2)\n",
      "Requirement already satisfied: pdb-tools in /opt/miniconda3/envs/openmm-env/lib/python3.12/site-packages (2.5.0)\n",
      "Requirement already satisfied: py3Dmol in /opt/miniconda3/envs/openmm-env/lib/python3.12/site-packages (2.1.0)\n",
      "Requirement already satisfied: aiofiles<24.0.0,>=23.2.1 in /opt/miniconda3/envs/openmm-env/lib/python3.12/site-packages (from rush-py) (23.2.1)\n",
      "Requirement already satisfied: httpx<0.27.0,>=0.26.0 in /opt/miniconda3/envs/openmm-env/lib/python3.12/site-packages (from rush-py) (0.26.0)\n",
      "Requirement already satisfied: nest-asyncio<2.0.0,>=1.6.0 in /opt/miniconda3/envs/openmm-env/lib/python3.12/site-packages (from rush-py) (1.6.0)\n",
      "Requirement already satisfied: pydantic<3.0.0,>=2.6.0 in /opt/miniconda3/envs/openmm-env/lib/python3.12/site-packages (from rush-py) (2.7.1)\n",
      "Requirement already satisfied: typing-extensions<5.0.0,>=4.9.0 in /opt/miniconda3/envs/openmm-env/lib/python3.12/site-packages (from rush-py) (4.11.0)\n",
      "Requirement already satisfied: websockets<13,>=12 in /opt/miniconda3/envs/openmm-env/lib/python3.12/site-packages (from rush-py) (12.0)\n",
      "Requirement already satisfied: anyio in /opt/miniconda3/envs/openmm-env/lib/python3.12/site-packages (from httpx<0.27.0,>=0.26.0->rush-py) (4.3.0)\n",
      "Requirement already satisfied: certifi in /opt/miniconda3/envs/openmm-env/lib/python3.12/site-packages (from httpx<0.27.0,>=0.26.0->rush-py) (2024.2.2)\n",
      "Requirement already satisfied: httpcore==1.* in /opt/miniconda3/envs/openmm-env/lib/python3.12/site-packages (from httpx<0.27.0,>=0.26.0->rush-py) (1.0.5)\n",
      "Requirement already satisfied: idna in /opt/miniconda3/envs/openmm-env/lib/python3.12/site-packages (from httpx<0.27.0,>=0.26.0->rush-py) (3.7)\n",
      "Requirement already satisfied: sniffio in /opt/miniconda3/envs/openmm-env/lib/python3.12/site-packages (from httpx<0.27.0,>=0.26.0->rush-py) (1.3.1)\n",
      "Requirement already satisfied: h11<0.15,>=0.13 in /opt/miniconda3/envs/openmm-env/lib/python3.12/site-packages (from httpcore==1.*->httpx<0.27.0,>=0.26.0->rush-py) (0.14.0)\n",
      "Requirement already satisfied: annotated-types>=0.4.0 in /opt/miniconda3/envs/openmm-env/lib/python3.12/site-packages (from pydantic<3.0.0,>=2.6.0->rush-py) (0.6.0)\n",
      "Requirement already satisfied: pydantic-core==2.18.2 in /opt/miniconda3/envs/openmm-env/lib/python3.12/site-packages (from pydantic<3.0.0,>=2.6.0->rush-py) (2.18.2)\n",
      "Note: you may need to restart the kernel to use updated packages.\n"
     ]
    }
   ],
   "source": [
    "pip install rush-py pdb-tools py3Dmol"
   ]
  },
  {
   "cell_type": "markdown",
   "metadata": {},
   "source": [
    "# Full Code"
   ]
  },
  {
   "cell_type": "code",
   "execution_count": 4,
   "metadata": {},
   "outputs": [
    {
     "ename": "ValueError",
     "evalue": "too many values to unpack (expected 1)",
     "output_type": "error",
     "traceback": [
      "\u001b[0;31m---------------------------------------------------------------------------\u001b[0m",
      "\u001b[0;31mValueError\u001b[0m                                Traceback (most recent call last)",
      "Cell \u001b[0;32mIn[4], line 36\u001b[0m\n\u001b[1;32m     30\u001b[0m ligand_smi_filename\u001b[38;5;241m.\u001b[39mwrite_text(\n\u001b[1;32m     31\u001b[0m     \u001b[38;5;124m\"\u001b[39m\u001b[38;5;124mc1nc(c2c(n1)n(cn2)[C@H]3[C@@H]([C@@H]([C@H](O3)CO[P@@](=O)(O)O[P@](=O)(O)OP(=O)(O)O)O)O)N 1\u001b[39m\u001b[38;5;124m\"\u001b[39m\n\u001b[1;32m     32\u001b[0m )\n\u001b[1;32m     34\u001b[0m \u001b[38;5;66;03m# run Auto3D which will give us 3 conformers of our ligand\u001b[39;00m\n\u001b[1;32m     35\u001b[0m \u001b[38;5;66;03m# in the SDF format and the QDXF format\u001b[39;00m\n\u001b[0;32m---> 36\u001b[0m ligand_sdf_obj, \u001b[38;5;241m=\u001b[39m client\u001b[38;5;241m.\u001b[39mauto3d(\n\u001b[1;32m     37\u001b[0m     ligand_smi_filename, \u001b[38;5;66;03m# the filename that stores our ligand\u001b[39;00m\n\u001b[1;32m     38\u001b[0m     \u001b[38;5;124m\"\u001b[39m\u001b[38;5;124msmi\u001b[39m\u001b[38;5;124m\"\u001b[39m,               \u001b[38;5;66;03m# the format of the file\u001b[39;00m\n\u001b[1;32m     39\u001b[0m     { \u001b[38;5;124m\"\u001b[39m\u001b[38;5;124mk\u001b[39m\u001b[38;5;124m\"\u001b[39m: \u001b[38;5;241m3\u001b[39m },          \u001b[38;5;66;03m# the number of conformers to generate\u001b[39;00m\n\u001b[1;32m     40\u001b[0m     resources\u001b[38;5;241m=\u001b[39m{\n\u001b[1;32m     41\u001b[0m         \u001b[38;5;124m\"\u001b[39m\u001b[38;5;124mgpus\u001b[39m\u001b[38;5;124m\"\u001b[39m: \u001b[38;5;241m1\u001b[39m,            \u001b[38;5;66;03m# the number of GPUs to use\u001b[39;00m\n\u001b[1;32m     42\u001b[0m         \u001b[38;5;124m\"\u001b[39m\u001b[38;5;124mstorage\u001b[39m\u001b[38;5;124m\"\u001b[39m: \u001b[38;5;241m5\u001b[39m,         \u001b[38;5;66;03m# the amount of storage to use\u001b[39;00m\n\u001b[1;32m     43\u001b[0m         \u001b[38;5;124m\"\u001b[39m\u001b[38;5;124mstorage_units\u001b[39m\u001b[38;5;124m\"\u001b[39m: \u001b[38;5;124m\"\u001b[39m\u001b[38;5;124mMB\u001b[39m\u001b[38;5;124m\"\u001b[39m \u001b[38;5;66;03m# the units of storage (here we are using megabytes)\u001b[39;00m\n\u001b[1;32m     44\u001b[0m     }\n\u001b[1;32m     45\u001b[0m )\n\u001b[1;32m     47\u001b[0m \u001b[38;5;66;03m# run Auto3D which will give us 3 conformers of our ligand\u001b[39;00m\n\u001b[1;32m     48\u001b[0m \u001b[38;5;66;03m# in the SDF format and the QDXF format\u001b[39;00m\n\u001b[1;32m     49\u001b[0m docked_pdb_obj, \u001b[38;5;241m=\u001b[39m client\u001b[38;5;241m.\u001b[39mgnina(\n\u001b[1;32m     50\u001b[0m     \u001b[38;5;66;03m# protein\u001b[39;00m\n\u001b[1;32m     51\u001b[0m     protein_pdb_obj,\n\u001b[0;32m   (...)\u001b[0m\n\u001b[1;32m     61\u001b[0m     },\n\u001b[1;32m     62\u001b[0m )\n",
      "\u001b[0;31mValueError\u001b[0m: too many values to unpack (expected 1)"
     ]
    }
   ],
   "source": [
    "from pdbtools import (\n",
    "    pdb_delhetatm,\n",
    "    pdb_fetch,\n",
    "    pdb_selchain,\n",
    ")\n",
    "import py3Dmol\n",
    "import rush\n",
    "\n",
    "# create the rush client\n",
    "client = rush.build_blocking_provider_with_functions(access_token = \"PUT_YOUR_TOKEN_HERE\")\n",
    "\n",
    "# download the PDB structure using its RCSB ID\n",
    "structure = list(pdb_fetch.fetch_structure(\"1B39\"))\n",
    "\n",
    "# select the protein chain and save it to a file\n",
    "protein = pdb_delhetatm.remove_hetatm(pdb_selchain.select_chain(structure, \"A\"))\n",
    "with open(client.workspace / \"protein.pdb\", \"w\") as f:\n",
    "    for line in protein:\n",
    "        f.write(str(line))\n",
    "\n",
    "# run protein preparation which will use a combination of\n",
    "# PDBFixer and PDB2PQR to prepare the protein\n",
    "_, prepared_protein_pdb_handle = client.prepare_protein(\n",
    "    client.workspace / \"protein.pdb\", None, None\n",
    ")\n",
    "\n",
    "# setup an SMI file that contains the SMILES string of our ligand\n",
    "ligand_smi_filename = client.workspace / \"ligand.smi\"\n",
    "ligand_smi_filename.write_text(\n",
    "    \"c1nc(c2c(n1)n(cn2)[C@H]3[C@@H]([C@@H]([C@H](O3)CO[P@@](=O)(O)O[P@](=O)(O)OP(=O)(O)O)O)O)N 1\"\n",
    ")\n",
    "\n",
    "# run Auto3D which will give us 3 conformers of our ligand\n",
    "# in the SDF format and the QDXF format\n",
    "ligand_sdf_handle, _ = client.auto3d(\n",
    "    ligand_smi_filename, # the filename that stores our ligand\n",
    "    \"smi\",               # the format of the file\n",
    "    { \"k\": 3 },          # the number of conformers to generate\n",
    "    resources={\n",
    "        \"gpus\": 1,            # the number of GPUs to use\n",
    "        \"storage\": 5,         # the amount of storage to use\n",
    "        \"storage_units\": \"MB\" # the units of storage (here we are using megabytes)\n",
    "    }\n",
    ")\n",
    "\n",
    "# run Auto3D which will give us 3 conformers of our ligand\n",
    "# in the SDF format and the QDXF format\n",
    "poses_sdf_handle, scores = client.gnina_pdb(\n",
    "    protein_pdb_handle,\n",
    "    ligand_sdf_handle,\n",
    "    \"sdf\",\n",
    "    # resources\n",
    "    resources={\n",
    "        \"gpus\": 1,            # the number of GPUs to use\n",
    "        \"storage\": 10,        # the amount of storage to use\n",
    "        \"storage_units\": \"MB\" # the units of storage (here we are using megabytes)\n",
    "    },\n",
    ")\n",
    "\n",
    "# print the status of all jobs\n",
    "print(client.status())\n",
    "\n",
    "# download the results (this will block until the Gnina job has completed)\n",
    "protein_pdb = protein_pdb_handle.download()\n",
    "poses_sdf = poses_sdf_handle.download()\n",
    "\n",
    "# visualize the results in 3D\n",
    "view = py3Dmol.view()\n",
    "view.addModel(protein_pdb.read(), \"pdb\")\n",
    "view.addModel(poses_sdf.read(), \"sdf\")\n",
    "view.setStyle({\"cartoon\": {\"color\": \"spectrum\"}})\n",
    "view.zoomTo()\n",
    "view.show()"
   ]
  }
 ],
 "metadata": {
  "kernelspec": {
   "display_name": "openmm-env",
   "language": "python",
   "name": "python3"
  },
  "language_info": {
   "codemirror_mode": {
    "name": "ipython",
    "version": 3
   },
   "file_extension": ".py",
   "mimetype": "text/x-python",
   "name": "python",
   "nbconvert_exporter": "python",
   "pygments_lexer": "ipython3",
   "version": "3.12.2"
  }
 },
 "nbformat": 4,
 "nbformat_minor": 2
}
