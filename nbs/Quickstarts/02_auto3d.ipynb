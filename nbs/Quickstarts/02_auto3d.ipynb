{
 "cells": [
  {
   "cell_type": "markdown",
   "metadata": {},
   "source": [
    "# Auto3D"
   ]
  },
  {
   "cell_type": "markdown",
   "metadata": {},
   "source": [
    "# Full Code"
   ]
  },
  {
   "cell_type": "code",
   "execution_count": null,
   "metadata": {},
   "outputs": [],
   "source": [
    "import rush\n",
    "\n",
    "client = rush.build_blocking_provider_with_functions(\n",
    "    access_token=\"PUT_YOUR_TOKEN_HERE\"\n",
    ")\n",
    "\n",
    "# setup an SMI file that contains the SMILES string of our ligand\n",
    "ligand_smi_filename = client.workspace / \"ligand.smi\"\n",
    "ligand_smi_filename.write_text(\n",
    "    \"c1nc(c2c(n1)n(cn2)[C@H]3[C@@H]([C@@H]([C@H](O3)CO[P@@](=O)(O)O[P@](=O)(O)OP(=O)(O)O)O)O)N 1\"\n",
    ")\n",
    "\n",
    "# run Auto3D which will give us 3 conformers of our ligand\n",
    "# in the SDF format and the QDXF format\n",
    "ligand_sdf_handle, ligand_qdxf_handle = client.auto3d(\n",
    "    ligand_smi_filename,  # the filename that stores our ligand\n",
    "    \"smi\",  # the format of the file\n",
    "    {\n",
    "        \"k\": 3,  # number of conformers to generate\n",
    "        \"use_gpu\": True,  # use GPU for faster compute\n",
    "    },\n",
    "    resources={\n",
    "        \"gpus\": 1,  # the number of GPUs to use\n",
    "        \"storage\": 5,  # the amount of storage to use\n",
    "        \"storage_units\": \"MB\",  # the units of storage (here we are using megabytes)\n",
    "    },\n",
    ")\n",
    "\n",
    "# print the status of all jobs\n",
    "print(client.status())\n",
    "\n",
    "# download the results (this will block until the Auto3D job has completed)\n",
    "ligand_sdf = ligand_sdf_handle.download()\n",
    "ligand_qdxf = ligand_qdxf_handle.download()\n",
    "\n",
    "print(ligand_sdf.read_text())  # print the SDF version of the result\n",
    "print(ligand_qdxf.read_text())  # print the QDXF version of the result"
   ]
  }
 ],
 "metadata": {
  "language_info": {
   "name": "python"
  }
 },
 "nbformat": 4,
 "nbformat_minor": 2
}
