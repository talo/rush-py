{
 "cells": [
  {
   "cell_type": "markdown",
   "metadata": {},
   "source": [
    "# Auto3D"
   ]
  },
  {
   "cell_type": "markdown",
   "metadata": {},
   "source": [
    "Auto3D is a module for generating low-energy conformers from SMILES/SDF. Over the development process, we also added the APIs for computing single point energies, optimizing geometries, find stable tautomers. Please cite “Auto3D: Automatic Generation of the Low-Energy 3D Structures with ANI Neural Network Potentials”. https://doi.org/10.1021/acs.jcim.2c00817\""
   ]
  },
  {
   "cell_type": "markdown",
   "metadata": {},
   "source": [
    "# Full Code"
   ]
  },
  {
   "cell_type": "code",
   "execution_count": null,
   "metadata": {},
   "outputs": [],
   "source": [
    "# |hide\n",
    "# hidden setup for the notebook\n",
    "import os\n",
    "import pathlib\n",
    "\n",
    "WORK_DIR = pathlib.Path(\"~/qdx/auto3d_quickstart\").expanduser()\n",
    "if WORK_DIR.exists():\n",
    "    !rm -r $WORK_DIR\n",
    "os.makedirs(WORK_DIR, exist_ok=True)\n",
    "# swap into clean workdir so that our tests are deterministic\n",
    "os.chdir(WORK_DIR)\n",
    "PUT_YOUR_TOKEN_HERE = os.environ[\"RUSH_TOKEN\"]\n",
    "PUT_YOUR_PREFERRED_WORKING_DIRECTORY_HERE = WORK_DIR"
   ]
  },
  {
   "cell_type": "code",
   "execution_count": null,
   "metadata": {},
   "outputs": [
    {
     "name": "stdout",
     "output_type": "stream",
     "text": [
      "2024-05-13 14:10:32,457 - rush - INFO - Restoring by default via env\n",
      "2024-05-13 14:10:35,656 - rush - INFO - Trying to restore job with tags: ['auto3d_quickstart'] and path: github:talo/tengu-auto3d/05fbc5014bf4e7f2890e70428c62234cdb902336#auto3d_tengu\n",
      "2024-05-13 14:10:35,771 - rush - INFO - Restoring job from previous run with id fc079059-cad1-40cd-b08e-27bb3242c198\n",
      "{}\n",
      "1\n",
      "     RDKit          3D\n",
      "\n",
      " 47 49  0  0  0  0  0  0  0  0999 V2000\n",
      "   -2.9826    3.5317    1.6056 N  \n",
      "[\n",
      "  {\n",
      "    \"topology\": {\n",
      "      \"version\": \"V1\",\n",
      "      \"symbols\": [\n",
      "        \"N\",\n",
      "        \"C\",\n",
      "        \n"
     ]
    }
   ],
   "source": [
    "import rush\n",
    "\n",
    "client = rush.build_blocking_provider_with_functions(\n",
    "    access_token=PUT_YOUR_TOKEN_HERE \n",
    "    # for example, if your token is 00000000-dddd-cccc-0000-11111111, \n",
    "    # then you should put access_token=\"00000000-dddd-cccc-0000-11111111\" \n",
    "    # (including the double quotes)\n",
    ")\n",
    "\n",
    "# setup an SMI file that contains the SMILES string of our ligand\n",
    "ligand_smi_filename = client.workspace / \"ligand.smi\"\n",
    "ligand_smi_filename.write_text(\n",
    "    \"c1nc(c2c(n1)n(cn2)[C@H]3[C@@H]([C@@H]([C@H](O3)CO[P@@](=O)(O)O[P@](=O)(O)OP(=O)(O)O)O)O)N 1\"\n",
    ")\n",
    "\n",
    "# run Auto3D which will give us 3 conformers of our ligand\n",
    "# in the SDF format and the QDXF format\n",
    "ligand_sdf_handle, ligand_qdxf_handle = client.auto3d(\n",
    "    ligand_smi_filename,  # the filename that stores our ligand\n",
    "    \"smi\",  # the format of the file\n",
    "    {\n",
    "        \"k\": 3,  # number of conformers to generate\n",
    "        \"use_gpu\": True,  # use GPU for faster compute\n",
    "    },\n",
    "    tags=[\"auto3d_quickstart\"],\n",
    "    resources={\n",
    "        \"gpus\": 1,  # the number of GPUs to use\n",
    "        \"storage\": 5,  # the amount of storage to use\n",
    "        \"storage_units\": \"MB\",  # the units of storage (here we are using megabytes)\n",
    "    },\n",
    ")\n",
    "\n",
    "# print the status of all jobs\n",
    "print(client.status())\n",
    "\n",
    "# download the results (this will block until the Auto3D job has completed)\n",
    "ligand_sdf = ligand_sdf_handle.download()\n",
    "ligand_qdxf = ligand_qdxf_handle.download()\n",
    "\n",
    "print(\n",
    "    ligand_sdf.read_text()[0:100]\n",
    ")  # print the first 100 characters of the SDF version of the result\n",
    "print(\n",
    "    ligand_qdxf.read_text()[0:100]\n",
    ")  # print the first 100 characters of the QDXF version of the result"
   ]
  }
 ],
 "metadata": {
  "kernelspec": {
   "display_name": "python3",
   "language": "python",
   "name": "python3"
  }
 },
 "nbformat": 4,
 "nbformat_minor": 4
}
