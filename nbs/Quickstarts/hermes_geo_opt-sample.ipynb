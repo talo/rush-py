{
 "cells": [
  {
   "cell_type": "markdown",
   "id": "cd8a75d1",
   "metadata": {},
   "source": [
    "# Hermes — Run a geometry optimization calculation"
   ]
  },
  {
   "cell_type": "markdown",
   "id": "170e1e83",
   "metadata": {},
   "source": [
    "See [the tutorial](/Tutorials/hermes_geo_opt.ipynb) for an in-depth explanation of how the Hermes Geometry Optimization calculation works."
   ]
  },
  {
   "cell_type": "code",
   "execution_count": 1,
   "id": "b50ee234",
   "metadata": {},
   "outputs": [],
   "source": [
    "# |hide\n",
    "import os\n",
    "import pathlib\n",
    "\n",
    "WORK_DIR = pathlib.Path(\"~/qdx/hermes_geo_opt_quickstart/\").expanduser()\n",
    "if WORK_DIR.exists():\n",
    "    !rm -r $WORK_DIR\n",
    "os.makedirs(WORK_DIR)\n",
    "os.chdir(WORK_DIR)"
   ]
  },
  {
   "cell_type": "code",
   "execution_count": 14,
   "id": "38f360d3",
   "metadata": {},
   "outputs": [
    {
     "name": "stdout",
     "output_type": "stream",
     "text": [
      "2024-07-09 15:59:12,276 - rush - INFO - Argument f5c687e4-a417-40b3-9d8c-83dd99130974 is now RESOLVING\n",
      "2024-07-09 15:59:15,129 - rush - INFO - Argument f5c687e4-a417-40b3-9d8c-83dd99130974 is now ADMITTED\n",
      "2024-07-09 15:59:29,849 - rush - INFO - Argument f5c687e4-a417-40b3-9d8c-83dd99130974 is now DISPATCHED\n",
      "2024-07-09 15:59:35,699 - rush - INFO - Argument f5c687e4-a417-40b3-9d8c-83dd99130974 is now AWAITING_UPLOAD\n",
      "2024-07-09 16:00:04,915 - rush - WARNING - File topologies.json already exists in workspace\n",
      "converged topology:\n",
      "{'schema_version': '0.2.0', 'symbols': ['O', 'C', 'C', 'C', 'C', 'C', 'C', 'C', 'C', 'C', 'C', 'H', 'H', 'H', 'H', 'H', 'H', 'H', 'H', 'H', 'H', 'H', 'H', 'H', 'H', 'H', 'H', 'H', 'H'], 'geometry': [-0.10932702, 0.41456264, 2.4187925, -2.634611, -0.7623452, 0.30557674, -1.8811421, -0.7929879, -1.039604, -0.63183814, 0.12678324, -1.0388826, 0.3421889, -0.2947929, 0.10913345, -0.43571714, -0.2579113, 1.4563919, -1.7002501, -1.1464887, 1.4721245, 0.03814494, 0.09056326, -2.431942, 1.6825879, 0.5026616, 0.14772566, 2.648802, -0.088334166, 1.2021893, 1.4966935, 2.0210316, 0.37237757, -3.0312843, 0.23676889, 0.47587898, -3.4796476, -1.4470134, 0.27086866, -1.5745683, -1.8138016, -1.2593697, -2.553457, -0.4784289, -1.8346646, -0.9700284, 1.1456519, -0.8517408, 0.5999511, -1.3407598, -0.0643103, -2.2070858, -1.031459, 2.4270976, -1.3995944, -2.1879842, 1.3711549, -0.7019677, 0.2811314, -3.2031646, 0.48168555, -0.8823433, -2.6215143, 0.8128723, 0.84397995, -2.5207624, 2.1571133, 0.3676242, -0.8231786, 2.2616026, 0.050318368, 2.20567, 3.6146574, 0.40316525, 1.1384466, 2.7977285, -1.1505474, 1.0326971, 2.4634438, 2.5147557, 0.36091608, 1.0265428, 2.213638, 1.3304566, 0.8865026, 2.4625628, -0.4083658], 'fragment_formal_charges': [0]}\n"
     ]
    }
   ],
   "source": [
    "import json\n",
    "from pathlib import Path\n",
    "\n",
    "import rush\n",
    "\n",
    "client = rush.build_blocking_provider_with_functions(\n",
    "    batch_tags=[\"hermes_quickstart\"],\n",
    ")\n",
    "\n",
    "# write the qdxf file to disk\n",
    "menthone_qdxf_data = {'schema_version': '0.2.0',\n",
    " 'symbols': ['O', 'C', 'C', 'C', 'C', 'C', 'C', 'C', 'C', 'C', 'C', 'H', 'H', 'H', 'H', 'H', 'H', 'H', 'H', 'H', 'H', 'H', 'H', 'H', 'H', 'H', 'H', 'H', 'H'],\n",
    " 'geometry': [0.0, 0.0, 2.558588, -2.680797, -0.675188, 0.26398, -1.906884, -0.789063, -1.068912, -0.602098, 0.064466, -1.071068, 0.366909, -0.282183, 0.130702, -0.433287, -0.404398, 1.478748, -1.808494, -1.092292, 1.470418, 0.044065, -0.096564, -2.466944, 1.677375, 0.591559, 0.178761, 2.772719, 0.0, 1.089318, 1.454289, 2.072516, 0.548719, -3.035012, 0.366317, 0.40038, -3.599144, -1.292723, 0.227789, -1.669128, -1.852863, -1.268519, -2.572382, -0.477657, -1.897646, -0.907344, 1.125284, -0.965973, 0.706612, -1.31726, -0.05794, -2.333932, -0.872569, 2.418013, -1.641652, -2.184271, 1.466577, -0.674781, 0.102344, -3.284209, 0.444399, -1.115561, -2.625554, 0.87691, 0.611365, -2.625751, 2.123665, 0.582983, -0.833314, 2.486651, 0.015826, 2.157705, 3.722633, 0.560185, 1.006026, 2.99984, -1.050348, 0.83027, 2.393351, 2.654765, 0.503419, 1.052537, 2.188312, 1.573056, 0.742979, 2.567019, -0.13664],\n",
    " 'fragment_formal_charges': [0]\n",
    "}\n",
    "menthone_qdxf = Path(WORK_DIR) / \"menthone.qdxf.json\"\n",
    "with open(menthone_qdxf, \"w\") as f:\n",
    "    json.dump(menthone_qdxf_data, f)\n",
    "\n",
    "# Quantum geo opt calculation\n",
    "(topologies, optimisation_frames) = client.hermes_geo_opt(\n",
    "    {},\n",
    "    {\n",
    "        \"basis\": \"STO-3G\",\n",
    "        \"aux_basis\": \"6-31G\",\n",
    "        \"method\": \"RestrictedHF\",\n",
    "        \"standard_orientation\": \"None\"\n",
    "    },  # configuration for a fast converging, low accuracy run\n",
    "    None,\n",
    "    None,\n",
    "    {\n",
    "        \"max_iters\" : 30\n",
    "    },  # simple optimisation keywords, most systems should converge within 30 steps\n",
    "    menthone_qdxf, # the qdxf geometry to optimise\n",
    "    resources={\"gpus\": 1, \"storage\": 1000, \"storage_units\": \"MB\", \"walltime\": 60},\n",
    ")\n",
    "\n",
    "topologies_data = json.load(topologies.download(\"topologies.json\").open())\n",
    "print(\"converged topology:\")\n",
    "print(topologies_data[-1])"
   ]
  }
 ],
 "metadata": {
  "kernelspec": {
   "display_name": "python3",
   "language": "python",
   "name": "python3"
  },
  "language_info": {
   "codemirror_mode": {
    "name": "ipython",
    "version": 3
   },
   "file_extension": ".py",
   "mimetype": "text/x-python",
   "name": "python",
   "nbconvert_exporter": "python",
   "pygments_lexer": "ipython3",
   "version": "3.10.12"
  }
 },
 "nbformat": 4,
 "nbformat_minor": 5
}
