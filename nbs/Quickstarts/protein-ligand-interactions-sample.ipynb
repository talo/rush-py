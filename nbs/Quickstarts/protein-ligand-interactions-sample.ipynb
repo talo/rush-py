{
 "cells": [
  {
   "cell_type": "markdown",
   "id": "f71433bf",
   "metadata": {},
   "source": [
    "# PLIP — Protein ligand interaction profiling"
   ]
  },
  {
   "cell_type": "markdown",
   "id": "981d720d",
   "metadata": {},
   "source": [
    "See [the tutorial](/Tutorials/protein-ligand-interactions.ipynb)."
   ]
  },
  {
   "cell_type": "code",
   "execution_count": null,
   "id": "1aa53a72",
   "metadata": {},
   "outputs": [],
   "source": [
    "# |hide\n",
    "!rm -r ~/qdx/plip/ || true\n",
    "!mkdir -p ~/qdx/plip/\n",
    "%cd ~/qdx/plip/"
   ]
  },
  {
   "cell_type": "code",
   "execution_count": null,
   "id": "c6337e07",
   "metadata": {},
   "outputs": [],
   "source": [
    "# Get a pdb to work with - we use the pdb-tools cli here but you can download directly from rcsb.org\n",
    "!pdb_fetch 1MBN > 1MBN.pdb"
   ]
  },
  {
   "cell_type": "code",
   "execution_count": null,
   "id": "9eada7a7",
   "metadata": {},
   "outputs": [],
   "source": [
    "# |hide\n",
    "import os\n",
    "from pathlib import Path\n",
    "import rush\n",
    "\n",
    "WORK_DIR = Path.home() / \"qdx\" / \"plip\"\n",
    "\n",
    "if WORK_DIR.exists():\n",
    "    client = rush.Provider(workspace=WORK_DIR)\n",
    "    await client.nuke(remote=False)\n",
    "\n",
    "os.makedirs(WORK_DIR, exist_ok=True)\n",
    "os.chdir(WORK_DIR)"
   ]
  },
  {
   "cell_type": "code",
   "execution_count": null,
   "id": "08718ac0",
   "metadata": {},
   "outputs": [],
   "source": [
    "from pathlib import Path\n",
    "import rush\n",
    "\n",
    "client = await rush.build_provider_with_functions(\n",
    "    workspace=WORK_DIR, batch_tags=[\"plip\"]\n",
    ")"
   ]
  },
  {
   "cell_type": "code",
   "execution_count": 21,
   "id": "a0fc49cd",
   "metadata": {},
   "outputs": [],
   "source": [
    "# Get output conformer\n",
    "output_conformer, output_txt = await client.plip(Path.cwd() / \"1MBN.pdb\")\n",
    "output_conformer = await output_conformer.get()\n",
    "\n",
    "# Get output document\n",
    "output_txt = await output_txt.get()"
   ]
  }
 ],
 "metadata": {
  "kernelspec": {
   "display_name": "Python 3 (ipykernel)",
   "language": "python",
   "name": "python3"
  },
  "language_info": {
   "codemirror_mode": {
    "name": "ipython",
    "version": 3
   },
   "file_extension": ".py",
   "mimetype": "text/x-python",
   "name": "python",
   "nbconvert_exporter": "python",
   "pygments_lexer": "ipython3",
   "version": "3.11.6"
  }
 },
 "nbformat": 4,
 "nbformat_minor": 5
}
