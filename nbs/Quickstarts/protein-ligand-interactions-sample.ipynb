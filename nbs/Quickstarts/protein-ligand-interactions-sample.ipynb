{
 "cells": [
  {
   "cell_type": "markdown",
   "id": "f71433bf",
   "metadata": {},
   "source": [
    "# PLIP — Protein ligand interaction profiling"
   ]
  },
  {
   "cell_type": "markdown",
   "id": "981d720d",
   "metadata": {},
   "source": [
    "See [the tutorial](/Tutorials/protein-ligand-interactions.ipynb)."
   ]
  },
  {
   "cell_type": "code",
   "execution_count": null,
   "id": "1aa53a72",
   "metadata": {},
   "outputs": [],
   "source": [
    "# |hide\n",
    "import os\n",
    "import pathlib\n",
    "\n",
    "WORK_DIR = pathlib.Path(\"~/qdx/plip/\").expanduser()\n",
    "if WORK_DIR.exists():\n",
    "    !rm -r $WORK_DIR\n",
    "os.makedirs(WORK_DIR)\n",
    "os.chdir(WORK_DIR)"
   ]
  },
  {
   "cell_type": "code",
   "execution_count": null,
   "id": "c6337e07",
   "metadata": {},
   "outputs": [],
   "source": [
    "# Get a pdb to work with - we use the pdb-tools cli here but you can download directly from rcsb.org\n",
    "!pdb_fetch 1MBN > 1MBN.pdb"
   ]
  },
  {
   "cell_type": "code",
   "execution_count": null,
   "id": "a0fc49cd",
   "metadata": {},
   "outputs": [
    {
     "name": "stdout",
     "output_type": "stream",
     "text": [
      "2024-03-18 14:45:12,997 - rush - INFO - Argument bb5ea123-8557-4e32-9a68-23503dc73fa9 is now ModuleInstanceStatus.RESOLVING\n",
      "2024-03-18 14:45:18,647 - rush - INFO - Argument bb5ea123-8557-4e32-9a68-23503dc73fa9 is now ModuleInstanceStatus.ADMITTED\n",
      "2024-03-18 14:45:33,361 - rush - INFO - Argument bb5ea123-8557-4e32-9a68-23503dc73fa9 is now ModuleInstanceStatus.DISPATCHED\n",
      "2024-03-18 14:45:44,625 - rush - INFO - Argument bb5ea123-8557-4e32-9a68-23503dc73fa9 is now ModuleInstanceStatus.AWAITING_UPLOAD\n",
      "{\"amino_acid_insertion_codes\": [\"\", \"\", \"\", \"\", \"\" ...\n",
      "Prediction of noncovalent interactions for PDB str ...\n"
     ]
    }
   ],
   "source": [
    "from pathlib import Path\n",
    "import rush\n",
    "\n",
    "client = rush.build_blocking_provider_with_functions(batch_tags=[\"plip\"])\n",
    "output_conformer, output_txt = client.plip(Path.cwd() / \"1MBN.pdb\")\n",
    "\n",
    "print(output_conformer.download().open().read()[0:50], \"...\")\n",
    "print(output_txt.download().open().read()[0:50], \"...\")"
   ]
  }
 ],
 "metadata": {
  "kernelspec": {
   "display_name": "python3",
   "language": "python",
   "name": "python3"
  }
 },
 "nbformat": 4,
 "nbformat_minor": 5
}
