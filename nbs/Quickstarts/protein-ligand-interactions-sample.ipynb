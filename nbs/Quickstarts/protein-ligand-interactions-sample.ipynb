{
 "cells": [
  {
   "cell_type": "markdown",
   "id": "f71433bf",
   "metadata": {},
   "source": [
    "# PLIP — Protein ligand interaction profiling"
   ]
  },
  {
   "cell_type": "markdown",
   "id": "981d720d",
   "metadata": {},
   "source": [
    "See [the tutorial](/Tutorials/protein-ligand-interactions.ipynb)."
   ]
  },
  {
   "cell_type": "code",
   "execution_count": null,
   "id": "d58aab6c",
   "metadata": {},
   "outputs": [],
   "source": [
    "import os\n",
    "from pathlib import Path\n",
    "\n",
    "import rush\n",
    "from pdbtools import pdb_fetch\n",
    "\n",
    "TOKEN = os.getenv(\"RUSH_TOKEN\")\n",
    "# You might have a custom deployment url, by default the client will use\n",
    "# https://tengu.qdx.ai\n",
    "RUSH_URL = os.getenv(\"RUSH_URL\")\n",
    "\n",
    "# Define our project information\n",
    "DESCRIPTION = \"plip-inference-notebook\"\n",
    "TAGS = [\"rush-py\", \"plip\", \"notebook\"]\n",
    "WORK_DIR = Path.home() / \"qdx\" / \"plip-inference-rush-py-demo\"\n",
    "os.makedirs(WORK_DIR, exist_ok=True)\n",
    "\n",
    "# Get our client, for calling modules and using the rush API\n",
    "client = await rush.build_provider_with_functions(\n",
    "    access_token=TOKEN, url=RUSH_URL, batch_tags=TAGS\n",
    ")\n",
    "\n",
    "# RUSH_TOKEN and RUSH_URL are discovered automatically if present in the env.\n",
    "# Alternatively, they can be set explicitly:\n",
    "# TOKEN = os.getenv(\"RUSH_TOKEN\")\n",
    "# URL = os.getenv(\"RUSH_URL\")\n",
    "# client = await rush.build_provider_with_functions(access_token=TOKEN, url=URL, batch_tags=TAGS)\n",
    "\n",
    "# Fetch example PDB\n",
    "PDB_ID = \"1GIH\"\n",
    "FILE_NAME = f\"{PDB_ID}.pdb\"\n",
    "FILE_PATH = WORK_DIR / FILE_NAME\n",
    "\n",
    "complex = list(pdb_fetch.fetch_structure(PDB_ID))\n",
    "\n",
    "with open(FILE_PATH, \"w\") as f:\n",
    "    for line in complex:\n",
    "        f.write(line)\n",
    "\n",
    "# Run PLIP\n",
    "PLIP_RESOURCES = {\"storage\": 1024_000}\n",
    "\n",
    "# Get output conformer\n",
    "output_conformer, output_txt = await client.plip(\n",
    "    FILE_PATH, resources=PLIP_RESOURCES\n",
    ")\n",
    "\n",
    "output_conformer = await output_conformer.get()\n",
    "\n",
    "# Get output document\n",
    "output_txt = await output_txt.get()"
   ]
  }
 ],
 "metadata": {
  "kernelspec": {
   "display_name": "python3",
   "language": "python",
   "name": "python3"
  }
 },
 "nbformat": 4,
 "nbformat_minor": 5
}
