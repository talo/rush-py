{
 "cells": [
  {
   "cell_type": "markdown",
   "metadata": {},
   "source": [
    "# Auto3d — Generate 3d structures for a smiles string or tautomers for an sdf"
   ]
  },
  {
   "cell_type": "markdown",
   "metadata": {},
   "source": [
    "See [the tutorial](/Tutorials/auto3d_conformer_tautomer_generation.ipynb) for a more detailed explanation."
   ]
  },
  {
   "cell_type": "code",
   "execution_count": null,
   "metadata": {},
   "outputs": [],
   "source": [
    "# |hide\n",
    "import os\n",
    "import pathlib\n",
    "WORK_DIR = pathlib.Path(\"~/qdx/auto3d/\").expanduser()\n",
    "if WORK_DIR.exists():\n",
    "    !rm -r $WORK_DIR\n",
    "os.makedirs(WORK_DIR)\n",
    "os.chdir(WORK_DIR)"
   ]
  },
  {
   "cell_type": "code",
   "execution_count": null,
   "metadata": {},
   "outputs": [
    {
     "name": "stdout",
     "output_type": "stream",
     "text": [
      "2024-03-18 13:19:45,600 - rush - INFO - Argument 3b544ce6-b87d-4ca0-9f1e-bcbaabddc611 is now ModuleInstanceStatus.RESOLVING\n",
      "2024-03-18 13:19:56,611 - rush - INFO - Argument 3b544ce6-b87d-4ca0-9f1e-bcbaabddc611 is now ModuleInstanceStatus.ADMITTED\n",
      "2024-03-18 13:20:01,028 - rush - INFO - Argument 3b544ce6-b87d-4ca0-9f1e-bcbaabddc611 is now ModuleInstanceStatus.RUNNING\n",
      "2024-03-18 13:33:06,170 - rush - INFO - Argument 3b544ce6-b87d-4ca0-9f1e-bcbaabddc611 is now ModuleInstanceStatus.AWAITING_UPLOAD\n",
      "2024-03-18 13:33:23,179 - rush - INFO - Argument 3b544ce6-b87d-4ca0-9f1e-bcbaabddc611 is now ModuleInstanceStatus.COMPLETED\n",
      "[{\"topology\": {\"version\": null, \"symbols\": [\"N\", \"C\", \"N\", \"C\", \"N\", \" ...\n"
     ]
    }
   ],
   "source": [
    "import rush\n",
    "\n",
    "client = rush.build_blocking_provider_with_functions(\n",
    "    batch_tags=[\"auto3d_quickstart\"]\n",
    ")\n",
    "LIGAND_FILE_PATH = client.workspace / \"ligand.smi\"\n",
    "\n",
    "# Write a SMILES to disk\n",
    "print(\n",
    "    \"c1nc(c2c(n1)n(cn2)[C@H]3[C@@H]([C@@H]([C@H](O3)CO[P@@](=O)(O)O[P@](=O)(O)OP(=O)(O)O)O)O)N 1\",\n",
    "    file=LIGAND_FILE_PATH.open(\"w\"),\n",
    ")\n",
    "\n",
    "(ligand_sdf, ligand_qdxf) = client.auto3d(\n",
    "    LIGAND_FILE_PATH,\n",
    "    \"smi\",\n",
    "    {\"k\": 2, \"use_gpu\": True},\n",
    "    resources={\"gpus\": 1, \"storage\": 5, \"storage_units\": \"MB\"},\n",
    ")\n",
    "\n",
    "print(ligand_qdxf.download().open().read()[0:70], \"...\")"
   ]
  },
  {
   "cell_type": "code",
   "execution_count": null,
   "metadata": {},
   "outputs": [],
   "source": []
  }
 ],
 "metadata": {
  "kernelspec": {
   "display_name": "python3",
   "language": "python",
   "name": "python3"
  }
 },
 "nbformat": 4,
 "nbformat_minor": 4
}
