{
 "cells": [
  {
   "cell_type": "code",
   "execution_count": null,
   "metadata": {},
   "outputs": [],
   "source": [
    "!rm -r ~/qdx/auto3d/ || true\n",
    "!mkdir -p ~/qdx/auto3d\n",
    "%cd ~/qdx/auto3d"
   ]
  },
  {
   "cell_type": "code",
   "execution_count": null,
   "metadata": {},
   "outputs": [],
   "source": [
    "# Write a SMILES to disk\n",
    "from pathlib import Path\n",
    "\n",
    "LIGAND_SMILES_STR = \"c1nc(c2c(n1)n(cn2)[C@H]3[C@@H]([C@@H]([C@H](O3)CO[P@@](=O)(O)O[P@](=O)(O)OP(=O)(O)O)O)O)N\"\n",
    "LIGAND_FILE_PATH = Path.cwd() / \"ligand.smi\"\n",
    "\n",
    "with open(LIGAND_FILE_PATH, \"w\") as f:\n",
    "    print(f\"{LIGAND_SMILES_STR} {LIGAND_SMILES_STR}\", file=f)"
   ]
  },
  {
   "cell_type": "code",
   "execution_count": null,
   "metadata": {},
   "outputs": [],
   "source": [
    "# |hide\n",
    "import os\n",
    "import rush\n",
    "from pathlib import Path\n",
    "\n",
    "WORK_DIR = Path.home() / \"qdx\" / \"auto3d\"\n",
    "\n",
    "if WORK_DIR.exists():\n",
    "    client = rush.Provider(workspace=WORK_DIR)\n",
    "    await client.nuke(remote=False)\n",
    "\n",
    "os.makedirs(WORK_DIR, exist_ok=True)\n",
    "os.chdir(WORK_DIR)"
   ]
  },
  {
   "cell_type": "code",
   "execution_count": null,
   "metadata": {},
   "outputs": [],
   "source": [
    "import rush\n",
    "\n",
    "client = await rush.build_provider_with_functions(\n",
    "    batch_tags=[\"batch_run_protein_prep\"]\n",
    ")"
   ]
  },
  {
   "cell_type": "code",
   "execution_count": null,
   "metadata": {},
   "outputs": [],
   "source": [
    "(ligand_sdf, ligand_qdxf) = await client.auto3d(\n",
    "    LIGAND_FILE_PATH,\n",
    "    \"smi\",\n",
    "    {\"k\": 2, \"use_gpu\": True},\n",
    "    resources={\"gpus\": 1, \"storage\": \"5\", \"storage_units\": \"MB\"},\n",
    ")"
   ]
  },
  {
   "cell_type": "code",
   "execution_count": null,
   "metadata": {},
   "outputs": [],
   "source": [
    "print(await ligand_qdxf.get())"
   ]
  }
 ],
 "metadata": {
  "kernelspec": {
   "display_name": "Python 3 (ipykernel)",
   "language": "python",
   "name": "python3"
  },
  "language_info": {
   "codemirror_mode": {
    "name": "ipython",
    "version": 3
   },
   "file_extension": ".py",
   "mimetype": "text/x-python",
   "name": "python",
   "nbconvert_exporter": "python",
   "pygments_lexer": "ipython3",
   "version": "3.11.6"
  }
 },
 "nbformat": 4,
 "nbformat_minor": 2
}
