{
 "cells": [
  {
   "cell_type": "markdown",
   "metadata": {},
   "source": [
    "# Benchmarks"
   ]
  },
  {
   "cell_type": "markdown",
   "metadata": {},
   "source": [
    "When submitting a benchmark, you must submit a lambda function that expects exactly one input. This input is a list: the first element is a `ProteinConformer` and the second \n",
    "\n",
    "```\n",
    "(λ input → \n",
    "    let        \n",
    "        {- protein conformers are a single physical shape of a protein -}\n",
    "        protein_conformer = load (id (get 0 input)) 'ProteinConformer',\n",
    "\n",
    "        {- protein is a description of the protein e.g. its amino acid sequence -}\n",
    "        protein = load (protein_id protein_conformer) 'Protein',\n",
    "\n",
    "        {- smol is a description of a small molecule e.g. its SMILES string -}\n",
    "        smol = load (id (get 0 input)) 'Smol'\n",
    "    in\n",
    "        BenchmarkArg {\n",
    "            entity = \"BindingAffinity\", \n",
    "            id = save (BindingAffinity {\n",
    "                affinity = 0.5,\n",
    "                affinity_metric = \"kcal/mol\",\n",
    "                protein_id = id protein,\n",
    "                smol_id = id smol\n",
    "            })\n",
    "        }\n",
    ")\n",
    "```"
   ]
  },
  {
   "cell_type": "code",
   "execution_count": null,
   "metadata": {},
   "outputs": [],
   "source": []
  }
 ],
 "metadata": {
  "kernelspec": {
   "display_name": "Python 3 (ipykernel)",
   "language": "python",
   "name": "python3"
  },
  "language_info": {
   "codemirror_mode": {
    "name": "ipython",
    "version": 3
   },
   "file_extension": ".py",
   "mimetype": "text/x-python",
   "name": "python",
   "nbconvert_exporter": "python",
   "pygments_lexer": "ipython3",
   "version": "3.12.5"
  }
 },
 "nbformat": 4,
 "nbformat_minor": 4
}
