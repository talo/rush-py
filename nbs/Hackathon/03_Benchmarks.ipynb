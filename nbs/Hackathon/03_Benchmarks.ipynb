{
 "cells": [
  {
   "cell_type": "markdown",
   "metadata": {},
   "source": [
    "# Benchmarks\n",
    "\n",
    "When submitting a benchmark, you must submit a lambda function that expects exactly one input. This input is a list: the first element is a `ProteinConformer` and the second \n",
    "\n",
    "```\n",
    "(λ input → \n",
    "    let        \n",
    "        {- protein conformers are a single physical shape of a protein -}\n",
    "        protein_conformer = load (id (get 0 input)) 'ProteinConformer',\n",
    "\n",
    "        {- protein is a description of the protein e.g. its amino acid sequence -}\n",
    "        protein = load (protein_id protein_conformer) 'Protein',\n",
    "\n",
    "        {- smol is a description of a small molecule e.g. its SMILES string -}\n",
    "        smol = load (id (get 0 input)) 'Smol'\n",
    "    in\n",
    "        BenchmarkArg {\n",
    "            entity = \"BindingAffinity\", \n",
    "            id = save (BindingAffinity {\n",
    "                affinity = 0.5,\n",
    "                affinity_metric = \"kcal/mol\",\n",
    "                protein_id = id protein,\n",
    "                smol_id = id smol\n",
    "            })\n",
    "        }\n",
    ")\n",
    "```"
   ]
  }
 ],
 "metadata": {
  "language_info": {
   "name": "python"
  }
 },
 "nbformat": 4,
 "nbformat_minor": 2
}
