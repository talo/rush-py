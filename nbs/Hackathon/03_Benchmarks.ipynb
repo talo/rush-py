{
 "cells": [
  {
   "cell_type": "markdown",
   "metadata": {},
   "source": [
    "# Benchmarks"
   ]
  },
  {
   "cell_type": "markdown",
   "metadata": {},
   "source": [
    "When submitting a benchmark, you must submit a lambda function that expects exactly one input. This input is a list: the first element is a `ProteinConformer` and the second \n",
    "a `Smol`"
   ]
  },
  {
   "cell_type": "code",
   "execution_count": 2,
   "metadata": {},
   "outputs": [],
   "source": [
    "# |hide\n",
    "from rush import build_blocking_provider"
   ]
  },
  {
   "cell_type": "code",
   "execution_count": 3,
   "metadata": {},
   "outputs": [],
   "source": [
    "# |hide\n",
    "# hidden setup for the notebook\n",
    "import os\n",
    "import pathlib\n",
    "\n",
    "WORK_DIR = pathlib.Path(\"~/qdx/benchmark_notebook\").expanduser()\n",
    "if WORK_DIR.exists():\n",
    "    !rm -r $WORK_DIR\n",
    "os.makedirs(WORK_DIR, exist_ok=True)\n",
    "# swap into clean workdir so that our tests are deterministic\n",
    "os.chdir(WORK_DIR)\n",
    "PUT_YOUR_TOKEN_HERE = os.environ[\"RUSH_TOKEN\"]\n",
    "PUT_YOUR_PREFERRED_WORKING_DIRECTORY_HERE = WORK_DIR\n",
    "os.environ[\"RUSH_RESTORE_BY_DEFAULT\"] = \"False\""
   ]
  },
  {
   "cell_type": "code",
   "execution_count": 4,
   "metadata": {},
   "outputs": [
    {
     "name": "stdout",
     "output_type": "stream",
     "text": [
      "2025-02-07 20:36:08,501 - rush - INFO - Not restoring by default via env\n"
     ]
    }
   ],
   "source": [
    "# |hide\n",
    "client = build_blocking_provider(\n",
    "    access_token=PUT_YOUR_TOKEN_HERE\n",
    "    # for example, if your token is 00000000-dddd-cccc-0000-11111111,\n",
    "    # then you should put access_token=\"00000000-dddd-cccc-0000-11111111\"\n",
    "    # (including the double quotes)\n",
    ")"
   ]
  },
  {
   "cell_type": "code",
   "execution_count": 5,
   "metadata": {
    "jupyter": {
     "source_hidden": true
    }
   },
   "outputs": [],
   "source": [
    "# |hide\n",
    "benchmark = client.benchmark(name=\"OpenFF Protein-Ligand Binding Benchmark\")"
   ]
  },
  {
   "cell_type": "code",
   "execution_count": 6,
   "metadata": {
    "jupyter": {
     "source_hidden": true
    }
   },
   "outputs": [],
   "source": [
    "# |hide\n",
    "from IPython.display import Markdown as md\n",
    "rex_code_above = \"\"\"\n",
    "(λ input → \n",
    "    let        \n",
    "        {- protein conformers are a single physical shape of a protein -}\n",
    "        protein_conformer = load (id (get 0 input)) \"ProteinConformer\",\n",
    "\n",
    "        {- protein is a description of the protein e.g. its amino acid sequence -}\n",
    "        protein = load (protein_id protein_conformer) \"Protein\",\n",
    "\n",
    "        {- smol is a description of a small molecule e.g. its SMILES string -}\n",
    "        smol = load (id (get 1 input)) \"Smol\",\n",
    "\n",
    "        {- TODO(you): this is where you need to write code that predicts the binding affinity -}\n",
    "        affinity = 0.5\n",
    "\n",
    "    in\n",
    "        {- the output must be a list with exactly one element: our binding affinity prediction for this input -}\n",
    "        [BenchmarkArg {\n",
    "            entity = \"BindingAffinity\", \n",
    "            id = save (BindingAffinity {\n",
    "                affinity = affinity,\n",
    "                affinity_metric = \"kcal/mol\",\n",
    "                protein_id = id protein,\n",
    "                smol_id = id smol,\n",
    "                metadata = Metadata {\n",
    "                    name = \"binding affinity for smol and protein\",\n",
    "                    description = none,\n",
    "                    tags = []\n",
    "                }\n",
    "            })\n",
    "        }]\n",
    ")\n",
    "\"\"\""
   ]
  },
  {
   "cell_type": "code",
   "execution_count": 7,
   "metadata": {
    "jupyter": {
     "source_hidden": true
    },
    "scrolled": true
   },
   "outputs": [
    {
     "data": {
      "text/markdown": [
       "```haskell\n",
       "(λ input → \n",
       "    let        \n",
       "        {- protein conformers are a single physical shape of a protein -}\n",
       "        protein_conformer = load (id (get 0 input)) \"ProteinConformer\",\n",
       "\n",
       "        {- protein is a description of the protein e.g. its amino acid sequence -}\n",
       "        protein = load (protein_id protein_conformer) \"Protein\",\n",
       "\n",
       "        {- smol is a description of a small molecule e.g. its SMILES string -}\n",
       "        smol = load (id (get 1 input)) \"Smol\",\n",
       "\n",
       "        {- TODO(you): this is where you need to write code that predicts the binding affinity -}\n",
       "        affinity = 0.5\n",
       "\n",
       "    in\n",
       "        {- the output must be a list with exactly one element: our binding affinity prediction for this input -}\n",
       "        [BenchmarkArg {\n",
       "            entity = \"BindingAffinity\", \n",
       "            id = save (BindingAffinity {\n",
       "                affinity = affinity,\n",
       "                affinity_metric = \"kcal/mol\",\n",
       "                protein_id = id protein,\n",
       "                smol_id = id smol,\n",
       "                metadata = Metadata {\n",
       "                    name = \"binding affinity for smol and protein\",\n",
       "                    description = none,\n",
       "                    tags = []\n",
       "                }\n",
       "            })\n",
       "        }]\n",
       ")\n",
       "```"
      ],
      "text/plain": [
       "<IPython.core.display.Markdown object>"
      ]
     },
     "execution_count": 7,
     "metadata": {},
     "output_type": "execute_result"
    }
   ],
   "source": [
    "#| echo:false\n",
    "md(f\"```haskell{rex_code_above}```\")"
   ]
  },
  {
   "cell_type": "code",
   "execution_count": 8,
   "metadata": {},
   "outputs": [],
   "source": [
    "#| hide\n",
    "import re\n",
    "\n",
    "def remove_comments(text):\n",
    "    # Pattern explanation:\n",
    "    # \\{-    : matches the opening '{-'\n",
    "    # .*?    : matches any characters (non-greedy)\n",
    "    # -\\}    : matches the closing '-}'\n",
    "    pattern = r'\\{-.*?-\\}'\n",
    "    \n",
    "    # Use re.sub to replace all matches with empty string\n",
    "    # re.DOTALL flag allows . to match newlines\n",
    "    return re.sub(pattern, '', text, flags=re.DOTALL)\n",
    "\n",
    "# Example usage\n",
    "text = '''let a = 1, {- some comment -}\n",
    "{-another comment -}\n",
    "b = 2,\n",
    "in a'''\n",
    "\n",
    "cleaned_rex = remove_comments(rex_code_above)"
   ]
  },
  {
   "cell_type": "code",
   "execution_count": 9,
   "metadata": {},
   "outputs": [
    {
     "name": "stdout",
     "output_type": "stream",
     "text": [
      "View your submission at https://rush.cloud/project/f18faf61-5556-4a78-b983-e85a3c975fa6/runs?selectedRunId=9e99fda9-6cd9-466f-8e55-40e5c8241572\n"
     ]
    }
   ],
   "source": [
    "#|hide\n",
    "submission = client.run_benchmark(\n",
    "    benchmark.id, \n",
    "    cleaned_rex, \n",
    "    \"hardcoded submission\", \n",
    "    sample=0.2\n",
    ")"
   ]
  },
  {
   "cell_type": "code",
   "execution_count": null,
   "metadata": {},
   "outputs": [],
   "source": []
  }
 ],
 "metadata": {
  "kernelspec": {
   "display_name": "Python 3 (ipykernel)",
   "language": "python",
   "name": "python3"
  },
  "language_info": {
   "codemirror_mode": {
    "name": "ipython",
    "version": 3
   },
   "file_extension": ".py",
   "mimetype": "text/x-python",
   "name": "python",
   "nbconvert_exporter": "python",
   "pygments_lexer": "ipython3",
   "version": "3.10.14"
  }
 },
 "nbformat": 4,
 "nbformat_minor": 4
}
