{
 "cells": [
  {
   "cell_type": "markdown",
   "metadata": {},
   "source": [
    "# Run Specifications\n"
   ]
  },
  {
   "cell_type": "markdown",
   "metadata": {},
   "source": [
    "Run specifications tell Rush how to execute the computational drug discovery modules. Most modules (e.g. functions ending in `_rex` or `_s`) are dispatched to various high-performancing computing clusters that Rush has access to. When executing these modules, Rush needs to know about the target (which cluster) and the resources (storage, number of CPUs, number of GPUs, etc) needed for the module to execute successfully. This is called the \"run spec\" and it is always the first argument passed when calling a module.\n",
    "\n",
    "Here is an example of a `RunSpec` that tells Rush that the respective module needs to be executed on the `Bullet` high-performance computing cluster, that the module needs 10 megabytes of space, and that the module needs access to 1 GPU.\n",
    "\n",
    "```haskell\n",
    "RunSpec {\n",
    "    target = 'Bullet',\n",
    "    resources = Resources {\n",
    "        storage = some 10,\n",
    "        storage_units = some \"MB\",\n",
    "        gpus = some 1\n",
    "    }\n",
    "}\n",
    "```\n",
    "\n",
    "Meanwhile, here is an example `RunSpec` that is identical to the previous one, but it only requests CPUs.\n",
    "\n",
    "```haskell\n",
    "RunSpec {\n",
    "    target = 'Bullet',\n",
    "    resources = Resources {\n",
    "        storage = some 10,\n",
    "        storage_units = some \"MB\",\n",
    "        gpus = none\n",
    "    }\n",
    "}\n",
    "```"
   ]
  }
 ],
 "metadata": {
  "kernelspec": {
   "display_name": "Python 3 (ipykernel)",
   "language": "python",
   "name": "python3"
  },
  "language_info": {
   "codemirror_mode": {
    "name": "ipython",
    "version": 3
   },
   "file_extension": ".py",
   "mimetype": "text/x-python",
   "name": "python",
   "nbconvert_exporter": "python",
   "pygments_lexer": "ipython3",
   "version": "3.12.5"
  }
 },
 "nbformat": 4,
 "nbformat_minor": 4
}
