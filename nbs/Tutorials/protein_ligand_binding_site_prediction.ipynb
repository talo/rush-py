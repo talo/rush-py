{
 "cells": [
  {
   "cell_type": "markdown",
   "metadata": {},
   "source": [
    "# P2Rank — Protein-ligand binding site prediction\n",
    "This notebook will walk us through using P2Rank for protein binding site prediction\n",
    "\n",
    "**P2Rank implementation paper**:\n",
    "Krivak R, Hoksza D. P2Rank: machine learning based tool for rapid and accurate prediction of ligand binding sites from protein structure. Journal of Cheminformatics. 2018 Aug.\n"
   ]
  },
  {
   "cell_type": "markdown",
   "metadata": {},
   "source": [
    "# 1) Setup"
   ]
  },
  {
   "cell_type": "markdown",
   "metadata": {},
   "source": [
    "## 1.0) Imports"
   ]
  },
  {
   "cell_type": "code",
   "execution_count": 2,
   "metadata": {},
   "outputs": [],
   "source": [
    "import os\n",
    "from pathlib import Path\n",
    "\n",
    "import rush\n",
    "from pdbtools import pdb_fetch"
   ]
  },
  {
   "cell_type": "markdown",
   "metadata": {},
   "source": [
    "## 1.1) Configuration"
   ]
  },
  {
   "cell_type": "markdown",
   "metadata": {},
   "source": [
    "Let's set some global variables that define our project."
   ]
  },
  {
   "cell_type": "code",
   "execution_count": 3,
   "metadata": {},
   "outputs": [],
   "source": [
    "DESCRIPTION = \"p2rank-notebook\"\n",
    "TAGS = [\"rush-py\", \"p2rank\", \"notebook\"]"
   ]
  },
  {
   "cell_type": "markdown",
   "metadata": {},
   "source": [
    "## 1.2) Build your client"
   ]
  },
  {
   "cell_type": "code",
   "execution_count": 4,
   "metadata": {},
   "outputs": [],
   "source": [
    "# |hide\n",
    "WORK_DIR = Path.home() / \"qdx\" / \"p2rank-rush-py-demo\"\n",
    "if WORK_DIR.exists():\n",
    "    client = rush.Provider(workspace=WORK_DIR)\n",
    "    await client.nuke(remote=False)\n",
    "os.makedirs(WORK_DIR, exist_ok=True)\n",
    "YOUR_TOKEN = os.getenv(\"RUSH_TOKEN\")"
   ]
  },
  {
   "cell_type": "code",
   "execution_count": 5,
   "metadata": {},
   "outputs": [],
   "source": [
    "os.environ[\"RUSH_TOKEN\"] = YOUR_TOKEN\n",
    "client = rush.build_blocking_provider_with_functions(\n",
    "    batch_tags=TAGS, workspace=WORK_DIR\n",
    ")"
   ]
  },
  {
   "cell_type": "markdown",
   "metadata": {},
   "source": [
    "# 2) Preparation"
   ]
  },
  {
   "cell_type": "markdown",
   "metadata": {},
   "source": [
    "## 2.0) Fetch example PDB\n",
    "Note that P2Rank requires a PDB file of a protein to find potential pockets."
   ]
  },
  {
   "cell_type": "code",
   "execution_count": 6,
   "metadata": {},
   "outputs": [],
   "source": [
    "PDB_ID = \"1GIH\"\n",
    "FILE_NAME = f\"{PDB_ID}.pdb\"\n",
    "FILE_PATH = WORK_DIR / FILE_NAME"
   ]
  },
  {
   "cell_type": "code",
   "execution_count": 7,
   "metadata": {},
   "outputs": [],
   "source": [
    "complex = list(pdb_fetch.fetch_structure(PDB_ID))\n",
    "\n",
    "with open(FILE_PATH, \"w\") as f:\n",
    "    for line in complex:\n",
    "        f.write(line)"
   ]
  },
  {
   "cell_type": "markdown",
   "metadata": {},
   "source": [
    "# 3) PLIP"
   ]
  },
  {
   "cell_type": "markdown",
   "metadata": {},
   "source": [
    "## 3.1) Arguments"
   ]
  },
  {
   "cell_type": "code",
   "execution_count": 8,
   "metadata": {},
   "outputs": [
    {
     "name": "stdout",
     "output_type": "stream",
     "text": [
      "Help on function p2rank_pdb in module rush.provider:\n",
      "\n",
      "p2rank_pdb(*args: *tuple[RushObject[bytes], bool], target: 'Target | None' = None, resources: 'Resources | None' = None, tags: 'list[str] | None' = None, restore: 'bool | None' = None) -> tuple[Record, RushObject[bytes]]\n",
      "    Run P2Rank on an input PDB file to obtain ligand-binding site predictions\n",
      "\n",
      "    Please see:\n",
      "    Krivak R, Hoksza D. P2Rank: machine learning based tool for rapid and accurate prediction of ligand binding sites from protein structure.\n",
      "    Journal of Cheminformatics. 2018 Aug.\n",
      "\n",
      "\n",
      "    Module version:\n",
      "    `github:talo/tengu-p2rank/285c5a6ac161266504e71fcad0ec4155b955408c#p2rank_pdb_tengu`\n",
      "\n",
      "    QDX Type Description:\n",
      "\n",
      "        input_pdb_file: Object {size: u32, format: ObjectFormat[json | bin]?, path: @$Bytes};\n",
      "        use_alphafold_config: bool\n",
      "        ->\n",
      "        out: P2RankResults {\n",
      "            pockets: [Pocket {\n",
      "                surf_atom_ids: [i32],\n",
      "                name: string,\n",
      "                center_x: f64,\n",
      "                probability: f64,\n",
      "                residue_ids: [string],\n",
      "                sas_points: i32,\n",
      "                score: f64,\n",
      "                rank: i32,\n",
      "                center_y: f64,\n",
      "                center_z: f64,\n",
      "                surf_atoms: i32\n",
      "            }]\n",
      "        };\n",
      "        visualisation: Object[@$Bytes,]\n",
      "\n",
      "\n",
      "    :param input_pdb_file: PDB file for the protein to have binding sites predicted for\n",
      "    :param use_alphafold_config: This profile is recommended for AlphaFold models, NMR and cryo-EM structures since it doesn't depend on b-factor as a feature\n",
      "    :return out: P2Rank data\n",
      "    :return visualisation: PyMol visualisation tar.gz\n",
      "\n"
     ]
    }
   ],
   "source": [
    "help(client.p2rank_pdb)"
   ]
  },
  {
   "cell_type": "markdown",
   "metadata": {},
   "source": [
    "We can see from the above help documentation that we need to pass the Path to our PDB file as an argument.\n",
    "We will also set  `use_alphafold_config` flag to `False` as we have a crystal structure from RCSB."
   ]
  },
  {
   "cell_type": "markdown",
   "metadata": {},
   "source": [
    "## 3.2) Run P2Rank\n",
    "Finally, we run P2Rank so we can identify predict possible binding sites for our protein"
   ]
  },
  {
   "cell_type": "code",
   "execution_count": 10,
   "metadata": {},
   "outputs": [],
   "source": [
    "\n",
    "p2rank_results, visualisation = client.p2rank_pdb(\n",
    "    FILE_PATH, False\n",
    ")"
   ]
  },
  {
   "cell_type": "markdown",
   "metadata": {},
   "source": [
    "## 3.3) Get P2Rank results\n",
    "Here, we get the P2Rank results, which we can see from the above help documentation is a liset of potential binding sites."
   ]
  },
  {
   "cell_type": "code",
   "execution_count": 11,
   "metadata": {},
   "outputs": [
    {
     "name": "stdout",
     "output_type": "stream",
     "text": [
      "2024-06-14 03:44:09,071 - rush - INFO - Argument 5dd19ede-30d6-4694-a665-912387d2f38f is now ModuleInstanceStatus.DISPATCHED\n",
      "2024-06-14 03:44:11,307 - rush - INFO - Argument 5dd19ede-30d6-4694-a665-912387d2f38f is now ModuleInstanceStatus.RUNNING\n",
      "2024-06-14 03:44:21,149 - rush - INFO - Argument 5dd19ede-30d6-4694-a665-912387d2f38f is now ModuleInstanceStatus.AWAITING_UPLOAD\n"
     ]
    },
    {
     "data": {
      "text/plain": [
       "{'pockets': [{'name': 'pocket1',\n",
       "   'rank': 1,\n",
       "   'score': 12.04,\n",
       "   'center_x': 5.24,\n",
       "   'center_y': 9.9235,\n",
       "   'center_z': 27.7115,\n",
       "   'sas_points': 70,\n",
       "   'surf_atoms': 48,\n",
       "   'probability': 0.636,\n",
       "   'residue_ids': ['A_10',\n",
       "    'A_11',\n",
       "    'A_12',\n",
       "    'A_131',\n",
       "    'A_132',\n",
       "    'A_134',\n",
       "    'A_144',\n",
       "    'A_145',\n",
       "    'A_146',\n",
       "    'A_18',\n",
       "    'A_31',\n",
       "    'A_33',\n",
       "    'A_64',\n",
       "    'A_80',\n",
       "    'A_81',\n",
       "    'A_83',\n",
       "    'A_84',\n",
       "    'A_85',\n",
       "    'A_86'],\n",
       "   'surf_atom_ids': [82,\n",
       "    83,\n",
       "    84,\n",
       "    85,\n",
       "    86,\n",
       "    87,\n",
       "    88,\n",
       "    89,\n",
       "    95,\n",
       "    140,\n",
       "    141,\n",
       "    242,\n",
       "    257,\n",
       "    258,\n",
       "    259,\n",
       "    442,\n",
       "    575,\n",
       "    576,\n",
       "    577,\n",
       "    578,\n",
       "    579,\n",
       "    580,\n",
       "    581,\n",
       "    585,\n",
       "    605,\n",
       "    612,\n",
       "    613,\n",
       "    620,\n",
       "    621,\n",
       "    622,\n",
       "    629,\n",
       "    633,\n",
       "    634,\n",
       "    636,\n",
       "    992,\n",
       "    993,\n",
       "    994,\n",
       "    1000,\n",
       "    1003,\n",
       "    1021,\n",
       "    1022,\n",
       "    1093,\n",
       "    1094,\n",
       "    1095,\n",
       "    1098,\n",
       "    1099,\n",
       "    1100,\n",
       "    1102]},\n",
       "  {'name': 'pocket2',\n",
       "   'rank': 2,\n",
       "   'score': 3.36,\n",
       "   'center_x': 4.8154,\n",
       "   'center_y': 39.7843,\n",
       "   'center_z': 33.7155,\n",
       "   'sas_points': 36,\n",
       "   'surf_atoms': 17,\n",
       "   'probability': 0.12,\n",
       "   'residue_ids': ['A_172',\n",
       "    'A_177',\n",
       "    'A_179',\n",
       "    'A_181',\n",
       "    'A_227',\n",
       "    'A_228',\n",
       "    'A_229',\n",
       "    'A_233',\n",
       "    'A_271',\n",
       "    'A_272'],\n",
       "   'surf_atom_ids': [1206,\n",
       "    1239,\n",
       "    1243,\n",
       "    1256,\n",
       "    1260,\n",
       "    1281,\n",
       "    1646,\n",
       "    1648,\n",
       "    1657,\n",
       "    1662,\n",
       "    1663,\n",
       "    1664,\n",
       "    1691,\n",
       "    1692,\n",
       "    2005,\n",
       "    2006,\n",
       "    2014]},\n",
       "  {'name': 'pocket3',\n",
       "   'rank': 3,\n",
       "   'score': 2.69,\n",
       "   'center_x': -5.1658,\n",
       "   'center_y': 31.7986,\n",
       "   'center_z': 26.8232,\n",
       "   'sas_points': 37,\n",
       "   'surf_atoms': 20,\n",
       "   'probability': 0.08,\n",
       "   'residue_ids': ['A_116',\n",
       "    'A_119',\n",
       "    'A_120',\n",
       "    'A_181',\n",
       "    'A_182',\n",
       "    'A_271',\n",
       "    'A_274',\n",
       "    'A_275',\n",
       "    'A_276',\n",
       "    'A_277',\n",
       "    'A_278'],\n",
       "   'surf_atom_ids': [866,\n",
       "    887,\n",
       "    888,\n",
       "    889,\n",
       "    891,\n",
       "    895,\n",
       "    896,\n",
       "    1282,\n",
       "    1288,\n",
       "    1289,\n",
       "    2004,\n",
       "    2028,\n",
       "    2039,\n",
       "    2045,\n",
       "    2048,\n",
       "    2049,\n",
       "    2050,\n",
       "    2055,\n",
       "    2059,\n",
       "    2061]},\n",
       "  {'name': 'pocket4',\n",
       "   'rank': 4,\n",
       "   'score': 2.52,\n",
       "   'center_x': 6.3987,\n",
       "   'center_y': 42.5183,\n",
       "   'center_z': 19.0682,\n",
       "   'sas_points': 46,\n",
       "   'surf_atoms': 22,\n",
       "   'probability': 0.07,\n",
       "   'residue_ids': ['A_219',\n",
       "    'A_226',\n",
       "    'A_245',\n",
       "    'A_264',\n",
       "    'A_268',\n",
       "    'A_269',\n",
       "    'A_270',\n",
       "    'A_273'],\n",
       "   'surf_atom_ids': [1586,\n",
       "    1634,\n",
       "    1636,\n",
       "    1637,\n",
       "    1638,\n",
       "    1639,\n",
       "    1794,\n",
       "    1795,\n",
       "    1796,\n",
       "    1944,\n",
       "    1945,\n",
       "    1972,\n",
       "    1975,\n",
       "    1976,\n",
       "    1977,\n",
       "    1979,\n",
       "    1981,\n",
       "    1988,\n",
       "    1993,\n",
       "    1997,\n",
       "    2022,\n",
       "    2023]},\n",
       "  {'name': 'pocket5',\n",
       "   'rank': 5,\n",
       "   'score': 2.12,\n",
       "   'center_x': -1.1087,\n",
       "   'center_y': 14.3168,\n",
       "   'center_z': 31.8769,\n",
       "   'sas_points': 12,\n",
       "   'surf_atoms': 16,\n",
       "   'probability': 0.049,\n",
       "   'residue_ids': ['A_144', 'A_145', 'A_146', 'A_55', 'A_58', 'A_64', 'A_80'],\n",
       "   'surf_atom_ids': [366,\n",
       "    367,\n",
       "    370,\n",
       "    396,\n",
       "    441,\n",
       "    442,\n",
       "    577,\n",
       "    578,\n",
       "    579,\n",
       "    580,\n",
       "    581,\n",
       "    1093,\n",
       "    1094,\n",
       "    1095,\n",
       "    1102,\n",
       "    1111]},\n",
       "  {'name': 'pocket6',\n",
       "   'rank': 6,\n",
       "   'score': 1.04,\n",
       "   'center_x': 4.3113,\n",
       "   'center_y': 14.2509,\n",
       "   'center_z': 40.8683,\n",
       "   'sas_points': 29,\n",
       "   'surf_atoms': 14,\n",
       "   'probability': 0.006,\n",
       "   'residue_ids': ['A_148', 'A_15', 'A_35', 'A_36', 'A_48', 'A_52', 'A_76'],\n",
       "   'surf_atom_ids': [117,\n",
       "    118,\n",
       "    119,\n",
       "    120,\n",
       "    122,\n",
       "    275,\n",
       "    276,\n",
       "    283,\n",
       "    285,\n",
       "    312,\n",
       "    348,\n",
       "    542,\n",
       "    1120,\n",
       "    1122]},\n",
       "  {'name': 'pocket7',\n",
       "   'rank': 7,\n",
       "   'score': 0.83,\n",
       "   'center_x': -3.7642,\n",
       "   'center_y': 0.6426,\n",
       "   'center_z': 32.9472,\n",
       "   'sas_points': 22,\n",
       "   'surf_atoms': 11,\n",
       "   'probability': 0.003,\n",
       "   'residue_ids': ['A_23',\n",
       "    'A_26',\n",
       "    'A_28',\n",
       "    'A_30',\n",
       "    'A_4',\n",
       "    'A_67',\n",
       "    'A_68',\n",
       "    'A_79'],\n",
       "   'surf_atom_ids': [36, 186, 209, 210, 219, 220, 236, 467, 469, 477, 569]}]}"
      ]
     },
     "execution_count": 11,
     "metadata": {},
     "output_type": "execute_result"
    }
   ],
   "source": [
    "p2rank_results.get()"
   ]
  },
  {
   "cell_type": "markdown",
   "metadata": {},
   "source": [
    "## 3.4) Get PyMol Visualiation files\n",
    "The Rush P2Rank module also produces a zip file of PyMol visualisation if you want to dive deeper into the pockets.\n"
   ]
  },
  {
   "cell_type": "code",
   "execution_count": 12,
   "metadata": {},
   "outputs": [
    {
     "data": {
      "text/plain": [
       "PosixPath('/home/dylan/qdx/p2rank-rush-py-demo/objects/visualisation.tar.gz')"
      ]
     },
     "execution_count": 12,
     "metadata": {},
     "output_type": "execute_result"
    }
   ],
   "source": [
    "visualisation.download(\"visualisation.tar.gz\", overwrite=True)"
   ]
  }
 ],
 "metadata": {
  "kernelspec": {
   "display_name": "Python 3 (ipykernel)",
   "language": "python",
   "name": "python3"
  },
  "language_info": {
   "codemirror_mode": {
    "name": "ipython",
    "version": 3
   },
   "file_extension": ".py",
   "mimetype": "text/x-python",
   "name": "python",
   "nbconvert_exporter": "python",
   "pygments_lexer": "ipython3",
   "version": "3.12.3"
  }
 },
 "nbformat": 4,
 "nbformat_minor": 2
}
