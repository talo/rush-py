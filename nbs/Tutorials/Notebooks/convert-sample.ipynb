{
 "cells": [
  {
   "cell_type": "markdown",
   "id": "51c4b1fa",
   "metadata": {},
   "source": [
    "# Convert — Run a simple conversion of a PDB to the QDXF format"
   ]
  },
  {
   "cell_type": "markdown",
   "id": "5b18a80d",
   "metadata": {},
   "source": [
    "See [the tutorial.](../convert.ipynb)"
   ]
  },
  {
   "cell_type": "code",
   "execution_count": 1,
   "id": "e4436b55",
   "metadata": {},
   "outputs": [],
   "source": [
    "import os\n",
    "from glob import glob\n",
    "from pathlib import Path\n",
    "\n",
    "from pdbtools import pdb_fetch\n",
    "\n",
    "import rush\n",
    "\n",
    "# Define our project information\n",
    "DESCRIPTION = \"rush-py batch notebook\"\n",
    "TAGS = [\"qdx\", \"rush-py-v2\", \"demo\", \"convert\"]\n",
    "WORK_DIR = Path.home() / \"qdx\" / \"convert\"\n",
    "\n",
    "# Set our inputs\n",
    "PROTEIN_PDB_FOLDER_PATH = WORK_DIR / \"proteins\"\n",
    "\n",
    "os.makedirs(PROTEIN_PDB_FOLDER_PATH, exist_ok=True)\n",
    "\n",
    "# Get our client, for calling modules and using the rush API\n",
    "client = await rush.build_provider_with_functions(\n",
    "    workspace=WORK_DIR,\n",
    "    batch_tags=TAGS,\n",
    ")\n",
    "\n",
    "# Fetch pdbs\n",
    "pdb_ids = [\"1B39\", \"1GIH\"]\n",
    "for pdb_id in pdb_ids:\n",
    "    complex = list(pdb_fetch.fetch_structure(pdb_id))\n",
    "    with open(PROTEIN_PDB_FOLDER_PATH / f\"{pdb_id}.pdb\", \"w\") as f:\n",
    "        for line in complex:\n",
    "            f.write(line)\n",
    "\n",
    "\n",
    "# Convert each pdb\n",
    "for pdb in glob(str(PROTEIN_PDB_FOLDER_PATH / \"*.pdb\")):\n",
    "    (conformer,) = await client.convert(\"PDB\", Path(pdb), target=\"NIX\")\n",
    "    print(await conformer.get())\n",
    "\n",
    "await client.status()"
   ]
  }
 ],
 "metadata": {
  "kernelspec": {
   "display_name": "Python 3 (ipykernel)",
   "language": "python",
   "name": "python3"
  },
  "language_info": {
   "codemirror_mode": {
    "name": "ipython",
    "version": 3
   },
   "file_extension": ".py",
   "mimetype": "text/x-python",
   "name": "python",
   "nbconvert_exporter": "python",
   "pygments_lexer": "ipython3",
   "version": "3.11.6"
  }
 },
 "nbformat": 4,
 "nbformat_minor": 5
}
