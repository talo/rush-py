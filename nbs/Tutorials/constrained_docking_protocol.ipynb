{
 "cells": [
  {
   "cell_type": "markdown",
   "metadata": {},
   "source": [
    "## Constrained docking protocol\n",
    "\n",
    "In this tutorial, we will demonstrate how you can use `rush-py` to conduct a large-scale virtual screen on a target using a constrained docking protocol.\n",
    "\n",
    "We will use the Zinc20 database of FDA approved drugs as our sample ligand database, but Rush's capability means that this protocol could scale to screen tens of millions of ligands."
   ]
  },
  {
   "cell_type": "markdown",
   "metadata": {
    "vscode": {
     "languageId": "plaintext"
    }
   },
   "source": [
    "## 0.0) Imports"
   ]
  },
  {
   "cell_type": "code",
   "execution_count": null,
   "metadata": {},
   "outputs": [],
   "source": [
    "import requests\n",
    "import csv\n",
    "import shutil\n",
    "import json\n",
    "import numpy as np\n",
    "from pathlib import Path\n",
    "from enum import Enum\n",
    "\n",
    "from rdkit.Chem import MolFromSmiles, MolToSmiles\n",
    "from rdkit.Chem import AllChem, SDMolSupplier\n",
    "from rdkit.Chem import rdFMCS, rdRascalMCES\n",
    "from rdkit.Chem import rdDistGeom\n",
    "from rdkit import Chem\n",
    "from rdkit.Chem.rdMolAlign import AlignMol\n",
    "from rdkit.Chem import rdForceFieldHelpers\n",
    "\n",
    "from typing import List, Optional"
   ]
  },
  {
   "cell_type": "markdown",
   "metadata": {},
   "source": [
    "## 1.1) Configuration"
   ]
  },
  {
   "cell_type": "code",
   "execution_count": null,
   "metadata": {},
   "outputs": [],
   "source": [
    "# |hide\n",
    "import os\n",
    "import pathlib\n",
    "\n",
    "WORK_DIR = pathlib.Path(\"~/qdx/constrained-docking/\").expanduser()\n",
    "if WORK_DIR.exists():\n",
    "    !rm -r $WORK_DIR\n",
    "os.makedirs(WORK_DIR)\n",
    "os.chdir(WORK_DIR)"
   ]
  },
  {
   "cell_type": "code",
   "execution_count": null,
   "metadata": {},
   "outputs": [],
   "source": [
    "# Define our project information\n",
    "DESCRIPTION = \"rush-py constrained docking protocol\"\n",
    "TAGS = [\"qdx\", \"rush-py-v2\", \"demo\", \"contrained-docking\"]\n",
    "WORK_DIR = Path.home() / \"qdx\" / \"constrained-docking\""
   ]
  },
  {
   "cell_type": "code",
   "execution_count": null,
   "metadata": {},
   "outputs": [],
   "source": [
    "import rush\n",
    "import asyncio\n",
    "\n",
    "client = await rush.build_provider_with_functions()"
   ]
  },
  {
   "cell_type": "markdown",
   "metadata": {},
   "source": [
    "## 0.1) Virtual screen configuration\n",
    "The expectation for using this virtual screen is that you will have a protein with a characterized binding ligand and you will want to try to dock a set of alternate targets to the protein.\n",
    "You should save files to the same directory that you run this notebook in.\n",
    "\n",
    "The key configuration items are:\n",
    "\n",
    "`REFERENCE_LIGAND_FILEPATH`: the path to a SDF file containing a known binder for your protein target.\n",
    "\n",
    "`PROTEIN_TARGET_FILEPATH`: the path to a PDB file containing your protein target. Please note that the binder must be removed. \n",
    "\n",
    "`VIRTUAL_SCREEN_LIBRARY_URL`: a URL to a Zinc20 csv virtual screen database download.\n",
    "\n",
    "`SORT_BY`: sort the GNINA minimised poses output by a particular score. For more information on GNINA outputs, see [here](https://github.com/gnina/gnina).\n"
   ]
  },
  {
   "cell_type": "markdown",
   "metadata": {},
   "source": [
    "## 0.2) \n",
    "For this example, we will fetch an example protein and ligand from RCSB. We are using CDK with the JWS648 inhibitor as a known ligand to serve as our template."
   ]
  },
  {
   "cell_type": "code",
   "execution_count": null,
   "metadata": {},
   "outputs": [],
   "source": [
    "class SortKey(Enum):\n",
    "    CNN_SCORE = \"cnn_score\"\n",
    "    AFFINITY =  \"affinity\"\n",
    "    CNN_AFFINITY = \"cnn_affinity\"\n",
    "\n",
    "REFERENCE_LIGAND_FILEPATH = Path.cwd() / \"3MU6AB_ligand_pymol.sdf\"\n",
    "PROTEIN_TARGET_FILEPATH = Path.cwd() / \"3P57BA_clean.pdb\"\n",
    "VIRTUAL_SCREEN_LIBRARY_URL = 'https://zinc20.docking.org/substances/subsets/fda.csv?count=all'\n",
    "SORT_BY = SortKey.CNN_SCORE\n",
    "\n",
    "OBJECT_POSE_FILEPATH = Path.cwd() / 'objects' "
   ]
  },
  {
   "cell_type": "code",
   "execution_count": null,
   "metadata": {},
   "outputs": [],
   "source": [
    "!pdb_fetch '3pxy' |  pdb_delhetatm > 3pxy_cleaned.pdb\n",
    "REFERENCE_LIGAND_FILEPATH.write_bytes(\n",
    "    requests.get('https://models.rcsb.org/v1/3pxy/ligand?auth_seq_id=299&label_asym_id=B&encoding=sdf&filename=3pxy_B_JWS.sdf').content\n",
    ")\n",
    "!ls"
   ]
  },
  {
   "cell_type": "markdown",
   "metadata": {},
   "source": [
    "## 0.1) Constrained docking code\n",
    "The below block of code is the set of helpers functions necessary for performing constrained docking as part of a large-scale virtual screen."
   ]
  },
  {
   "cell_type": "code",
   "execution_count": null,
   "metadata": {},
   "outputs": [],
   "source": [
    "def get_mcs(query_ligand: Chem.Mol, reference: Chem.Mol, timeout=20, **kwargs) -> Optional[Chem.Mol]:\n",
    "    if kwargs.get(\"ignore_heavy_atom\"):\n",
    "        atom_comparision_method = rdFMCS.AtomCompare.CompareAnyHeavyAtom\n",
    "    else:\n",
    "        atom_comparision_method = rdFMCS.AtomCompare.CompareElements\n",
    "\n",
    "    if kwargs.get(\"ignore_bond_order\"):\n",
    "        bond_comparision_method = rdFMCS.BondCompare.CompareAny\n",
    "    else:\n",
    "        bond_comparision_method = rdFMCS.BondCompare.CompareOrder\n",
    "\n",
    "    if kwargs.get(\"use_rascal_mces\"):\n",
    "        mcs = rdRascalMCES.FindMCES(\n",
    "                [reference, query_ligand],\n",
    "                atomCompare=atom_comparision_method,\n",
    "                bondCompare=bond_comparision_method\n",
    "            )\n",
    "\n",
    "    else:\n",
    "        mcs = rdFMCS.FindMCS(\n",
    "            [reference, query_ligand],\n",
    "            threshold=0.9,\n",
    "            completeRingsOnly=kwargs.get(\"complete_rings_only\", True),\n",
    "            atomCompare=atom_comparision_method,\n",
    "            bondCompare=bond_comparision_method,\n",
    "            timeout=timeout\n",
    "            )\n",
    "    if meets_similarity_threshold(mcs, query_ligand, reference):\n",
    "        return Chem.MolFromSmarts(mcs.smartsString, mergeHs=True)\n",
    "    return None\n",
    "\n",
    "\n",
    "def meets_similarity_threshold(mcs, query_ligand: Chem.Mol, reference: Chem.Mol, min_threshold=0.20) -> bool:\n",
    "    if mcs_result_exists(mcs, query_ligand):\n",
    "        mcs_mol = Chem.MolFromSmarts(mcs.smartsString, mergeHs=True)\n",
    "        match_ratio = min(mcs_mol.GetNumAtoms() / query_ligand.GetNumAtoms(), mcs_mol.GetNumAtoms() / reference.GetNumAtoms())\n",
    "        return match_ratio >= min_threshold\n",
    "\n",
    "    return False\n",
    "\n",
    "\n",
    "INITIAL_FILTER_DISTANCE = 1000\n",
    "def get_diverse_substructure_matches(reference, mcs_mol, minimum_difference=5) -> List[Chem.Mol]:\n",
    "    \"\"\"\n",
    "    Prunes a list of MCS substructure hits within a molecule and keeps only those which are at least the minimum difference apart\n",
    "    This is to capture as many unique substructure hits across the query and the ligand, but discard those that are not meaningfully different (e.g. a rotation of the bond) \n",
    "    A default of 5 is an effective balance between retaining novel hits and discarding excessively similar values.\n",
    "    \"\"\"\n",
    "    substructures = reference.GetSubstructMatches(mcs_mol, uniquify=False)\n",
    "\n",
    "    output_structures = [\n",
    "        substructures[0]\n",
    "    ]\n",
    "    for substructure in substructures[1:]:\n",
    "        distance = INITIAL_FILTER_DISTANCE\n",
    "        j = 0\n",
    "\n",
    "        while (distance >= minimum_difference) and j < len(output_structures):\n",
    "            ref = np.array(output_structures[j])\n",
    "            distance = sum(np.array(substructure) != ref)\n",
    "            j += 1\n",
    "\n",
    "        if distance >= minimum_difference:\n",
    "            output_structures.append(substructure)\n",
    "    \n",
    "    return output_structures\n",
    "\n",
    "def get_tethered_atoms(substruct_match) -> str:\n",
    "    \"\"\"\n",
    "    Return a formatted string of atom indexes to pass to \"TETHERED ATOMS\" configuration option for rxdock\n",
    "\n",
    "    Example input:\n",
    "    (0, 1, 2)\n",
    "\n",
    "    Example output:\n",
    "    1,2,3\n",
    "    \"\"\"\n",
    "    return ','.join(str(index + 1) for index in substruct_match)\n",
    "\n",
    "def mcs_result_exists(mcs, query) -> bool:\n",
    "    return mcs.smartsString and len(mcs.smartsString) > 0\n",
    "\n",
    "def get_force_field(geom_calc, query_mol):\n",
    "    ff = rdForceFieldHelpers.UFFGetMoleculeForceField(query_mol, confId=0)\n",
    "\n",
    "    for i in geom_calc.coordMap:\n",
    "        point = geom_calc.coordMap[i]\n",
    "        point_idx = ff.AddExtraPoint(point.x, point.y, point.z, fixed=True) - 1\n",
    "        ff.AddDistanceConstraint(point_idx, i, 0, 0, 100.0)\n",
    "    ff.Initialize()\n",
    "\n",
    "    return ff\n",
    "\n",
    "\n",
    "def get_template_aligned_pose(query, reference, query_ligand_map, geom_calc, n_tries=5) -> Chem.Mol:\n",
    "    \"\"\"\n",
    "    Align query molecule to \"template\" (reference molecule)\n",
    "    Distance constrints are enforced on the input ligand to mould the geometry of its matching substructure to that in the template\n",
    "    \"\"\"\n",
    "    temp_query_mol = Chem.Mol(query) \n",
    "\n",
    "    min_energy = np.inf\n",
    "    bestmol = None\n",
    "        \n",
    "    for _ in range(n_tries):\n",
    "        # Repeat the alignment step at each starting configuration\n",
    "        # Places internal geometry (bond angles, torsion, etc) of parts of the ligand \n",
    "        # that matches that in the reference \n",
    "        # Need to error here if ci > 0\n",
    "        AllChem.EmbedMolecule(temp_query_mol, geom_calc)\n",
    "\n",
    "        # This step is critical as it places the molecule in a good starting position relative to the reference\n",
    "        AlignMol(temp_query_mol, reference, atomMap=query_ligand_map)\n",
    "        \n",
    "        ff = get_force_field(geom_calc, temp_query_mol)\n",
    "        \n",
    "        minimize_tries = 4\n",
    "        more_to_minimize = ff.Minimize(energyTol=1e-4, forceTol=1e-3)\n",
    "        while more_to_minimize and minimize_tries:\n",
    "            more_to_minimize = ff.Minimize(energyTol=1e-4, forceTol=1e-3)\n",
    "            minimize_tries -= 1\n",
    "        current_energy = ff.CalcEnergy()\n",
    "        \n",
    "        if current_energy < min_energy:\n",
    "            bestmol = Chem.Mol(\n",
    "                temp_query_mol\n",
    "            )\n",
    "            min_energy = current_energy\n",
    "        temp_query_mol = Chem.Mol(\n",
    "            query\n",
    "        )\n",
    "\n",
    "    AlignMol(bestmol, reference, atomMap=query_ligand_map)\n",
    "\n",
    "    return bestmol\n",
    "\n",
    "def get_substructure_matches(molecule, mcs_mol, uniquify=True) -> Chem.Mol:\n",
    "    return molecule.GetSubstructMatches(mcs_mol, uniquify=uniquify)        \n",
    "\n",
    "def get_dist_geom_calculator(reference, query_matches, reference_match, constrained_atoms):\n",
    "    geom_calc = rdDistGeom.ETKDGv3()\n",
    "    geom_calc.trackFailures = True\n",
    "    geom_calc.coordMap = {\n",
    "        query_matches[atom_idx]: reference.GetConformer().GetAtomPosition(reference_match[atom_idx]) for atom_idx in range(len(constrained_atoms))\n",
    "    }\n",
    "\n",
    "    return geom_calc\n",
    "\n",
    "def get_initial_poses(query, reference, max_symmetry=5) -> List[Chem.Mol]:\n",
    "    \"\"\"\n",
    "    Use maximum common substructure between query and template ligand to generate initial docking poses\n",
    "    of query ligand\n",
    "\n",
    "    \"\"\"\n",
    "    mcs_mol = get_mcs(query, reference)\n",
    "    if not mcs_mol:\n",
    "        return []\n",
    "    reference_matches = get_diverse_substructure_matches(reference, mcs_mol)\n",
    "    molecule_matches = get_substructure_matches(query, mcs_mol)\n",
    "\n",
    "    constrained_atoms = molecule_matches[0]\n",
    "    constrained_atom_ids = get_tethered_atoms(constrained_atoms)\n",
    "\n",
    "    molhits = query.GetSubstructMatch(\n",
    "            mcs_mol\n",
    "        ) \n",
    "\n",
    "    poses = []\n",
    "    \n",
    "    n_iterations = min(len(reference_matches), max_symmetry)\n",
    "\n",
    "    for i in range(n_iterations):\n",
    "        geom_calc = get_dist_geom_calculator(reference, molhits, reference_matches[i], constrained_atoms)\n",
    "        \n",
    "        posed_mol = get_template_aligned_pose(\n",
    "            query,\n",
    "            reference,\n",
    "            [(m_idx, r_idx) for m_idx, r_idx in zip(molhits, reference_matches[i])],\n",
    "            geom_calc\n",
    "        )\n",
    "        posed_mol.SetProp(\"TETHERED ATOMS\", constrained_atom_ids)\n",
    "        poses.append(posed_mol)\n",
    "\n",
    "    return poses"
   ]
  },
  {
   "cell_type": "markdown",
   "metadata": {},
   "source": [
    "## 1.0) Virtual screen library\n",
    "This section contains the section for downloading a virtual screen library from Zinc20 and converting it into RDKit molecules we can constrain"
   ]
  },
  {
   "cell_type": "code",
   "execution_count": null,
   "metadata": {},
   "outputs": [],
   "source": [
    "from rdkit.Chem import MolToInchi\n",
    "\n",
    "def load_zinc20_virtual_screen_library(url) -> List[Chem.Mol]:\n",
    "    ligands = []\n",
    "    with requests.get(url, stream=True) as response:\n",
    "        response.raise_for_status()\n",
    "\n",
    "        lines = (line.decode('utf-8') for line in response.iter_lines())\n",
    "        reader = csv.DictReader(lines)\n",
    "        \n",
    "        for row in reader:\n",
    "            if 'smiles' in row:\n",
    "                mol = MolFromSmiles(row['smiles'])\n",
    "                mol = Chem.AddHs(mol)\n",
    "                # For reproducibility. In principle it won't matter much because we're moving it to fit the template\n",
    "                Chem.rdDistGeom.EmbedMolecule(mol, 1, randomSeed=0xf00d) \n",
    "                mol.SetProp(\"ZINC_ID\", row['zinc_id'])\n",
    "\n",
    "                ligands.append(mol)\n",
    "\n",
    "    return ligands\n",
    "query_ligands = load_zinc20_virtual_screen_library(VIRTUAL_SCREEN_LIBRARY_URL)"
   ]
  },
  {
   "cell_type": "code",
   "execution_count": null,
   "metadata": {},
   "outputs": [],
   "source": [
    "suppl = SDMolSupplier(REFERENCE_LIGAND_FILEPATH)\n",
    "reference_ligand = suppl[0]\n",
    "assert reference_ligand is not None "
   ]
  },
  {
   "cell_type": "markdown",
   "metadata": {},
   "source": [
    "## 1.1) Generate initial poses\n",
    "In this stage, we generate initial constrained poses from our query ligands that we will feed to our docking pipeline."
   ]
  },
  {
   "cell_type": "code",
   "execution_count": null,
   "metadata": {},
   "outputs": [],
   "source": [
    "from mpire import WorkerPool\n",
    "import multiprocessing\n",
    "\n",
    "poses = []\n",
    "\n",
    "def process_query_ligand(query_ligand):\n",
    "    \"\"\" Function to process each query ligand with get_initial_poses\"\"\"\n",
    "    # print(MolToSmiles(query_ligand))\n",
    "    return get_initial_poses(query_ligand, reference_ligand)\n",
    "\n",
    "num_processes = multiprocessing.cpu_count() - 5\n",
    "\n",
    "\n",
    "with WorkerPool(n_jobs=num_processes, enable_insights=True) as pool:\n",
    "    poses.extend(pool.map_unordered(process_query_ligand, query_ligands))"
   ]
  },
  {
   "cell_type": "code",
   "execution_count": null,
   "metadata": {},
   "outputs": [],
   "source": [
    "poses = [pose for pose in poses if pose]\n",
    "poses"
   ]
  },
  {
   "cell_type": "markdown",
   "metadata": {},
   "source": [
    "## 1.2) Write poses to SDF files\n",
    "In this stage we write the poses calculated by our constrained docking into SDF files."
   ]
  },
  {
   "cell_type": "code",
   "execution_count": null,
   "metadata": {},
   "outputs": [],
   "source": [
    "INITIAL_POSE_PATH = Path.cwd() / \"initial_poses\"\n",
    "if os.path.exists(INITIAL_POSE_PATH):\n",
    "        shutil.rmtree(INITIAL_POSE_PATH)\n",
    "os.makedirs(INITIAL_POSE_PATH)\n"
   ]
  },
  {
   "cell_type": "code",
   "execution_count": null,
   "metadata": {},
   "outputs": [],
   "source": [
    "molecule_hashes = {}\n",
    "os.chdir(INITIAL_POSE_PATH)\n",
    "for query_poses in poses:\n",
    "    for query_pose in query_poses:\n",
    "        mol_hash = hash(query_pose)\n",
    "        molecule_hashes[mol_hash] = query_pose\n",
    "\n",
    "        filename = f'{mol_hash}.sdf'\n",
    "        writer = Chem.SDWriter(filename)\n",
    "        writer.write(query_pose)\n",
    "        writer.close()"
   ]
  },
  {
   "cell_type": "markdown",
   "metadata": {},
   "source": [
    "## 1.3) Run constrained docking via the Rush platform\n",
    "In this step, we use rxdock and gnina to run our constrained docking workflow."
   ]
  },
  {
   "cell_type": "code",
   "execution_count": null,
   "metadata": {},
   "outputs": [],
   "source": [
    "os.chdir(WORK_DIR)\n",
    "rxdock_outputs = []\n",
    "\n",
    "TETHERED_DOCKING_CONFIGURATION = {\n",
    "        \"rot_mode\": \"TETHERED\",\n",
    "        \"trans_mode\": \"TETHERED\",\n",
    "        \"max_rot\": 3.0,\n",
    "        \"max_trans\": 1.0\n",
    "}  \n",
    "for pose in molecule_hashes:\n",
    "    print(pose)\n",
    "    (conformers, scores, sdf) = await client.rxdock(\n",
    "        None,\n",
    "        None,\n",
    "        {\"n_runs\": 10},\n",
    "        TETHERED_DOCKING_CONFIGURATION,\n",
    "        None,\n",
    "        PROTEIN_TARGET_FILEPATH,\n",
    "        INITIAL_POSE_PATH / f'{pose}.sdf'\n",
    "    )\n",
    "    rxdock_outputs.append((sdf, pose))\n",
    "\n",
    "await asyncio.gather(*(sdf.download(filename=f\"{pose}_rxdock.sdf\",) for sdf, pose in rxdock_outputs))"
   ]
  },
  {
   "cell_type": "code",
   "execution_count": null,
   "metadata": {},
   "outputs": [],
   "source": [
    "gnina_results = []\n",
    "\n",
    "for pose in molecule_hashes:\n",
    "    (docked_ligands, results) = await client.gnina_pdb(\n",
    "        PROTEIN_TARGET_FILEPATH,\n",
    "        Path.cwd() / 'objects' / f'{pose}_rxdock.sdf',\n",
    "        Path.cwd() / f'{pose}.sdf',\n",
    "        {\n",
    "            \"num_modes\": 10,\n",
    "            \"exhaustiveness\": 8,\n",
    "            \"minimise\": True\n",
    "        },\n",
    "    )\n",
    "    gnina_results.append(\n",
    "        (pose, results, docked_ligands)\n",
    "    )\n",
    "\n",
    "await asyncio.gather(*(\n",
    "    [output[1].get() for output in gnina_results]\n",
    "    )\n",
    ")\n",
    "\n",
    "await asyncio.gather(*\n",
    "        (\n",
    "            [output[2].download(filename=f\"{output[0]}_gnina.sdf\", overwrite=True) for output in gnina_results]\n",
    "        )\n",
    ")"
   ]
  },
  {
   "cell_type": "markdown",
   "metadata": {},
   "source": [
    "## 1.4) Sorting and presentation of results\n",
    "In this section, we sort and display the top scored molecules from our virtual screen, including the QDXF conformers for each of our poses."
   ]
  },
  {
   "cell_type": "code",
   "execution_count": null,
   "metadata": {},
   "outputs": [],
   "source": [
    "POSE = 0\n",
    "GNINA_SCORES = 1\n",
    "GNINA_SDF_RESULTS = 2"
   ]
  },
  {
   "cell_type": "code",
   "execution_count": null,
   "metadata": {},
   "outputs": [],
   "source": [
    "# Destructure the gnina scores from the Rush output\n",
    "gnina_results = [(result[POSE], result[GNINA_SCORES].value, result[GNINA_SDF_RESULTS]) for result in gnina_results]\n",
    "\n",
    "def find_best_pose(sublist, sort_key=SORT_BY):\n",
    "    return max(item[sort_key.value] for item in sublist[1])\n",
    "\n",
    "sorted_hits = sorted(gnina_results, key=find_best_pose, reverse=True)"
   ]
  },
  {
   "cell_type": "code",
   "execution_count": null,
   "metadata": {},
   "outputs": [],
   "source": [
    "posed_conformers = []\n",
    "for result in gnina_results:\n",
    "    (conformers,) = await client.convert('SDF', result[GNINA_SDF_RESULTS])\n",
    "    posed_conformers.append(\n",
    "        (result[POSE], conformers)\n",
    "    )\n",
    "await asyncio.gather(*\n",
    "        (\n",
    "            [output[1].download(filename=f\"{output[0]}_gnina_conformer.json\", overwrite=True) for output in posed_conformers]\n",
    "        )\n",
    ")"
   ]
  },
  {
   "cell_type": "code",
   "execution_count": null,
   "metadata": {},
   "outputs": [],
   "source": [
    "final_output = []\n",
    "for result in gnina_results:\n",
    "    mhash = result[POSE]\n",
    "    file_path = Path.cwd()/ 'objects' / f'{mhash}_gnina_conformer.json'\n",
    "    conformers = json.loads(file_path.read_text())\n",
    "    scores = result[GNINA_SCORES]\n",
    "    final_output.append(\n",
    "        (\n",
    "            mhash,\n",
    "            molecule_hashes[mhash],\n",
    "            [{**i, **j} for i, j in zip(conformers, scores)]\n",
    "         )\n",
    "    )"
   ]
  },
  {
   "cell_type": "markdown",
   "metadata": {},
   "source": [
    "## 1.4.1) Final table presentation\n",
    "In this output, we display the outputs of our virtual screen. `rxdock` produces 10 poses per target ligand, but this protocol only displays only 2 poses by default."
   ]
  },
  {
   "cell_type": "code",
   "execution_count": null,
   "metadata": {},
   "outputs": [],
   "source": [
    "N_TOP_HITS = 10\n",
    "N_POSES_PER_MOLECULE = 2\n",
    "\n",
    "for molecule in final_output[0:N_TOP_HITS]:\n",
    "    print(\"=\" * 50)\n",
    "    print(f\"{MolToSmiles(molecule[1])}, hash: {molecule[0]}\")\n",
    "\n",
    "    for idx, pose in enumerate(molecule[2][0:N_POSES_PER_MOLECULE]):\n",
    "        print(f\"POSE {idx}\")\n",
    "        print(f\"CNN score: {pose['cnn_score']}\")\n",
    "        print(f\"Affinity: {pose['affinity']}\")\n",
    "        print(f\"CNN affinity: {pose['cnn_affinity']}\")\n",
    "        # print(f'{pose['topology']['symbols'][0:5]}') if you want to inspect the output QDXF conformer\n",
    "        print(\"-\" * 50)"
   ]
  }
 ],
 "metadata": {
  "kernelspec": {
   "display_name": "Python 3 (ipykernel)",
   "language": "python",
   "name": "python3"
  },
  "language_info": {
   "codemirror_mode": {
    "name": "ipython",
    "version": 3
   },
   "file_extension": ".py",
   "mimetype": "text/x-python",
   "name": "python",
   "nbconvert_exporter": "python",
   "pygments_lexer": "ipython3",
   "version": "3.12.2"
  }
 },
 "nbformat": 4,
 "nbformat_minor": 2
}
