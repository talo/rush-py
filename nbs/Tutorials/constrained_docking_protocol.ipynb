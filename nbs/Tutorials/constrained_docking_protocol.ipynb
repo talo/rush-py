{
 "cells": [
  {
   "cell_type": "markdown",
   "metadata": {},
   "source": [
    "## Constrained docking protocol\n",
    "\n",
    "In this tutorial, we will demonstrate how you can use `rush-py` to conduct a large-scale virtual screen on a target using a constrained docking protocol.\n",
    "\n",
    "We will use the Zinc20 database of FDA approved drugs as our sample ligand database, but Rush's capability means that this protocol could scale to screen tens of millions of ligands."
   ]
  },
  {
   "cell_type": "markdown",
   "metadata": {
    "vscode": {
     "languageId": "plaintext"
    }
   },
   "source": [
    "## 0.0) Imports"
   ]
  },
  {
   "cell_type": "code",
   "execution_count": 20,
   "metadata": {},
   "outputs": [],
   "source": [
    "import rdkit\n",
    "import os \n",
    "import os\n",
    "import math\n",
    "import numpy as np\n",
    "from rdkit.Chem import Draw\n",
    "from rdkit.Chem import MolFromSmiles, MolFromSmarts, SDMolSupplier\n",
    "from rdkit.Chem import AllChem\n",
    "from rdkit.Chem import rdFMCS, rdRascalMCES\n",
    "from rdkit.Chem import rdDistGeom\n",
    "from rdkit import Chem\n",
    "from rdkit.Chem.rdMolAlign import AlignMol\n",
    "from rdkit.Chem import rdForceFieldHelpers"
   ]
  },
  {
   "cell_type": "code",
   "execution_count": 3,
   "metadata": {},
   "outputs": [],
   "source": [
    "def constrained_docking(): pass"
   ]
  },
  {
   "cell_type": "code",
   "execution_count": 21,
   "metadata": {},
   "outputs": [],
   "source": [
    "def find_mcs(query_ligands, reference, timeout=3600, **kwargs):\n",
    "    if kwargs.get(\"ignore_heavy_atom\"):\n",
    "        atom_comparision_method = rdFMCS.AtomCompare.CompareAnyHeavyAtom\n",
    "    else:\n",
    "        atom_comparision_method = rdFMCS.AtomCompare.CompareAnyHeavyAtom\n",
    "\n",
    "    if kwargs.get(\"ignore_bond_order\"):\n",
    "        bond_comparision_method = rdFMCS.BondCompare.CompareAny\n",
    "    else:\n",
    "        bond_comparision_method = rdFMCS.BondCompare.CompareOrder\n",
    "\n",
    "    mcs_results = []\n",
    "\n",
    "    for query_ligand in query_ligands:\n",
    "        if kwargs.get(\"use_rascal_mces\"):\n",
    "            mcs_results.append(\n",
    "                rdRascalMCES.FindMCES(\n",
    "                    [reference, query_ligand],\n",
    "                    atomCompare=atom_comparision_method,\n",
    "                    bondCompare=bond_comparision_method\n",
    "                )\n",
    "            )\n",
    "        else:\n",
    "            mcs_results.append(rdFMCS.FindMCS(\n",
    "                [reference, query_ligand],\n",
    "                threshold=0.9,\n",
    "                completeRingsOnly=kwargs.get(\"complete_rings_only\", False),\n",
    "                atomCompare=atom_comparision_method,\n",
    "                bondCompare=bond_comparision_method,\n",
    "                timeout=timeout\n",
    "            )\n",
    "            )\n",
    "\n",
    "    return mcs_results\n",
    "\n",
    "\n",
    "def meets_similarity_threshold(mcs, reference, min_threshold=0.2):\n",
    "    if mcs_result_exists(mcs):\n",
    "        mcs_mol = Chem.MolFromSmarts(mcsResult.smartsString, mergeHs=True)\n",
    "        match_ratio = mcs_mol.GetNumAtoms() / reference.GetNumAtoms()\n",
    "\n",
    "        return match_ratio >= min_threshold\n",
    "    \n",
    "    return False\n",
    "\n",
    "\n",
    "def filter_mcs(mcss, reference):\n",
    "    return [mcs for mcs in mcss if meets_similarity_threshold(mcs, reference)]\n",
    "\n",
    "\n",
    "INITIAL_FILTER_DISTANCE = 1000\n",
    "def get_diverse_substructure_hits(reference, mcs, minimum_difference=5):\n",
    "    \"\"\"\n",
    "    Prunes a list of MCS substructure hits within a molecule and keeps only those which are at least the minimum difference apart\n",
    "    This is to capture as many unique substructure hits across the query and the ligand, but discard those that are not meaningfully different (e.g. a rotation of the bond) \n",
    "    A default of 5 is an effective balance between retaining novel hits   \n",
    "    \"\"\"\n",
    "    mcs_molecule = MolFromSmarts(mcsResult.smartsString, mergeHs=True)\n",
    "    substructures = reference.GetSubstructMatches(mcs_molcule, uniquify=False)\n",
    "\n",
    "    output_structures = [\n",
    "        substructures[0]\n",
    "    ]\n",
    "    for substructure in substructures[1:]:\n",
    "        distance = INITIAL_FILTER_DISTANCE\n",
    "        j = 0\n",
    "\n",
    "        while (distance >= minimum_difference) and j < len(output_structures):\n",
    "            ref = np.array(output_structures[j])\n",
    "            distance = sum(np.array(substructure) != ref)\n",
    "            j += 1\n",
    "\n",
    "        if distance >= mindiff:\n",
    "            output_structures.append(substructure)\n",
    "\n",
    "    return output_structures\n",
    "\n",
    "\n",
    "def get_tethered_atoms(substruct_match) -> str:\n",
    "    \"\"\"\n",
    "    Return a formatted string of atom indexes to pass to \"TETHERED ATOMS\" configuration option for rxdock\n",
    "\n",
    "    Example input:\n",
    "    (0, 1, 2)\n",
    "\n",
    "    Example output:\n",
    "    1,2,3\n",
    "    \"\"\"\n",
    "    return ','.join(str(index + 1) for index in substruct_match)\n",
    "\n",
    "def mcs_result_exists(mcs) -> bool:\n",
    "    return mcs.smartsString and len(mcs.smartsString) > 0\n",
    "\n",
    "\n",
    "def get_force_field(geom_calc, query_mol):\n",
    "    ff = rdForceFieldHelpers.UFFGetMoleculeForceField(query_mol, confId=0)\n",
    "\n",
    "    for i in geom_calc.coordMap:\n",
    "        point = geom_calc.coordMap[i]\n",
    "        point_idx = ff.AddExtraPoint(point.x, point.y, point.z, fixed=True) - 1\n",
    "        ff.AddDistanceConstraint(point_idx, i, 0, 0, 100.0)\n",
    "    ff.Initialize()\n",
    "\n",
    "    return query_mol\n",
    "\n",
    "\n",
    "def constrained_embed(query, reference, geom_calc, n_tries=5) -> Chem.Mol:\n",
    "    \"\"\"\n",
    "    Align query molecule to \"template\" (reference molecule)\n",
    "    Distance constrints are enforced on the input ligand to mould the geometry of its matching substructure to that in the template\n",
    "    \"\"\"\n",
    "    temp_query_mol = Chem.Mol(query) \n",
    "\n",
    "    min_energy = np.inf\n",
    "    best_mol = None\n",
    "\n",
    "    ff = get_forcefield(geom_calc, temp_query_mol)\n",
    "\n",
    "    AlignMol(temp_query_mol, reference, atomMap=algMap)\n",
    "\n",
    "\n",
    "   \n",
    "def get_substructure_matches(molecule, mcs) -> Chem.Mol:\n",
    "    mcs_mol = Chem.MolFromSmarts(mcsResult.smartsString, mergeHs=True)\n",
    "    return molecule.GetSubstructMatches(mcs_mol)\n",
    "\n",
    "\n",
    "def get_dist_geom_calculator(reference, query_match, reference_match, constrained_atoms):\n",
    "    geom_calc = rdDistGeom.ETKDGv3()\n",
    "    geom_calc.trackFailures = True\n",
    "\n",
    "    geom_calc.coordMap = {\n",
    "        query_match[atom_idx]: reference.GetConformer().GetAtomPosition(reference_match[atom_idx])for atom_idx in range(len(constrained_atoms))\n",
    "    }\n",
    "\n",
    "    return geom_calc\n",
    "\n",
    "\n"
   ]
  },
  {
   "cell_type": "code",
   "execution_count": 7,
   "metadata": {},
   "outputs": [
    {
     "data": {
      "text/plain": [
       "'[#6]-[#6]-[#8,#6]'"
      ]
     },
     "execution_count": 7,
     "metadata": {},
     "output_type": "execute_result"
    }
   ],
   "source": [
    "# test find_mcs\n",
    "reference = MolFromSmiles(\"CCO\")\n",
    "query = MolFromSmiles(\"CC(C)O\")\n",
    "mcs = find_mcs([query], reference)\n",
    "\n",
    "mcs[0].smartsString"
   ]
  },
  {
   "cell_type": "code",
   "execution_count": 9,
   "metadata": {},
   "outputs": [],
   "source": [
    "# test filter_varied_mcs\n",
    "patt = MolFromSmarts(mcs[0].smartsString, mergeHs=True)\n",
    "substructures = reference.GetSubstructMatches(patt, uniquify=False)"
   ]
  },
  {
   "cell_type": "code",
   "execution_count": 17,
   "metadata": {},
   "outputs": [],
   "source": [
    "ligfilename = 'LIA_ideal.sdf' # This is the corresponding sdf file of the template ligand. Missing hydrogens are ok here\n",
    "reference = SDMolSupplier(ligfilename, sanitize=False)[0] # The hydrogens are dropped in this step, which is convenient, since we do not want H-alignment in the substructure matching step\n"
   ]
  }
 ],
 "metadata": {
  "kernelspec": {
   "display_name": "Python 3 (ipykernel)",
   "language": "python",
   "name": "python3"
  },
  "language_info": {
   "codemirror_mode": {
    "name": "ipython",
    "version": 3
   },
   "file_extension": ".py",
   "mimetype": "text/x-python",
   "name": "python",
   "nbconvert_exporter": "python",
   "pygments_lexer": "ipython3",
   "version": "3.12.2"
  }
 },
 "nbformat": 4,
 "nbformat_minor": 2
}
