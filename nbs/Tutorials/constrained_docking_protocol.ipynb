{
 "cells": [
  {
   "cell_type": "markdown",
   "metadata": {},
   "source": [
    "## Constrained docking protocol\n",
    "\n",
    "In this tutorial, we will demonstrate how you can use `rush-py` to conduct a large-scale virtual screen on a target using a constrained docking protocol.\n",
    "\n",
    "We will use the Zinc20 database of FDA approved drugs as our sample ligand database, but Rush's capability means that this protocol could scale to screen tens of millions of ligands."
   ]
  },
  {
   "cell_type": "markdown",
   "metadata": {
    "vscode": {
     "languageId": "plaintext"
    }
   },
   "source": [
    "## 0.0) Imports"
   ]
  },
  {
   "cell_type": "code",
   "execution_count": 1,
   "metadata": {},
   "outputs": [],
   "source": [
    "import rdkit\n",
    "import os \n",
    "import os\n",
    "import math\n",
    "import numpy as np\n",
    "from rdkit.Chem import Draw\n",
    "from rdkit.Chem import MolFromSmiles, MolFromSmarts, SDMolSupplier\n",
    "from rdkit.Chem import AllChem\n",
    "from rdkit.Chem import rdFMCS, rdRascalMCES\n",
    "from rdkit.Chem import rdDistGeom\n",
    "from rdkit import Chem\n",
    "from rdkit.Chem.rdMolAlign import AlignMol\n",
    "from rdkit.Chem import rdForceFieldHelpers\n",
    "\n",
    "from typing import List, Optional"
   ]
  },
  {
   "cell_type": "code",
   "execution_count": 2,
   "metadata": {},
   "outputs": [],
   "source": [
    "# CODE\n",
    "\n",
    "def get_mcs(query_ligand: Chem.Mol, reference: Chem.Mol, timeout=3600, **kwargs) -> Optional[Chem.Mol]:\n",
    "    if kwargs.get(\"ignore_heavy_atom\"):\n",
    "        atom_comparision_method = rdFMCS.AtomCompare.CompareAnyHeavyAtom\n",
    "    else:\n",
    "        atom_comparision_method = rdFMCS.AtomCompare.CompareAnyHeavyAtom\n",
    "\n",
    "    if kwargs.get(\"ignore_bond_order\"):\n",
    "        bond_comparision_method = rdFMCS.BondCompare.CompareAny\n",
    "    else:\n",
    "        bond_comparision_method = rdFMCS.BondCompare.CompareOrder\n",
    "\n",
    "    if kwargs.get(\"use_rascal_mces\"):\n",
    "        mcs = rdRascalMCES.FindMCES(\n",
    "                [reference, query_ligand],\n",
    "                atomCompare=atom_comparision_method,\n",
    "                bondCompare=bond_comparision_method\n",
    "            )\n",
    "\n",
    "    else:\n",
    "        mcs = rdFMCS.FindMCS(\n",
    "            [reference, query_ligand],\n",
    "            threshold=0.9,\n",
    "            completeRingsOnly=kwargs.get(\"complete_rings_only\", False),\n",
    "            atomCompare=atom_comparision_method,\n",
    "            bondCompare=bond_comparision_method,\n",
    "            timeout=timeout\n",
    "            )\n",
    "    if mcs_result_exists(mcs):\n",
    "        return Chem.MolFromSmarts(mcs.smartsString, mergeHs=True)\n",
    "\n",
    "\n",
    "def meets_similarity_threshold(mcs, reference, min_threshold=0.2):\n",
    "    if mcs_result_exists(mcs):\n",
    "        mcs_mol = Chem.MolFromSmarts(mcs.smartsString, mergeHs=True)\n",
    "        match_ratio = mcs_mol.GetNumAtoms() / reference.GetNumAtoms()\n",
    "\n",
    "        return match_ratio >= min_threshold\n",
    "    \n",
    "    return False\n",
    "\n",
    "\n",
    "def get_filtered_mcs(mcss, reference):\n",
    "    return [mcs for mcs in mcss if meets_similarity_threshold(mcs, reference)]\n",
    "\n",
    "\n",
    "def get_mcs_molecule(mcs) -> Optional[Chem.Mol]:\n",
    "    if mcs_result_exists(mcs):\n",
    "        return  Chem.MolFromSmarts(mcs.smartsString, mergeHs=True)\n",
    "    return None\n",
    "\n",
    "\n",
    "INITIAL_FILTER_DISTANCE = 1000\n",
    "def get_diverse_substructure_matches(reference, mcs_mol, minimum_difference=5) -> List[Chem.Mol]:\n",
    "    \"\"\"\n",
    "    Prunes a list of MCS substructure hits within a molecule and keeps only those which are at least the minimum difference apart\n",
    "    This is to capture as many unique substructure hits across the query and the ligand, but discard those that are not meaningfully different (e.g. a rotation of the bond) \n",
    "    A default of 5 is an effective balance between retaining novel hits and discarding excessively similar values.\n",
    "    \"\"\"\n",
    "    substructures = reference.GetSubstructMatches(mcs_mol, uniquify=False)\n",
    "\n",
    "    output_structures = [\n",
    "        substructures[0]\n",
    "    ]\n",
    "    for substructure in substructures[1:]:\n",
    "        distance = INITIAL_FILTER_DISTANCE\n",
    "        j = 0\n",
    "\n",
    "        while (distance >= minimum_difference) and j < len(output_structures):\n",
    "            ref = np.array(output_structures[j])\n",
    "            distance = sum(np.array(substructure) != ref)\n",
    "            j += 1\n",
    "\n",
    "        if distance >= minimum_difference:\n",
    "            output_structures.append(substructure)\n",
    "    \n",
    "    return output_structures\n",
    "\n",
    "\n",
    "def get_tethered_atoms(substruct_match) -> str:\n",
    "    \"\"\"\n",
    "    Return a formatted string of atom indexes to pass to \"TETHERED ATOMS\" configuration option for rxdock\n",
    "\n",
    "    Example input:\n",
    "    (0, 1, 2)\n",
    "\n",
    "    Example output:\n",
    "    1,2,3\n",
    "    \"\"\"\n",
    "    return ','.join(str(index + 1) for index in substruct_match)\n",
    "\n",
    "def mcs_result_exists(mcs) -> bool:\n",
    "    return mcs.smartsString and len(mcs.smartsString) > 0\n",
    "\n",
    "\n",
    "def get_force_field(geom_calc, query_mol):\n",
    "    ff = rdForceFieldHelpers.UFFGetMoleculeForceField(query_mol, confId=0)\n",
    "\n",
    "    for i in geom_calc.coordMap:\n",
    "        point = geom_calc.coordMap[i]\n",
    "        point_idx = ff.AddExtraPoint(point.x, point.y, point.z, fixed=True) - 1\n",
    "        ff.AddDistanceConstraint(point_idx, i, 0, 0, 100.0)\n",
    "    ff.Initialize()\n",
    "\n",
    "    return ff\n",
    "\n",
    "\n",
    "def get_template_aligned_pose(query, reference, query_ligand_map, geom_calc, n_tries=5) -> Chem.Mol:\n",
    "    \"\"\"\n",
    "    Align query molecule to \"template\" (reference molecule)\n",
    "    Distance constrints are enforced on the input ligand to mould the geometry of its matching substructure to that in the template\n",
    "    \"\"\"\n",
    "    temp_query_mol = Chem.Mol(query) \n",
    "\n",
    "    min_energy = np.inf\n",
    "    bestmol = None\n",
    "\n",
    "    ff = get_force_field(geom_calc, temp_query_mol)\n",
    "    AllChem.EmbedMolecule(temp_query_mol, geom_calc)\n",
    "    # Need to error here if ci > 0\n",
    "\n",
    "    for _ in range(n_tries):\n",
    "        # We run the minimize numerous times from the beginning as `minimize` is stochastic in nature.\n",
    "        # This behavior is not documented in RDKit.\n",
    "\n",
    "        ff = get_force_field(geom_calc, temp_query_mol)\n",
    "        AllChem.EmbedMolecule(temp_query_mol, geom_calc)\n",
    "\n",
    "        minimize_tries = 20\n",
    "        more_to_minimize = ff.Minimize(energyTol=1e-4, forceTol=1e-3)\n",
    "        while more_to_minimize and minimize_tries:\n",
    "            more_to_minimize = ff.Minimize(energyTol=1e-4, forceTol=1e-3)\n",
    "            minimize_tries -= 1\n",
    "\n",
    "        current_energy = ff.CalcEnergy()\n",
    "        print(f'{_} {current_energy}')\n",
    "        if current_energy < min_energy:\n",
    "            bestmol = Chem.Mol(\n",
    "                temp_query_mol\n",
    "            )\n",
    "            min_energy = current_energy\n",
    "        temp_query_mol = Chem.Mol(\n",
    "            query\n",
    "        )\n",
    "        AllChem.EmbedMolecule(temp_query_mol, geom_calc)\n",
    "\n",
    "    AlignMol(bestmol, reference, atomMap=query_ligand_map)\n",
    "\n",
    "    return bestmol\n",
    "\n",
    "\n",
    "def get_substructure_matches(molecule, mcs_mol, uniquify=True) -> Chem.Mol:\n",
    "    return molecule.GetSubstructMatches(mcs_mol, uniquify=uniquify)        \n",
    "\n",
    "\n",
    "def get_dist_geom_calculator(reference, query_matches, reference_match, constrained_atoms):\n",
    "    geom_calc = rdDistGeom.ETKDGv3()\n",
    "    geom_calc.trackFailures = True\n",
    "    geom_calc.coordMap = {\n",
    "        query_matches[atom_idx]: reference.GetConformer().GetAtomPosition(reference_match[atom_idx]) for atom_idx in range(len(constrained_atoms))\n",
    "    }\n",
    "\n",
    "    return geom_calc\n",
    "\n",
    "\n",
    "def get_initial_poses(query, reference, mcs_mol, max_symmetry=1000) -> List[Chem.Mol]:\n",
    "    \"\"\"\n",
    "    Use maximum common substructure between query and template ligand to generate initial docking poses\n",
    "    of query ligand\n",
    "\n",
    "    NB: this function assumes that a MCS between the query and the substructure exists \n",
    "    \"\"\"\n",
    "    reference_matches = get_diverse_substructure_matches(reference, mcs_mol)\n",
    "    molecule_matches = get_substructure_matches(query, mcs_mol)\n",
    "\n",
    "    constrained_atoms = molecule_matches[0]\n",
    "    constrained_atom_ids = get_tethered_atoms(constrained_atoms)\n",
    "\n",
    "    molhits = query.GetSubstructMatch(\n",
    "            mcs_mol\n",
    "        ) \n",
    "\n",
    "    poses = []\n",
    "    \n",
    "    n_iterations = min(len(reference_matches), max_symmetry)\n",
    "\n",
    "    for i in range(n_iterations):\n",
    "        geom_calc = get_dist_geom_calculator(reference, molhits, reference_matches[i], constrained_atoms)\n",
    "        \n",
    "        posed_mol = get_template_aligned_pose(\n",
    "            query,\n",
    "            reference,\n",
    "            [(m_idx, r_idx) for m_idx, r_idx in zip(molhits, reference_matches[i])],\n",
    "            geom_calc\n",
    "        )\n",
    "        posed_mol.SetProp(\"TETHERED ATOMS\", constrained_atom_ids)\n",
    "        poses.append(posed_mol)\n",
    "\n",
    "    return poses\n",
    "\n",
    "\n",
    "def constrained_virtual_screen(reference, query_molecules):\n",
    "    pass"
   ]
  },
  {
   "cell_type": "code",
   "execution_count": 3,
   "metadata": {},
   "outputs": [
    {
     "data": {
      "text/plain": [
       "0"
      ]
     },
     "execution_count": 3,
     "metadata": {},
     "output_type": "execute_result"
    }
   ],
   "source": [
    "# TEST\n",
    "\n",
    "# Load the query ligand from SDF file \n",
    "\n",
    "suppl = Chem.SDMolSupplier('3pxy_B_JWS_withH.sdf')\n",
    "reference_mol = next((m for m in suppl if m is not None), None)\n",
    "\n",
    "\n",
    "#reference_mol = Chem.AddHs(reference_mol)\n",
    "query_mol = MolFromSmiles(\"Fc1ccc(N)cc1\")\n",
    "query_mol = Chem.AddHs(query_mol)\n",
    "Chem.rdDistGeom.EmbedMolecule(query_mol,1, randomSeed=0xf00d) # For reproducibility. In principle it won't matter much because we're moving it to fit the template\n"
   ]
  },
  {
   "cell_type": "code",
   "execution_count": 4,
   "metadata": {},
   "outputs": [
    {
     "data": {
      "image/png": "[encoded data removed]",
      "text/plain": [
       "<rdkit.Chem.rdchem.Mol at 0x7fff7a332ff0>"
      ]
     },
     "execution_count": 4,
     "metadata": {},
     "output_type": "execute_result"
    }
   ],
   "source": [
    "sdf_filename = 'query.sdf'\n",
    "\n",
    "writer = Chem.SDWriter(sdf_filename)\n",
    "\n",
    "if writer is not None:\n",
    "    writer.write(query_mol)\n",
    "    writer.close()\n"
   ]
  },
  {
   "cell_type": "code",
   "execution_count": 5,
   "metadata": {},
   "outputs": [
    {
     "data": {
      "image/png": "[encoded data removed]",
      "text/html": [
       "<table><tr><td colspan=\"2\" style=\"text-align: center;\"><image src=\"data:image/png;base64,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\"></td></tr>\n",
       "<tr><th style=\"text-align: right\">model_server_result.job_id</th><td style=\"text-align: left\">zzV5rLN79vQ4Z1C8vGz81Q</td></tr>\n",
       "<tr><th style=\"text-align: right\">model_server_result.datetime_utc</th><td style=\"text-align: left\">2024-04-30 06:14:47</td></tr>\n",
       "<tr><th style=\"text-align: right\">model_server_result.server_version</th><td style=\"text-align: left\">0.9.11</td></tr>\n",
       "<tr><th style=\"text-align: right\">model_server_result.query_name</th><td style=\"text-align: left\">ligand</td></tr>\n",
       "<tr><th style=\"text-align: right\">model_server_result.source_id</th><td style=\"text-align: left\">pdb-bcif</td></tr>\n",
       "<tr><th style=\"text-align: right\">model_server_result.entry_id</th><td style=\"text-align: left\">3pxy</td></tr>\n",
       "<tr><th style=\"text-align: right\">model_server_params.name</th><td style=\"text-align: left\">atom_site</td></tr>\n",
       "<tr><th style=\"text-align: right\">model_server_params.value</th><td style=\"text-align: left\">{&quot;label_asym_id&quot;:&quot;B&quot;,&quot;auth_seq_id&quot;:299}</td></tr>\n",
       "<tr><th style=\"text-align: right\">model_server_stats.io_time_ms</th><td style=\"text-align: left\">31</td></tr>\n",
       "<tr><th style=\"text-align: right\">model_server_stats.parse_time_ms</th><td style=\"text-align: left\">28</td></tr>\n",
       "<tr><td colspan=\"2\" style=\"text-align: center\">Property list truncated.<br />Increase IPythonConsole.ipython_maxProperties (or set it to -1) to see more properties.</td></tr></table>"
      ],
      "text/plain": [
       "<rdkit.Chem.rdchem.Mol at 0x7fff7a332f80>"
      ]
     },
     "execution_count": 5,
     "metadata": {},
     "output_type": "execute_result"
    }
   ],
   "source": [
    "reference_mol"
   ]
  },
  {
   "cell_type": "code",
   "execution_count": 6,
   "metadata": {},
   "outputs": [
    {
     "data": {
      "image/png": "[encoded data removed]",
      "text/plain": [
       "<rdkit.Chem.rdchem.Mol at 0x7fff7a332b20>"
      ]
     },
     "execution_count": 6,
     "metadata": {},
     "output_type": "execute_result"
    }
   ],
   "source": [
    "mcs_mol = get_mcs(query_mol, reference_mol)\n",
    "mcs_mol"
   ]
  },
  {
   "cell_type": "code",
   "execution_count": 7,
   "metadata": {},
   "outputs": [
    {
     "data": {
      "text/plain": [
       "1"
      ]
     },
     "execution_count": 7,
     "metadata": {},
     "output_type": "execute_result"
    }
   ],
   "source": [
    "reference_mol.GetNumConformers()"
   ]
  },
  {
   "cell_type": "code",
   "execution_count": 8,
   "metadata": {},
   "outputs": [
    {
     "name": "stdout",
     "output_type": "stream",
     "text": [
      "0 6567372.739661868\n",
      "1 6565823.915679738\n",
      "2 6573735.933855311\n",
      "3 6537000.8312216345\n",
      "4 6565366.43165346\n",
      "0 6574607.275716543\n",
      "1 6532497.870886024\n",
      "2 6572163.347846177\n",
      "3 6532412.930794198\n",
      "4 6570950.273172511\n",
      "2\n"
     ]
    },
    {
     "data": {
      "image/png": "[encoded data removed]",
      "text/html": [
       "<table><tr><td colspan=\"2\" style=\"text-align: center;\"><image src=\"data:image/png;base64,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\"></td></tr>\n",
       "<tr><th style=\"text-align: right\">TETHERED ATOMS</th><td style=\"text-align: left\">1,2,3,4,5,7,8,6</td></tr></table>"
      ],
      "text/plain": [
       "<rdkit.Chem.rdchem.Mol at 0x7fff7a3c6480>"
      ]
     },
     "execution_count": 8,
     "metadata": {},
     "output_type": "execute_result"
    }
   ],
   "source": [
    "poses = get_initial_poses(query_mol, reference_mol, mcs_mol)\n",
    "print(len(poses))\n",
    "poses[0]"
   ]
  },
  {
   "cell_type": "code",
   "execution_count": 9,
   "metadata": {},
   "outputs": [
    {
     "name": "stdout",
     "output_type": "stream",
     "text": [
      "Molecule saved to pose.sdf\n"
     ]
    }
   ],
   "source": [
    "os.remove(\"pose.sdf\")\n",
    "sdf_filename = 'pose.sdf'\n",
    "\n",
    "writer = Chem.SDWriter(sdf_filename)\n",
    "\n",
    "if writer is not None:\n",
    "    writer.write(poses[0])\n",
    "    writer.close()\n",
    "    print(f\"Molecule saved to {sdf_filename}\")\n",
    "else:\n",
    "    print(\"Failed to create SDWriter.\")"
   ]
  }
 ],
 "metadata": {
  "kernelspec": {
   "display_name": "Python 3 (ipykernel)",
   "language": "python",
   "name": "python3"
  },
  "language_info": {
   "codemirror_mode": {
    "name": "ipython",
    "version": 3
   },
   "file_extension": ".py",
   "mimetype": "text/x-python",
   "name": "python",
   "nbconvert_exporter": "python",
   "pygments_lexer": "ipython3",
   "version": "3.12.2"
  }
 },
 "nbformat": 4,
 "nbformat_minor": 2
}
