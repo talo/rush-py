{
 "cells": [
  {
   "cell_type": "markdown",
   "metadata": {},
   "source": [
    "## Constrained docking protocol\n",
    "\n",
    "In this tutorial, we will demonstrate how you can use `rush-py` to conduct a large-scale virtual screen on a target using a constrained docking protocol.\n",
    "\n",
    "We will use the Zinc20 database of FDA approved drugs as our sample ligand database, but Rush's capability means that this protocol could scale to screen tens of millions of ligands."
   ]
  },
  {
   "cell_type": "markdown",
   "metadata": {
    "vscode": {
     "languageId": "plaintext"
    }
   },
   "source": [
    "## 0.0) Imports"
   ]
  },
  {
   "cell_type": "code",
   "execution_count": 1,
   "metadata": {},
   "outputs": [],
   "source": [
    "import rdkit\n",
    "import os \n",
    "import os\n",
    "import math\n",
    "import numpy as np\n",
    "from rdkit.Chem import Draw\n",
    "from rdkit.Chem import MolFromSmiles, MolFromSmarts, SDMolSupplier\n",
    "from rdkit.Chem import AllChem\n",
    "from rdkit.Chem import rdFMCS, rdRascalMCES\n",
    "from rdkit.Chem import rdDistGeom\n",
    "from rdkit import Chem\n",
    "from rdkit.Chem.rdMolAlign import AlignMol\n",
    "from rdkit.Chem import rdForceFieldHelpers\n",
    "\n",
    "from typing import List, Optional"
   ]
  },
  {
   "cell_type": "code",
   "execution_count": 2,
   "metadata": {},
   "outputs": [],
   "source": [
    "# CODE\n",
    "\n",
    "def get_mcs(query_ligand: Chem.Mol, reference: Chem.Mol, timeout=3600, **kwargs) -> Optional[Chem.Mol]:\n",
    "    if kwargs.get(\"ignore_heavy_atom\"):\n",
    "        atom_comparision_method = rdFMCS.AtomCompare.CompareAnyHeavyAtom\n",
    "    else:\n",
    "        atom_comparision_method = rdFMCS.AtomCompare.CompareAnyHeavyAtom\n",
    "\n",
    "    if kwargs.get(\"ignore_bond_order\"):\n",
    "        bond_comparision_method = rdFMCS.BondCompare.CompareAny\n",
    "    else:\n",
    "        bond_comparision_method = rdFMCS.BondCompare.CompareOrder\n",
    "\n",
    "    if kwargs.get(\"use_rascal_mces\"):\n",
    "        mcs = rdRascalMCES.FindMCES(\n",
    "                [reference, query_ligand],\n",
    "                atomCompare=atom_comparision_method,\n",
    "                bondCompare=bond_comparision_method\n",
    "            )\n",
    "\n",
    "    else:\n",
    "        mcs = rdFMCS.FindMCS(\n",
    "            [reference, query_ligand],\n",
    "            threshold=0.9,\n",
    "            completeRingsOnly=kwargs.get(\"complete_rings_only\", False),\n",
    "            atomCompare=atom_comparision_method,\n",
    "            bondCompare=bond_comparision_method,\n",
    "            timeout=timeout\n",
    "            )\n",
    "    if mcs_result_exists(mcs):\n",
    "        return Chem.MolFromSmarts(mcs.smartsString, mergeHs=True)\n",
    "\n",
    "\n",
    "def meets_similarity_threshold(mcs, reference, min_threshold=0.2):\n",
    "    if mcs_result_exists(mcs):\n",
    "        mcs_mol = Chem.MolFromSmarts(mcs.smartsString, mergeHs=True)\n",
    "        match_ratio = mcs_mol.GetNumAtoms() / reference.GetNumAtoms()\n",
    "\n",
    "        return match_ratio >= min_threshold\n",
    "    \n",
    "    return False\n",
    "\n",
    "\n",
    "def get_filtered_mcs(mcss, reference):\n",
    "    return [mcs for mcs in mcss if meets_similarity_threshold(mcs, reference)]\n",
    "\n",
    "\n",
    "def get_mcs_molecule(mcs) -> Optional[Chem.Mol]:\n",
    "    if mcs_result_exists(mcs):\n",
    "        return  Chem.MolFromSmarts(mcs.smartsString, mergeHs=True)\n",
    "    return None\n",
    "\n",
    "\n",
    "INITIAL_FILTER_DISTANCE = 1000\n",
    "def get_diverse_substructure_matches(reference, mcs_mol, minimum_difference=5) -> List[Chem.Mol]:\n",
    "    \"\"\"\n",
    "    Prunes a list of MCS substructure hits within a molecule and keeps only those which are at least the minimum difference apart\n",
    "    This is to capture as many unique substructure hits across the query and the ligand, but discard those that are not meaningfully different (e.g. a rotation of the bond) \n",
    "    A default of 5 is an effective balance between retaining novel hits and discarding excessively similar values.\n",
    "    \"\"\"\n",
    "    substructures = reference.GetSubstructMatches(mcs_mol, uniquify=False)\n",
    "\n",
    "    output_structures = [\n",
    "        substructures[0]\n",
    "    ]\n",
    "    for substructure in substructures[1:]:\n",
    "        distance = INITIAL_FILTER_DISTANCE\n",
    "        j = 0\n",
    "\n",
    "        while (distance >= minimum_difference) and j < len(output_structures):\n",
    "            ref = np.array(output_structures[j])\n",
    "            distance = sum(np.array(substructure) != ref)\n",
    "            j += 1\n",
    "\n",
    "        if distance >= minimum_difference:\n",
    "            output_structures.append(substructure)\n",
    "    \n",
    "    return output_structures\n",
    "\n",
    "\n",
    "def get_tethered_atoms(substruct_match) -> str:\n",
    "    \"\"\"\n",
    "    Return a formatted string of atom indexes to pass to \"TETHERED ATOMS\" configuration option for rxdock\n",
    "\n",
    "    Example input:\n",
    "    (0, 1, 2)\n",
    "\n",
    "    Example output:\n",
    "    1,2,3\n",
    "    \"\"\"\n",
    "    return ','.join(str(index + 1) for index in substruct_match)\n",
    "\n",
    "def mcs_result_exists(mcs) -> bool:\n",
    "    return mcs.smartsString and len(mcs.smartsString) > 0\n",
    "\n",
    "\n",
    "def get_force_field(geom_calc, query_mol):\n",
    "    ff = rdForceFieldHelpers.UFFGetMoleculeForceField(query_mol, confId=0)\n",
    "\n",
    "    for i in geom_calc.coordMap:\n",
    "        point = geom_calc.coordMap[i]\n",
    "        point_idx = ff.AddExtraPoint(point.x, point.y, point.z, fixed=True) - 1\n",
    "        ff.AddDistanceConstraint(point_idx, i, 0, 0, 100.0)\n",
    "    ff.Initialize()\n",
    "\n",
    "    return ff\n",
    "\n",
    "\n",
    "def get_template_aligned_pose(query, reference, query_ligand_map, geom_calc, n_tries=5) -> Chem.Mol:\n",
    "    \"\"\"\n",
    "    Align query molecule to \"template\" (reference molecule)\n",
    "    Distance constrints are enforced on the input ligand to mould the geometry of its matching substructure to that in the template\n",
    "    \"\"\"\n",
    "    temp_query_mol = Chem.Mol(query) \n",
    "\n",
    "    min_energy = np.inf\n",
    "    bestmol = None\n",
    "\n",
    "    ff = get_force_field(geom_calc, temp_query_mol)\n",
    "    AllChem.EmbedMolecule(temp_query_mol, geom_calc)\n",
    "    # Need to error here if ci > 0\n",
    "\n",
    "    for _ in range(n_tries):\n",
    "        # We run the minimize numerous times from the beginning as `minimize` is stochastic in nature.\n",
    "        # This behavior is not documented in RDKit\n",
    "\n",
    "        minimize_tries = 4\n",
    "        more_to_minimize = ff.Minimize(energyTol=1e-4, forceTol=1e-3)\n",
    "        while more_to_minimize and minimize_tries:\n",
    "            more_to_minimize = ff.Minimize(energyTol=1e-4, forceTol=1e-3)\n",
    "            minimize_tries -= 1\n",
    "\n",
    "        current_energy = ff.CalcEnergy()\n",
    "        if current_energy < min_energy:\n",
    "            bestmol = Chem.Mol(\n",
    "                temp_query_mol\n",
    "            )\n",
    "            min_energy = current_energy\n",
    "        temp_query_mol = Chem.Mol(\n",
    "            bestmol\n",
    "        )\n",
    "\n",
    "        AlignMol(temp_query_mol, reference, atomMap=query_ligand_map)\n",
    "\n",
    "        return temp_query_mol\n",
    "\n",
    "\n",
    "def get_substructure_matches(molecule, mcs_mol, uniquify=True) -> Chem.Mol:\n",
    "    return molecule.GetSubstructMatches(mcs_mol, uniquify=uniquify)        \n",
    "\n",
    "\n",
    "def get_dist_geom_calculator(reference, query_matches, reference_match, constrained_atoms):\n",
    "    geom_calc = rdDistGeom.ETKDGv3()\n",
    "    geom_calc.trackFailures = True\n",
    "    geom_calc.coordMap = {\n",
    "        query_matches[atom_idx]: reference.GetConformer().GetAtomPosition(reference_match[atom_idx]) for atom_idx in range(len(constrained_atoms))\n",
    "    }\n",
    "\n",
    "    return geom_calc\n",
    "\n",
    "\n",
    "def get_initial_poses(query, reference, mcs_mol, max_symmetry=1000) -> List[Chem.Mol]:\n",
    "    \"\"\"\n",
    "    Use maximum common substructure between query and template ligand to generate initial docking poses\n",
    "    of query ligand\n",
    "\n",
    "    NB: this function assumes that a MCS between the query and the substructure exists \n",
    "    \"\"\"\n",
    "    reference_matches = get_diverse_substructure_matches(reference, mcs_mol)\n",
    "    molecule_matches = get_substructure_matches(query, mcs_mol)\n",
    "\n",
    "    constrained_atoms = molecule_matches[0]\n",
    "    constrained_atom_ids = get_tethered_atoms(constrained_atoms)\n",
    "\n",
    "    molhits = query.GetSubstructMatch(\n",
    "            mcs_mol\n",
    "        ) \n",
    "\n",
    "    poses = []\n",
    "    \n",
    "    n_iterations = min(len(reference_matches), max_symmetry)\n",
    "\n",
    "    for i in range(n_iterations):\n",
    "        geom_calc = get_dist_geom_calculator(reference, molhits, reference_matches[i], constrained_atoms)\n",
    "        \n",
    "        posed_mol = get_template_aligned_pose(\n",
    "            query,\n",
    "            reference,\n",
    "            [(m_idx, r_idx) for m_idx, r_idx in zip(molhits, reference_matches[i])],\n",
    "            geom_calc\n",
    "        )\n",
    "        posed_mol = Chem.AddHs(\n",
    "            posed_mol, addCoords=True\n",
    "        )\n",
    "        posed_mol.SetProp(\"TETHERED ATOMS\", constrained_atom_ids)\n",
    "        poses.append(posed_mol)\n",
    "\n",
    "    return poses\n",
    "\n",
    "\n",
    "def constrained_virtual_screen(reference, query_molecules):\n",
    "    pass"
   ]
  },
  {
   "cell_type": "code",
   "execution_count": 3,
   "metadata": {},
   "outputs": [
    {
     "name": "stderr",
     "output_type": "stream",
     "text": [
      "[06:40:53] Warning: molecule is tagged as 2D, but at least one Z coordinate is not zero. Marking the mol as 3D.\n"
     ]
    },
    {
     "data": {
      "text/plain": [
       "0"
      ]
     },
     "execution_count": 3,
     "metadata": {},
     "output_type": "execute_result"
    }
   ],
   "source": [
    "# TEST\n",
    "\n",
    "# Load the query ligand from SDF file \n",
    "os.listdir()\n",
    "\n",
    "suppl = Chem.SDMolSupplier('3pxy_B_JWS.sdf')\n",
    "reference_mol = next((m for m in suppl if m is not None), None)\n",
    "\n",
    "reference_mol = Chem.AddHs(reference_mol)\n",
    "query_mol = MolFromSmiles(\"Fc1ccc(N)cc1\")\n",
    "query_mol = Chem.AddHs(query_mol)\n",
    "Chem.rdDistGeom.EmbedMolecule(query_mol,1, randomSeed=0xf00d) # For reproducibility. In principle it won't matter much because we're moving it to fit the template\n"
   ]
  },
  {
   "cell_type": "code",
   "execution_count": 4,
   "metadata": {},
   "outputs": [
    {
     "data": {
      "image/png": "[encoded data removed]",
      "text/plain": [
       "<rdkit.Chem.rdchem.Mol at 0x7fff7a332ff0>"
      ]
     },
     "execution_count": 4,
     "metadata": {},
     "output_type": "execute_result"
    }
   ],
   "source": [
    "query_mol"
   ]
  },
  {
   "cell_type": "code",
   "execution_count": 5,
   "metadata": {},
   "outputs": [
    {
     "data": {
      "image/png": "[encoded data removed]",
      "text/html": [
       "<table><tr><td colspan=\"2\" style=\"text-align: center;\"><image src=\"data:image/png;base64,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\"></td></tr>\n",
       "<tr><th style=\"text-align: right\">model_server_result.job_id</th><td style=\"text-align: left\">zzV5rLN79vQ4Z1C8vGz81Q</td></tr>\n",
       "<tr><th style=\"text-align: right\">model_server_result.datetime_utc</th><td style=\"text-align: left\">2024-04-30 06:14:47</td></tr>\n",
       "<tr><th style=\"text-align: right\">model_server_result.server_version</th><td style=\"text-align: left\">0.9.11</td></tr>\n",
       "<tr><th style=\"text-align: right\">model_server_result.query_name</th><td style=\"text-align: left\">ligand</td></tr>\n",
       "<tr><th style=\"text-align: right\">model_server_result.source_id</th><td style=\"text-align: left\">pdb-bcif</td></tr>\n",
       "<tr><th style=\"text-align: right\">model_server_result.entry_id</th><td style=\"text-align: left\">3pxy</td></tr>\n",
       "<tr><th style=\"text-align: right\">model_server_params.name</th><td style=\"text-align: left\">atom_site</td></tr>\n",
       "<tr><th style=\"text-align: right\">model_server_params.value</th><td style=\"text-align: left\">{&quot;label_asym_id&quot;:&quot;B&quot;,&quot;auth_seq_id&quot;:299}</td></tr>\n",
       "<tr><th style=\"text-align: right\">model_server_stats.io_time_ms</th><td style=\"text-align: left\">31</td></tr>\n",
       "<tr><th style=\"text-align: right\">model_server_stats.parse_time_ms</th><td style=\"text-align: left\">28</td></tr>\n",
       "<tr><td colspan=\"2\" style=\"text-align: center\">Property list truncated.<br />Increase IPythonConsole.ipython_maxProperties (or set it to -1) to see more properties.</td></tr></table>"
      ],
      "text/plain": [
       "<rdkit.Chem.rdchem.Mol at 0x7fff7a3329d0>"
      ]
     },
     "execution_count": 5,
     "metadata": {},
     "output_type": "execute_result"
    }
   ],
   "source": [
    "reference_mol"
   ]
  },
  {
   "cell_type": "code",
   "execution_count": 6,
   "metadata": {},
   "outputs": [
    {
     "data": {
      "image/png": "[encoded data removed]",
      "text/plain": [
       "<rdkit.Chem.rdchem.Mol at 0x7fff7a332f80>"
      ]
     },
     "execution_count": 6,
     "metadata": {},
     "output_type": "execute_result"
    }
   ],
   "source": [
    "mcs_mol = get_mcs(query_mol, reference_mol)\n",
    "mcs_mol"
   ]
  },
  {
   "cell_type": "code",
   "execution_count": 7,
   "metadata": {},
   "outputs": [
    {
     "data": {
      "text/plain": [
       "1"
      ]
     },
     "execution_count": 7,
     "metadata": {},
     "output_type": "execute_result"
    }
   ],
   "source": [
    "reference_mol.GetNumConformers()"
   ]
  },
  {
   "cell_type": "code",
   "execution_count": 8,
   "metadata": {},
   "outputs": [
    {
     "name": "stdout",
     "output_type": "stream",
     "text": [
      "1\n"
     ]
    },
    {
     "data": {
      "image/png": "[encoded data removed]",
      "text/html": [
       "<table><tr><td colspan=\"2\" style=\"text-align: center;\"><image src=\"data:image/png;base64,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\"></td></tr>\n",
       "<tr><th style=\"text-align: right\">TETHERED ATOMS</th><td style=\"text-align: left\">1,2,3,4,5,7,8,6</td></tr></table>"
      ],
      "text/plain": [
       "<rdkit.Chem.rdchem.Mol at 0x7fff7a333290>"
      ]
     },
     "execution_count": 8,
     "metadata": {},
     "output_type": "execute_result"
    }
   ],
   "source": [
    "poses = get_initial_poses(query_mol, reference_mol, mcs_mol)\n",
    "print(len(poses))\n",
    "poses[0]"
   ]
  },
  {
   "cell_type": "code",
   "execution_count": 9,
   "metadata": {},
   "outputs": [
    {
     "name": "stdout",
     "output_type": "stream",
     "text": [
      "Molecule saved to pose.sdf\n"
     ]
    }
   ],
   "source": [
    "os.remove(\"pose.sdf\")\n",
    "sdf_filename = 'pose.sdf'\n",
    "\n",
    "writer = Chem.SDWriter(sdf_filename)\n",
    "\n",
    "if writer is not None:\n",
    "    writer.write(poses[0])\n",
    "    writer.close()\n",
    "    print(f\"Molecule saved to {sdf_filename}\")\n",
    "else:\n",
    "    print(\"Failed to create SDWriter.\")"
   ]
  },
  {
   "cell_type": "code",
   "execution_count": 10,
   "metadata": {},
   "outputs": [
    {
     "ename": "ValueError",
     "evalue": "I/O operation on closed file.",
     "output_type": "error",
     "traceback": [
      "\u001b[0;31m---------------------------------------------------------------------------\u001b[0m",
      "\u001b[0;31mValueError\u001b[0m                                Traceback (most recent call last)",
      "Cell \u001b[0;32mIn[10], line 11\u001b[0m\n\u001b[1;32m      8\u001b[0m \u001b[38;5;28;01mwith\u001b[39;00m \u001b[38;5;28mopen\u001b[39m(\u001b[38;5;124m\"\u001b[39m\u001b[38;5;124mpose.sdf\u001b[39m\u001b[38;5;124m\"\u001b[39m, \u001b[38;5;124m\"\u001b[39m\u001b[38;5;124mr\u001b[39m\u001b[38;5;124m\"\u001b[39m) \u001b[38;5;28;01mas\u001b[39;00m f:\n\u001b[1;32m      9\u001b[0m     view\u001b[38;5;241m.\u001b[39maddModel(f\u001b[38;5;241m.\u001b[39mread(), \u001b[38;5;124m\"\u001b[39m\u001b[38;5;124msdf\u001b[39m\u001b[38;5;124m\"\u001b[39m)\n\u001b[0;32m---> 11\u001b[0m view\u001b[38;5;241m.\u001b[39maddModel(\u001b[43mf\u001b[49m\u001b[38;5;241;43m.\u001b[39;49m\u001b[43mread\u001b[49m\u001b[43m(\u001b[49m\u001b[43m)\u001b[49m, \u001b[38;5;124m\"\u001b[39m\u001b[38;5;124msdf\u001b[39m\u001b[38;5;124m\"\u001b[39m)\n\u001b[1;32m     12\u001b[0m view\u001b[38;5;241m.\u001b[39msetStyle({\u001b[38;5;124m\"\u001b[39m\u001b[38;5;124mcartoon\u001b[39m\u001b[38;5;124m\"\u001b[39m: {\u001b[38;5;124m\"\u001b[39m\u001b[38;5;124mcolor\u001b[39m\u001b[38;5;124m\"\u001b[39m: \u001b[38;5;124m\"\u001b[39m\u001b[38;5;124mspectrum\u001b[39m\u001b[38;5;124m\"\u001b[39m}})\n\u001b[1;32m     13\u001b[0m view\u001b[38;5;241m.\u001b[39mzoomTo()\n",
      "\u001b[0;31mValueError\u001b[0m: I/O operation on closed file."
     ]
    }
   ],
   "source": [
    "\n",
    "import py3Dmol\n",
    "\n",
    "view = py3Dmol.view()\n",
    "\n",
    "with open(\"3pxy_B_JWS.sdf\", \"r\") as f:\n",
    "    view.addModel(f.read(), \"sdf\")\n",
    "\n",
    "with open(\"pose.sdf\", \"r\") as f:\n",
    "    view.addModel(f.read(), \"sdf\")\n",
    "\n",
    "view.setStyle({\"cartoon\": {\"color\": \"spectrum\"}})\n",
    "view.zoomTo()\n",
    "view.show()"
   ]
  }
 ],
 "metadata": {
  "kernelspec": {
   "display_name": "Python 3 (ipykernel)",
   "language": "python",
   "name": "python3"
  },
  "language_info": {
   "codemirror_mode": {
    "name": "ipython",
    "version": 3
   },
   "file_extension": ".py",
   "mimetype": "text/x-python",
   "name": "python",
   "nbconvert_exporter": "python",
   "pygments_lexer": "ipython3",
   "version": "3.12.2"
  }
 },
 "nbformat": 4,
 "nbformat_minor": 2
}
