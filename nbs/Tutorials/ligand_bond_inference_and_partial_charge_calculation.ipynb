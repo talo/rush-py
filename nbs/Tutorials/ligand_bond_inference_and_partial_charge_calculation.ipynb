{
 "cells": [
  {
   "cell_type": "markdown",
   "id": "353bc2f2",
   "metadata": {},
   "source": [
    "# Dubai — Quantum accurate bond inference and partial charge calculations"
   ]
  },
  {
   "cell_type": "markdown",
   "id": "2af37c1a",
   "metadata": {},
   "source": [
    "This notebook will walk us through getting quantum-accurate bond inference and Mulliken partial charge calculations for a SMILES string retrieved from PubChem."
   ]
  },
  {
   "cell_type": "markdown",
   "id": "5d8505c9",
   "metadata": {},
   "source": [
    "## 0) Setup\n",
    "See [Quickstart](../index.ipynb#imports) for more details on the setup."
   ]
  },
  {
   "cell_type": "markdown",
   "id": "a91080f2",
   "metadata": {},
   "source": [
    "## 0.0) Imports"
   ]
  },
  {
   "cell_type": "code",
   "execution_count": 1,
   "id": "5b56af96",
   "metadata": {},
   "outputs": [],
   "source": [
    "import os\n",
    "import json\n",
    "from pathlib import Path\n",
    "\n",
    "import requests\n",
    "import rush"
   ]
  },
  {
   "cell_type": "markdown",
   "id": "8fdb8070",
   "metadata": {},
   "source": [
    "## 0.1) Credentials\n"
   ]
  },
  {
   "cell_type": "code",
   "execution_count": 2,
   "id": "3fb8b08d",
   "metadata": {},
   "outputs": [],
   "source": [
    "TOKEN = os.getenv(\"RUSH_TOKEN\")\n",
    "# You might have a custom deployment url, by default it will use\n",
    "# https://tengu.qdx.ai\n",
    "RUSH_URL = os.getenv(\"RUSH_URL\")"
   ]
  },
  {
   "cell_type": "markdown",
   "id": "c4267c41",
   "metadata": {},
   "source": [
    "## 0.2) Configuration\n",
    "Let's set some global variables that define our project."
   ]
  },
  {
   "cell_type": "code",
   "execution_count": 3,
   "id": "e727b2e5",
   "metadata": {},
   "outputs": [],
   "source": [
    "DESCRIPTION = \"quantum-bond-inference-notebook\"\n",
    "TAGS = [\"rush-py\", \"dubai\", \"convert\"]\n",
    "WORK_DIR = Path.home() / \"qdx\" / \"dubai-rush-py-demo\""
   ]
  },
  {
   "cell_type": "markdown",
   "id": "0f56b236",
   "metadata": {},
   "source": [
    "## 0.3) Build your rush client"
   ]
  },
  {
   "cell_type": "code",
   "execution_count": 4,
   "id": "55b4b2a2",
   "metadata": {},
   "outputs": [],
   "source": [
    "# |hide\n",
    "if WORK_DIR.exists():\n",
    "    client = rush.Provider(workspace=WORK_DIR, access_token=TOKEN, url=RUSH_URL)\n",
    "    await client.nuke(remote=False)"
   ]
  },
  {
   "cell_type": "code",
   "execution_count": 5,
   "id": "a1786e42",
   "metadata": {},
   "outputs": [],
   "source": [
    "os.makedirs(WORK_DIR, exist_ok=True)\n",
    "\n",
    "client = await rush.build_provider_with_functions(\n",
    "    access_token=TOKEN, url=RUSH_URL, workspace=WORK_DIR, batch_tags=TAGS\n",
    ")"
   ]
  },
  {
   "cell_type": "code",
   "execution_count": 6,
   "id": "0d5096cd-1cd3-49e2-ba66-f785a1d3fb0a",
   "metadata": {},
   "outputs": [],
   "source": [
    "#| hide\n",
    "client = await rush.build_provider_with_functions(\n",
    "    access_token=TOKEN, url=RUSH_URL, workspace=WORK_DIR, batch_tags=TAGS, restore_by_default=True\n",
    ")"
   ]
  },
  {
   "cell_type": "markdown",
   "id": "e1fdf61a",
   "metadata": {},
   "source": [
    "## 0.4) Download Aspirin SDF from PubChem"
   ]
  },
  {
   "cell_type": "code",
   "execution_count": 7,
   "id": "e0fa3bc3",
   "metadata": {},
   "outputs": [],
   "source": [
    "# Convert aspirin to a QDXF file so we can use it for this demo\n",
    "SMILES_STRING = \"CC(=O)OC1=CC=CC=C1C(=O)O\"\n",
    "SDF_LINK = f\"https://pubchem.ncbi.nlm.nih.gov/rest/pug/compound/smiles/{SMILES_STRING}/record/SDF?record_type=3d\"\n",
    "\n",
    "file_path = f\"{WORK_DIR}/aspirin.sdf\"\n",
    "with open(file_path, \"wb\") as f:\n",
    "    f.write(requests.get(SDF_LINK).content)"
   ]
  },
  {
   "cell_type": "markdown",
   "id": "a66e5966",
   "metadata": {},
   "source": [
    "## 0.5) Convert SDF file to QDXF format\n",
    "QDXF is the central molecule format of the Rush API, so before we use the Dubai module to infer connectivity (bonds) for our molecule, we must convert our SDF file to QDXF."
   ]
  },
  {
   "cell_type": "code",
   "execution_count": 8,
   "id": "7b2d7f84",
   "metadata": {},
   "outputs": [
    {
     "name": "stdout",
     "output_type": "stream",
     "text": [
      "2024-02-09 02:11:10,934 - rush - INFO - Trying to restore job with tags: ['rush-py', 'dubai', 'convert'] and path: github:talo/tengu-prelude/efc6d8b3a8cc342cd9866d037abb77dac40a4d56#convert\n",
      "2024-02-09 02:11:11,195 - rush - INFO - Restoring job from previous run with id e99b41a1-2426-45e6-be51-e11bda1cac3c\n"
     ]
    }
   ],
   "source": [
    "# We need to specify storage > file size to ensure that we have allocated\n",
    "# enough resources for the convert module\n",
    "(ligand,) = await client.convert(\n",
    "    \"SDF\", Path(file_path), resources={\"storage\": 5000}\n",
    ")\n",
    "\n",
    "ligand = await ligand.get()"
   ]
  },
  {
   "cell_type": "markdown",
   "id": "1ef10fb4",
   "metadata": {},
   "source": [
    "## 0.6 ) Remove connectivity\n",
    "We remove connectivity, as we will be perceiving bonds (quantum-accurately) using Dubai in the next step."
   ]
  },
  {
   "cell_type": "code",
   "execution_count": 9,
   "id": "eda3098c",
   "metadata": {},
   "outputs": [],
   "source": [
    "EXPECTED_CONNECTIVITY = ligand[0][\"topology\"][\"connectivity\"]\n",
    "ligand = ligand[0]\n",
    "del ligand[\"topology\"][\"connectivity\"]\n",
    "\n",
    "ligand[\"topology\"][\"fragment_multiplicities\"] = [1]"
   ]
  },
  {
   "cell_type": "markdown",
   "id": "94b6482f",
   "metadata": {},
   "source": [
    "## 1.0) Set Dubai module specific configuration\n",
    "In this stage, we set configuration for the Dubai module, as well as saving our QDXF Aspirin to disk, as the Dubai module needs the file itself.\n"
   ]
  },
  {
   "cell_type": "code",
   "execution_count": 10,
   "id": "effe18e1",
   "metadata": {},
   "outputs": [],
   "source": [
    "DUBAI_RESOURCES = {\n",
    "    \"gpus\": 1,\n",
    "    \"storage\": 1024_000,\n",
    "    \"walltime\": 60,\n",
    "}\n",
    "LIGAND_FILEPATH = Path(f\"{WORK_DIR}/aspirin.qdxf.json\")\n",
    "json.dump(ligand, open(LIGAND_FILEPATH, \"w\"))"
   ]
  },
  {
   "cell_type": "markdown",
   "id": "fd505746",
   "metadata": {},
   "source": [
    "## 1.1) Run Dubai\n",
    "Finally, we run Dubai to perform quantum-accurate bond inference, as well the calculation of Mulliken partial charges."
   ]
  },
  {
   "cell_type": "code",
   "execution_count": 11,
   "id": "934eb589-6b95-437e-9bfe-87268b306f3d",
   "metadata": {},
   "outputs": [
    {
     "name": "stdout",
     "output_type": "stream",
     "text": [
      "Help on function dubai in module rush.provider:\n",
      "\n",
      "async dubai(*args: *tuple[RushObject[Conformer]], target: Optional[Target] = 'NIX_SSH', resources: Optional[Resources] = {'storage': 10, 'storage_units': 'MB', 'gpus': 0}, tags: list[str] | None = None, restore: bool | None = None) -> tuple[RushObject[Conformer]]\n",
      "    Perform quantum accurate bond inference and partial charge calculation on a Conformer\n",
      "    \n",
      "    Module version:  \n",
      "    `github:talo/Dubai/f9c420ba9e7fc04e520c67e62201a5f32d174a77#dubai_tengu`\n",
      "    \n",
      "    QDX Type Description:\n",
      "    \n",
      "        input_conformer: @Conformer\n",
      "        ->\n",
      "        output_conformer: @Conformer\n",
      "    \n",
      "    :param input_conformer: A Conformer. The Conformer's Topology requires fragment charges and fragment charge multiplicities\n",
      "    :return output_conformer: Output Conformer including partial charges and bond recalculation\n",
      "\n"
     ]
    }
   ],
   "source": [
    "help(client.dubai)"
   ]
  },
  {
   "cell_type": "code",
   "execution_count": 12,
   "id": "437ee070",
   "metadata": {},
   "outputs": [
    {
     "name": "stdout",
     "output_type": "stream",
     "text": [
      "2024-02-09 02:11:21,035 - rush - INFO - Trying to restore job with tags: ['rush-py', 'dubai', 'convert'] and path: github:talo/Dubai/f9c420ba9e7fc04e520c67e62201a5f32d174a77#dubai_tengu\n",
      "2024-02-09 02:11:21,258 - rush - WARNING - Multiple module instances found with the same tags and path\n",
      "2024-02-09 02:11:21,259 - rush - WARNING - Multiple module instances found with the same tags and path\n",
      "2024-02-09 02:11:21,260 - rush - WARNING - Multiple module instances found with the same tags and path\n",
      "2024-02-09 02:11:21,260 - rush - WARNING - Multiple module instances found with the same tags and path\n",
      "2024-02-09 02:11:21,477 - rush - INFO - Restoring job from previous run with id f97f26e8-0cb9-4db5-9f37-e0f0b5565e90\n"
     ]
    }
   ],
   "source": [
    "(ligand_with_bonds,) = await client.dubai(\n",
    "    LIGAND_FILEPATH, resources=DUBAI_RESOURCES, target=\"NIX_SSH_3\"\n",
    ")"
   ]
  },
  {
   "cell_type": "code",
   "execution_count": 13,
   "id": "b06777aa",
   "metadata": {},
   "outputs": [
    {
     "name": "stdout",
     "output_type": "stream",
     "text": [
      "Bond inference performed correctly!\n"
     ]
    }
   ],
   "source": [
    "output_ligand = await ligand_with_bonds.get()\n",
    "\n",
    "for expected_bond, outputted_bond in zip(\n",
    "    EXPECTED_CONNECTIVITY, output_ligand[\"topology\"][\"connectivity\"]\n",
    "):\n",
    "    # Check start atoms are the same\n",
    "    assert expected_bond[0] == outputted_bond[0]\n",
    "    # Check ending atoms are the same\n",
    "    assert expected_bond[1] == outputted_bond[1]\n",
    "    # NB: we don't check the third item of the bond -- the bond type. This is\n",
    "    # because Dubai accurately outputs ring bonds as a specific 'RINGBOND' type,\n",
    "    # whereas SDF aspirin was interleaving single and double bonds.\n",
    "print(\"Bond inference performed correctly!\")"
   ]
  },
  {
   "cell_type": "code",
   "execution_count": null,
   "id": "2dbf893f-5c00-45d8-8aed-e8f5a3c8fc92",
   "metadata": {},
   "outputs": [],
   "source": []
  }
 ],
 "metadata": {
  "kernelspec": {
   "display_name": "Python 3 (ipykernel)",
   "language": "python",
   "name": "python3"
  },
  "language_info": {
   "codemirror_mode": {
    "name": "ipython",
    "version": 3
   },
   "file_extension": ".py",
   "mimetype": "text/x-python",
   "name": "python",
   "nbconvert_exporter": "python",
   "pygments_lexer": "ipython3",
   "version": "3.11.6"
  }
 },
 "nbformat": 4,
 "nbformat_minor": 5
}
