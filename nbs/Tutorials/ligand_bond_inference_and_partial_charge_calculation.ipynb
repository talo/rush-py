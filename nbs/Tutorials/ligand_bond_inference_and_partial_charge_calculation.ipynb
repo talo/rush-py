{
 "cells": [
  {
   "cell_type": "markdown",
   "id": "353bc2f2",
   "metadata": {},
   "source": [
    "# Dubai — Quantum accurate bond inference and partial charge calculations"
   ]
  },
  {
   "cell_type": "markdown",
   "id": "2af37c1a",
   "metadata": {},
   "source": [
    "This notebook will walk us through getting quantum-accurate bond inference and Mulliken partial charge calculations for a SMILES string retrieved from PubChem."
   ]
  },
  {
   "cell_type": "markdown",
   "id": "1123d792",
   "metadata": {},
   "source": [
    "# 0) Complete example\n",
    "See the [sample notebook](/Quickstarts/ligand_bond_inference_and_partial_charge_calculation-sample.ipynb) for a complete demonstration."
   ]
  },
  {
   "cell_type": "markdown",
   "id": "5d8505c9",
   "metadata": {},
   "source": [
    "# 1) Setup\n",
    "See [Quickstart](../index.ipynb#imports) for more details on the setup."
   ]
  },
  {
   "cell_type": "markdown",
   "id": "a91080f2",
   "metadata": {},
   "source": [
    "## 1.0) Imports"
   ]
  },
  {
   "cell_type": "code",
   "execution_count": null,
   "id": "5b56af96",
   "metadata": {},
   "outputs": [],
   "source": [
    "import os\n",
    "import json\n",
    "from pathlib import Path\n",
    "\n",
    "import requests\n",
    "import rush"
   ]
  },
  {
   "cell_type": "markdown",
   "id": "8fdb8070",
   "metadata": {},
   "source": [
    "## 1.1) Configuration\n"
   ]
  },
  {
   "cell_type": "code",
   "execution_count": null,
   "id": "3fb8b08d",
   "metadata": {},
   "outputs": [],
   "source": [
    "TOKEN = os.getenv(\"RUSH_TOKEN\")\n",
    "# You might have a custom deployment url, by default it will use\n",
    "# https://tengu.qdx.ai\n",
    "RUSH_URL = os.getenv(\"RUSH_URL\")"
   ]
  },
  {
   "cell_type": "code",
   "execution_count": null,
   "id": "e727b2e5",
   "metadata": {},
   "outputs": [],
   "source": [
    "DESCRIPTION = \"quantum-bond-inference-notebook\"\n",
    "TAGS = [\"rush-py\", \"dubai\", \"convert\"]\n",
    "WORK_DIR = Path.home() / \"qdx\" / \"dubai-rush-py-demo\""
   ]
  },
  {
   "cell_type": "markdown",
   "id": "0f56b236",
   "metadata": {},
   "source": [
    "## 1.2) Build your client"
   ]
  },
  {
   "cell_type": "code",
   "execution_count": null,
   "id": "55b4b2a2",
   "metadata": {},
   "outputs": [],
   "source": [
    "# |hide\n",
    "if WORK_DIR.exists():\n",
    "    client = rush.Provider(workspace=WORK_DIR, access_token=TOKEN, url=RUSH_URL)\n",
    "    await client.nuke(remote=False)"
   ]
  },
  {
   "cell_type": "code",
   "execution_count": null,
   "id": "a1786e42",
   "metadata": {},
   "outputs": [],
   "source": [
    "os.makedirs(WORK_DIR, exist_ok=True)\n",
    "\n",
    "client = await rush.build_provider_with_functions(\n",
    "    access_token=TOKEN, url=RUSH_URL, workspace=WORK_DIR, batch_tags=TAGS\n",
    ")"
   ]
  },
  {
   "cell_type": "code",
   "execution_count": null,
   "id": "0d5096cd-1cd3-49e2-ba66-f785a1d3fb0a",
   "metadata": {},
   "outputs": [],
   "source": [
    "#| hide\n",
    "client = await rush.build_provider_with_functions(\n",
    "    access_token=TOKEN, url=RUSH_URL, workspace=WORK_DIR, batch_tags=TAGS, restore_by_default=True\n",
    ")"
   ]
  },
  {
   "cell_type": "markdown",
   "id": "f4220456",
   "metadata": {},
   "source": [
    "# 2) Preparation"
   ]
  },
  {
   "cell_type": "markdown",
   "id": "e1fdf61a",
   "metadata": {},
   "source": [
    "## 2.0) Download Aspirin SDF from PubChem"
   ]
  },
  {
   "cell_type": "code",
   "execution_count": null,
   "id": "e0fa3bc3",
   "metadata": {},
   "outputs": [],
   "source": [
    "# Convert aspirin to a QDXF file so we can use it for this demo\n",
    "SMILES_STRING = \"CC(=O)OC1=CC=CC=C1C(=O)O\"\n",
    "SDF_LINK = f\"https://pubchem.ncbi.nlm.nih.gov/rest/pug/compound/smiles/{SMILES_STRING}/record/SDF?record_type=3d\"\n",
    "\n",
    "file_path = f\"{WORK_DIR}/aspirin.sdf\"\n",
    "with open(file_path, \"wb\") as f:\n",
    "    f.write(requests.get(SDF_LINK).content)"
   ]
  },
  {
   "cell_type": "markdown",
   "id": "a66e5966",
   "metadata": {},
   "source": [
    "## 2.1) Convert SDF file to QDXF format\n",
    "QDXF is the central molecule format of the Rush API, so before we use the Dubai module to infer connectivity (bonds) for our molecule, we must convert our SDF file to QDXF."
   ]
  },
  {
   "cell_type": "code",
   "execution_count": null,
   "id": "7b2d7f84",
   "metadata": {},
   "outputs": [
    {
     "name": "stdout",
     "output_type": "stream",
     "text": [
      "2024-02-25 17:10:05,170 - rush - INFO - Trying to restore job with tags: ['rush-py', 'dubai', 'convert'] and path: github:talo/tengu-prelude/6ce15cd56dc7a3cec8e5e6951bb473e33c5ecd11#convert\n",
      "2024-02-25 17:10:05,264 - rush - INFO - Restoring job from previous run with id 1fb42bde-f7bb-45a5-898c-1c73b9837936\n"
     ]
    }
   ],
   "source": [
    "# We need to specify storage > file size to ensure that we have allocated\n",
    "# enough resources for the convert module\n",
    "(ligand,) = await client.convert(\n",
    "    \"SDF\", Path(file_path), resources={\"storage\": 6000}\n",
    ")\n"
   ]
  },
  {
   "cell_type": "markdown",
   "id": "1ef10fb4",
   "metadata": {},
   "source": [
    "## 2.2) Remove connectivity\n",
    "We remove connectivity, as we will be perceiving bonds (quantum-accurately) using Dubai in the next step."
   ]
  },
  {
   "cell_type": "code",
   "execution_count": null,
   "id": "0eddfcab-da31-4934-86ae-75108430afc5",
   "metadata": {},
   "outputs": [],
   "source": [
    "ligand_path = await ligand.download()"
   ]
  },
  {
   "cell_type": "code",
   "execution_count": null,
   "id": "be1b0b86-cabb-4e37-9eeb-d1d509558981",
   "metadata": {},
   "outputs": [],
   "source": [
    "ligand = json.load(open(ligand_path, \"r\"))"
   ]
  },
  {
   "cell_type": "code",
   "execution_count": null,
   "id": "eda3098c",
   "metadata": {},
   "outputs": [],
   "source": [
    "EXPECTED_CONNECTIVITY = ligand[0][\"topology\"][\"connectivity\"]\n",
    "ligand = ligand[0]\n",
    "del ligand[\"topology\"][\"connectivity\"]\n",
    "\n",
    "ligand[\"topology\"][\"fragment_multiplicities\"] = [1]"
   ]
  },
  {
   "cell_type": "markdown",
   "id": "94b6482f",
   "metadata": {},
   "source": [
    "# 3) Infer bonds and calculate partial charges\n",
    "In this stage, we set configuration for the Dubai module, as well as saving our QDXF Aspirin to disk, as the Dubai module needs the file itself.\n"
   ]
  },
  {
   "cell_type": "markdown",
   "id": "1b332a94",
   "metadata": {},
   "source": [
    "## 3.0) Arguments"
   ]
  },
  {
   "cell_type": "code",
   "execution_count": null,
   "id": "effe18e1",
   "metadata": {},
   "outputs": [],
   "source": [
    "DUBAI_RESOURCES = {\n",
    "    \"gpus\": 1,\n",
    "    \"storage\": 1024_000,\n",
    "    \"walltime\": 60,\n",
    "}\n",
    "LIGAND_FILEPATH = Path(f\"{WORK_DIR}/aspirin.qdxf.json\")\n",
    "json.dump(ligand, open(LIGAND_FILEPATH, \"w\"))"
   ]
  },
  {
   "cell_type": "markdown",
   "id": "fd505746",
   "metadata": {},
   "source": [
    "## 3.1) Run the inference\n",
    "Finally, we run Dubai to perform quantum-accurate bond inference, as well the calculation of Mulliken partial charges."
   ]
  },
  {
   "cell_type": "code",
   "execution_count": null,
   "id": "934eb589-6b95-437e-9bfe-87268b306f3d",
   "metadata": {},
   "outputs": [
    {
     "name": "stdout",
     "output_type": "stream",
     "text": [
      "Help on function dubai in module rush.provider:\n",
      "\n",
      "async dubai(*args: *tuple[RushObject[Record]], target: 'Target | None' = None, resources: 'Resources | None' = {'storage': 1034, 'storage_units': 'MB', 'gpus': 4}, tags: 'list[str] | None' = None, restore: 'bool | None' = None) -> tuple[RushObject[Record]]\n",
      "    Perform quantum accurate bond inference and partial charge calculation on a Conformer\n",
      "    \n",
      "    Module version:  \n",
      "    `github:talo/Dubai/cf7835b4c099e19ea77e0f28e999136bcaf62e5a#dubai_tengu`\n",
      "    \n",
      "    QDX Type Description:\n",
      "    \n",
      "        input_conformer: Object{\n",
      "            size: u32,\n",
      "             path: @Conformer{\n",
      "                 amino_acids: [[u32]]?,\n",
      "                  residue_seq: [string]?,\n",
      "                  residues: [[u32]]?,\n",
      "                  residue_seq_ids: [i32]?,\n",
      "                  amino_acid_insertion_codes: [string]?,\n",
      "                  residue_labels: [Label{u32,  string}]?,\n",
      "                  residue_insertion_codes: [string]?,\n",
      "                  topology: Topology{\n",
      "                      version: TopologyVersion[V0  |  V1]?,\n",
      "                       fragments: [[u32]]?,\n",
      "                       partial_charges: [f32]?,\n",
      "                       fragment_formal_charges: [i8]?,\n",
      "                       fragment_multiplicities: [i8]?,\n",
      "                       labels: [string]?,\n",
      "                       geometry: [f32],\n",
      "                       atom_charges: [i8]?,\n",
      "                       formal_charges: [i8]?,\n",
      "                       velocities: [f32]?,\n",
      "                       fragment_charges: [i8]?,\n",
      "                       atom_labels: [string]?,\n",
      "                       fragment_partial_charges: [f32]?,\n",
      "                       connectivity: [Bond{u32,  u32,  u8}]?,\n",
      "                       alts: [Alt{u32,  [u32]}]?\n",
      "                  },\n",
      "                  amino_acid_labels: [Label{u32,  string}]?,\n",
      "                  subunits: [[u32]]?,\n",
      "                  amino_acid_seq_ids: [i32]?,\n",
      "                  binding_site_interactions: [BindingSiteInteraction{\n",
      "                      ligand_xyz: [f32],\n",
      "                       receptor_is_charged: bool,\n",
      "                       receptor_is_positively_charged: bool,\n",
      "                       receptor_xyz: [f32],\n",
      "                       receptor_is_donor: bool,\n",
      "                       ligand_residue_idx: u32,\n",
      "                       receptor_amino_acid_idx: u32,\n",
      "                       receptor_atom_idx: u32,\n",
      "                       pi_stack_kind: PiStackKind[P  |  T]?,\n",
      "                       ligand_atom_idx: u32\n",
      "                  }]?\n",
      "             }\n",
      "        }\n",
      "        ->\n",
      "        output_conformer: Object{\n",
      "            size: u32,\n",
      "             path: @Conformer{\n",
      "                 residue_seq: [string]?,\n",
      "                  topology: Topology{\n",
      "                      fragment_charges: [i8]?,\n",
      "                       fragment_multiplicities: [i8]?,\n",
      "                       fragment_partial_charges: [f32]?,\n",
      "                       atom_charges: [i8]?,\n",
      "                       alts: [Alt{u32,  [u32]}]?,\n",
      "                       labels: [string]?,\n",
      "                       formal_charges: [i8]?,\n",
      "                       version: TopologyVersion[V0  |  V1]?,\n",
      "                       fragment_formal_charges: [i8]?,\n",
      "                       fragments: [[u32]]?,\n",
      "                       velocities: [f32]?,\n",
      "                       partial_charges: [f32]?,\n",
      "                       atom_labels: [string]?,\n",
      "                       connectivity: [Bond{u32,  u32,  u8}]?,\n",
      "                       geometry: [f32]\n",
      "                  },\n",
      "                  residue_insertion_codes: [string]?,\n",
      "                  residue_seq_ids: [i32]?,\n",
      "                  amino_acid_labels: [Label{u32,  string}]?,\n",
      "                  subunits: [[u32]]?,\n",
      "                  amino_acids: [[u32]]?,\n",
      "                  amino_acid_seq_ids: [i32]?,\n",
      "                  binding_site_interactions: [BindingSiteInteraction{\n",
      "                      receptor_amino_acid_idx: u32,\n",
      "                       ligand_xyz: [f32],\n",
      "                       receptor_atom_idx: u32,\n",
      "                       receptor_xyz: [f32],\n",
      "                       ligand_atom_idx: u32,\n",
      "                       receptor_is_charged: bool,\n",
      "                       ligand_residue_idx: u32,\n",
      "                       pi_stack_kind: PiStackKind[P  |  T]?,\n",
      "                       receptor_is_donor: bool,\n",
      "                       receptor_is_positively_charged: bool,\n",
      "                  }]?,\n",
      "                  residue_labels: [Label{u32,  string}]?,\n",
      "                  residues: [[u32]]?,\n",
      "                  amino_acid_insertion_codes: [string]?\n",
      "             }\n",
      "        }\n",
      "    \n",
      "    \n",
      "    :param input_conformer: A Conformer. The Conformer's Topology requires fragment charges and fragment charge multiplicities\n",
      "    :return output_conformer: Output Conformer including partial charges and bond recalculation\n",
      "\n"
     ]
    }
   ],
   "source": [
    "help(client.dubai)"
   ]
  },
  {
   "cell_type": "code",
   "execution_count": null,
   "id": "437ee070",
   "metadata": {},
   "outputs": [
    {
     "name": "stdout",
     "output_type": "stream",
     "text": [
      "2024-02-25 17:10:52,167 - rush - INFO - Trying to restore job with tags: ['rush-py', 'dubai', 'convert'] and path: github:talo/Dubai/cf7835b4c099e19ea77e0f28e999136bcaf62e5a#dubai_tengu\n"
     ]
    }
   ],
   "source": [
    "(ligand_with_bonds,) = await client.dubai(\n",
    "    LIGAND_FILEPATH, resources=DUBAI_RESOURCES, target=\"NIX_SSH_2\"\n",
    ")"
   ]
  },
  {
   "cell_type": "code",
   "execution_count": null,
   "id": "7d32d64a-5a5f-41c2-a813-69e9832840a0",
   "metadata": {},
   "outputs": [],
   "source": [
    "output_ligand_path = await ligand_with_bonds.download()"
   ]
  },
  {
   "cell_type": "code",
   "execution_count": null,
   "id": "b06777aa",
   "metadata": {},
   "outputs": [
    {
     "name": "stdout",
     "output_type": "stream",
     "text": [
      "Bond inference performed correctly!\n"
     ]
    }
   ],
   "source": [
    "output_ligand = json.load(open(output_ligand_path, \"r\"))\n",
    "\n",
    "for expected_bond, outputted_bond in zip(\n",
    "    EXPECTED_CONNECTIVITY, output_ligand[\"topology\"][\"connectivity\"]\n",
    "):\n",
    "    # Check start atoms are the same\n",
    "    assert expected_bond[0] == outputted_bond[0]\n",
    "    # Check ending atoms are the same\n",
    "    assert expected_bond[1] == outputted_bond[1]\n",
    "    # NB: we don't check the third item of the bond -- the bond type. This is\n",
    "    # because Dubai accurately outputs ring bonds as a specific 'RINGBOND' type,\n",
    "    # whereas SDF aspirin was interleaving single and double bonds.\n",
    "print(\"Bond inference performed correctly!\")"
   ]
  },
  {
   "cell_type": "code",
   "execution_count": null,
   "id": "7153f300-3394-4661-bc6a-8c6a340c0bd7",
   "metadata": {},
   "outputs": [],
   "source": []
  }
 ],
 "metadata": {
  "kernelspec": {
   "display_name": "python3",
   "language": "python",
   "name": "python3"
  }
 },
 "nbformat": 4,
 "nbformat_minor": 5
}
