{
 "cells": [
  {
   "cell_type": "markdown",
   "id": "353bc2f2",
   "metadata": {},
   "source": [
    "# Dubai — Quantum accurate bond inference and partial charge calculations"
   ]
  },
  {
   "cell_type": "markdown",
   "id": "2af37c1a",
   "metadata": {},
   "source": [
    "This notebook will walk us through getting quantum-accurate bond inference and Mulliken partial charge calculations for a SMILES string retrieved from PubChem."
   ]
  },
  {
   "cell_type": "markdown",
   "id": "1123d792",
   "metadata": {},
   "source": [
    "# 0) Complete example\n",
    "See the [sample notebook](/Quickstarts/ligand_bond_inference_and_partial_charge_calculation-sample.ipynb) for a complete demonstration."
   ]
  },
  {
   "cell_type": "markdown",
   "id": "5d8505c9",
   "metadata": {},
   "source": [
    "# 1) Setup\n",
    "See [Quickstart](../index.ipynb#imports) for more details on the setup."
   ]
  },
  {
   "cell_type": "markdown",
   "id": "a91080f2",
   "metadata": {},
   "source": [
    "## 1.0) Imports"
   ]
  },
  {
   "cell_type": "code",
   "execution_count": null,
   "id": "5b56af96",
   "metadata": {},
   "outputs": [],
   "source": [
    "import os\n",
    "import json\n",
    "from pathlib import Path\n",
    "\n",
    "import requests\n",
    "import rush"
   ]
  },
  {
   "cell_type": "markdown",
   "id": "8fdb8070",
   "metadata": {},
   "source": [
    "## 1.1) Configuration\n"
   ]
  },
  {
   "cell_type": "code",
   "execution_count": null,
   "id": "3fb8b08d",
   "metadata": {},
   "outputs": [],
   "source": [
    "TOKEN = os.getenv(\"RUSH_TOKEN\")\n",
    "# You might have a custom deployment url, by default it will use\n",
    "# https://tengu.qdx.ai\n",
    "RUSH_URL = os.getenv(\"RUSH_URL\")"
   ]
  },
  {
   "cell_type": "code",
   "execution_count": null,
   "id": "e727b2e5",
   "metadata": {},
   "outputs": [],
   "source": [
    "DESCRIPTION = \"quantum-bond-inference-notebook\"\n",
    "TAGS = [\"rush-py\", \"dubai\", \"convert\"]\n",
    "WORK_DIR = Path.home() / \"qdx\" / \"dubai-rush-py-demo\""
   ]
  },
  {
   "cell_type": "markdown",
   "id": "0f56b236",
   "metadata": {},
   "source": [
    "## 1.2) Build your client"
   ]
  },
  {
   "cell_type": "code",
   "execution_count": null,
   "id": "55b4b2a2",
   "metadata": {},
   "outputs": [
    {
     "name": "stdout",
     "output_type": "stream",
     "text": [
      "2024-04-11 13:28:47,200 - rush - INFO - Not restoring by default via default\n"
     ]
    }
   ],
   "source": [
    "# |hide\n",
    "if WORK_DIR.exists():\n",
    "    client = rush.Provider(workspace=WORK_DIR, access_token=TOKEN, url=RUSH_URL)\n",
    "    await client.nuke(remote=False)\n",
    "YOUR_TOKEN = os.getenv(\"RUSH_TOKEN\")"
   ]
  },
  {
   "cell_type": "code",
   "execution_count": null,
   "id": "a1786e42",
   "metadata": {},
   "outputs": [
    {
     "name": "stdout",
     "output_type": "stream",
     "text": [
      "2024-04-11 13:28:47,403 - rush - INFO - Not restoring by default via default\n"
     ]
    }
   ],
   "source": [
    "os.makedirs(WORK_DIR, exist_ok=True)\n",
    "os.environ[\"RUSH_TOKEN\"] = YOUR_TOKEN\n",
    "client = rush.build_blocking_provider_with_functions(\n",
    "    workspace=WORK_DIR, batch_tags=TAGS\n",
    ")"
   ]
  },
  {
   "cell_type": "markdown",
   "id": "f4220456",
   "metadata": {},
   "source": [
    "# 2) Preparation"
   ]
  },
  {
   "cell_type": "markdown",
   "id": "e1fdf61a",
   "metadata": {},
   "source": [
    "## 2.0) Download Aspirin SDF from PubChem"
   ]
  },
  {
   "cell_type": "code",
   "execution_count": null,
   "id": "e0fa3bc3",
   "metadata": {},
   "outputs": [],
   "source": [
    "# Convert aspirin to a QDXF file so we can use it for this demo\n",
    "SMILES_STRING = \"CC(=O)OC1=CC=CC=C1C(=O)O\"\n",
    "SDF_LINK = f\"https://pubchem.ncbi.nlm.nih.gov/rest/pug/compound/smiles/{SMILES_STRING}/record/SDF?record_type=3d\"\n",
    "\n",
    "file_path = f\"{WORK_DIR}/aspirin.sdf\"\n",
    "with open(file_path, \"wb\") as f:\n",
    "    f.write(requests.get(SDF_LINK).content)"
   ]
  },
  {
   "cell_type": "markdown",
   "id": "a66e5966",
   "metadata": {},
   "source": [
    "## 2.1) Convert SDF file to QDXF format\n",
    "QDXF is the central molecule format of the Rush API, so before we use the Dubai module to infer connectivity (bonds) for our molecule, we must convert our SDF file to QDXF."
   ]
  },
  {
   "cell_type": "code",
   "execution_count": null,
   "id": "7b2d7f84",
   "metadata": {},
   "outputs": [],
   "source": [
    "# We need to specify storage > file size to ensure that we have allocated\n",
    "# enough resources for the convert module\n",
    "(ligand,) = client.convert(\"SDF\", Path(file_path), resources={\"storage\": 6000})"
   ]
  },
  {
   "cell_type": "markdown",
   "id": "1ef10fb4",
   "metadata": {},
   "source": [
    "## 2.2) Remove connectivity\n",
    "We remove connectivity, as we will be perceiving bonds (quantum-accurately) using Dubai in the next step."
   ]
  },
  {
   "cell_type": "code",
   "execution_count": null,
   "id": "0eddfcab-da31-4934-86ae-75108430afc5",
   "metadata": {},
   "outputs": [
    {
     "name": "stdout",
     "output_type": "stream",
     "text": [
      "2024-04-11 13:28:50,141 - rush - INFO - Argument b9871d93-2bfe-43ef-8f00-d23e8770ab32 is now ModuleInstanceStatus.RESOLVING\n",
      "2024-04-11 13:28:51,250 - rush - INFO - Argument b9871d93-2bfe-43ef-8f00-d23e8770ab32 is now ModuleInstanceStatus.ADMITTED\n",
      "2024-04-11 13:28:55,653 - rush - INFO - Argument b9871d93-2bfe-43ef-8f00-d23e8770ab32 is now ModuleInstanceStatus.AWAITING_UPLOAD\n"
     ]
    }
   ],
   "source": [
    "ligand_path = ligand.download()"
   ]
  },
  {
   "cell_type": "code",
   "execution_count": null,
   "id": "be1b0b86-cabb-4e37-9eeb-d1d509558981",
   "metadata": {},
   "outputs": [],
   "source": [
    "ligand = json.load(ligand_path.open())"
   ]
  },
  {
   "cell_type": "code",
   "execution_count": null,
   "id": "eda3098c",
   "metadata": {},
   "outputs": [],
   "source": [
    "EXPECTED_CONNECTIVITY = ligand[0][\"topology\"][\"connectivity\"]\n",
    "ligand = ligand[0]\n",
    "del ligand[\"topology\"][\"connectivity\"]\n",
    "\n",
    "ligand[\"topology\"][\"fragment_multiplicities\"] = [1]"
   ]
  },
  {
   "cell_type": "markdown",
   "id": "94b6482f",
   "metadata": {},
   "source": [
    "# 3) Infer bonds and calculate partial charges\n",
    "In this stage, we set configuration for the Dubai module, as well as saving our QDXF Aspirin to disk, as the Dubai module needs the file itself.\n"
   ]
  },
  {
   "cell_type": "markdown",
   "id": "1b332a94",
   "metadata": {},
   "source": [
    "## 3.0) Arguments"
   ]
  },
  {
   "cell_type": "code",
   "execution_count": null,
   "id": "effe18e1",
   "metadata": {},
   "outputs": [],
   "source": [
    "DUBAI_RESOURCES = {\n",
    "    \"gpus\": 1,\n",
    "    \"storage\": 1024_000,\n",
    "    \"walltime\": 60,\n",
    "}\n",
    "LIGAND_FILEPATH = Path(f\"{WORK_DIR}/aspirin.qdxf.json\")\n",
    "json.dump(ligand, open(LIGAND_FILEPATH, \"w\"))"
   ]
  },
  {
   "cell_type": "markdown",
   "id": "fd505746",
   "metadata": {},
   "source": [
    "## 3.1) Run the inference\n",
    "Finally, we run Dubai to perform quantum-accurate bond inference, as well the calculation of Mulliken partial charges."
   ]
  },
  {
   "cell_type": "code",
   "execution_count": null,
   "id": "934eb589-6b95-437e-9bfe-87268b306f3d",
   "metadata": {},
   "outputs": [
    {
     "name": "stdout",
     "output_type": "stream",
     "text": [
      "Help on function dubai in module rush.provider:\n",
      "\n",
      "dubai(*args: *tuple[RushObject[Record]], target: 'Target | None' = None, resources: 'Resources | None' = None, tags: 'list[str] | None' = None, restore: 'bool | None' = None) -> tuple[RushObject[Record]]\n",
      "    Perform quantum accurate bond inference and partial charge calculation on a Conformer\n",
      "\n",
      "    Module version:\n",
      "    `github:talo/Dubai/cf7835b4c099e19ea77e0f28e999136bcaf62e5a#dubai_tengu`\n",
      "\n",
      "    QDX Type Description:\n",
      "\n",
      "        input_conformer: Object[Conformer]\n",
      "        ->\n",
      "        output_conformer: Object[Conformer]\n",
      "\n",
      "\n",
      "    :param input_conformer: A Conformer. The Conformer's Topology requires fragment charges and fragment charge multiplicities\n",
      "    :return output_conformer: Output Conformer including partial charges and bond recalculation\n",
      "\n"
     ]
    }
   ],
   "source": [
    "help(client.dubai)"
   ]
  },
  {
   "cell_type": "code",
   "execution_count": null,
   "id": "437ee070",
   "metadata": {},
   "outputs": [],
   "source": [
    "(ligand_with_bonds,) = client.dubai(LIGAND_FILEPATH, resources=DUBAI_RESOURCES)"
   ]
  },
  {
   "cell_type": "code",
   "execution_count": null,
   "id": "7d32d64a-5a5f-41c2-a813-69e9832840a0",
   "metadata": {},
   "outputs": [
    {
     "name": "stdout",
     "output_type": "stream",
     "text": [
      "2024-04-11 13:29:11,695 - rush - INFO - Argument 937fc67e-ac10-4098-838a-4202616a6011 is now ModuleInstanceStatus.RESOLVING\n",
      "2024-04-11 13:29:13,949 - rush - INFO - Argument 937fc67e-ac10-4098-838a-4202616a6011 is now ModuleInstanceStatus.ADMITTED\n",
      "2024-04-11 13:29:20,461 - rush - INFO - Argument 937fc67e-ac10-4098-838a-4202616a6011 is now ModuleInstanceStatus.DISPATCHED\n",
      "2024-04-11 13:29:21,549 - rush - INFO - Argument 937fc67e-ac10-4098-838a-4202616a6011 is now ModuleInstanceStatus.RUNNING\n",
      "2024-04-11 13:29:27,114 - rush - INFO - Argument 937fc67e-ac10-4098-838a-4202616a6011 is now ModuleInstanceStatus.AWAITING_UPLOAD\n"
     ]
    }
   ],
   "source": [
    "output_ligand_path = ligand_with_bonds.download()"
   ]
  },
  {
   "cell_type": "code",
   "execution_count": null,
   "id": "b06777aa",
   "metadata": {},
   "outputs": [
    {
     "name": "stdout",
     "output_type": "stream",
     "text": [
      "Bond inference performed correctly!\n"
     ]
    }
   ],
   "source": [
    "output_ligand = json.load(open(output_ligand_path, \"r\"))\n",
    "\n",
    "for expected_bond, outputted_bond in zip(\n",
    "    EXPECTED_CONNECTIVITY, output_ligand[\"topology\"][\"connectivity\"]\n",
    "):\n",
    "    # Check start atoms are the same\n",
    "    assert expected_bond[0] == outputted_bond[0]\n",
    "    # Check ending atoms are the same\n",
    "    assert expected_bond[1] == outputted_bond[1]\n",
    "    # NB: we don't check the third item of the bond -- the bond type. This is\n",
    "    # because Dubai accurately outputs ring bonds as a specific 'RINGBOND' type,\n",
    "    # whereas SDF aspirin was interleaving single and double bonds.\n",
    "print(\"Bond inference performed correctly!\")"
   ]
  }
 ],
 "metadata": {
  "kernelspec": {
   "display_name": "python3",
   "language": "python",
   "name": "python3"
  }
 },
 "nbformat": 4,
 "nbformat_minor": 5
}
