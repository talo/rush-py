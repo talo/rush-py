{
 "cells": [
  {
   "cell_type": "markdown",
   "id": "353bc2f2",
   "metadata": {},
   "source": [
    "# Dubai — Quantum accurate bond inference and partial charge calculations"
   ]
  },
  {
   "cell_type": "markdown",
   "id": "2af37c1a",
   "metadata": {},
   "source": [
    "This notebook will walk us through getting quantum-accurate bond inference and Mulliken partial charge calculations for a SMILES string retrieved from PubChem."
   ]
  },
  {
   "cell_type": "markdown",
   "id": "5d8505c9",
   "metadata": {},
   "source": [
    "## 0) Setup\n",
    "See [Quickstart](../index.ipynb#imports) for more details on the setup."
   ]
  },
  {
   "cell_type": "markdown",
   "id": "a91080f2",
   "metadata": {},
   "source": [
    "## 0.0) Imports"
   ]
  },
  {
   "cell_type": "code",
   "execution_count": null,
   "id": "5b56af96",
   "metadata": {},
   "outputs": [],
   "source": [
    "import os\n",
    "import json\n",
    "from pathlib import Path\n",
    "\n",
    "import requests\n",
    "import rush"
   ]
  },
  {
   "cell_type": "markdown",
   "id": "8fdb8070",
   "metadata": {},
   "source": [
    "## 0.1) Credentials\n"
   ]
  },
  {
   "cell_type": "code",
   "execution_count": null,
   "id": "3fb8b08d",
   "metadata": {},
   "outputs": [],
   "source": [
    "TOKEN = os.getenv(\"RUSH_TOKEN\")\n",
    "# You might have a custom deployment url, by default it will use https://tengu.qdx.ai\n",
    "RUSH_URL = os.getenv(\"RUSH_URL\")"
   ]
  },
  {
   "cell_type": "markdown",
   "id": "c4267c41",
   "metadata": {},
   "source": [
    "## 0.2) Configuration\n",
    "Let's set some global variables that define our project."
   ]
  },
  {
   "cell_type": "code",
   "execution_count": null,
   "id": "e727b2e5",
   "metadata": {},
   "outputs": [],
   "source": [
    "DESCRIPTION = \"quantum-bond-inference-notebook\"\n",
    "TAGS = [\"rush-py\", \"dubai\", \"convert\"]\n",
    "WORK_DIR = Path.home() / \"qdx\" / \"dubai-rush-py-demo\""
   ]
  },
  {
   "cell_type": "markdown",
   "id": "0f56b236",
   "metadata": {},
   "source": [
    "## 0.3) Build your rush client"
   ]
  },
  {
   "cell_type": "code",
   "execution_count": null,
   "id": "55b4b2a2",
   "metadata": {},
   "outputs": [],
   "source": [
    "# |hide\n",
    "if WORK_DIR.exists():\n",
    "    client = rush.Provider(workspace=WORK_DIR, access_token=TOKEN, url=RUSH_URL)\n",
    "    await client.nuke()"
   ]
  },
  {
   "cell_type": "code",
   "execution_count": null,
   "id": "a1786e42",
   "metadata": {},
   "outputs": [],
   "source": [
    "os.makedirs(WORK_DIR, exist_ok=True)\n",
    "\n",
    "client = await rush.build_provider_with_functions(\n",
    "    access_token=TOKEN, url=RUSH_URL, workspace=WORK_DIR, batch_tags=TAGS\n",
    ")"
   ]
  },
  {
   "cell_type": "markdown",
   "id": "e1fdf61a",
   "metadata": {},
   "source": [
    "## 0.4) Download Aspirin SDF from PubChem"
   ]
  },
  {
   "cell_type": "code",
   "execution_count": null,
   "id": "e0fa3bc3",
   "metadata": {},
   "outputs": [],
   "source": [
    "# Convert aspirin to a QDXF file so we can use it for this demo\n",
    "SMILES_STRING = \"CC(=O)OC1=CC=CC=C1C(=O)O\"\n",
    "SDF_LINK = (\n",
    "    f\"https://pubchem.ncbi.nlm.nih.gov/rest/pug/compound/smiles/{SMILES_STRING}/record/SDF?record_type=3d\"\n",
    ")\n",
    "\n",
    "file_path = f\"{WORK_DIR}/aspirin.sdf\"\n",
    "with open(file_path, \"wb\") as f:\n",
    "    f.write(requests.get(SDF_LINK).content)"
   ]
  },
  {
   "cell_type": "markdown",
   "id": "a66e5966",
   "metadata": {},
   "source": [
    "## 0.5) Convert SDF file to QDXF format\n",
    "QDXF is the central molecule format of the Rush API, so before we use the Dubai module to infer connectivity (bonds) for our molecule, we must convert our SDF file to QDXF."
   ]
  },
  {
   "cell_type": "code",
   "execution_count": null,
   "id": "7b2d7f84",
   "metadata": {},
   "outputs": [
    {
     "name": "stdout",
     "output_type": "stream",
     "text": [
      "2024-01-24 10:35:42,147 - rush - INFO - Argument 6e2c0a62-43df-452e-84e3-1016992d3320 is now ModuleInstanceStatus.RESOLVING\n",
      "2024-01-24 10:35:43,286 - rush - INFO - Argument 6e2c0a62-43df-452e-84e3-1016992d3320 is now ModuleInstanceStatus.ADMITTED\n",
      "2024-01-24 10:35:44,397 - rush - INFO - Argument 6e2c0a62-43df-452e-84e3-1016992d3320 is now ModuleInstanceStatus.RUNNING\n",
      "2024-01-24 10:35:45,509 - rush - INFO - Argument 6e2c0a62-43df-452e-84e3-1016992d3320 is now ModuleInstanceStatus.AWAITING_UPLOAD\n"
     ]
    }
   ],
   "source": [
    "# We need to specify storage > file size to ensure that we have allocated enough resources for the convert module\n",
    "(ligand,) = await client.convert(\"SDF\", Path(file_path), resources={\"storage\": 5000})\n",
    "\n",
    "ligand = await ligand.get()"
   ]
  },
  {
   "cell_type": "markdown",
   "id": "1ef10fb4",
   "metadata": {},
   "source": [
    "## 0.6 ) Remove connectivity\n",
    "We remove connectivity, as we will be perceiving bonds (quantum-accurately) using Dubai in the next step."
   ]
  },
  {
   "cell_type": "code",
   "execution_count": null,
   "id": "eda3098c",
   "metadata": {},
   "outputs": [],
   "source": [
    "EXPECTED_CONNECTIVITY = ligand[0][\"topology\"][\"connectivity\"]\n",
    "ligand = ligand[0]\n",
    "del ligand[\"topology\"][\"connectivity\"]\n",
    "\n",
    "ligand[\"topology\"][\"fragment_multiplicities\"] = [1]"
   ]
  },
  {
   "cell_type": "markdown",
   "id": "94b6482f",
   "metadata": {},
   "source": [
    "## 1.0) Set Dubai module specific configuration\n",
    "In this stage, we set configuration for the Dubai module, as well as saving our QDXF Aspirin to disk, as the Dubai module needs the file itself.\n"
   ]
  },
  {
   "cell_type": "code",
   "execution_count": null,
   "id": "effe18e1",
   "metadata": {},
   "outputs": [],
   "source": [
    "DUBAI_RESOURCES = {\n",
    "    \"gpus\": 1,\n",
    "    \"storage\": 1024_000,\n",
    "    \"walltime\": 60,\n",
    "}\n",
    "LIGAND_FILEPATH = Path(f\"{WORK_DIR}/aspirin.qdxf.json\")\n",
    "json.dump(ligand, open(LIGAND_FILEPATH, \"w\"))"
   ]
  },
  {
   "cell_type": "markdown",
   "id": "fd505746",
   "metadata": {},
   "source": [
    "## 1.1) Run Dubai\n",
    "Finally, we run Dubai to perform quantum-accurate bond inference, as well the calculation of Mulliken partial charges."
   ]
  },
  {
   "cell_type": "code",
   "execution_count": null,
   "id": "934eb589-6b95-437e-9bfe-87268b306f3d",
   "metadata": {},
   "outputs": [
    {
     "name": "stdout",
     "output_type": "stream",
     "text": [
      "Help on function dubai in module rush.provider:\n",
      "\n",
      "async dubai(*args: [<class 'pathlib.Path'>], target: rush.graphql_client.enums.ModuleInstanceTarget | None = <ModuleInstanceTarget.NIX_SSH: 'NIX_SSH'>, resources: rush.graphql_client.input_types.ModuleInstanceResourcesInput | None = ModuleInstanceResourcesInput(gpus=0, gpu_mem=None, gpu_mem_units=None, cpus=None, nodes=None, mem=None, mem_units=None, storage=10, storage_units=<MemUnits.MB: 'MB'>, walltime=None, storage_mounts=None), tags: list[str] | None = None, restore: bool | None = None) -> [<class 'pathlib.Path'>]\n",
      "    Perform quantum accurate bond inference and partial charge calculation on a Conformer\n",
      "    \n",
      "    Module version: `Dubai/d013073e0774326e903e6abaca4c1871d4950e70`\n",
      "    \n",
      "    QDX Type Description:\n",
      "    \n",
      "        input: @Conformer\n",
      "        ->\n",
      "        output: @Conformer\n",
      "    \n",
      "    :param input: A Conformer. The Conformer's Topology requires fragment charges and fragment charge multiplicities\n",
      "    :return output: Output Conformer including partial charges and bond recalculation\n",
      "\n"
     ]
    }
   ],
   "source": [
    "help(client.dubai)"
   ]
  },
  {
   "cell_type": "code",
   "execution_count": null,
   "id": "437ee070",
   "metadata": {},
   "outputs": [],
   "source": [
    "(ligand_with_bonds,) = await client.dubai(LIGAND_FILEPATH, resources=DUBAI_RESOURCES)"
   ]
  },
  {
   "cell_type": "code",
   "execution_count": null,
   "id": "b06777aa",
   "metadata": {},
   "outputs": [
    {
     "name": "stdout",
     "output_type": "stream",
     "text": [
      "2024-01-24 10:35:47,888 - rush - INFO - Argument 71a62101-da66-466d-aa16-5f28f8c425b4 is now ModuleInstanceStatus.RESOLVING\n",
      "2024-01-24 10:35:58,892 - rush - INFO - Argument 71a62101-da66-466d-aa16-5f28f8c425b4 is now ModuleInstanceStatus.ADMITTED\n",
      "2024-01-24 10:36:37,365 - rush - INFO - Argument 71a62101-da66-466d-aa16-5f28f8c425b4 is now ModuleInstanceStatus.DISPATCHED\n",
      "2024-01-24 10:36:46,274 - rush - INFO - Argument 71a62101-da66-466d-aa16-5f28f8c425b4 is now ModuleInstanceStatus.AWAITING_UPLOAD\n"
     ]
    }
   ],
   "source": [
    "output_ligand = await ligand_with_bonds.get()\n",
    "\n",
    "for expected_bond, outputted_bond in zip(EXPECTED_CONNECTIVITY, output_ligand[\"topology\"][\"connectivity\"]):\n",
    "    # Check start atoms are the same\n",
    "    assert expected_bond[0] == outputted_bond[0]\n",
    "    # Check ending atoms are the same\n",
    "    assert expected_bond[1] == outputted_bond[1]\n",
    "    # NB: we don't check the third item of the bond -- the bond type. This is because Dubai accurately outputs ring bonds as\n",
    "    # a specific 'RINGBOND' type, whereas SDF aspirin was interleaving single and double bonds."
   ]
  },
  {
   "cell_type": "code",
   "execution_count": null,
   "id": "0c71b390",
   "metadata": {},
   "outputs": [],
   "source": []
  }
 ],
 "metadata": {
  "kernelspec": {
   "display_name": "python3",
   "language": "python",
   "name": "python3"
  }
 },
 "nbformat": 4,
 "nbformat_minor": 5
}
