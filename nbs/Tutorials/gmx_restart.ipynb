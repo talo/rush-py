{
 "cells": [
  {
   "cell_type": "markdown",
   "id": "a7ade04f-1e33-48a7-8ba1-364305e5382c",
   "metadata": {},
   "source": [
    "# GROMACS Resume -  Start a long GROMACS run that times out, and resume it"
   ]
  },
  {
   "cell_type": "markdown",
   "id": "6f6163a1",
   "metadata": {},
   "source": [
    "On the supercomputers, a maximum runtime of 24h is enforced. If a longer GROMACS run is needed, the run can easily be resumed. One of the outputs provided by the Rush `gmx` module is designed to be used as the input to the `gmx_resume` module, which will resume the run from the latest checkpoint. The outputs to this module are identical to those of the `gmx` module itself, so the run can be resumed as many times as necessary to finish it."
   ]
  },
  {
   "cell_type": "markdown",
   "id": "e3255512",
   "metadata": {},
   "source": [
    "## 0.0) Imports"
   ]
  },
  {
   "cell_type": "code",
   "execution_count": null,
   "id": "78cdaade",
   "metadata": {},
   "outputs": [],
   "source": [
    "from pathlib import Path\n",
    "import time\n",
    "\n",
    "import rush"
   ]
  },
  {
   "cell_type": "code",
   "execution_count": null,
   "id": "584ed7d6-a01d-4a81-9cbe-25b38387ff71",
   "metadata": {},
   "outputs": [
    {
     "name": "stdout",
     "output_type": "stream",
     "text": [
      "2024-04-01 14:31:15,462 - rush - INFO - Not restoring by default via default\n",
      "2024-04-01 14:42:12,248 - rush - WARNING - Module gmx has a different version on the server: github:talo/tengu-gmx/4140970cfe714988d2600a78bf7a9ec6a395c6ea#gmx_tengu.\n",
      "                                Use `.update_modules()` to update the lock file\n",
      "2024-04-01 14:42:12,248 - rush - WARNING - Module prepare_protein has a different version on the server: github:talo/prepare_protein/6f0e59fa231aa5e6201d43999e270b90348dcb51#prepare_protein_tengu.\n",
      "                                Use `.update_modules()` to update the lock file\n",
      "2024-04-01 14:42:12,248 - rush - WARNING - Module hermes_energy_batch has a different version on the server: github:talo/tengu-prelude/4a16cf12be35f0a40c113d4410046de865f1906f#hermes_energy_batch.\n",
      "                                Use `.update_modules()` to update the lock file\n",
      "2024-04-01 14:42:12,249 - rush - WARNING - Module hermes_energy has a different version on the server: github:talo/tengu-prelude/4a16cf12be35f0a40c113d4410046de865f1906f#hermes_energy.\n",
      "                                Use `.update_modules()` to update the lock file\n",
      "2024-04-01 14:42:12,249 - rush - WARNING - Module pick_conformer has a different version on the server: github:talo/tengu-prelude/b345a0b0077225c63d904d0e03fb9ca1acec55ed#pick_conformer.\n",
      "                                Use `.update_modules()` to update the lock file\n",
      "2024-04-01 14:42:12,249 - rush - WARNING - Module convert has a different version on the server: github:talo/tengu-prelude/b345a0b0077225c63d904d0e03fb9ca1acec55ed#convert.\n",
      "                                Use `.update_modules()` to update the lock file\n",
      "2024-04-01 14:42:12,249 - rush - WARNING - Module concat has a different version on the server: github:talo/tengu-prelude/b345a0b0077225c63d904d0e03fb9ca1acec55ed#concat.\n",
      "                                Use `.update_modules()` to update the lock file\n",
      "2024-04-01 14:42:12,249 - rush - WARNING - Module gmx_mmpbsa has a different version on the server: github:talo/gmx_tengu_support/e49a0554b9104e4694138657bab17601f60c4b9b#gmx_mmpbsa_tengu.\n",
      "                                Use `.update_modules()` to update the lock file\n",
      "2024-04-01 14:42:12,250 - rush - WARNING - Module plip has a different version on the server: github:talo/tengu-plip/b0119d6e16e564376dee67f5deb418f03b818065#plip_tengu.\n",
      "                                Use `.update_modules()` to update the lock file\n",
      "2024-04-01 14:42:12,250 - rush - WARNING - Module pbsa has a different version on the server: github:talo/pbsa-cuda/85b807d2fa6b1ea843440d93a2644ce891e41d6d#pbsa_tengu.\n",
      "                                Use `.update_modules()` to update the lock file\n",
      "2024-04-01 14:42:12,250 - rush - WARNING - Module dubai has a different version on the server: github:talo/Dubai/4a177b6f5711de65abf0c8856adf3c2604ca228d#dubai_tengu.\n",
      "                                Use `.update_modules()` to update the lock file\n",
      "2024-04-01 14:42:12,250 - rush - WARNING - Module github:talo/prepare_protein/947cdbc000031e192153a20a9b4a8fbb12279102#pdb2pqr_tengu is not in the lock file\n"
     ]
    }
   ],
   "source": [
    "# |hide\n",
    "# Users won't generally create a workspace\n",
    "# We nuke to ensure run is reproducible\n",
    "import os\n",
    "\n",
    "WORK_DIR = Path.home() / \"qdx\" / \"tutorial-gmx-resume\"\n",
    "\n",
    "if WORK_DIR.exists():\n",
    "    client = rush.Provider(workspace=WORK_DIR)\n",
    "    await client.nuke(remote=False)\n",
    "\n",
    "os.makedirs(WORK_DIR, exist_ok=True)"
   ]
  },
  {
   "cell_type": "code",
   "execution_count": null,
   "id": "61d50edd-a7c1-4096-b3e0-496a1f01347c",
   "metadata": {},
   "outputs": [
    {
     "name": "stdout",
     "output_type": "stream",
     "text": [
      "2024-04-01 14:31:15,487 - rush - INFO - Not restoring by default via default\n",
      "2024-04-01 14:42:12,267 - rush - WARNING - Module gmx_resume has a different version on the server: github:talo/tengu-gmx/eaaa2472bd2dc67eed931fa1816fd0b46c509599#gmx_resume_tengu.\n",
      "                                Use `.update_modules()` to update the lock file\n",
      "2024-04-01 14:42:12,267 - rush - WARNING - Module gmx has a different version on the server: github:talo/tengu-gmx/4140970cfe714988d2600a78bf7a9ec6a395c6ea#gmx_tengu.\n",
      "                                Use `.update_modules()` to update the lock file\n",
      "2024-04-01 14:42:12,268 - rush - WARNING - Module prepare_protein has a different version on the server: github:talo/prepare_protein/6f0e59fa231aa5e6201d43999e270b90348dcb51#prepare_protein_tengu.\n",
      "                                Use `.update_modules()` to update the lock file\n"
     ]
    }
   ],
   "source": [
    "RUSH_TOKEN = os.getenv(\"RUSH_TOKEN\") or \"YOUR_TOKEN_HERE\"\n",
    "client = rush.build_blocking_provider_with_functions(access_token=RUSH_TOKEN)"
   ]
  },
  {
   "cell_type": "code",
   "execution_count": null,
   "id": "a3d4edb5-8f15-440d-a18a-a8c2a230bfc4",
   "metadata": {},
   "outputs": [
    {
     "name": "stdout",
     "output_type": "stream",
     "text": [
      "2024-04-01 14:31:16,781 - rush - INFO - Not restoring by default via default\n"
     ]
    }
   ],
   "source": [
    "# |hide\n",
    "# We hide this because users will generally not set a workspace, and won't restore by default\n",
    "client = rush.build_blocking_provider_with_functions(\n",
    "    batch_tags=[\"tutorial-resume-gmx\"],\n",
    "    workspace=WORK_DIR,\n",
    ")"
   ]
  },
  {
   "cell_type": "markdown",
   "id": "ebee89a7",
   "metadata": {},
   "source": [
    "## 0.1) Input Download and Selection"
   ]
  },
  {
   "cell_type": "code",
   "execution_count": null,
   "id": "3fe53173-5dbc-4524-8616-87fb0a6c566a",
   "metadata": {},
   "outputs": [],
   "source": [
    "!pdb_fetch '1B39' | pdb_selchain -A | pdb_delhetatm > '1B39_A_nohet.pdb'"
   ]
  },
  {
   "cell_type": "markdown",
   "id": "66954bd1",
   "metadata": {},
   "source": [
    "## 1) Input Preparation"
   ]
  },
  {
   "cell_type": "code",
   "execution_count": null,
   "id": "cbc1fb21",
   "metadata": {},
   "outputs": [],
   "source": [
    "_, prepared_protein_pdb = client.prepare_protein(\n",
    "    Path.cwd() / \"1B39_A_nohet.pdb\", None, None\n",
    ")"
   ]
  },
  {
   "cell_type": "markdown",
   "id": "3163f52e",
   "metadata": {},
   "source": [
    "## 2.1) Run GROMACS (modules: gmx, gmx_resume)\n",
    "Next we will run a molecular dynamics simulation on our protein using gromacs via the `gmx` module.\n",
    "\n",
    "We'll set `timeout_duration_mins = 1` so that the run times out before it finishes, and then resume via the `gmx_resume` module using the first output, which is the archive that contains all the necessary data for resuming the run from the last saved checkpoint.\n",
    "\n",
    "We'll set `checkpoint_interval_mins = 1.0/60` so that the checkpointing takes place once per second.\n",
    "\n",
    "We can restart as many times as we need to in order for the run to finish. Use a unique tag for each restarted run so that each sequential restart will be tagged and cached appropriately. See below for an example.\n",
    "\n",
    "For each restarted run, please pass the same config file that was passed to the original `gmx` call. There is no support for shortening or extending runs, or changing any other run parameters, of runs that have already been started. Passing the same config ensures that progress is reported properly and that there are no other inconsistencies. So, the initial run config should specify the full desired run.\n",
    "\n",
    "One current limitation is that the frame selection can only operate on the data generated by the last call to `gmx` or `gmx_restart`. Otherwise, the output xtc files from all the calls must be joined and processed manually."
   ]
  },
  {
   "cell_type": "code",
   "execution_count": null,
   "id": "e95ced73-4330-4368-a4cf-7b97e76dc2dd",
   "metadata": {},
   "outputs": [],
   "source": [
    "gmx_config = {\n",
    "    \"params_overrides\": {\n",
    "        \"nvt\": {\"nsteps\": 2000},\n",
    "        \"npt\": {\"nsteps\": 2000},\n",
    "        \"md\": {\"nsteps\": 150000},\n",
    "    },\n",
    "    \"frame_sel\": {\n",
    "        \"start_time_ps\": 290,\n",
    "        \"end_time_ps\": 300,\n",
    "        \"delta_time_ps\": 1,\n",
    "    },\n",
    "    \"checkpoint_interval_mins\": 1.0 / 60,\n",
    "    \"timeout_duration_mins\": 1,\n",
    "    \"num_gpus\": 1,\n",
    "    \"save_wets\": False,\n",
    "}"
   ]
  },
  {
   "cell_type": "code",
   "execution_count": null,
   "id": "7c868ee5-8ec7-454b-b4fd-d4ac8c72b827",
   "metadata": {},
   "outputs": [],
   "source": [
    "resume_files_first, streaming_outputs, static_outputs, *rest = client.gmx(\n",
    "    None,\n",
    "    prepared_protein_pdb,\n",
    "    None,\n",
    "    gmx_config,\n",
    "    resources={\"gpus\": 1, \"storage\": 1, \"storage_units\": \"GB\"},\n",
    ")"
   ]
  },
  {
   "cell_type": "markdown",
   "id": "e4c10df8",
   "metadata": {},
   "source": [
    "## Checking progress of GROMACS run\n",
    "To determine if your GROMACS run is done, or if further runs are required, you can look at the progress output.\n",
    "How to check this output is demonstrated below. \n",
    "\n",
    "\n",
    "This is an example progress event that indicates that the job has not completed, and will require resuming.\n",
    "`n` is the number of execution steps in the GMX module. If `n` is less than `n_expected`, or `done` is false the run is not yet completed.\n",
    "\n",
    "\n",
    "`gmx_resume_tengu progress: {\n",
    "  \"n\": 600,\n",
    "  \"n_expected\": 601,\n",
    "  \"n_max\": 601,\n",
    "  \"done\": false\n",
    "}`\n",
    "\n",
    "We keep running resume until the progress is done"
   ]
  },
  {
   "cell_type": "code",
   "execution_count": null,
   "id": "e7cb1e68-a675-431d-a657-a5aa5908c9ab",
   "metadata": {},
   "outputs": [
    {
     "name": "stdout",
     "output_type": "stream",
     "text": [
      "Help on function gmx_resume in module rush.provider:\n",
      "\n",
      "gmx_resume(*args: *tuple[RushObject[bytes], Record], target: 'Target | None' = None, resources: 'Resources | None' = None, tags: 'list[str] | None' = None, restore: 'bool | None' = None) -> tuple[RushObject[bytes], RushObject[bytes], RushObject[bytes], RushObject[bytes], RushObject[bytes], RushObject[bytes], RushObject[bytes]]\n",
      "    Runs a molecular dynamics simluation using GROMACS from either protein, resuming from a checkpoint.\n",
      "    Uses GMX 2023.3 https://doi.org/10.5281/zenodo.10017686 and Acpype https://doi.org/10.1186/1756-0500-5-367\n",
      "\n",
      "    Module version:\n",
      "    `github:talo/tengu-gmx/eaaa2472bd2dc67eed931fa1816fd0b46c509599#gmx_resume_tengu`\n",
      "\n",
      "    QDX Type Description:\n",
      "\n",
      "        resume_files: Object[@$Bytes];\n",
      "        gmx_config: GMXTenguConfig {\n",
      "            water_box_size: f32?,\n",
      "            ligand_charge: i8?,\n",
      "            save_wets: bool?,\n",
      "            frame_sel: FrameSelConfig {\n",
      "                start_time_ps: u32,\n",
      "                delta_time_ps: u32,\n",
      "                end_time_ps: u32\n",
      "            }?,\n",
      "            params_overrides: GMXOverrides {\n",
      "                ions: IonsOverrides {\n",
      "                    rcoulomb: f64?,\n",
      "                    cutoff_scheme: string?,\n",
      "                    nstlog: i32?,\n",
      "                    coulombtype: string?,\n",
      "                    rvdw: f64?,\n",
      "                    emtol: f64?,\n",
      "                    integrator: string?,\n",
      "                    nsteps: i32?,\n",
      "                    emstep: f64?,\n",
      "                    pbc: string?,\n",
      "                    rlist: f64?\n",
      "                }?,\n",
      "                npt: NPTOverrides {\n",
      "                    tau_t: [f64]?,\n",
      "                    tcoupl: string?,\n",
      "                    vdw_modifier: string?,\n",
      "                    rcoulomb: f64?,\n",
      "                    pcoupltype: string?,\n",
      "                    tc_grps: string?,\n",
      "                    rlist: f64?,\n",
      "                    constraints: string?,\n",
      "                    rvdw_switch: f64?,\n",
      "                    lincs_order: i32?,\n",
      "                    pbc: string?,\n",
      "                    compressibility: f64?,\n",
      "                    pcoupl: string?,\n",
      "                    nstenergy: i32?,\n",
      "                    rvdw: f64?,\n",
      "                    cutoff_scheme: string?,\n",
      "                    pme_order: i32?,\n",
      "                    gen_vel: string?,\n",
      "                    tau_p: f64?,\n",
      "                    nstxout_compressed: i32?,\n",
      "                    lincs_iter: i32?,\n",
      "                    coulombtype: string?,\n",
      "                    nstlog: i32?,\n",
      "                    ref_p: f64?,\n",
      "                    define: string?,\n",
      "                    dt: f64?,\n",
      "                    fourierspacing: f64?,\n",
      "                    integrator: string?,\n",
      "                    nsteps: i32?,\n",
      "                    refcoord_scaling: string?,\n",
      "                    constraint_algorithm: string?,\n",
      "                    continuation: string?,\n",
      "                    disp_corr: string?,\n",
      "                    vdwtype: string?,\n",
      "                    ref_t: [f64]?\n",
      "                }?,\n",
      "                md: MDOverrides {\n",
      "                    tcoupl: string?,\n",
      "                    dt: f64?,\n",
      "                    compressibility: f64?,\n",
      "                    cutoff_scheme: string?,\n",
      "                    rvdw_switch: f64?,\n",
      "                    rcoulomb: f64?,\n",
      "                    constraint_algorithm: string?,\n",
      "                    nsteps: i32?,\n",
      "                    disp_corr: string?,\n",
      "                    rlist: f64?,\n",
      "                    lincs_iter: i32?,\n",
      "                    coulombtype: string?,\n",
      "                    pcoupl: string?,\n",
      "                    vdw_modifier: string?,\n",
      "                    tau_p: f64?,\n",
      "                    nstenergy: i32?,\n",
      "                    ref_p: f64?,\n",
      "                    lincs_order: i32?,\n",
      "                    pbc: string?,\n",
      "                    continuation: string?,\n",
      "                    gen_vel: string?,\n",
      "                    integrator: string?,\n",
      "                    ref_t: [f64]?,\n",
      "                    tc_grps: string?,\n",
      "                    vdwtype: string?,\n",
      "                    rvdw: f64?,\n",
      "                    pme_order: i32?,\n",
      "                    nstxout_compressed: i32?,\n",
      "                    pcoupltype: string?,\n",
      "                    tau_t: [f64]?,\n",
      "                    nstlog: i32?,\n",
      "                    constraints: string?,\n",
      "                    fourierspacing: f64?\n",
      "                }?,\n",
      "                nvt: NVTOverrides {\n",
      "                    lincs_order: i32?,\n",
      "                    gen_vel: string?,\n",
      "                    nstxout_compressed: i32?,\n",
      "                    pcoupl: string?,\n",
      "                    pbc: string?,\n",
      "                    gen_temp: f64?,\n",
      "                    cutoff_scheme: string?,\n",
      "                    vdwtype: string?,\n",
      "                    tc_grps: string?,\n",
      "                    define: string?,\n",
      "                    nstenergy: i32?,\n",
      "                    tcoupl: string?,\n",
      "                    nstlog: i32?,\n",
      "                    tau_t: [f64]?,\n",
      "                    nsteps: i32?,\n",
      "                    gen_seed: i32?,\n",
      "                    vdw_modifier: string?,\n",
      "                    coulombtype: string?,\n",
      "                    lincs_iter: i32?,\n",
      "                    fourierspacing: f64?,\n",
      "                    continuation: string?,\n",
      "                    pme_order: i32?,\n",
      "                    rcoulomb: f64?,\n",
      "                    rlist: f64?,\n",
      "                    constraint_algorithm: string?,\n",
      "                    constraints: string?,\n",
      "                    integrator: string?,\n",
      "                    ref_t: [f64]?,\n",
      "                    disp_corr: string?,\n",
      "                    dt: f64?,\n",
      "                    rvdw: f64?,\n",
      "                    rvdw_switch: f64?\n",
      "                }?,\n",
      "                em: EMOverrides {\n",
      "                    coulombtype: string?,\n",
      "                    cutoff_scheme: string?,\n",
      "                    nstlog: i32?,\n",
      "                    pbc: string?,\n",
      "                    rcoulomb: f64?,\n",
      "                    emtol: f64?,\n",
      "                    integrator: string?,\n",
      "                    nsteps: i32?,\n",
      "                    rvdw: f64?,\n",
      "                    emstep: f64?,\n",
      "                    rlist: f64?\n",
      "                }?\n",
      "            }?,\n",
      "            force_field: string?,\n",
      "            timeout_duration_mins: u32?,\n",
      "            checkpoint_interval_mins: f32?,\n",
      "            num_gpus: u8,\n",
      "            num_replicas: u8?,\n",
      "            perf_flags_override: string?,\n",
      "            ignore_hydrogens: bool?\n",
      "        }\n",
      "        ->\n",
      "        resume_files: Object[@$Bytes];\n",
      "        streaming_outputs: Object[@$Bytes];\n",
      "        static_outputs: Object[@$Bytes];\n",
      "        output_xtcs_dry: Object[@$Bytes];\n",
      "        output_frames_pdb_dry: Object[@$Bytes];\n",
      "        output_xtcs_wet: Object[@$Bytes];\n",
      "        output_frames_pdb_wet: Object[@$Bytes]\n",
      "\n",
      "\n",
      "    :param resume_files: The untouched tar.gz resume_files output from a past run, to resume from\n",
      "    :param gmx_config: Configuration record\n",
      "    :return resume_files: .tpr, .cpt, .ndx, .top, & .itp files of the production MD runs, plus the input ligand pdb\n",
      "    :return streaming_outputs: .edr, .log, & .xtc files of the production MD runs\n",
      "    :return static_outputs: .gro & .xvg files files from the runs\n",
      "    :return output_xtcs_dry: Processed dry trajectories, i.e., without water molecules, from the production MD runs\n",
      "    :return output_frames_pdb_dry: Outputs of select_frame; pdb frames without water\n",
      "    :return output_xtcs_wet: Processed wet trajectories, i.e. with water molecules, from the production MD runs\n",
      "    :return output_frames_pdb_wet: Outputs of select_frame; pdb frames with water\n",
      "\n"
     ]
    }
   ],
   "source": [
    "help(client.gmx_resume)"
   ]
  },
  {
   "cell_type": "code",
   "execution_count": null,
   "id": "18d47c80",
   "metadata": {},
   "outputs": [
    {
     "name": "stdout",
     "output_type": "stream",
     "text": [
      "2024-04-01 14:31:19,696 - rush - INFO - Argument f680d54f-dc12-4eb0-8b54-156b914816d7 is now ModuleInstanceStatus.RESOLVING\n",
      "2024-04-01 14:35:39,659 - rush - INFO - Argument f680d54f-dc12-4eb0-8b54-156b914816d7 is now ModuleInstanceStatus.ADMITTED\n",
      "2024-04-01 14:36:13,472 - rush - INFO - Argument f680d54f-dc12-4eb0-8b54-156b914816d7 is now ModuleInstanceStatus.DISPATCHED\n",
      "2024-04-01 14:36:20,285 - rush - INFO - Argument f680d54f-dc12-4eb0-8b54-156b914816d7 is now ModuleInstanceStatus.RUNNING\n",
      "2024-04-01 14:37:24,915 - rush - INFO - Argument f680d54f-dc12-4eb0-8b54-156b914816d7 is now ModuleInstanceStatus.AWAITING_UPLOAD\n",
      "n=101100 n_expected=154000 n_max=154000 done=False\n",
      "2024-04-01 14:38:15,234 - rush - INFO - Argument 33b4853c-9b35-4a1a-9b1f-3117b8b36114 is now ModuleInstanceStatus.RESOLVING\n",
      "2024-04-01 14:38:16,344 - rush - INFO - Argument 33b4853c-9b35-4a1a-9b1f-3117b8b36114 is now ModuleInstanceStatus.ADMITTED\n",
      "2024-04-01 14:38:28,593 - rush - INFO - Argument 33b4853c-9b35-4a1a-9b1f-3117b8b36114 is now ModuleInstanceStatus.DISPATCHED\n",
      "2024-04-01 14:38:36,409 - rush - INFO - Argument 33b4853c-9b35-4a1a-9b1f-3117b8b36114 is now ModuleInstanceStatus.RUNNING\n",
      "2024-04-01 14:39:41,209 - rush - INFO - Argument 33b4853c-9b35-4a1a-9b1f-3117b8b36114 is now ModuleInstanceStatus.AWAITING_UPLOAD\n",
      "n=148500 n_expected=154000 n_max=154000 done=False\n",
      "2024-04-01 14:40:31,332 - rush - INFO - Argument 8e4f18c3-f4d3-4e44-baa1-9a628cf7abfd is now ModuleInstanceStatus.RESOLVING\n",
      "2024-04-01 14:40:32,560 - rush - INFO - Argument 8e4f18c3-f4d3-4e44-baa1-9a628cf7abfd is now ModuleInstanceStatus.ADMITTED\n",
      "2024-04-01 14:40:45,105 - rush - INFO - Argument 8e4f18c3-f4d3-4e44-baa1-9a628cf7abfd is now ModuleInstanceStatus.DISPATCHED\n",
      "2024-04-01 14:40:52,883 - rush - INFO - Argument 8e4f18c3-f4d3-4e44-baa1-9a628cf7abfd is now ModuleInstanceStatus.RUNNING\n",
      "2024-04-01 14:41:17,820 - rush - INFO - Argument 8e4f18c3-f4d3-4e44-baa1-9a628cf7abfd is now ModuleInstanceStatus.AWAITING_UPLOAD\n",
      "n=154000 n_expected=154000 n_max=154000 done=True\n"
     ]
    }
   ],
   "source": [
    "done = False\n",
    "resumes = 0\n",
    "resume_files = resume_files_first\n",
    "while not done:\n",
    "    resume_files, _, _, xtc_dry, pdb_dry, _, _ = client.gmx_resume(\n",
    "        resume_files,\n",
    "        gmx_config,\n",
    "        tags=[f\"gmx-resume-{resumes}\"],\n",
    "        restore=False,\n",
    "        resources={\"gpus\": 1, \"storage\": 1, \"storage_units\": \"GB\"},\n",
    "    )\n",
    "    # wait for module to finish\n",
    "    resume_files.get()\n",
    "    progress = client.module_instance_blocking(resume_files.source).progress\n",
    "    print(progress)\n",
    "    done = progress.done\n",
    "    resumes += 1"
   ]
  },
  {
   "cell_type": "markdown",
   "id": "cd65c6eb-c521-4f18-a435-f7ad47c10508",
   "metadata": {},
   "source": [
    "# Downloading Results\n",
    "To download extracted frames and fetch their pdbs, we can do the following"
   ]
  },
  {
   "cell_type": "code",
   "execution_count": null,
   "id": "e08f87cb-855b-4d1b-98fa-10bacd0ae957",
   "metadata": {},
   "outputs": [
    {
     "data": {
      "text/plain": [
       "PosixPath('/home/machineer/qdx/tutorial-gmx-resume/objects/dry_frames.tar.gz')"
      ]
     },
     "execution_count": null,
     "metadata": {},
     "output_type": "execute_result"
    }
   ],
   "source": [
    "pdb_dry.download(\"dry_frames.tar.gz\")"
   ]
  },
  {
   "cell_type": "code",
   "execution_count": null,
   "id": "ead305d5-f956-442c-86df-de960e6d6a69",
   "metadata": {},
   "outputs": [],
   "source": [
    "import tarfile\n",
    "\n",
    "with tarfile.open(client.workspace / \"objects\" / \"dry_frames.tar.gz\", \"r\") as tf:\n",
    "    selected_frame_pdbs = [\n",
    "        tf.extractfile(member).read()\n",
    "        for member in tf\n",
    "        if \"pdb\" in member.name and member.isfile()\n",
    "    ]\n",
    "    for i, frame in enumerate(selected_frame_pdbs):\n",
    "        with open(\n",
    "            client.workspace / \"objects\" / f\"gmx_output_frame_{i}.pdb\", \"w\"\n",
    "        ) as pf:\n",
    "            print(frame.decode(\"utf-8\"), file=pf)"
   ]
  },
  {
   "cell_type": "code",
   "execution_count": null,
   "id": "49886900-aaf5-424e-ac2b-cb324a5a6911",
   "metadata": {},
   "outputs": [
    {
     "name": "stdout",
     "output_type": "stream",
     "text": [
      "REMARK    GENERATED BY TRJCONV\n",
      "TITLE     Protein in water t= 299.00000 step= 149500\n",
      "REMARK    THIS IS A SIMULATION BOX\n",
      "CRYST1   87.942   87.942   87.941  60.00  60.00  90.00 P 1           1\n",
      "MODEL       10\n",
      "ATOM      1  N   MET     1      49.440  60.400   7.670  1.00  0.00           N\n",
      "ATOM      2  H1  MET     1      49.050  59.970   8.500  1.00  0.00           H\n",
      "ATOM      3  H2  MET     1      48.590  60.570   7.150  1.00  0.00           H\n",
      "ATOM      4  H3  MET     1      49.910  59.650   7.180  1.00  0.00           H\n",
      "ATOM      5  CA  MET     1      50.310  61.580   7.860  1.00  0.00           C\n",
      "\n"
     ]
    }
   ],
   "source": [
    "with open(client.workspace / \"objects\" / \"gmx_output_frame_0.pdb\", \"r\") as f:\n",
    "    print(str.join(\"\", f.readlines()[0:10]))"
   ]
  },
  {
   "cell_type": "code",
   "execution_count": null,
   "id": "88e8ec4b-4cf4-4d98-aef8-68df83d00674",
   "metadata": {},
   "outputs": [],
   "source": []
  }
 ],
 "metadata": {
  "kernelspec": {
   "display_name": "python3",
   "language": "python",
   "name": "python3"
  }
 },
 "nbformat": 4,
 "nbformat_minor": 5
}
