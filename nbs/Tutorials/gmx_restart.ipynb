{
 "cells": [
  {
   "cell_type": "markdown",
   "id": "a7ade04f-1e33-48a7-8ba1-364305e5382c",
   "metadata": {},
   "source": [
    "# GROMACS Resume -  Start a long GROMACS run that times out, and resume it"
   ]
  },
  {
   "cell_type": "markdown",
   "id": "6f6163a1",
   "metadata": {},
   "source": [
    "On the supercomputers, a maximum runtime of 24h is enforced. If a longer GROMACS run is needed, the run can easily be resumed. One of the outputs provided by the Rush `gmx` module is designed to be used as the input to the `gmx_resume` module, which will resume the run from the latest checkpoint. The outputs to this module are identical to those of the `gmx` module itself, so the run can be resumed as many times as necessary to finish it."
   ]
  },
  {
   "cell_type": "markdown",
   "id": "e3255512",
   "metadata": {},
   "source": [
    "## 0.0) Imports"
   ]
  },
  {
   "cell_type": "code",
   "execution_count": null,
   "id": "78cdaade",
   "metadata": {},
   "outputs": [],
   "source": [
    "from pathlib import Path\n",
    "import rush"
   ]
  },
  {
   "cell_type": "code",
   "execution_count": null,
   "id": "584ed7d6-a01d-4a81-9cbe-25b38387ff71",
   "metadata": {},
   "outputs": [
    {
     "name": "stdout",
     "output_type": "stream",
     "text": [
      "2024-03-22 16:01:05,862 - rush - INFO - Restoring by default via env\n"
     ]
    }
   ],
   "source": [
    "# |hide\n",
    "# Users won't generally create a workspace\n",
    "# We nuke to ensure run is reproducible\n",
    "import os\n",
    "\n",
    "WORK_DIR = Path.home() / \"qdx\" / \"tutorial-gmx-resume\"\n",
    "\n",
    "if WORK_DIR.exists():\n",
    "    client = rush.Provider(workspace=WORK_DIR)\n",
    "    await client.nuke(remote=False)\n",
    "\n",
    "os.makedirs(WORK_DIR, exist_ok=True)"
   ]
  },
  {
   "cell_type": "code",
   "execution_count": null,
   "id": "61d50edd-a7c1-4096-b3e0-496a1f01347c",
   "metadata": {},
   "outputs": [
    {
     "name": "stdout",
     "output_type": "stream",
     "text": [
      "2024-03-22 16:01:05,887 - rush - INFO - Restoring by default via env\n"
     ]
    }
   ],
   "source": [
    "RUSH_TOKEN = os.getenv(\"RUSH_TOKEN\") or \"YOUR_TOKEN_HERE\"\n",
    "client = rush.build_blocking_provider_with_functions(access_token=RUSH_TOKEN)"
   ]
  },
  {
   "cell_type": "code",
   "execution_count": null,
   "id": "a3d4edb5-8f15-440d-a18a-a8c2a230bfc4",
   "metadata": {},
   "outputs": [
    {
     "name": "stdout",
     "output_type": "stream",
     "text": [
      "2024-03-22 16:01:07,481 - rush - INFO - Restoring by default via env\n"
     ]
    }
   ],
   "source": [
    "# |hide\n",
    "# We hide this because users will generally not set a workspace, and won't restore by default\n",
    "client = rush.build_blocking_provider_with_functions(\n",
    "    batch_tags=[\"tutorial-resume-gmx\"],\n",
    "    workspace=WORK_DIR,\n",
    ")"
   ]
  },
  {
   "cell_type": "markdown",
   "id": "ebee89a7",
   "metadata": {},
   "source": [
    "## 0.1) Input Download and Selection"
   ]
  },
  {
   "cell_type": "code",
   "execution_count": null,
   "id": "3fe53173-5dbc-4524-8616-87fb0a6c566a",
   "metadata": {},
   "outputs": [],
   "source": [
    "!pdb_fetch '1B39' | pdb_selchain -A | pdb_delhetatm > '1B39_A_nohet.pdb'"
   ]
  },
  {
   "cell_type": "markdown",
   "id": "66954bd1",
   "metadata": {},
   "source": [
    "## 1) Input Preparation"
   ]
  },
  {
   "cell_type": "code",
   "execution_count": null,
   "id": "cbc1fb21",
   "metadata": {},
   "outputs": [
    {
     "name": "stdout",
     "output_type": "stream",
     "text": [
      "2024-03-22 16:01:10,083 - rush - INFO - Trying to restore job with tags: ['tutorial-resume-gmx'] and path: github:talo/prepare_protein/947cdbc000031e192153a20a9b4a8fbb12279102#prepare_protein_tengu\n",
      "2024-03-22 16:01:10,145 - rush - WARNING - Multiple module instances found with the same tags and path\n",
      "2024-03-22 16:01:10,145 - rush - WARNING - Multiple module instances found with the same tags and path\n",
      "2024-03-22 16:01:10,146 - rush - WARNING - Multiple module instances found with the same tags and path\n",
      "2024-03-22 16:01:10,146 - rush - WARNING - Multiple module instances found with the same tags and path\n",
      "2024-03-22 16:01:10,146 - rush - WARNING - Multiple module instances found with the same tags and path\n",
      "2024-03-22 16:01:10,191 - rush - INFO - Restoring job from previous run with id 3e4e10dd-f7cf-4e33-b759-cc73d6ae11c9\n"
     ]
    }
   ],
   "source": [
    "_, prepared_protein_pdb = client.prepare_protein(\n",
    "    Path.cwd() / \"1B39_A_nohet.pdb\", None, None\n",
    ")"
   ]
  },
  {
   "cell_type": "markdown",
   "id": "3163f52e",
   "metadata": {},
   "source": [
    "## 2.1) Run GROMACS (modules: gmx, gmx_resume)\n",
    "Next we will run a molecular dynamics simulation on our protein using gromacs via the `gmx` module.\n",
    "\n",
    "We'll set `timeout_duration_mins = 1` so that the run times out before it finishes, and then resume via the `gmx_resume` module using the first output, which is the archive that contains all the necessary data for resuming the run from the last saved checkpoint.\n",
    "\n",
    "We'll set `checkpoint_interval_mins = 1.0/60` so that the checkpointing takes place once per second.\n",
    "\n",
    "We can restart as many times as we need to in order for the run to finish. Use a unique tag for each restarted run so that each sequential restart will be tagged and cached appropriately. See below for an example.\n",
    "\n",
    "For each restarted run, please pass the same config file that was passed to the original `gmx` call. There is no support for shortening or extending runs, or changing any other run parameters, of runs that have already been started. Passing the same config ensures that progress is reported properly and that there are no other inconsistencies. So, the initial run config should specify the full desired run.\n",
    "\n",
    "One current limitation is that the frame selection can only operate on the data generated by the last call to `gmx` or `gmx_restart`. Otherwise, the output xtc files from all the calls must be joined and processed manually."
   ]
  },
  {
   "cell_type": "code",
   "execution_count": null,
   "id": "e95ced73-4330-4368-a4cf-7b97e76dc2dd",
   "metadata": {},
   "outputs": [],
   "source": [
    "gmx_config = {\n",
    "    \"params_overrides\": {\n",
    "        \"nvt\": {\"nsteps\": 2000},\n",
    "        \"npt\": {\"nsteps\": 2000},\n",
    "        \"md\": {\"nsteps\": 150000},\n",
    "    },\n",
    "    \"frame_sel\": {\n",
    "        \"start_time_ps\": 290,\n",
    "        \"end_time_ps\": 300,\n",
    "        \"delta_time_ps\": 1,\n",
    "    },\n",
    "    \"checkpoint_interval_mins\": 1.0 / 60,\n",
    "    \"timeout_duration_mins\": 1,\n",
    "    \"num_gpus\": 1,\n",
    "    \"save_wets\": False,\n",
    "}"
   ]
  },
  {
   "cell_type": "code",
   "execution_count": null,
   "id": "7c868ee5-8ec7-454b-b4fd-d4ac8c72b827",
   "metadata": {},
   "outputs": [
    {
     "name": "stdout",
     "output_type": "stream",
     "text": [
      "2024-03-22 16:01:10,200 - rush - INFO - Trying to restore job with tags: ['tutorial-resume-gmx'] and path: github:talo/tengu-gmx/04cff2931b995c33263dfdb477d7f09c8bbd75a7#gmx_tengu\n",
      "2024-03-22 16:01:10,261 - rush - INFO - Restoring job from previous run with id f6d416cf-0cde-4bf1-8ccd-44c0e71aa0d9\n"
     ]
    }
   ],
   "source": [
    "resume_files_first, streaming_outputs, static_outputs, *rest = client.gmx(\n",
    "    None,\n",
    "    prepared_protein_pdb,\n",
    "    None,\n",
    "    gmx_config,\n",
    "    resources={\"gpus\": 1, \"storage\": 1, \"storage_units\": \"GB\"},\n",
    ")"
   ]
  },
  {
   "cell_type": "markdown",
   "id": "e4c10df8",
   "metadata": {},
   "source": [
    "## Checking progress of GROMACS run\n",
    "To determine if your GROMACS run is done, or if further runs are required, you can look at the progress output.\n",
    "How to check this output is demonstrated below. \n",
    "\n",
    "\n",
    "This is an example progress event that indicates that the job has not completed, and will require resuming.\n",
    "`n` is the number of execution steps in the GMX module. If `n` is less than `n_expected`, or `done` is false the run is not yet completed.\n",
    "\n",
    "\n",
    "`gmx_resume_tengu progress: {\n",
    "  \"n\": 600,\n",
    "  \"n_expected\": 601,\n",
    "  \"n_max\": 601,\n",
    "  \"done\": false\n",
    "}`\n",
    "\n",
    "We keep running resume until the progress is done"
   ]
  },
  {
   "cell_type": "code",
   "execution_count": null,
   "id": "18d47c80",
   "metadata": {},
   "outputs": [
    {
     "name": "stdout",
     "output_type": "stream",
     "text": [
      "n=139100 n_expected=154000 n_max=154000 done=False\n",
      "2024-03-22 16:23:57,187 - rush - INFO - Trying to restore job with tags: ['gmx-resume-0', 'tutorial-resume-gmx'] and path: github:talo/tengu-gmx/04cff2931b995c33263dfdb477d7f09c8bbd75a7#gmx_resume_tengu\n",
      "2024-03-22 16:23:57,248 - rush - INFO - Restoring job from previous run with id d2d3e95f-c353-49c4-ac6b-8fb7eb07cce4\n",
      "n=154000 n_expected=154000 n_max=154000 done=True\n"
     ]
    }
   ],
   "source": [
    "# Checking\n",
    "result1 = client.module_instance_blocking(resume_files_first.source)\n",
    "print(result1.progress)\n",
    "\n",
    "done = result1.progress.done\n",
    "resumes = 0\n",
    "resume_files = resume_files_first\n",
    "while not done:\n",
    "    resume_files, _, _, xtc_dry, pdb_dry, _, _ = client.gmx_resume(\n",
    "        resume_files,\n",
    "        gmx_config,\n",
    "        tags=[f\"gmx-resume-{resumes}\"],\n",
    "        resources={\"gpus\": 1, \"storage\": 1, \"storage_units\": \"GB\"},\n",
    "    )\n",
    "    # wait for module to finish\n",
    "    resume_files.get()\n",
    "    progress = client.module_instance_blocking(resume_files.source).progress\n",
    "    print(progress)\n",
    "    done = progress.done\n",
    "    resumes += 1"
   ]
  },
  {
   "cell_type": "markdown",
   "id": "f5fa4e22-973a-4472-8b1c-a7830b29dc9c",
   "metadata": {},
   "source": [
    "We can see that we get around 50k steps a run, so we should launch another 2 resume jobs"
   ]
  },
  {
   "cell_type": "markdown",
   "id": "cd65c6eb-c521-4f18-a435-f7ad47c10508",
   "metadata": {},
   "source": [
    "# Downloading Results\n",
    "To download extracted frames and fetch their pdbs, we can do the following"
   ]
  },
  {
   "cell_type": "code",
   "execution_count": null,
   "id": "e08f87cb-855b-4d1b-98fa-10bacd0ae957",
   "metadata": {},
   "outputs": [
    {
     "data": {
      "text/plain": [
       "PosixPath('/home/machineer/qdx/tutorial-gmx-resume/objects/dry_frames.tar.gz')"
      ]
     },
     "execution_count": null,
     "metadata": {},
     "output_type": "execute_result"
    }
   ],
   "source": [
    "pdb_dry.download(\"dry_frames.tar.gz\")"
   ]
  },
  {
   "cell_type": "code",
   "execution_count": null,
   "id": "ead305d5-f956-442c-86df-de960e6d6a69",
   "metadata": {},
   "outputs": [],
   "source": [
    "import tarfile\n",
    "\n",
    "with tarfile.open(client.workspace / \"objects\" / \"dry_frames.tar.gz\", \"r\") as tf:\n",
    "    selected_frame_pdbs = [\n",
    "        tf.extractfile(member).read()\n",
    "        for member in tf\n",
    "        if \"pdb\" in member.name and member.isfile()\n",
    "    ]\n",
    "    for i, frame in enumerate(selected_frame_pdbs):\n",
    "        with open(\n",
    "            client.workspace / \"objects\" / f\"gmx_output_frame_{i}.pdb\", \"w\"\n",
    "        ) as pf:\n",
    "            print(frame.decode(\"utf-8\"), file=pf)"
   ]
  },
  {
   "cell_type": "code",
   "execution_count": null,
   "id": "49886900-aaf5-424e-ac2b-cb324a5a6911",
   "metadata": {},
   "outputs": [
    {
     "name": "stdout",
     "output_type": "stream",
     "text": [
      "REMARK    GENERATED BY TRJCONV\n",
      "TITLE     Protein in water t= 292.00000 step= 146000\n",
      "REMARK    THIS IS A SIMULATION BOX\n",
      "CRYST1   87.907   87.907   87.907  60.00  60.00  90.00 P 1           1\n",
      "MODEL        3\n",
      "ATOM      1  N   MET     1      51.280  58.500   9.380  1.00  0.00           N\n",
      "ATOM      2  H1  MET     1      50.490  58.640  10.000  1.00  0.00           H\n",
      "ATOM      3  H2  MET     1      51.070  57.860   8.640  1.00  0.00           H\n",
      "ATOM      4  H3  MET     1      52.060  58.170   9.920  1.00  0.00           H\n",
      "ATOM      5  CA  MET     1      51.490  59.810   8.760  1.00  0.00           C\n",
      "\n"
     ]
    }
   ],
   "source": [
    "with open(client.workspace / \"objects\" / \"gmx_output_frame_0.pdb\", \"r\") as f:\n",
    "    print(str.join(\"\", f.readlines()[0:10]))"
   ]
  },
  {
   "cell_type": "code",
   "execution_count": null,
   "id": "88e8ec4b-4cf4-4d98-aef8-68df83d00674",
   "metadata": {},
   "outputs": [],
   "source": []
  }
 ],
 "metadata": {
  "kernelspec": {
   "display_name": "python3",
   "language": "python",
   "name": "python3"
  }
 },
 "nbformat": 4,
 "nbformat_minor": 5
}
