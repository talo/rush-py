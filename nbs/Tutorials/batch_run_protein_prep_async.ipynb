{
 "cells": [
  {
   "cell_type": "markdown",
   "id": "ce3b5885",
   "metadata": {},
   "source": [
    "# prepare_protein — Run a batch protein preperation in parallel"
   ]
  },
  {
   "cell_type": "markdown",
   "id": "3a277a79",
   "metadata": {},
   "source": [
    "This notebook shows how to load a large amount of data and execute runs on them in parallel"
   ]
  },
  {
   "cell_type": "markdown",
   "id": "51b09111",
   "metadata": {},
   "source": [
    "# 0) Complete example\n",
    "See the [sample notebook](/Quickstarts/batch_run-protein-prep-sample.ipynb) for a quick demonstration."
   ]
  },
  {
   "cell_type": "markdown",
   "id": "b30c83c4",
   "metadata": {},
   "source": [
    "# 1) Setup"
   ]
  },
  {
   "cell_type": "markdown",
   "id": "70db72a0",
   "metadata": {},
   "source": [
    "## 1.0) Imports"
   ]
  },
  {
   "cell_type": "code",
   "execution_count": null,
   "id": "a712b7c9",
   "metadata": {},
   "outputs": [],
   "source": [
    "import os\n",
    "import asyncio\n",
    "from glob import glob\n",
    "from datetime import datetime\n",
    "from pathlib import Path\n",
    "\n",
    "from pdbtools import (\n",
    "    pdb_fetch,\n",
    "    pdb_delhetatm,\n",
    "    pdb_selchain,\n",
    "    pdb_rplresname,\n",
    "    pdb_keepcoord,\n",
    "    pdb_selresname,\n",
    ")\n",
    "import py3Dmol\n",
    "\n",
    "import rush"
   ]
  },
  {
   "cell_type": "markdown",
   "id": "21ae220f",
   "metadata": {},
   "source": [
    "## 1.1) Configuration"
   ]
  },
  {
   "cell_type": "code",
   "execution_count": null,
   "id": "3806e0a1",
   "metadata": {},
   "outputs": [],
   "source": [
    "# Define our project information\n",
    "DESCRIPTION = \"rush-py batch notebook\"\n",
    "TAGS = [\"qdx\", \"rush-py-v2\", \"demo\", \"batch-prep\"]\n",
    "WORK_DIR = Path.home() / \"qdx\" / \"rush-py-batch-prep\"\n",
    "\n",
    "# Set our inputs\n",
    "PROTEIN_PDB_FOLDER_PATH = WORK_DIR / \"proteins\"\n",
    "\n",
    "TARGET = \"BULLET_2\""
   ]
  },
  {
   "cell_type": "code",
   "execution_count": null,
   "id": "9f9aafee",
   "metadata": {},
   "outputs": [],
   "source": [
    "# |hide\n",
    "if WORK_DIR.exists():\n",
    "    client = rush.Provider(workspace=WORK_DIR)\n",
    "    await client.nuke(remote=False)\n",
    "YOUR_TOKEN = os.getenv(\"RUSH_TOKEN\")"
   ]
  },
  {
   "cell_type": "markdown",
   "id": "071ef30a",
   "metadata": {},
   "source": [
    "Ensure your workdir exists"
   ]
  },
  {
   "cell_type": "code",
   "execution_count": null,
   "id": "3d59858a",
   "metadata": {},
   "outputs": [],
   "source": [
    "os.makedirs(WORK_DIR, exist_ok=True)\n",
    "os.makedirs(PROTEIN_PDB_FOLDER_PATH, exist_ok=True)"
   ]
  },
  {
   "cell_type": "markdown",
   "id": "5e3ffbbf",
   "metadata": {},
   "source": [
    "## 1.2) Build your client"
   ]
  },
  {
   "cell_type": "markdown",
   "id": "db4bd03f",
   "metadata": {},
   "source": [
    "Initialize our rush client and fetch available module paths."
   ]
  },
  {
   "cell_type": "code",
   "execution_count": null,
   "id": "9f00aaf6",
   "metadata": {},
   "outputs": [],
   "source": [
    "os.environ[\"RUSH_TOKEN\"] = YOUR_TOKEN\n",
    "\n",
    "# Get our client, for calling modules and using the rush API\n",
    "client = await rush.build_provider_with_functions(\n",
    "    batch_tags=TAGS, workspace=WORK_DIR\n",
    ")"
   ]
  },
  {
   "cell_type": "code",
   "execution_count": null,
   "id": "28174d51",
   "metadata": {},
   "outputs": [],
   "source": [
    "# fetch datafiles\n",
    "for pdb in [\"1B39\", \"4QXI\", \"8FSU\"]:\n",
    "    complex = list(pdb_fetch.fetch_structure(pdb))\n",
    "    protein = pdb_delhetatm.remove_hetatm(pdb_selchain.select_chain(complex, \"A\"))\n",
    "\n",
    "    with open(PROTEIN_PDB_FOLDER_PATH / f\"{pdb}_protein.pdb\", \"w\") as f:\n",
    "        for l in protein:\n",
    "            f.write(str(l))"
   ]
  },
  {
   "cell_type": "code",
   "execution_count": null,
   "id": "299259e4",
   "metadata": {},
   "outputs": [],
   "source": [
    "help(client.prepare_protein)"
   ]
  },
  {
   "cell_type": "markdown",
   "id": "7bfbfaf4",
   "metadata": {},
   "source": [
    "# 2) Prepare each protein"
   ]
  },
  {
   "cell_type": "code",
   "execution_count": null,
   "id": "2b5378c6",
   "metadata": {},
   "outputs": [],
   "source": [
    "proteins = map(lambda x: Path(x), glob(str(PROTEIN_PDB_FOLDER_PATH / \"*.pdb\")))\n",
    "\n",
    "protein_outputs = []\n",
    "\n",
    "for protein_path in proteins:\n",
    "    print(protein_path)\n",
    "    name = protein_path.stem\n",
    "    (prepped_protein_qdxf, prepped_protein_pdb) = await client.prepare_protein(\n",
    "        protein_path, None, None, tags=[name], target=TARGET\n",
    "    )\n",
    "    protein_outputs.append((name, prepped_protein_qdxf, prepped_protein_pdb))\n",
    "\n",
    "protein_outputs"
   ]
  },
  {
   "cell_type": "markdown",
   "id": "2f9b4d9a",
   "metadata": {},
   "source": [
    "# 3) Report progress\n",
    "This will show the status of all of your runs"
   ]
  },
  {
   "cell_type": "code",
   "execution_count": null,
   "id": "e0cb86b9",
   "metadata": {},
   "outputs": [],
   "source": [
    "protein_outputs[0][1].download()"
   ]
  },
  {
   "cell_type": "code",
   "execution_count": null,
   "id": "2d4d2d27",
   "metadata": {},
   "outputs": [],
   "source": [
    "status = await client.status(group_by=\"path\")\n",
    "print(f\"{'Module':<32} | {'Status':<32} | Count\")\n",
    "print(\"-\" * 75)\n",
    "for module, (status, path, count) in status.items():\n",
    "    print(f\"{path:<32} | {status:<32} | {count:>5}\")"
   ]
  },
  {
   "cell_type": "markdown",
   "id": "00e67178",
   "metadata": {},
   "source": [
    "# 4) Download Results\n",
    "This will retrieve results for your completed module_instances"
   ]
  },
  {
   "cell_type": "code",
   "execution_count": null,
   "id": "1829814a",
   "metadata": {},
   "outputs": [],
   "source": [
    "protein_outputs[0][1]"
   ]
  },
  {
   "cell_type": "code",
   "execution_count": null,
   "id": "b7845ffd",
   "metadata": {},
   "outputs": [],
   "source": [
    "await asyncio.gather(\n",
    "    *[\n",
    "        output[1].download(\n",
    "            filename=f\"protein_{output[0]}_prepared.qdxf.json\", overwrite=True\n",
    "        )\n",
    "        for output in protein_outputs\n",
    "    ]\n",
    "    + [\n",
    "        output[2].download(\n",
    "            filename=f\"protein_{output[0]}_prepared.pdb\", overwrite=True\n",
    "        )\n",
    "        for output in protein_outputs\n",
    "    ],\n",
    ")"
   ]
  },
  {
   "cell_type": "markdown",
   "id": "a7072287",
   "metadata": {},
   "source": [
    "# 5) Visualize Results"
   ]
  },
  {
   "cell_type": "code",
   "execution_count": null,
   "id": "207bdb02",
   "metadata": {},
   "outputs": [],
   "source": [
    "view = py3Dmol.view(viewergrid=(1, 3))\n",
    "\n",
    "prepared_proteins = map(\n",
    "    lambda x: Path(x), glob(str(client.workspace / \"objects\" / \"*.pdb\"))\n",
    ")\n",
    "\n",
    "for i, file in enumerate(prepared_proteins):\n",
    "    with open(file, \"r\") as f:\n",
    "        view.addModel(f.read(), \"pdb\", viewer=(0, i))\n",
    "        view.setStyle({\"cartoon\": {\"color\": \"spectrum\"}}, viewer=(0, i))\n",
    "        view.zoomTo(viewer=(0, i))\n",
    "view.show()"
   ]
  },
  {
   "cell_type": "markdown",
   "id": "b905fb13",
   "metadata": {},
   "source": [
    "# 6) Check failures\n",
    "This will retrieve failed runs in your workspace history"
   ]
  },
  {
   "cell_type": "code",
   "execution_count": null,
   "id": "e5bc14b1",
   "metadata": {},
   "outputs": [],
   "source": [
    "for instance_id, (status, name, count) in (await client.status()).items():\n",
    "    if status.value == \"FAILED\":\n",
    "        async for log_page in client.logs(instance_id, \"stderr\"):\n",
    "            for log in log_page:\n",
    "                print(log)"
   ]
  },
  {
   "cell_type": "code",
   "execution_count": null,
   "id": "3c40b97d",
   "metadata": {},
   "outputs": [],
   "source": []
  }
 ],
 "metadata": {
  "kernelspec": {
   "display_name": "python3",
   "language": "python",
   "name": "python3"
  }
 },
 "nbformat": 4,
 "nbformat_minor": 5
}