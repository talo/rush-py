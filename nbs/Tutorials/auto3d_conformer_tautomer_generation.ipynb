{
 "cells": [
  {
   "cell_type": "markdown",
   "id": "fa7a18db-f5d1-42ab-91cb-8df7de7eecdb",
   "metadata": {},
   "source": [
    "# Run a basic Hermes Hartree-Fock energy calculation on ligand conformers from Auto3d"
   ]
  },
  {
   "cell_type": "markdown",
   "id": "6b9e0688-9c56-4922-bdf9-f29c41fd15c1",
   "metadata": {},
   "source": [
    "In this notebook, we'll perform a hermes energy calculation on a ligand derived from a smiles string"
   ]
  },
  {
   "cell_type": "markdown",
   "id": "ded1f9e9",
   "metadata": {},
   "source": [
    "# 0) Complete Example\n",
    "See the [sample notebook](/Quickstarts/auto3d_conformer_tautomer_generation-sample.ipynb) for a complete demonstration."
   ]
  },
  {
   "cell_type": "markdown",
   "id": "dbf4feb5-2f37-4f2e-b1ea-943756525df2",
   "metadata": {},
   "source": [
    "# 1) Setup"
   ]
  },
  {
   "cell_type": "markdown",
   "id": "dbcb9011",
   "metadata": {},
   "source": [
    "## 1.0) Imports"
   ]
  },
  {
   "cell_type": "code",
   "execution_count": 1,
   "id": "de35042a-572b-4c97-9ed2-96d192ae59cd",
   "metadata": {},
   "outputs": [],
   "source": [
    "import json\n",
    "import os\n",
    "import sys\n",
    "import tarfile\n",
    "\n",
    "from pdbtools import *\n",
    "import requests\n",
    "from datetime import datetime\n",
    "from pathlib import Path\n",
    "import py3Dmol\n",
    "\n",
    "import rush"
   ]
  },
  {
   "cell_type": "markdown",
   "id": "60a75a2b",
   "metadata": {},
   "source": [
    "## 1.1) Configuration"
   ]
  },
  {
   "cell_type": "code",
   "execution_count": 2,
   "id": "1e25927d-d93d-4380-8e02-a025530504bb",
   "metadata": {},
   "outputs": [],
   "source": [
    "EXPERIMENT = \"tengu-py-auto3d_hermes\"\n",
    "LIGAND_SMILES = \"CC(=O)OC1=CC=CC=C1C(=O)O \"\n",
    "LIGAND = \"ASPRIN\"\n",
    "TAGS = [\"qdx\", EXPERIMENT, LIGAND]"
   ]
  },
  {
   "cell_type": "code",
   "execution_count": 3,
   "id": "05d81d8c-291d-4902-b87c-7b9a2d9d83f5",
   "metadata": {},
   "outputs": [],
   "source": [
    "# |hide\n",
    "WORK_DIR = Path.home() / \"qdx\" / EXPERIMENT\n",
    "\n",
    "if WORK_DIR.exists():\n",
    "    client = rush.Provider(workspace=WORK_DIR)\n",
    "    await client.nuke(remote=False)\n",
    "\n",
    "os.makedirs(WORK_DIR, exist_ok=True)\n",
    "os.makedirs(WORK_DIR / \".rush\", exist_ok=True)\n",
    "import sys\n",
    "\n",
    "os.chdir(WORK_DIR)"
   ]
  },
  {
   "cell_type": "markdown",
   "id": "770f5c87",
   "metadata": {},
   "source": [
    "## 1.2) Build your client"
   ]
  },
  {
   "cell_type": "code",
   "execution_count": 4,
   "id": "c588f092-d7db-4128-b21f-8f5cfa00f65b",
   "metadata": {},
   "outputs": [],
   "source": [
    "# Get our client, for calling modules and using the rush API\n",
    "client = await rush.build_provider_with_functions(batch_tags=TAGS)"
   ]
  },
  {
   "cell_type": "code",
   "execution_count": 5,
   "id": "e6fc9bef-b2a9-4e7f-8a6e-131d0ef2eea3",
   "metadata": {},
   "outputs": [],
   "source": [
    "# |hide\n",
    "client = await rush.build_provider_with_functions(batch_tags=TAGS, restore_by_default=True)"
   ]
  },
  {
   "cell_type": "code",
   "execution_count": 6,
   "id": "2c083a94-f0bf-4225-b1d7-ee213a7d43b4",
   "metadata": {},
   "outputs": [],
   "source": [
    "# |hide\n",
    "client.workspace = WORK_DIR\n",
    "client.config_dir = WORK_DIR / \".rush\""
   ]
  },
  {
   "cell_type": "markdown",
   "id": "c95c0376-6dac-419c-a48d-30a8d877aead",
   "metadata": {},
   "source": [
    "# 2) Preparation\n",
    "We want to convert our raw files into prepared qdxfs, with correct charges and missing residues filled"
   ]
  },
  {
   "cell_type": "code",
   "execution_count": 7,
   "id": "60cd0e23-f6ea-434c-9593-799c8ae4204c",
   "metadata": {},
   "outputs": [
    {
     "name": "stdout",
     "output_type": "stream",
     "text": [
      "Help on function auto3d in module rush.provider:\n",
      "\n",
      "async auto3d(*args: *tuple[RushObject[bytes], str, Record], target: Optional[Target] = 'NIX_SSH', resources: Optional[Resources] = {'storage': 18, 'storage_units': 'MB', 'gpus': 1}, tags: list[str] | None = None, restore: bool | None = None) -> tuple[RushObject[bytes], RushObject[list[Conformer]]]\n",
      "    Generate 3D conformers from SMILES strings and other inputs\n",
      "    \n",
      "    Module version:  \n",
      "    `github:talo/tengu-auto3d/f5f26308f74bde570c870ff0b5bb1be42ac9c712#auto3d_tengu`\n",
      "    \n",
      "    QDX Type Description:\n",
      "    \n",
      "        molecule_file: @bytes;\n",
      "        molecule_file_type: string;\n",
      "        options: {\n",
      "            capacity: u32?,\n",
      "            convergence_threshold: f32?,\n",
      "            enumerate_isomer: bool?,\n",
      "            enumerate_tautomer: bool?,\n",
      "            gpu_idx: [u32]?,\n",
      "            job_name: string?,\n",
      "            k: i32?,\n",
      "            max_confs: u32?,\n",
      "            memory: u32?,\n",
      "            mpi_np: u32?,\n",
      "            opt_steps: u32?,\n",
      "            optimizing_engine: ANI2x | ANI2xt | AIMNET?,\n",
      "            patience: u32?,\n",
      "            threshold: f32?,\n",
      "            use_gpu: bool?,\n",
      "            verbose: bool?,\n",
      "            window: f32?\n",
      "        }\n",
      "        ->\n",
      "        conformer_sdf: @bytes;\n",
      "        conformers: @[Conformer]\n",
      "    \n",
      "    :param molecule_file: The input molecules as a file; either one SMILES string per line, or an SDF\n",
      "    :param molecule_file_type: The string 'smi' or 'sdf', depending on the input type\n",
      "    :param options: A dict with options to pass; see auto3d docs for details\n",
      "    :return conformer_sdf: A sdf file containing the ligand(s)'s conformers\n",
      "    :return conformers: A vec of qdxf conformers\n",
      "\n"
     ]
    }
   ],
   "source": [
    "help(client.auto3d)"
   ]
  },
  {
   "cell_type": "code",
   "execution_count": null,
   "id": "1d8f5da1-9bf1-499b-86be-94327de03353",
   "metadata": {},
   "outputs": [],
   "source": [
    "ligand_path = client.workspace / \"aspirin.smiles\"\n",
    "with open(ligand_path, \"w\") as ligand_file:\n",
    "    print(f\"{LIGAND_SMILES} {LIGAND_SMILES}\", file=ligand_file)\n",
    "\n",
    "(conformer_sdf, conformer_qdxf) = await client.auto3d(\n",
    "    ligand_path, \"smi\", {\"k\": 5, \"use_gpu\": True}, resources={\"gpus\": 1, \"storage\": \"5\", \"storage_units\": \"GB\"},\n",
    "    target=\"NIX_SSH_3\"\n",
    ")\n",
    "\n",
    "print(f\"{datetime.now().time()} | Running ligand preparation!\")"
   ]
  },
  {
   "cell_type": "code",
   "execution_count": 9,
   "id": "7b43c296-425b-4c97-adbb-55db9288b01c",
   "metadata": {},
   "outputs": [],
   "source": [
    "try:\n",
    "    await conformer_sdf.download(filename=\"01_prepared_ligand.sdf\")\n",
    "except FileExistsError:\n",
    "    # we will raise an error if you try to overwrite an existing file; you can\n",
    "    # force the file to overwrite by passing an absolute filepath instead\n",
    "    pass"
   ]
  },
  {
   "cell_type": "markdown",
   "id": "de55d6dc-31c7-49b2-ab5f-68424c3df9cf",
   "metadata": {},
   "source": [
    "You should visualize your prepared ligand to spot check any issues"
   ]
  },
  {
   "cell_type": "code",
   "execution_count": 10,
   "id": "df1c95e9-59e2-48a9-a478-b6efb638fbe0",
   "metadata": {},
   "outputs": [
    {
     "data": {
      "application/3dmoljs_load.v0": "<div id=\"3dmolviewer_17074498612259116\"  style=\"position: relative; width: 640px; height: 480px;\">\n        <p id=\"3dmolwarning_17074498612259116\" style=\"background-color:#ffcccc;color:black\">You appear to be running in JupyterLab (or JavaScript failed to load for some other reason).  You need to install the 3dmol extension: <br>\n        <tt>jupyter labextension install jupyterlab_3dmol</tt></p>\n        </div>\n<script>\n\nvar loadScriptAsync = function(uri){\n  return new Promise((resolve, reject) => {\n    //this is to ignore the existence of requirejs amd\n    var savedexports, savedmodule;\n    if (typeof exports !== 'undefined') savedexports = exports;\n    else exports = {}\n    if (typeof module !== 'undefined') savedmodule = module;\n    else module = {}\n\n    var tag = document.createElement('script');\n    tag.src = uri;\n    tag.async = true;\n    tag.onload = () => {\n        exports = savedexports;\n        module = savedmodule;\n        resolve();\n    };\n  var firstScriptTag = document.getElementsByTagName('script')[0];\n  firstScriptTag.parentNode.insertBefore(tag, firstScriptTag);\n});\n};\n\nif(typeof $3Dmolpromise === 'undefined') {\n$3Dmolpromise = null;\n  $3Dmolpromise = loadScriptAsync('https://cdnjs.cloudflare.com/ajax/libs/3Dmol/2.0.4/3Dmol-min.js');\n}\n\nvar viewer_17074498612259116 = null;\nvar warn = document.getElementById(\"3dmolwarning_17074498612259116\");\nif(warn) {\n    warn.parentNode.removeChild(warn);\n}\n$3Dmolpromise.then(function() {\nviewer_17074498612259116 = $3Dmol.createViewer(document.getElementById(\"3dmolviewer_17074498612259116\"),{backgroundColor:\"white\"});\nviewer_17074498612259116.zoomTo();\n\tviewer_17074498612259116.addModel(\"CC(=O)OC1=CC=CC=C1C(=O)O\\n     RDKit          3D\\n\\n 21 21  0  0  0  0  0  0  0  0999 V2000\\n    3.3866    0.3739   -0.3330 C   0  0  0  0  0  0  0  0  0  0  0  0\\n    2.0952   -0.1652    0.1911 C   0  0  0  0  0  0  0  0  0  0  0  0\\n    1.8556   -0.4829    1.3176 O   0  0  0  0  0  0  0  0  0  0  0  0\\n    1.1772   -0.2666   -0.8216 O   0  0  0  0  0  0  0  0  0  0  0  0\\n   -0.1268   -0.5304   -0.4612 C   0  0  0  0  0  0  0  0  0  0  0  0\\n   -0.6181   -1.7936   -0.7358 C   0  0  0  0  0  0  0  0  0  0  0  0\\n   -1.9348   -2.0989   -0.4397 C   0  0  0  0  0  0  0  0  0  0  0  0\\n   -2.7602   -1.1419    0.1334 C   0  0  0  0  0  0  0  0  0  0  0  0\\n   -2.2631    0.1202    0.4003 C   0  0  0  0  0  0  0  0  0  0  0  0\\n   -0.9405    0.4509    0.1053 C   0  0  0  0  0  0  0  0  0  0  0  0\\n   -0.4217    1.8181    0.3791 C   0  0  0  0  0  0  0  0  0  0  0  0\\n    0.6652    2.2427    0.0831 O   0  0  0  0  0  0  0  0  0  0  0  0\\n   -1.3285    2.5905    1.0150 O   0  0  0  0  0  0  0  0  0  0  0  0\\n    3.2800    1.4495   -0.4574 H   0  0  0  0  0  0  0  0  0  0  0  0\\n    3.6158   -0.0609   -1.3017 H   0  0  0  0  0  0  0  0  0  0  0  0\\n    4.1774    0.1693    0.3800 H   0  0  0  0  0  0  0  0  0  0  0  0\\n    0.0419   -2.5268   -1.1744 H   0  0  0  0  0  0  0  0  0  0  0  0\\n   -2.3105   -3.0888   -0.6521 H   0  0  0  0  0  0  0  0  0  0  0  0\\n   -3.7868   -1.3747    0.3729 H   0  0  0  0  0  0  0  0  0  0  0  0\\n   -2.8974    0.8687    0.8469 H   0  0  0  0  0  0  0  0  0  0  0  0\\n   -0.9068    3.4473    1.1521 H   0  0  0  0  0  0  0  0  0  0  0  0\\n  1  2  1  0\\n  2  3  2  0\\n  2  4  1  0\\n  4  5  1  0\\n  5  6  2  0\\n  6  7  1  0\\n  7  8  2  0\\n  8  9  1  0\\n  9 10  2  0\\n 10 11  1  0\\n 11 12  2  0\\n 11 13  1  0\\n 10  5  1  0\\n  1 14  1  0\\n  1 15  1  0\\n  1 16  1  0\\n  6 17  1  0\\n  7 18  1  0\\n  8 19  1  0\\n  9 20  1  0\\n 13 21  1  0\\nM  END\\n>  <ID>  (1) \\nCC(=O)OC1=CC=CC=C1C(=O)O_0_1\\n\\n>  <E_tot>  (1) \\n-649.1534480153928\\n\\n>  <fmax>  (1) \\n0.002988431602716446\\n\\n>  <Converged>  (1) \\nTrue\\n\\n>  <E_rel(kcal/mol)>  (1) \\n0.0\\n\\n$$$$\\nCC(=O)OC1=CC=CC=C1C(=O)O\\n     RDKit          3D\\n\\n 21 21  0  0  0  0  0  0  0  0999 V2000\\n   -2.5279   -2.3052    0.1393 C   0  0  0  0  0  0  0  0  0  0  0  0\\n   -1.7126   -1.1704   -0.3906 C   0  0  0  0  0  0  0  0  0  0  0  0\\n   -1.4798   -0.9287   -1.5372 O   0  0  0  0  0  0  0  0  0  0  0  0\\n   -1.2497   -0.3962    0.6414 O   0  0  0  0  0  0  0  0  0  0  0  0\\n   -0.2998    0.5539    0.3333 C   0  0  0  0  0  0  0  0  0  0  0  0\\n   -0.6999    1.8776    0.3419 C   0  0  0  0  0  0  0  0  0  0  0  0\\n    0.2225    2.8767    0.0856 C   0  0  0  0  0  0  0  0  0  0  0  0\\n    1.5450    2.5524   -0.1816 C   0  0  0  0  0  0  0  0  0  0  0  0\\n    1.9385    1.2270   -0.1824 C   0  0  0  0  0  0  0  0  0  0  0  0\\n    1.0264    0.2044    0.0783 C   0  0  0  0  0  0  0  0  0  0  0  0\\n    1.4647   -1.2172    0.0932 C   0  0  0  0  0  0  0  0  0  0  0  0\\n    0.7882   -2.1710    0.3791 O   0  0  0  0  0  0  0  0  0  0  0  0\\n    2.7630   -1.3549   -0.2516 O   0  0  0  0  0  0  0  0  0  0  0  0\\n   -3.1121   -2.7350   -0.6666 H   0  0  0  0  0  0  0  0  0  0  0  0\\n   -3.1715   -1.9670    0.9465 H   0  0  0  0  0  0  0  0  0  0  0  0\\n   -1.8482   -3.0563    0.5362 H   0  0  0  0  0  0  0  0  0  0  0  0\\n   -1.7349    2.1091    0.5437 H   0  0  0  0  0  0  0  0  0  0  0  0\\n   -0.0979    3.9080    0.0886 H   0  0  0  0  0  0  0  0  0  0  0  0\\n    2.2689    3.3259   -0.3890 H   0  0  0  0  0  0  0  0  0  0  0  0\\n    2.9636    0.9668   -0.3904 H   0  0  0  0  0  0  0  0  0  0  0  0\\n    2.9538   -2.3000   -0.2177 H   0  0  0  0  0  0  0  0  0  0  0  0\\n  1  2  1  0\\n  2  3  2  0\\n  2  4  1  0\\n  4  5  1  0\\n  5  6  2  0\\n  6  7  1  0\\n  7  8  2  0\\n  8  9  1  0\\n  9 10  2  0\\n 10 11  1  0\\n 11 12  2  0\\n 11 13  1  0\\n 10  5  1  0\\n  1 14  1  0\\n  1 15  1  0\\n  1 16  1  0\\n  6 17  1  0\\n  7 18  1  0\\n  8 19  1  0\\n  9 20  1  0\\n 13 21  1  0\\nM  END\\n>  <ID>  (2) \\nCC(=O)OC1=CC=CC=C1C(=O)O_0_0\\n\\n>  <E_tot>  (2) \\n-649.1534475355959\\n\\n>  <fmax>  (2) \\n0.002758852206170559\\n\\n>  <Converged>  (2) \\nTrue\\n\\n>  <E_rel(kcal/mol)>  (2) \\n0.00030107709022013086\\n\\n$$$$\\n\",\"sdf\");\n\tviewer_17074498612259116.setStyle({\"stick\": {}});\n\tviewer_17074498612259116.zoomTo();\nviewer_17074498612259116.render();\n});\n</script>",
      "text/html": [
       "<div id=\"3dmolviewer_17074498612259116\"  style=\"position: relative; width: 640px; height: 480px;\">\n",
       "        <p id=\"3dmolwarning_17074498612259116\" style=\"background-color:#ffcccc;color:black\">You appear to be running in JupyterLab (or JavaScript failed to load for some other reason).  You need to install the 3dmol extension: <br>\n",
       "        <tt>jupyter labextension install jupyterlab_3dmol</tt></p>\n",
       "        </div>\n",
       "<script>\n",
       "\n",
       "var loadScriptAsync = function(uri){\n",
       "  return new Promise((resolve, reject) => {\n",
       "    //this is to ignore the existence of requirejs amd\n",
       "    var savedexports, savedmodule;\n",
       "    if (typeof exports !== 'undefined') savedexports = exports;\n",
       "    else exports = {}\n",
       "    if (typeof module !== 'undefined') savedmodule = module;\n",
       "    else module = {}\n",
       "\n",
       "    var tag = document.createElement('script');\n",
       "    tag.src = uri;\n",
       "    tag.async = true;\n",
       "    tag.onload = () => {\n",
       "        exports = savedexports;\n",
       "        module = savedmodule;\n",
       "        resolve();\n",
       "    };\n",
       "  var firstScriptTag = document.getElementsByTagName('script')[0];\n",
       "  firstScriptTag.parentNode.insertBefore(tag, firstScriptTag);\n",
       "});\n",
       "};\n",
       "\n",
       "if(typeof $3Dmolpromise === 'undefined') {\n",
       "$3Dmolpromise = null;\n",
       "  $3Dmolpromise = loadScriptAsync('https://cdnjs.cloudflare.com/ajax/libs/3Dmol/2.0.4/3Dmol-min.js');\n",
       "}\n",
       "\n",
       "var viewer_17074498612259116 = null;\n",
       "var warn = document.getElementById(\"3dmolwarning_17074498612259116\");\n",
       "if(warn) {\n",
       "    warn.parentNode.removeChild(warn);\n",
       "}\n",
       "$3Dmolpromise.then(function() {\n",
       "viewer_17074498612259116 = $3Dmol.createViewer(document.getElementById(\"3dmolviewer_17074498612259116\"),{backgroundColor:\"white\"});\n",
       "viewer_17074498612259116.zoomTo();\n",
       "\tviewer_17074498612259116.addModel(\"CC(=O)OC1=CC=CC=C1C(=O)O\\n     RDKit          3D\\n\\n 21 21  0  0  0  0  0  0  0  0999 V2000\\n    3.3866    0.3739   -0.3330 C   0  0  0  0  0  0  0  0  0  0  0  0\\n    2.0952   -0.1652    0.1911 C   0  0  0  0  0  0  0  0  0  0  0  0\\n    1.8556   -0.4829    1.3176 O   0  0  0  0  0  0  0  0  0  0  0  0\\n    1.1772   -0.2666   -0.8216 O   0  0  0  0  0  0  0  0  0  0  0  0\\n   -0.1268   -0.5304   -0.4612 C   0  0  0  0  0  0  0  0  0  0  0  0\\n   -0.6181   -1.7936   -0.7358 C   0  0  0  0  0  0  0  0  0  0  0  0\\n   -1.9348   -2.0989   -0.4397 C   0  0  0  0  0  0  0  0  0  0  0  0\\n   -2.7602   -1.1419    0.1334 C   0  0  0  0  0  0  0  0  0  0  0  0\\n   -2.2631    0.1202    0.4003 C   0  0  0  0  0  0  0  0  0  0  0  0\\n   -0.9405    0.4509    0.1053 C   0  0  0  0  0  0  0  0  0  0  0  0\\n   -0.4217    1.8181    0.3791 C   0  0  0  0  0  0  0  0  0  0  0  0\\n    0.6652    2.2427    0.0831 O   0  0  0  0  0  0  0  0  0  0  0  0\\n   -1.3285    2.5905    1.0150 O   0  0  0  0  0  0  0  0  0  0  0  0\\n    3.2800    1.4495   -0.4574 H   0  0  0  0  0  0  0  0  0  0  0  0\\n    3.6158   -0.0609   -1.3017 H   0  0  0  0  0  0  0  0  0  0  0  0\\n    4.1774    0.1693    0.3800 H   0  0  0  0  0  0  0  0  0  0  0  0\\n    0.0419   -2.5268   -1.1744 H   0  0  0  0  0  0  0  0  0  0  0  0\\n   -2.3105   -3.0888   -0.6521 H   0  0  0  0  0  0  0  0  0  0  0  0\\n   -3.7868   -1.3747    0.3729 H   0  0  0  0  0  0  0  0  0  0  0  0\\n   -2.8974    0.8687    0.8469 H   0  0  0  0  0  0  0  0  0  0  0  0\\n   -0.9068    3.4473    1.1521 H   0  0  0  0  0  0  0  0  0  0  0  0\\n  1  2  1  0\\n  2  3  2  0\\n  2  4  1  0\\n  4  5  1  0\\n  5  6  2  0\\n  6  7  1  0\\n  7  8  2  0\\n  8  9  1  0\\n  9 10  2  0\\n 10 11  1  0\\n 11 12  2  0\\n 11 13  1  0\\n 10  5  1  0\\n  1 14  1  0\\n  1 15  1  0\\n  1 16  1  0\\n  6 17  1  0\\n  7 18  1  0\\n  8 19  1  0\\n  9 20  1  0\\n 13 21  1  0\\nM  END\\n>  <ID>  (1) \\nCC(=O)OC1=CC=CC=C1C(=O)O_0_1\\n\\n>  <E_tot>  (1) \\n-649.1534480153928\\n\\n>  <fmax>  (1) \\n0.002988431602716446\\n\\n>  <Converged>  (1) \\nTrue\\n\\n>  <E_rel(kcal/mol)>  (1) \\n0.0\\n\\n$$$$\\nCC(=O)OC1=CC=CC=C1C(=O)O\\n     RDKit          3D\\n\\n 21 21  0  0  0  0  0  0  0  0999 V2000\\n   -2.5279   -2.3052    0.1393 C   0  0  0  0  0  0  0  0  0  0  0  0\\n   -1.7126   -1.1704   -0.3906 C   0  0  0  0  0  0  0  0  0  0  0  0\\n   -1.4798   -0.9287   -1.5372 O   0  0  0  0  0  0  0  0  0  0  0  0\\n   -1.2497   -0.3962    0.6414 O   0  0  0  0  0  0  0  0  0  0  0  0\\n   -0.2998    0.5539    0.3333 C   0  0  0  0  0  0  0  0  0  0  0  0\\n   -0.6999    1.8776    0.3419 C   0  0  0  0  0  0  0  0  0  0  0  0\\n    0.2225    2.8767    0.0856 C   0  0  0  0  0  0  0  0  0  0  0  0\\n    1.5450    2.5524   -0.1816 C   0  0  0  0  0  0  0  0  0  0  0  0\\n    1.9385    1.2270   -0.1824 C   0  0  0  0  0  0  0  0  0  0  0  0\\n    1.0264    0.2044    0.0783 C   0  0  0  0  0  0  0  0  0  0  0  0\\n    1.4647   -1.2172    0.0932 C   0  0  0  0  0  0  0  0  0  0  0  0\\n    0.7882   -2.1710    0.3791 O   0  0  0  0  0  0  0  0  0  0  0  0\\n    2.7630   -1.3549   -0.2516 O   0  0  0  0  0  0  0  0  0  0  0  0\\n   -3.1121   -2.7350   -0.6666 H   0  0  0  0  0  0  0  0  0  0  0  0\\n   -3.1715   -1.9670    0.9465 H   0  0  0  0  0  0  0  0  0  0  0  0\\n   -1.8482   -3.0563    0.5362 H   0  0  0  0  0  0  0  0  0  0  0  0\\n   -1.7349    2.1091    0.5437 H   0  0  0  0  0  0  0  0  0  0  0  0\\n   -0.0979    3.9080    0.0886 H   0  0  0  0  0  0  0  0  0  0  0  0\\n    2.2689    3.3259   -0.3890 H   0  0  0  0  0  0  0  0  0  0  0  0\\n    2.9636    0.9668   -0.3904 H   0  0  0  0  0  0  0  0  0  0  0  0\\n    2.9538   -2.3000   -0.2177 H   0  0  0  0  0  0  0  0  0  0  0  0\\n  1  2  1  0\\n  2  3  2  0\\n  2  4  1  0\\n  4  5  1  0\\n  5  6  2  0\\n  6  7  1  0\\n  7  8  2  0\\n  8  9  1  0\\n  9 10  2  0\\n 10 11  1  0\\n 11 12  2  0\\n 11 13  1  0\\n 10  5  1  0\\n  1 14  1  0\\n  1 15  1  0\\n  1 16  1  0\\n  6 17  1  0\\n  7 18  1  0\\n  8 19  1  0\\n  9 20  1  0\\n 13 21  1  0\\nM  END\\n>  <ID>  (2) \\nCC(=O)OC1=CC=CC=C1C(=O)O_0_0\\n\\n>  <E_tot>  (2) \\n-649.1534475355959\\n\\n>  <fmax>  (2) \\n0.002758852206170559\\n\\n>  <Converged>  (2) \\nTrue\\n\\n>  <E_rel(kcal/mol)>  (2) \\n0.00030107709022013086\\n\\n$$$$\\n\",\"sdf\");\n",
       "\tviewer_17074498612259116.setStyle({\"stick\": {}});\n",
       "\tviewer_17074498612259116.zoomTo();\n",
       "viewer_17074498612259116.render();\n",
       "});\n",
       "</script>"
      ]
     },
     "metadata": {},
     "output_type": "display_data"
    }
   ],
   "source": [
    "view = py3Dmol.view()\n",
    "with open(client.workspace / \"objects\" / \"01_prepared_ligand.sdf\", \"r\") as f:\n",
    "    view.addModel(f.read(), \"sdf\")\n",
    "    view.setStyle({\"stick\": {}})\n",
    "    view.zoomTo()\n",
    "    view.show()"
   ]
  },
  {
   "cell_type": "markdown",
   "id": "30ec215f-08c7-4ad2-a756-f0e9eebe50d1",
   "metadata": {},
   "source": [
    "# 3) Quantum energy calculation\n",
    "Finally, we submit our fragmented protein for quantum energy calculation, with custom configuration."
   ]
  },
  {
   "cell_type": "code",
   "execution_count": 11,
   "id": "f61f6890-a2b5-4015-8c6a-c0b244ae88e3",
   "metadata": {},
   "outputs": [
    {
     "name": "stdout",
     "output_type": "stream",
     "text": [
      "Help on function hermes_energy in module rush.provider:\n",
      "\n",
      "async hermes_energy(*args: *tuple[RushObject[Conformer], Record, Optional[Record], Optional[Record]], target: Optional[Target] = 'NIX_SSH', resources: Optional[Resources] = {'storage': 1034, 'storage_units': 'MB', 'gpus': 4}, tags: list[str] | None = None, restore: bool | None = None) -> tuple[RushObject[Record]]\n",
      "    Runs a HERMES energy calculation given a topology, and optionally model and keyword configurations.\n",
      "    Will use the default model and keywords if none are provided\n",
      "    \n",
      "    Module version:  \n",
      "    `github:talo/tengu-prelude/e94a09ac64990a91cf1fcd33858d565a3d33ba09#hermes_energy`\n",
      "    \n",
      "    QDX Type Description:\n",
      "    \n",
      "        input: @Conformer;\n",
      "        system: {\n",
      "            gpus_per_team: u32?,\n",
      "            max_gpu_memory_mb: u32?,\n",
      "            oversubscribe_gpus: bool?,\n",
      "            teams_per_node: u32?\n",
      "        };\n",
      "        model: {\n",
      "            aux_basis: string?,\n",
      "            basis: string,\n",
      "            force_cartesian_basis_sets: bool?,\n",
      "            method: RestrictedHF | UnrestrictedHF | RestrictedRIMP2 | UnrestrictedRIMP2,\n",
      "            standard_orientation: string?\n",
      "        }?;\n",
      "        keywords: {\n",
      "            boundary: {\n",
      "                x: {kind: Periodic | Rigid | Delete, range: {lower: f64, upper: f64}}?,\n",
      "                y: {kind: Periodic | Rigid | Delete, range: {lower: f64, upper: f64}}?,\n",
      "                z: {kind: Periodic | Rigid | Delete, range: {lower: f64, upper: f64}}?\n",
      "            }?,\n",
      "            debug: {\n",
      "                dry_run: bool?,\n",
      "                ignore_fragments: bool?,\n",
      "                max_fragments: u32?,\n",
      "                subfragment_xyz: bool?\n",
      "            }?,\n",
      "            dynamics: {dt: f64, n_timesteps: u64, use_async_timesteps: bool?}?,\n",
      "            export: {\n",
      "                descriptor_grid: {order: One | Two, points_per_shell: u32, scale: f64}?,\n",
      "                export_bond_orders: bool?,\n",
      "                export_density: bool?,\n",
      "                export_density_descriptors: bool?,\n",
      "                export_esp_descriptors: bool?,\n",
      "                export_expanded_density: bool?,\n",
      "                export_expanded_gradient: bool?,\n",
      "                export_fock: bool?,\n",
      "                export_gradient: bool?,\n",
      "                export_h_caps: bool?,\n",
      "                export_h_core: bool?,\n",
      "                export_molecular_orbital_coeffs: bool?,\n",
      "                export_mulliken_charges: bool?,\n",
      "                export_overlap: bool?,\n",
      "                flatten_symmetric: bool?\n",
      "            }?,\n",
      "            frag: {\n",
      "                cutoff_type: Centroid | ClosestPair?,\n",
      "                cutoffs: {dimer: f64?, monomer: f64?, tetramer: f64?, trimer: f64?},\n",
      "                included_fragments: [u32]?,\n",
      "                level: Monomer | Dimer | Trimer | Tetramer,\n",
      "                reference_fragment: u32?\n",
      "            }?,\n",
      "            guess: {\n",
      "                bsp: bool?,\n",
      "                bsp_basis: string?,\n",
      "                bsp_scf_keywords: {\n",
      "                    batch_size: u32?,\n",
      "                    convergence_metric: string?,\n",
      "                    convergence_threshold: f64?,\n",
      "                    density_basis_set_projection_fallback_enabled: bool?,\n",
      "                    density_threshold: f64?,\n",
      "                    max_diis_history_length: u32?,\n",
      "                    max_iters: u32?,\n",
      "                    use_ri: bool?\n",
      "                }?,\n",
      "                smd: bool?,\n",
      "                ssfd: bool?,\n",
      "                ssfd_only_converge_in_bsp_basis: bool?,\n",
      "                ssfd_scf_keywords: {\n",
      "                    batch_size: u32?,\n",
      "                    convergence_metric: Energy | DIIS | Density?,\n",
      "                    convergence_threshold: f64?,\n",
      "                    density_basis_set_projection_fallback_enabled: bool?,\n",
      "                    density_threshold: f64?,\n",
      "                    max_diis_history_length: u32?,\n",
      "                    max_iters: u32?,\n",
      "                    use_ri: bool?\n",
      "                }?,\n",
      "                ssfd_target_size: u32?\n",
      "            }?,\n",
      "            log: {\n",
      "                console: {\n",
      "                    level: Debug | Verbose | Info | LargeInfo | Warning | Error?,\n",
      "                    prefix_fmt: string?\n",
      "                }?,\n",
      "                logfiles: [{directory: string?}]?\n",
      "            }?,\n",
      "            scf: {\n",
      "                batch_size: u32?,\n",
      "                convergence_metric: string?,\n",
      "                convergence_threshold: f64?,\n",
      "                density_basis_set_projection_fallback_enabled: bool?,\n",
      "                density_threshold: f64?,\n",
      "                max_diis_history_length: u32?,\n",
      "                max_iters: u32?,\n",
      "                use_ri: bool?\n",
      "            }\n",
      "        }?\n",
      "        ->\n",
      "        energy: @{\n",
      "            distance_metric: string?,\n",
      "            expanded_density: {\n",
      "                data: [f64],\n",
      "                kind: Dense | SquareSymmetric | LowerTriangular,\n",
      "                shape: [u32]\n",
      "            }?,\n",
      "            expanded_hf_energy: f64?,\n",
      "            expanded_hf_gradients: [f64]?,\n",
      "            expanded_mp2_gradients: [f64]?,\n",
      "            expanded_mp2_os_correction: f64?,\n",
      "            expanded_mp2_ss_correction: f64?,\n",
      "            method: string,\n",
      "            nmers: [[{\n",
      "                bond_orders: [[f64]]?,\n",
      "                coeffs_final: {\n",
      "                    data: [f64],\n",
      "                    kind: Dense | SquareSymmetric | LowerTriangular,\n",
      "                    shape: [u32]\n",
      "                }?,\n",
      "                coeffs_initial: {\n",
      "                    data: [f64],\n",
      "                    kind: Dense | SquareSymmetric | LowerTriangular,\n",
      "                    shape: [u32]\n",
      "                }?,\n",
      "                delta_hf_energy: f64?,\n",
      "                delta_mp2_os_correction: f64?,\n",
      "                delta_mp2_ss_correction: f64?,\n",
      "                density: {\n",
      "                    data: [f64],\n",
      "                    kind: Dense | SquareSymmetric | LowerTriangular,\n",
      "                    shape: [u32]\n",
      "                }?,\n",
      "                fock: {data: [f64], kind: Dense | SquareSymmetric | LowerTriangular, shape: [u32]}?,\n",
      "                fragment_distance: f64?,\n",
      "                fragments: [u32],\n",
      "                h_caps: [u32]?,\n",
      "                h_core: {data: [f64], kind: Dense | SquareSymmetric | LowerTriangular, shape: [u32]}?,\n",
      "                hf_energy: f64?,\n",
      "                hf_gradients: [f64]?,\n",
      "                molecular_orbital_energies: [f64]?,\n",
      "                mp2_gradients: [f64]?,\n",
      "                mp2_os_correction: f64?,\n",
      "                mp2_ss_correction: f64?,\n",
      "                mulliken_charges: [f64]?,\n",
      "                num_basis_fns: u32,\n",
      "                num_iters: u32,\n",
      "                overlap: {data: [f64], kind: Dense | SquareSymmetric | LowerTriangular, shape: [u32]}?\n",
      "            }]],\n",
      "            num_iters: u32,\n",
      "            reference_fragment: u32?\n",
      "        }\n",
      "    \n",
      "    :param input: Conformer with topology\n",
      "    :param system: system resources configuration\n",
      "    :param model: Optional Model configuration\n",
      "    :param keywords: Optional Keywords configuration\n",
      "    :return energy: energy results\n",
      "\n"
     ]
    }
   ],
   "source": [
    "help(client.hermes_energy)"
   ]
  },
  {
   "cell_type": "code",
   "execution_count": 12,
   "id": "d049185e-f584-41c7-a52f-01cef8c68c15",
   "metadata": {},
   "outputs": [],
   "source": [
    "HERMES_RESOURCES = {\n",
    "        \"gpus\": 4,\n",
    "        \"storage\": 100,\n",
    "        \"storage_units\": \"MB\",\n",
    "        \"walltime\": 60 * 4,\n",
    "}"
   ]
  },
  {
   "cell_type": "code",
   "execution_count": null,
   "id": "ff8b364e-e19b-4784-b720-85b2edd36d23",
   "metadata": {},
   "outputs": [],
   "source": [
    "(conformer,) = await client.pick_conformer(conformer_qdxf, 0)\n",
    "conformer_out = await conformer.get()\n",
    "\n",
    "(hermes_energy,) = await client.hermes_energy(\n",
    "    conformer,\n",
    "    {},\n",
    "    {\n",
    "        \"method\": \"RestrictedRIMP2\",\n",
    "        \"basis\": \"cc-pVDZ\",\n",
    "        \"aux_basis\": \"cc-pVDZ-RIFIT\",\n",
    "        \"force_cartesian_basis_sets\": True,\n",
    "        \"standard_orientation\": \"FullSystem\",\n",
    "    },\n",
    "    {\n",
    "    \"scf\": {\n",
    "        \"max_iter\": 50,\n",
    "        \"max_diis_history_length\": 12,\n",
    "        \"convergence_metric\": \"DIIS\",\n",
    "        \"convergence_threshold\": 0.000001,\n",
    "        \"density_threshold\": 1e-10,\n",
    "        \"density_basis_set_projection_fallback_enabled\": True,\n",
    "        },\n",
    "    \"frag\": {\n",
    "        \"cutoffs\": {\"dimer\": 22},\n",
    "        \"cutoff_type\": \"Centroid\",\n",
    "        \"level\": \"Dimer\",\n",
    "        \"reference_fragment\": len(conformer_out[\"topology\"][\"fragments\"])\n",
    "        - 1,\n",
    "        },\n",
    "    },\n",
    "    target=\"GADI\",\n",
    "    resources=HERMES_RESOURCES,\n",
    ")"
   ]
  },
  {
   "cell_type": "code",
   "execution_count": 14,
   "id": "85a80c21-81cf-4176-80af-4c86434ee967",
   "metadata": {},
   "outputs": [
    {
     "data": {
      "text/plain": [
       "{'distance_metric': 'Centroid',\n",
       " 'expanded_density': None,\n",
       " 'expanded_hf_energy': 0.0,\n",
       " 'expanded_hf_gradients': None,\n",
       " 'expanded_mp2_gradients': None,\n",
       " 'expanded_mp2_os_correction': 0.0,\n",
       " 'expanded_mp2_ss_correction': 0.0,\n",
       " 'method': 'RestrictedRIMP2',\n",
       " 'nmers': [[{'bond_orders': None,\n",
       "    'coeffs_final': None,\n",
       "    'coeffs_initial': None,\n",
       "    'delta_hf_energy': None,\n",
       "    'delta_mp2_os_correction': None,\n",
       "    'delta_mp2_ss_correction': None,\n",
       "    'density': None,\n",
       "    'fock': None,\n",
       "    'fragment_distance': None,\n",
       "    'fragments': [0],\n",
       "    'h_caps': None,\n",
       "    'h_core': None,\n",
       "    'hf_energy': -645.0201843607325,\n",
       "    'hf_gradients': None,\n",
       "    'molecular_orbital_energies': None,\n",
       "    'mp2_gradients': None,\n",
       "    'mp2_os_correction': -1.432208203979463,\n",
       "    'mp2_ss_correction': -0.5339044712553163,\n",
       "    'mulliken_charges': None,\n",
       "    'num_basis_fns': 235,\n",
       "    'num_iters': 9,\n",
       "    'overlap': None}]],\n",
       " 'num_iters': 9,\n",
       " 'reference_fragment': 0}"
      ]
     },
     "execution_count": 14,
     "metadata": {},
     "output_type": "execute_result"
    }
   ],
   "source": [
    "await hermes_energy.get()"
   ]
  }
 ],
 "metadata": {
  "kernelspec": {
   "display_name": "Python 3 (ipykernel)",
   "language": "python",
   "name": "python3"
  },
  "language_info": {
   "codemirror_mode": {
    "name": "ipython",
    "version": 3
   },
   "file_extension": ".py",
   "mimetype": "text/x-python",
   "name": "python",
   "nbconvert_exporter": "python",
   "pygments_lexer": "ipython3",
   "version": "3.11.6"
  }
 },
 "nbformat": 4,
 "nbformat_minor": 5
}
