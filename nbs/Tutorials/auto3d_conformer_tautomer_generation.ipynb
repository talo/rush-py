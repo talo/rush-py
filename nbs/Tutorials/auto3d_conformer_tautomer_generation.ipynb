{
 "cells": [
  {
   "cell_type": "markdown",
   "id": "fa7a18db-f5d1-42ab-91cb-8df7de7eecdb",
   "metadata": {},
   "source": [
    "# Run a basic Hermes Hartree-Fock energy calculation on ligand conformers from Auto3d"
   ]
  },
  {
   "cell_type": "markdown",
   "id": "6b9e0688-9c56-4922-bdf9-f29c41fd15c1",
   "metadata": {},
   "source": [
    "In this notebook, we'll perform a hermes energy calculation on a ligand derived from a smiles string"
   ]
  },
  {
   "cell_type": "markdown",
   "id": "ded1f9e9",
   "metadata": {},
   "source": [
    "# 0) Complete example\n",
    "See the [sample notebook](/Quickstarts/auto3d_conformer_tautomer_generation-sample.ipynb) for a complete demonstration."
   ]
  },
  {
   "cell_type": "markdown",
   "id": "dbf4feb5-2f37-4f2e-b1ea-943756525df2",
   "metadata": {},
   "source": [
    "# 1) Setup"
   ]
  },
  {
   "cell_type": "markdown",
   "id": "dbcb9011",
   "metadata": {},
   "source": [
    "## 1.0) Imports"
   ]
  },
  {
   "cell_type": "code",
   "execution_count": null,
   "id": "de35042a-572b-4c97-9ed2-96d192ae59cd",
   "metadata": {},
   "outputs": [],
   "source": [
    "import json\n",
    "import os\n",
    "import sys\n",
    "import tarfile\n",
    "\n",
    "from pdbtools import *\n",
    "import requests\n",
    "from datetime import datetime\n",
    "from pathlib import Path\n",
    "import py3Dmol\n",
    "\n",
    "import rush"
   ]
  },
  {
   "cell_type": "markdown",
   "id": "60a75a2b",
   "metadata": {},
   "source": [
    "## 1.1) Configuration"
   ]
  },
  {
   "cell_type": "code",
   "execution_count": null,
   "id": "1e25927d-d93d-4380-8e02-a025530504bb",
   "metadata": {},
   "outputs": [],
   "source": [
    "EXPERIMENT = \"tengu-py-auto3d_hermes\"\n",
    "LIGAND_SMILES = \"CC(=O)OC1=CC=CC=C1C(=O)O \"\n",
    "LIGAND = \"ASPRIN\"\n",
    "TAGS = [\"qdx\", EXPERIMENT, LIGAND]"
   ]
  },
  {
   "cell_type": "code",
   "execution_count": null,
   "id": "05d81d8c-291d-4902-b87c-7b9a2d9d83f5",
   "metadata": {},
   "outputs": [],
   "source": [
    "# |hide\n",
    "WORK_DIR = Path.home() / \"qdx\" / EXPERIMENT\n",
    "\n",
    "if WORK_DIR.exists():\n",
    "    client = rush.Provider(workspace=WORK_DIR)\n",
    "    await client.nuke(remote=False)\n",
    "\n",
    "os.makedirs(WORK_DIR, exist_ok=True)\n",
    "os.makedirs(WORK_DIR / \".rush\", exist_ok=True)\n",
    "import sys\n",
    "\n",
    "os.chdir(WORK_DIR)"
   ]
  },
  {
   "cell_type": "markdown",
   "id": "770f5c87",
   "metadata": {},
   "source": [
    "## 1.2) Build your client"
   ]
  },
  {
   "cell_type": "code",
   "execution_count": null,
   "id": "c588f092-d7db-4128-b21f-8f5cfa00f65b",
   "metadata": {},
   "outputs": [],
   "source": [
    "# Get our client, for calling modules and using the rush API\n",
    "client = await rush.build_provider_with_functions(batch_tags=TAGS)"
   ]
  },
  {
   "cell_type": "code",
   "execution_count": null,
   "id": "e6fc9bef-b2a9-4e7f-8a6e-131d0ef2eea3",
   "metadata": {},
   "outputs": [],
   "source": [
    "# |hide\n",
    "client = await rush.build_provider_with_functions(batch_tags=TAGS, restore_by_default=True)"
   ]
  },
  {
   "cell_type": "code",
   "execution_count": null,
   "id": "2c083a94-f0bf-4225-b1d7-ee213a7d43b4",
   "metadata": {},
   "outputs": [],
   "source": [
    "# |hide\n",
    "client.workspace = WORK_DIR\n",
    "client.config_dir = WORK_DIR / \".rush\""
   ]
  },
  {
   "cell_type": "markdown",
   "id": "c95c0376-6dac-419c-a48d-30a8d877aead",
   "metadata": {},
   "source": [
    "# 2) Preparation\n",
    "We want to convert our raw files into prepared qdxfs, with correct charges and missing residues filled"
   ]
  },
  {
   "cell_type": "code",
   "execution_count": null,
   "id": "60cd0e23-f6ea-434c-9593-799c8ae4204c",
   "metadata": {},
   "outputs": [
    {
     "name": "stdout",
     "output_type": "stream",
     "text": [
      "Help on function auto3d in module rush.provider:\n",
      "\n",
      "async auto3d(*args: *tuple[RushObject[NoneType], str, Record], target: 'Target | None' = None, resources: 'Resources | None' = {'storage': 18, 'storage_units': 'MB', 'gpus': 1}, tags: 'list[str] | None' = None, restore: 'bool | None' = None) -> tuple[RushObject[NoneType], RushObject[list[Record]]]\n",
      "    Generate 3D conformers from SMILES strings and other inputs\n",
      "    \n",
      "    Module version:  \n",
      "    `github:talo/tengu-auto3d/5f1d10f3a8eca6d5c3d1313a4c5b710a91d6db9b#auto3d_tengu`\n",
      "    \n",
      "    QDX Type Description:\n",
      "    \n",
      "        molecule_file: Object{path: @$Bytes,  size: u32};\n",
      "        molecule_file_type: string;\n",
      "        options: Auto3dOptions{\n",
      "            capacity: u32?,\n",
      "             max_confs: u32?,\n",
      "             memory: u32?,\n",
      "             enumerate_isomer: bool?,\n",
      "             enumerate_tautomer: bool?,\n",
      "             k: i32?,\n",
      "             convergence_threshold: f32?,\n",
      "             opt_steps: u32?,\n",
      "             threshold: f32?,\n",
      "             patience: u32?,\n",
      "             window: f32?,\n",
      "             mpi_np: u32?,\n",
      "             job_name: string?,\n",
      "             verbose: bool?,\n",
      "             use_gpu: bool?,\n",
      "             optimizing_engine: Auto3dOptimizingEngines[ANI2x  |  ANI2xt  |  AIMNET]?,\n",
      "             gpu_idx: [u32]?\n",
      "        }\n",
      "        ->\n",
      "        conformer_sdf: Object{path: @$SDF,  size: u32};\n",
      "        conformers: Object{\n",
      "            path: @[Conformer{\n",
      "                 amino_acid_insertion_codes: [string]?,\n",
      "                 residues: [[u32]]?,\n",
      "                 subunits: [[u32]]?,\n",
      "                 residue_insertion_codes: [string]?,\n",
      "                 topology: Topology{\n",
      "                     geometry: [f32],\n",
      "                      formal_charges: [i8]?,\n",
      "                      fragment_formal_charges: [i8]?,\n",
      "                      partial_charges: [f32]?,\n",
      "                      fragment_multiplicities: [i8]?,\n",
      "                      connectivity: [Bond{u32,  u32,  u8}]?,\n",
      "                      fragment_charges: [i8]?,\n",
      "                      version: TopologyVersion[V0  |  V1]?,\n",
      "                      atom_labels: [string]?,\n",
      "                      atom_charges: [i8]?,\n",
      "                      fragment_partial_charges: [f32]?,\n",
      "                      alts: [Alt{u32,  [u32]}]?,\n",
      "                      fragments: [[u32]]?,\n",
      "                      labels: [string]?,\n",
      "                      velocities: [f32]?\n",
      "                 },\n",
      "                 amino_acid_labels: [Label{u32,  string}]?,\n",
      "                 residue_seq: [string]?,\n",
      "                 residue_seq_ids: [i32]?,\n",
      "                 amino_acids: [[u32]]?,\n",
      "                 residue_labels: [Label{u32,  string}]?,\n",
      "                 amino_acid_seq_ids: [i32]?,\n",
      "                 binding_site_interactions: [BindingSiteInteraction{\n",
      "                     ligand_xyz: [f32],\n",
      "                      receptor_is_donor: bool,\n",
      "                      ligand_residue_idx: u32,\n",
      "                      ligand_atom_idx: u32,\n",
      "                      pi_stack_kind: PiStackKind[P  |  T]?,\n",
      "                      receptor_amino_acid_idx: u32,\n",
      "                      receptor_is_positively_charged: bool,\n",
      "                      receptor_xyz: [f32],\n",
      "                      receptor_atom_idx: u32,\n",
      "                      receptor_is_charged: bool\n",
      "                 }]?\n",
      "            }],\n",
      "             size: u32\n",
      "        }\n",
      "    \n",
      "    \n",
      "    :param molecule_file: The input molecules as a file; either one SMILES string per line, or an SDF\n",
      "    :param molecule_file_type: The string 'smi' or 'sdf', depending on the input type\n",
      "    :param options: A dict with options to pass; see auto3d docs for details\n",
      "    :return conformer_sdf: A sdf file containing the ligand(s)'s conformers\n",
      "    :return conformers: A vec of qdxf conformers\n",
      "\n"
     ]
    }
   ],
   "source": [
    "help(client.auto3d)"
   ]
  },
  {
   "cell_type": "code",
   "execution_count": null,
   "id": "1d8f5da1-9bf1-499b-86be-94327de03353",
   "metadata": {},
   "outputs": [
    {
     "name": "stdout",
     "output_type": "stream",
     "text": [
      "2024-02-25 16:50:01,515 - rush - INFO - Trying to restore job with tags: ['qdx', 'tengu-py-auto3d_hermes', 'ASPRIN'] and path: github:talo/tengu-auto3d/5f1d10f3a8eca6d5c3d1313a4c5b710a91d6db9b#auto3d_tengu\n",
      "2024-02-25 16:50:01,567 - rush - INFO - Restoring job from previous run with id 28e91c65-d22b-4b34-9ee0-fc1df4774b42\n",
      "16:50:01.567659 | Running ligand preparation!\n"
     ]
    }
   ],
   "source": [
    "ligand_path = client.workspace / \"aspirin.smiles\"\n",
    "with open(ligand_path, \"w\") as ligand_file:\n",
    "    print(f\"{LIGAND_SMILES} {LIGAND_SMILES}\", file=ligand_file)\n",
    "\n",
    "(conformer_sdf, conformer_qdxf) = await client.auto3d(\n",
    "    ligand_path, \"smi\", {\"k\": 5, \"use_gpu\": True}, resources={\"gpus\": 1, \"storage\": \"5\", \"storage_units\": \"GB\"},\n",
    "    target=\"NIX_SSH_2\"\n",
    ")\n",
    "\n",
    "print(f\"{datetime.now().time()} | Running ligand preparation!\")"
   ]
  },
  {
   "cell_type": "code",
   "execution_count": null,
   "id": "fd5b5747-7c8e-4be6-806e-d153727508c0",
   "metadata": {},
   "outputs": [
    {
     "data": {
      "text/plain": [
       "UUID('28e91c65-d22b-4b34-9ee0-fc1df4774b42')"
      ]
     },
     "execution_count": null,
     "metadata": {},
     "output_type": "execute_result"
    }
   ],
   "source": [
    "conformer_qdxf.source"
   ]
  },
  {
   "cell_type": "code",
   "execution_count": null,
   "id": "7b43c296-425b-4c97-adbb-55db9288b01c",
   "metadata": {},
   "outputs": [],
   "source": [
    "try:\n",
    "    await conformer_sdf.download(filename=\"01_prepared_ligand.sdf\")\n",
    "except FileExistsError:\n",
    "    # we will raise an error if you try to overwrite an existing file; you can\n",
    "    # force the file to overwrite by passing an absolute filepath instead\n",
    "    pass"
   ]
  },
  {
   "cell_type": "markdown",
   "id": "de55d6dc-31c7-49b2-ab5f-68424c3df9cf",
   "metadata": {},
   "source": [
    "You should visualize your prepared ligand to spot check any issues"
   ]
  },
  {
   "cell_type": "code",
   "execution_count": null,
   "id": "df1c95e9-59e2-48a9-a478-b6efb638fbe0",
   "metadata": {},
   "outputs": [
    {
     "data": {
      "application/3dmoljs_load.v0": "<div id=\"3dmolviewer_17088510056096225\"  style=\"position: relative; width: 640px; height: 480px;\">\n        <p id=\"3dmolwarning_17088510056096225\" style=\"background-color:#ffcccc;color:black\">You appear to be running in JupyterLab (or JavaScript failed to load for some other reason).  You need to install the 3dmol extension: <br>\n        <tt>jupyter labextension install jupyterlab_3dmol</tt></p>\n        </div>\n<script>\n\nvar loadScriptAsync = function(uri){\n  return new Promise((resolve, reject) => {\n    //this is to ignore the existence of requirejs amd\n    var savedexports, savedmodule;\n    if (typeof exports !== 'undefined') savedexports = exports;\n    else exports = {}\n    if (typeof module !== 'undefined') savedmodule = module;\n    else module = {}\n\n    var tag = document.createElement('script');\n    tag.src = uri;\n    tag.async = true;\n    tag.onload = () => {\n        exports = savedexports;\n        module = savedmodule;\n        resolve();\n    };\n  var firstScriptTag = document.getElementsByTagName('script')[0];\n  firstScriptTag.parentNode.insertBefore(tag, firstScriptTag);\n});\n};\n\nif(typeof $3Dmolpromise === 'undefined') {\n$3Dmolpromise = null;\n  $3Dmolpromise = loadScriptAsync('https://cdnjs.cloudflare.com/ajax/libs/3Dmol/2.0.4/3Dmol-min.js');\n}\n\nvar viewer_17088510056096225 = null;\nvar warn = document.getElementById(\"3dmolwarning_17088510056096225\");\nif(warn) {\n    warn.parentNode.removeChild(warn);\n}\n$3Dmolpromise.then(function() {\nviewer_17088510056096225 = $3Dmol.createViewer(document.getElementById(\"3dmolviewer_17088510056096225\"),{backgroundColor:\"white\"});\nviewer_17088510056096225.zoomTo();\n\tviewer_17088510056096225.addModel(\"\\\"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\\\"\",\"sdf\");\n\tviewer_17088510056096225.setStyle({\"stick\": {}});\n\tviewer_17088510056096225.zoomTo();\nviewer_17088510056096225.render();\n});\n</script>",
      "text/html": [
       "<div id=\"3dmolviewer_17088510056096225\"  style=\"position: relative; width: 640px; height: 480px;\">\n",
       "        <p id=\"3dmolwarning_17088510056096225\" style=\"background-color:#ffcccc;color:black\">You appear to be running in JupyterLab (or JavaScript failed to load for some other reason).  You need to install the 3dmol extension: <br>\n",
       "        <tt>jupyter labextension install jupyterlab_3dmol</tt></p>\n",
       "        </div>\n",
       "<script>\n",
       "\n",
       "var loadScriptAsync = function(uri){\n",
       "  return new Promise((resolve, reject) => {\n",
       "    //this is to ignore the existence of requirejs amd\n",
       "    var savedexports, savedmodule;\n",
       "    if (typeof exports !== 'undefined') savedexports = exports;\n",
       "    else exports = {}\n",
       "    if (typeof module !== 'undefined') savedmodule = module;\n",
       "    else module = {}\n",
       "\n",
       "    var tag = document.createElement('script');\n",
       "    tag.src = uri;\n",
       "    tag.async = true;\n",
       "    tag.onload = () => {\n",
       "        exports = savedexports;\n",
       "        module = savedmodule;\n",
       "        resolve();\n",
       "    };\n",
       "  var firstScriptTag = document.getElementsByTagName('script')[0];\n",
       "  firstScriptTag.parentNode.insertBefore(tag, firstScriptTag);\n",
       "});\n",
       "};\n",
       "\n",
       "if(typeof $3Dmolpromise === 'undefined') {\n",
       "$3Dmolpromise = null;\n",
       "  $3Dmolpromise = loadScriptAsync('https://cdnjs.cloudflare.com/ajax/libs/3Dmol/2.0.4/3Dmol-min.js');\n",
       "}\n",
       "\n",
       "var viewer_17088510056096225 = null;\n",
       "var warn = document.getElementById(\"3dmolwarning_17088510056096225\");\n",
       "if(warn) {\n",
       "    warn.parentNode.removeChild(warn);\n",
       "}\n",
       "$3Dmolpromise.then(function() {\n",
       "viewer_17088510056096225 = $3Dmol.createViewer(document.getElementById(\"3dmolviewer_17088510056096225\"),{backgroundColor:\"white\"});\n",
       "viewer_17088510056096225.zoomTo();\n",
       "\tviewer_17088510056096225.addModel(\"\\\"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\\\"\",\"sdf\");\n",
       "\tviewer_17088510056096225.setStyle({\"stick\": {}});\n",
       "\tviewer_17088510056096225.zoomTo();\n",
       "viewer_17088510056096225.render();\n",
       "});\n",
       "</script>"
      ]
     },
     "metadata": {},
     "output_type": "display_data"
    }
   ],
   "source": [
    "view = py3Dmol.view()\n",
    "with open(client.workspace / \"objects\" / \"01_prepared_ligand.sdf\", \"r\") as f:\n",
    "    view.addModel(f.read(), \"sdf\")\n",
    "    view.setStyle({\"stick\": {}})\n",
    "    view.zoomTo()\n",
    "    view.show()"
   ]
  },
  {
   "cell_type": "markdown",
   "id": "30ec215f-08c7-4ad2-a756-f0e9eebe50d1",
   "metadata": {},
   "source": [
    "# 3) Quantum energy calculation\n",
    "Finally, we submit our fragmented protein for quantum energy calculation, with custom configuration."
   ]
  },
  {
   "cell_type": "code",
   "execution_count": null,
   "id": "f61f6890-a2b5-4015-8c6a-c0b244ae88e3",
   "metadata": {},
   "outputs": [
    {
     "name": "stdout",
     "output_type": "stream",
     "text": [
      "Help on function hermes_energy in module rush.provider:\n",
      "\n",
      "async hermes_energy(*args: *tuple[RushObject[Record], Record, typing.Optional[Record], typing.Optional[Record]], target: 'Target | None' = None, resources: 'Resources | None' = {'storage': 1034, 'storage_units': 'MB', 'gpus': 4}, tags: 'list[str] | None' = None, restore: 'bool | None' = None) -> tuple[RushObject[Record]]\n",
      "    Runs a HERMES energy calculation given a topology, and optionally model and keyword configurations.\n",
      "    Will use the default model and keywords if none are provided\n",
      "    \n",
      "    Module version:  \n",
      "    `github:talo/tengu-prelude/4a40d0bcbc623273ffc2a6af87f132e606fb6c92#hermes_energy`\n",
      "    \n",
      "    QDX Type Description:\n",
      "    \n",
      "        input: Object{\n",
      "            path: @Conformer{\n",
      "                subunits: [[u32]]?,\n",
      "                 amino_acid_labels: [Label{u32,  string}]?,\n",
      "                 residue_labels: [Label{u32,  string}]?,\n",
      "                 residue_insertion_codes: [string]?,\n",
      "                 topology: Topology{\n",
      "                     alts: [Alt{u32,  [u32]}]?,\n",
      "                      fragment_multiplicities: [i8]?,\n",
      "                      fragment_partial_charges: [f32]?,\n",
      "                      fragment_charges: [i8]?,\n",
      "                      geometry: [f32],\n",
      "                      velocities: [f32]?,\n",
      "                      labels: [string]?,\n",
      "                      partial_charges: [f32]?,\n",
      "                      atom_charges: [i8]?,\n",
      "                      atom_labels: [string]?,\n",
      "                      fragment_formal_charges: [i8]?,\n",
      "                      formal_charges: [i8]?,\n",
      "                      version: TopologyVersion[V0  |  V1]?,\n",
      "                      fragments: [[u32]]?,\n",
      "                      connectivity: [Bond{u32,  u32,  u8}]?,\n",
      "                 },\n",
      "                 binding_site_interactions: [BindingSiteInteraction{\n",
      "                      pi_stack_kind: PiStackKind[P  |  T]?,\n",
      "                      receptor_atom_idx: u32,\n",
      "                      receptor_is_positively_charged: bool,\n",
      "                      ligand_residue_idx: u32,\n",
      "                      receptor_xyz: [f32],\n",
      "                      ligand_xyz: [f32],\n",
      "                      ligand_atom_idx: u32,\n",
      "                      receptor_is_charged: bool,\n",
      "                      receptor_amino_acid_idx: u32,\n",
      "                      receptor_is_donor: bool\n",
      "                 }]?,\n",
      "                 residues: [[u32]]?,\n",
      "                 residue_seq: [string]?,\n",
      "                 amino_acid_insertion_codes: [string]?,\n",
      "                 amino_acid_seq_ids: [i32]?,\n",
      "                 residue_seq_ids: [i32]?,\n",
      "                 amino_acids: [[u32]]?\n",
      "            },\n",
      "             size: u32\n",
      "        };\n",
      "        system: System{\n",
      "            max_gpu_memory_mb: u32?,\n",
      "             gpus_per_team: u32?,\n",
      "             teams_per_node: u32?,\n",
      "             oversubscribe_gpus: bool?\n",
      "        };\n",
      "        model: Model{\n",
      "            standard_orientation: string?,\n",
      "             force_cartesian_basis_sets: bool?,\n",
      "             aux_basis: string?,\n",
      "             basis: string\n",
      "        }?;\n",
      "        keywords: Keywords{\n",
      "            debug: QCDebug{\n",
      "                max_fragments: u32?,\n",
      "                 subfragment_xyz: bool?,\n",
      "                 ignore_fragments: bool?,\n",
      "                 dry_run: bool?\n",
      "            }?,\n",
      "             frag: Frag{\n",
      "                 cutoff_type: CutoffType[Centroid  |  ClosestPair]?,\n",
      "                  cutoffs: FragCutoffs{\n",
      "                      dimer: f64?,\n",
      "                       trimer: f64?,\n",
      "                       monomer: f64?,\n",
      "                       tetramer: f64?\n",
      "                  }?,\n",
      "                  included_fragments: [u32]?,\n",
      "                  reference_fragment: u32?,\n",
      "                  level: FragLevel[Monomer  |  Dimer  |  Trimer  |  Tetramer]\n",
      "             }?,\n",
      "             export: Export{\n",
      "                 descriptor_grid: Grid{\n",
      "                     points_per_shell: u32,\n",
      "                      scale: f64,\n",
      "                      order: GridOrder[One  |  Two]\n",
      "                 }?,\n",
      "                  export_expanded_density: bool?,\n",
      "                  export_h_caps: bool?,\n",
      "                  export_h_core: bool?,\n",
      "                  export_bond_orders: bool?,\n",
      "                  export_fock: bool?,\n",
      "                  export_density: bool?,\n",
      "                  export_overlap: bool?,\n",
      "                  export_esp_descriptors: bool?,\n",
      "                  export_expanded_gradient: bool?,\n",
      "                  export_density_descriptors: bool?,\n",
      "                  flatten_symmetric: bool?,\n",
      "                  export_gradient: bool?,\n",
      "                  export_mulliken_charges: bool?,\n",
      "                  export_molecular_orbital_coeffs: bool?\n",
      "             }?,\n",
      "             scf: SCF{\n",
      "                 use_ri: bool?,\n",
      "                  density_basis_set_projection_fallback_enabled: bool?,\n",
      "                  max_diis_history_length: u32?,\n",
      "                  convergence_threshold: f64?,\n",
      "                  density_threshold: f64?,\n",
      "                  batch_size: u32?,\n",
      "                  convergence_metric: string?,\n",
      "                  max_iters: u32?\n",
      "             },\n",
      "             guess: Guess{\n",
      "                 bsp_scf_keywords: SCF{\n",
      "                     convergence_threshold: f64?,\n",
      "                      density_basis_set_projection_fallback_enabled: bool?,\n",
      "                      density_threshold: f64?,\n",
      "                      convergence_metric: string?,\n",
      "                      max_diis_history_length: u32?,\n",
      "                      max_iters: u32?,\n",
      "                      batch_size: u32?,\n",
      "                      use_ri: bool?\n",
      "                 }?,\n",
      "                  ssfd_only_converge_in_bsp_basis: bool?,\n",
      "                  ssfd: bool?,\n",
      "                  bsp_basis: string?,\n",
      "                  smd: bool?,\n",
      "                  ssfd_target_size: u32?,\n",
      "                  ssfd_scf_keywords: GuessSCF{\n",
      "                      convergence_threshold: f64?,\n",
      "                       density_basis_set_projection_fallback_enabled: bool?,\n",
      "                       use_ri: bool?,\n",
      "                       convergence_metric: ConvergenceMetric[Energy  |  DIIS  |  Density]?,\n",
      "                       batch_size: u32?,\n",
      "                       density_threshold: f64?,\n",
      "                       max_iters: u32?,\n",
      "                       max_diis_history_length: u32?\n",
      "                  }?,\n",
      "                  bsp: bool?\n",
      "             }?,\n",
      "             log: Logging{\n",
      "                 logfiles: [FileLogSettings{\n",
      "                     prefix_fmt: string?,\n",
      "                      directory: string?,\n",
      "                      level: LogLevel[Debug  |  Verbose  |  Info  |  LargeInfo  |  Warning  |  Error]?\n",
      "                 }]?,\n",
      "                  console: LogSettings{\n",
      "                      prefix_fmt: string?,\n",
      "                  }?\n",
      "             }?,\n",
      "             dynamics: Dynamics{dt: f64,  n_timesteps: u64,  use_async_timesteps: bool?}?,\n",
      "             boundary: Boundary{\n",
      "                 z: BoundaryCondition{\n",
      "                     kind: BoundaryConditionKind[Periodic  |  Rigid  |  Delete],\n",
      "                      range: Range{upper: f64,  lower: f64}\n",
      "                 }?,\n",
      "                  x: BoundaryCondition{\n",
      "                      range: Range{lower: f64,  upper: f64},\n",
      "                       kind: BoundaryConditionKind[Periodic  |  Rigid  |  Delete]\n",
      "                  }?,\n",
      "                  y: BoundaryCondition{\n",
      "                      kind: BoundaryConditionKind[Periodic  |  Rigid  |  Delete],\n",
      "                       range: Range{upper: f64,  lower: f64}\n",
      "                  }?\n",
      "             }?\n",
      "        }?\n",
      "        ->\n",
      "        energy: Object{\n",
      "            path: @QMMBE{\n",
      "                expanded_mp2_gradients: [f64]?,\n",
      "                 expanded_mp2_ss_correction: f64?,\n",
      "                 nmers: [[Nmer{\n",
      "                     h_caps: [u32]?,\n",
      "                      bond_orders: [[f64]]?,\n",
      "                      h_core: Tensorf64{\n",
      "                          shape: [u32],\n",
      "                           data: [f64],\n",
      "                           kind: TensorKind[Dense  |  SquareSymmetric  |  LowerTriangular]\n",
      "                      }?,\n",
      "                      fragment_distance: f64?,\n",
      "                      fragments: [u32],\n",
      "                      mp2_ss_correction: f64?,\n",
      "                      delta_hf_energy: f64?,\n",
      "                      fock: Tensorf64{\n",
      "                          data: [f64],\n",
      "                           kind: TensorKind[Dense  |  SquareSymmetric  |  LowerTriangular],\n",
      "                           shape: [u32]\n",
      "                      }?,\n",
      "                      num_iters: u32,\n",
      "                      overlap: Tensorf64{\n",
      "                          shape: [u32],\n",
      "                           data: [f64],\n",
      "                           kind: TensorKind[Dense  |  SquareSymmetric  |  LowerTriangular]\n",
      "                      }?,\n",
      "                      density: Tensorf64{\n",
      "                          shape: [u32],\n",
      "                           kind: TensorKind[Dense  |  SquareSymmetric  |  LowerTriangular],\n",
      "                           data: [f64]\n",
      "                      }?,\n",
      "                      num_basis_fns: u32,\n",
      "                      mulliken_charges: [f64]?,\n",
      "                      coeffs_initial: Tensorf64{\n",
      "                          data: [f64],\n",
      "                           kind: TensorKind[Dense  |  SquareSymmetric  |  LowerTriangular],\n",
      "                           shape: [u32]\n",
      "                      }?,\n",
      "                      molecular_orbital_energies: [f64]?,\n",
      "                      delta_mp2_os_correction: f64?,\n",
      "                      delta_mp2_ss_correction: f64?,\n",
      "                      hf_energy: f64?,\n",
      "                      hf_gradients: [f64]?,\n",
      "                      mp2_os_correction: f64?,\n",
      "                      mp2_gradients: [f64]?,\n",
      "                      coeffs_final: Tensorf64{\n",
      "                          shape: [u32],\n",
      "                           data: [f64],\n",
      "                           kind: TensorKind[Dense  |  SquareSymmetric  |  LowerTriangular]\n",
      "                      }?\n",
      "                 }]],\n",
      "                 distance_metric: CutoffType[Centroid  |  ClosestPair]?,\n",
      "                 expanded_density: Tensorf64{\n",
      "                     kind: TensorKind[Dense  |  SquareSymmetric  |  LowerTriangular],\n",
      "                      shape: [u32],\n",
      "                      data: [f64]\n",
      "                 }?,\n",
      "                 expanded_mp2_os_correction: f64?,\n",
      "                 expanded_hf_gradients: [f64]?,\n",
      "                 expanded_hf_energy: f64?,\n",
      "                 num_iters: u32,\n",
      "                 reference_fragment: u32?\n",
      "            },\n",
      "             size: u32\n",
      "        }\n",
      "    \n",
      "    \n",
      "    :param input: Conformer with topology\n",
      "    :param system: system resources configuration\n",
      "    :param model: Optional Model configuration\n",
      "    :param keywords: Optional Keywords configuration\n",
      "    :return energy: energy results\n",
      "\n"
     ]
    }
   ],
   "source": [
    "help(client.hermes_energy)"
   ]
  },
  {
   "cell_type": "code",
   "execution_count": null,
   "id": "d049185e-f584-41c7-a52f-01cef8c68c15",
   "metadata": {},
   "outputs": [],
   "source": [
    "HERMES_RESOURCES = {\n",
    "        \"gpus\": 4,\n",
    "        \"storage\": 100,\n",
    "        \"storage_units\": \"MB\",\n",
    "        \"walltime\": 60 * 4,\n",
    "}"
   ]
  },
  {
   "cell_type": "code",
   "execution_count": null,
   "id": "904cf300-232d-4e4d-8b14-24b628445f02",
   "metadata": {},
   "outputs": [
    {
     "name": "stdout",
     "output_type": "stream",
     "text": [
      "2024-02-25 16:50:05,622 - rush - INFO - Trying to restore job with tags: ['qdx', 'tengu-py-auto3d_hermes', 'ASPRIN'] and path: github:talo/tengu-prelude/c35cc6bbdfd547579d26aa898e91094424254459#pick_conformer\n",
      "2024-02-25 16:50:05,674 - rush - WARNING - Multiple module instances found with the same tags and path\n",
      "2024-02-25 16:50:05,674 - rush - WARNING - Multiple module instances found with the same tags and path\n",
      "2024-02-25 16:50:05,716 - rush - INFO - Restoring job from previous run with id a9026857-e34e-43ed-ad9e-b066662576d7\n"
     ]
    }
   ],
   "source": [
    "(conformer,) = await client.pick_conformer(conformer_qdxf, 0)"
   ]
  },
  {
   "cell_type": "code",
   "execution_count": null,
   "id": "921a889d-07e7-4b70-9962-59839a4a133d",
   "metadata": {},
   "outputs": [],
   "source": [
    "conformer_out = json.load(open(await conformer.download(), \"r\"))"
   ]
  },
  {
   "cell_type": "code",
   "execution_count": null,
   "id": "ff8b364e-e19b-4784-b720-85b2edd36d23",
   "metadata": {},
   "outputs": [
    {
     "name": "stdout",
     "output_type": "stream",
     "text": [
      "2024-02-25 16:50:09,614 - rush - INFO - Trying to restore job with tags: ['qdx', 'tengu-py-auto3d_hermes', 'ASPRIN'] and path: github:talo/tengu-prelude/4a40d0bcbc623273ffc2a6af87f132e606fb6c92#hermes_energy\n"
     ]
    }
   ],
   "source": [
    "(hermes_energy,) = await client.hermes_energy(\n",
    "    conformer,\n",
    "    {},\n",
    "    {\n",
    "        \"method\": \"RestrictedRIMP2\",\n",
    "        \"basis\": \"cc-pVDZ\",\n",
    "        \"aux_basis\": \"cc-pVDZ-RIFIT\",\n",
    "        \"force_cartesian_basis_sets\": True,\n",
    "        \"standard_orientation\": \"FullSystem\",\n",
    "    },\n",
    "    {\n",
    "    \"scf\": {\n",
    "        \"max_iter\": 50,\n",
    "        \"max_diis_history_length\": 12,\n",
    "        \"convergence_metric\": \"DIIS\",\n",
    "        \"convergence_threshold\": 0.000001,\n",
    "        \"density_threshold\": 1e-10,\n",
    "        \"density_basis_set_projection_fallback_enabled\": True,\n",
    "        },\n",
    "    \"frag\": {\n",
    "        \"cutoffs\": {\"dimer\": 22},\n",
    "        \"cutoff_type\": \"Centroid\",\n",
    "        \"level\": \"Dimer\",\n",
    "        \"reference_fragment\": len(conformer_out[\"topology\"][\"fragments\"])\n",
    "        - 1,\n",
    "        },\n",
    "    },\n",
    "    #target=\"GADI\",\n",
    "    resources=HERMES_RESOURCES,\n",
    ")"
   ]
  },
  {
   "cell_type": "code",
   "execution_count": null,
   "id": "85a80c21-81cf-4176-80af-4c86434ee967",
   "metadata": {},
   "outputs": [
    {
     "name": "stdout",
     "output_type": "stream",
     "text": [
      "2024-02-25 16:50:09,834 - rush - INFO - Argument ed318ef7-51fc-46f8-a270-7d83eb5e8dca is now ModuleInstanceStatus.RESOLVING\n",
      "2024-02-25 16:50:10,921 - rush - INFO - Argument ed318ef7-51fc-46f8-a270-7d83eb5e8dca is now ModuleInstanceStatus.ADMITTED\n",
      "2024-02-25 16:50:15,268 - rush - INFO - Argument ed318ef7-51fc-46f8-a270-7d83eb5e8dca is now ModuleInstanceStatus.DISPATCHED\n",
      "2024-02-25 16:50:16,356 - rush - INFO - Argument ed318ef7-51fc-46f8-a270-7d83eb5e8dca is now ModuleInstanceStatus.RUNNING\n",
      "2024-02-25 16:50:27,866 - rush - INFO - Argument ed318ef7-51fc-46f8-a270-7d83eb5e8dca is now ModuleInstanceStatus.AWAITING_UPLOAD\n"
     ]
    },
    {
     "data": {
      "text/plain": [
       "{'url': 'https://storage.googleapis.com/qdx-store/062b0efc-aae6-4d01-965a-6524e79293fb?x-goog-signature=1fbbaae1a435b9f53034118dcaf4b6b725477ee4eb97451b33aa99b9b89114d20498e2b9d8d3e5dd650e70b885dd8651245b9ebe28eda7d4425b327666e6606cd7d6522e4dc73fa5abe8a277ff7ba225bdc0d85be058538eaec380292e302a820fc5be4688adf848c0ddefca3cc0d0d7170e34878b7a64d49a0097de6266f3c1b13037520504f9f03c01682de498ac8ad3e0974d976c2b1a326c50ac16c866218c2ce00ea15c16f05320917eb704bbf1ed2de2123f50e0f98fe4370ee5fcbc65e3929f54684d6bb8d19c28133e576244d75b06ddc97a433056b291d60367d692b12e44142dfda96a48aa608d6b78e50a6e72ef49683032c73c526ca2c1207ce1&x-goog-algorithm=GOOG4-RSA-SHA256&x-goog-credential=qdx-store-user%40humming-bird-321603.iam.gserviceaccount.com%2F20240225%2Fasia-southeast1%2Fstorage%2Fgoog4_request&x-goog-date=20240225T085041Z&x-goog-expires=3600&x-goog-signedheaders=host'}"
      ]
     },
     "execution_count": null,
     "metadata": {},
     "output_type": "execute_result"
    }
   ],
   "source": [
    "await hermes_energy.get()"
   ]
  }
 ],
 "metadata": {
  "kernelspec": {
   "display_name": "python3",
   "language": "python",
   "name": "python3"
  }
 },
 "nbformat": 4,
 "nbformat_minor": 5
}
