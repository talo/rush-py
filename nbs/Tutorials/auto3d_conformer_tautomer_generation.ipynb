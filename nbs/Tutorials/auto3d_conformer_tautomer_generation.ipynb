{
 "cells": [
  {
   "cell_type": "markdown",
   "id": "fa7a18db-f5d1-42ab-91cb-8df7de7eecdb",
   "metadata": {},
   "source": [
    "# Run a basic Hermes Hartree-Fock energy calculation on ligand conformers from Auto3d"
   ]
  },
  {
   "cell_type": "markdown",
   "id": "6b9e0688-9c56-4922-bdf9-f29c41fd15c1",
   "metadata": {},
   "source": [
    "In this notebook, we'll perform a hermes energy calculation on a ligand derived from a smiles string"
   ]
  },
  {
   "cell_type": "code",
   "execution_count": 1,
   "id": "de35042a-572b-4c97-9ed2-96d192ae59cd",
   "metadata": {},
   "outputs": [],
   "source": [
    "import json\n",
    "import os\n",
    "import sys\n",
    "import tarfile\n",
    "\n",
    "from pdbtools import *\n",
    "import requests\n",
    "from datetime import datetime\n",
    "from pathlib import Path\n",
    "import py3Dmol\n",
    "\n",
    "import rush"
   ]
  },
  {
   "cell_type": "markdown",
   "id": "dbf4feb5-2f37-4f2e-b1ea-943756525df2",
   "metadata": {},
   "source": [
    "## 0) Setup"
   ]
  },
  {
   "cell_type": "code",
   "execution_count": 2,
   "id": "1e25927d-d93d-4380-8e02-a025530504bb",
   "metadata": {},
   "outputs": [],
   "source": [
    "EXPERIMENT = \"tengu-py-auto3d_hermes\"\n",
    "LIGAND_SMILES = \"CC(=O)OC1=CC=CC=C1C(=O)O \"\n",
    "LIGAND = \"ASPRIN\"\n",
    "TAGS = [\"qdx\", EXPERIMENT, LIGAND]"
   ]
  },
  {
   "cell_type": "code",
   "execution_count": 3,
   "id": "05d81d8c-291d-4902-b87c-7b9a2d9d83f5",
   "metadata": {},
   "outputs": [],
   "source": [
    "# |hide\n",
    "WORK_DIR = Path.home() / \"qdx\" / EXPERIMENT\n",
    "\n",
    "if WORK_DIR.exists():\n",
    "    client = rush.Provider(workspace=WORK_DIR)\n",
    "    await client.nuke(remote=False)\n",
    "\n",
    "os.makedirs(WORK_DIR, exist_ok=True)\n",
    "os.makedirs(WORK_DIR / \".rush\", exist_ok=True)\n",
    "import sys\n",
    "\n",
    "os.chdir(WORK_DIR)"
   ]
  },
  {
   "cell_type": "code",
   "execution_count": null,
   "id": "c588f092-d7db-4128-b21f-8f5cfa00f65b",
   "metadata": {},
   "outputs": [],
   "source": [
    "# Get our client, for calling modules and using the rush API\n",
    "client = await rush.build_provider_with_functions(batch_tags=TAGS)"
   ]
  },
  {
   "cell_type": "code",
   "execution_count": null,
   "id": "e6fc9bef-b2a9-4e7f-8a6e-131d0ef2eea3",
   "metadata": {},
   "outputs": [],
   "source": [
    "# |hide\n",
    "client = await rush.build_provider_with_functions(batch_tags=TAGS, restore_by_default=True)"
   ]
  },
  {
   "cell_type": "code",
   "execution_count": null,
   "id": "2c083a94-f0bf-4225-b1d7-ee213a7d43b4",
   "metadata": {},
   "outputs": [],
   "source": [
    "# |hide\n",
    "client.workspace = WORK_DIR\n",
    "client.config_dir = WORK_DIR / \".rush\""
   ]
  },
  {
   "cell_type": "markdown",
   "id": "c95c0376-6dac-419c-a48d-30a8d877aead",
   "metadata": {},
   "source": [
    "## 1) Preparation\n",
    "We want to convert our raw files into prepared qdxfs, with correct charges and missing residues filled"
   ]
  },
  {
   "cell_type": "code",
   "execution_count": null,
   "id": "60cd0e23-f6ea-434c-9593-799c8ae4204c",
   "metadata": {},
   "outputs": [],
   "source": [
    "help(client.auto3d)"
   ]
  },
  {
   "cell_type": "code",
   "execution_count": null,
   "id": "1d8f5da1-9bf1-499b-86be-94327de03353",
   "metadata": {},
   "outputs": [],
   "source": [
    "ligand_path = client.workspace / \"asprin.smiles\"\n",
    "with open(ligand_path, \"w\") as ligand_file:\n",
    "    print(f\"{LIGAND_SMILES} {LIGAND_SMILES}\", file=ligand_file)\n",
    "\n",
    "(conformer_sdf, conformer_qdxf) = await client.auto3d(\n",
    "    ligand_path, \"smi\", {\"k\": 5, \"use_gpu\": True}, resources={\"gpus\": 1, \"storage\": \"5\", \"storage_units\": \"GB\"},\n",
    "    target=\"NIX_SSH_3\"\n",
    ")\n",
    "\n",
    "print(f\"{datetime.now().time()} | Running ligand preparation!\")"
   ]
  },
  {
   "cell_type": "code",
   "execution_count": null,
   "id": "7b43c296-425b-4c97-adbb-55db9288b01c",
   "metadata": {},
   "outputs": [],
   "source": [
    "try:\n",
    "    await conformer_sdf.download(filename=\"01_prepared_ligand.sdf\")\n",
    "except FileExistsError:\n",
    "    # we will raise an error if you try to overwrite an existing file; you can\n",
    "    # force the file to overwrite by passing an absolute filepath instead\n",
    "    pass"
   ]
  },
  {
   "cell_type": "markdown",
   "id": "de55d6dc-31c7-49b2-ab5f-68424c3df9cf",
   "metadata": {},
   "source": [
    "You should visualize your prepared ligand to spot check any issues"
   ]
  },
  {
   "cell_type": "code",
   "execution_count": null,
   "id": "df1c95e9-59e2-48a9-a478-b6efb638fbe0",
   "metadata": {},
   "outputs": [],
   "source": [
    "view = py3Dmol.view()\n",
    "with open(client.workspace / \"objects\" / \"01_prepared_ligand.sdf\", \"r\") as f:\n",
    "    view.addModel(f.read(), \"sdf\")\n",
    "    view.setStyle({\"stick\": {}})\n",
    "    view.zoomTo()\n",
    "    view.show()"
   ]
  },
  {
   "cell_type": "markdown",
   "id": "30ec215f-08c7-4ad2-a756-f0e9eebe50d1",
   "metadata": {},
   "source": [
    "## 2) Quantum energy calculation\n",
    "Finally, we submit our fragmented protein for quantum energy calculation, with custom configuration."
   ]
  },
  {
   "cell_type": "code",
   "execution_count": null,
   "id": "f61f6890-a2b5-4015-8c6a-c0b244ae88e3",
   "metadata": {},
   "outputs": [],
   "source": [
    "help(client.hermes_energy)"
   ]
  },
  {
   "cell_type": "code",
   "execution_count": null,
   "id": "d049185e-f584-41c7-a52f-01cef8c68c15",
   "metadata": {},
   "outputs": [],
   "source": [
    "HERMES_RESOURCES = {\n",
    "        \"gpus\": 4,\n",
    "        \"storage\": 100,\n",
    "        \"storage_units\": \"MB\",\n",
    "        \"walltime\": 60 * 4,\n",
    "}"
   ]
  },
  {
   "cell_type": "code",
   "execution_count": null,
   "id": "ff8b364e-e19b-4784-b720-85b2edd36d23",
   "metadata": {},
   "outputs": [],
   "source": [
    "(conformer,) = await client.pick_conformer(conformer_qdxf, 0)\n",
    "conformer_out = await conformer.get()\n",
    "\n",
    "(hermes_energy,) = await client.hermes_energy(\n",
    "    conformer,\n",
    "    {},\n",
    "    {\n",
    "        \"method\": \"RestrictedRIMP2\",\n",
    "        \"basis\": \"cc-pVDZ\",\n",
    "        \"aux_basis\": \"cc-pVDZ-RIFIT\",\n",
    "        \"force_cartesian_basis_sets\": True,\n",
    "        \"standard_orientation\": \"FullSystem\",\n",
    "    },\n",
    "    {\n",
    "    \"scf\": {\n",
    "        \"max_iter\": 50,\n",
    "        \"max_diis_history_length\": 12,\n",
    "        \"convergence_metric\": \"DIIS\",\n",
    "        \"convergence_threshold\": 0.000001,\n",
    "        \"density_threshold\": 1e-10,\n",
    "        \"density_basis_set_projection_fallback_enabled\": True,\n",
    "        },\n",
    "    \"frag\": {\n",
    "        \"cutoffs\": {\"dimer\": 22},\n",
    "        \"cutoff_type\": \"Centroid\",\n",
    "        \"level\": \"Dimer\",\n",
    "        \"reference_fragment\": len(conformer_out[\"topology\"][\"fragments\"])\n",
    "        - 1,\n",
    "        },\n",
    "    },\n",
    "    target=\"NIX_SSH_3\",\n",
    "    resources=HERMES_RESOURCES,\n",
    ")"
   ]
  },
  {
   "cell_type": "code",
   "execution_count": null,
   "id": "85a80c21-81cf-4176-80af-4c86434ee967",
   "metadata": {},
   "outputs": [],
   "source": [
    "await hermes_energy.get()"
   ]
  },
  {
   "cell_type": "code",
   "execution_count": null,
   "id": "a68e029d-18a5-4d0f-87ea-04dae3d1dc06",
   "metadata": {},
   "outputs": [],
   "source": []
  }
 ],
 "metadata": {
  "kernelspec": {
   "display_name": "Python 3 (ipykernel)",
   "language": "python",
   "name": "python3"
  },
  "language_info": {
   "codemirror_mode": {
    "name": "ipython",
    "version": 3
   },
   "file_extension": ".py",
   "mimetype": "text/x-python",
   "name": "python",
   "nbconvert_exporter": "python",
   "pygments_lexer": "ipython3",
   "version": "3.11.6"
  }
 },
 "nbformat": 4,
 "nbformat_minor": 5
}
