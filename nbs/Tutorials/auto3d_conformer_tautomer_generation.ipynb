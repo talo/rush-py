{
 "cells": [
  {
   "cell_type": "markdown",
   "id": "fa7a18db-f5d1-42ab-91cb-8df7de7eecdb",
   "metadata": {},
   "source": [
    "# Run a basic Hermes Hartree-Fock energy calculation on ligand conformers from Auto3d"
   ]
  },
  {
   "cell_type": "markdown",
   "id": "6b9e0688-9c56-4922-bdf9-f29c41fd15c1",
   "metadata": {},
   "source": [
    "In this notebook, we'll perform a hermes energy calculation on a ligand derived from a smiles string"
   ]
  },
  {
   "cell_type": "code",
   "execution_count": null,
   "id": "de35042a-572b-4c97-9ed2-96d192ae59cd",
   "metadata": {},
   "outputs": [],
   "source": [
    "import json\n",
    "import os\n",
    "import sys\n",
    "import tarfile\n",
    "\n",
    "from pdbtools import *\n",
    "import requests\n",
    "from datetime import datetime\n",
    "from pathlib import Path\n",
    "import py3Dmol\n",
    "\n",
    "import rush"
   ]
  },
  {
   "cell_type": "markdown",
   "id": "dbf4feb5-2f37-4f2e-b1ea-943756525df2",
   "metadata": {},
   "source": [
    "## 0) Setup"
   ]
  },
  {
   "cell_type": "code",
   "execution_count": null,
   "id": "1e25927d-d93d-4380-8e02-a025530504bb",
   "metadata": {},
   "outputs": [],
   "source": [
    "EXPERIMENT = \"tengu-py-auto3d_hermes\"\n",
    "LIGAND_SMILES = \"CC(=O)OC1=CC=CC=C1C(=O)O \"\n",
    "LIGAND = \"ASPRIN\"\n",
    "TAGS = [\"qdx\", EXPERIMENT, LIGAND]"
   ]
  },
  {
   "cell_type": "code",
   "execution_count": null,
   "id": "05d81d8c-291d-4902-b87c-7b9a2d9d83f5",
   "metadata": {},
   "outputs": [],
   "source": [
    "# |hide\n",
    "WORK_DIR = Path.home() / \"qdx\" / EXPERIMENT\n",
    "\n",
    "if WORK_DIR.exists():\n",
    "    client = rush.Provider(workspace=WORK_DIR)\n",
    "    await client.nuke(remote=True)\n",
    "\n",
    "os.makedirs(WORK_DIR, exist_ok=True)\n",
    "os.makedirs(WORK_DIR / \".rush\", exist_ok=True)\n",
    "import sys\n",
    "\n",
    "os.chdir(WORK_DIR)"
   ]
  },
  {
   "cell_type": "code",
   "execution_count": null,
   "id": "c588f092-d7db-4128-b21f-8f5cfa00f65b",
   "metadata": {},
   "outputs": [],
   "source": [
    "# Get our client, for calling modules and using the rush API\n",
    "client = await rush.build_provider_with_functions(batch_tags=TAGS)"
   ]
  },
  {
   "cell_type": "code",
   "execution_count": null,
   "id": "2c083a94-f0bf-4225-b1d7-ee213a7d43b4",
   "metadata": {},
   "outputs": [],
   "source": [
    "# |hide\n",
    "client.workspace = WORK_DIR\n",
    "client.config_dir = WORK_DIR / \".rush\""
   ]
  },
  {
   "cell_type": "markdown",
   "id": "c95c0376-6dac-419c-a48d-30a8d877aead",
   "metadata": {},
   "source": [
    "## 1) Preparation\n",
    "We want to convert our raw files into prepared qdxfs, with correct charges and missing residues filled"
   ]
  },
  {
   "cell_type": "code",
   "execution_count": null,
   "id": "60cd0e23-f6ea-434c-9593-799c8ae4204c",
   "metadata": {},
   "outputs": [
    {
     "name": "stdout",
     "output_type": "stream",
     "text": [
      "Help on function auto3d in module rush.provider:\n",
      "\n",
      "async auto3d(*args: [<class 'pathlib.Path'>, <class 'str'>, dict[str, ~T]], target: rush.graphql_client.enums.ModuleInstanceTarget | None = <ModuleInstanceTarget.NIX_SSH_3: 'NIX_SSH_3'>, resources: rush.graphql_client.input_types.ModuleInstanceResourcesInput | None = ModuleInstanceResourcesInput(gpus=1, gpu_mem=None, gpu_mem_units=None, cpus=None, nodes=None, mem=None, mem_units=None, storage=18, storage_units=<MemUnits.MB: 'MB'>, walltime=None, storage_mounts=None), tags: list[str] | None = None, restore: bool | None = None) -> [<class 'pathlib.Path'>, <class 'pathlib.Path'>]\n",
      "    Generate 3D conformers from SMILES strings and other inputs\n",
      "    \n",
      "    Module version: `tengu-auto3d/f5f26308f74bde570c870ff0b5bb1be42ac9c712`\n",
      "    \n",
      "    QDX Type Description:\n",
      "    \n",
      "        molecule_file: @bytes;\n",
      "        molecule_file_type: string;\n",
      "        options: {\n",
      "            capacity: u32?,\n",
      "            convergence_threshold: f32?,\n",
      "            enumerate_isomer: bool?,\n",
      "            enumerate_tautomer: bool?,\n",
      "            gpu_idx: [u32]?,\n",
      "            job_name: string?,\n",
      "            k: i32?,\n",
      "            max_confs: u32?,\n",
      "            memory: u32?,\n",
      "            mpi_np: u32?,\n",
      "            opt_steps: u32?,\n",
      "            optimizing_engine: ANI2x | ANI2xt | AIMNET?,\n",
      "            patience: u32?,\n",
      "            threshold: f32?,\n",
      "            use_gpu: bool?,\n",
      "            verbose: bool?,\n",
      "            window: f32?\n",
      "        }\n",
      "        ->\n",
      "        conformer_sdf: @bytes;\n",
      "        conformers: @[Conformer]\n",
      "    \n",
      "    :param molecule_file: The input molecules as a file: either one SMILES string per line, or an SDF\n",
      "    :param molecule_file_type: The string 'smi' or 'sdf', depending on the input type\n",
      "    :param options: A dict with options to pass; see auto3d docs for details\n",
      "    :return conformer_sdf: A sdf file containing the ligand(s)'s conformers\n",
      "    :return conformers: A vec of qdxf conformers\n",
      "\n"
     ]
    }
   ],
   "source": [
    "help(client.auto3d)"
   ]
  },
  {
   "cell_type": "code",
   "execution_count": null,
   "id": "1d8f5da1-9bf1-499b-86be-94327de03353",
   "metadata": {},
   "outputs": [
    {
     "name": "stdout",
     "output_type": "stream",
     "text": [
      "14:21:42.725295 | Running ligand preparation!\n"
     ]
    }
   ],
   "source": [
    "ligand_path = client.workspace / \"asprin.smiles\"\n",
    "with open(ligand_path, \"w\") as ligand_file:\n",
    "    print(f\"{LIGAND_SMILES} {LIGAND_SMILES}\", file=ligand_file)\n",
    "\n",
    "(conformer_sdf, conformer_qdxf) = await client.auto3d(\n",
    "    ligand_path, \"smi\", {\"k\": 5, \"use_gpu\": True}\n",
    ")\n",
    "\n",
    "print(f\"{datetime.now().time()} | Running ligand preparation!\")"
   ]
  },
  {
   "cell_type": "code",
   "execution_count": null,
   "id": "7b43c296-425b-4c97-adbb-55db9288b01c",
   "metadata": {},
   "outputs": [
    {
     "name": "stdout",
     "output_type": "stream",
     "text": [
      "2024-01-29 14:22:13,088 - rush - INFO - Argument ba2f69f2-0fd3-407c-99e9-64c8287c2a7f is now ModuleInstanceStatus.RUNNING\n",
      "2024-01-29 14:22:46,741 - rush - INFO - Argument ba2f69f2-0fd3-407c-99e9-64c8287c2a7f is now ModuleInstanceStatus.AWAITING_UPLOAD\n"
     ]
    }
   ],
   "source": [
    "try:\n",
    "    await conformer_sdf.download(filename=\"01_prepared_ligand.sdf\")\n",
    "except FileExistsError:\n",
    "    # we will raise an error if you try to overwrite an existing file; you can\n",
    "    # force the file to overwrite by passing an absolute filepath instead\n",
    "    pass"
   ]
  },
  {
   "cell_type": "markdown",
   "id": "de55d6dc-31c7-49b2-ab5f-68424c3df9cf",
   "metadata": {},
   "source": [
    "You should visualize your prepared ligand to spot check any issues"
   ]
  },
  {
   "cell_type": "code",
   "execution_count": null,
   "id": "df1c95e9-59e2-48a9-a478-b6efb638fbe0",
   "metadata": {},
   "outputs": [
    {
     "data": {
      "application/3dmoljs_load.v0": "<div id=\"3dmolviewer_17065099521442013\"  style=\"position: relative; width: 640px; height: 480px;\">\n        <p id=\"3dmolwarning_17065099521442013\" style=\"background-color:#ffcccc;color:black\">You appear to be running in JupyterLab (or JavaScript failed to load for some other reason).  You need to install the 3dmol extension: <br>\n        <tt>jupyter labextension install jupyterlab_3dmol</tt></p>\n        </div>\n<script>\n\nvar loadScriptAsync = function(uri){\n  return new Promise((resolve, reject) => {\n    //this is to ignore the existence of requirejs amd\n    var savedexports, savedmodule;\n    if (typeof exports !== 'undefined') savedexports = exports;\n    else exports = {}\n    if (typeof module !== 'undefined') savedmodule = module;\n    else module = {}\n\n    var tag = document.createElement('script');\n    tag.src = uri;\n    tag.async = true;\n    tag.onload = () => {\n        exports = savedexports;\n        module = savedmodule;\n        resolve();\n    };\n  var firstScriptTag = document.getElementsByTagName('script')[0];\n  firstScriptTag.parentNode.insertBefore(tag, firstScriptTag);\n});\n};\n\nif(typeof $3Dmolpromise === 'undefined') {\n$3Dmolpromise = null;\n  $3Dmolpromise = loadScriptAsync('https://cdnjs.cloudflare.com/ajax/libs/3Dmol/2.0.4/3Dmol-min.js');\n}\n\nvar viewer_17065099521442013 = null;\nvar warn = document.getElementById(\"3dmolwarning_17065099521442013\");\nif(warn) {\n    warn.parentNode.removeChild(warn);\n}\n$3Dmolpromise.then(function() {\nviewer_17065099521442013 = $3Dmol.createViewer(document.getElementById(\"3dmolviewer_17065099521442013\"),{backgroundColor:\"white\"});\nviewer_17065099521442013.zoomTo();\n\tviewer_17065099521442013.addModel(\"CC(=O)OC1=CC=CC=C1C(=O)O\\n     RDKit          3D\\n\\n 21 21  0  0  0  0  0  0  0  0999 V2000\\n    3.3866    0.3739   -0.3330 C   0  0  0  0  0  0  0  0  0  0  0  0\\n    2.0952   -0.1652    0.1911 C   0  0  0  0  0  0  0  0  0  0  0  0\\n    1.8556   -0.4829    1.3176 O   0  0  0  0  0  0  0  0  0  0  0  0\\n    1.1772   -0.2666   -0.8216 O   0  0  0  0  0  0  0  0  0  0  0  0\\n   -0.1268   -0.5304   -0.4612 C   0  0  0  0  0  0  0  0  0  0  0  0\\n   -0.6181   -1.7936   -0.7358 C   0  0  0  0  0  0  0  0  0  0  0  0\\n   -1.9348   -2.0989   -0.4397 C   0  0  0  0  0  0  0  0  0  0  0  0\\n   -2.7602   -1.1419    0.1334 C   0  0  0  0  0  0  0  0  0  0  0  0\\n   -2.2631    0.1202    0.4003 C   0  0  0  0  0  0  0  0  0  0  0  0\\n   -0.9405    0.4509    0.1053 C   0  0  0  0  0  0  0  0  0  0  0  0\\n   -0.4217    1.8181    0.3791 C   0  0  0  0  0  0  0  0  0  0  0  0\\n    0.6652    2.2427    0.0831 O   0  0  0  0  0  0  0  0  0  0  0  0\\n   -1.3285    2.5905    1.0150 O   0  0  0  0  0  0  0  0  0  0  0  0\\n    3.2800    1.4495   -0.4574 H   0  0  0  0  0  0  0  0  0  0  0  0\\n    3.6158   -0.0609   -1.3017 H   0  0  0  0  0  0  0  0  0  0  0  0\\n    4.1774    0.1693    0.3800 H   0  0  0  0  0  0  0  0  0  0  0  0\\n    0.0419   -2.5268   -1.1744 H   0  0  0  0  0  0  0  0  0  0  0  0\\n   -2.3105   -3.0888   -0.6521 H   0  0  0  0  0  0  0  0  0  0  0  0\\n   -3.7868   -1.3747    0.3729 H   0  0  0  0  0  0  0  0  0  0  0  0\\n   -2.8974    0.8687    0.8469 H   0  0  0  0  0  0  0  0  0  0  0  0\\n   -0.9068    3.4473    1.1521 H   0  0  0  0  0  0  0  0  0  0  0  0\\n  1  2  1  0\\n  2  3  2  0\\n  2  4  1  0\\n  4  5  1  0\\n  5  6  2  0\\n  6  7  1  0\\n  7  8  2  0\\n  8  9  1  0\\n  9 10  2  0\\n 10 11  1  0\\n 11 12  2  0\\n 11 13  1  0\\n 10  5  1  0\\n  1 14  1  0\\n  1 15  1  0\\n  1 16  1  0\\n  6 17  1  0\\n  7 18  1  0\\n  8 19  1  0\\n  9 20  1  0\\n 13 21  1  0\\nM  END\\n>  <ID>  (1) \\nCC(=O)OC1=CC=CC=C1C(=O)O_0_1\\n\\n>  <E_tot>  (1) \\n-649.1534480153928\\n\\n>  <fmax>  (1) \\n0.002988431602716446\\n\\n>  <Converged>  (1) \\nTrue\\n\\n>  <E_rel(kcal/mol)>  (1) \\n0.0\\n\\n$$$$\\nCC(=O)OC1=CC=CC=C1C(=O)O\\n     RDKit          3D\\n\\n 21 21  0  0  0  0  0  0  0  0999 V2000\\n   -2.5279   -2.3052    0.1393 C   0  0  0  0  0  0  0  0  0  0  0  0\\n   -1.7126   -1.1704   -0.3906 C   0  0  0  0  0  0  0  0  0  0  0  0\\n   -1.4798   -0.9287   -1.5372 O   0  0  0  0  0  0  0  0  0  0  0  0\\n   -1.2497   -0.3962    0.6414 O   0  0  0  0  0  0  0  0  0  0  0  0\\n   -0.2998    0.5539    0.3333 C   0  0  0  0  0  0  0  0  0  0  0  0\\n   -0.6999    1.8776    0.3419 C   0  0  0  0  0  0  0  0  0  0  0  0\\n    0.2225    2.8767    0.0856 C   0  0  0  0  0  0  0  0  0  0  0  0\\n    1.5450    2.5524   -0.1816 C   0  0  0  0  0  0  0  0  0  0  0  0\\n    1.9385    1.2270   -0.1824 C   0  0  0  0  0  0  0  0  0  0  0  0\\n    1.0264    0.2044    0.0783 C   0  0  0  0  0  0  0  0  0  0  0  0\\n    1.4647   -1.2172    0.0932 C   0  0  0  0  0  0  0  0  0  0  0  0\\n    0.7882   -2.1710    0.3791 O   0  0  0  0  0  0  0  0  0  0  0  0\\n    2.7630   -1.3549   -0.2516 O   0  0  0  0  0  0  0  0  0  0  0  0\\n   -3.1121   -2.7350   -0.6666 H   0  0  0  0  0  0  0  0  0  0  0  0\\n   -3.1715   -1.9670    0.9465 H   0  0  0  0  0  0  0  0  0  0  0  0\\n   -1.8482   -3.0563    0.5362 H   0  0  0  0  0  0  0  0  0  0  0  0\\n   -1.7349    2.1091    0.5437 H   0  0  0  0  0  0  0  0  0  0  0  0\\n   -0.0979    3.9080    0.0886 H   0  0  0  0  0  0  0  0  0  0  0  0\\n    2.2689    3.3259   -0.3890 H   0  0  0  0  0  0  0  0  0  0  0  0\\n    2.9636    0.9668   -0.3904 H   0  0  0  0  0  0  0  0  0  0  0  0\\n    2.9538   -2.3000   -0.2177 H   0  0  0  0  0  0  0  0  0  0  0  0\\n  1  2  1  0\\n  2  3  2  0\\n  2  4  1  0\\n  4  5  1  0\\n  5  6  2  0\\n  6  7  1  0\\n  7  8  2  0\\n  8  9  1  0\\n  9 10  2  0\\n 10 11  1  0\\n 11 12  2  0\\n 11 13  1  0\\n 10  5  1  0\\n  1 14  1  0\\n  1 15  1  0\\n  1 16  1  0\\n  6 17  1  0\\n  7 18  1  0\\n  8 19  1  0\\n  9 20  1  0\\n 13 21  1  0\\nM  END\\n>  <ID>  (2) \\nCC(=O)OC1=CC=CC=C1C(=O)O_0_0\\n\\n>  <E_tot>  (2) \\n-649.1534475355959\\n\\n>  <fmax>  (2) \\n0.002758852206170559\\n\\n>  <Converged>  (2) \\nTrue\\n\\n>  <E_rel(kcal/mol)>  (2) \\n0.00030107709022013086\\n\\n$$$$\\n\",\"sdf\");\n\tviewer_17065099521442013.setStyle({\"stick\": {}});\n\tviewer_17065099521442013.zoomTo();\nviewer_17065099521442013.render();\n});\n</script>",
      "text/html": [
       "<div id=\"3dmolviewer_17065099521442013\"  style=\"position: relative; width: 640px; height: 480px;\">\n",
       "        <p id=\"3dmolwarning_17065099521442013\" style=\"background-color:#ffcccc;color:black\">You appear to be running in JupyterLab (or JavaScript failed to load for some other reason).  You need to install the 3dmol extension: <br>\n",
       "        <tt>jupyter labextension install jupyterlab_3dmol</tt></p>\n",
       "        </div>\n",
       "<script>\n",
       "\n",
       "var loadScriptAsync = function(uri){\n",
       "  return new Promise((resolve, reject) => {\n",
       "    //this is to ignore the existence of requirejs amd\n",
       "    var savedexports, savedmodule;\n",
       "    if (typeof exports !== 'undefined') savedexports = exports;\n",
       "    else exports = {}\n",
       "    if (typeof module !== 'undefined') savedmodule = module;\n",
       "    else module = {}\n",
       "\n",
       "    var tag = document.createElement('script');\n",
       "    tag.src = uri;\n",
       "    tag.async = true;\n",
       "    tag.onload = () => {\n",
       "        exports = savedexports;\n",
       "        module = savedmodule;\n",
       "        resolve();\n",
       "    };\n",
       "  var firstScriptTag = document.getElementsByTagName('script')[0];\n",
       "  firstScriptTag.parentNode.insertBefore(tag, firstScriptTag);\n",
       "});\n",
       "};\n",
       "\n",
       "if(typeof $3Dmolpromise === 'undefined') {\n",
       "$3Dmolpromise = null;\n",
       "  $3Dmolpromise = loadScriptAsync('https://cdnjs.cloudflare.com/ajax/libs/3Dmol/2.0.4/3Dmol-min.js');\n",
       "}\n",
       "\n",
       "var viewer_17065099521442013 = null;\n",
       "var warn = document.getElementById(\"3dmolwarning_17065099521442013\");\n",
       "if(warn) {\n",
       "    warn.parentNode.removeChild(warn);\n",
       "}\n",
       "$3Dmolpromise.then(function() {\n",
       "viewer_17065099521442013 = $3Dmol.createViewer(document.getElementById(\"3dmolviewer_17065099521442013\"),{backgroundColor:\"white\"});\n",
       "viewer_17065099521442013.zoomTo();\n",
       "\tviewer_17065099521442013.addModel(\"CC(=O)OC1=CC=CC=C1C(=O)O\\n     RDKit          3D\\n\\n 21 21  0  0  0  0  0  0  0  0999 V2000\\n    3.3866    0.3739   -0.3330 C   0  0  0  0  0  0  0  0  0  0  0  0\\n    2.0952   -0.1652    0.1911 C   0  0  0  0  0  0  0  0  0  0  0  0\\n    1.8556   -0.4829    1.3176 O   0  0  0  0  0  0  0  0  0  0  0  0\\n    1.1772   -0.2666   -0.8216 O   0  0  0  0  0  0  0  0  0  0  0  0\\n   -0.1268   -0.5304   -0.4612 C   0  0  0  0  0  0  0  0  0  0  0  0\\n   -0.6181   -1.7936   -0.7358 C   0  0  0  0  0  0  0  0  0  0  0  0\\n   -1.9348   -2.0989   -0.4397 C   0  0  0  0  0  0  0  0  0  0  0  0\\n   -2.7602   -1.1419    0.1334 C   0  0  0  0  0  0  0  0  0  0  0  0\\n   -2.2631    0.1202    0.4003 C   0  0  0  0  0  0  0  0  0  0  0  0\\n   -0.9405    0.4509    0.1053 C   0  0  0  0  0  0  0  0  0  0  0  0\\n   -0.4217    1.8181    0.3791 C   0  0  0  0  0  0  0  0  0  0  0  0\\n    0.6652    2.2427    0.0831 O   0  0  0  0  0  0  0  0  0  0  0  0\\n   -1.3285    2.5905    1.0150 O   0  0  0  0  0  0  0  0  0  0  0  0\\n    3.2800    1.4495   -0.4574 H   0  0  0  0  0  0  0  0  0  0  0  0\\n    3.6158   -0.0609   -1.3017 H   0  0  0  0  0  0  0  0  0  0  0  0\\n    4.1774    0.1693    0.3800 H   0  0  0  0  0  0  0  0  0  0  0  0\\n    0.0419   -2.5268   -1.1744 H   0  0  0  0  0  0  0  0  0  0  0  0\\n   -2.3105   -3.0888   -0.6521 H   0  0  0  0  0  0  0  0  0  0  0  0\\n   -3.7868   -1.3747    0.3729 H   0  0  0  0  0  0  0  0  0  0  0  0\\n   -2.8974    0.8687    0.8469 H   0  0  0  0  0  0  0  0  0  0  0  0\\n   -0.9068    3.4473    1.1521 H   0  0  0  0  0  0  0  0  0  0  0  0\\n  1  2  1  0\\n  2  3  2  0\\n  2  4  1  0\\n  4  5  1  0\\n  5  6  2  0\\n  6  7  1  0\\n  7  8  2  0\\n  8  9  1  0\\n  9 10  2  0\\n 10 11  1  0\\n 11 12  2  0\\n 11 13  1  0\\n 10  5  1  0\\n  1 14  1  0\\n  1 15  1  0\\n  1 16  1  0\\n  6 17  1  0\\n  7 18  1  0\\n  8 19  1  0\\n  9 20  1  0\\n 13 21  1  0\\nM  END\\n>  <ID>  (1) \\nCC(=O)OC1=CC=CC=C1C(=O)O_0_1\\n\\n>  <E_tot>  (1) \\n-649.1534480153928\\n\\n>  <fmax>  (1) \\n0.002988431602716446\\n\\n>  <Converged>  (1) \\nTrue\\n\\n>  <E_rel(kcal/mol)>  (1) \\n0.0\\n\\n$$$$\\nCC(=O)OC1=CC=CC=C1C(=O)O\\n     RDKit          3D\\n\\n 21 21  0  0  0  0  0  0  0  0999 V2000\\n   -2.5279   -2.3052    0.1393 C   0  0  0  0  0  0  0  0  0  0  0  0\\n   -1.7126   -1.1704   -0.3906 C   0  0  0  0  0  0  0  0  0  0  0  0\\n   -1.4798   -0.9287   -1.5372 O   0  0  0  0  0  0  0  0  0  0  0  0\\n   -1.2497   -0.3962    0.6414 O   0  0  0  0  0  0  0  0  0  0  0  0\\n   -0.2998    0.5539    0.3333 C   0  0  0  0  0  0  0  0  0  0  0  0\\n   -0.6999    1.8776    0.3419 C   0  0  0  0  0  0  0  0  0  0  0  0\\n    0.2225    2.8767    0.0856 C   0  0  0  0  0  0  0  0  0  0  0  0\\n    1.5450    2.5524   -0.1816 C   0  0  0  0  0  0  0  0  0  0  0  0\\n    1.9385    1.2270   -0.1824 C   0  0  0  0  0  0  0  0  0  0  0  0\\n    1.0264    0.2044    0.0783 C   0  0  0  0  0  0  0  0  0  0  0  0\\n    1.4647   -1.2172    0.0932 C   0  0  0  0  0  0  0  0  0  0  0  0\\n    0.7882   -2.1710    0.3791 O   0  0  0  0  0  0  0  0  0  0  0  0\\n    2.7630   -1.3549   -0.2516 O   0  0  0  0  0  0  0  0  0  0  0  0\\n   -3.1121   -2.7350   -0.6666 H   0  0  0  0  0  0  0  0  0  0  0  0\\n   -3.1715   -1.9670    0.9465 H   0  0  0  0  0  0  0  0  0  0  0  0\\n   -1.8482   -3.0563    0.5362 H   0  0  0  0  0  0  0  0  0  0  0  0\\n   -1.7349    2.1091    0.5437 H   0  0  0  0  0  0  0  0  0  0  0  0\\n   -0.0979    3.9080    0.0886 H   0  0  0  0  0  0  0  0  0  0  0  0\\n    2.2689    3.3259   -0.3890 H   0  0  0  0  0  0  0  0  0  0  0  0\\n    2.9636    0.9668   -0.3904 H   0  0  0  0  0  0  0  0  0  0  0  0\\n    2.9538   -2.3000   -0.2177 H   0  0  0  0  0  0  0  0  0  0  0  0\\n  1  2  1  0\\n  2  3  2  0\\n  2  4  1  0\\n  4  5  1  0\\n  5  6  2  0\\n  6  7  1  0\\n  7  8  2  0\\n  8  9  1  0\\n  9 10  2  0\\n 10 11  1  0\\n 11 12  2  0\\n 11 13  1  0\\n 10  5  1  0\\n  1 14  1  0\\n  1 15  1  0\\n  1 16  1  0\\n  6 17  1  0\\n  7 18  1  0\\n  8 19  1  0\\n  9 20  1  0\\n 13 21  1  0\\nM  END\\n>  <ID>  (2) \\nCC(=O)OC1=CC=CC=C1C(=O)O_0_0\\n\\n>  <E_tot>  (2) \\n-649.1534475355959\\n\\n>  <fmax>  (2) \\n0.002758852206170559\\n\\n>  <Converged>  (2) \\nTrue\\n\\n>  <E_rel(kcal/mol)>  (2) \\n0.00030107709022013086\\n\\n$$$$\\n\",\"sdf\");\n",
       "\tviewer_17065099521442013.setStyle({\"stick\": {}});\n",
       "\tviewer_17065099521442013.zoomTo();\n",
       "viewer_17065099521442013.render();\n",
       "});\n",
       "</script>"
      ]
     },
     "metadata": {},
     "output_type": "display_data"
    }
   ],
   "source": [
    "view = py3Dmol.view()\n",
    "with open(client.workspace / \"objects\" / \"01_prepared_ligand.sdf\", \"r\") as f:\n",
    "    view.addModel(f.read(), \"sdf\")\n",
    "    view.setStyle({\"stick\": {}})\n",
    "    view.zoomTo()\n",
    "    view.show()"
   ]
  },
  {
   "cell_type": "markdown",
   "id": "30ec215f-08c7-4ad2-a756-f0e9eebe50d1",
   "metadata": {},
   "source": [
    "## 2) Quantum energy calculation\n",
    "Finally, we submit our fragmented protein for quantum energy calculation, with custom configuration."
   ]
  },
  {
   "cell_type": "code",
   "execution_count": null,
   "id": "f61f6890-a2b5-4015-8c6a-c0b244ae88e3",
   "metadata": {},
   "outputs": [
    {
     "name": "stdout",
     "output_type": "stream",
     "text": [
      "Help on function hermes_energy in module rush.provider:\n",
      "\n",
      "async hermes_energy(*args: [<class 'pathlib.Path'>, typing.Optional[~T], typing.Optional[~T]], target: rush.graphql_client.enums.ModuleInstanceTarget | None = <ModuleInstanceTarget.NIX_SSH_2_GPU: 'NIX_SSH_2_GPU'>, resources: rush.graphql_client.input_types.ModuleInstanceResourcesInput | None = ModuleInstanceResourcesInput(gpus=4, gpu_mem=None, gpu_mem_units=None, cpus=None, nodes=None, mem=None, mem_units=None, storage=1034, storage_units=<MemUnits.MB: 'MB'>, walltime=None, storage_mounts=None), tags: list[str] | None = None, restore: bool | None = None) -> [<class 'pathlib.Path'>, <class 'pathlib.Path'>]\n",
      "    Runs a HERMES energy calculation given a topology, and optionally model and keyword configurations.\n",
      "    Will use the default model and keywords if none are provided\n",
      "    \n",
      "    Module version: `tengu-prelude/efc6d8b3a8cc342cd9866d037abb77dac40a4d56`\n",
      "    \n",
      "    QDX Type Description:\n",
      "    \n",
      "        input: @Conformer;\n",
      "        model: {aux_basis: string, basis: string, frag_enabled: bool?, method: RHF | RIMP2}?;\n",
      "        keywords: {\n",
      "            debug: {\n",
      "                dry_run: bool?,\n",
      "                n_fragments_to_compute: u32?,\n",
      "                print_xyz_coords: bool?,\n",
      "                rimp2_print_level: u32?,\n",
      "                scf_print_level: u32?,\n",
      "                subfragment_xyz_debug: bool?\n",
      "            },\n",
      "            export: {\n",
      "                coefficient_export: bool?,\n",
      "                density_export: bool?,\n",
      "                export_excludes_hydrogen_caps: bool?,\n",
      "                gradient_export: bool?,\n",
      "                monolithic_density_export: bool?,\n",
      "                monolithic_gradient_export: bool?,\n",
      "                orbital_rotation_export: bool?,\n",
      "                overlap_export: bool?\n",
      "            },\n",
      "            frag: {\n",
      "                cap_to_empirical_bond_lengths: bool?,\n",
      "                dimer_cutoff: u32?,\n",
      "                dimer_mp2_cutoff: u32?,\n",
      "                fragmentation_level: u8,\n",
      "                fragmented_energy_type: TotalEnergy | InteractivityEnergy,\n",
      "                method: string,\n",
      "                monomer_cutoff: u32?,\n",
      "                monomer_mp2_cutoff: u32?,\n",
      "                ngpus_per_node: u32,\n",
      "                reference_fragment: u32?,\n",
      "                subset_of_fragments_to_calculate: [u32]?,\n",
      "                trimer_cutoff: u32?,\n",
      "                trimer_mp2_cutoff: u32?\n",
      "            },\n",
      "            guess: {\n",
      "                basis_set_projection: bool?,\n",
      "                basis_set_projection_bootstrap_basis: bool?,\n",
      "                basis_set_projection_scf_keywords: {\n",
      "                    convergence_metric: string,\n",
      "                    dynamic_screening_threshold_exp: u32,\n",
      "                    ndiis: u32,\n",
      "                    niter: u32,\n",
      "                    qnext: bool?,\n",
      "                    rihf: bool?,\n",
      "                    scf_conv: f64\n",
      "                }?,\n",
      "                superposition_monomer_densities: bool?,\n",
      "                superposition_subfragment_densities: bool?,\n",
      "                superposition_subfragment_densities_scf_keywords: {\n",
      "                    convergence_metric: string,\n",
      "                    dynamic_screening_threshold_exp: u32,\n",
      "                    ndiis: u32,\n",
      "                    niter: u32,\n",
      "                    qnext: bool?,\n",
      "                    rihf: bool?,\n",
      "                    scf_conv: f64\n",
      "                }?,\n",
      "                superposition_subfragment_densities_target_size: u32?\n",
      "            },\n",
      "            scf: {\n",
      "                convergence_metric: string,\n",
      "                dynamic_screening_threshold_exp: u32,\n",
      "                ndiis: u32,\n",
      "                niter: u32,\n",
      "                qnext: bool?,\n",
      "                rihf: bool?,\n",
      "                scf_conv: f64\n",
      "            }\n",
      "        }?\n",
      "        ->\n",
      "        energy: @{\n",
      "            dimer_energies: DimerEnergies?,\n",
      "            energy: Energy,\n",
      "            fragment_basis_functions: [{\n",
      "                n_occupied_basis_functions: u32,\n",
      "                n_virtual_basis_functions: u32,\n",
      "                total_n_basis_functions: u32\n",
      "            }]?,\n",
      "            full_system_basis_functions: {\n",
      "                n_occupied_basis_functions: u32,\n",
      "                n_virtual_basis_functions: u32,\n",
      "                total_n_basis_functions: u32\n",
      "            }?,\n",
      "            monomer_energies: MonomerEnergies?,\n",
      "            trimer_energies: TrimerEnergies?\n",
      "        };\n",
      "        gradient bytes: @bytes\n",
      "    \n",
      "    :param input: Conformer with topology\n",
      "    :param model: Optional Model configuration\n",
      "    :param keywords: Optional Keywords configuration\n",
      "    :return energy: energy results\n",
      "    :return gradient bytes: tar.gz compressed gradient bytes\n",
      "\n"
     ]
    }
   ],
   "source": [
    "help(client.hermes_energy)"
   ]
  },
  {
   "cell_type": "code",
   "execution_count": null,
   "id": "ff8b364e-e19b-4784-b720-85b2edd36d23",
   "metadata": {},
   "outputs": [],
   "source": [
    "(conformer,) = await client.pick_conformer(conformer_qdxf, 0)\n",
    "(hermes_energy, matrices) = await client.hermes_energy(\n",
    "    conformer,\n",
    "    {\n",
    "        \"basis\": \"STO-3G\",\n",
    "        \"aux_basis\": \"6-31G\",\n",
    "        \"method\": \"RIMP2\",\n",
    "    },  # configuration for a fast converging, low accuracy run\n",
    "    {\n",
    "        \"guess\": {},\n",
    "        \"scf\": {\n",
    "            \"convergence_metric\": \"diis\",\n",
    "            \"dynamic_screening_threshold_exp\": 10,\n",
    "            \"ndiis\": 8,\n",
    "            \"niter\": 40,\n",
    "            \"scf_conv\": 0.000001,\n",
    "        },\n",
    "        \"frag\": {\n",
    "            \"ngpus_per_node\": 1,\n",
    "            \"fragmentation_level\": 2,\n",
    "            \"dimer_cutoff\": 5,\n",
    "            \"dimer_mp2_cutoff\": 5,\n",
    "            \"method\": \"MBE\",\n",
    "            \"fragmented_energy_type\": \"TotalEnergy\",\n",
    "        },\n",
    "        \"export\": {},\n",
    "        \"debug\": {},\n",
    "    },\n",
    "    restore=True,\n",
    ")"
   ]
  },
  {
   "cell_type": "code",
   "execution_count": null,
   "id": "85a80c21-81cf-4176-80af-4c86434ee967",
   "metadata": {},
   "outputs": [
    {
     "name": "stdout",
     "output_type": "stream",
     "text": [
      "2024-01-29 14:32:32,771 - rush - INFO - Argument 098a98c4-5a3c-4f25-8eb4-4f9a856424fc is now ModuleInstanceStatus.RESOLVING\n",
      "2024-01-29 14:33:14,049 - rush - INFO - Argument 098a98c4-5a3c-4f25-8eb4-4f9a856424fc is now ModuleInstanceStatus.ADMITTED\n",
      "2024-01-29 14:33:25,357 - rush - INFO - Argument 098a98c4-5a3c-4f25-8eb4-4f9a856424fc is now ModuleInstanceStatus.DISPATCHED\n",
      "2024-01-29 14:33:32,050 - rush - INFO - Argument 098a98c4-5a3c-4f25-8eb4-4f9a856424fc is now ModuleInstanceStatus.RUNNING\n",
      "2024-01-29 14:33:43,514 - rush - INFO - Argument 098a98c4-5a3c-4f25-8eb4-4f9a856424fc is now ModuleInstanceStatus.AWAITING_UPLOAD\n"
     ]
    },
    {
     "data": {
      "text/plain": [
       "{'energy': {'hf': 0.0, 'mp2_os': None, 'mp2_ss': None},\n",
       " 'fragment_basis_functions': [{'n_occupied_basis_functions': 47,\n",
       "   'n_virtual_basis_functions': 26,\n",
       "   'total_n_basis_functions': 73}],\n",
       " 'full_system_basis_functions': {'n_occupied_basis_functions': 47,\n",
       "  'n_virtual_basis_functions': 26,\n",
       "  'total_n_basis_functions': 73},\n",
       " 'monomer_energies': {'hf': [0.0], 'mp2_os': [None], 'mp2_ss': [None]}}"
      ]
     },
     "execution_count": null,
     "metadata": {},
     "output_type": "execute_result"
    }
   ],
   "source": [
    "await hermes_energy.get()"
   ]
  }
 ],
 "metadata": {
  "kernelspec": {
   "display_name": "python3",
   "language": "python",
   "name": "python3"
  }
 },
 "nbformat": 4,
 "nbformat_minor": 5
}
