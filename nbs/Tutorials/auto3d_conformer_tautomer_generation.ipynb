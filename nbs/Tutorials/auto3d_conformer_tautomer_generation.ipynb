{
 "cells": [
  {
   "cell_type": "markdown",
   "id": "fa7a18db-f5d1-42ab-91cb-8df7de7eecdb",
   "metadata": {},
   "source": [
    "# Run a basic Hermes Hartree-Fock energy calculation on ligand conformers from Auto3d"
   ]
  },
  {
   "cell_type": "markdown",
   "id": "6b9e0688-9c56-4922-bdf9-f29c41fd15c1",
   "metadata": {},
   "source": [
    "In this notebook, we'll perform a hermes energy calculation on a ligand derived from a smiles string"
   ]
  },
  {
   "cell_type": "markdown",
   "id": "ded1f9e9",
   "metadata": {},
   "source": [
    "# 0) Complete example\n",
    "See the [sample notebook](/Quickstarts/auto3d_conformer_tautomer_generation-sample.ipynb) for a complete demonstration."
   ]
  },
  {
   "cell_type": "markdown",
   "id": "dbf4feb5-2f37-4f2e-b1ea-943756525df2",
   "metadata": {},
   "source": [
    "# 1) Setup"
   ]
  },
  {
   "cell_type": "markdown",
   "id": "dbcb9011",
   "metadata": {},
   "source": [
    "## 1.0) Imports"
   ]
  },
  {
   "cell_type": "code",
   "execution_count": null,
   "id": "de35042a-572b-4c97-9ed2-96d192ae59cd",
   "metadata": {},
   "outputs": [],
   "source": [
    "import json\n",
    "import os\n",
    "import sys\n",
    "import tarfile\n",
    "\n",
    "from pdbtools import *\n",
    "import requests\n",
    "from datetime import datetime\n",
    "from pathlib import Path\n",
    "import py3Dmol\n",
    "\n",
    "import rush"
   ]
  },
  {
   "cell_type": "markdown",
   "id": "60a75a2b",
   "metadata": {},
   "source": [
    "## 1.1) Configuration"
   ]
  },
  {
   "cell_type": "code",
   "execution_count": null,
   "id": "1e25927d-d93d-4380-8e02-a025530504bb",
   "metadata": {},
   "outputs": [],
   "source": [
    "EXPERIMENT = \"tengu-py-auto3d_hermes\"\n",
    "LIGAND_SMILES = \"CC(=O)OC1=CC=CC=C1C(=O)O \"\n",
    "LIGAND = \"ASPRIN\"\n",
    "TAGS = [\"qdx\", EXPERIMENT, LIGAND]"
   ]
  },
  {
   "cell_type": "code",
   "execution_count": null,
   "id": "05d81d8c-291d-4902-b87c-7b9a2d9d83f5",
   "metadata": {},
   "outputs": [],
   "source": [
    "# |hide\n",
    "WORK_DIR = Path.home() / \"qdx\" / EXPERIMENT\n",
    "\n",
    "if WORK_DIR.exists():\n",
    "    client = rush.Provider(workspace=WORK_DIR)\n",
    "    await client.nuke(remote=False)\n",
    "\n",
    "os.makedirs(WORK_DIR, exist_ok=True)\n",
    "os.makedirs(WORK_DIR / \".rush\", exist_ok=True)\n",
    "import sys\n",
    "\n",
    "os.chdir(WORK_DIR)"
   ]
  },
  {
   "cell_type": "markdown",
   "id": "770f5c87",
   "metadata": {},
   "source": [
    "## 1.2) Build your client"
   ]
  },
  {
   "cell_type": "code",
   "execution_count": null,
   "id": "c588f092-d7db-4128-b21f-8f5cfa00f65b",
   "metadata": {},
   "outputs": [],
   "source": [
    "# Get our client, for calling modules and using the rush API\n",
    "client = await rush.build_provider_with_functions(batch_tags=TAGS)"
   ]
  },
  {
   "cell_type": "code",
   "execution_count": null,
   "id": "e6fc9bef-b2a9-4e7f-8a6e-131d0ef2eea3",
   "metadata": {},
   "outputs": [],
   "source": [
    "# |hide\n",
    "client = await rush.build_provider_with_functions(\n",
    "    batch_tags=TAGS, restore_by_default=True\n",
    ")"
   ]
  },
  {
   "cell_type": "code",
   "execution_count": null,
   "id": "2c083a94-f0bf-4225-b1d7-ee213a7d43b4",
   "metadata": {},
   "outputs": [],
   "source": [
    "# |hide\n",
    "client.workspace = WORK_DIR\n",
    "client.config_dir = WORK_DIR / \".rush\""
   ]
  },
  {
   "cell_type": "markdown",
   "id": "c95c0376-6dac-419c-a48d-30a8d877aead",
   "metadata": {},
   "source": [
    "# 2) Preparation\n",
    "We want to convert our raw files into prepared qdxfs, with correct charges and missing residues filled"
   ]
  },
  {
   "cell_type": "code",
   "execution_count": null,
   "id": "60cd0e23-f6ea-434c-9593-799c8ae4204c",
   "metadata": {},
   "outputs": [
    {
     "name": "stdout",
     "output_type": "stream",
     "text": [
      "Help on function auto3d in module rush.provider:\n",
      "\n",
      "async auto3d(*args: *tuple[RushObject[bytes], str, Record], target: 'Target | None' = None, resources: 'Resources | None' = {'storage': 18, 'storage_units': 'MB', 'gpus': 1}, tags: 'list[str] | None' = None, restore: 'bool | None' = None) -> tuple[RushObject[None], RushObject[list[Record]]]\n",
      "    Generate 3D conformers from SMILES strings and other inputs\n",
      "\n",
      "    Module version:\n",
      "    `github:talo/tengu-auto3d/4896c5559f73046314ac4aaa0f660d86a0d259d7#auto3d_tengu`\n",
      "\n",
      "    QDX Type Description:\n",
      "\n",
      "        molecule_file: Object[@$Bytes];\n",
      "        molecule_file_type: string;\n",
      "        options: Auto3dOptions {\n",
      "            mpi_np: u32?,\n",
      "            patience: u32?,\n",
      "            window: f32?,\n",
      "            convergence_threshold: f32?,\n",
      "            memory: u32?,\n",
      "            enumerate_tautomer: bool?,\n",
      "            max_confs: u32?,\n",
      "            k: i32?,\n",
      "            optimizing_engine: Auto3dOptimizingEngines[ANI2x | ANI2xt | AIMNET]?,\n",
      "            job_name: string?,\n",
      "            verbose: bool?,\n",
      "            enumerate_isomer: bool?,\n",
      "            opt_steps: u32?,\n",
      "            use_gpu: bool?,\n",
      "            capacity: u32?,\n",
      "            threshold: f32?,\n",
      "            gpu_idx: [u32]?\n",
      "        }\n",
      "        ->\n",
      "        conformer_sdf: Object[@$SDF];\n",
      "        conformers: Object[[Conformer]]\n",
      "\n",
      "\n",
      "    :param molecule_file: The input molecules as a file; either one SMILES string per line, or an SDF\n",
      "    :param molecule_file_type: The string 'smi' or 'sdf', depending on the input type\n",
      "    :param options: A dict with options to pass; see auto3d docs for details\n",
      "    :return conformer_sdf: A sdf file containing the ligand(s)'s conformers\n",
      "    :return conformers: A vec of qdxf conformers\n",
      "\n"
     ]
    }
   ],
   "source": [
    "help(client.auto3d)"
   ]
  },
  {
   "cell_type": "code",
   "execution_count": null,
   "id": "1d8f5da1-9bf1-499b-86be-94327de03353",
   "metadata": {},
   "outputs": [
    {
     "name": "stdout",
     "output_type": "stream",
     "text": [
      "2024-02-28 18:16:09,923 - rush - INFO - Trying to restore job with tags: ['qdx', 'tengu-py-auto3d_hermes', 'ASPRIN'] and path: github:talo/tengu-auto3d/4896c5559f73046314ac4aaa0f660d86a0d259d7#auto3d_tengu\n",
      "18:16:10.061845 | Running ligand preparation!\n"
     ]
    }
   ],
   "source": [
    "ligand_path = client.workspace / \"aspirin.smiles\"\n",
    "with open(ligand_path, \"w\") as ligand_file:\n",
    "    print(f\"{LIGAND_SMILES} {LIGAND_SMILES}\", file=ligand_file)\n",
    "\n",
    "(conformer_sdf, conformer_qdxf) = await client.auto3d(\n",
    "    ligand_path,\n",
    "    \"smi\",\n",
    "    {\"k\": 5, \"use_gpu\": True},\n",
    "    resources={\"gpus\": 1, \"storage\": \"5\", \"storage_units\": \"GB\"},\n",
    "    target=\"NIX_SSH_2\",\n",
    ")\n",
    "\n",
    "print(f\"{datetime.now().time()} | Running ligand preparation!\")"
   ]
  },
  {
   "cell_type": "code",
   "execution_count": null,
   "id": "fd5b5747-7c8e-4be6-806e-d153727508c0",
   "metadata": {},
   "outputs": [
    {
     "data": {
      "text/plain": [
       "UUID('c63db6e7-ed13-40a7-a241-16644869cfd5')"
      ]
     },
     "execution_count": null,
     "metadata": {},
     "output_type": "execute_result"
    }
   ],
   "source": [
    "conformer_qdxf.source"
   ]
  },
  {
   "cell_type": "code",
   "execution_count": null,
   "id": "7b43c296-425b-4c97-adbb-55db9288b01c",
   "metadata": {},
   "outputs": [
    {
     "name": "stdout",
     "output_type": "stream",
     "text": [
      "2024-02-28 18:16:10,203 - rush - INFO - Argument efe2d408-1b15-4b68-ac70-0bc178f4880e is now ModuleInstanceStatus.RESOLVING\n",
      "2024-02-28 18:16:13,542 - rush - INFO - Argument efe2d408-1b15-4b68-ac70-0bc178f4880e is now ModuleInstanceStatus.ADMITTED\n",
      "2024-02-28 18:16:28,029 - rush - INFO - Argument efe2d408-1b15-4b68-ac70-0bc178f4880e is now ModuleInstanceStatus.DISPATCHED\n",
      "2024-02-28 18:16:34,690 - rush - INFO - Argument efe2d408-1b15-4b68-ac70-0bc178f4880e is now ModuleInstanceStatus.RUNNING\n",
      "2024-02-28 18:17:23,279 - rush - INFO - Argument efe2d408-1b15-4b68-ac70-0bc178f4880e is now ModuleInstanceStatus.AWAITING_UPLOAD\n"
     ]
    }
   ],
   "source": [
    "try:\n",
    "    await conformer_sdf.download(filename=\"01_prepared_ligand.sdf\")\n",
    "except FileExistsError:\n",
    "    # we will raise an error if you try to overwrite an existing file; you can\n",
    "    # force the file to overwrite by passing an absolute filepath instead\n",
    "    pass"
   ]
  },
  {
   "cell_type": "markdown",
   "id": "de55d6dc-31c7-49b2-ab5f-68424c3df9cf",
   "metadata": {},
   "source": [
    "You should visualize your prepared ligand to spot check any issues"
   ]
  },
  {
   "cell_type": "code",
   "execution_count": null,
   "id": "df1c95e9-59e2-48a9-a478-b6efb638fbe0",
   "metadata": {},
   "outputs": [
    {
     "data": {
      "application/3dmoljs_load.v0": "<div id=\"3dmolviewer_17091154769846535\"  style=\"position: relative; width: 640px; height: 480px;\">\n        <p id=\"3dmolwarning_17091154769846535\" style=\"background-color:#ffcccc;color:black\">You appear to be running in JupyterLab (or JavaScript failed to load for some other reason).  You need to install the 3dmol extension: <br>\n        <tt>jupyter labextension install jupyterlab_3dmol</tt></p>\n        </div>\n<script>\n\nvar loadScriptAsync = function(uri){\n  return new Promise((resolve, reject) => {\n    //this is to ignore the existence of requirejs amd\n    var savedexports, savedmodule;\n    if (typeof exports !== 'undefined') savedexports = exports;\n    else exports = {}\n    if (typeof module !== 'undefined') savedmodule = module;\n    else module = {}\n\n    var tag = document.createElement('script');\n    tag.src = uri;\n    tag.async = true;\n    tag.onload = () => {\n        exports = savedexports;\n        module = savedmodule;\n        resolve();\n    };\n  var firstScriptTag = document.getElementsByTagName('script')[0];\n  firstScriptTag.parentNode.insertBefore(tag, firstScriptTag);\n});\n};\n\nif(typeof $3Dmolpromise === 'undefined') {\n$3Dmolpromise = null;\n  $3Dmolpromise = loadScriptAsync('https://cdnjs.cloudflare.com/ajax/libs/3Dmol/2.0.4/3Dmol-min.js');\n}\n\nvar viewer_17091154769846535 = null;\nvar warn = document.getElementById(\"3dmolwarning_17091154769846535\");\nif(warn) {\n    warn.parentNode.removeChild(warn);\n}\n$3Dmolpromise.then(function() {\nviewer_17091154769846535 = $3Dmol.createViewer(document.getElementById(\"3dmolviewer_17091154769846535\"),{backgroundColor:\"white\"});\nviewer_17091154769846535.zoomTo();\n\tviewer_17091154769846535.addModel(\"CC(=O)OC1=CC=CC=C1C(=O)O\\n     RDKit          3D\\n\\n 21 21  0  0  0  0  0  0  0  0999 V2000\\n    3.3866    0.3739   -0.3330 C   0  0  0  0  0  0  0  0  0  0  0  0\\n    2.0952   -0.1652    0.1912 C   0  0  0  0  0  0  0  0  0  0  0  0\\n    1.8556   -0.4829    1.3176 O   0  0  0  0  0  0  0  0  0  0  0  0\\n    1.1772   -0.2666   -0.8216 O   0  0  0  0  0  0  0  0  0  0  0  0\\n   -0.1268   -0.5304   -0.4612 C   0  0  0  0  0  0  0  0  0  0  0  0\\n   -0.6181   -1.7936   -0.7358 C   0  0  0  0  0  0  0  0  0  0  0  0\\n   -1.9348   -2.0989   -0.4397 C   0  0  0  0  0  0  0  0  0  0  0  0\\n   -2.7603   -1.1419    0.1334 C   0  0  0  0  0  0  0  0  0  0  0  0\\n   -2.2631    0.1202    0.4003 C   0  0  0  0  0  0  0  0  0  0  0  0\\n   -0.9405    0.4509    0.1053 C   0  0  0  0  0  0  0  0  0  0  0  0\\n   -0.4217    1.8181    0.3791 C   0  0  0  0  0  0  0  0  0  0  0  0\\n    0.6652    2.2427    0.0831 O   0  0  0  0  0  0  0  0  0  0  0  0\\n   -1.3285    2.5905    1.0150 O   0  0  0  0  0  0  0  0  0  0  0  0\\n    3.2800    1.4495   -0.4575 H   0  0  0  0  0  0  0  0  0  0  0  0\\n    3.6159   -0.0610   -1.3016 H   0  0  0  0  0  0  0  0  0  0  0  0\\n    4.1774    0.1694    0.3800 H   0  0  0  0  0  0  0  0  0  0  0  0\\n    0.0419   -2.5268   -1.1744 H   0  0  0  0  0  0  0  0  0  0  0  0\\n   -2.3105   -3.0888   -0.6521 H   0  0  0  0  0  0  0  0  0  0  0  0\\n   -3.7868   -1.3746    0.3729 H   0  0  0  0  0  0  0  0  0  0  0  0\\n   -2.8974    0.8687    0.8469 H   0  0  0  0  0  0  0  0  0  0  0  0\\n   -0.9068    3.4473    1.1522 H   0  0  0  0  0  0  0  0  0  0  0  0\\n  1  2  1  0\\n  2  3  2  0\\n  2  4  1  0\\n  4  5  1  0\\n  5  6  2  0\\n  6  7  1  0\\n  7  8  2  0\\n  8  9  1  0\\n  9 10  2  0\\n 10 11  1  0\\n 11 12  2  0\\n 11 13  1  0\\n 10  5  1  0\\n  1 14  1  0\\n  1 15  1  0\\n  1 16  1  0\\n  6 17  1  0\\n  7 18  1  0\\n  8 19  1  0\\n  9 20  1  0\\n 13 21  1  0\\nM  END\\n>  <ID>  (1) \\nCC(=O)OC1=CC=CC=C1C(=O)O_0_1\\n\\n>  <E_tot>  (1) \\n-649.1534471310281\\n\\n>  <fmax>  (1) \\n0.002988064894452691\\n\\n>  <Converged>  (1) \\nTrue\\n\\n>  <E_rel(kcal/mol)>  (1) \\n0.0\\n\\n$$$$\\nCC(=O)OC1=CC=CC=C1C(=O)O\\n     RDKit          3D\\n\\n 21 21  0  0  0  0  0  0  0  0999 V2000\\n   -2.5285   -2.3048    0.1392 C   0  0  0  0  0  0  0  0  0  0  0  0\\n   -1.7131   -1.1699   -0.3904 C   0  0  0  0  0  0  0  0  0  0  0  0\\n   -1.4812   -0.9272   -1.5369 O   0  0  0  0  0  0  0  0  0  0  0  0\\n   -1.2489   -0.3969    0.6420 O   0  0  0  0  0  0  0  0  0  0  0  0\\n   -0.2994    0.5535    0.3336 C   0  0  0  0  0  0  0  0  0  0  0  0\\n   -0.6998    1.8770    0.3420 C   0  0  0  0  0  0  0  0  0  0  0  0\\n    0.2222    2.8763    0.0854 C   0  0  0  0  0  0  0  0  0  0  0  0\\n    1.5448    2.5523   -0.1821 C   0  0  0  0  0  0  0  0  0  0  0  0\\n    1.9386    1.2270   -0.1828 C   0  0  0  0  0  0  0  0  0  0  0  0\\n    1.0268    0.2042    0.0783 C   0  0  0  0  0  0  0  0  0  0  0  0\\n    1.4654   -1.2173    0.0929 C   0  0  0  0  0  0  0  0  0  0  0  0\\n    0.7884   -2.1716    0.3764 O   0  0  0  0  0  0  0  0  0  0  0  0\\n    2.7645   -1.3544   -0.2490 O   0  0  0  0  0  0  0  0  0  0  0  0\\n   -3.1138   -2.7334   -0.6666 H   0  0  0  0  0  0  0  0  0  0  0  0\\n   -3.1712   -1.9671    0.9473 H   0  0  0  0  0  0  0  0  0  0  0  0\\n   -1.8490   -3.0568    0.5348 H   0  0  0  0  0  0  0  0  0  0  0  0\\n   -1.7349    2.1082    0.5441 H   0  0  0  0  0  0  0  0  0  0  0  0\\n   -0.0984    3.9075    0.0882 H   0  0  0  0  0  0  0  0  0  0  0  0\\n    2.2684    3.3259   -0.3899 H   0  0  0  0  0  0  0  0  0  0  0  0\\n    2.9638    0.9670   -0.3910 H   0  0  0  0  0  0  0  0  0  0  0  0\\n    2.9553   -2.2995   -0.2156 H   0  0  0  0  0  0  0  0  0  0  0  0\\n  1  2  1  0\\n  2  3  2  0\\n  2  4  1  0\\n  4  5  1  0\\n  5  6  2  0\\n  6  7  1  0\\n  7  8  2  0\\n  8  9  1  0\\n  9 10  2  0\\n 10 11  1  0\\n 11 12  2  0\\n 11 13  1  0\\n 10  5  1  0\\n  1 14  1  0\\n  1 15  1  0\\n  1 16  1  0\\n  6 17  1  0\\n  7 18  1  0\\n  8 19  1  0\\n  9 20  1  0\\n 13 21  1  0\\nM  END\\n>  <ID>  (2) \\nCC(=O)OC1=CC=CC=C1C(=O)O_0_0\\n\\n>  <E_tot>  (2) \\n-649.1534425713589\\n\\n>  <fmax>  (2) \\n0.0029971664771437645\\n\\n>  <Converged>  (2) \\nTrue\\n\\n>  <E_rel(kcal/mol)>  (2) \\n0.002861235600910648\\n\\n$$$$\\n\",\"sdf\");\n\tviewer_17091154769846535.setStyle({\"stick\": {}});\n\tviewer_17091154769846535.zoomTo();\nviewer_17091154769846535.render();\n});\n</script>",
      "text/html": [
       "<div id=\"3dmolviewer_17091154769846535\"  style=\"position: relative; width: 640px; height: 480px;\">\n",
       "        <p id=\"3dmolwarning_17091154769846535\" style=\"background-color:#ffcccc;color:black\">You appear to be running in JupyterLab (or JavaScript failed to load for some other reason).  You need to install the 3dmol extension: <br>\n",
       "        <tt>jupyter labextension install jupyterlab_3dmol</tt></p>\n",
       "        </div>\n",
       "<script>\n",
       "\n",
       "var loadScriptAsync = function(uri){\n",
       "  return new Promise((resolve, reject) => {\n",
       "    //this is to ignore the existence of requirejs amd\n",
       "    var savedexports, savedmodule;\n",
       "    if (typeof exports !== 'undefined') savedexports = exports;\n",
       "    else exports = {}\n",
       "    if (typeof module !== 'undefined') savedmodule = module;\n",
       "    else module = {}\n",
       "\n",
       "    var tag = document.createElement('script');\n",
       "    tag.src = uri;\n",
       "    tag.async = true;\n",
       "    tag.onload = () => {\n",
       "        exports = savedexports;\n",
       "        module = savedmodule;\n",
       "        resolve();\n",
       "    };\n",
       "  var firstScriptTag = document.getElementsByTagName('script')[0];\n",
       "  firstScriptTag.parentNode.insertBefore(tag, firstScriptTag);\n",
       "});\n",
       "};\n",
       "\n",
       "if(typeof $3Dmolpromise === 'undefined') {\n",
       "$3Dmolpromise = null;\n",
       "  $3Dmolpromise = loadScriptAsync('https://cdnjs.cloudflare.com/ajax/libs/3Dmol/2.0.4/3Dmol-min.js');\n",
       "}\n",
       "\n",
       "var viewer_17091154769846535 = null;\n",
       "var warn = document.getElementById(\"3dmolwarning_17091154769846535\");\n",
       "if(warn) {\n",
       "    warn.parentNode.removeChild(warn);\n",
       "}\n",
       "$3Dmolpromise.then(function() {\n",
       "viewer_17091154769846535 = $3Dmol.createViewer(document.getElementById(\"3dmolviewer_17091154769846535\"),{backgroundColor:\"white\"});\n",
       "viewer_17091154769846535.zoomTo();\n",
       "\tviewer_17091154769846535.addModel(\"CC(=O)OC1=CC=CC=C1C(=O)O\\n     RDKit          3D\\n\\n 21 21  0  0  0  0  0  0  0  0999 V2000\\n    3.3866    0.3739   -0.3330 C   0  0  0  0  0  0  0  0  0  0  0  0\\n    2.0952   -0.1652    0.1912 C   0  0  0  0  0  0  0  0  0  0  0  0\\n    1.8556   -0.4829    1.3176 O   0  0  0  0  0  0  0  0  0  0  0  0\\n    1.1772   -0.2666   -0.8216 O   0  0  0  0  0  0  0  0  0  0  0  0\\n   -0.1268   -0.5304   -0.4612 C   0  0  0  0  0  0  0  0  0  0  0  0\\n   -0.6181   -1.7936   -0.7358 C   0  0  0  0  0  0  0  0  0  0  0  0\\n   -1.9348   -2.0989   -0.4397 C   0  0  0  0  0  0  0  0  0  0  0  0\\n   -2.7603   -1.1419    0.1334 C   0  0  0  0  0  0  0  0  0  0  0  0\\n   -2.2631    0.1202    0.4003 C   0  0  0  0  0  0  0  0  0  0  0  0\\n   -0.9405    0.4509    0.1053 C   0  0  0  0  0  0  0  0  0  0  0  0\\n   -0.4217    1.8181    0.3791 C   0  0  0  0  0  0  0  0  0  0  0  0\\n    0.6652    2.2427    0.0831 O   0  0  0  0  0  0  0  0  0  0  0  0\\n   -1.3285    2.5905    1.0150 O   0  0  0  0  0  0  0  0  0  0  0  0\\n    3.2800    1.4495   -0.4575 H   0  0  0  0  0  0  0  0  0  0  0  0\\n    3.6159   -0.0610   -1.3016 H   0  0  0  0  0  0  0  0  0  0  0  0\\n    4.1774    0.1694    0.3800 H   0  0  0  0  0  0  0  0  0  0  0  0\\n    0.0419   -2.5268   -1.1744 H   0  0  0  0  0  0  0  0  0  0  0  0\\n   -2.3105   -3.0888   -0.6521 H   0  0  0  0  0  0  0  0  0  0  0  0\\n   -3.7868   -1.3746    0.3729 H   0  0  0  0  0  0  0  0  0  0  0  0\\n   -2.8974    0.8687    0.8469 H   0  0  0  0  0  0  0  0  0  0  0  0\\n   -0.9068    3.4473    1.1522 H   0  0  0  0  0  0  0  0  0  0  0  0\\n  1  2  1  0\\n  2  3  2  0\\n  2  4  1  0\\n  4  5  1  0\\n  5  6  2  0\\n  6  7  1  0\\n  7  8  2  0\\n  8  9  1  0\\n  9 10  2  0\\n 10 11  1  0\\n 11 12  2  0\\n 11 13  1  0\\n 10  5  1  0\\n  1 14  1  0\\n  1 15  1  0\\n  1 16  1  0\\n  6 17  1  0\\n  7 18  1  0\\n  8 19  1  0\\n  9 20  1  0\\n 13 21  1  0\\nM  END\\n>  <ID>  (1) \\nCC(=O)OC1=CC=CC=C1C(=O)O_0_1\\n\\n>  <E_tot>  (1) \\n-649.1534471310281\\n\\n>  <fmax>  (1) \\n0.002988064894452691\\n\\n>  <Converged>  (1) \\nTrue\\n\\n>  <E_rel(kcal/mol)>  (1) \\n0.0\\n\\n$$$$\\nCC(=O)OC1=CC=CC=C1C(=O)O\\n     RDKit          3D\\n\\n 21 21  0  0  0  0  0  0  0  0999 V2000\\n   -2.5285   -2.3048    0.1392 C   0  0  0  0  0  0  0  0  0  0  0  0\\n   -1.7131   -1.1699   -0.3904 C   0  0  0  0  0  0  0  0  0  0  0  0\\n   -1.4812   -0.9272   -1.5369 O   0  0  0  0  0  0  0  0  0  0  0  0\\n   -1.2489   -0.3969    0.6420 O   0  0  0  0  0  0  0  0  0  0  0  0\\n   -0.2994    0.5535    0.3336 C   0  0  0  0  0  0  0  0  0  0  0  0\\n   -0.6998    1.8770    0.3420 C   0  0  0  0  0  0  0  0  0  0  0  0\\n    0.2222    2.8763    0.0854 C   0  0  0  0  0  0  0  0  0  0  0  0\\n    1.5448    2.5523   -0.1821 C   0  0  0  0  0  0  0  0  0  0  0  0\\n    1.9386    1.2270   -0.1828 C   0  0  0  0  0  0  0  0  0  0  0  0\\n    1.0268    0.2042    0.0783 C   0  0  0  0  0  0  0  0  0  0  0  0\\n    1.4654   -1.2173    0.0929 C   0  0  0  0  0  0  0  0  0  0  0  0\\n    0.7884   -2.1716    0.3764 O   0  0  0  0  0  0  0  0  0  0  0  0\\n    2.7645   -1.3544   -0.2490 O   0  0  0  0  0  0  0  0  0  0  0  0\\n   -3.1138   -2.7334   -0.6666 H   0  0  0  0  0  0  0  0  0  0  0  0\\n   -3.1712   -1.9671    0.9473 H   0  0  0  0  0  0  0  0  0  0  0  0\\n   -1.8490   -3.0568    0.5348 H   0  0  0  0  0  0  0  0  0  0  0  0\\n   -1.7349    2.1082    0.5441 H   0  0  0  0  0  0  0  0  0  0  0  0\\n   -0.0984    3.9075    0.0882 H   0  0  0  0  0  0  0  0  0  0  0  0\\n    2.2684    3.3259   -0.3899 H   0  0  0  0  0  0  0  0  0  0  0  0\\n    2.9638    0.9670   -0.3910 H   0  0  0  0  0  0  0  0  0  0  0  0\\n    2.9553   -2.2995   -0.2156 H   0  0  0  0  0  0  0  0  0  0  0  0\\n  1  2  1  0\\n  2  3  2  0\\n  2  4  1  0\\n  4  5  1  0\\n  5  6  2  0\\n  6  7  1  0\\n  7  8  2  0\\n  8  9  1  0\\n  9 10  2  0\\n 10 11  1  0\\n 11 12  2  0\\n 11 13  1  0\\n 10  5  1  0\\n  1 14  1  0\\n  1 15  1  0\\n  1 16  1  0\\n  6 17  1  0\\n  7 18  1  0\\n  8 19  1  0\\n  9 20  1  0\\n 13 21  1  0\\nM  END\\n>  <ID>  (2) \\nCC(=O)OC1=CC=CC=C1C(=O)O_0_0\\n\\n>  <E_tot>  (2) \\n-649.1534425713589\\n\\n>  <fmax>  (2) \\n0.0029971664771437645\\n\\n>  <Converged>  (2) \\nTrue\\n\\n>  <E_rel(kcal/mol)>  (2) \\n0.002861235600910648\\n\\n$$$$\\n\",\"sdf\");\n",
       "\tviewer_17091154769846535.setStyle({\"stick\": {}});\n",
       "\tviewer_17091154769846535.zoomTo();\n",
       "viewer_17091154769846535.render();\n",
       "});\n",
       "</script>"
      ]
     },
     "metadata": {},
     "output_type": "display_data"
    }
   ],
   "source": [
    "view = py3Dmol.view()\n",
    "with open(client.workspace / \"objects\" / \"01_prepared_ligand.sdf\", \"r\") as f:\n",
    "    view.addModel(f.read(), \"sdf\")\n",
    "    view.setStyle({\"stick\": {}})\n",
    "    view.zoomTo()\n",
    "    view.show()"
   ]
  },
  {
   "cell_type": "markdown",
   "id": "30ec215f-08c7-4ad2-a756-f0e9eebe50d1",
   "metadata": {},
   "source": [
    "# 3) Quantum energy calculation\n",
    "Finally, we submit our fragmented protein for quantum energy calculation, with custom configuration."
   ]
  },
  {
   "cell_type": "code",
   "execution_count": null,
   "id": "f61f6890-a2b5-4015-8c6a-c0b244ae88e3",
   "metadata": {},
   "outputs": [
    {
     "name": "stdout",
     "output_type": "stream",
     "text": [
      "Help on function hermes_energy in module rush.provider:\n",
      "\n",
      "async hermes_energy(*args: *tuple[RushObject[Record], Record, Record | None, Record | None], target: 'Target | None' = None, resources: 'Resources | None' = {'storage': 1034, 'storage_units': 'MB', 'gpus': 4}, tags: 'list[str] | None' = None, restore: 'bool | None' = None) -> tuple[RushObject[Record]]\n",
      "    Runs a HERMES energy calculation given a topology, and optionally model and keyword configurations.\n",
      "    Will use the default model and keywords if none are provided\n",
      "\n",
      "    Module version:\n",
      "    `github:talo/tengu-prelude/f506c7ead174cdb7e8d1725139254bb85c6b62f8#hermes_energy`\n",
      "\n",
      "    QDX Type Description:\n",
      "\n",
      "        input: Object[Conformer];\n",
      "        system: System {\n",
      "            teams_per_node: u32?,\n",
      "            max_gpu_memory_mb: u32?,\n",
      "            oversubscribe_gpus: bool?,\n",
      "            gpus_per_team: u32?\n",
      "        };\n",
      "        model: Model {\n",
      "            aux_basis: string?,\n",
      "            basis: string,\n",
      "            force_cartesian_basis_sets: bool?,\n",
      "            standard_orientation: string?,\n",
      "        }?;\n",
      "        keywords: Keywords {\n",
      "            frag: Frag {\n",
      "                included_fragments: [u32]?,\n",
      "                reference_fragment: u32?,\n",
      "                cutoffs: FragCutoffs {\n",
      "                    tetramer: f64?,\n",
      "                    dimer: f64?,\n",
      "                    monomer: f64?,\n",
      "                    trimer: f64?\n",
      "                }?,\n",
      "                level: FragLevel[Monomer | Dimer | Trimer | Tetramer],\n",
      "                cutoff_type: CutoffType[Centroid | ClosestPair]?\n",
      "            }?,\n",
      "            log: Logging {\n",
      "                console: LogSettings {\n",
      "                    level: LogLevel[Debug | Verbose | Info | LargeInfo | Warning | Error]?,\n",
      "                    prefix_fmt: string?\n",
      "                }?,\n",
      "                logfiles: [FileLogSettings {\n",
      "                    directory: string?,\n",
      "                    prefix_fmt: string?,\n",
      "                    level: LogLevel[Debug | Verbose | Info | LargeInfo | Warning | Error]?\n",
      "                }]?\n",
      "            }?,\n",
      "            debug: QCDebug {\n",
      "                subfragment_xyz: bool?,\n",
      "                ignore_fragments: bool?,\n",
      "                dry_run: bool?,\n",
      "                max_fragments: u32?\n",
      "            }?,\n",
      "            guess: Guess {\n",
      "                ssfd_only_converge_in_bsp_basis: bool?,\n",
      "                ssfd_target_size: u32?,\n",
      "                bsp_scf_keywords: SCF {\n",
      "                    max_iters: u32?,\n",
      "                    use_ri: bool?,\n",
      "                    density_basis_set_projection_fallback_enabled: bool?,\n",
      "                    density_threshold: f64?,\n",
      "                    convergence_metric: string?,\n",
      "                    batch_size: u32?,\n",
      "                    max_diis_history_length: u32?,\n",
      "                    convergence_threshold: f64?\n",
      "                }?,\n",
      "                ssfd: bool?,\n",
      "                smd: bool?,\n",
      "                ssfd_scf_keywords: GuessSCF {\n",
      "                    convergence_threshold: f64?,\n",
      "                    density_basis_set_projection_fallback_enabled: bool?,\n",
      "                    use_ri: bool?,\n",
      "                    density_threshold: f64?,\n",
      "                    max_diis_history_length: u32?,\n",
      "                    convergence_metric: ConvergenceMetric[Energy | DIIS | Density]?,\n",
      "                    max_iters: u32?,\n",
      "                    batch_size: u32?\n",
      "                }?,\n",
      "                bsp: bool?,\n",
      "                bsp_basis: string?\n",
      "            }?,\n",
      "            scf: SCF {\n",
      "                max_diis_history_length: u32?,\n",
      "                convergence_threshold: f64?,\n",
      "                density_basis_set_projection_fallback_enabled: bool?,\n",
      "                max_iters: u32?,\n",
      "                convergence_metric: string?,\n",
      "                use_ri: bool?,\n",
      "                density_threshold: f64?,\n",
      "                batch_size: u32?\n",
      "            },\n",
      "            export: Export {\n",
      "                export_expanded_gradient: bool?,\n",
      "                export_density: bool?,\n",
      "                flatten_symmetric: bool?,\n",
      "                export_expanded_density: bool?,\n",
      "                export_esp_descriptors: bool?,\n",
      "                descriptor_grid: Grid {\n",
      "                    order: GridOrder[One | Two],\n",
      "                    scale: f64,\n",
      "                    points_per_shell: u32\n",
      "                }?,\n",
      "                export_h_caps: bool?,\n",
      "                export_fock: bool?,\n",
      "                export_bond_orders: bool?,\n",
      "                export_h_core: bool?,\n",
      "                export_overlap: bool?,\n",
      "                export_molecular_orbital_coeffs: bool?,\n",
      "                export_gradient: bool?,\n",
      "                export_density_descriptors: bool?,\n",
      "                export_mulliken_charges: bool?\n",
      "            }?,\n",
      "            dynamics: Dynamics {n_timesteps: u64, dt: f64, use_async_timesteps: bool?}?,\n",
      "            boundary: Boundary {\n",
      "                y: BoundaryCondition {\n",
      "                    range: Range {upper: f64, lower: f64},\n",
      "                    kind: BoundaryConditionKind[Periodic | Rigid | Delete]\n",
      "                }?,\n",
      "                z: BoundaryCondition {\n",
      "                    range: Range {lower: f64, upper: f64},\n",
      "                    kind: BoundaryConditionKind[Periodic | Rigid | Delete]\n",
      "                }?,\n",
      "                x: BoundaryCondition {\n",
      "                    kind: BoundaryConditionKind[Periodic | Rigid | Delete],\n",
      "                    range: Range {lower: f64, upper: f64}\n",
      "                }?\n",
      "            }?\n",
      "        }?\n",
      "        ->\n",
      "        energy: Object {\n",
      "            path: @QMMBE {\n",
      "                expanded_density: Tensorf64 {\n",
      "                    shape: [u32],\n",
      "                    data: [f64],\n",
      "                    kind: TensorKind[Dense | SquareSymmetric | LowerTriangular]\n",
      "                }?,\n",
      "                distance_metric: CutoffType[Centroid | ClosestPair]?,\n",
      "                expanded_hf_energy: f64?,\n",
      "                expanded_mp2_gradients: [f64]?,\n",
      "                expanded_mp2_os_correction: f64?,\n",
      "                expanded_mp2_ss_correction: f64?,\n",
      "                nmers: [[Nmer {\n",
      "                    hf_gradients: [f64]?,\n",
      "                    coeffs_initial: Tensorf64 {\n",
      "                        kind: TensorKind[Dense | SquareSymmetric | LowerTriangular],\n",
      "                        data: [f64],\n",
      "                        shape: [u32]\n",
      "                    }?,\n",
      "                    delta_mp2_ss_correction: f64?,\n",
      "                    hf_energy: f64?,\n",
      "                    bond_orders: [[f64]]?,\n",
      "                    h_core: Tensorf64 {\n",
      "                        kind: TensorKind[Dense | SquareSymmetric | LowerTriangular],\n",
      "                        data: [f64],\n",
      "                        shape: [u32]\n",
      "                    }?,\n",
      "                    num_basis_fns: u32,\n",
      "                    fragments: [u32],\n",
      "                    h_caps: [u32]?,\n",
      "                    overlap: Tensorf64 {\n",
      "                        data: [f64],\n",
      "                        kind: TensorKind[Dense | SquareSymmetric | LowerTriangular],\n",
      "                        shape: [u32]\n",
      "                    }?,\n",
      "                    fock: Tensorf64 {\n",
      "                        data: [f64],\n",
      "                        kind: TensorKind[Dense | SquareSymmetric | LowerTriangular],\n",
      "                        shape: [u32]\n",
      "                    }?,\n",
      "                    mp2_ss_correction: f64?,\n",
      "                    coeffs_final: Tensorf64 {\n",
      "                        shape: [u32],\n",
      "                        kind: TensorKind[Dense | SquareSymmetric | LowerTriangular],\n",
      "                        data: [f64]\n",
      "                    }?,\n",
      "                    molecular_orbital_energies: [f64]?,\n",
      "                    fragment_distance: f64?,\n",
      "                    mp2_gradients: [f64]?,\n",
      "                    mulliken_charges: [f64]?,\n",
      "                    mp2_os_correction: f64?,\n",
      "                    delta_hf_energy: f64?,\n",
      "                    num_iters: u32,\n",
      "                    delta_mp2_os_correction: f64?,\n",
      "                    density: Tensorf64 {\n",
      "                        data: [f64],\n",
      "                        kind: TensorKind[Dense | SquareSymmetric | LowerTriangular],\n",
      "                        shape: [u32]\n",
      "                    }?\n",
      "                }]],\n",
      "                num_iters: u32,\n",
      "                reference_fragment: u32?,\n",
      "                expanded_hf_gradients: [f64]?\n",
      "            },\n",
      "            size: u32\n",
      "        }\n",
      "\n",
      "\n",
      "    :param input: Conformer with topology\n",
      "    :param system: system resources configuration\n",
      "    :param model: Optional Model configuration\n",
      "    :param keywords: Optional Keywords configuration\n",
      "    :return energy: energy results\n",
      "\n"
     ]
    }
   ],
   "source": [
    "help(client.hermes_energy)"
   ]
  },
  {
   "cell_type": "code",
   "execution_count": null,
   "id": "d049185e-f584-41c7-a52f-01cef8c68c15",
   "metadata": {},
   "outputs": [],
   "source": [
    "HERMES_RESOURCES = {\n",
    "    \"gpus\": 1,\n",
    "    \"storage\": 100,\n",
    "    \"storage_units\": \"MB\",\n",
    "    \"walltime\": 60,\n",
    "}"
   ]
  },
  {
   "cell_type": "code",
   "execution_count": null,
   "id": "904cf300-232d-4e4d-8b14-24b628445f02",
   "metadata": {},
   "outputs": [
    {
     "name": "stdout",
     "output_type": "stream",
     "text": [
      "2024-02-28 18:17:56,998 - rush - INFO - Trying to restore job with tags: ['qdx', 'tengu-py-auto3d_hermes', 'ASPRIN'] and path: github:talo/tengu-prelude/f506c7ead174cdb7e8d1725139254bb85c6b62f8#pick_conformer\n"
     ]
    }
   ],
   "source": [
    "(conformer,) = await client.pick_conformer(conformer_qdxf, 0)"
   ]
  },
  {
   "cell_type": "code",
   "execution_count": null,
   "id": "921a889d-07e7-4b70-9962-59839a4a133d",
   "metadata": {},
   "outputs": [
    {
     "name": "stdout",
     "output_type": "stream",
     "text": [
      "2024-02-28 18:17:57,235 - rush - INFO - Argument 600826f3-b93f-4080-9026-910a62cdb26f is now ModuleInstanceStatus.RESOLVING\n",
      "2024-02-28 18:17:59,470 - rush - INFO - Argument 600826f3-b93f-4080-9026-910a62cdb26f is now ModuleInstanceStatus.ADMITTED\n",
      "2024-02-28 18:18:10,829 - rush - INFO - Argument 600826f3-b93f-4080-9026-910a62cdb26f is now ModuleInstanceStatus.DISPATCHED\n",
      "2024-02-28 18:18:16,401 - rush - INFO - Argument 600826f3-b93f-4080-9026-910a62cdb26f is now ModuleInstanceStatus.AWAITING_UPLOAD\n",
      "2024-02-28 18:18:43,594 - rush - INFO - Argument 600826f3-b93f-4080-9026-910a62cdb26f is now ModuleInstanceStatus.COMPLETED\n"
     ]
    }
   ],
   "source": [
    "conformer_out = json.load(open(await conformer.download(), \"r\"))"
   ]
  },
  {
   "cell_type": "code",
   "execution_count": null,
   "id": "ff8b364e-e19b-4784-b720-85b2edd36d23",
   "metadata": {},
   "outputs": [
    {
     "name": "stdout",
     "output_type": "stream",
     "text": [
      "2024-02-28 18:23:02,690 - rush - INFO - Trying to restore job with tags: ['qdx', 'tengu-py-auto3d_hermes', 'ASPRIN'] and path: github:talo/tengu-prelude/f506c7ead174cdb7e8d1725139254bb85c6b62f8#hermes_energy\n"
     ]
    }
   ],
   "source": [
    "(hermes_energy,) = await client.hermes_energy(\n",
    "    conformer,\n",
    "    {},\n",
    "    {\n",
    "        \"method\": \"RestrictedRIMP2\",\n",
    "        \"basis\": \"cc-pVDZ\",\n",
    "        \"aux_basis\": \"cc-pVDZ-RIFIT\",\n",
    "        \"force_cartesian_basis_sets\": True,\n",
    "        \"standard_orientation\": \"FullSystem\",\n",
    "    },\n",
    "    {\n",
    "        \"scf\": {\n",
    "            \"max_iter\": 50,\n",
    "            \"max_diis_history_length\": 12,\n",
    "            \"convergence_metric\": \"DIIS\",\n",
    "            \"convergence_threshold\": 0.000001,\n",
    "            \"density_threshold\": 1e-10,\n",
    "            \"density_basis_set_projection_fallback_enabled\": True,\n",
    "        },\n",
    "        \"frag\": {\n",
    "            \"cutoffs\": {\"dimer\": 22},\n",
    "            \"cutoff_type\": \"Centroid\",\n",
    "            \"level\": \"Dimer\",\n",
    "            \"reference_fragment\": len(conformer_out[\"topology\"][\"fragments\"]) - 1,\n",
    "        },\n",
    "    },\n",
    "    target=\"NIX_SSH\",\n",
    "    resources=HERMES_RESOURCES,\n",
    ")"
   ]
  },
  {
   "cell_type": "code",
   "execution_count": null,
   "id": "85a80c21-81cf-4176-80af-4c86434ee967",
   "metadata": {},
   "outputs": [
    {
     "name": "stdout",
     "output_type": "stream",
     "text": [
      "2024-02-28 18:23:03,019 - rush - INFO - Argument 891c3bce-df72-413d-9dee-c8d3a40b2186 is now ModuleInstanceStatus.RESOLVING\n",
      "2024-02-28 18:23:06,413 - rush - INFO - Argument 891c3bce-df72-413d-9dee-c8d3a40b2186 is now ModuleInstanceStatus.ADMITTED\n",
      "2024-02-28 18:23:16,545 - rush - INFO - Argument 891c3bce-df72-413d-9dee-c8d3a40b2186 is now ModuleInstanceStatus.DISPATCHED\n",
      "2024-02-28 18:23:22,206 - rush - INFO - Argument 891c3bce-df72-413d-9dee-c8d3a40b2186 is now ModuleInstanceStatus.AWAITING_UPLOAD\n"
     ]
    },
    {
     "data": {
      "text/plain": [
       "ObjectUrlObject(url='https://storage.googleapis.com/rush_store_default/f6b507bd-d005-40e3-b2d9-af4ebc1c8d6f?x-goog-signature=47b2614a38c27af70559674c8ea5544c02db52aa35919485d88dc4858c72118b8ac66d0718645aded0c60978bdfd487c644fd413c5a5ab47e4c011af98396592c1fbf1e6357736772d07c4277a6efd41cd7e0c8ebf7b798dd9438f0a4f5cfc0eb43b38cd7f06f124f6504b5d9d004723bc63a69751b5460f31d63bfb7572a592ec20c2fbd8c4b889cd5b42ff63235c3dda590451817e38645a9e81af3526f9d1d291eb88169f56b645159f3af8ac3816884be746f74d0bb2809420736a02285b467917f75a541d551235c002ee8add17f76492f73f9817fd54b2cd1db334c8efb60bc7103b8b06fd5a85210c4752cf313dc5ed6b9242b6edd782fe23f38eadbc&x-goog-algorithm=GOOG4-RSA-SHA256&x-goog-credential=qdx-store-user%40humming-bird-321603.iam.gserviceaccount.com%2F20240228%2Fasia-southeast1%2Fstorage%2Fgoog4_request&x-goog-date=20240228T102351Z&x-goog-expires=3600&x-goog-signedheaders=host')"
      ]
     },
     "execution_count": null,
     "metadata": {},
     "output_type": "execute_result"
    }
   ],
   "source": [
    "await hermes_energy.get()"
   ]
  }
 ],
 "metadata": {
  "kernelspec": {
   "display_name": "python3",
   "language": "python",
   "name": "python3"
  }
 },
 "nbformat": 4,
 "nbformat_minor": 5
}
