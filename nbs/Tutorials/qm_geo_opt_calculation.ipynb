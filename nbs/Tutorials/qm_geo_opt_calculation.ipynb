{
 "cells": [
  {
   "cell_type": "markdown",
   "metadata": {},
   "source": [
    "# Run quantum accurate geometry optimisation on a small molecule"
   ]
  },
  {
   "cell_type": "markdown",
   "metadata": {},
   "source": [
    "This notebook shows how to geometry optimise a small molecule using RIMP2 accurate gradients."
   ]
  },
  {
   "cell_type": "code",
   "execution_count": 57,
   "metadata": {},
   "outputs": [],
   "source": [
    "import os\n",
    "from glob import glob\n",
    "from pathlib import Path\n",
    "import json\n",
    "\n",
    "import rush"
   ]
  },
  {
   "cell_type": "markdown",
   "metadata": {},
   "source": [
    "## 0) Setup"
   ]
  },
  {
   "cell_type": "code",
   "execution_count": 23,
   "metadata": {},
   "outputs": [],
   "source": [
    "# Define our project information\n",
    "DESCRIPTION = \"rush-py qm geo opt notebook\"\n",
    "TAGS = [\"qdx\", \"rush-py-v2\", \"demo\", \"qm_geo_opt\"]\n",
    "WORK_DIR = Path.home() / \"qdx\" / \"qm_geo_opt\""
   ]
  },
  {
   "cell_type": "code",
   "execution_count": 24,
   "metadata": {},
   "outputs": [],
   "source": [
    "# |hide\n",
    "if WORK_DIR.exists():\n",
    "    client = rush.Provider(workspace=WORK_DIR)\n",
    "    await client.nuke(remote=True)\n",
    "\n",
    "os.makedirs(WORK_DIR, exist_ok=True)\n",
    "os.makedirs(WORK_DIR / \".rush\", exist_ok=True)\n",
    "import sys\n",
    "os.chdir(WORK_DIR)"
   ]
  },
  {
   "cell_type": "code",
   "execution_count": 25,
   "metadata": {},
   "outputs": [],
   "source": [
    "os.makedirs(PROTEIN_PDB_FOLDER_PATH, exist_ok=True)"
   ]
  },
  {
   "cell_type": "markdown",
   "metadata": {},
   "source": [
    "## 0.1) Initialize our rush client and fetch available module paths"
   ]
  },
  {
   "cell_type": "code",
   "execution_count": 28,
   "metadata": {},
   "outputs": [],
   "source": [
    "# By using the `build_provider_with_functions` method, we will also build helper functions calling each module\n",
    "client = await rush.build_provider_with_functions(\n",
    "    access_token=RUSH_TOKEN, url=RUSH_URL, batch_tags=TAGS\n",
    ")"
   ]
  },
  {
   "cell_type": "code",
   "execution_count": 29,
   "metadata": {},
   "outputs": [],
   "source": [
    "# |hide\n",
    "client.workspace = WORK_DIR\n",
    "client.config_dir = WORK_DIR / \".rush\""
   ]
  },
  {
   "cell_type": "markdown",
   "metadata": {},
   "source": [
    "## 0.2) Get qm_geo_opt rush module"
   ]
  },
  {
   "cell_type": "code",
   "execution_count": 32,
   "metadata": {},
   "outputs": [],
   "source": [
    "# Get our latest modules as a dict[module_name, module_path]\n",
    "# If a lock file exists, load it so that the run is reproducable\n",
    "# This will be done automatically if you use the `build_provider_with_functions` method\n",
    "modules = await client.get_latest_module_paths()"
   ]
  },
  {
   "cell_type": "code",
   "execution_count": 33,
   "metadata": {},
   "outputs": [
    {
     "name": "stdout",
     "output_type": "stream",
     "text": [
      "github:talo/qm_geo_opt/2f575ce865e97c1eb5cde26da0265017d95e1940#qm_geo_opt_tengu\n"
     ]
    }
   ],
   "source": [
    "module_name = \"qm_geo_opt\"\n",
    "module_path = modules[module_name]\n",
    "print(module_path)"
   ]
  },
  {
   "cell_type": "code",
   "execution_count": 34,
   "metadata": {},
   "outputs": [
    {
     "name": "stdout",
     "output_type": "stream",
     "text": [
      "Help on function qm_geo_opt in module rush.provider:\n",
      "\n",
      "async qm_geo_opt(*args: [<class 'pathlib.Path'>, dict[str, ~T]], target: rush.graphql_client.enums.ModuleInstanceTarget | None = <ModuleInstanceTarget.NIX_SSH_GPU: 'NIX_SSH_GPU'>, resources: rush.graphql_client.input_types.ModuleInstanceResourcesInput | None = ModuleInstanceResourcesInput(gpus=0, gpu_mem=None, gpu_mem_units=None, cpus=None, nodes=None, mem=None, mem_units=None, storage=10, storage_units=<MemUnits.MB: 'MB'>, walltime=None, storage_mounts=None), tags: list[str] | None = None, restore: bool | None = None) -> [<class 'pathlib.Path'>]\n",
      "    geometry optimise molecule with quantum accuracy\n",
      "    \n",
      "    Module version: github:talo/qm_geo_opt/2f575ce865e97c1eb5cde26da0265017d95e1940#qm_geo_opt_tengu\n",
      "    \n",
      "    QDX Type Description:\n",
      "    \n",
      "        input: @Conformer;\n",
      "    \n",
      "        parameters: {\n",
      "    \n",
      "        basis_set:string,\n",
      "    \n",
      "        conv_threshold:f64,\n",
      "    \n",
      "        max_iterations:u32,\n",
      "    \n",
      "        use_internal_coords:bool\n",
      "    \n",
      "        } \n",
      "    \n",
      "    ->\n",
      "    \n",
      "        output: @([Conformer],\n",
      "    \n",
      "        {\n",
      "    \n",
      "        converged:bool,\n",
      "    \n",
      "        final_energy:f64,\n",
      "    \n",
      "        final_gradient_error:f64,\n",
      "    \n",
      "        iterations_to_converge:u32\n",
      "    \n",
      "        })\n",
      "    \n",
      "    \n",
      "    \n",
      "    :param input: the input conformer\n",
      "    :param parameters: the parameters for the qm_geo_opt run\n",
      "    :return output: the generated topologies and optimisation result info\n",
      "\n"
     ]
    }
   ],
   "source": [
    "help(client.qm_geo_opt)"
   ]
  },
  {
   "cell_type": "markdown",
   "metadata": {},
   "source": [
    "# 1) Run Geometry Optimisation"
   ]
  },
  {
   "cell_type": "markdown",
   "metadata": {},
   "source": [
    "## 1.0) Create input geometry\n",
    "We will be creating a qdxf conformer object from an unoptimised cyclobutane xyz"
   ]
  },
  {
   "cell_type": "code",
   "execution_count": 69,
   "metadata": {},
   "outputs": [],
   "source": [
    "def xyz_to_qdxf_topology(xyz_data : str):\n",
    "  symbols = []\n",
    "  geometry = []\n",
    "  for line in xyz_data.splitlines()[3:]:\n",
    "    symbol, x, y, z = line.split()\n",
    "    symbols.append(symbol)\n",
    "    geometry.extend([float(x), float(y), float(z)])\n",
    "  return {\n",
    "    \"topology\": {\n",
    "      \"symbols\": symbols,\n",
    "      \"geometry\": geometry\n",
    "    }\n",
    "  }"
   ]
  },
  {
   "cell_type": "code",
   "execution_count": 70,
   "metadata": {},
   "outputs": [],
   "source": [
    "cyclobutane_xyz = \"\"\"\n",
    "12\n",
    "cyclobutane\n",
    "  C     -0.8058     -0.7366      0.0748\n",
    "  C     -0.7395      0.8061     -0.0273\n",
    "  C      0.8059      0.7367     -0.0745\n",
    "  H     -1.2036      1.2228     -0.9269\n",
    "  H     -1.1440      1.3387      0.8393\n",
    "  C      0.7394     -0.8063      0.0271\n",
    "  H      1.2494      1.1143     -1.0010\n",
    "  H      1.3093      1.2267      0.7649\n",
    "  H      1.1448     -1.3373     -0.8404\n",
    "  H      1.2032     -1.2252      0.9261\n",
    "  H     -1.2501     -1.1129      1.0022\n",
    "  H     -1.3087     -1.2276     -0.7648\n",
    "\"\"\""
   ]
  },
  {
   "cell_type": "code",
   "execution_count": 71,
   "metadata": {},
   "outputs": [],
   "source": [
    "cyclobutane_qdxf = xyz_to_qdxf_topology(cyclobutane_xyz)"
   ]
  },
  {
   "cell_type": "code",
   "execution_count": 76,
   "metadata": {},
   "outputs": [],
   "source": [
    "# write the qdxf file to disk\n",
    "cyclobutane_qdxf_input_file = Path(WORK_DIR) / \"cyclobutane.qdxf.json\"\n",
    "with open(cyclobutane_qdxf_input_file, \"w\") as f:\n",
    "  json.dump(cyclobutane_qdxf, f)"
   ]
  },
  {
   "cell_type": "markdown",
   "metadata": {},
   "source": [
    "## 1.1) Create geo opt parameters "
   ]
  },
  {
   "cell_type": "code",
   "execution_count": 77,
   "metadata": {},
   "outputs": [],
   "source": [
    "params = {\n",
    "  \"use_internal_coords\": True,\n",
    "  \"max_iterations\": 100,\n",
    "  \"conv_threshold\": 1e-4,\n",
    "  \"basis_set\": \"cc-pVDZ\"\n",
    "}"
   ]
  },
  {
   "cell_type": "markdown",
   "metadata": {},
   "source": [
    "## 1.1) Call geometry optimisation over input geometry"
   ]
  },
  {
   "cell_type": "code",
   "execution_count": 93,
   "metadata": {},
   "outputs": [
    {
     "name": "stdout",
     "output_type": "stream",
     "text": [
      "2024-01-30 12:03:32,652 - rush - INFO - Argument 3a48b149-7b27-4087-b1c4-28c2e3866b19 is now RESOLVING\n",
      "2024-01-30 12:03:34,449 - rush - INFO - Argument 3a48b149-7b27-4087-b1c4-28c2e3866b19 is now ADMITTED\n",
      "2024-01-30 12:04:03,877 - rush - INFO - Argument 3a48b149-7b27-4087-b1c4-28c2e3866b19 is now DISPATCHED\n"
     ]
    },
    {
     "ename": "Exception",
     "evalue": "(<ModuleFailureReason.RUN: 'RUN'>, ModuleInstanceCommonFailureContext(stdout='', stderr='Error: \"QM geometry optimisation failed with error: WARNING: OpenMP is set to use only 1 thread(s)!\\\\nWARNING: Destructing a running timer.\\\\nWARNING: Destructing a running timer.\\\\nWARNING: Stream used without final sync. This is likely a bug.\\\\nWARNING: Destructing a running timer.\\\\nWARNING: Destructing a running timer.\\\\nWARNING: Destructing a running timer.\\\\n--------------------------------------------------------------------------\\\\nMPI_ABORT was invoked on rank 1 in communicator MPI COMMUNICATOR 3 DUP FROM 0\\\\nwith errorcode 5.\\\\n\\\\nNOTE: invoking MPI_ABORT causes Open MPI to kill all MPI processes.\\\\nYou may or may not see output from other processes, depending on\\\\nexactly when Open MPI kills them.\\\\n--------------------------------------------------------------------------\\\\nterminate called after throwing an instance of \\'std::runtime_error\\'\\\\n  what():  Error running command: export OMP_NUM_THREADS=1 && export EXESS_HDF5_OUTPUT_PATH=./temp/ && export EXESS_OUTPUT_PATH=./temp/ && mpirun -np 2 --bind-to core --map-by ppr:2:node exess ./temp/geo_opt.json\\\\n\"', syserr='/home/ubuntu/.cache/tengu_store/nq_queues/nqdir_5/,18d57e4fa4f.3788947'))",
     "output_type": "error",
     "traceback": [
      "\u001b[0;31m---------------------------------------------------------------------------\u001b[0m",
      "\u001b[0;31mException\u001b[0m                                 Traceback (most recent call last)",
      "Cell \u001b[0;32mIn [93], line 2\u001b[0m\n\u001b[1;32m      1\u001b[0m (geo_opt_out,) \u001b[38;5;241m=\u001b[39m \u001b[38;5;28;01mawait\u001b[39;00m client\u001b[38;5;241m.\u001b[39mqm_geo_opt(cyclobutane_qdxf_input_file, params, target\u001b[38;5;241m=\u001b[39m\u001b[38;5;124m\"\u001b[39m\u001b[38;5;124mNIX_SSH_2_GPU\u001b[39m\u001b[38;5;124m\"\u001b[39m)\n\u001b[0;32m----> 2\u001b[0m \u001b[38;5;28mprint\u001b[39m(\u001b[38;5;28;01mawait\u001b[39;00m geo_opt_out\u001b[38;5;241m.\u001b[39mget())\n",
      "File \u001b[0;32m/usr/local/lib/python3.10/site-packages/rush/provider.py:239\u001b[0m, in \u001b[0;36mBaseProvider.Arg.get\u001b[0;34m(self)\u001b[0m\n\u001b[1;32m    236\u001b[0m     \u001b[38;5;28;01mif\u001b[39;00m remote_arg\u001b[38;5;241m.\u001b[39msource:\n\u001b[1;32m    237\u001b[0m         \u001b[38;5;66;03m# get the failure reason by checking the source module instance\u001b[39;00m\n\u001b[1;32m    238\u001b[0m         module_instance \u001b[38;5;241m=\u001b[39m \u001b[38;5;28;01mawait\u001b[39;00m \u001b[38;5;28mself\u001b[39m\u001b[38;5;241m.\u001b[39mprovider\u001b[38;5;241m.\u001b[39mmodule_instance(remote_arg\u001b[38;5;241m.\u001b[39msource)\n\u001b[0;32m--> 239\u001b[0m         \u001b[38;5;28;01mraise\u001b[39;00m \u001b[38;5;167;01mException\u001b[39;00m(\n\u001b[1;32m    240\u001b[0m             (module_instance\u001b[38;5;241m.\u001b[39mfailure_reason, module_instance\u001b[38;5;241m.\u001b[39mfailure_context)\n\u001b[1;32m    241\u001b[0m         )\n\u001b[1;32m    242\u001b[0m     \u001b[38;5;28;01mraise\u001b[39;00m \u001b[38;5;167;01mException\u001b[39;00m(\u001b[38;5;124m\"\u001b[39m\u001b[38;5;124mArgument was rejected\u001b[39m\u001b[38;5;124m\"\u001b[39m)\n\u001b[1;32m    243\u001b[0m \u001b[38;5;28;01melse\u001b[39;00m:\n",
      "\u001b[0;31mException\u001b[0m: (<ModuleFailureReason.RUN: 'RUN'>, ModuleInstanceCommonFailureContext(stdout='', stderr='Error: \"QM geometry optimisation failed with error: WARNING: OpenMP is set to use only 1 thread(s)!\\\\nWARNING: Destructing a running timer.\\\\nWARNING: Destructing a running timer.\\\\nWARNING: Stream used without final sync. This is likely a bug.\\\\nWARNING: Destructing a running timer.\\\\nWARNING: Destructing a running timer.\\\\nWARNING: Destructing a running timer.\\\\n--------------------------------------------------------------------------\\\\nMPI_ABORT was invoked on rank 1 in communicator MPI COMMUNICATOR 3 DUP FROM 0\\\\nwith errorcode 5.\\\\n\\\\nNOTE: invoking MPI_ABORT causes Open MPI to kill all MPI processes.\\\\nYou may or may not see output from other processes, depending on\\\\nexactly when Open MPI kills them.\\\\n--------------------------------------------------------------------------\\\\nterminate called after throwing an instance of \\'std::runtime_error\\'\\\\n  what():  Error running command: export OMP_NUM_THREADS=1 && export EXESS_HDF5_OUTPUT_PATH=./temp/ && export EXESS_OUTPUT_PATH=./temp/ && mpirun -np 2 --bind-to core --map-by ppr:2:node exess ./temp/geo_opt.json\\\\n\"', syserr='/home/ubuntu/.cache/tengu_store/nq_queues/nqdir_5/,18d57e4fa4f.3788947'))"
     ]
    }
   ],
   "source": [
    "(geo_opt_out,) = await client.qm_geo_opt(cyclobutane_qdxf_input_file, params, target=\"NIX_SSH_GPU\")\n",
    "print(await geo_opt_out.get())"
   ]
  },
  {
   "cell_type": "code",
   "execution_count": null,
   "metadata": {},
   "outputs": [],
   "source": []
  }
 ],
 "metadata": {
  "kernelspec": {
   "display_name": "Python 3",
   "language": "python",
   "name": "python3"
  },
  "language_info": {
   "codemirror_mode": {
    "name": "ipython",
    "version": 3
   },
   "file_extension": ".py",
   "mimetype": "text/x-python",
   "name": "python",
   "nbconvert_exporter": "python",
   "pygments_lexer": "ipython3",
   "version": "3.10.12"
  }
 },
 "nbformat": 4,
 "nbformat_minor": 2
}
