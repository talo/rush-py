{
 "cells": [
  {
   "cell_type": "markdown",
   "id": "0c7513fe",
   "metadata": {},
   "source": [
    "# Run quantum accurate geometry optimisation on a small molecule"
   ]
  },
  {
   "cell_type": "markdown",
   "id": "0a652bd7",
   "metadata": {},
   "source": [
    "This notebook shows how to geometry optimise a small molecule using RIMP2 accurate gradients."
   ]
  },
  {
   "cell_type": "code",
   "execution_count": 1,
   "id": "3182a4ca",
   "metadata": {},
   "outputs": [],
   "source": [
    "import os\n",
    "from glob import glob\n",
    "from pathlib import Path\n",
    "import json\n",
    "\n",
    "import rush"
   ]
  },
  {
   "cell_type": "markdown",
   "id": "0cf2ad7e",
   "metadata": {},
   "source": [
    "## 0) Setup"
   ]
  },
  {
   "cell_type": "code",
   "execution_count": 2,
   "id": "9710ddf8",
   "metadata": {},
   "outputs": [],
   "source": [
    "# Define our project information\n",
    "EXPERIMENT = \"rush qm geo opt notebook\"\n",
    "MOLECULE_NAME = \"cyclobutane\"\n",
    "TAGS = [\"qdx\", EXPERIMENT, MOLECULE_NAME]"
   ]
  },
  {
   "cell_type": "code",
   "execution_count": 3,
   "id": "5769ad94",
   "metadata": {},
   "outputs": [],
   "source": [
    "# |hide\n",
    "WORK_DIR = Path.home() / \"qdx\" / EXPERIMENT\n",
    "\n",
    "if WORK_DIR.exists():\n",
    "    client = rush.Provider(workspace=WORK_DIR)\n",
    "    await client.nuke(remote=False)\n",
    "\n",
    "os.makedirs(WORK_DIR, exist_ok=True)\n",
    "os.makedirs(WORK_DIR / \".rush\", exist_ok=True)\n",
    "import sys\n",
    "\n",
    "os.chdir(WORK_DIR)"
   ]
  },
  {
   "cell_type": "markdown",
   "id": "3dd0f2c1",
   "metadata": {},
   "source": [
    "## 0.1) Initialize our rush client and fetch available module paths"
   ]
  },
  {
   "cell_type": "code",
   "execution_count": 4,
   "id": "2f657948",
   "metadata": {},
   "outputs": [],
   "source": [
    "# By using the `build_provider_with_functions` method, we will also build\n",
    "# helper functions calling each module\n",
    "client = await rush.build_provider_with_functions(batch_tags=TAGS)"
   ]
  },
  {
   "cell_type": "code",
   "execution_count": 5,
   "id": "4f9a42fe-1a06-4881-8b16-95ab304d6529",
   "metadata": {},
   "outputs": [],
   "source": [
    "# |hide\n",
    "client = await rush.build_provider_with_functions(batch_tags=TAGS, restore_by_default=True)"
   ]
  },
  {
   "cell_type": "code",
   "execution_count": 6,
   "id": "f145081a",
   "metadata": {},
   "outputs": [],
   "source": [
    "# |hide\n",
    "client.workspace = WORK_DIR\n",
    "client.config_dir = WORK_DIR / \".rush\""
   ]
  },
  {
   "cell_type": "markdown",
   "id": "51dcbedc",
   "metadata": {},
   "source": [
    "## 0.2) Get qm_geo_opt rush module"
   ]
  },
  {
   "cell_type": "code",
   "execution_count": 7,
   "id": "2be0e5ea",
   "metadata": {},
   "outputs": [],
   "source": [
    "# Get our latest modules as a dict[module_name, module_path]\n",
    "# If a lock file exists, load it so that the run is reproducible\n",
    "# This will be done automatically if you use the `build_provider_with_functions`\n",
    "# method\n",
    "modules = await client.get_latest_module_paths()"
   ]
  },
  {
   "cell_type": "code",
   "execution_count": 8,
   "id": "d6ec818c-249f-4b7e-a8bf-74c4a69d8948",
   "metadata": {},
   "outputs": [
    {
     "name": "stdout",
     "output_type": "stream",
     "text": [
      "auto3d: github:talo/tengu-auto3d/f5f26308f74bde570c870ff0b5bb1be42ac9c712#auto3d_tengu\n",
      "cairo: github:talo/cairo/665b83a4ed8ff5e811fcbd9e55ddf8f21e820aeb#cairo_tengu\n",
      "concat: github:talo/tengu-prelude/efc6d8b3a8cc342cd9866d037abb77dac40a4d56#concat\n",
      "conquest: github:talo/CONQUEST-tengu/c668c2c9f364835237f9052ab4721c29a2e0d7ac#conquest_tengu\n",
      "convert: github:talo/tengu-prelude/efc6d8b3a8cc342cd9866d037abb77dac40a4d56#convert\n",
      "delay: github:talo/tengu-module-example/5140694c86b1417df6a85b87e1d724110f99d191#delay\n",
      "dubai: github:talo/Dubai/f9c420ba9e7fc04e520c67e62201a5f32d174a77#dubai_tengu\n",
      "echo: github:talo/tengu-module-example/b334a851530033b79762c3341bf584f8939feee1#tengu_echo\n",
      "fragment: github:talo/tengu-prelude/efc6d8b3a8cc342cd9866d037abb77dac40a4d56#fragment\n",
      "fragment_aa: github:talo/tengu-prelude/efc6d8b3a8cc342cd9866d037abb77dac40a4d56#fragment_aa\n",
      "gmx: github:talo/gmx_tengu_support/92b92afa4ad344e384d263d829ee1d58da1dc17c#gmx_tengu\n",
      "gmx_em: github:talo/gmx_tengu_support/1c8beb04620306f99157bf700964dd2c476578a7#gmx_em\n",
      "gmx_frame_select: github:talo/gmx_tengu_support/6bd881c6bb32ac85ab9cb9c95d2b16676cc72b7a#gmx_frame_select\n",
      "gmx_frame_select_pdb: github:talo/gmx_tengu_support/6bd881c6bb32ac85ab9cb9c95d2b16676cc72b7a#gmx_frame_select_pdb\n",
      "gmx_mmpbsa: github:talo/gmx_tengu_support/6bd881c6bb32ac85ab9cb9c95d2b16676cc72b7a#gmx_mmpbsa_tengu\n",
      "gmx_pdb: github:talo/gmx_tengu_support/5630231b47abff0bdd767241a9c8ef60e6192d8e#gmx_tengu_pdb\n",
      "gnina: github:talo/gnina/2f8afc6591416c3ac986bc87ee424f9d21548590#gnina_tengu\n",
      "gnina_pdb: github:talo/tengu-gnina/6f97cbd5df44535f439a9f94bb3af3d5d72c933c#gnina_tengu_pdb\n",
      "gypsum_dl: github:talo/gypsum_dl/97f5d845dd68ebe9ccc7d44bb9cc9647f4856f1a#gypsum_dl_tengu\n",
      "hermes_binding: github:talo/tengu-prelude/efc6d8b3a8cc342cd9866d037abb77dac40a4d56#hermes_binding\n",
      "hermes_energy: github:talo/tengu-prelude/e94a09ac64990a91cf1fcd33858d565a3d33ba09#hermes_energy\n",
      "hermes_energy_batch: github:talo/tengu-prelude/10e91b8349fbcf3948956effa91cb918e640cb65#hermes_energy_batch\n",
      "hermes_lattice: github:talo/tengu-prelude/efc6d8b3a8cc342cd9866d037abb77dac40a4d56#hermes_lattice\n",
      "hermes_setonix: github:talo/tengu-prelude/7bc3f5ba41d4f4a20baf44eebb22a9f31cea7b41#hermes_setonix\n",
      "pbsa: github:talo/pbsa-cuda/399ed826b15af36391e7ab9cea93b5e551e784bf#pbsa_tengu\n",
      "pdb2pqr: github:talo/prepare_protein/83bed2ad1f01f495c94518717f9f5b1bd7fe855c#pdb2pqr_tengu\n",
      "pdbfixer: github:talo/tengu-prelude/efc6d8b3a8cc342cd9866d037abb77dac40a4d56#pdbfixer\n",
      "pick_conformer: github:talo/tengu-prelude/efc6d8b3a8cc342cd9866d037abb77dac40a4d56#pick_conformer\n",
      "plip: github:talo/tengu-plip/9a4ff5b9e5fe77f37505c4718d0d63182885c805#plip_tengu\n",
      "prepare_ligand: github:talo/gypsum_dl/04acd1852cb3e2c8d0347e15763926fdf9a93a5d#prepare_ligand_tengu\n",
      "prepare_protein: github:talo/prepare_protein/83bed2ad1f01f495c94518717f9f5b1bd7fe855c#prepare_protein_tengu\n",
      "proton: github:talo/proton/3a8c2dfa04787b9b8a0e81dc0188a85f43b80c86#proton_tengu\n",
      "qm_geo_opt: github:talo/qm_geo_opt/2792fbb364f631e444ea5458dc6b07c9f605c508#qm_geo_opt_tengu\n",
      "qp_collate: github:talo/tengu-prelude/efc6d8b3a8cc342cd9866d037abb77dac40a4d56#qp_collate\n",
      "qp_gen_inputs: github:talo/tengu-prelude/efc6d8b3a8cc342cd9866d037abb77dac40a4d56#qp_gen_inputs\n",
      "rxdock: github:talo/tengu-rxdock/5e2e5b18995f3730e5f77cd4c90b593e862ca974#rxdock_tengu\n",
      "spam: github:talo/tengu-module-example/b334a851530033b79762c3341bf584f8939feee1#spam\n"
     ]
    }
   ],
   "source": [
    "for name, path in sorted(modules.items()):\n",
    "    print(f\"{name}: {path}\")"
   ]
  },
  {
   "cell_type": "code",
   "execution_count": 9,
   "id": "3203fc44",
   "metadata": {},
   "outputs": [
    {
     "name": "stdout",
     "output_type": "stream",
     "text": [
      "Help on function qm_geo_opt in module rush.provider:\n",
      "\n",
      "async qm_geo_opt(*args: *tuple[RushObject[Conformer], Record], target: Optional[Target] = 'NIX_SSH', resources: Optional[Resources] = {'storage': 10, 'storage_units': 'MB', 'gpus': 0}, tags: list[str] | None = None, restore: bool | None = None) -> tuple[RushObject[list[Conformer]], RushObject[Record]]\n",
      "    geometry optimise molecule with quantum accuracy\n",
      "    \n",
      "    Module version:  \n",
      "    `github:talo/qm_geo_opt/2792fbb364f631e444ea5458dc6b07c9f605c508#qm_geo_opt_tengu`\n",
      "    \n",
      "    QDX Type Description:\n",
      "    \n",
      "        input: @Conformer;\n",
      "        parameters: {\n",
      "            basis_set: string,\n",
      "            conv_threshold: f64,\n",
      "            max_iterations: u32,\n",
      "            use_internal_coords: bool\n",
      "        }\n",
      "        ->\n",
      "        conformers: @[Conformer];\n",
      "        geo_opt_results: @{\n",
      "            converged: bool,\n",
      "            final_energy: f64,\n",
      "            final_gradient_error: f64,\n",
      "            iterations_to_converge: u32\n",
      "        }\n",
      "    \n",
      "    :param input: the input conformer\n",
      "    :param parameters: a record containing the following fields;\n",
      "    use_internal_coords - whether to use internal coordinates (faster by less robust)\n",
      "    max_iterations - maximum number of optimisation iterations\n",
      "    conv_threshold - maximum abs gradient sum to converge to (5e-4 recommended)\n",
      "    basis_set - basis set in which to perform optimisation\n",
      "    \n",
      "    :return conformers: a list of optimised conformers (most optimised will be at the end of list)\n",
      "    :return geo_opt_results: the optimisation result info\n",
      "\n"
     ]
    }
   ],
   "source": [
    "help(client.qm_geo_opt)"
   ]
  },
  {
   "cell_type": "markdown",
   "id": "4a51e3aa",
   "metadata": {},
   "source": [
    "# 1) Run Geometry Optimisation"
   ]
  },
  {
   "cell_type": "markdown",
   "id": "2c962187",
   "metadata": {},
   "source": [
    "## 1.0) Create input geometry\n",
    "We will be creating a QDXF Conformer from an unoptimised cyclobutane XYZ"
   ]
  },
  {
   "cell_type": "code",
   "execution_count": 10,
   "id": "bbc62bcc",
   "metadata": {},
   "outputs": [],
   "source": [
    "def xyz_to_qdxf_topology(xyz_data: str):\n",
    "    symbols = []\n",
    "    geometry = []\n",
    "    for line in xyz_data.splitlines()[2:]:\n",
    "        symbol, x, y, z = line.split()\n",
    "        symbols.append(symbol)\n",
    "        geometry.extend([float(x), float(y), float(z)])\n",
    "    return {\"topology\": {\"symbols\": symbols, \"geometry\": geometry}}\n",
    "\n",
    "\n",
    "def qdxf_topology_to_xyz(qdxf_in: dict, name: str):\n",
    "    symbols = qdxf_in[\"topology\"][\"symbols\"]\n",
    "    geometry = qdxf_in[\"topology\"][\"geometry\"]\n",
    "    xyz_data = f\"{len(symbols)}\\n{name}\\n\"\n",
    "    for i in range(len(symbols)):\n",
    "        symbol = symbols[i]\n",
    "        x, y, z = geometry[3 * i : 3 * i + 3]\n",
    "        xyz_data += f\"  {symbol}\"\n",
    "        for coord in [x, y, z]:\n",
    "            xyz_data += \"     \"\n",
    "            if coord >= 0:\n",
    "                xyz_data += \" \"\n",
    "            xyz_data += f\"{(coord):.4f}\"\n",
    "        xyz_data += \"\\n\"\n",
    "    return xyz_data"
   ]
  },
  {
   "cell_type": "code",
   "execution_count": 11,
   "id": "14e6f480",
   "metadata": {},
   "outputs": [],
   "source": [
    "cyclobutane_xyz = \"\"\"12\n",
    "cyclobutane\n",
    "  C     -0.750      0.452     -0.417\n",
    "  C     -0.696     -0.588      0.609\n",
    "  C      0.820     -0.678      0.537\n",
    "  C      0.892      0.417     -0.428\n",
    "  H     -1.285      1.273      0.066\n",
    "  H     -1.328      0.080     -1.263\n",
    "  H     -1.225     -1.507      0.366\n",
    "  H     -1.029     -0.162      1.555\n",
    "  H      1.158     -1.594      0.054\n",
    "  H      1.310     -0.477      1.488\n",
    "  H      1.432      0.009     -1.290\n",
    "  H      1.506      1.236     -0.056\n",
    "\"\"\""
   ]
  },
  {
   "cell_type": "code",
   "execution_count": 12,
   "id": "57259b4e",
   "metadata": {},
   "outputs": [],
   "source": [
    "cyclobutane_qdxf = xyz_to_qdxf_topology(cyclobutane_xyz)"
   ]
  },
  {
   "cell_type": "code",
   "execution_count": 13,
   "id": "8b6f0323",
   "metadata": {},
   "outputs": [],
   "source": [
    "# write the qdxf file to disk\n",
    "cyclobutane_qdxf_input_file = Path(WORK_DIR) / \"cyclobutane.qdxf.json\"\n",
    "with open(cyclobutane_qdxf_input_file, \"w\") as f:\n",
    "    json.dump(cyclobutane_qdxf, f)"
   ]
  },
  {
   "cell_type": "markdown",
   "id": "e743f9e4",
   "metadata": {},
   "source": [
    "## 1.1) Create geometry optimisation parameters"
   ]
  },
  {
   "cell_type": "code",
   "execution_count": 14,
   "id": "134e9f8e",
   "metadata": {},
   "outputs": [],
   "source": [
    "params = {\n",
    "    \"use_internal_coords\": True,\n",
    "    \"max_iterations\": 100,\n",
    "    \"conv_threshold\": 1e-4,\n",
    "    \"basis_set\": \"cc-pVDZ\",\n",
    "}"
   ]
  },
  {
   "cell_type": "markdown",
   "id": "3ff1ca0b",
   "metadata": {},
   "source": [
    "## 1.1) Call geometry optimisation over input geometry"
   ]
  },
  {
   "cell_type": "code",
   "execution_count": null,
   "id": "8c7d5a22",
   "metadata": {},
   "outputs": [
    {
     "name": "stdout",
     "output_type": "stream",
     "text": [
      "2024-02-09 05:17:40,876 - rush - INFO - Argument b2e61a61-f735-4d4d-863c-03aeb9c1f893 is now ModuleInstanceStatus.RESOLVING\n",
      "2024-02-09 05:17:43,103 - rush - INFO - Argument b2e61a61-f735-4d4d-863c-03aeb9c1f893 is now ModuleInstanceStatus.ADMITTED\n",
      "2024-02-09 05:17:55,138 - rush - INFO - Argument b2e61a61-f735-4d4d-863c-03aeb9c1f893 is now ModuleInstanceStatus.DISPATCHED\n",
      "2024-02-09 05:18:01,735 - rush - INFO - Argument b2e61a61-f735-4d4d-863c-03aeb9c1f893 is now ModuleInstanceStatus.RUNNING\n"
     ]
    }
   ],
   "source": [
    "QM_GEO_OPT_RESOURCES = {\n",
    "    \"gpus\": 1,\n",
    "    \"storage\": 1024_000,\n",
    "    \"walltime\": 60,\n",
    "}\n",
    "(geo_opt_out, results) = await client.qm_geo_opt(\n",
    "    cyclobutane_qdxf_input_file, params, target=\"NIX_SSH_3\", resources=QM_GEO_OPT_RESOURCES, restore=False\n",
    ")\n",
    "print(await geo_opt_out.get())"
   ]
  },
  {
   "cell_type": "markdown",
   "id": "6b6b5ee7",
   "metadata": {},
   "source": [
    "## 1.2) Check calculation converged"
   ]
  },
  {
   "cell_type": "code",
   "execution_count": null,
   "id": "f5209813",
   "metadata": {},
   "outputs": [],
   "source": [
    "results_out = await results.get()\n",
    "assert results_out[\"converged\"]"
   ]
  },
  {
   "cell_type": "markdown",
   "id": "327dbb28",
   "metadata": {},
   "source": [
    "# 2) Visualise pre-optimised and optimised geometries"
   ]
  },
  {
   "cell_type": "code",
   "execution_count": null,
   "id": "0e54199a",
   "metadata": {},
   "outputs": [],
   "source": [
    "import py3Dmol"
   ]
  },
  {
   "cell_type": "code",
   "execution_count": null,
   "id": "a902d8b6",
   "metadata": {},
   "outputs": [],
   "source": [
    "pre_opt_view = py3Dmol.view()\n",
    "pre_opt_view.addModel(cyclobutane_xyz, \"xyz\")\n",
    "pre_opt_view.setStyle({\"stick\": {}})\n",
    "pre_opt_view.zoomTo()\n",
    "pre_opt_view.show()"
   ]
  },
  {
   "cell_type": "code",
   "execution_count": null,
   "id": "d62a77e5",
   "metadata": {},
   "outputs": [],
   "source": [
    "topologies_out = await geo_opt_out.get()\n",
    "opt_cyclobutane_xyz = qdxf_topology_to_xyz(\n",
    "    topologies_out[-1], \"optimised cyclobutane\"\n",
    ")\n",
    "\n",
    "opt_view = py3Dmol.view()\n",
    "opt_view.addModel(opt_cyclobutane_xyz, \"xyz\", {})\n",
    "opt_view.setStyle({\"stick\": {}})\n",
    "opt_view.zoomTo()\n",
    "opt_view.show()"
   ]
  }
 ],
 "metadata": {
  "kernelspec": {
   "display_name": "Python 3 (ipykernel)",
   "language": "python",
   "name": "python3"
  },
  "language_info": {
   "codemirror_mode": {
    "name": "ipython",
    "version": 3
   },
   "file_extension": ".py",
   "mimetype": "text/x-python",
   "name": "python",
   "nbconvert_exporter": "python",
   "pygments_lexer": "ipython3",
   "version": "3.11.6"
  }
 },
 "nbformat": 4,
 "nbformat_minor": 5
}
