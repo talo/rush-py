{
 "cells": [
  {
   "cell_type": "markdown",
   "metadata": {},
   "source": [
    "# Run quantum accurate geometry optimisation on a small molecule"
   ]
  },
  {
   "cell_type": "markdown",
   "metadata": {},
   "source": [
    "This notebook shows how to geometry optimise a small molecule using RIMP2 accurate gradients."
   ]
  },
  {
   "cell_type": "code",
   "execution_count": 3,
   "metadata": {},
   "outputs": [],
   "source": [
    "import os\n",
    "from glob import glob\n",
    "from pathlib import Path\n",
    "import json\n",
    "\n",
    "import rush"
   ]
  },
  {
   "cell_type": "markdown",
   "metadata": {},
   "source": [
    "## 0) Setup"
   ]
  },
  {
   "cell_type": "code",
   "execution_count": 5,
   "metadata": {},
   "outputs": [],
   "source": [
    "# Define our project information\n",
    "DESCRIPTION = \"rush-py qm geo opt notebook\"\n",
    "TAGS = [\"qdx\", \"rush-py-v2\", \"demo\", \"qm_geo_opt\"]\n",
    "WORK_DIR = Path.home() / \"qdx\" / \"qm_geo_opt\""
   ]
  },
  {
   "cell_type": "code",
   "execution_count": 6,
   "metadata": {},
   "outputs": [],
   "source": [
    "# |hide\n",
    "if WORK_DIR.exists():\n",
    "    client = rush.Provider(workspace=WORK_DIR)\n",
    "    await client.nuke(remote=True)\n",
    "\n",
    "os.makedirs(WORK_DIR, exist_ok=True)\n",
    "os.makedirs(WORK_DIR / \".rush\", exist_ok=True)\n",
    "import sys\n",
    "os.chdir(WORK_DIR)"
   ]
  },
  {
   "cell_type": "markdown",
   "metadata": {},
   "source": [
    "## 0.1) Initialize our rush client and fetch available module paths"
   ]
  },
  {
   "cell_type": "code",
   "execution_count": 7,
   "metadata": {},
   "outputs": [],
   "source": [
    "# By using the `build_provider_with_functions` method, we will also build helper functions calling each module\n",
    "client = await rush.build_provider_with_functions(\n",
    "    access_token=RUSH_TOKEN, url=RUSH_URL, batch_tags=TAGS\n",
    ")"
   ]
  },
  {
   "cell_type": "code",
   "execution_count": 8,
   "metadata": {},
   "outputs": [],
   "source": [
    "# |hide\n",
    "client.workspace = WORK_DIR\n",
    "client.config_dir = WORK_DIR / \".rush\""
   ]
  },
  {
   "cell_type": "markdown",
   "metadata": {},
   "source": [
    "## 0.2) Get qm_geo_opt rush module"
   ]
  },
  {
   "cell_type": "code",
   "execution_count": 9,
   "metadata": {},
   "outputs": [],
   "source": [
    "# Get our latest modules as a dict[module_name, module_path]\n",
    "# If a lock file exists, load it so that the run is reproducable\n",
    "# This will be done automatically if you use the `build_provider_with_functions` method\n",
    "modules = await client.get_latest_module_paths()"
   ]
  },
  {
   "cell_type": "code",
   "execution_count": 10,
   "metadata": {},
   "outputs": [
    {
     "name": "stdout",
     "output_type": "stream",
     "text": [
      "github:talo/qm_geo_opt/dabb98a630a7c821e2fe2b32ea876c19c8866265#qm_geo_opt_tengu\n"
     ]
    }
   ],
   "source": [
    "module_name = \"qm_geo_opt\"\n",
    "module_path = modules[module_name]\n",
    "print(module_path)"
   ]
  },
  {
   "cell_type": "code",
   "execution_count": 11,
   "metadata": {},
   "outputs": [
    {
     "name": "stdout",
     "output_type": "stream",
     "text": [
      "Help on function qm_geo_opt in module rush.provider:\n",
      "\n",
      "async qm_geo_opt(*args: [<class 'pathlib.Path'>, dict[str, ~T]], target: rush.graphql_client.enums.ModuleInstanceTarget | None = <ModuleInstanceTarget.NIX_SSH_GPU: 'NIX_SSH_GPU'>, resources: rush.graphql_client.input_types.ModuleInstanceResourcesInput | None = ModuleInstanceResourcesInput(gpus=0, gpu_mem=None, gpu_mem_units=None, cpus=None, nodes=None, mem=None, mem_units=None, storage=10, storage_units=<MemUnits.MB: 'MB'>, walltime=None, storage_mounts=None), tags: list[str] | None = None, restore: bool | None = None) -> [<class 'pathlib.Path'>]\n",
      "    geometry optimise molecule with quantum accuracy\n",
      "    \n",
      "    Module version: github:talo/qm_geo_opt/dabb98a630a7c821e2fe2b32ea876c19c8866265#qm_geo_opt_tengu\n",
      "    \n",
      "    QDX Type Description:\n",
      "    \n",
      "        input: @Conformer;\n",
      "    \n",
      "        parameters: {\n",
      "    \n",
      "        basis_set:string,\n",
      "    \n",
      "        conv_threshold:f64,\n",
      "    \n",
      "        max_iterations:u32,\n",
      "    \n",
      "        use_internal_coords:bool\n",
      "    \n",
      "        } \n",
      "    \n",
      "    ->\n",
      "    \n",
      "        output: @([Conformer],\n",
      "    \n",
      "        {\n",
      "    \n",
      "        converged:bool,\n",
      "    \n",
      "        final_energy:f64,\n",
      "    \n",
      "        final_gradient_error:f64,\n",
      "    \n",
      "        iterations_to_converge:u32\n",
      "    \n",
      "        })\n",
      "    \n",
      "    \n",
      "    \n",
      "    :param input: the input conformer\n",
      "    :param parameters: the parameters for the qm_geo_opt run\n",
      "    :return output: the generated topologies and optimisation result info\n",
      "\n"
     ]
    }
   ],
   "source": [
    "help(client.qm_geo_opt)"
   ]
  },
  {
   "cell_type": "markdown",
   "metadata": {},
   "source": [
    "# 1) Run Geometry Optimisation"
   ]
  },
  {
   "cell_type": "markdown",
   "metadata": {},
   "source": [
    "## 1.0) Create input geometry\n",
    "We will be creating a qdxf conformer object from an unoptimised cyclobutane xyz"
   ]
  },
  {
   "cell_type": "code",
   "execution_count": 31,
   "metadata": {},
   "outputs": [],
   "source": [
    "def xyz_to_qdxf_topology(xyz_data : str):\n",
    "  symbols = []\n",
    "  geometry = []\n",
    "  for line in xyz_data.splitlines()[2:]:\n",
    "    symbol, x, y, z = line.split()\n",
    "    symbols.append(symbol)\n",
    "    geometry.extend([float(x), float(y), float(z)])\n",
    "  return {\n",
    "    \"topology\": {\n",
    "      \"symbols\": symbols,\n",
    "      \"geometry\": geometry\n",
    "    }\n",
    "  }\n",
    "\n",
    "def qdxf_topology_to_xyz(qdxf_in : dict, name : str):\n",
    "  symbols = qdxf_in[\"topology\"][\"symbols\"]\n",
    "  geometry = qdxf_in[\"topology\"][\"geometry\"]\n",
    "  xyz_data = f\"{len(symbols)}\\n{name}\\n\"\n",
    "  for i in range(len(symbols)):\n",
    "    symbol = symbols[i]\n",
    "    x, y, z = geometry[3*i:3*i+3]\n",
    "    xyz_data += f\"  {symbol}\"\n",
    "    for coord in [x, y, z]:\n",
    "      xyz_data += \"     \"\n",
    "      if (coord >= 0):\n",
    "        xyz_data += \" \"\n",
    "      xyz_data += f\"{(coord):.4f}\"\n",
    "    xyz_data += \"\\n\"\n",
    "  return xyz_data"
   ]
  },
  {
   "cell_type": "code",
   "execution_count": 18,
   "metadata": {},
   "outputs": [],
   "source": [
    "cyclobutane_xyz = '''12\n",
    "cyclobutane\n",
    "  C     -0.750      0.452     -0.417\n",
    "  C     -0.696     -0.588      0.609\n",
    "  C      0.820     -0.678      0.537\n",
    "  C      0.892      0.417     -0.428\n",
    "  H     -1.285      1.273      0.066\n",
    "  H     -1.328      0.080     -1.263\n",
    "  H     -1.225     -1.507      0.366\n",
    "  H     -1.029     -0.162      1.555\n",
    "  H      1.158     -1.594      0.054\n",
    "  H      1.310     -0.477      1.488\n",
    "  H      1.432      0.009     -1.290\n",
    "  H      1.506      1.236     -0.056\n",
    "'''"
   ]
  },
  {
   "cell_type": "code",
   "execution_count": 19,
   "metadata": {},
   "outputs": [],
   "source": [
    "cyclobutane_qdxf = xyz_to_qdxf_topology(cyclobutane_xyz)"
   ]
  },
  {
   "cell_type": "code",
   "execution_count": 20,
   "metadata": {},
   "outputs": [],
   "source": [
    "# write the qdxf file to disk\n",
    "cyclobutane_qdxf_input_file = Path(WORK_DIR) / \"cyclobutane.qdxf.json\"\n",
    "with open(cyclobutane_qdxf_input_file, \"w\") as f:\n",
    "  json.dump(cyclobutane_qdxf, f)"
   ]
  },
  {
   "cell_type": "markdown",
   "metadata": {},
   "source": [
    "## 1.1) Create geometry optimisation parameters "
   ]
  },
  {
   "cell_type": "code",
   "execution_count": 23,
   "metadata": {},
   "outputs": [],
   "source": [
    "params = {\n",
    "  \"use_internal_coords\": True,\n",
    "  \"max_iterations\": 100,\n",
    "  \"conv_threshold\": 1e-4,\n",
    "  \"basis_set\": \"cc-pVDZ\"\n",
    "}"
   ]
  },
  {
   "cell_type": "markdown",
   "metadata": {},
   "source": [
    "## 1.1) Call geometry optimisation over input geometry"
   ]
  },
  {
   "cell_type": "code",
   "execution_count": 24,
   "metadata": {},
   "outputs": [
    {
     "name": "stdout",
     "output_type": "stream",
     "text": [
      "2024-01-31 20:35:32,560 - rush - INFO - Argument 952046a3-47a3-46dd-ac83-63356e69146e is now RESOLVING\n",
      "2024-01-31 20:35:45,885 - rush - INFO - Argument 952046a3-47a3-46dd-ac83-63356e69146e is now ADMITTED\n",
      "2024-01-31 20:35:58,711 - rush - INFO - Argument 952046a3-47a3-46dd-ac83-63356e69146e is now DISPATCHED\n",
      "2024-01-31 20:36:04,518 - rush - INFO - Argument 952046a3-47a3-46dd-ac83-63356e69146e is now RUNNING\n",
      "2024-01-31 20:36:25,505 - rush - INFO - Argument 952046a3-47a3-46dd-ac83-63356e69146e is now AWAITING_UPLOAD\n",
      "[[{'topology': {'geometry': [-0.67606324, 0.23964196, -0.5981247, -0.7034515, -0.58626497, 0.71332735, 0.8360118, -0.7191075, 0.5885512, 0.81175923, 0.5532161, -0.29659742, -1.3809861, 1.076288, -0.7115693, -0.7614481, -0.42277363, -1.4741267, -1.3121647, -1.5016669, 0.7494691, -0.9682505, 0.054577734, 1.5692675, 1.1001319, -1.6036026, -0.012563882, 1.4435291, -0.71427816, 1.5054237, 1.5178174, 0.62624854, -1.1367724, 0.8981147, 1.4587214, 0.32471547], 'symbols': ['C', 'C', 'C', 'C', 'H', 'H', 'H', 'H', 'H', 'H', 'H', 'H']}}], {'converged': True, 'final_energy': -156.6994470705042, 'final_gradient_error': 6.045209227622736e-05, 'iterations_to_converge': 40}]\n"
     ]
    }
   ],
   "source": [
    "(geo_opt_out,) = await client.qm_geo_opt(cyclobutane_qdxf_input_file, params, target=\"NIX_SSH_GPU\")\n",
    "print(await geo_opt_out.get())"
   ]
  },
  {
   "cell_type": "markdown",
   "metadata": {},
   "source": [
    "## 1.2) Check calculation converged"
   ]
  },
  {
   "cell_type": "code",
   "execution_count": 25,
   "metadata": {},
   "outputs": [],
   "source": [
    "(topologies_out, results_out) = await geo_opt_out.get()\n",
    "assert(results_out[\"converged\"])"
   ]
  },
  {
   "cell_type": "markdown",
   "metadata": {},
   "source": [
    "# 2) Visualise pre-optimised and optimised geometries"
   ]
  },
  {
   "cell_type": "code",
   "execution_count": 32,
   "metadata": {},
   "outputs": [],
   "source": [
    "import py3Dmol"
   ]
  },
  {
   "cell_type": "code",
   "execution_count": 33,
   "metadata": {},
   "outputs": [
    {
     "data": {
      "application/3dmoljs_load.v0": "<div id=\"3dmolviewer_1706693848141548\"  style=\"position: relative; width: 640px; height: 480px;\">\n        <p id=\"3dmolwarning_1706693848141548\" style=\"background-color:#ffcccc;color:black\">You appear to be running in JupyterLab (or JavaScript failed to load for some other reason).  You need to install the 3dmol extension: <br>\n        <tt>jupyter labextension install jupyterlab_3dmol</tt></p>\n        </div>\n<script>\n\nvar loadScriptAsync = function(uri){\n  return new Promise((resolve, reject) => {\n    //this is to ignore the existence of requirejs amd\n    var savedexports, savedmodule;\n    if (typeof exports !== 'undefined') savedexports = exports;\n    else exports = {}\n    if (typeof module !== 'undefined') savedmodule = module;\n    else module = {}\n\n    var tag = document.createElement('script');\n    tag.src = uri;\n    tag.async = true;\n    tag.onload = () => {\n        exports = savedexports;\n        module = savedmodule;\n        resolve();\n    };\n  var firstScriptTag = document.getElementsByTagName('script')[0];\n  firstScriptTag.parentNode.insertBefore(tag, firstScriptTag);\n});\n};\n\nif(typeof $3Dmolpromise === 'undefined') {\n$3Dmolpromise = null;\n  $3Dmolpromise = loadScriptAsync('https://cdnjs.cloudflare.com/ajax/libs/3Dmol/2.0.4/3Dmol-min.js');\n}\n\nvar viewer_1706693848141548 = null;\nvar warn = document.getElementById(\"3dmolwarning_1706693848141548\");\nif(warn) {\n    warn.parentNode.removeChild(warn);\n}\n$3Dmolpromise.then(function() {\nviewer_1706693848141548 = $3Dmol.createViewer(document.getElementById(\"3dmolviewer_1706693848141548\"),{backgroundColor:\"white\"});\nviewer_1706693848141548.zoomTo();\n\tviewer_1706693848141548.addModel(\"12\\ncyclobutane\\n  C     -0.750      0.452     -0.417\\n  C     -0.696     -0.588      0.609\\n  C      0.820     -0.678      0.537\\n  C      0.892      0.417     -0.428\\n  H     -1.285      1.273      0.066\\n  H     -1.328      0.080     -1.263\\n  H     -1.225     -1.507      0.366\\n  H     -1.029     -0.162      1.555\\n  H      1.158     -1.594      0.054\\n  H      1.310     -0.477      1.488\\n  H      1.432      0.009     -1.290\\n  H      1.506      1.236     -0.056\\n\",\"xyz\");\n\tviewer_1706693848141548.setStyle({\"stick\": {}});\n\tviewer_1706693848141548.zoomTo();\nviewer_1706693848141548.render();\n});\n</script>",
      "text/html": [
       "<div id=\"3dmolviewer_1706693848141548\"  style=\"position: relative; width: 640px; height: 480px;\">\n",
       "        <p id=\"3dmolwarning_1706693848141548\" style=\"background-color:#ffcccc;color:black\">You appear to be running in JupyterLab (or JavaScript failed to load for some other reason).  You need to install the 3dmol extension: <br>\n",
       "        <tt>jupyter labextension install jupyterlab_3dmol</tt></p>\n",
       "        </div>\n",
       "<script>\n",
       "\n",
       "var loadScriptAsync = function(uri){\n",
       "  return new Promise((resolve, reject) => {\n",
       "    //this is to ignore the existence of requirejs amd\n",
       "    var savedexports, savedmodule;\n",
       "    if (typeof exports !== 'undefined') savedexports = exports;\n",
       "    else exports = {}\n",
       "    if (typeof module !== 'undefined') savedmodule = module;\n",
       "    else module = {}\n",
       "\n",
       "    var tag = document.createElement('script');\n",
       "    tag.src = uri;\n",
       "    tag.async = true;\n",
       "    tag.onload = () => {\n",
       "        exports = savedexports;\n",
       "        module = savedmodule;\n",
       "        resolve();\n",
       "    };\n",
       "  var firstScriptTag = document.getElementsByTagName('script')[0];\n",
       "  firstScriptTag.parentNode.insertBefore(tag, firstScriptTag);\n",
       "});\n",
       "};\n",
       "\n",
       "if(typeof $3Dmolpromise === 'undefined') {\n",
       "$3Dmolpromise = null;\n",
       "  $3Dmolpromise = loadScriptAsync('https://cdnjs.cloudflare.com/ajax/libs/3Dmol/2.0.4/3Dmol-min.js');\n",
       "}\n",
       "\n",
       "var viewer_1706693848141548 = null;\n",
       "var warn = document.getElementById(\"3dmolwarning_1706693848141548\");\n",
       "if(warn) {\n",
       "    warn.parentNode.removeChild(warn);\n",
       "}\n",
       "$3Dmolpromise.then(function() {\n",
       "viewer_1706693848141548 = $3Dmol.createViewer(document.getElementById(\"3dmolviewer_1706693848141548\"),{backgroundColor:\"white\"});\n",
       "viewer_1706693848141548.zoomTo();\n",
       "\tviewer_1706693848141548.addModel(\"12\\ncyclobutane\\n  C     -0.750      0.452     -0.417\\n  C     -0.696     -0.588      0.609\\n  C      0.820     -0.678      0.537\\n  C      0.892      0.417     -0.428\\n  H     -1.285      1.273      0.066\\n  H     -1.328      0.080     -1.263\\n  H     -1.225     -1.507      0.366\\n  H     -1.029     -0.162      1.555\\n  H      1.158     -1.594      0.054\\n  H      1.310     -0.477      1.488\\n  H      1.432      0.009     -1.290\\n  H      1.506      1.236     -0.056\\n\",\"xyz\");\n",
       "\tviewer_1706693848141548.setStyle({\"stick\": {}});\n",
       "\tviewer_1706693848141548.zoomTo();\n",
       "viewer_1706693848141548.render();\n",
       "});\n",
       "</script>"
      ]
     },
     "metadata": {},
     "output_type": "display_data"
    }
   ],
   "source": [
    "pre_opt_view = py3Dmol.view()\n",
    "pre_opt_view.addModel(cyclobutane_xyz, \"xyz\")\n",
    "pre_opt_view.setStyle({'stick':{}})\n",
    "pre_opt_view.zoomTo()\n",
    "pre_opt_view.show()"
   ]
  },
  {
   "cell_type": "code",
   "execution_count": 36,
   "metadata": {},
   "outputs": [
    {
     "data": {
      "application/3dmoljs_load.v0": "<div id=\"3dmolviewer_1706693850152537\"  style=\"position: relative; width: 640px; height: 480px;\">\n        <p id=\"3dmolwarning_1706693850152537\" style=\"background-color:#ffcccc;color:black\">You appear to be running in JupyterLab (or JavaScript failed to load for some other reason).  You need to install the 3dmol extension: <br>\n        <tt>jupyter labextension install jupyterlab_3dmol</tt></p>\n        </div>\n<script>\n\nvar loadScriptAsync = function(uri){\n  return new Promise((resolve, reject) => {\n    //this is to ignore the existence of requirejs amd\n    var savedexports, savedmodule;\n    if (typeof exports !== 'undefined') savedexports = exports;\n    else exports = {}\n    if (typeof module !== 'undefined') savedmodule = module;\n    else module = {}\n\n    var tag = document.createElement('script');\n    tag.src = uri;\n    tag.async = true;\n    tag.onload = () => {\n        exports = savedexports;\n        module = savedmodule;\n        resolve();\n    };\n  var firstScriptTag = document.getElementsByTagName('script')[0];\n  firstScriptTag.parentNode.insertBefore(tag, firstScriptTag);\n});\n};\n\nif(typeof $3Dmolpromise === 'undefined') {\n$3Dmolpromise = null;\n  $3Dmolpromise = loadScriptAsync('https://cdnjs.cloudflare.com/ajax/libs/3Dmol/2.0.4/3Dmol-min.js');\n}\n\nvar viewer_1706693850152537 = null;\nvar warn = document.getElementById(\"3dmolwarning_1706693850152537\");\nif(warn) {\n    warn.parentNode.removeChild(warn);\n}\n$3Dmolpromise.then(function() {\nviewer_1706693850152537 = $3Dmol.createViewer(document.getElementById(\"3dmolviewer_1706693850152537\"),{backgroundColor:\"white\"});\nviewer_1706693850152537.zoomTo();\n\tviewer_1706693850152537.addModel(\"12\\noptimised cyclobutane\\n  C     -0.6761      0.2396     -0.5981\\n  C     -0.7035     -0.5863      0.7133\\n  C      0.8360     -0.7191      0.5886\\n  C      0.8118      0.5532     -0.2966\\n  H     -1.3810      1.0763     -0.7116\\n  H     -0.7614     -0.4228     -1.4741\\n  H     -1.3122     -1.5017      0.7495\\n  H     -0.9683      0.0546      1.5693\\n  H      1.1001     -1.6036     -0.0126\\n  H      1.4435     -0.7143      1.5054\\n  H      1.5178      0.6262     -1.1368\\n  H      0.8981      1.4587      0.3247\\n\",\"xyz\",{});\n\tviewer_1706693850152537.setStyle({\"stick\": {}});\n\tviewer_1706693850152537.zoomTo();\nviewer_1706693850152537.render();\n});\n</script>",
      "text/html": [
       "<div id=\"3dmolviewer_1706693850152537\"  style=\"position: relative; width: 640px; height: 480px;\">\n",
       "        <p id=\"3dmolwarning_1706693850152537\" style=\"background-color:#ffcccc;color:black\">You appear to be running in JupyterLab (or JavaScript failed to load for some other reason).  You need to install the 3dmol extension: <br>\n",
       "        <tt>jupyter labextension install jupyterlab_3dmol</tt></p>\n",
       "        </div>\n",
       "<script>\n",
       "\n",
       "var loadScriptAsync = function(uri){\n",
       "  return new Promise((resolve, reject) => {\n",
       "    //this is to ignore the existence of requirejs amd\n",
       "    var savedexports, savedmodule;\n",
       "    if (typeof exports !== 'undefined') savedexports = exports;\n",
       "    else exports = {}\n",
       "    if (typeof module !== 'undefined') savedmodule = module;\n",
       "    else module = {}\n",
       "\n",
       "    var tag = document.createElement('script');\n",
       "    tag.src = uri;\n",
       "    tag.async = true;\n",
       "    tag.onload = () => {\n",
       "        exports = savedexports;\n",
       "        module = savedmodule;\n",
       "        resolve();\n",
       "    };\n",
       "  var firstScriptTag = document.getElementsByTagName('script')[0];\n",
       "  firstScriptTag.parentNode.insertBefore(tag, firstScriptTag);\n",
       "});\n",
       "};\n",
       "\n",
       "if(typeof $3Dmolpromise === 'undefined') {\n",
       "$3Dmolpromise = null;\n",
       "  $3Dmolpromise = loadScriptAsync('https://cdnjs.cloudflare.com/ajax/libs/3Dmol/2.0.4/3Dmol-min.js');\n",
       "}\n",
       "\n",
       "var viewer_1706693850152537 = null;\n",
       "var warn = document.getElementById(\"3dmolwarning_1706693850152537\");\n",
       "if(warn) {\n",
       "    warn.parentNode.removeChild(warn);\n",
       "}\n",
       "$3Dmolpromise.then(function() {\n",
       "viewer_1706693850152537 = $3Dmol.createViewer(document.getElementById(\"3dmolviewer_1706693850152537\"),{backgroundColor:\"white\"});\n",
       "viewer_1706693850152537.zoomTo();\n",
       "\tviewer_1706693850152537.addModel(\"12\\noptimised cyclobutane\\n  C     -0.6761      0.2396     -0.5981\\n  C     -0.7035     -0.5863      0.7133\\n  C      0.8360     -0.7191      0.5886\\n  C      0.8118      0.5532     -0.2966\\n  H     -1.3810      1.0763     -0.7116\\n  H     -0.7614     -0.4228     -1.4741\\n  H     -1.3122     -1.5017      0.7495\\n  H     -0.9683      0.0546      1.5693\\n  H      1.1001     -1.6036     -0.0126\\n  H      1.4435     -0.7143      1.5054\\n  H      1.5178      0.6262     -1.1368\\n  H      0.8981      1.4587      0.3247\\n\",\"xyz\",{});\n",
       "\tviewer_1706693850152537.setStyle({\"stick\": {}});\n",
       "\tviewer_1706693850152537.zoomTo();\n",
       "viewer_1706693850152537.render();\n",
       "});\n",
       "</script>"
      ]
     },
     "metadata": {},
     "output_type": "display_data"
    }
   ],
   "source": [
    "(topologies_out, _) = await geo_opt_out.get()\n",
    "opt_cyclobutane_xyz = qdxf_topology_to_xyz(topologies_out[-1], \"optimised cyclobutane\")\n",
    "\n",
    "opt_view = py3Dmol.view()\n",
    "opt_view.addModel(opt_cyclobutane_xyz, \"xyz\", {})\n",
    "opt_view.setStyle({'stick':{}})\n",
    "opt_view.zoomTo()\n",
    "opt_view.show()"
   ]
  }
 ],
 "metadata": {
  "kernelspec": {
   "display_name": "Python 3",
   "language": "python",
   "name": "python3"
  },
  "language_info": {
   "codemirror_mode": {
    "name": "ipython",
    "version": 3
   },
   "file_extension": ".py",
   "mimetype": "text/x-python",
   "name": "python",
   "nbconvert_exporter": "python",
   "pygments_lexer": "ipython3",
   "version": "3.10.12"
  }
 },
 "nbformat": 4,
 "nbformat_minor": 2
}
