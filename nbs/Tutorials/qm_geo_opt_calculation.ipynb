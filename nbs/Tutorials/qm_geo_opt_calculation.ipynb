{
 "cells": [
  {
   "cell_type": "markdown",
   "metadata": {},
   "source": [
    "# Run quantum accurate geometry optimisation on a small molecule"
   ]
  },
  {
   "cell_type": "markdown",
   "metadata": {},
   "source": [
    "This notebook shows how to geometry optimise a small molecule using RIMP2 accurate gradients."
   ]
  },
  {
   "cell_type": "code",
   "execution_count": 1,
   "metadata": {},
   "outputs": [],
   "source": [
    "import os\n",
    "from glob import glob\n",
    "from pathlib import Path\n",
    "import json\n",
    "\n",
    "import rush"
   ]
  },
  {
   "cell_type": "markdown",
   "metadata": {},
   "source": [
    "## 0) Setup"
   ]
  },
  {
   "cell_type": "code",
   "execution_count": 2,
   "metadata": {},
   "outputs": [],
   "source": [
    "# Define our project information\n",
    "DESCRIPTION = \"rush-py qm geo opt notebook\"\n",
    "TAGS = [\"qdx\", \"rush-py-v2\", \"demo\", \"qm_geo_opt\"]\n",
    "WORK_DIR = Path.home() / \"qdx\" / \"qm_geo_opt\""
   ]
  },
  {
   "cell_type": "code",
   "execution_count": 3,
   "metadata": {},
   "outputs": [],
   "source": [
    "# |hide\n",
    "if WORK_DIR.exists():\n",
    "    client = rush.Provider(workspace=WORK_DIR)\n",
    "    await client.nuke(remote=True)\n",
    "\n",
    "os.makedirs(WORK_DIR, exist_ok=True)\n",
    "os.makedirs(WORK_DIR / \".rush\", exist_ok=True)\n",
    "import sys\n",
    "os.chdir(WORK_DIR)"
   ]
  },
  {
   "cell_type": "markdown",
   "metadata": {},
   "source": [
    "## 0.1) Initialize our rush client and fetch available module paths"
   ]
  },
  {
   "cell_type": "code",
   "execution_count": 6,
   "metadata": {},
   "outputs": [],
   "source": [
    "# By using the `build_provider_with_functions` method, we will also build helper functions calling each module\n",
    "client = await rush.build_provider_with_functions(\n",
    "    access_token=RUSH_TOKEN, url=RUSH_URL, batch_tags=TAGS\n",
    ")"
   ]
  },
  {
   "cell_type": "code",
   "execution_count": 7,
   "metadata": {},
   "outputs": [],
   "source": [
    "# |hide\n",
    "client.workspace = WORK_DIR\n",
    "client.config_dir = WORK_DIR / \".rush\""
   ]
  },
  {
   "cell_type": "markdown",
   "metadata": {},
   "source": [
    "## 0.2) Get qm_geo_opt rush module"
   ]
  },
  {
   "cell_type": "code",
   "execution_count": 8,
   "metadata": {},
   "outputs": [],
   "source": [
    "# Get our latest modules as a dict[module_name, module_path]\n",
    "# If a lock file exists, load it so that the run is reproducable\n",
    "# This will be done automatically if you use the `build_provider_with_functions` method\n",
    "modules = await client.get_latest_module_paths()"
   ]
  },
  {
   "cell_type": "code",
   "execution_count": 9,
   "metadata": {},
   "outputs": [
    {
     "name": "stdout",
     "output_type": "stream",
     "text": [
      "github:talo/qm_geo_opt/416a746889e5f67e7a1505812b64c16c0a0c1f87#qm_geo_opt_tengu\n"
     ]
    }
   ],
   "source": [
    "module_name = \"qm_geo_opt\"\n",
    "module_path = modules[module_name]\n",
    "print(module_path)"
   ]
  },
  {
   "cell_type": "code",
   "execution_count": 10,
   "metadata": {},
   "outputs": [
    {
     "name": "stdout",
     "output_type": "stream",
     "text": [
      "Help on function qm_geo_opt in module rush.provider:\n",
      "\n",
      "async qm_geo_opt(*args: [<class 'pathlib.Path'>, dict[str, ~T]], target: rush.graphql_client.enums.ModuleInstanceTarget | None = <ModuleInstanceTarget.NIX_SSH_GPU: 'NIX_SSH_GPU'>, resources: rush.graphql_client.input_types.ModuleInstanceResourcesInput | None = ModuleInstanceResourcesInput(gpus=0, gpu_mem=None, gpu_mem_units=None, cpus=None, nodes=None, mem=None, mem_units=None, storage=10, storage_units=<MemUnits.MB: 'MB'>, walltime=None, storage_mounts=None), tags: list[str] | None = None, restore: bool | None = None) -> [<class 'pathlib.Path'>]\n",
      "    geometry optimise molecule with quantum accuracy\n",
      "    \n",
      "    Module version: github:talo/qm_geo_opt/416a746889e5f67e7a1505812b64c16c0a0c1f87#qm_geo_opt_tengu\n",
      "    \n",
      "    QDX Type Description:\n",
      "    \n",
      "        input: @Conformer;\n",
      "    \n",
      "        parameters: {\n",
      "    \n",
      "        basis_set:string,\n",
      "    \n",
      "        conv_threshold:f64,\n",
      "    \n",
      "        max_iterations:u32,\n",
      "    \n",
      "        use_internal_coords:bool\n",
      "    \n",
      "        } \n",
      "    \n",
      "    ->\n",
      "    \n",
      "        output: @([Conformer],\n",
      "    \n",
      "        {\n",
      "    \n",
      "        converged:bool,\n",
      "    \n",
      "        final_energy:f64,\n",
      "    \n",
      "        final_gradient_error:f64,\n",
      "    \n",
      "        iterations_to_converge:u32\n",
      "    \n",
      "        })\n",
      "    \n",
      "    \n",
      "    \n",
      "    :param input: the input conformer\n",
      "    :param parameters: the parameters for the qm_geo_opt run\n",
      "    :return output: the generated topologies and optimisation result info\n",
      "\n"
     ]
    }
   ],
   "source": [
    "help(client.qm_geo_opt)"
   ]
  },
  {
   "cell_type": "markdown",
   "metadata": {},
   "source": [
    "# 1) Run Geometry Optimisation"
   ]
  },
  {
   "cell_type": "markdown",
   "metadata": {},
   "source": [
    "## 1.0) Create input geometry\n",
    "We will be creating a qdxf conformer object from an unoptimised cyclobutane xyz"
   ]
  },
  {
   "cell_type": "code",
   "execution_count": 11,
   "metadata": {},
   "outputs": [],
   "source": [
    "def xyz_to_qdxf_topology(xyz_data : str):\n",
    "  symbols = []\n",
    "  geometry = []\n",
    "  for line in xyz_data.splitlines()[3:]:\n",
    "    symbol, x, y, z = line.split()\n",
    "    symbols.append(symbol)\n",
    "    geometry.extend([float(x), float(y), float(z)])\n",
    "  return {\n",
    "    \"topology\": {\n",
    "      \"symbols\": symbols,\n",
    "      \"geometry\": geometry\n",
    "    }\n",
    "  }\n",
    "\n",
    "def qdxf_topology_to_xyz(qdxf_in : dict, name : str):\n",
    "  symbols = qdxf_in[\"topology\"][\"symbols\"]\n",
    "  geometry = qdxf_in[\"topology\"][\"geometry\"]\n",
    "  xyz_data = f\"{len(symbols)}\\n{name}\\n\"\n",
    "  for i in range(len(symbols)):\n",
    "    symbol = symbols[i]\n",
    "    x, y, z = geometry[3*i:3*i+3]\n",
    "    xyz_data += f\"  {symbol}\"\n",
    "    for coord in [x, y, z]:\n",
    "      xyz_data += \"     \"\n",
    "      if (coord >= 0):\n",
    "        xyz_data += \" \"\n",
    "      xyz_data += f\"{(10 * coord):.4f}\"\n",
    "    xyz_data += \"\\n\"\n",
    "  return xyz_data"
   ]
  },
  {
   "cell_type": "code",
   "execution_count": 33,
   "metadata": {},
   "outputs": [],
   "source": [
    "cyclobutane_xyz = '''12\n",
    "cyclobutane\n",
    "  C     -0.750      0.452     -0.417\n",
    "  C     -0.696     -0.588      0.609\n",
    "  C      0.820     -0.678      0.537\n",
    "  C      0.892      0.417     -0.428\n",
    "  H     -1.285      1.273      0.066\n",
    "  H     -1.328      0.080     -1.263\n",
    "  H     -1.225     -1.507      0.366\n",
    "  H     -1.029     -0.162      1.555\n",
    "  H      1.158     -1.594      0.054\n",
    "  H      1.310     -0.477      1.488\n",
    "  H      1.432      0.009     -1.290\n",
    "  H      1.506      1.236     -0.056\n",
    "'''"
   ]
  },
  {
   "cell_type": "code",
   "execution_count": 34,
   "metadata": {},
   "outputs": [],
   "source": [
    "cyclobutane_qdxf = xyz_to_qdxf_topology(cyclobutane_xyz)"
   ]
  },
  {
   "cell_type": "code",
   "execution_count": 35,
   "metadata": {},
   "outputs": [],
   "source": [
    "# write the qdxf file to disk\n",
    "cyclobutane_qdxf_input_file = Path(WORK_DIR) / \"cyclobutane.qdxf.json\"\n",
    "with open(cyclobutane_qdxf_input_file, \"w\") as f:\n",
    "  json.dump(cyclobutane_qdxf, f)"
   ]
  },
  {
   "cell_type": "markdown",
   "metadata": {},
   "source": [
    "## 1.1) Create geometry optimisation parameters "
   ]
  },
  {
   "cell_type": "code",
   "execution_count": 41,
   "metadata": {},
   "outputs": [],
   "source": [
    "params = {\n",
    "  \"use_internal_coords\": True,\n",
    "  \"max_iterations\": 100,\n",
    "  \"conv_threshold\": 1e-4,\n",
    "  \"basis_set\": \"STO-3G\"\n",
    "}"
   ]
  },
  {
   "cell_type": "markdown",
   "metadata": {},
   "source": [
    "## 1.1) Call geometry optimisation over input geometry"
   ]
  },
  {
   "cell_type": "code",
   "execution_count": 42,
   "metadata": {},
   "outputs": [
    {
     "name": "stdout",
     "output_type": "stream",
     "text": [
      "2024-01-30 13:54:35,088 - rush - INFO - Argument f2d15c6f-59cc-425e-8969-f7922365199b is now RESOLVING\n",
      "2024-01-30 13:54:44,964 - rush - INFO - Argument f2d15c6f-59cc-425e-8969-f7922365199b is now ADMITTED\n",
      "2024-01-30 13:54:57,625 - rush - INFO - Argument f2d15c6f-59cc-425e-8969-f7922365199b is now DISPATCHED\n"
     ]
    },
    {
     "ename": "Exception",
     "evalue": "(<ModuleFailureReason.RUN: 'RUN'>, ModuleInstanceCommonFailureContext(stdout='\\nWriting \"/atom_labels\" to: \"./temp/temp_geo_opt.hdf5\"\\n/build/n7ynpjxm49wr9165i7nj7fdmfp3n7sk2-source/src/methods/geometry_optimisation/coordinate_systems/internal_system.cpp L194:\\n\\tAssertion \\'is_fully_connected(topology, internal_coords)\\' failed: interfragment coordinates not implemented\\nSkipping MPI win free due to uncaught exception\\n********************************************************************************\\nA runtime error has occurred on rank 1!\\nThe error message is printed below:\\n/build/n7ynpjxm49wr9165i7nj7fdmfp3n7sk2-source/src/methods/geometry_optimisation/coordinate_systems/internal_system.cpp L194:\\n\\tAssertion \\'is_fully_connected(topology, internal_coords)\\' failed: interfragment coordinates not implemented\\n********************************************************************************', stderr='--------------------------------------------------------------------------\\nMPI_ABORT was invoked on rank 1 in communicator MPI COMMUNICATOR 3 DUP FROM 0\\nwith errorcode 5.\\n\\nNOTE: invoking MPI_ABORT causes Open MPI to kill all MPI processes.\\nYou may or may not see output from other processes, depending on\\nexactly when Open MPI kills them.\\n--------------------------------------------------------------------------\\nterminate called after throwing an instance of \\'std::runtime_error\\'\\n  what():  Error running command: export OMP_NUM_THREADS=1 && export EXESS_HDF5_OUTPUT_PATH=./temp/ && export EXESS_OUTPUT_PATH=./temp/ && mpirun -np 2 --bind-to core --map-by ppr:2:node exess ./temp/geo_opt.json\\nError: \"QM geometry optimisation failed with error: \"', syserr='/home/ryan/.cache/tengu_store/nq_queues/nqdir_1/,18d584a7e7b.1437748'))",
     "output_type": "error",
     "traceback": [
      "\u001b[0;31m---------------------------------------------------------------------------\u001b[0m",
      "\u001b[0;31mException\u001b[0m                                 Traceback (most recent call last)",
      "Cell \u001b[0;32mIn [42], line 2\u001b[0m\n\u001b[1;32m      1\u001b[0m (geo_opt_out,) \u001b[38;5;241m=\u001b[39m \u001b[38;5;28;01mawait\u001b[39;00m client\u001b[38;5;241m.\u001b[39mqm_geo_opt(cyclobutane_qdxf_input_file, params, target\u001b[38;5;241m=\u001b[39m\u001b[38;5;124m\"\u001b[39m\u001b[38;5;124mNIX_SSH_GPU\u001b[39m\u001b[38;5;124m\"\u001b[39m)\n\u001b[0;32m----> 2\u001b[0m \u001b[38;5;28mprint\u001b[39m(\u001b[38;5;28;01mawait\u001b[39;00m geo_opt_out\u001b[38;5;241m.\u001b[39mget())\n",
      "File \u001b[0;32m/usr/local/lib/python3.10/site-packages/rush/provider.py:239\u001b[0m, in \u001b[0;36mBaseProvider.Arg.get\u001b[0;34m(self)\u001b[0m\n\u001b[1;32m    236\u001b[0m     \u001b[38;5;28;01mif\u001b[39;00m remote_arg\u001b[38;5;241m.\u001b[39msource:\n\u001b[1;32m    237\u001b[0m         \u001b[38;5;66;03m# get the failure reason by checking the source module instance\u001b[39;00m\n\u001b[1;32m    238\u001b[0m         module_instance \u001b[38;5;241m=\u001b[39m \u001b[38;5;28;01mawait\u001b[39;00m \u001b[38;5;28mself\u001b[39m\u001b[38;5;241m.\u001b[39mprovider\u001b[38;5;241m.\u001b[39mmodule_instance(remote_arg\u001b[38;5;241m.\u001b[39msource)\n\u001b[0;32m--> 239\u001b[0m         \u001b[38;5;28;01mraise\u001b[39;00m \u001b[38;5;167;01mException\u001b[39;00m(\n\u001b[1;32m    240\u001b[0m             (module_instance\u001b[38;5;241m.\u001b[39mfailure_reason, module_instance\u001b[38;5;241m.\u001b[39mfailure_context)\n\u001b[1;32m    241\u001b[0m         )\n\u001b[1;32m    242\u001b[0m     \u001b[38;5;28;01mraise\u001b[39;00m \u001b[38;5;167;01mException\u001b[39;00m(\u001b[38;5;124m\"\u001b[39m\u001b[38;5;124mArgument was rejected\u001b[39m\u001b[38;5;124m\"\u001b[39m)\n\u001b[1;32m    243\u001b[0m \u001b[38;5;28;01melse\u001b[39;00m:\n",
      "\u001b[0;31mException\u001b[0m: (<ModuleFailureReason.RUN: 'RUN'>, ModuleInstanceCommonFailureContext(stdout='\\nWriting \"/atom_labels\" to: \"./temp/temp_geo_opt.hdf5\"\\n/build/n7ynpjxm49wr9165i7nj7fdmfp3n7sk2-source/src/methods/geometry_optimisation/coordinate_systems/internal_system.cpp L194:\\n\\tAssertion \\'is_fully_connected(topology, internal_coords)\\' failed: interfragment coordinates not implemented\\nSkipping MPI win free due to uncaught exception\\n********************************************************************************\\nA runtime error has occurred on rank 1!\\nThe error message is printed below:\\n/build/n7ynpjxm49wr9165i7nj7fdmfp3n7sk2-source/src/methods/geometry_optimisation/coordinate_systems/internal_system.cpp L194:\\n\\tAssertion \\'is_fully_connected(topology, internal_coords)\\' failed: interfragment coordinates not implemented\\n********************************************************************************', stderr='--------------------------------------------------------------------------\\nMPI_ABORT was invoked on rank 1 in communicator MPI COMMUNICATOR 3 DUP FROM 0\\nwith errorcode 5.\\n\\nNOTE: invoking MPI_ABORT causes Open MPI to kill all MPI processes.\\nYou may or may not see output from other processes, depending on\\nexactly when Open MPI kills them.\\n--------------------------------------------------------------------------\\nterminate called after throwing an instance of \\'std::runtime_error\\'\\n  what():  Error running command: export OMP_NUM_THREADS=1 && export EXESS_HDF5_OUTPUT_PATH=./temp/ && export EXESS_OUTPUT_PATH=./temp/ && mpirun -np 2 --bind-to core --map-by ppr:2:node exess ./temp/geo_opt.json\\nError: \"QM geometry optimisation failed with error: \"', syserr='/home/ryan/.cache/tengu_store/nq_queues/nqdir_1/,18d584a7e7b.1437748'))"
     ]
    }
   ],
   "source": [
    "(geo_opt_out,) = await client.qm_geo_opt(cyclobutane_qdxf_input_file, params, target=\"NIX_SSH_GPU\")\n",
    "print(await geo_opt_out.get())"
   ]
  },
  {
   "cell_type": "markdown",
   "metadata": {},
   "source": [
    "## 1.2) Check calculation converged"
   ]
  },
  {
   "cell_type": "code",
   "execution_count": 24,
   "metadata": {},
   "outputs": [
    {
     "ename": "Exception",
     "evalue": "(<ModuleFailureReason.RUN: 'RUN'>, ModuleInstanceCommonFailureContext(stdout='\\nWriting \"/atom_labels\" to: \"./temp/temp_geo_opt.hdf5\"\\n/build/n7ynpjxm49wr9165i7nj7fdmfp3n7sk2-source/src/methods/geometry_optimisation/coordinate_systems/internal_system.cpp L194:\\n\\tAssertion \\'is_fully_connected(topology, internal_coords)\\' failed: interfragment coordinates not implemented\\nSkipping MPI win free due to uncaught exception\\n********************************************************************************\\nA runtime error has occurred on rank 1!\\nThe error message is printed below:\\n/build/n7ynpjxm49wr9165i7nj7fdmfp3n7sk2-source/src/methods/geometry_optimisation/coordinate_systems/internal_system.cpp L194:\\n\\tAssertion \\'is_fully_connected(topology, internal_coords)\\' failed: interfragment coordinates not implemented\\n********************************************************************************', stderr='--------------------------------------------------------------------------\\nMPI_ABORT was invoked on rank 1 in communicator MPI COMMUNICATOR 3 DUP FROM 0\\nwith errorcode 5.\\n\\nNOTE: invoking MPI_ABORT causes Open MPI to kill all MPI processes.\\nYou may or may not see output from other processes, depending on\\nexactly when Open MPI kills them.\\n--------------------------------------------------------------------------\\nterminate called after throwing an instance of \\'std::runtime_error\\'\\n  what():  Error running command: export OMP_NUM_THREADS=1 && export EXESS_HDF5_OUTPUT_PATH=./temp/ && export EXESS_OUTPUT_PATH=./temp/ && mpirun -np 2 --bind-to core --map-by ppr:2:node exess ./temp/geo_opt.json\\nError: \"QM geometry optimisation failed with error: \"', syserr='/home/ryan/.cache/tengu_store/nq_queues/nqdir_1/,18d584088c2.1362247'))",
     "output_type": "error",
     "traceback": [
      "\u001b[0;31m---------------------------------------------------------------------------\u001b[0m",
      "\u001b[0;31mException\u001b[0m                                 Traceback (most recent call last)",
      "Cell \u001b[0;32mIn [24], line 1\u001b[0m\n\u001b[0;32m----> 1\u001b[0m (topologies_out, results_out) \u001b[38;5;241m=\u001b[39m \u001b[38;5;28;01mawait\u001b[39;00m geo_opt_out\u001b[38;5;241m.\u001b[39mget()\n\u001b[1;32m      2\u001b[0m \u001b[38;5;28;01massert\u001b[39;00m(results_out[\u001b[38;5;124m\"\u001b[39m\u001b[38;5;124mconverged\u001b[39m\u001b[38;5;124m\"\u001b[39m])\n",
      "File \u001b[0;32m/usr/local/lib/python3.10/site-packages/rush/provider.py:239\u001b[0m, in \u001b[0;36mBaseProvider.Arg.get\u001b[0;34m(self)\u001b[0m\n\u001b[1;32m    236\u001b[0m     \u001b[38;5;28;01mif\u001b[39;00m remote_arg\u001b[38;5;241m.\u001b[39msource:\n\u001b[1;32m    237\u001b[0m         \u001b[38;5;66;03m# get the failure reason by checking the source module instance\u001b[39;00m\n\u001b[1;32m    238\u001b[0m         module_instance \u001b[38;5;241m=\u001b[39m \u001b[38;5;28;01mawait\u001b[39;00m \u001b[38;5;28mself\u001b[39m\u001b[38;5;241m.\u001b[39mprovider\u001b[38;5;241m.\u001b[39mmodule_instance(remote_arg\u001b[38;5;241m.\u001b[39msource)\n\u001b[0;32m--> 239\u001b[0m         \u001b[38;5;28;01mraise\u001b[39;00m \u001b[38;5;167;01mException\u001b[39;00m(\n\u001b[1;32m    240\u001b[0m             (module_instance\u001b[38;5;241m.\u001b[39mfailure_reason, module_instance\u001b[38;5;241m.\u001b[39mfailure_context)\n\u001b[1;32m    241\u001b[0m         )\n\u001b[1;32m    242\u001b[0m     \u001b[38;5;28;01mraise\u001b[39;00m \u001b[38;5;167;01mException\u001b[39;00m(\u001b[38;5;124m\"\u001b[39m\u001b[38;5;124mArgument was rejected\u001b[39m\u001b[38;5;124m\"\u001b[39m)\n\u001b[1;32m    243\u001b[0m \u001b[38;5;28;01melse\u001b[39;00m:\n",
      "\u001b[0;31mException\u001b[0m: (<ModuleFailureReason.RUN: 'RUN'>, ModuleInstanceCommonFailureContext(stdout='\\nWriting \"/atom_labels\" to: \"./temp/temp_geo_opt.hdf5\"\\n/build/n7ynpjxm49wr9165i7nj7fdmfp3n7sk2-source/src/methods/geometry_optimisation/coordinate_systems/internal_system.cpp L194:\\n\\tAssertion \\'is_fully_connected(topology, internal_coords)\\' failed: interfragment coordinates not implemented\\nSkipping MPI win free due to uncaught exception\\n********************************************************************************\\nA runtime error has occurred on rank 1!\\nThe error message is printed below:\\n/build/n7ynpjxm49wr9165i7nj7fdmfp3n7sk2-source/src/methods/geometry_optimisation/coordinate_systems/internal_system.cpp L194:\\n\\tAssertion \\'is_fully_connected(topology, internal_coords)\\' failed: interfragment coordinates not implemented\\n********************************************************************************', stderr='--------------------------------------------------------------------------\\nMPI_ABORT was invoked on rank 1 in communicator MPI COMMUNICATOR 3 DUP FROM 0\\nwith errorcode 5.\\n\\nNOTE: invoking MPI_ABORT causes Open MPI to kill all MPI processes.\\nYou may or may not see output from other processes, depending on\\nexactly when Open MPI kills them.\\n--------------------------------------------------------------------------\\nterminate called after throwing an instance of \\'std::runtime_error\\'\\n  what():  Error running command: export OMP_NUM_THREADS=1 && export EXESS_HDF5_OUTPUT_PATH=./temp/ && export EXESS_OUTPUT_PATH=./temp/ && mpirun -np 2 --bind-to core --map-by ppr:2:node exess ./temp/geo_opt.json\\nError: \"QM geometry optimisation failed with error: \"', syserr='/home/ryan/.cache/tengu_store/nq_queues/nqdir_1/,18d584088c2.1362247'))"
     ]
    }
   ],
   "source": [
    "(topologies_out, results_out) = await geo_opt_out.get()\n",
    "assert(results_out[\"converged\"])"
   ]
  },
  {
   "cell_type": "markdown",
   "metadata": {},
   "source": [
    "# 2) Visualise pre-optimised and optimised geometries"
   ]
  },
  {
   "cell_type": "code",
   "execution_count": 25,
   "metadata": {},
   "outputs": [],
   "source": [
    "import py3Dmol"
   ]
  },
  {
   "cell_type": "code",
   "execution_count": 26,
   "metadata": {},
   "outputs": [
    {
     "data": {
      "application/3dmoljs_load.v0": "<div id=\"3dmolviewer_1706582698484447\"  style=\"position: relative; width: 640px; height: 480px;\">\n        <p id=\"3dmolwarning_1706582698484447\" style=\"background-color:#ffcccc;color:black\">You appear to be running in JupyterLab (or JavaScript failed to load for some other reason).  You need to install the 3dmol extension: <br>\n        <tt>jupyter labextension install jupyterlab_3dmol</tt></p>\n        </div>\n<script>\n\nvar loadScriptAsync = function(uri){\n  return new Promise((resolve, reject) => {\n    //this is to ignore the existence of requirejs amd\n    var savedexports, savedmodule;\n    if (typeof exports !== 'undefined') savedexports = exports;\n    else exports = {}\n    if (typeof module !== 'undefined') savedmodule = module;\n    else module = {}\n\n    var tag = document.createElement('script');\n    tag.src = uri;\n    tag.async = true;\n    tag.onload = () => {\n        exports = savedexports;\n        module = savedmodule;\n        resolve();\n    };\n  var firstScriptTag = document.getElementsByTagName('script')[0];\n  firstScriptTag.parentNode.insertBefore(tag, firstScriptTag);\n});\n};\n\nif(typeof $3Dmolpromise === 'undefined') {\n$3Dmolpromise = null;\n  $3Dmolpromise = loadScriptAsync('https://cdnjs.cloudflare.com/ajax/libs/3Dmol/2.0.4/3Dmol-min.js');\n}\n\nvar viewer_1706582698484447 = null;\nvar warn = document.getElementById(\"3dmolwarning_1706582698484447\");\nif(warn) {\n    warn.parentNode.removeChild(warn);\n}\n$3Dmolpromise.then(function() {\nviewer_1706582698484447 = $3Dmol.createViewer(document.getElementById(\"3dmolviewer_1706582698484447\"),{backgroundColor:\"white\"});\nviewer_1706582698484447.zoomTo();\n\tviewer_1706582698484447.addModel(\"12\\ncyclobutane\\n  C     -0.750      0.452     -0.417\\n  C     -0.696     -0.588      0.609\\n  C      0.820     -0.678      0.537\\n  C      0.892      0.417     -0.428\\n  H     -1.285      1.273      0.066\\n  H     -1.328      0.080     -1.263\\n  H     -1.225     -1.507      0.366\\n  H     -1.029     -0.162      1.555\\n  H      1.158     -1.594      0.054\\n  H      1.310     -0.477      1.488\\n  H      1.432      0.009     -1.290\\n  H      1.506      1.236     -0.056\\n\",\"xyz\");\n\tviewer_1706582698484447.setStyle({\"stick\": {}});\n\tviewer_1706582698484447.zoomTo();\nviewer_1706582698484447.render();\n});\n</script>",
      "text/html": [
       "<div id=\"3dmolviewer_1706582698484447\"  style=\"position: relative; width: 640px; height: 480px;\">\n",
       "        <p id=\"3dmolwarning_1706582698484447\" style=\"background-color:#ffcccc;color:black\">You appear to be running in JupyterLab (or JavaScript failed to load for some other reason).  You need to install the 3dmol extension: <br>\n",
       "        <tt>jupyter labextension install jupyterlab_3dmol</tt></p>\n",
       "        </div>\n",
       "<script>\n",
       "\n",
       "var loadScriptAsync = function(uri){\n",
       "  return new Promise((resolve, reject) => {\n",
       "    //this is to ignore the existence of requirejs amd\n",
       "    var savedexports, savedmodule;\n",
       "    if (typeof exports !== 'undefined') savedexports = exports;\n",
       "    else exports = {}\n",
       "    if (typeof module !== 'undefined') savedmodule = module;\n",
       "    else module = {}\n",
       "\n",
       "    var tag = document.createElement('script');\n",
       "    tag.src = uri;\n",
       "    tag.async = true;\n",
       "    tag.onload = () => {\n",
       "        exports = savedexports;\n",
       "        module = savedmodule;\n",
       "        resolve();\n",
       "    };\n",
       "  var firstScriptTag = document.getElementsByTagName('script')[0];\n",
       "  firstScriptTag.parentNode.insertBefore(tag, firstScriptTag);\n",
       "});\n",
       "};\n",
       "\n",
       "if(typeof $3Dmolpromise === 'undefined') {\n",
       "$3Dmolpromise = null;\n",
       "  $3Dmolpromise = loadScriptAsync('https://cdnjs.cloudflare.com/ajax/libs/3Dmol/2.0.4/3Dmol-min.js');\n",
       "}\n",
       "\n",
       "var viewer_1706582698484447 = null;\n",
       "var warn = document.getElementById(\"3dmolwarning_1706582698484447\");\n",
       "if(warn) {\n",
       "    warn.parentNode.removeChild(warn);\n",
       "}\n",
       "$3Dmolpromise.then(function() {\n",
       "viewer_1706582698484447 = $3Dmol.createViewer(document.getElementById(\"3dmolviewer_1706582698484447\"),{backgroundColor:\"white\"});\n",
       "viewer_1706582698484447.zoomTo();\n",
       "\tviewer_1706582698484447.addModel(\"12\\ncyclobutane\\n  C     -0.750      0.452     -0.417\\n  C     -0.696     -0.588      0.609\\n  C      0.820     -0.678      0.537\\n  C      0.892      0.417     -0.428\\n  H     -1.285      1.273      0.066\\n  H     -1.328      0.080     -1.263\\n  H     -1.225     -1.507      0.366\\n  H     -1.029     -0.162      1.555\\n  H      1.158     -1.594      0.054\\n  H      1.310     -0.477      1.488\\n  H      1.432      0.009     -1.290\\n  H      1.506      1.236     -0.056\\n\",\"xyz\");\n",
       "\tviewer_1706582698484447.setStyle({\"stick\": {}});\n",
       "\tviewer_1706582698484447.zoomTo();\n",
       "viewer_1706582698484447.render();\n",
       "});\n",
       "</script>"
      ]
     },
     "metadata": {},
     "output_type": "display_data"
    }
   ],
   "source": [
    "pre_opt_view = py3Dmol.view()\n",
    "pre_opt_view.addModel(cyclobutane_xyz, \"xyz\")\n",
    "pre_opt_view.setStyle({'stick':{}})\n",
    "pre_opt_view.zoomTo()\n",
    "pre_opt_view.show()"
   ]
  },
  {
   "cell_type": "code",
   "execution_count": 27,
   "metadata": {},
   "outputs": [
    {
     "ename": "Exception",
     "evalue": "(<ModuleFailureReason.RUN: 'RUN'>, ModuleInstanceCommonFailureContext(stdout='\\nWriting \"/atom_labels\" to: \"./temp/temp_geo_opt.hdf5\"\\n/build/n7ynpjxm49wr9165i7nj7fdmfp3n7sk2-source/src/methods/geometry_optimisation/coordinate_systems/internal_system.cpp L194:\\n\\tAssertion \\'is_fully_connected(topology, internal_coords)\\' failed: interfragment coordinates not implemented\\nSkipping MPI win free due to uncaught exception\\n********************************************************************************\\nA runtime error has occurred on rank 1!\\nThe error message is printed below:\\n/build/n7ynpjxm49wr9165i7nj7fdmfp3n7sk2-source/src/methods/geometry_optimisation/coordinate_systems/internal_system.cpp L194:\\n\\tAssertion \\'is_fully_connected(topology, internal_coords)\\' failed: interfragment coordinates not implemented\\n********************************************************************************', stderr='--------------------------------------------------------------------------\\nMPI_ABORT was invoked on rank 1 in communicator MPI COMMUNICATOR 3 DUP FROM 0\\nwith errorcode 5.\\n\\nNOTE: invoking MPI_ABORT causes Open MPI to kill all MPI processes.\\nYou may or may not see output from other processes, depending on\\nexactly when Open MPI kills them.\\n--------------------------------------------------------------------------\\nterminate called after throwing an instance of \\'std::runtime_error\\'\\n  what():  Error running command: export OMP_NUM_THREADS=1 && export EXESS_HDF5_OUTPUT_PATH=./temp/ && export EXESS_OUTPUT_PATH=./temp/ && mpirun -np 2 --bind-to core --map-by ppr:2:node exess ./temp/geo_opt.json\\nError: \"QM geometry optimisation failed with error: \"', syserr='/home/ryan/.cache/tengu_store/nq_queues/nqdir_1/,18d584088c2.1362247'))",
     "output_type": "error",
     "traceback": [
      "\u001b[0;31m---------------------------------------------------------------------------\u001b[0m",
      "\u001b[0;31mException\u001b[0m                                 Traceback (most recent call last)",
      "Cell \u001b[0;32mIn [27], line 1\u001b[0m\n\u001b[0;32m----> 1\u001b[0m (topologies_out, _) \u001b[38;5;241m=\u001b[39m \u001b[38;5;28;01mawait\u001b[39;00m geo_opt_out\u001b[38;5;241m.\u001b[39mget()\n\u001b[1;32m      2\u001b[0m opt_cyclobutane_xyz \u001b[38;5;241m=\u001b[39m qdxf_topology_to_xyz(topologies_out[\u001b[38;5;241m-\u001b[39m\u001b[38;5;241m1\u001b[39m], \u001b[38;5;124m\"\u001b[39m\u001b[38;5;124moptimised cyclobutane\u001b[39m\u001b[38;5;124m\"\u001b[39m)\n\u001b[1;32m      4\u001b[0m opt_view \u001b[38;5;241m=\u001b[39m py3Dmol\u001b[38;5;241m.\u001b[39mview()\n",
      "File \u001b[0;32m/usr/local/lib/python3.10/site-packages/rush/provider.py:239\u001b[0m, in \u001b[0;36mBaseProvider.Arg.get\u001b[0;34m(self)\u001b[0m\n\u001b[1;32m    236\u001b[0m     \u001b[38;5;28;01mif\u001b[39;00m remote_arg\u001b[38;5;241m.\u001b[39msource:\n\u001b[1;32m    237\u001b[0m         \u001b[38;5;66;03m# get the failure reason by checking the source module instance\u001b[39;00m\n\u001b[1;32m    238\u001b[0m         module_instance \u001b[38;5;241m=\u001b[39m \u001b[38;5;28;01mawait\u001b[39;00m \u001b[38;5;28mself\u001b[39m\u001b[38;5;241m.\u001b[39mprovider\u001b[38;5;241m.\u001b[39mmodule_instance(remote_arg\u001b[38;5;241m.\u001b[39msource)\n\u001b[0;32m--> 239\u001b[0m         \u001b[38;5;28;01mraise\u001b[39;00m \u001b[38;5;167;01mException\u001b[39;00m(\n\u001b[1;32m    240\u001b[0m             (module_instance\u001b[38;5;241m.\u001b[39mfailure_reason, module_instance\u001b[38;5;241m.\u001b[39mfailure_context)\n\u001b[1;32m    241\u001b[0m         )\n\u001b[1;32m    242\u001b[0m     \u001b[38;5;28;01mraise\u001b[39;00m \u001b[38;5;167;01mException\u001b[39;00m(\u001b[38;5;124m\"\u001b[39m\u001b[38;5;124mArgument was rejected\u001b[39m\u001b[38;5;124m\"\u001b[39m)\n\u001b[1;32m    243\u001b[0m \u001b[38;5;28;01melse\u001b[39;00m:\n",
      "\u001b[0;31mException\u001b[0m: (<ModuleFailureReason.RUN: 'RUN'>, ModuleInstanceCommonFailureContext(stdout='\\nWriting \"/atom_labels\" to: \"./temp/temp_geo_opt.hdf5\"\\n/build/n7ynpjxm49wr9165i7nj7fdmfp3n7sk2-source/src/methods/geometry_optimisation/coordinate_systems/internal_system.cpp L194:\\n\\tAssertion \\'is_fully_connected(topology, internal_coords)\\' failed: interfragment coordinates not implemented\\nSkipping MPI win free due to uncaught exception\\n********************************************************************************\\nA runtime error has occurred on rank 1!\\nThe error message is printed below:\\n/build/n7ynpjxm49wr9165i7nj7fdmfp3n7sk2-source/src/methods/geometry_optimisation/coordinate_systems/internal_system.cpp L194:\\n\\tAssertion \\'is_fully_connected(topology, internal_coords)\\' failed: interfragment coordinates not implemented\\n********************************************************************************', stderr='--------------------------------------------------------------------------\\nMPI_ABORT was invoked on rank 1 in communicator MPI COMMUNICATOR 3 DUP FROM 0\\nwith errorcode 5.\\n\\nNOTE: invoking MPI_ABORT causes Open MPI to kill all MPI processes.\\nYou may or may not see output from other processes, depending on\\nexactly when Open MPI kills them.\\n--------------------------------------------------------------------------\\nterminate called after throwing an instance of \\'std::runtime_error\\'\\n  what():  Error running command: export OMP_NUM_THREADS=1 && export EXESS_HDF5_OUTPUT_PATH=./temp/ && export EXESS_OUTPUT_PATH=./temp/ && mpirun -np 2 --bind-to core --map-by ppr:2:node exess ./temp/geo_opt.json\\nError: \"QM geometry optimisation failed with error: \"', syserr='/home/ryan/.cache/tengu_store/nq_queues/nqdir_1/,18d584088c2.1362247'))"
     ]
    }
   ],
   "source": [
    "(topologies_out, _) = await geo_opt_out.get()\n",
    "opt_cyclobutane_xyz = qdxf_topology_to_xyz(topologies_out[-1], \"optimised cyclobutane\")\n",
    "\n",
    "opt_view = py3Dmol.view()\n",
    "opt_view.addModel(opt_cyclobutane_xyz, \"xyz\", {})\n",
    "opt_view.setStyle({'stick':{}})\n",
    "opt_view.zoomTo()\n",
    "opt_view.show()"
   ]
  },
  {
   "cell_type": "code",
   "execution_count": null,
   "metadata": {},
   "outputs": [],
   "source": []
  }
 ],
 "metadata": {
  "kernelspec": {
   "display_name": "Python 3",
   "language": "python",
   "name": "python3"
  },
  "language_info": {
   "codemirror_mode": {
    "name": "ipython",
    "version": 3
   },
   "file_extension": ".py",
   "mimetype": "text/x-python",
   "name": "python",
   "nbconvert_exporter": "python",
   "pygments_lexer": "ipython3",
   "version": "3.10.12"
  }
 },
 "nbformat": 4,
 "nbformat_minor": 2
}
