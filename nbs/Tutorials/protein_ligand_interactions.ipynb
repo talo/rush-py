{
 "cells": [
  {
   "cell_type": "markdown",
   "id": "f71433bf",
   "metadata": {},
   "source": [
    "# PLIP — Protein ligand interaction profiling"
   ]
  },
  {
   "cell_type": "markdown",
   "id": "981d720d",
   "metadata": {},
   "source": [
    "This notebook will walk us through using PLIP for identification of non-covalent interactions between biological macromolecules and their ligands.\n",
    "\n",
    "**PLIP implementation paper**:\n",
    "Adasme et al. PLIP 2021: expanding the scope of the protein-ligand interaction profiler to DNA and RNA. NAR 2021"
   ]
  },
  {
   "cell_type": "markdown",
   "id": "4ffe902a",
   "metadata": {},
   "source": [
    "# 0) Complete example\n",
    "See the [sample notebook](/Quickstarts/protein-ligand-interactions-sample.ipynb) for a quick demonstration."
   ]
  },
  {
   "cell_type": "markdown",
   "id": "ef91694f",
   "metadata": {},
   "source": [
    "# 1) Setup"
   ]
  },
  {
   "cell_type": "markdown",
   "id": "74d6f1f9",
   "metadata": {},
   "source": [
    "## 1.0) Imports"
   ]
  },
  {
   "cell_type": "code",
   "execution_count": null,
   "id": "d58aab6c",
   "metadata": {},
   "outputs": [],
   "source": [
    "import os\n",
    "import json\n",
    "from pathlib import Path\n",
    "\n",
    "import rush\n",
    "from pdbtools import pdb_fetch"
   ]
  },
  {
   "cell_type": "markdown",
   "id": "a5b3122a",
   "metadata": {},
   "source": [
    "## 1.1) Configuration"
   ]
  },
  {
   "cell_type": "markdown",
   "id": "4b894c95",
   "metadata": {},
   "source": [
    "Let's set some global variables that define our project."
   ]
  },
  {
   "cell_type": "code",
   "execution_count": null,
   "id": "4395d710",
   "metadata": {},
   "outputs": [],
   "source": [
    "DESCRIPTION = \"plip-inference-notebook\"\n",
    "TAGS = [\"rush-py\", \"plip\", \"notebook\"]"
   ]
  },
  {
   "cell_type": "markdown",
   "id": "ad1f8b10",
   "metadata": {},
   "source": [
    "## 1.2) Build your client"
   ]
  },
  {
   "cell_type": "code",
   "execution_count": null,
   "id": "dc086fa2",
   "metadata": {},
   "outputs": [
    {
     "name": "stdout",
     "output_type": "stream",
     "text": [
      "2024-05-07 21:33:29,577 - rush - WARNING - Module github:talo/tengu-plip/790c01804c0942fb11df8bc91c5d3d983ca092af#plip_tengu_pdb is not in the lock file\n",
      "2024-05-07 21:33:29,577 - rush - WARNING - Module plip has a different version on the server: github:talo/tengu-plip/790c01804c0942fb11df8bc91c5d3d983ca092af#plip_tengu.\n",
      "                                Use `.update_modules()` to update the lock file\n"
     ]
    }
   ],
   "source": [
    "# |hide\n",
    "WORK_DIR = Path.home() / \"qdx\" / \"plip-inference-rush-py-demo\"\n",
    "if WORK_DIR.exists():\n",
    "    client = rush.Provider(workspace=WORK_DIR)\n",
    "    await client.nuke(remote=False)\n",
    "os.makedirs(WORK_DIR, exist_ok=True)\n",
    "YOUR_TOKEN = os.getenv(\"RUSH_TOKEN\")"
   ]
  },
  {
   "cell_type": "code",
   "execution_count": null,
   "id": "c2bb7193",
   "metadata": {},
   "outputs": [],
   "source": [
    "os.environ[\"RUSH_TOKEN\"] = YOUR_TOKEN\n",
    "client = rush.build_blocking_provider_with_functions(\n",
    "    batch_tags=TAGS, workspace=WORK_DIR\n",
    ")"
   ]
  },
  {
   "cell_type": "markdown",
   "id": "cffe6b63",
   "metadata": {},
   "source": [
    "# 2) Preparation"
   ]
  },
  {
   "cell_type": "markdown",
   "id": "11c791aa",
   "metadata": {},
   "source": [
    "## 2.0) Fetch example PDB\n",
    "Note that PLIP requires a PDB file of a protein-ligand complex."
   ]
  },
  {
   "cell_type": "code",
   "execution_count": null,
   "id": "c9ce2b4d",
   "metadata": {},
   "outputs": [],
   "source": [
    "PDB_ID = \"1GIH\"\n",
    "FILE_NAME = f\"{PDB_ID}.pdb\"\n",
    "FILE_PATH = WORK_DIR / FILE_NAME"
   ]
  },
  {
   "cell_type": "code",
   "execution_count": null,
   "id": "71988142",
   "metadata": {},
   "outputs": [],
   "source": [
    "complex = list(pdb_fetch.fetch_structure(PDB_ID))\n",
    "\n",
    "with open(FILE_PATH, \"w\") as f:\n",
    "    for line in complex:\n",
    "        f.write(line)"
   ]
  },
  {
   "cell_type": "markdown",
   "id": "07d61ff6",
   "metadata": {},
   "source": [
    "# 3) PLIP"
   ]
  },
  {
   "cell_type": "markdown",
   "id": "11f66242",
   "metadata": {},
   "source": [
    "## 3.1) Arguments"
   ]
  },
  {
   "cell_type": "code",
   "execution_count": null,
   "id": "fdc745a9",
   "metadata": {},
   "outputs": [
    {
     "name": "stdout",
     "output_type": "stream",
     "text": [
      "Help on function plip_pdb in module rush.provider:\n",
      "\n",
      "plip_pdb(*args: *tuple[RushObject[bytes]], target: 'Target | None' = None, resources: 'Resources | None' = None, tags: 'list[str] | None' = None, restore: 'bool | None' = None) -> tuple[RushObject[Record], RushObject[bytes]]\n",
      "    Run PLIP on the input PDB file of a protein-ligand complex to obtain interaction data.\n",
      "\n",
      "\n",
      "    Module version:\n",
      "    `github:talo/tengu-plip/790c01804c0942fb11df8bc91c5d3d983ca092af#plip_tengu_pdb`\n",
      "\n",
      "    QDX Type Description:\n",
      "\n",
      "        input_complex_pdb_file: Object {\n",
      "            size: u32,\n",
      "            path: @$PDB,\n",
      "            format: ObjectFormat[json | bin]?\n",
      "        }\n",
      "        ->\n",
      "        output_conformer: Object[Conformer];\n",
      "        output_txt_file: Object[@$PDB]\n",
      "\n",
      "\n",
      "    :param input_complex_pdb_file: The protein-ligand complex as a PDB file; ligand should be the only HETATM lines.\n",
      "    :return output_conformer: A QDX Conformer of the complex with the computed interaction data\n",
      "    :return output_txt_file: The output txt report from the PLIP run\n",
      "\n"
     ]
    }
   ],
   "source": [
    "help(client.plip_pdb)"
   ]
  },
  {
   "cell_type": "markdown",
   "id": "18a29079",
   "metadata": {},
   "source": [
    "We can see from the above help documentation that we need to pass the Path to our PDB file as an argument."
   ]
  },
  {
   "cell_type": "markdown",
   "id": "96886bc2",
   "metadata": {},
   "source": [
    "## 3.2) Run PLIP\n",
    "Finally, we run PLIP so we can identify interactions between the ligand and the protein within our protein complex."
   ]
  },
  {
   "cell_type": "code",
   "execution_count": null,
   "id": "97381a58",
   "metadata": {},
   "outputs": [],
   "source": [
    "PLIP_RESOURCES = {\"storage\": 1024_000}\n",
    "\n",
    "output_conformer, output_txt = client.plip_pdb(FILE_PATH, resources=PLIP_RESOURCES)"
   ]
  },
  {
   "cell_type": "markdown",
   "id": "154fba5f",
   "metadata": {},
   "source": [
    "## 3.3) Get output conformer\n",
    "Here, we get the output Conformer (in QDXF format) that is enriched with `binding_site_interactions` by PLIP."
   ]
  },
  {
   "cell_type": "code",
   "execution_count": null,
   "id": "948c9a0a",
   "metadata": {},
   "outputs": [
    {
     "name": "stdout",
     "output_type": "stream",
     "text": [
      "2024-05-07 21:33:35,990 - rush - INFO - Argument c3bed94c-2586-46fb-97db-eeab1217c00c is now ModuleInstanceStatus.RESOLVING\n",
      "2024-05-07 21:33:40,599 - rush - INFO - Argument c3bed94c-2586-46fb-97db-eeab1217c00c is now ModuleInstanceStatus.ADMITTED\n",
      "2024-05-07 21:33:46,334 - rush - INFO - Argument c3bed94c-2586-46fb-97db-eeab1217c00c is now ModuleInstanceStatus.DISPATCHED\n",
      "2024-05-07 21:33:47,497 - rush - INFO - Argument c3bed94c-2586-46fb-97db-eeab1217c00c is now ModuleInstanceStatus.AWAITING_UPLOAD\n"
     ]
    }
   ],
   "source": [
    "output_conformer = json.load(output_conformer.download().open())"
   ]
  },
  {
   "cell_type": "code",
   "execution_count": null,
   "id": "99ce1d72-b0c7-4d62-b259-f9c2e9585cb0",
   "metadata": {},
   "outputs": [
    {
     "data": {
      "text/plain": [
       "[{'kind': 'Hydrophobic',\n",
       "  'ligand_residue_idx': 501,\n",
       "  'ligand_atom_idx': 2227,\n",
       "  'ligand_xyz': [5.034, 10.623, 29.029],\n",
       "  'receptor_amino_acid_idx': 18,\n",
       "  'receptor_atom_idx': 140,\n",
       "  'receptor_xyz': [6.814, 7.439, 30.53],\n",
       "  'receptor_is_donor': False,\n",
       "  'receptor_is_charged': False,\n",
       "  'receptor_is_positively_charged': False,\n",
       "  'pi_stack_kind': None},\n",
       " {'kind': 'Hydrophobic',\n",
       "  'ligand_residue_idx': 501,\n",
       "  'ligand_atom_idx': 2233,\n",
       "  'ligand_xyz': [3.287, 9.093, 27.493],\n",
       "  'receptor_amino_acid_idx': 31,\n",
       "  'receptor_atom_idx': 242,\n",
       "  'receptor_xyz': [3.539, 5.677, 28.924],\n",
       "  'receptor_is_donor': False,\n",
       "  'receptor_is_charged': False,\n",
       "  'receptor_is_positively_charged': False,\n",
       "  'pi_stack_kind': None},\n",
       " {'kind': 'Hydrophobic',\n",
       "  'ligand_residue_idx': 501,\n",
       "  'ligand_atom_idx': 2238,\n",
       "  'ligand_xyz': [2.847, 9.698, 28.682],\n",
       "  'receptor_amino_acid_idx': 64,\n",
       "  'receptor_atom_idx': 443,\n",
       "  'receptor_xyz': [-0.699, 10.68, 27.296],\n",
       "  'receptor_is_donor': False,\n",
       "  'receptor_is_charged': False,\n",
       "  'receptor_is_positively_charged': False,\n",
       "  'pi_stack_kind': None},\n",
       " {'kind': 'Hydrophobic',\n",
       "  'ligand_residue_idx': 501,\n",
       "  'ligand_atom_idx': 2238,\n",
       "  'ligand_xyz': [2.847, 9.698, 28.682],\n",
       "  'receptor_amino_acid_idx': 80,\n",
       "  'receptor_atom_idx': 575,\n",
       "  'receptor_xyz': [0.229, 7.961, 30.384],\n",
       "  'receptor_is_donor': False,\n",
       "  'receptor_is_charged': False,\n",
       "  'receptor_is_positively_charged': False,\n",
       "  'pi_stack_kind': None},\n",
       " {'kind': 'Hydrophobic',\n",
       "  'ligand_residue_idx': 501,\n",
       "  'ligand_atom_idx': 2232,\n",
       "  'ligand_xyz': [3.705, 10.464, 29.46],\n",
       "  'receptor_amino_acid_idx': 80,\n",
       "  'receptor_atom_idx': 578,\n",
       "  'receptor_xyz': [1.594, 9.055, 32.199],\n",
       "  'receptor_is_donor': False,\n",
       "  'receptor_is_charged': False,\n",
       "  'receptor_is_positively_charged': False,\n",
       "  'pi_stack_kind': None},\n",
       " {'kind': 'Hydrophobic',\n",
       "  'ligand_residue_idx': 501,\n",
       "  'ligand_atom_idx': 2233,\n",
       "  'ligand_xyz': [3.287, 9.093, 27.493],\n",
       "  'receptor_amino_acid_idx': 134,\n",
       "  'receptor_atom_idx': 1021,\n",
       "  'receptor_xyz': [2.881, 10.821, 24.334],\n",
       "  'receptor_is_donor': False,\n",
       "  'receptor_is_charged': False,\n",
       "  'receptor_is_positively_charged': False,\n",
       "  'pi_stack_kind': None},\n",
       " {'kind': 'HydrogenBond',\n",
       "  'ligand_residue_idx': 501,\n",
       "  'ligand_atom_idx': 2237,\n",
       "  'ligand_xyz': [6.061, 11.989, 30.681],\n",
       "  'receptor_amino_acid_idx': 33,\n",
       "  'receptor_atom_idx': 259,\n",
       "  'receptor_xyz': [7.625, 11.678, 33.692],\n",
       "  'receptor_is_donor': True,\n",
       "  'receptor_is_charged': False,\n",
       "  'receptor_is_positively_charged': False,\n",
       "  'pi_stack_kind': None},\n",
       " {'kind': 'HydrogenBond',\n",
       "  'ligand_residue_idx': 501,\n",
       "  'ligand_atom_idx': 2241,\n",
       "  'ligand_xyz': [3.359, 7.522, 24.975],\n",
       "  'receptor_amino_acid_idx': 83,\n",
       "  'receptor_atom_idx': 602,\n",
       "  'receptor_xyz': [1.8, 6.045, 23.112],\n",
       "  'receptor_is_donor': True,\n",
       "  'receptor_is_charged': False,\n",
       "  'receptor_is_positively_charged': False,\n",
       "  'pi_stack_kind': None},\n",
       " {'kind': 'HydrogenBond',\n",
       "  'ligand_residue_idx': 501,\n",
       "  'ligand_atom_idx': 2240,\n",
       "  'ligand_xyz': [5.341, 7.404, 23.937],\n",
       "  'receptor_amino_acid_idx': 83,\n",
       "  'receptor_atom_idx': 605,\n",
       "  'receptor_xyz': [4.17, 6.19, 22.039],\n",
       "  'receptor_is_donor': False,\n",
       "  'receptor_is_charged': False,\n",
       "  'receptor_is_positively_charged': False,\n",
       "  'pi_stack_kind': None}]"
      ]
     },
     "execution_count": null,
     "metadata": {},
     "output_type": "execute_result"
    }
   ],
   "source": [
    "output_conformer[\"binding_site_interactions\"]"
   ]
  },
  {
   "cell_type": "markdown",
   "id": "522af845",
   "metadata": {},
   "source": [
    "## 3.4) Get PLIP output document\n",
    "PLIP also returns a link to the output document of the results of the PLIP output."
   ]
  },
  {
   "cell_type": "code",
   "execution_count": null,
   "id": "0d16bd8f",
   "metadata": {},
   "outputs": [
    {
     "data": {
      "text/plain": [
       "'Prediction of noncovalent interactions for PDB structure 1GIH\\n'"
      ]
     },
     "execution_count": null,
     "metadata": {},
     "output_type": "execute_result"
    }
   ],
   "source": [
    "output_txt.download(\"plip_output.txt\", overwrite=True).open().readline()"
   ]
  },
  {
   "cell_type": "code",
   "execution_count": null,
   "id": "682c9329-8371-4470-b689-776e9108fd46",
   "metadata": {},
   "outputs": [],
   "source": []
  }
 ],
 "metadata": {
  "kernelspec": {
   "display_name": "python3",
   "language": "python",
   "name": "python3"
  }
 },
 "nbformat": 4,
 "nbformat_minor": 5
}
