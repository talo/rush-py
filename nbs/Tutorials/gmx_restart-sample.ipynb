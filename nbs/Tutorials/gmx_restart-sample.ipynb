{
 "cells": [
  {
   "cell_type": "markdown",
   "id": "a7ade04f-1e33-48a7-8ba1-364305e5382c",
   "metadata": {},
   "source": [
    "# GROMACS Resume -  Start a long GROMACS run that times out, and resume it"
   ]
  },
  {
   "cell_type": "markdown",
   "id": "6f6163a1",
   "metadata": {},
   "source": [
    "On the supercomputers, a maximum runtime of 24h is enforced. If a longer GROMACS run is needed, the run can easily be resumed. One of the outputs provided by the Rush `gmx` module is designed to be used as the input to the `gmx_resume` module, which will resume the run from the latest checkpoint. The outputs to this module are identical to those of the `gmx` module itself, so the run can be resumed as many times as necessary to finish it."
   ]
  },
  {
   "cell_type": "markdown",
   "id": "e3255512",
   "metadata": {},
   "source": [
    "## 0.0) Imports"
   ]
  },
  {
   "cell_type": "code",
   "execution_count": null,
   "id": "78cdaade",
   "metadata": {},
   "outputs": [],
   "source": [
    "from pathlib import Path\n",
    "import rush"
   ]
  },
  {
   "cell_type": "code",
   "execution_count": null,
   "id": "584ed7d6-a01d-4a81-9cbe-25b38387ff71",
   "metadata": {},
   "outputs": [
    {
     "name": "stdout",
     "output_type": "stream",
     "text": [
      "2024-03-21 14:35:57,255 - rush - INFO - Restoring by default via env\n"
     ]
    }
   ],
   "source": [
    "# |hide\n",
    "# Users won't generally create a workspace\n",
    "# We nuke to ensure run is reproducible\n",
    "import os\n",
    "\n",
    "WORK_DIR = Path.home() / \"qdx\" / \"tutorial-gmx-resume\"\n",
    "\n",
    "if WORK_DIR.exists():\n",
    "    client = rush.Provider(workspace=WORK_DIR)\n",
    "    await client.nuke(remote=False)\n",
    "\n",
    "os.makedirs(WORK_DIR, exist_ok=True)"
   ]
  },
  {
   "cell_type": "code",
   "execution_count": null,
   "id": "61d50edd-a7c1-4096-b3e0-496a1f01347c",
   "metadata": {},
   "outputs": [
    {
     "name": "stdout",
     "output_type": "stream",
     "text": [
      "2024-03-21 14:35:57,278 - rush - INFO - Restoring by default via env\n"
     ]
    }
   ],
   "source": [
    "RUSH_TOKEN = os.getenv(\"RUSH_TOKEN\") or \"YOUR_TOKEN_HERE\"\n",
    "client = rush.build_blocking_provider_with_functions(access_token=RUSH_TOKEN)"
   ]
  },
  {
   "cell_type": "code",
   "execution_count": null,
   "id": "a3d4edb5-8f15-440d-a18a-a8c2a230bfc4",
   "metadata": {},
   "outputs": [
    {
     "name": "stdout",
     "output_type": "stream",
     "text": [
      "2024-03-21 14:35:57,952 - rush - INFO - Restoring by default via env\n"
     ]
    }
   ],
   "source": [
    "# |hide\n",
    "# We hide this because users will generally not set a workspace, and won't restore by default\n",
    "client = rush.build_blocking_provider_with_functions(\n",
    "    batch_tags=[\"tutorial-resume-gmx\"],\n",
    "    workspace=WORK_DIR,\n",
    ")"
   ]
  },
  {
   "cell_type": "markdown",
   "id": "ebee89a7",
   "metadata": {},
   "source": [
    "## 0.1) Input Download and Selection"
   ]
  },
  {
   "cell_type": "code",
   "execution_count": null,
   "id": "3fe53173-5dbc-4524-8616-87fb0a6c566a",
   "metadata": {},
   "outputs": [],
   "source": [
    "!pdb_fetch '1B39' | pdb_selchain -A | pdb_delhetatm > '1B39_A_nohet.pdb'"
   ]
  },
  {
   "cell_type": "markdown",
   "id": "66954bd1",
   "metadata": {},
   "source": [
    "## 1) Input Preparation"
   ]
  },
  {
   "cell_type": "code",
   "execution_count": null,
   "id": "cbc1fb21",
   "metadata": {},
   "outputs": [
    {
     "name": "stdout",
     "output_type": "stream",
     "text": [
      "2024-03-21 14:36:00,622 - rush - INFO - Trying to restore job with tags: ['tutorial-resume-gmx'] and path: github:talo/prepare_protein/947cdbc000031e192153a20a9b4a8fbb12279102#prepare_protein_tengu\n",
      "2024-03-21 14:36:00,694 - rush - WARNING - Multiple module instances found with the same tags and path\n",
      "2024-03-21 14:36:00,695 - rush - WARNING - Multiple module instances found with the same tags and path\n",
      "2024-03-21 14:36:00,695 - rush - WARNING - Multiple module instances found with the same tags and path\n",
      "2024-03-21 14:36:00,695 - rush - WARNING - Multiple module instances found with the same tags and path\n",
      "2024-03-21 14:36:00,696 - rush - WARNING - Multiple module instances found with the same tags and path\n",
      "2024-03-21 14:36:00,762 - rush - INFO - Restoring job from previous run with id 3e4e10dd-f7cf-4e33-b759-cc73d6ae11c9\n"
     ]
    }
   ],
   "source": [
    "_, prepared_protein_pdb = client.prepare_protein(\n",
    "    Path.cwd() / \"1B39_A_nohet.pdb\"\n",
    ")"
   ]
  },
  {
   "cell_type": "markdown",
   "id": "3163f52e",
   "metadata": {},
   "source": [
    "## 2.1) Run GROMACS (modules: gmx, gmx_resume)\n",
    "Next we will run a molecular dynamics simulation on our protein using gromacs via the `gmx` module.\n",
    "\n",
    "We'll set `timeout_duration_mins = 1` so that the run times out before it finishes, and then resume via the `gmx_resume` module using the first output, which is the archive that contains all the necessary data for resuming the run from the last saved checkpoint.\n",
    "\n",
    "We'll set `checkpoint_interval_mins = 1.0/60` so that the checkpointing takes place once per second.\n",
    "\n",
    "We can restart as many times as we need to in order for the run to finish. Use a unique tag for each restarted run so that each sequential restart will be tagged and cached appropriately. See below for an example.\n",
    "\n",
    "For each restarted run, please pass the same config file that was passed to the original `gmx` call. There is no support for shortening or extending runs, or changing any other run parameters, of runs that have already been started. Passing the same config ensures that progress is reported properly and that there are no other inconsistencies. So, the initial run config should specify the full desired run.\n",
    "\n",
    "One current limitation is that the frame selection can only operate on the data generated by the last call to `gmx` or `gmx_restart`. Otherwise, the output xtc files from all the calls must be joined and processed manually."
   ]
  },
  {
   "cell_type": "code",
   "execution_count": null,
   "id": "e95ced73-4330-4368-a4cf-7b97e76dc2dd",
   "metadata": {},
   "outputs": [],
   "source": [
    "gmx_config = {\n",
    "    \"params_overrides\": {\n",
    "        \"nvt\": {\"nsteps\": 2000},\n",
    "        \"npt\": {\"nsteps\": 2000},\n",
    "        \"md\": {\"nsteps\": 150000},\n",
    "    },\n",
    "    \"frame_sel\": {\n",
    "        \"start_time_ps\": 290,\n",
    "        \"end_time_ps\": 300,\n",
    "        \"delta_time_ps\": 1,\n",
    "    },\n",
    "    \"checkpoint_interval_mins\": 1.0 / 60,\n",
    "    \"timeout_duration_mins\": 1,\n",
    "    \"num_gpus\": 1,\n",
    "    \"save_wets\": False,\n",
    "}"
   ]
  },
  {
   "cell_type": "code",
   "execution_count": null,
   "id": "7c868ee5-8ec7-454b-b4fd-d4ac8c72b827",
   "metadata": {},
   "outputs": [
    {
     "name": "stdout",
     "output_type": "stream",
     "text": [
      "2024-03-21 14:36:00,773 - rush - INFO - Trying to restore job with tags: ['tutorial-resume-gmx'] and path: github:talo/tengu-gmx/04cff2931b995c33263dfdb477d7f09c8bbd75a7#gmx_tengu\n",
      "2024-03-21 14:36:00,822 - rush - INFO - Restoring job from previous run with id f6d416cf-0cde-4bf1-8ccd-44c0e71aa0d9\n"
     ]
    }
   ],
   "source": [
    "resume_files_first, streaming_outputs, static_outputs, *rest = client.gmx(\n",
    "    None,\n",
    "    prepared_protein_pdb,\n",
    "    None,\n",
    "    gmx_config,\n",
    "    resources={\"gpus\": 1, \"storage\": 1, \"storage_units\": \"GB\"},\n",
    ")"
   ]
  },
  {
   "cell_type": "code",
   "execution_count": null,
   "id": "cfd5c620-b916-4be6-b6a2-e44134d5b1ba",
   "metadata": {},
   "outputs": [
    {
     "name": "stdout",
     "output_type": "stream",
     "text": [
      "2024-03-21 14:36:00,826 - rush - INFO - Trying to restore job with tags: ['gmx-resume-1', 'tutorial-resume-gmx'] and path: github:talo/tengu-gmx/04cff2931b995c33263dfdb477d7f09c8bbd75a7#gmx_resume_tengu\n",
      "2024-03-21 14:36:01,321 - rush - INFO - Restoring job from previous run with id d38f766a-1ef3-4e0f-bd07-951ae32200e2\n"
     ]
    }
   ],
   "source": [
    "# Check the progress and repeat this call as needed,\n",
    "# incrementing the integer in the tag with each subsequent call\n",
    "resume_files_second, _, _, xtc_dry, pdb_dry, _, _ = client.gmx_resume(\n",
    "    resume_files_first,\n",
    "    gmx_config,\n",
    "    tags=[\"gmx-resume-1\"],\n",
    "    resources={\"gpus\": 1, \"storage\": 1, \"storage_units\": \"GB\"},\n",
    ")"
   ]
  },
  {
   "cell_type": "code",
   "execution_count": null,
   "id": "bb351102-4bc4-4094-99bc-43ebe8256d70",
   "metadata": {},
   "outputs": [
    {
     "name": "stdout",
     "output_type": "stream",
     "text": [
      "2024-03-21 14:36:01,325 - rush - INFO - Trying to restore job with tags: ['gmx-resume-2', 'tutorial-resume-gmx'] and path: github:talo/tengu-gmx/04cff2931b995c33263dfdb477d7f09c8bbd75a7#gmx_resume_tengu\n",
      "2024-03-21 14:36:01,388 - rush - INFO - Restoring job from previous run with id 4dca3d01-abaa-40db-ae6b-6d88f4123f8a\n"
     ]
    }
   ],
   "source": [
    "resume_files_third, _, _, xtc_dry, pdb_dry, _, _ = client.gmx_resume(\n",
    "    resume_files_second,\n",
    "    gmx_config,\n",
    "    tags=[\"gmx-resume-2\"],\n",
    "    resources={\"gpus\": 1, \"storage\": 1, \"storage_units\": \"GB\"},\n",
    ")"
   ]
  },
  {
   "cell_type": "markdown",
   "id": "e4c10df8",
   "metadata": {},
   "source": [
    "## Checking progress of GROMACS run\n",
    "To determine if your GROMACS run is done, or if further runs are required, you can look at the progress output.\n",
    "How to check this output is demonstrated below. \n",
    "\n",
    "\n",
    "This is an example progress event that indicates that the job has not completed, and will require resuming.\n",
    "`n` is the number of execution steps in the GMX module. If `n` is less than `n_expected`, or `done` is false the run is not yet completed.\n",
    "\n",
    "\n",
    "`gmx_resume_tengu progress: {\n",
    "  \"n\": 600,\n",
    "  \"n_expected\": 601,\n",
    "  \"n_max\": 601,\n",
    "  \"done\": false\n",
    "}`"
   ]
  },
  {
   "cell_type": "code",
   "execution_count": null,
   "id": "18d47c80",
   "metadata": {},
   "outputs": [],
   "source": [
    "# Checking\n",
    "result1 = client.module_instance_blocking(resume_files_first.source)\n",
    "result2 = client.module_instance_blocking(resume_files_second.source)\n",
    "result3 = client.module_instance_blocking(resume_files_third.source)"
   ]
  },
  {
   "cell_type": "code",
   "execution_count": null,
   "id": "b877b11f",
   "metadata": {},
   "outputs": [
    {
     "name": "stdout",
     "output_type": "stream",
     "text": [
      "n=139100 n_expected=154000 n_max=154000 done=False\n",
      "n=154000 n_expected=154000 n_max=154000 done=True\n",
      "n=154000 n_expected=154000 n_max=154000 done=True\n"
     ]
    }
   ],
   "source": [
    "print(result1.progress)\n",
    "print(result2.progress)\n",
    "print(result3.progress)"
   ]
  },
  {
   "cell_type": "markdown",
   "id": "f5fa4e22-973a-4472-8b1c-a7830b29dc9c",
   "metadata": {},
   "source": [
    "We can see that we get around 50k steps a run, so we should launch another 2 resume jobs"
   ]
  },
  {
   "cell_type": "code",
   "execution_count": null,
   "id": "8a43447d-fec9-487c-91b5-555db3ab0643",
   "metadata": {},
   "outputs": [
    {
     "name": "stdout",
     "output_type": "stream",
     "text": [
      "2024-03-21 14:36:02,046 - rush - INFO - Trying to restore job with tags: ['gmx-resume-3', 'tutorial-resume-gmx'] and path: github:talo/tengu-gmx/04cff2931b995c33263dfdb477d7f09c8bbd75a7#gmx_resume_tengu\n",
      "2024-03-21 14:36:02,094 - rush - INFO - Restoring job from previous run with id 517c9492-4442-4940-b1ca-f95ce022b27d\n"
     ]
    }
   ],
   "source": [
    "resume_files_fourth, _, _, xtc_dry, pdb_dry, _, _ = client.gmx_resume(\n",
    "    resume_files_third,\n",
    "    gmx_config,\n",
    "    tags=[\"gmx-resume-3\"],\n",
    "    resources={\"gpus\": 1, \"storage\": 1, \"storage_units\": \"GB\"},\n",
    ")"
   ]
  },
  {
   "cell_type": "code",
   "execution_count": null,
   "id": "7fa1730b-0a86-4870-a80b-add7b2d59feb",
   "metadata": {},
   "outputs": [
    {
     "name": "stdout",
     "output_type": "stream",
     "text": [
      "2024-03-21 14:36:02,098 - rush - INFO - Trying to restore job with tags: ['gmx-resume-4', 'tutorial-resume-gmx'] and path: github:talo/tengu-gmx/04cff2931b995c33263dfdb477d7f09c8bbd75a7#gmx_resume_tengu\n",
      "2024-03-21 14:36:02,151 - rush - INFO - Restoring job from previous run with id f37e3fe9-5930-473c-91bb-fdcafb98715d\n"
     ]
    }
   ],
   "source": [
    "resume_files_fifth, _, _, xtc_dry, pdb_dry, _, _ = client.gmx_resume(\n",
    "    resume_files_fourth,\n",
    "    gmx_config,\n",
    "    tags=[\"gmx-resume-4\"],\n",
    "    resources={\"gpus\": 1, \"storage\": 1, \"storage_units\": \"GB\"},\n",
    ")"
   ]
  },
  {
   "cell_type": "markdown",
   "id": "cd65c6eb-c521-4f18-a435-f7ad47c10508",
   "metadata": {},
   "source": [
    "# Downloading Results\n",
    "To download extracted frames and fetch their pdbs, we can do the following"
   ]
  },
  {
   "cell_type": "code",
   "execution_count": null,
   "id": "e08f87cb-855b-4d1b-98fa-10bacd0ae957",
   "metadata": {},
   "outputs": [
    {
     "ename": "Exception",
     "evalue": "(<ModuleFailureReason.RESOLUTION: 'RESOLUTION'>, ModuleInstanceCommonFailureContext(stdout=None, stderr=None, syserr='argument resolution failed due to rejected arguments'))",
     "output_type": "error",
     "traceback": [
      "\u001b[0;31m---------------------------------------------------------------------------\u001b[0m",
      "\u001b[0;31mException\u001b[0m                                 Traceback (most recent call last)",
      "Cell \u001b[0;32mIn[15], line 1\u001b[0m\n\u001b[0;32m----> 1\u001b[0m \u001b[43mpdb_dry\u001b[49m\u001b[38;5;241;43m.\u001b[39;49m\u001b[43mdownload\u001b[49m\u001b[43m(\u001b[49m\u001b[38;5;124;43m\"\u001b[39;49m\u001b[38;5;124;43mdry_frames.tar.gz\u001b[39;49m\u001b[38;5;124;43m\"\u001b[39;49m\u001b[43m)\u001b[49m\n",
      "File \u001b[0;32m~/Programming/tengu-py/rush/provider.py:1399\u001b[0m, in \u001b[0;36mBaseProvider.BlockingArg.download\u001b[0;34m(self, filename, filepath, overwrite)\u001b[0m\n\u001b[1;32m   1393\u001b[0m \u001b[38;5;28;01mdef\u001b[39;00m \u001b[38;5;21mdownload\u001b[39m(\n\u001b[1;32m   1394\u001b[0m     \u001b[38;5;28mself\u001b[39m,\n\u001b[1;32m   1395\u001b[0m     filename: \u001b[38;5;28mstr\u001b[39m \u001b[38;5;241m|\u001b[39m \u001b[38;5;28;01mNone\u001b[39;00m \u001b[38;5;241m=\u001b[39m \u001b[38;5;28;01mNone\u001b[39;00m,\n\u001b[1;32m   1396\u001b[0m     filepath: Path \u001b[38;5;241m|\u001b[39m \u001b[38;5;28;01mNone\u001b[39;00m \u001b[38;5;241m=\u001b[39m \u001b[38;5;28;01mNone\u001b[39;00m,\n\u001b[1;32m   1397\u001b[0m     overwrite: \u001b[38;5;28mbool\u001b[39m \u001b[38;5;241m=\u001b[39m \u001b[38;5;28;01mFalse\u001b[39;00m,\n\u001b[1;32m   1398\u001b[0m ):\n\u001b[0;32m-> 1399\u001b[0m     \u001b[38;5;28;01mreturn\u001b[39;00m \u001b[43masyncio_run\u001b[49m\u001b[43m(\u001b[49m\u001b[38;5;28;43msuper\u001b[39;49m\u001b[43m(\u001b[49m\u001b[43m)\u001b[49m\u001b[38;5;241;43m.\u001b[39;49m\u001b[43mdownload\u001b[49m\u001b[43m(\u001b[49m\u001b[43mfilename\u001b[49m\u001b[43m,\u001b[49m\u001b[43m \u001b[49m\u001b[43mfilepath\u001b[49m\u001b[43m,\u001b[49m\u001b[43m \u001b[49m\u001b[43moverwrite\u001b[49m\u001b[43m)\u001b[49m\u001b[43m)\u001b[49m\n",
      "File \u001b[0;32m~/Programming/tengu-py/rush/async_utils.py:27\u001b[0m, in \u001b[0;36masyncio_run\u001b[0;34m(coro)\u001b[0m\n\u001b[1;32m     18\u001b[0m \u001b[38;5;250m\u001b[39m\u001b[38;5;124;03m\"\"\"\u001b[39;00m\n\u001b[1;32m     19\u001b[0m \u001b[38;5;124;03mRuns the coroutine in an event loop running on a background thread,\u001b[39;00m\n\u001b[1;32m     20\u001b[0m \u001b[38;5;124;03mand blocks the current thread until it returns a result.\u001b[39;00m\n\u001b[0;32m   (...)\u001b[0m\n\u001b[1;32m     24\u001b[0m \u001b[38;5;124;03m:param timeout: How many seconds we should wait for a result before raising an error\u001b[39;00m\n\u001b[1;32m     25\u001b[0m \u001b[38;5;124;03m\"\"\"\u001b[39;00m\n\u001b[1;32m     26\u001b[0m \u001b[38;5;28;01mif\u001b[39;00m LOOP\u001b[38;5;241m.\u001b[39mis_running():\n\u001b[0;32m---> 27\u001b[0m     \u001b[38;5;28;01mreturn\u001b[39;00m \u001b[43masyncio\u001b[49m\u001b[38;5;241;43m.\u001b[39;49m\u001b[43mrun_coroutine_threadsafe\u001b[49m\u001b[43m(\u001b[49m\u001b[43mcoro\u001b[49m\u001b[43m,\u001b[49m\u001b[43m \u001b[49m\u001b[43mLOOP\u001b[49m\u001b[43m)\u001b[49m\u001b[38;5;241;43m.\u001b[39;49m\u001b[43mresult\u001b[49m\u001b[43m(\u001b[49m\u001b[43m)\u001b[49m\n\u001b[1;32m     28\u001b[0m \u001b[38;5;28;01melse\u001b[39;00m:\n\u001b[1;32m     29\u001b[0m     \u001b[38;5;28;01mreturn\u001b[39;00m asyncio\u001b[38;5;241m.\u001b[39mcreate_task(coro)\n",
      "File \u001b[0;32m/nix/store/dqsflsigjcxisziiynrxlbsm2y71m4bq-python3-3.12.2/lib/python3.12/concurrent/futures/_base.py:456\u001b[0m, in \u001b[0;36mFuture.result\u001b[0;34m(self, timeout)\u001b[0m\n\u001b[1;32m    454\u001b[0m     \u001b[38;5;28;01mraise\u001b[39;00m CancelledError()\n\u001b[1;32m    455\u001b[0m \u001b[38;5;28;01melif\u001b[39;00m \u001b[38;5;28mself\u001b[39m\u001b[38;5;241m.\u001b[39m_state \u001b[38;5;241m==\u001b[39m FINISHED:\n\u001b[0;32m--> 456\u001b[0m     \u001b[38;5;28;01mreturn\u001b[39;00m \u001b[38;5;28;43mself\u001b[39;49m\u001b[38;5;241;43m.\u001b[39;49m\u001b[43m__get_result\u001b[49m\u001b[43m(\u001b[49m\u001b[43m)\u001b[49m\n\u001b[1;32m    457\u001b[0m \u001b[38;5;28;01melse\u001b[39;00m:\n\u001b[1;32m    458\u001b[0m     \u001b[38;5;28;01mraise\u001b[39;00m \u001b[38;5;167;01mTimeoutError\u001b[39;00m()\n",
      "File \u001b[0;32m/nix/store/dqsflsigjcxisziiynrxlbsm2y71m4bq-python3-3.12.2/lib/python3.12/concurrent/futures/_base.py:401\u001b[0m, in \u001b[0;36mFuture.__get_result\u001b[0;34m(self)\u001b[0m\n\u001b[1;32m    399\u001b[0m \u001b[38;5;28;01mif\u001b[39;00m \u001b[38;5;28mself\u001b[39m\u001b[38;5;241m.\u001b[39m_exception:\n\u001b[1;32m    400\u001b[0m     \u001b[38;5;28;01mtry\u001b[39;00m:\n\u001b[0;32m--> 401\u001b[0m         \u001b[38;5;28;01mraise\u001b[39;00m \u001b[38;5;28mself\u001b[39m\u001b[38;5;241m.\u001b[39m_exception\n\u001b[1;32m    402\u001b[0m     \u001b[38;5;28;01mfinally\u001b[39;00m:\n\u001b[1;32m    403\u001b[0m         \u001b[38;5;66;03m# Break a reference cycle with the exception in self._exception\u001b[39;00m\n\u001b[1;32m    404\u001b[0m         \u001b[38;5;28mself\u001b[39m \u001b[38;5;241m=\u001b[39m \u001b[38;5;28;01mNone\u001b[39;00m\n",
      "File \u001b[0;32m~/Programming/tengu-py/rush/provider.py:1291\u001b[0m, in \u001b[0;36mBaseProvider.Arg.download\u001b[0;34m(self, filename, filepath, overwrite)\u001b[0m\n\u001b[1;32m   1285\u001b[0m \u001b[38;5;28;01masync\u001b[39;00m \u001b[38;5;28;01mdef\u001b[39;00m \u001b[38;5;21mdownload\u001b[39m(\n\u001b[1;32m   1286\u001b[0m     \u001b[38;5;28mself\u001b[39m,\n\u001b[1;32m   1287\u001b[0m     filename: \u001b[38;5;28mstr\u001b[39m \u001b[38;5;241m|\u001b[39m \u001b[38;5;28;01mNone\u001b[39;00m \u001b[38;5;241m=\u001b[39m \u001b[38;5;28;01mNone\u001b[39;00m,\n\u001b[1;32m   1288\u001b[0m     filepath: Path \u001b[38;5;241m|\u001b[39m \u001b[38;5;28;01mNone\u001b[39;00m \u001b[38;5;241m=\u001b[39m \u001b[38;5;28;01mNone\u001b[39;00m,\n\u001b[1;32m   1289\u001b[0m     overwrite: \u001b[38;5;28mbool\u001b[39m \u001b[38;5;241m=\u001b[39m \u001b[38;5;28;01mFalse\u001b[39;00m,\n\u001b[1;32m   1290\u001b[0m ):\n\u001b[0;32m-> 1291\u001b[0m     \u001b[38;5;28;01mreturn\u001b[39;00m \u001b[38;5;28;01mawait\u001b[39;00m \u001b[38;5;28mself\u001b[39m\u001b[38;5;241m.\u001b[39m_download(filename, filepath, overwrite)\n",
      "File \u001b[0;32m~/Programming/tengu-py/rush/provider.py:1303\u001b[0m, in \u001b[0;36mBaseProvider.Arg._download\u001b[0;34m(self, filename, filepath, overwrite)\u001b[0m\n\u001b[1;32m   1301\u001b[0m \u001b[38;5;28;01mif\u001b[39;00m \u001b[38;5;28mself\u001b[39m\u001b[38;5;241m.\u001b[39mprovider \u001b[38;5;129;01mis\u001b[39;00m \u001b[38;5;28;01mNone\u001b[39;00m:\n\u001b[1;32m   1302\u001b[0m     \u001b[38;5;28;01mraise\u001b[39;00m \u001b[38;5;167;01mException\u001b[39;00m(\u001b[38;5;124m\"\u001b[39m\u001b[38;5;124mNo provider provided\u001b[39m\u001b[38;5;124m\"\u001b[39m)\n\u001b[0;32m-> 1303\u001b[0m \u001b[38;5;28;01mawait\u001b[39;00m \u001b[38;5;28mself\u001b[39m\u001b[38;5;241m.\u001b[39m_get()\n\u001b[1;32m   1305\u001b[0m \u001b[38;5;28;01mif\u001b[39;00m \u001b[38;5;28mself\u001b[39m\u001b[38;5;241m.\u001b[39mtypeinfo:\n\u001b[1;32m   1306\u001b[0m     \u001b[38;5;28;01mif\u001b[39;00m \u001b[38;5;28misinstance\u001b[39m(\u001b[38;5;28mself\u001b[39m\u001b[38;5;241m.\u001b[39mtypeinfo, \u001b[38;5;28mdict\u001b[39m) \u001b[38;5;129;01mand\u001b[39;00m (\n\u001b[1;32m   1307\u001b[0m         (\u001b[38;5;28mself\u001b[39m\u001b[38;5;241m.\u001b[39mtypeinfo[\u001b[38;5;124m\"\u001b[39m\u001b[38;5;124mk\u001b[39m\u001b[38;5;124m\"\u001b[39m] \u001b[38;5;241m==\u001b[39m \u001b[38;5;124m\"\u001b[39m\u001b[38;5;124mrecord\u001b[39m\u001b[38;5;124m\"\u001b[39m \u001b[38;5;129;01mand\u001b[39;00m \u001b[38;5;28mself\u001b[39m\u001b[38;5;241m.\u001b[39mtypeinfo[\u001b[38;5;124m\"\u001b[39m\u001b[38;5;124mn\u001b[39m\u001b[38;5;124m\"\u001b[39m] \u001b[38;5;241m==\u001b[39m \u001b[38;5;124m\"\u001b[39m\u001b[38;5;124mObject\u001b[39m\u001b[38;5;124m\"\u001b[39m)\n\u001b[1;32m   1308\u001b[0m         \u001b[38;5;129;01mor\u001b[39;00m (\n\u001b[0;32m   (...)\u001b[0m\n\u001b[1;32m   1311\u001b[0m         )\n\u001b[1;32m   1312\u001b[0m     ):\n",
      "File \u001b[0;32m~/Programming/tengu-py/rush/provider.py:1343\u001b[0m, in \u001b[0;36mBaseProvider.Arg._get\u001b[0;34m(self)\u001b[0m\n\u001b[1;32m   1340\u001b[0m     \u001b[38;5;28;01mif\u001b[39;00m remote_arg\u001b[38;5;241m.\u001b[39msource:\n\u001b[1;32m   1341\u001b[0m         \u001b[38;5;66;03m# get the failure reason by checking the source module instance\u001b[39;00m\n\u001b[1;32m   1342\u001b[0m         module_instance \u001b[38;5;241m=\u001b[39m \u001b[38;5;28;01mawait\u001b[39;00m \u001b[38;5;28mself\u001b[39m\u001b[38;5;241m.\u001b[39mprovider\u001b[38;5;241m.\u001b[39mmodule_instance(remote_arg\u001b[38;5;241m.\u001b[39msource)\n\u001b[0;32m-> 1343\u001b[0m         \u001b[38;5;28;01mraise\u001b[39;00m \u001b[38;5;167;01mException\u001b[39;00m(\n\u001b[1;32m   1344\u001b[0m             (\n\u001b[1;32m   1345\u001b[0m                 module_instance\u001b[38;5;241m.\u001b[39mfailure_reason,\n\u001b[1;32m   1346\u001b[0m                 module_instance\u001b[38;5;241m.\u001b[39mfailure_context,\n\u001b[1;32m   1347\u001b[0m             )\n\u001b[1;32m   1348\u001b[0m         )\n\u001b[1;32m   1349\u001b[0m     \u001b[38;5;28;01mraise\u001b[39;00m \u001b[38;5;167;01mException\u001b[39;00m(\u001b[38;5;124m\"\u001b[39m\u001b[38;5;124mArgument was rejected\u001b[39m\u001b[38;5;124m\"\u001b[39m)\n\u001b[1;32m   1350\u001b[0m \u001b[38;5;28;01melse\u001b[39;00m:\n",
      "\u001b[0;31mException\u001b[0m: (<ModuleFailureReason.RESOLUTION: 'RESOLUTION'>, ModuleInstanceCommonFailureContext(stdout=None, stderr=None, syserr='argument resolution failed due to rejected arguments'))"
     ]
    }
   ],
   "source": [
    "pdb_dry.download(\"dry_frames.tar.gz\")"
   ]
  },
  {
   "cell_type": "code",
   "execution_count": null,
   "id": "ead305d5-f956-442c-86df-de960e6d6a69",
   "metadata": {},
   "outputs": [],
   "source": [
    "import tarfile\n",
    "\n",
    "with tarfile.open(client.workspace / \"objects\" / \"dry_frames.tar.gz\", \"r\") as tf:\n",
    "    selected_frame_pdbs = [\n",
    "        tf.extractfile(member).read()\n",
    "        for member in tf\n",
    "        if \"pdb\" in member.name and member.isfile()\n",
    "    ]\n",
    "    for i, frame in enumerate(selected_frame_pdbs):\n",
    "        with open(\n",
    "            client.workspace / \"objects\" / f\"gmx_output_frame_{i}.pdb\", \"w\"\n",
    "        ) as pf:\n",
    "            print(frame.decode(\"utf-8\"), file=pf)"
   ]
  },
  {
   "cell_type": "code",
   "execution_count": null,
   "id": "49886900-aaf5-424e-ac2b-cb324a5a6911",
   "metadata": {},
   "outputs": [],
   "source": [
    "with open(client.workspace / \"objects\" / \"gmx_output_frame_0.pdb\", \"r\") as f:\n",
    "    print(str.join(\"\", f.readlines()[0:10]))"
   ]
  },
  {
   "cell_type": "code",
   "execution_count": null,
   "id": "88e8ec4b-4cf4-4d98-aef8-68df83d00674",
   "metadata": {},
   "outputs": [],
   "source": []
  }
 ],
 "metadata": {
  "kernelspec": {
   "display_name": "python3",
   "language": "python",
   "name": "python3"
  }
 },
 "nbformat": 4,
 "nbformat_minor": 5
}
