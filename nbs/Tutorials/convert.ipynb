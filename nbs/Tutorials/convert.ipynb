{
 "cells": [
  {
   "cell_type": "markdown",
   "id": "51c4b1fa",
   "metadata": {},
   "source": [
    "# Convert — Run a simple conversion of a PDB to the QDXF format"
   ]
  },
  {
   "cell_type": "markdown",
   "id": "b324195c",
   "metadata": {},
   "source": [
    "This notebook shows how to perform a simple conversion of PDBs to the QDXF format"
   ]
  },
  {
   "cell_type": "markdown",
   "id": "dbfa2bf6",
   "metadata": {},
   "source": [
    "# 0) Complete example\n",
    "See the [sample notebook](/Quickstarts/convert-sample.ipynb) for a complete demonstration."
   ]
  },
  {
   "cell_type": "markdown",
   "id": "aebe264d",
   "metadata": {},
   "source": [
    "# 1) Setup"
   ]
  },
  {
   "cell_type": "markdown",
   "id": "2cea9c15",
   "metadata": {},
   "source": [
    "## 1.0) Imports"
   ]
  },
  {
   "cell_type": "code",
   "execution_count": null,
   "id": "e4436b55",
   "metadata": {},
   "outputs": [],
   "source": [
    "import os\n",
    "from glob import glob\n",
    "from pathlib import Path\n",
    "\n",
    "from pdbtools import pdb_fetch\n",
    "\n",
    "import rush"
   ]
  },
  {
   "cell_type": "markdown",
   "id": "99bc4a0c",
   "metadata": {},
   "source": [
    "## 1.1) Configuration"
   ]
  },
  {
   "cell_type": "code",
   "execution_count": null,
   "id": "8d689e78",
   "metadata": {},
   "outputs": [],
   "source": [
    "# Define our project information\n",
    "DESCRIPTION = \"rush-py batch notebook\"\n",
    "TAGS = [\"qdx\", \"rush-py-v2\", \"demo\", \"convert\"]\n",
    "WORK_DIR = Path.home() / \"qdx\" / \"convert\"\n",
    "\n",
    "# Set our inputs\n",
    "PROTEIN_PDB_FOLDER_PATH = WORK_DIR / \"proteins\""
   ]
  },
  {
   "cell_type": "code",
   "execution_count": null,
   "id": "f362dedc",
   "metadata": {},
   "outputs": [],
   "source": [
    "# |hide\n",
    "if WORK_DIR.exists():\n",
    "    client = rush.Provider(workspace=WORK_DIR)\n",
    "    await client.nuke(remote=False)"
   ]
  },
  {
   "cell_type": "code",
   "execution_count": null,
   "id": "3bf2dce1",
   "metadata": {},
   "outputs": [],
   "source": [
    "os.makedirs(PROTEIN_PDB_FOLDER_PATH, exist_ok=True)"
   ]
  },
  {
   "cell_type": "markdown",
   "id": "9170f644",
   "metadata": {},
   "source": [
    "## 1.2) Build your client"
   ]
  },
  {
   "cell_type": "markdown",
   "id": "bcca9ccd",
   "metadata": {},
   "source": [
    "Initialize our rush client and fetch available module paths."
   ]
  },
  {
   "cell_type": "code",
   "execution_count": null,
   "id": "3317552a",
   "metadata": {},
   "outputs": [],
   "source": [
    "# Get our client, for calling modules and using the rush API\n",
    "client = await rush.build_provider_with_functions(\n",
    "    workspace=WORK_DIR,\n",
    "    batch_tags=TAGS,\n",
    ")"
   ]
  },
  {
   "cell_type": "code",
   "execution_count": null,
   "id": "53837b45-2ce1-4333-9899-d8e36b7e9f65",
   "metadata": {},
   "outputs": [],
   "source": [
    "# |hide\n",
    "client = await rush.build_provider_with_functions(\n",
    "    workspace=WORK_DIR,\n",
    "    batch_tags=TAGS,\n",
    "    restore_by_default=True\n",
    ")"
   ]
  },
  {
   "cell_type": "markdown",
   "id": "4bbd37ad",
   "metadata": {},
   "source": [
    "# 2) Fetch PDBS"
   ]
  },
  {
   "cell_type": "code",
   "execution_count": null,
   "id": "74b1bf8e",
   "metadata": {},
   "outputs": [],
   "source": [
    "pdb_ids = [\"1B39\", \"1GIH\"]\n",
    "for pdb_id in pdb_ids:\n",
    "    complex = list(pdb_fetch.fetch_structure(pdb_id))\n",
    "    with open(PROTEIN_PDB_FOLDER_PATH / f\"{pdb_id}.pdb\", \"w\") as f:\n",
    "        for line in complex:\n",
    "            f.write(line)"
   ]
  },
  {
   "cell_type": "markdown",
   "id": "aea65e65",
   "metadata": {},
   "source": [
    "# 3) Convert each PDB"
   ]
  },
  {
   "cell_type": "code",
   "execution_count": null,
   "id": "29bc351c",
   "metadata": {},
   "outputs": [
    {
     "name": "stdout",
     "output_type": "stream",
     "text": [
      "2024-02-25 16:59:07,537 - rush - INFO - Trying to restore job with tags: ['qdx', 'rush-py-v2', 'demo', 'convert'] and path: github:talo/tengu-prelude/6ce15cd56dc7a3cec8e5e6951bb473e33c5ecd11#convert\n",
      "2024-02-25 16:59:07,845 - rush - INFO - Argument 62e0450a-1e52-4969-ad70-0734270be792 is now ModuleInstanceStatus.RESOLVING\n",
      "2024-02-25 16:59:08,925 - rush - INFO - Argument 62e0450a-1e52-4969-ad70-0734270be792 is now ModuleInstanceStatus.ADMITTED\n",
      "2024-02-25 16:59:51,161 - rush - INFO - Argument 62e0450a-1e52-4969-ad70-0734270be792 is now ModuleInstanceStatus.DISPATCHED\n",
      "2024-02-25 16:59:52,241 - rush - INFO - Argument 62e0450a-1e52-4969-ad70-0734270be792 is now ModuleInstanceStatus.QUEUED\n",
      "2024-02-25 16:59:53,349 - rush - INFO - Argument 62e0450a-1e52-4969-ad70-0734270be792 is now ModuleInstanceStatus.AWAITING_UPLOAD\n",
      "{'url': 'https://storage.googleapis.com/qdx-store/d82e623c-7483-4c66-9b98-69ddc91d66e6?x-goog-signature=1ce86ac00268d615826fba94766389e07a1efe0271bdf2bdfa93dfe66f5b7f8e79260a3dd4e206fcfe75283b38e50b20cdc821a6e75bcbf90e1e78d6fb74579cc30729ce6783cb308767deec6522adeaa68e13352badc06aa878041153c19108835296a8cb9cf65ba47e0dbf7d6cfb9b529dbfbc2f96a62eb90a6bc47403ac49fa54eefe4695a4cbcda7477371dad05f675aa82e647457dfc973d32aa4f33f0a74d4322b275a24a85d19d4f78c9880598e639a08371da62f46f0b4e3faaeea1dd09e99762a13011bd08eb2f1a629b75b2b86ae1e9152849cf8bc7a120750aac3985d6b49b6f2e1d290b6648a7ee80d04e8447c8ae53235df955a97c9594db3a8&x-goog-algorithm=GOOG4-RSA-SHA256&x-goog-credential=qdx-store-user%40humming-bird-321603.iam.gserviceaccount.com%2F20240225%2Fasia-southeast1%2Fstorage%2Fgoog4_request&x-goog-date=20240225T085957Z&x-goog-expires=3600&x-goog-signedheaders=host'}\n",
      "2024-02-25 16:59:57,605 - rush - INFO - Trying to restore job with tags: ['qdx', 'rush-py-v2', 'demo', 'convert'] and path: github:talo/tengu-prelude/6ce15cd56dc7a3cec8e5e6951bb473e33c5ecd11#convert\n",
      "2024-02-25 16:59:57,639 - rush - INFO - Restoring job from previous run with id 1cb77943-9d46-4f9f-ac66-1a9d9759db7d\n",
      "{'url': 'https://storage.googleapis.com/qdx-store/d82e623c-7483-4c66-9b98-69ddc91d66e6?x-goog-signature=3d54eb777d7842ac718a70d5c48809f1c8d1f4d94c55258c952da7836fc8de1f32a9ca436eaae3fbf4e3b0448a298ceb2234a95cebb0f55f9e7994960234c02af387d83ca1c68f61539572634d39396921eedffbfb863deb844e1f99d95a370744e7d4db4687aa5d2f5604c2b8e80b5888a4a1bf450b8dfc717c31eb801c46294211e1a3b5bc0bb42bfa940fcca235476fdc991c28bc126537badc2f80a66babccb70faa2f6427306be913882522c7008baf96bf63f38e7dc8b20bc0ede5a2e4257fc5f30b99270d3b74a3116cf3f0ab88c9e1d63cba907229dd22813a50d46d8658412f0e2ea1bef53965dcb1c90f5e0f8222fae56d4cd731df08e6fd17a3c4&x-goog-algorithm=GOOG4-RSA-SHA256&x-goog-credential=qdx-store-user%40humming-bird-321603.iam.gserviceaccount.com%2F20240225%2Fasia-southeast1%2Fstorage%2Fgoog4_request&x-goog-date=20240225T085959Z&x-goog-expires=3600&x-goog-signedheaders=host'}\n"
     ]
    }
   ],
   "source": [
    "for pdb in glob(str(PROTEIN_PDB_FOLDER_PATH / \"*.pdb\")):\n",
    "    (conformer,) = await client.convert(\"PDB\", Path(pdb), target=\"NIX\")\n",
    "    print(await conformer.get())"
   ]
  },
  {
   "cell_type": "code",
   "execution_count": null,
   "id": "db39a5a5",
   "metadata": {},
   "outputs": [
    {
     "data": {
      "text/plain": [
       "{'1cb77943-9d46-4f9f-ac66-1a9d9759db7d': (<ModuleInstanceStatus.COMPLETED: 'COMPLETED'>,\n",
       "  'convert',\n",
       "  1)}"
      ]
     },
     "execution_count": null,
     "metadata": {},
     "output_type": "execute_result"
    }
   ],
   "source": [
    "await client.status()"
   ]
  },
  {
   "cell_type": "code",
   "execution_count": null,
   "id": "056eb14b-efab-41da-b2db-85887ae716c6",
   "metadata": {},
   "outputs": [],
   "source": []
  }
 ],
 "metadata": {
  "kernelspec": {
   "display_name": "python3",
   "language": "python",
   "name": "python3"
  }
 },
 "nbformat": 4,
 "nbformat_minor": 5
}
