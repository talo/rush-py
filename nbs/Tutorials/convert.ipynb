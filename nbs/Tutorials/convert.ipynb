{
 "cells": [
  {
   "cell_type": "markdown",
   "id": "51c4b1fa",
   "metadata": {},
   "source": [
    "# Convert — Run a simple conversion of a PDB to the QDXF format"
   ]
  },
  {
   "cell_type": "markdown",
   "id": "b324195c",
   "metadata": {},
   "source": [
    "This notebook shows how to perform a simple conversion of PDBs to the QDXF format"
   ]
  },
  {
   "cell_type": "markdown",
   "id": "dbfa2bf6",
   "metadata": {},
   "source": [
    "# 0) Complete example\n",
    "See the [sample notebook](/Quickstarts/convert-sample.ipynb) for a complete demonstration."
   ]
  },
  {
   "cell_type": "markdown",
   "id": "aebe264d",
   "metadata": {},
   "source": [
    "# 1) Setup"
   ]
  },
  {
   "cell_type": "markdown",
   "id": "2cea9c15",
   "metadata": {},
   "source": [
    "## 1.0) Imports"
   ]
  },
  {
   "cell_type": "code",
   "execution_count": null,
   "id": "e4436b55",
   "metadata": {},
   "outputs": [],
   "source": [
    "import os\n",
    "from glob import glob\n",
    "from pathlib import Path\n",
    "\n",
    "from pdbtools import pdb_fetch\n",
    "\n",
    "import rush"
   ]
  },
  {
   "cell_type": "markdown",
   "id": "99bc4a0c",
   "metadata": {},
   "source": [
    "## 1.1) Configuration"
   ]
  },
  {
   "cell_type": "code",
   "execution_count": null,
   "id": "8d689e78",
   "metadata": {},
   "outputs": [],
   "source": [
    "# Define our project information\n",
    "DESCRIPTION = \"rush-py batch notebook\"\n",
    "TAGS = [\"qdx\", \"rush-py-v2\", \"demo\", \"convert\"]\n",
    "WORK_DIR = Path.home() / \"qdx\" / \"convert\"\n",
    "\n",
    "# Set our inputs\n",
    "PROTEIN_PDB_FOLDER_PATH = WORK_DIR / \"proteins\""
   ]
  },
  {
   "cell_type": "code",
   "execution_count": null,
   "id": "f362dedc",
   "metadata": {},
   "outputs": [],
   "source": [
    "# |hide\n",
    "if WORK_DIR.exists():\n",
    "    client = rush.Provider(workspace=WORK_DIR)\n",
    "    await client.nuke(remote=False)"
   ]
  },
  {
   "cell_type": "code",
   "execution_count": null,
   "id": "3bf2dce1",
   "metadata": {},
   "outputs": [],
   "source": [
    "os.makedirs(PROTEIN_PDB_FOLDER_PATH, exist_ok=True)"
   ]
  },
  {
   "cell_type": "markdown",
   "id": "9170f644",
   "metadata": {},
   "source": [
    "## 1.2) Build your client"
   ]
  },
  {
   "cell_type": "markdown",
   "id": "bcca9ccd",
   "metadata": {},
   "source": [
    "Initialize our rush client and fetch available module paths."
   ]
  },
  {
   "cell_type": "code",
   "execution_count": null,
   "id": "3317552a",
   "metadata": {},
   "outputs": [],
   "source": [
    "# Get our client, for calling modules and using the rush API\n",
    "client = await rush.build_provider_with_functions(\n",
    "    workspace=WORK_DIR,\n",
    "    batch_tags=TAGS,\n",
    ")"
   ]
  },
  {
   "cell_type": "code",
   "execution_count": null,
   "id": "53837b45-2ce1-4333-9899-d8e36b7e9f65",
   "metadata": {},
   "outputs": [],
   "source": [
    "# |hide\n",
    "client = await rush.build_provider_with_functions(\n",
    "    workspace=WORK_DIR, batch_tags=TAGS, restore_by_default=True\n",
    ")"
   ]
  },
  {
   "cell_type": "markdown",
   "id": "4bbd37ad",
   "metadata": {},
   "source": [
    "# 2) Fetch PDBS"
   ]
  },
  {
   "cell_type": "code",
   "execution_count": null,
   "id": "74b1bf8e",
   "metadata": {},
   "outputs": [],
   "source": [
    "pdb_ids = [\"1B39\", \"1GIH\"]\n",
    "for pdb_id in pdb_ids:\n",
    "    complex = list(pdb_fetch.fetch_structure(pdb_id))\n",
    "    with open(PROTEIN_PDB_FOLDER_PATH / f\"{pdb_id}.pdb\", \"w\") as f:\n",
    "        for line in complex:\n",
    "            f.write(line)"
   ]
  },
  {
   "cell_type": "markdown",
   "id": "aea65e65",
   "metadata": {},
   "source": [
    "# 3) Convert each PDB"
   ]
  },
  {
   "cell_type": "code",
   "execution_count": null,
   "id": "29bc351c",
   "metadata": {},
   "outputs": [
    {
     "name": "stdout",
     "output_type": "stream",
     "text": [
      "2024-02-28 18:33:24,610 - rush - INFO - Trying to restore job with tags: ['qdx', 'rush-py-v2', 'demo', 'convert'] and path: github:talo/tengu-prelude/f506c7ead174cdb7e8d1725139254bb85c6b62f8#convert\n",
      "2024-02-28 18:33:24,920 - rush - INFO - Argument dc76b276-72e5-4f58-bd4b-411af1650e40 is now ModuleInstanceStatus.RESOLVING\n",
      "2024-02-28 18:33:26,036 - rush - INFO - Argument dc76b276-72e5-4f58-bd4b-411af1650e40 is now ModuleInstanceStatus.RUNNING\n",
      "2024-02-28 18:33:27,246 - rush - INFO - Argument dc76b276-72e5-4f58-bd4b-411af1650e40 is now ModuleInstanceStatus.AWAITING_UPLOAD\n",
      "url='https://storage.googleapis.com/rush_store_default/d4a18db2-b727-4f5d-b802-4b5c9c8969d6?x-goog-signature=051ec7adc46c46f15da0e8460b1f1cc35e7418d02df0fb5f2f2a6fb237796714a51bb36b15a87625042f28b1d0953b3e4e587e5fca0a679a3f21696d0c0cda68275b4a320c74acab2b48057df7c162c75b5d9726dd5b8632e5e66c0dc6e7336c988123309106bbb7a1c58871329d9b15dee2d58ae6c04fc45e81e906e3a968bb39f661828fe213c3cba62e043001a98d9d0cbb053eab60276b257d5195244890eb18e315633435751f291955e6d601f13730bb2418dacc723e4aa1f983e4c79cb46c93dea3163803b72265e4e0a0f00a610e4b9c6a4701048033cccd7a2c6c2ed13dd5d3afa3ce6236623d6fbefdeb9c811f834a6040a3d36eb8ce89f8d7ea77&x-goog-algorithm=GOOG4-RSA-SHA256&x-goog-credential=qdx-store-user%40humming-bird-321603.iam.gserviceaccount.com%2F20240228%2Fasia-southeast1%2Fstorage%2Fgoog4_request&x-goog-date=20240228T103330Z&x-goog-expires=3600&x-goog-signedheaders=host'\n",
      "2024-02-28 18:33:31,261 - rush - INFO - Trying to restore job with tags: ['qdx', 'rush-py-v2', 'demo', 'convert'] and path: github:talo/tengu-prelude/f506c7ead174cdb7e8d1725139254bb85c6b62f8#convert\n",
      "2024-02-28 18:33:31,309 - rush - INFO - Restoring job from previous run with id c3156fa9-9a73-4639-9226-67e3c64682df\n",
      "url='https://storage.googleapis.com/rush_store_default/d4a18db2-b727-4f5d-b802-4b5c9c8969d6?x-goog-signature=0b9b62cc80f27341dcbc7ef83baa2ab0d218532f0797ffd16ecbd23617c3da14a6f456ee339bca0a4d0a8f7edc9e36a282db21e99b762442bbfa398fb1d7ac69006bd10b44c76ac882fb7aa03b93701142b447b15227f541ff3f5c73052a1284a85f0a4b94cbb591a425027254459a0300b9a4269e34ffdaa77899fa3113131809076c17fbc84169ddce6ac29d72b4bfc80d54ee334368bd5bfe87694e8555c2a3d92a3d0244ab98f8fc4b92e6c3b1cd6c5ca48cfea40dac2893711b843723970872c790230210ecbb6d56ce8d3c83a841de78fcad2900d2294ecaf65a03350cb94bc9f0f88bbfc0223fc4c6062f9051f3c0d591346a5bef39c7b5273dddbc74&x-goog-algorithm=GOOG4-RSA-SHA256&x-goog-credential=qdx-store-user%40humming-bird-321603.iam.gserviceaccount.com%2F20240228%2Fasia-southeast1%2Fstorage%2Fgoog4_request&x-goog-date=20240228T103332Z&x-goog-expires=3600&x-goog-signedheaders=host'\n"
     ]
    }
   ],
   "source": [
    "for pdb in glob(str(PROTEIN_PDB_FOLDER_PATH / \"*.pdb\")):\n",
    "    (conformer,) = await client.convert(\"PDB\", Path(pdb), target=\"NIX\")\n",
    "    print(await conformer.get())"
   ]
  },
  {
   "cell_type": "code",
   "execution_count": null,
   "id": "db39a5a5",
   "metadata": {},
   "outputs": [
    {
     "data": {
      "text/plain": [
       "{'c3156fa9-9a73-4639-9226-67e3c64682df': (<ModuleInstanceStatus.COMPLETED: 'COMPLETED'>,\n",
       "  'convert',\n",
       "  1)}"
      ]
     },
     "execution_count": null,
     "metadata": {},
     "output_type": "execute_result"
    }
   ],
   "source": [
    "await client.status()"
   ]
  }
 ],
 "metadata": {
  "kernelspec": {
   "display_name": "python3",
   "language": "python",
   "name": "python3"
  }
 },
 "nbformat": 4,
 "nbformat_minor": 5
}
