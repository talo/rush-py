{
 "cells": [
  {
   "cell_type": "markdown",
   "id": "51c4b1fa",
   "metadata": {},
   "source": [
    "# Convert — Run a simple conversion of a PDB to the QDXF format"
   ]
  },
  {
   "cell_type": "markdown",
   "id": "b324195c",
   "metadata": {},
   "source": [
    "This notebook shows how to perform a simple conversion of PDBs to the QDXF format"
   ]
  },
  {
   "cell_type": "markdown",
   "id": "dbfa2bf6",
   "metadata": {},
   "source": [
    "# 0) Complete example\n",
    "See the [sample notebook](/Quickstarts/convert-sample.ipynb) for a complete demonstration."
   ]
  },
  {
   "cell_type": "markdown",
   "id": "aebe264d",
   "metadata": {},
   "source": [
    "# 1) Setup"
   ]
  },
  {
   "cell_type": "markdown",
   "id": "2cea9c15",
   "metadata": {},
   "source": [
    "## 1.0) Imports"
   ]
  },
  {
   "cell_type": "code",
   "execution_count": null,
   "id": "e4436b55",
   "metadata": {},
   "outputs": [],
   "source": [
    "import os\n",
    "from glob import glob\n",
    "from pathlib import Path\n",
    "\n",
    "from pdbtools import pdb_fetch\n",
    "\n",
    "import rush"
   ]
  },
  {
   "cell_type": "markdown",
   "id": "99bc4a0c",
   "metadata": {},
   "source": [
    "## 1.1) Configuration"
   ]
  },
  {
   "cell_type": "code",
   "execution_count": null,
   "id": "8d689e78",
   "metadata": {},
   "outputs": [],
   "source": [
    "# Define our project information\n",
    "DESCRIPTION = \"rush-py batch notebook\"\n",
    "TAGS = [\"qdx\", \"rush-py-v2\", \"demo\", \"convert\"]\n",
    "WORK_DIR = Path.home() / \"qdx\" / \"convert\"\n",
    "\n",
    "# Set our inputs\n",
    "PROTEIN_PDB_FOLDER_PATH = WORK_DIR / \"proteins\""
   ]
  },
  {
   "cell_type": "code",
   "execution_count": null,
   "id": "f362dedc",
   "metadata": {},
   "outputs": [
    {
     "name": "stdout",
     "output_type": "stream",
     "text": [
      "2024-04-09 14:00:14,166 - rush - INFO - Not restoring by default via default\n"
     ]
    }
   ],
   "source": [
    "# |hide\n",
    "if WORK_DIR.exists():\n",
    "    client = rush.Provider(workspace=WORK_DIR)\n",
    "    await client.nuke(remote=False)\n",
    "YOUR_TOKEN = os.getenv(\"RUSH_TOKEN\")"
   ]
  },
  {
   "cell_type": "code",
   "execution_count": null,
   "id": "3bf2dce1",
   "metadata": {},
   "outputs": [],
   "source": [
    "os.makedirs(PROTEIN_PDB_FOLDER_PATH, exist_ok=True)"
   ]
  },
  {
   "cell_type": "markdown",
   "id": "9170f644",
   "metadata": {},
   "source": [
    "## 1.2) Build your client"
   ]
  },
  {
   "cell_type": "markdown",
   "id": "bcca9ccd",
   "metadata": {},
   "source": [
    "Initialize our rush client and fetch available module paths."
   ]
  },
  {
   "cell_type": "code",
   "execution_count": null,
   "id": "3317552a",
   "metadata": {},
   "outputs": [
    {
     "name": "stdout",
     "output_type": "stream",
     "text": [
      "2024-04-09 14:00:14,390 - rush - INFO - Not restoring by default via default\n"
     ]
    }
   ],
   "source": [
    "# Get our client, for calling modules and using the rush API\n",
    "os.environ[\"RUSH_TOKEN\"] = YOUR_TOKEN\n",
    "\n",
    "client = rush.build_blocking_provider_with_functions(\n",
    "    workspace=WORK_DIR,\n",
    "    batch_tags=TAGS,\n",
    ")"
   ]
  },
  {
   "cell_type": "markdown",
   "id": "4bbd37ad",
   "metadata": {},
   "source": [
    "# 2) Fetch PDBS"
   ]
  },
  {
   "cell_type": "code",
   "execution_count": null,
   "id": "74b1bf8e",
   "metadata": {},
   "outputs": [],
   "source": [
    "pdb_ids = [\"1B39\", \"1GIH\"]\n",
    "for pdb_id in pdb_ids:\n",
    "    complex = list(pdb_fetch.fetch_structure(pdb_id))\n",
    "    with open(PROTEIN_PDB_FOLDER_PATH / f\"{pdb_id}.pdb\", \"w\") as f:\n",
    "        for line in complex:\n",
    "            f.write(line)"
   ]
  },
  {
   "cell_type": "markdown",
   "id": "aea65e65",
   "metadata": {},
   "source": [
    "# 3) Convert each PDB"
   ]
  },
  {
   "cell_type": "code",
   "execution_count": null,
   "id": "29bc351c",
   "metadata": {},
   "outputs": [
    {
     "name": "stdout",
     "output_type": "stream",
     "text": [
      "2024-04-09 14:00:17,928 - rush - INFO - Argument 0dffd14c-f94c-41be-9623-20f627681919 is now ModuleInstanceStatus.RESOLVING\n",
      "2024-04-09 14:00:19,030 - rush - INFO - Argument 0dffd14c-f94c-41be-9623-20f627681919 is now ModuleInstanceStatus.ADMITTED\n",
      "2024-04-09 14:00:20,162 - rush - INFO - Argument 0dffd14c-f94c-41be-9623-20f627681919 is now ModuleInstanceStatus.RUNNING\n",
      "2024-04-09 14:00:21,283 - rush - INFO - Argument 0dffd14c-f94c-41be-9623-20f627681919 is now ModuleInstanceStatus.AWAITING_UPLOAD\n",
      "[{\"topology\": {\"version\": null, \"symbols\": [\"C\", \" ...\n",
      "2024-04-09 14:00:26,055 - rush - INFO - Argument e8cfcff6-424a-4698-b0c5-e27826ba2f12 is now ModuleInstanceStatus.RESOLVING\n",
      "2024-04-09 14:00:27,178 - rush - INFO - Argument e8cfcff6-424a-4698-b0c5-e27826ba2f12 is now ModuleInstanceStatus.ADMITTED\n",
      "2024-04-09 14:00:28,340 - rush - INFO - Argument e8cfcff6-424a-4698-b0c5-e27826ba2f12 is now ModuleInstanceStatus.RUNNING\n",
      "2024-04-09 14:00:29,450 - rush - INFO - Argument e8cfcff6-424a-4698-b0c5-e27826ba2f12 is now ModuleInstanceStatus.AWAITING_UPLOAD\n",
      "[{\"topology\": {\"version\": null, \"symbols\": [\"N\", \" ...\n"
     ]
    }
   ],
   "source": [
    "for pdb in glob(str(PROTEIN_PDB_FOLDER_PATH / \"*.pdb\")):\n",
    "    (conformer,) = client.convert(\n",
    "        \"PDB\", Path(pdb), tags=[Path(pdb).name], target=\"NIX\"\n",
    "    )\n",
    "    print(conformer.download(overwrite=True).open().read()[0:50], \"...\")"
   ]
  },
  {
   "cell_type": "code",
   "execution_count": null,
   "id": "db39a5a5",
   "metadata": {},
   "outputs": [
    {
     "data": {
      "text/plain": [
       "{'4332ca04-d445-44a1-8c97-01a5eb6ff6bb': (<ModuleInstanceStatus.COMPLETED: 'COMPLETED'>,\n",
       "  'convert',\n",
       "  1),\n",
       " '09fd6693-3d81-4616-92a0-1086d9fbd139': (<ModuleInstanceStatus.COMPLETED: 'COMPLETED'>,\n",
       "  'convert',\n",
       "  1)}"
      ]
     },
     "execution_count": null,
     "metadata": {},
     "output_type": "execute_result"
    }
   ],
   "source": [
    "client.status()"
   ]
  },
  {
   "cell_type": "code",
   "execution_count": null,
   "id": "396438cb-e727-42da-b33a-ba761a43a4db",
   "metadata": {},
   "outputs": [],
   "source": []
  }
 ],
 "metadata": {
  "kernelspec": {
   "display_name": "python3",
   "language": "python",
   "name": "python3"
  }
 },
 "nbformat": 4,
 "nbformat_minor": 5
}
