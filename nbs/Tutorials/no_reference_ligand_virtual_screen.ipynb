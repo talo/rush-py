{
 "cells": [
  {
   "cell_type": "markdown",
   "metadata": {},
   "source": [
    "## Virtual screen protocol\n",
    "\n",
    "In this tutorial, we will demonstrate how you can use `rush-py` to conduct a large-scale virtual screen on a target without a known drug target.\n",
    "This is useful for scenarios where you want to explore drugging a protein target that has no reference ligand.\n",
    "\n",
    "We will use the Zinc20 database of FDA approved drugs as our sample screening database, but Rush's capability means that this protocol could scale to screen tens of millions of ligands."
   ]
  },
  {
   "cell_type": "markdown",
   "metadata": {},
   "source": [
    "## 0.0) Imports"
   ]
  },
  {
   "cell_type": "code",
   "execution_count": 1,
   "metadata": {},
   "outputs": [],
   "source": [
    "import rush\n",
    "import csv\n",
    "\n",
    "import requests\n",
    "from pathlib import Path"
   ]
  },
  {
   "cell_type": "markdown",
   "metadata": {},
   "source": [
    "## 0.1) Project configuration"
   ]
  },
  {
   "cell_type": "code",
   "execution_count": 2,
   "metadata": {},
   "outputs": [],
   "source": [
    "# |hide\n",
    "import os\n",
    "import pathlib\n",
    "\n",
    "WORK_DIR = pathlib.Path(\"~/qdx/virtual-screen/\").expanduser()\n",
    "if WORK_DIR.exists():\n",
    "    !rm -r $WORK_DIR\n",
    "os.makedirs(WORK_DIR)\n",
    "os.chdir(WORK_DIR)"
   ]
  },
  {
   "cell_type": "code",
   "execution_count": 3,
   "metadata": {},
   "outputs": [],
   "source": [
    "# Define our project information\n",
    "DESCRIPTION = \"rush-py virtual screen\"\n",
    "TAGS = [\"qdx\", \"rush-py-v2\", \"demo\", \"virtual-screen\"]\n",
    "WORK_DIR = Path.home() / \"qdx\" / \"virtual-screen\""
   ]
  },
  {
   "cell_type": "code",
   "execution_count": 4,
   "metadata": {},
   "outputs": [],
   "source": [
    "client = await rush.build_provider_with_functions()"
   ]
  },
  {
   "cell_type": "markdown",
   "metadata": {},
   "source": [
    "## 0.3) Input files for virtual screen\n",
    "\n",
    "For more details about the input structure of the our virtual screen module, we can run:"
   ]
  },
  {
   "cell_type": "code",
   "execution_count": 5,
   "metadata": {},
   "outputs": [
    {
     "name": "stdout",
     "output_type": "stream",
     "text": [
      "Help on function virtual_screen_pdb in module rush.provider:\n",
      "\n",
      "async virtual_screen_pdb(*args: *tuple[RushObject[bytes], Optional[RushObject[bytes]], RushObject[bytes], Record], target: 'Target | None' = None, resources: 'Resources | None' = {'storage': 138, 'storage_units': 'MB', 'gpus': 1}, tags: 'list[str] | None' = None, output_tags: 'list[list[str] | None] | None' = None, restore: 'bool | None' = None) -> tuple[list[None]]\n",
      "    Run a virtual screen on a library of molecules\n",
      "\n",
      "    Please see:\n",
      "    GNINA 1.0: Molecular docking with deep learning\n",
      "    A McNutt, P Francoeur, R Aggarwal, T Masuda, R Meli, M Ragoza, J Sunseri, DR Koes. J. Cheminformatics, 2021\n",
      "\n",
      "\n",
      "    Module version:\n",
      "    `github:talo/tengu-virtualscreen/dc2dc37ff95f935708c50f6d04500a84b7102b5b#tengu_virtual_screen_pdb`\n",
      "\n",
      "    QDX Type Description:\n",
      "\n",
      "        in: Object[@$Bytes];\n",
      "        in: Object {size: u64, format: ObjectFormat[json | bin]?, path: @$Bytes}?;\n",
      "        in: Object[@$Bytes,];\n",
      "        in: VirtualScreenOptions {\n",
      "            templated_docking: bool?,\n",
      "            top_n_hits: u32?,\n",
      "            screen_n_molecules: u32?,\n",
      "            docking_site: GninaDockingSite {\n",
      "                size_z: f32,\n",
      "                center_y: f32,\n",
      "                size_x: f32,\n",
      "                size_y: f32,\n",
      "                center_z: f32,\n",
      "                center_x: f32\n",
      "            }?,\n",
      "            sort_option: GninaSortOption[Affinity | CnnScore | CnnAffinity]?\n",
      "        }\n",
      "        ->\n",
      "        out: [(\n",
      "            string,\n",
      "            Object {size: u64, format: ObjectFormat[json | bin]?, path: @$Bytes},\n",
      "            [GninaScore {mode: i32, cnn_score: f32, affinity: f32, cnn_affinity: f32}]\n",
      "        )]\n",
      "\n"
     ]
    }
   ],
   "source": [
    "help(client.virtual_screen_pdb)"
   ]
  },
  {
   "cell_type": "markdown",
   "metadata": {},
   "source": [
    "## 0.4 Download protein target \n",
    "For this example, we will fetch an example protein. We are using CDK2 as a protein target to serve as an example.\n",
    "In this step, we also remove the ligand from the protein PDB file."
   ]
  },
  {
   "cell_type": "code",
   "execution_count": 6,
   "metadata": {},
   "outputs": [],
   "source": [
    "PROTEIN_TARGET_FILEPATH = Path.cwd() / \"3pxy_cleaned.pdb\"\n",
    "VIRTUAL_SCREEN_LIBRARY_URL = (\n",
    "    \"https://zinc20.docking.org/substances/subsets/fda.csv?count=all\"\n",
    ")\n",
    "VIRTUAL_SCREEN_FILEPATH = Path.cwd() / \"vs.txt\""
   ]
  },
  {
   "cell_type": "code",
   "execution_count": null,
   "metadata": {},
   "outputs": [
    {
     "name": "stdout",
     "output_type": "stream",
     "text": [
      "3pxy_B_JWS.sdf\t3pxy_cleaned.pdb\n"
     ]
    }
   ],
   "source": [
    "!pdb_fetch '3pxy' |  pdb_delhetatm > 3pxy_cleaned.pdb\n",
    "!ls"
   ]
  },
  {
   "cell_type": "markdown",
   "metadata": {},
   "source": [
    "## 0.4) Prepping virtual screen library\n",
    "The virtual screen module expects a file of SMILES strings with each one seperated by newlines, so we need to download the Zinc20 dataset and then write only the SMILES strings to a new file.\n"
   ]
  },
  {
   "cell_type": "code",
   "execution_count": null,
   "metadata": {},
   "outputs": [],
   "source": [
    "with requests.get(VIRTUAL_SCREEN_LIBRARY_URL, stream=True) as response:\n",
    "    response.raise_for_status()\n",
    "\n",
    "    lines = (line.decode(\"utf-8\") for line in response.iter_lines())\n",
    "    reader = csv.DictReader(lines)\n",
    "\n",
    "    with open(VIRTUAL_SCREEN_FILEPATH, 'w') as f:\n",
    "        # also write the reference ligand to the screen for sanity checking purposes\n",
    "        f.write('COc1ccc(O)c(-c2nc(N)nc(N)n2)c1' + '\\n')\n",
    "        for row in reader:\n",
    "            if \"smiles\" in row:\n",
    "                f.write(row['smiles'] + '\\n')"
   ]
  },
  {
   "cell_type": "code",
   "execution_count": null,
   "metadata": {},
   "outputs": [
    {
     "name": "stdout",
     "output_type": "stream",
     "text": [
      "COc1ccc(O)c(-c2nc(N)nc(N)n2)c1\n",
      "C[C@@H](S)C(=O)NCC(=O)O\n",
      "COc1ccccc1OC[C@H](O)CO\n"
     ]
    }
   ],
   "source": [
    "# print the first 3 lines of the file for verification purposes \n",
    "with open(VIRTUAL_SCREEN_FILEPATH, 'r') as file:\n",
    "    for _ in range(3):\n",
    "        print(file.readline(), end=\"\")"
   ]
  },
  {
   "cell_type": "markdown",
   "metadata": {},
   "source": [
    "## 1.0) Run p2rank to find potential pockets to target\n"
   ]
  },
  {
   "cell_type": "markdown",
   "metadata": {},
   "source": [
    "## 1.0) Run virtual screen module\n",
    "We are only screening the first 100 molecules as a preflight check before running the whole screen."
   ]
  },
  {
   "cell_type": "code",
   "execution_count": null,
   "metadata": {},
   "outputs": [],
   "source": [
    "VS_CONFIG = {'templated_docking': True, 'screen_n_molecules': 100}\n",
    "\n",
    "(results,) = await client.virtual_screen_pdb(\n",
    "    PROTEIN_TARGET_FILEPATH,\n",
    "    REFERENCE_LIGAND_FILEPATH,\n",
    "    VIRTUAL_SCREEN_FILEPATH,\n",
    "    VS_CONFIG,\n",
    "    target=\"BULLET\",\n",
    "    resources={'gpus': 1, \"storage\": 50, \"storage_units\": \"GB\"},\n",
    ")\n"
   ]
  },
  {
   "cell_type": "markdown",
   "metadata": {},
   "source": [
    "## 1.1) Viewing and downloading results\n",
    "The virtual screen module returns a number of hits ordered by gnina CNNScore by default, though is is configurable.\n",
    "We can also download any of our top screen hits which are stored as SDF files."
   ]
  },
  {
   "cell_type": "code",
   "execution_count": null,
   "metadata": {},
   "outputs": [
    {
     "name": "stdout",
     "output_type": "stream",
     "text": [
      "2024-06-14 01:43:13,780 - rush - INFO - Argument a8630dc2-babe-4fcc-90d5-ead5c3466c87 is now ModuleInstanceStatus.ADMITTED\n",
      "2024-06-14 01:43:26,501 - rush - INFO - Argument a8630dc2-babe-4fcc-90d5-ead5c3466c87 is now ModuleInstanceStatus.DISPATCHED\n",
      "2024-06-14 01:44:31,426 - rush - INFO - Argument a8630dc2-babe-4fcc-90d5-ead5c3466c87 is now ModuleInstanceStatus.RUNNING\n",
      "2024-06-14 01:44:43,973 - rush - INFO - Argument a8630dc2-babe-4fcc-90d5-ead5c3466c87 is now ModuleInstanceStatus.AWAITING_UPLOAD\n"
     ]
    },
    {
     "data": {
      "text/plain": [
       "[['CCCN[C@H]1CCc2nc(N)sc2C1',\n",
       "  {'path': 'ea787e0d-4268-4e94-965e-901c44033913',\n",
       "   'size': 0,\n",
       "   'format': 'json'},\n",
       "  [{'mode': 1,\n",
       "    'affinity': -5.97556,\n",
       "    'cnn_score': 0.84076226,\n",
       "    'cnn_affinity': 1.6136252}]],\n",
       " ['CCCN[C@H]1CCc2nc(N)sc2C1',\n",
       "  {'path': '48a20872-96ca-4eae-98c9-84203e43e3bb',\n",
       "   'size': 0,\n",
       "   'format': 'json'},\n",
       "  [{'mode': 1,\n",
       "    'affinity': -6.14681,\n",
       "    'cnn_score': 0.8310019,\n",
       "    'cnn_affinity': 1.6622521}]],\n",
       " ['CCCN[C@H]1CCc2nc(N)sc2C1',\n",
       "  {'path': 'e0b4e72d-d183-4d1c-980e-71a21bd333fc',\n",
       "   'size': 0,\n",
       "   'format': 'json'},\n",
       "  [{'mode': 1,\n",
       "    'affinity': -5.95758,\n",
       "    'cnn_score': 0.79241043,\n",
       "    'cnn_affinity': 2.0833986}]],\n",
       " ['CCCN[C@H]1CCc2nc(N)sc2C1',\n",
       "  {'path': 'da54ce66-e4d9-4a35-9d6c-2388bb8eab7f',\n",
       "   'size': 0,\n",
       "   'format': 'json'},\n",
       "  [{'mode': 1,\n",
       "    'affinity': -6.28759,\n",
       "    'cnn_score': 0.7663172,\n",
       "    'cnn_affinity': 2.135249}]],\n",
       " ['C[C@@H](CCc1ccccc1)NC[C@H](O)c1ccc(O)c(C(N)=O)c1',\n",
       "  {'path': '307006c2-5232-46f8-a1ec-8e1788462755',\n",
       "   'size': 0,\n",
       "   'format': 'json'},\n",
       "  [{'mode': 1,\n",
       "    'affinity': -9.47406,\n",
       "    'cnn_score': 0.6721443,\n",
       "    'cnn_affinity': 3.5826306}]]]"
      ]
     },
     "metadata": {},
     "output_type": "display_data"
    }
   ],
   "source": [
    "screen_results = await results.get()\n",
    "screen_results"
   ]
  },
  {
   "cell_type": "code",
   "execution_count": null,
   "metadata": {},
   "outputs": [
    {
     "name": "stdout",
     "output_type": "stream",
     "text": [
      "ea787e0d-4268-4e94-965e-901c44033913\n"
     ]
    },
    {
     "name": "stdout",
     "output_type": "stream",
     "text": [
      "objects/CCCN[C@H]1CCc2nc(N)sc2C1.sdf\n"
     ]
    }
   ],
   "source": [
    "path_to_best_pose = screen_results[0][1]['path']\n",
    "print(path_to_best_pose)\n",
    "\n",
    "out_path =  await client.download_object(path_to_best_pose, filename=f'{screen_results[0][0]}.sdf', decode=True, overwrite=True)\n",
    "print(out_path)"
   ]
  },
  {
   "cell_type": "code",
   "execution_count": null,
   "metadata": {},
   "outputs": [
    {
     "name": "stdout",
     "output_type": "stream",
     "text": [
      "\n",
      "\n",
      "\n",
      " 17 18  0  0  0  0  0  0  0  0999 V2000\n",
      "   65.2011   80.0207  -82.6061 C   0  0  0  0  0  0  0  0  0  0  0  0\n",
      "   65.6572   79.9666  -81.1486 C   0  0  0  0  0  0  0  0  0  0  0  0\n",
      "   65.9533   78.5724  -80.5956 C   0  0  0  0  0  0  0  0  0  0  0  0\n",
      "   66.5680   77.6469  -81.5908 C   0  0  0  0  0  0  0  0  0  0  0  0\n",
      "   67.1377   76.4650  -81.2394 N   0  0  0  0  0  0  0  0  0  0  0  0\n",
      "   67.5501   75.7858  -82.3319 C   0  0  0  0  0  0  0  0  0  0  0  0\n",
      "   68.1939   74.5197  -82.2610 N   0  0  0  0  0  0  0  0  0  0  0  0\n",
      "   67.2207   76.6009  -83.7689 S   0  0  0  0  0  0  0  0  0  0  0  0\n",
      "   66.4940   77.8802  -82.9553 C   0  0  0  0  0  0  0  0  0  0  0  0\n",
      "   66.0108   79.1497  -83.5678 C   0  0  0  0  0  0  0  0  0  0  0  0\n",
      "  -10.3952   56.8908   27.0933 H   0  0  0  0  0  0  0  0  0  0  0  0\n",
      "  -10.3952   56.8908   27.0933 H   0  0  0  0  0  0  0  0  0  0  0  0\n",
      "   63.7957   79.6549  -82.6836 N   0  0  0  0  0  0  0  0  0  0  0  0\n",
      "    2.1012   11.3715   15.3196 H   0  0  0  0  0  0  0  0  0  0  0  0\n",
      "   63.0617   80.8504  -83.0606 C   0  0  0  0  0  0  0  0  0  0  0  0\n",
      "   62.0204   82.8746  -82.0974 C   0  0  0  0  0  0  0  0  0  0  0  0\n"
     ]
    }
   ],
   "source": [
    "with open(out_path, 'r') as file:\n",
    "        for _ in range(0,20):\n",
    "                print(file.readline(), end=\"\")"
   ]
  }
 ],
 "metadata": {
  "kernelspec": {
   "display_name": "Python 3 (ipykernel)",
   "language": "python",
   "name": "python3"
  },
  "language_info": {
   "codemirror_mode": {
    "name": "ipython",
    "version": 3
   },
   "file_extension": ".py",
   "mimetype": "text/x-python",
   "name": "python",
   "nbconvert_exporter": "python",
   "pygments_lexer": "ipython3",
   "version": "3.12.3"
  }
 },
 "nbformat": 4,
 "nbformat_minor": 2
}
