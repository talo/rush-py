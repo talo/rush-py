{
 "cells": [
  {
   "cell_type": "markdown",
   "id": "f71433bf",
   "metadata": {},
   "source": [
    "# PLIP — Protein ligand interaction profiling"
   ]
  },
  {
   "cell_type": "markdown",
   "id": "981d720d",
   "metadata": {},
   "source": [
    "This notebook will walk us through using PLIP for identification of non-covalent interactions between biological macromolecules and their ligands.\n",
    "\n",
    "**PLIP implementation paper**:\n",
    "Adasme et al. PLIP 2021: expanding the scope of the protein-ligand interaction profiler to DNA and RNA. NAR 2021"
   ]
  },
  {
   "cell_type": "markdown",
   "id": "4ffe902a",
   "metadata": {},
   "source": [
    "# 0) Complete example\n",
    "See the [sample notebook](/Quickstarts/protein-ligand-interactions-sample.ipynb) for a complete demonstration."
   ]
  },
  {
   "cell_type": "markdown",
   "id": "ef91694f",
   "metadata": {},
   "source": [
    "# 1) Setup\n",
    "See [Quickstart](../index.ipynb#imports) for more details on the setup.\n"
   ]
  },
  {
   "cell_type": "markdown",
   "id": "74d6f1f9",
   "metadata": {},
   "source": [
    "## 1.0) Imports"
   ]
  },
  {
   "cell_type": "code",
   "execution_count": null,
   "id": "d58aab6c",
   "metadata": {},
   "outputs": [],
   "source": [
    "import os\n",
    "from pathlib import Path\n",
    "\n",
    "import rush\n",
    "from pdbtools import pdb_fetch"
   ]
  },
  {
   "cell_type": "markdown",
   "id": "a5b3122a",
   "metadata": {},
   "source": [
    "## 1.1) Configuration"
   ]
  },
  {
   "cell_type": "code",
   "execution_count": null,
   "id": "63417710",
   "metadata": {},
   "outputs": [],
   "source": [
    "TOKEN = os.getenv(\"RUSH_TOKEN\")\n",
    "# You might have a custom deployment url, by default the client will use\n",
    "# https://tengu.qdx.ai\n",
    "RUSH_URL = os.getenv(\"RUSH_URL\")"
   ]
  },
  {
   "cell_type": "markdown",
   "id": "4b894c95",
   "metadata": {},
   "source": [
    "Let's set some global variables that define our project."
   ]
  },
  {
   "cell_type": "code",
   "execution_count": null,
   "id": "4395d710",
   "metadata": {},
   "outputs": [],
   "source": [
    "DESCRIPTION = \"plip-inference-notebook\"\n",
    "TAGS = [\"rush-py\", \"plip\", \"notebook\"]"
   ]
  },
  {
   "cell_type": "markdown",
   "id": "ad1f8b10",
   "metadata": {},
   "source": [
    "## 1.2) Build your client"
   ]
  },
  {
   "cell_type": "code",
   "execution_count": null,
   "id": "dc086fa2",
   "metadata": {},
   "outputs": [],
   "source": [
    "# |hide\n",
    "WORK_DIR = Path.home() / \"qdx\" / \"plip-inference-rush-py-demo\"\n",
    "if WORK_DIR.exists():\n",
    "    client = rush.Provider(workspace=WORK_DIR, access_token=TOKEN, url=RUSH_URL)\n",
    "    await client.nuke(remote=False)\n",
    "os.makedirs(WORK_DIR, exist_ok=True)"
   ]
  },
  {
   "cell_type": "code",
   "execution_count": null,
   "id": "c2bb7193",
   "metadata": {},
   "outputs": [],
   "source": [
    "client = await rush.build_provider_with_functions(\n",
    "    access_token=TOKEN, url=RUSH_URL, batch_tags=TAGS\n",
    ")"
   ]
  },
  {
   "cell_type": "code",
   "execution_count": null,
   "id": "fa7caae8-7a31-433a-8e66-207735ac04bd",
   "metadata": {},
   "outputs": [],
   "source": [
    "# |hide\n",
    "client = await rush.build_provider_with_functions(\n",
    "    access_token=TOKEN,\n",
    "    url=RUSH_URL,\n",
    "    workspace=WORK_DIR,\n",
    "    batch_tags=TAGS,\n",
    "    restore_by_default=True,\n",
    ")"
   ]
  },
  {
   "cell_type": "markdown",
   "id": "cffe6b63",
   "metadata": {},
   "source": [
    "# 2) Preparation"
   ]
  },
  {
   "cell_type": "markdown",
   "id": "11c791aa",
   "metadata": {},
   "source": [
    "## 2.0) Fetch example PDB\n",
    "Note that PLIP requires a PDB file of a protein-ligand complex."
   ]
  },
  {
   "cell_type": "code",
   "execution_count": null,
   "id": "c9ce2b4d",
   "metadata": {},
   "outputs": [],
   "source": [
    "PDB_ID = \"1GIH\"\n",
    "FILE_NAME = f\"{PDB_ID}.pdb\"\n",
    "FILE_PATH = WORK_DIR / FILE_NAME"
   ]
  },
  {
   "cell_type": "code",
   "execution_count": null,
   "id": "71988142",
   "metadata": {},
   "outputs": [],
   "source": [
    "complex = list(pdb_fetch.fetch_structure(PDB_ID))\n",
    "\n",
    "with open(FILE_PATH, \"w\") as f:\n",
    "    for line in complex:\n",
    "        f.write(line)"
   ]
  },
  {
   "cell_type": "markdown",
   "id": "07d61ff6",
   "metadata": {},
   "source": [
    "# 3) PLIP"
   ]
  },
  {
   "cell_type": "markdown",
   "id": "11f66242",
   "metadata": {},
   "source": [
    "## 3.1) Arguments"
   ]
  },
  {
   "cell_type": "code",
   "execution_count": null,
   "id": "fdc745a9",
   "metadata": {},
   "outputs": [
    {
     "name": "stdout",
     "output_type": "stream",
     "text": [
      "Help on function plip in module rush.provider:\n",
      "\n",
      "async plip(*args: *tuple[RushObject[None]], target: 'Target | None' = None, resources: 'Resources | None' = {'storage': 138, 'storage_units': 'MB', 'gpus': 0}, tags: 'list[str] | None' = None, restore: 'bool | None' = None) -> tuple[RushObject[Record], RushObject[None]]\n",
      "    Run PLIP on the input PDB file of a protein-ligand complex to obtain interaction data.\n",
      "\n",
      "\n",
      "    Module version:\n",
      "    `github:talo/tengu-plip/b0119d6e16e564376dee67f5deb418f03b818065#plip_tengu`\n",
      "\n",
      "    QDX Type Description:\n",
      "\n",
      "        input_complex_pdb_file: Object[@$PDB]\n",
      "        ->\n",
      "        output_conformer: Object[Conformer];\n",
      "        output_txt_file: Object[@$PDB]\n",
      "\n",
      "\n",
      "    :param input_complex_pdb_file: The protein-ligand complex as a PDB file; ligand should be the only HETATM lines.\n",
      "    :return output_conformer: A QDX Conformer of the complex with the computed interaction data\n",
      "    :return output_txt_file: The output txt report from the PLIP run\n",
      "\n"
     ]
    }
   ],
   "source": [
    "help(client.plip)"
   ]
  },
  {
   "cell_type": "markdown",
   "id": "18a29079",
   "metadata": {},
   "source": [
    "We can see from the above help documentation that we need to pass the Path to our PDB file as an argument."
   ]
  },
  {
   "cell_type": "markdown",
   "id": "96886bc2",
   "metadata": {},
   "source": [
    "## 3.2) Run PLIP\n",
    "Finally, we run PLIP so we can identify interactions between the ligand and the protein within our protein complex."
   ]
  },
  {
   "cell_type": "code",
   "execution_count": null,
   "id": "97381a58",
   "metadata": {},
   "outputs": [
    {
     "name": "stdout",
     "output_type": "stream",
     "text": [
      "2024-02-28 18:51:38,266 - rush - INFO - Trying to restore job with tags: ['rush-py', 'plip', 'notebook'] and path: github:talo/tengu-plip/b0119d6e16e564376dee67f5deb418f03b818065#plip_tengu\n"
     ]
    }
   ],
   "source": [
    "PLIP_RESOURCES = {\"storage\": 1024_000}\n",
    "\n",
    "output_conformer, output_txt = await client.plip(\n",
    "    FILE_PATH, resources=PLIP_RESOURCES\n",
    ")"
   ]
  },
  {
   "cell_type": "markdown",
   "id": "154fba5f",
   "metadata": {},
   "source": [
    "## 3.3) Get output conformer\n",
    "Here, we get the output Conformer (in QDXF format) that is enriched with `binding_site_interactions` by PLIP."
   ]
  },
  {
   "cell_type": "code",
   "execution_count": null,
   "id": "948c9a0a",
   "metadata": {},
   "outputs": [
    {
     "name": "stdout",
     "output_type": "stream",
     "text": [
      "2024-02-28 18:51:38,623 - rush - INFO - Argument f8ff9ef9-28d4-49db-998d-2e56004805c1 is now ModuleInstanceStatus.RESOLVING\n",
      "2024-02-28 18:51:42,021 - rush - INFO - Argument f8ff9ef9-28d4-49db-998d-2e56004805c1 is now ModuleInstanceStatus.ADMITTED\n",
      "2024-02-28 18:51:55,231 - rush - INFO - Argument f8ff9ef9-28d4-49db-998d-2e56004805c1 is now ModuleInstanceStatus.DISPATCHED\n",
      "2024-02-28 18:52:00,789 - rush - INFO - Argument f8ff9ef9-28d4-49db-998d-2e56004805c1 is now ModuleInstanceStatus.AWAITING_UPLOAD\n"
     ]
    }
   ],
   "source": [
    "output_conformer = await output_conformer.get()"
   ]
  },
  {
   "cell_type": "markdown",
   "id": "522af845",
   "metadata": {},
   "source": [
    "## 3.4) Get PLIP output document\n",
    "PLIP also returns a link to the output document of the results of the PLIP output."
   ]
  },
  {
   "cell_type": "code",
   "execution_count": null,
   "id": "0d16bd8f",
   "metadata": {},
   "outputs": [
    {
     "name": "stdout",
     "output_type": "stream",
     "text": [
      "Prediction of noncovalent interactions for PDB structure 1GIH\n",
      " ...\n"
     ]
    }
   ],
   "source": [
    "await output_txt.download(\"plip_output.txt\", overwrite=True)\n",
    "with open(client.workspace / \"objects\" / \"plip_output.txt\") as f:\n",
    "    print(f.readline(), \"...\")"
   ]
  }
 ],
 "metadata": {
  "kernelspec": {
   "display_name": "python3",
   "language": "python",
   "name": "python3"
  }
 },
 "nbformat": 4,
 "nbformat_minor": 5
}
