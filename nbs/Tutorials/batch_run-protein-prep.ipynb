{
 "cells": [
  {
   "cell_type": "markdown",
   "id": "fef8f457",
   "metadata": {},
   "source": [
    "# Batch protein preparation"
   ]
  },
  {
   "cell_type": "markdown",
   "id": "34a4bf50",
   "metadata": {},
   "source": [
    "This notebook shows how to load a large amount of data and execute runs on them in parallel"
   ]
  },
  {
   "cell_type": "code",
   "execution_count": 1,
   "id": "37cda57c",
   "metadata": {},
   "outputs": [],
   "source": [
    "import os\n",
    "import asyncio\n",
    "from glob import glob\n",
    "from datetime import datetime\n",
    "from pathlib import Path\n",
    "\n",
    "from pdbtools import (\n",
    "    pdb_fetch,\n",
    "    pdb_delhetatm,\n",
    "    pdb_selchain,\n",
    "    pdb_rplresname,\n",
    "    pdb_keepcoord,\n",
    "    pdb_selresname,\n",
    ")\n",
    "\n",
    "import rush"
   ]
  },
  {
   "cell_type": "markdown",
   "id": "a9f57149",
   "metadata": {},
   "source": [
    "### 0) Setup"
   ]
  },
  {
   "cell_type": "code",
   "execution_count": 2,
   "id": "ce0bfb29",
   "metadata": {},
   "outputs": [],
   "source": [
    "# Set our token - ensure you have exported RUSH_TOKEN in your shell; or just\n",
    "# replace the os.getenv with your token\n",
    "TOKEN = os.getenv(\"RUSH_TOKEN\")\n",
    "URL = os.getenv(\"RUSH_URL\")"
   ]
  },
  {
   "cell_type": "code",
   "execution_count": 3,
   "id": "cb226da2",
   "metadata": {},
   "outputs": [],
   "source": [
    "# Define our project information\n",
    "DESCRIPTION = \"rush-py batch notebook\"\n",
    "TAGS = [\"qdx\", \"rush-py-v2\", \"demo\", \"batch-prep\"]\n",
    "WORK_DIR = Path.home() / \"qdx\" / \"rush-py-batch-prep\"\n",
    "\n",
    "# Set our inputs\n",
    "PROTEIN_PDB_FOLDER_PATH = WORK_DIR / \"proteins\"\n",
    "\n",
    "TARGET = \"NIX_SSH\""
   ]
  },
  {
   "cell_type": "code",
   "execution_count": 4,
   "id": "af952e1c",
   "metadata": {},
   "outputs": [],
   "source": [
    "# |hide\n",
    "if WORK_DIR.exists():\n",
    "    client = rush.Provider(workspace=WORK_DIR)\n",
    "    await client.nuke(remote=False)"
   ]
  },
  {
   "cell_type": "markdown",
   "id": "352188e4",
   "metadata": {},
   "source": [
    "Ensure your workdir exists"
   ]
  },
  {
   "cell_type": "code",
   "execution_count": 5,
   "id": "2a8b8ae6",
   "metadata": {},
   "outputs": [],
   "source": [
    "os.makedirs(WORK_DIR, exist_ok=True)\n",
    "os.makedirs(PROTEIN_PDB_FOLDER_PATH, exist_ok=True)"
   ]
  },
  {
   "cell_type": "markdown",
   "id": "fa27aa92",
   "metadata": {},
   "source": [
    "## Initialize our rush client and fetch available module paths"
   ]
  },
  {
   "cell_type": "code",
   "execution_count": 6,
   "id": "7ad49db6",
   "metadata": {},
   "outputs": [],
   "source": [
    "# Get our client, for calling modules and using the rush API\n",
    "client = await rush.build_provider_with_functions(\n",
    "    access_token=TOKEN, url=URL, workspace=WORK_DIR, batch_tags=TAGS\n",
    ")"
   ]
  },
  {
   "cell_type": "code",
   "execution_count": 8,
   "id": "4a985e57-7df4-422f-8a1a-aeec8f1a79f4",
   "metadata": {},
   "outputs": [],
   "source": [
    "# |hide \n",
    "client = await rush.build_provider_with_functions(\n",
    "    access_token=TOKEN, url=URL, workspace=WORK_DIR, batch_tags=TAGS, restore_by_default=True\n",
    ")"
   ]
  },
  {
   "cell_type": "code",
   "execution_count": 7,
   "id": "c8ad05a2",
   "metadata": {},
   "outputs": [],
   "source": [
    "# fetch datafiles\n",
    "for pdb in [\"1B39\", \"4QXI\", \"8FSU\"]:\n",
    "    complex = list(pdb_fetch.fetch_structure(pdb))\n",
    "    protein = pdb_delhetatm.remove_hetatm(pdb_selchain.select_chain(complex, \"A\"))\n",
    "\n",
    "    with open(PROTEIN_PDB_FOLDER_PATH / f\"{pdb}_protein.pdb\", \"w\") as f:\n",
    "        for l in protein:\n",
    "            f.write(str(l))"
   ]
  },
  {
   "cell_type": "code",
   "execution_count": 8,
   "id": "b620172f",
   "metadata": {},
   "outputs": [
    {
     "name": "stdout",
     "output_type": "stream",
     "text": [
      "Help on function prepare_protein in module rush.provider:\n",
      "\n",
      "async prepare_protein(*args: *tuple[RushObject[bytes]], target: Optional[Target] = 'NIX_SSH', resources: Optional[Resources] = {'storage': 138, 'storage_units': 'MB', 'gpus': 1}, tags: list[str] | None = None, restore: bool | None = None) -> tuple[RushObject[list[Conformer]], RushObject[bytes]]\n",
      "    Prepare a PDB for downstream tasks: protonate, fill missing atoms, etc.\n",
      "    \n",
      "    Module version:  \n",
      "    `github:talo/prepare_protein/83bed2ad1f01f495c94518717f9f5b1bd7fe855c#prepare_protein_tengu`\n",
      "    \n",
      "    QDX Type Description:\n",
      "    \n",
      "        input_pdb: @bytes\n",
      "        ->\n",
      "        output_qdxf: @[Conformer];\n",
      "        output_pdb: @bytes\n",
      "    \n",
      "    :param input_pdb: An input protein as a file; one PDB file\n",
      "    :return output_qdxf: An output protein a vec: one qdxf per model in pdb\n",
      "    :return output_pdb: An output protein as a file: one PDB file\n",
      "\n"
     ]
    }
   ],
   "source": [
    "help(client.prepare_protein)"
   ]
  },
  {
   "cell_type": "markdown",
   "id": "3df0af8f",
   "metadata": {},
   "source": [
    "## For each ligand, start a gmx + gmx_mmpbsa run"
   ]
  },
  {
   "cell_type": "code",
   "execution_count": 9,
   "id": "1fe96013",
   "metadata": {},
   "outputs": [
    {
     "name": "stdout",
     "output_type": "stream",
     "text": [
      "/root/qdx/rush-py-batch-prep/proteins/4QXI_protein.pdb\n",
      "2024-02-08 08:46:42,881 - rush - INFO - restore=None self.restore_by_default=False\n",
      "/root/qdx/rush-py-batch-prep/proteins/1B39_protein.pdb\n",
      "2024-02-08 08:46:42,984 - rush - INFO - restore=None self.restore_by_default=False\n",
      "/root/qdx/rush-py-batch-prep/proteins/8FSU_protein.pdb\n",
      "2024-02-08 08:46:43,047 - rush - INFO - restore=None self.restore_by_default=False\n"
     ]
    },
    {
     "data": {
      "text/plain": [
       "[('4QXI_protein', Arg(id=d1fab763-bd1d-437f-896b-eafcca4c7e76, value=None)),\n",
       " ('1B39_protein', Arg(id=5cf3cebb-6178-4d59-8a1c-fcb590dc1243, value=None)),\n",
       " ('8FSU_protein', Arg(id=ddc00e8a-982a-4f92-9a22-78dd379fa0da, value=None))]"
      ]
     },
     "execution_count": 9,
     "metadata": {},
     "output_type": "execute_result"
    }
   ],
   "source": [
    "proteins = map(lambda x: Path(x), glob(str(PROTEIN_PDB_FOLDER_PATH / \"*.pdb\")))\n",
    "\n",
    "protein_outputs = []\n",
    "\n",
    "for protein_path in proteins:\n",
    "    print(protein_path)\n",
    "    name = protein_path.stem\n",
    "    (prepped_protein_qdxf, prepped_pdb) = await client.prepare_protein(\n",
    "        protein_path,\n",
    "        target=TARGET,\n",
    "        tags=[name],\n",
    "    )\n",
    "    protein_outputs.append((name, prepped_protein_qdxf))\n",
    "\n",
    "protein_outputs"
   ]
  },
  {
   "cell_type": "markdown",
   "id": "c0231614",
   "metadata": {},
   "source": [
    "## Report progress\n",
    "This will show the status of all of your runs"
   ]
  },
  {
   "cell_type": "code",
   "execution_count": 10,
   "id": "2028dfcc",
   "metadata": {},
   "outputs": [
    {
     "name": "stdout",
     "output_type": "stream",
     "text": [
      "Module                           | Status                           | Count\n",
      "---------------------------------------------------------------------------\n",
      "prepare_protein                  | ModuleInstanceStatus.ADMITTED    |     3\n"
     ]
    }
   ],
   "source": [
    "status = await client.status(group_by=\"path\")\n",
    "print(f\"{'Module':<32} | {'Status':<32} | Count\")\n",
    "print(\"-\" * 75)\n",
    "for module, (status, path, count) in status.items():\n",
    "    print(f\"{path:<32} | {status:<32} | {count:>5}\")"
   ]
  },
  {
   "cell_type": "markdown",
   "id": "652e9699",
   "metadata": {},
   "source": [
    "## Download Results\n",
    "This will retrieve results for your completed module_instances"
   ]
  },
  {
   "cell_type": "code",
   "execution_count": 11,
   "id": "92309ba4",
   "metadata": {},
   "outputs": [
    {
     "name": "stdout",
     "output_type": "stream",
     "text": [
      "2024-02-08 08:47:31,694 - rush - INFO - Argument ddc00e8a-982a-4f92-9a22-78dd379fa0da is now ModuleInstanceStatus.RUNNING\n",
      "2024-02-08 08:47:31,775 - rush - INFO - Argument 5cf3cebb-6178-4d59-8a1c-fcb590dc1243 is now ModuleInstanceStatus.AWAITING_UPLOAD\n",
      "2024-02-08 08:47:35,033 - rush - INFO - Argument ddc00e8a-982a-4f92-9a22-78dd379fa0da is now ModuleInstanceStatus.AWAITING_UPLOAD\n"
     ]
    },
    {
     "data": {
      "text/plain": [
       "[None, None, None]"
      ]
     },
     "execution_count": 11,
     "metadata": {},
     "output_type": "execute_result"
    }
   ],
   "source": [
    "await asyncio.gather(\n",
    "    *[\n",
    "        output[1].download(filename=f\"protein_{output[0]}.qdxf.json\")\n",
    "        for output in protein_outputs\n",
    "    ],\n",
    ")"
   ]
  },
  {
   "cell_type": "markdown",
   "id": "f1fe839e",
   "metadata": {},
   "source": [
    "## Check failures\n",
    "This will retrieve failed runs in your workspace history"
   ]
  },
  {
   "cell_type": "code",
   "execution_count": 12,
   "id": "de4c054c",
   "metadata": {},
   "outputs": [],
   "source": [
    "for instance_id, (status, name, count) in (await client.status()).items():\n",
    "    if status.value == \"FAILED\":\n",
    "        async for log_page in client.logs(instance_id, \"stderr\"):\n",
    "            for log in log_page:\n",
    "                print(log)"
   ]
  },
  {
   "cell_type": "code",
   "execution_count": null,
   "id": "f2f1ffc7-3406-4063-a559-cdec2be41755",
   "metadata": {},
   "outputs": [],
   "source": []
  }
 ],
 "metadata": {
  "kernelspec": {
   "display_name": "Python 3 (ipykernel)",
   "language": "python",
   "name": "python3"
  },
  "language_info": {
   "codemirror_mode": {
    "name": "ipython",
    "version": 3
   },
   "file_extension": ".py",
   "mimetype": "text/x-python",
   "name": "python",
   "nbconvert_exporter": "python",
   "pygments_lexer": "ipython3",
   "version": "3.11.6"
  }
 },
 "nbformat": 4,
 "nbformat_minor": 5
}
