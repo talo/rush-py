{
 "cells": [
  {
   "cell_type": "markdown",
   "id": "fef8f457",
   "metadata": {},
   "source": [
    "# Batch protein preparation"
   ]
  },
  {
   "cell_type": "markdown",
   "id": "34a4bf50",
   "metadata": {},
   "source": [
    "This notebook shows how to load a large amount of data and execute runs on them in parallel"
   ]
  },
  {
   "cell_type": "code",
   "execution_count": null,
   "id": "37cda57c",
   "metadata": {},
   "outputs": [],
   "source": [
    "import os\n",
    "import asyncio\n",
    "from glob import glob\n",
    "from datetime import datetime\n",
    "from pathlib import Path\n",
    "\n",
    "from pdbtools import (\n",
    "    pdb_fetch,\n",
    "    pdb_delhetatm,\n",
    "    pdb_selchain,\n",
    "    pdb_rplresname,\n",
    "    pdb_keepcoord,\n",
    "    pdb_selresname,\n",
    ")\n",
    "\n",
    "import rush"
   ]
  },
  {
   "cell_type": "markdown",
   "id": "a9f57149",
   "metadata": {},
   "source": [
    "### 0) Setup"
   ]
  },
  {
   "cell_type": "code",
   "execution_count": null,
   "id": "ce0bfb29",
   "metadata": {},
   "outputs": [],
   "source": [
    "# Set our token - ensure you have exported RUSH_TOKEN in your shell; or just\n",
    "# replace the os.getenv with your token\n",
    "TOKEN = os.getenv(\"RUSH_TOKEN\")\n",
    "URL = os.getenv(\"RUSH_URL\")"
   ]
  },
  {
   "cell_type": "code",
   "execution_count": null,
   "id": "cb226da2",
   "metadata": {},
   "outputs": [],
   "source": [
    "# Define our project information\n",
    "DESCRIPTION = \"rush-py batch notebook\"\n",
    "TAGS = [\"qdx\", \"rush-py-v2\", \"demo\", \"batch-prep\"]\n",
    "WORK_DIR = Path.home() / \"qdx\" / \"rush-py-batch-prep\"\n",
    "\n",
    "# Set our inputs\n",
    "PROTEIN_PDB_FOLDER_PATH = WORK_DIR / \"proteins\"\n",
    "\n",
    "TARGET = \"NIX_SSH\""
   ]
  },
  {
   "cell_type": "code",
   "execution_count": null,
   "id": "af952e1c",
   "metadata": {},
   "outputs": [],
   "source": [
    "# |hide\n",
    "if WORK_DIR.exists():\n",
    "    client = rush.Provider(workspace=WORK_DIR)\n",
    "    await client.nuke(remote=True)"
   ]
  },
  {
   "cell_type": "markdown",
   "id": "352188e4",
   "metadata": {},
   "source": [
    "Ensure your workdir exists"
   ]
  },
  {
   "cell_type": "code",
   "execution_count": null,
   "id": "2a8b8ae6",
   "metadata": {},
   "outputs": [],
   "source": [
    "os.makedirs(WORK_DIR, exist_ok=True)\n",
    "os.makedirs(PROTEIN_PDB_FOLDER_PATH, exist_ok=True)"
   ]
  },
  {
   "cell_type": "markdown",
   "id": "fa27aa92",
   "metadata": {},
   "source": [
    "## Initialize our rush client and fetch available module paths"
   ]
  },
  {
   "cell_type": "code",
   "execution_count": null,
   "id": "7ad49db6",
   "metadata": {},
   "outputs": [],
   "source": [
    "# Get our client, for calling modules and using the rush API\n",
    "client = await rush.build_provider_with_functions(\n",
    "    access_token=TOKEN, url=URL, workspace=WORK_DIR, batch_tags=TAGS\n",
    ")"
   ]
  },
  {
   "cell_type": "code",
   "execution_count": null,
   "id": "c8ad05a2",
   "metadata": {},
   "outputs": [],
   "source": [
    "# fetch datafiles\n",
    "for pdb in [\"1B39\", \"4QXI\", \"8FSU\"]:\n",
    "    complex = list(pdb_fetch.fetch_structure(pdb))\n",
    "    protein = pdb_delhetatm.remove_hetatm(pdb_selchain.select_chain(complex, \"A\"))\n",
    "\n",
    "    with open(PROTEIN_PDB_FOLDER_PATH / f\"{pdb}_protein.pdb\", \"w\") as f:\n",
    "        for l in protein:\n",
    "            f.write(str(l))"
   ]
  },
  {
   "cell_type": "code",
   "execution_count": null,
   "id": "b620172f",
   "metadata": {},
   "outputs": [
    {
     "name": "stdout",
     "output_type": "stream",
     "text": [
      "Help on function prepare_protein in module rush.provider:\n",
      "\n",
      "async prepare_protein(*args: [<class 'pathlib.Path'>], target: rush.graphql_client.enums.ModuleInstanceTarget | None = <ModuleInstanceTarget.NIX_SSH_2: 'NIX_SSH_2'>, resources: rush.graphql_client.input_types.ModuleInstanceResourcesInput | None = ModuleInstanceResourcesInput(gpus=1, gpu_mem=None, gpu_mem_units=None, cpus=None, nodes=None, mem=None, mem_units=None, storage=138, storage_units=<MemUnits.MB: 'MB'>, walltime=None, storage_mounts=None), tags: list[str] | None = None, restore: bool | None = None) -> [<class 'pathlib.Path'>, <class 'pathlib.Path'>]\n",
      "    Prepare a PDB for downstream tasks: protonate, fill missing atoms, etc.\n",
      "    \n",
      "    Module version: github:talo/pdb2pqr/ff5abe87af13f31478ede490d37468a536621e9c#prepare_protein_tengu\n",
      "    \n",
      "    QDX Type Description:\n",
      "    \n",
      "        input_pdb: @bytes \n",
      "    \n",
      "    ->\n",
      "    \n",
      "        output_qdxf: @[Conformer];\n",
      "    \n",
      "        output_pdb: @bytes\n",
      "    \n",
      "    \n",
      "    \n",
      "    :param input_pdb: An input protein as a file: one PDB file\n",
      "    :return output_qdxf: An output protein a vec: one qdxf per model in pdb\n",
      "    :return output_pdb: An output protein as a file: one PDB file\n",
      "\n"
     ]
    }
   ],
   "source": [
    "help(client.prepare_protein)"
   ]
  },
  {
   "cell_type": "markdown",
   "id": "3df0af8f",
   "metadata": {},
   "source": [
    "## For each ligand, start a gmx + gmx_mmpbsa run"
   ]
  },
  {
   "cell_type": "code",
   "execution_count": null,
   "id": "1fe96013",
   "metadata": {},
   "outputs": [
    {
     "name": "stdout",
     "output_type": "stream",
     "text": [
      "/home/machineer/qdx/rush-py-batch-prep/proteins/1B39_protein.pdb\n",
      "/home/machineer/qdx/rush-py-batch-prep/proteins/8FSU_protein.pdb\n",
      "/home/machineer/qdx/rush-py-batch-prep/proteins/4QXI_protein.pdb\n"
     ]
    },
    {
     "data": {
      "text/plain": [
       "[('1B39_protein', Arg(id=243a4174-1aba-45c9-89e5-01da89e43fe0, value=None)),\n",
       " ('8FSU_protein', Arg(id=d7eacce8-f86d-4ebf-9d1e-e85c0cebfa5f, value=None)),\n",
       " ('4QXI_protein', Arg(id=9a5bdf8f-3ab9-485e-9efb-6999f99ea47e, value=None))]"
      ]
     },
     "execution_count": null,
     "metadata": {},
     "output_type": "execute_result"
    }
   ],
   "source": [
    "proteins = map(lambda x: Path(x), glob(str(PROTEIN_PDB_FOLDER_PATH / \"*.pdb\")))\n",
    "\n",
    "protein_outputs = []\n",
    "\n",
    "for protein_path in proteins:\n",
    "    print(protein_path)\n",
    "    name = protein_path.stem\n",
    "    (prepped_protein_qdxf, prepped_pdb) = await client.prepare_protein(\n",
    "        protein_path,\n",
    "        target=TARGET,\n",
    "        tags=[name],\n",
    "    )\n",
    "    protein_outputs.append((name, prepped_protein_qdxf))\n",
    "\n",
    "protein_outputs"
   ]
  },
  {
   "cell_type": "markdown",
   "id": "c0231614",
   "metadata": {},
   "source": [
    "## Report progress\n",
    "This will show the status of all of your runs"
   ]
  },
  {
   "cell_type": "code",
   "execution_count": null,
   "id": "2028dfcc",
   "metadata": {},
   "outputs": [
    {
     "name": "stdout",
     "output_type": "stream",
     "text": [
      "Module               | Status               | Count\n",
      "--------------------------------------------------\n",
      "prepare_protein      | ModuleInstanceStatus.RESOLVING | 3\n"
     ]
    }
   ],
   "source": [
    "status = await client.status(group_by=\"path\")\n",
    "print(f\"{'Module':<20} | {'Status':<20} | Count\")\n",
    "print(\"-\" * 50)\n",
    "for module, (status, path, count) in status.items():\n",
    "    print(f\"{path:<20} | {status:<20} | {count}\")"
   ]
  },
  {
   "cell_type": "markdown",
   "id": "652e9699",
   "metadata": {},
   "source": [
    "## Download Results\n",
    "This will retrieve results for your completed module_instances"
   ]
  },
  {
   "cell_type": "code",
   "execution_count": null,
   "id": "92309ba4",
   "metadata": {},
   "outputs": [
    {
     "name": "stdout",
     "output_type": "stream",
     "text": [
      "2024-01-24 10:34:42,469 - rush - INFO - Argument 243a4174-1aba-45c9-89e5-01da89e43fe0 is now ModuleInstanceStatus.RESOLVING\n",
      "2024-01-24 10:34:42,591 - rush - INFO - Argument 9a5bdf8f-3ab9-485e-9efb-6999f99ea47e is now ModuleInstanceStatus.RESOLVING\n",
      "2024-01-24 10:34:42,635 - rush - INFO - Argument d7eacce8-f86d-4ebf-9d1e-e85c0cebfa5f is now ModuleInstanceStatus.RESOLVING\n",
      "2024-01-24 10:34:46,943 - rush - INFO - Argument 243a4174-1aba-45c9-89e5-01da89e43fe0 is now ModuleInstanceStatus.ADMITTED\n",
      "2024-01-24 10:34:46,992 - rush - INFO - Argument 9a5bdf8f-3ab9-485e-9efb-6999f99ea47e is now ModuleInstanceStatus.ADMITTED\n",
      "2024-01-24 10:34:47,054 - rush - INFO - Argument d7eacce8-f86d-4ebf-9d1e-e85c0cebfa5f is now ModuleInstanceStatus.ADMITTED\n",
      "2024-01-24 10:35:00,097 - rush - INFO - Argument 243a4174-1aba-45c9-89e5-01da89e43fe0 is now ModuleInstanceStatus.DISPATCHED\n",
      "2024-01-24 10:35:05,571 - rush - INFO - Argument 243a4174-1aba-45c9-89e5-01da89e43fe0 is now ModuleInstanceStatus.RUNNING\n",
      "2024-01-24 10:35:26,945 - rush - INFO - Argument 243a4174-1aba-45c9-89e5-01da89e43fe0 is now ModuleInstanceStatus.AWAITING_UPLOAD\n",
      "2024-01-24 10:35:44,554 - rush - INFO - Argument d7eacce8-f86d-4ebf-9d1e-e85c0cebfa5f is now ModuleInstanceStatus.DISPATCHED\n",
      "2024-01-24 10:35:53,292 - rush - INFO - Argument d7eacce8-f86d-4ebf-9d1e-e85c0cebfa5f is now ModuleInstanceStatus.AWAITING_UPLOAD\n",
      "2024-01-24 10:36:11,535 - rush - INFO - Argument 9a5bdf8f-3ab9-485e-9efb-6999f99ea47e is now ModuleInstanceStatus.DISPATCHED\n",
      "2024-01-24 10:36:20,387 - rush - INFO - Argument 9a5bdf8f-3ab9-485e-9efb-6999f99ea47e is now ModuleInstanceStatus.AWAITING_UPLOAD\n"
     ]
    },
    {
     "data": {
      "text/plain": [
       "[None, None, None]"
      ]
     },
     "execution_count": null,
     "metadata": {},
     "output_type": "execute_result"
    }
   ],
   "source": [
    "await asyncio.gather(\n",
    "    *[\n",
    "        output[1].download(filename=f\"protein_{output[0]}.qdxf.json\")\n",
    "        for output in protein_outputs\n",
    "    ],\n",
    ")"
   ]
  },
  {
   "cell_type": "markdown",
   "id": "f1fe839e",
   "metadata": {},
   "source": [
    "## Check failures\n",
    "This will retrieve failed runs in your workspace history"
   ]
  },
  {
   "cell_type": "code",
   "execution_count": null,
   "id": "de4c054c",
   "metadata": {},
   "outputs": [],
   "source": [
    "for instance_id, (status, name, count) in (await client.status()).items():\n",
    "    if status.value == \"FAILED\":\n",
    "        async for log_page in client.logs(instance_id, \"stderr\"):\n",
    "            for log in log_page:\n",
    "                print(log)"
   ]
  }
 ],
 "metadata": {
  "kernelspec": {
   "display_name": "python3",
   "language": "python",
   "name": "python3"
  }
 },
 "nbformat": 4,
 "nbformat_minor": 5
}
