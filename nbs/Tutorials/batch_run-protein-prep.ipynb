{
 "cells": [
  {
   "cell_type": "markdown",
   "id": "639377c9",
   "metadata": {},
   "source": [
    "# Batch Protein Prep Example"
   ]
  },
  {
   "cell_type": "markdown",
   "id": "a4a52513-58e2-4189-bd31-67920862a197",
   "metadata": {},
   "source": [
    "This notebook shows how to load a large amount of data and execute runs on them in parallel"
   ]
  },
  {
   "cell_type": "code",
   "execution_count": null,
   "id": "f8231f8f",
   "metadata": {},
   "outputs": [],
   "source": [
    "import os\n",
    "import asyncio\n",
    "from glob import glob\n",
    "from datetime import datetime\n",
    "from pathlib import Path\n",
    "\n",
    "from pdbtools import pdb_fetch, pdb_delhetatm, pdb_selchain, pdb_rplresname, pdb_keepcoord, pdb_selresname\n",
    "\n",
    "import tengu"
   ]
  },
  {
   "cell_type": "markdown",
   "id": "a9278afa",
   "metadata": {},
   "source": [
    "### 0) Setup"
   ]
  },
  {
   "cell_type": "code",
   "execution_count": null,
   "id": "62b2f2d2",
   "metadata": {},
   "outputs": [],
   "source": [
    "# Set our token - ensure you have exported TENGU_TOKEN in your shell; or just replace the os.getenv with your token\n",
    "TOKEN = os.getenv(\"TENGU_TOKEN\")\n",
    "URL = os.getenv(\"TENGU_URL\")"
   ]
  },
  {
   "cell_type": "code",
   "execution_count": null,
   "id": "c4a3373c",
   "metadata": {},
   "outputs": [],
   "source": [
    "# Define our project information\n",
    "DESCRIPTION = \"tengu-py batch notebook\"\n",
    "TAGS = [\"qdx\", \"tengu-py-v2\", \"demo\", \"batch-prep\" ]\n",
    "WORK_DIR = Path.home() / \"qdx\" / \"tengu-py-batch-prep\"\n",
    "\n",
    "# Set our inputs\n",
    "PROTEIN_PDB_FOLDER_PATH = WORK_DIR / \"proteins\"\n",
    "\n",
    "TARGET = \"NIX_SSH\""
   ]
  },
  {
   "cell_type": "code",
   "execution_count": null,
   "id": "df7f6a43-6e54-49ac-b99c-f3d25091dc72",
   "metadata": {},
   "outputs": [],
   "source": [
    "#|hide\n",
    "if WORK_DIR.exists():\n",
    "    client = tengu.Provider(workspace=WORK_DIR)\n",
    "    await client.nuke(remote=True)"
   ]
  },
  {
   "cell_type": "markdown",
   "id": "bfdeac08-66d2-4fad-98d7-0dd6610606f4",
   "metadata": {},
   "source": [
    "Ensure your workdir exists"
   ]
  },
  {
   "cell_type": "code",
   "execution_count": null,
   "id": "fbcb050b-3af4-427d-a411-c39f5d485fdf",
   "metadata": {},
   "outputs": [],
   "source": [
    "os.makedirs(WORK_DIR, exist_ok=True)\n",
    "os.makedirs(PROTEIN_PDB_FOLDER_PATH, exist_ok=True)"
   ]
  },
  {
   "cell_type": "markdown",
   "id": "71f268a3",
   "metadata": {},
   "source": [
    "## Initialize our tengu client and fetch available module paths"
   ]
  },
  {
   "cell_type": "code",
   "execution_count": null,
   "id": "bb7fef23",
   "metadata": {},
   "outputs": [],
   "source": [
    "# Get our client, for calling modules and using the tengu API\n",
    "client = await tengu.build_provider_with_functions(\n",
    "    access_token=TOKEN, url=URL, workspace=WORK_DIR, batch_tags=TAGS\n",
    ")"
   ]
  },
  {
   "cell_type": "code",
   "execution_count": null,
   "id": "46f09ab8-8dde-4cfe-9446-f46ebb25a32c",
   "metadata": {},
   "outputs": [],
   "source": [
    "# fetch datafiles\n",
    "for pdb in [\"1B39\", \"4QXI\", \"8FSU\"]:\n",
    "    complex = list(pdb_fetch.fetch_structure(pdb))\n",
    "    protein = pdb_delhetatm.remove_hetatm(pdb_selchain.select_chain(complex, \"A\"))\n",
    "\n",
    "    with open(PROTEIN_PDB_FOLDER_PATH / f\"{pdb}_protein.pdb\", \"w\") as f:\n",
    "        for l in protein:\n",
    "            f.write(str(l))"
   ]
  },
  {
   "cell_type": "code",
   "execution_count": null,
   "id": "095b60d2-c5cf-47b5-ac2f-4d7c7e5f56e0",
   "metadata": {},
   "outputs": [
    {
     "name": "stdout",
     "output_type": "stream",
     "text": [
      "Help on function prepare_protein in module tengu.provider:\n",
      "\n",
      "async prepare_protein(*args: [<class 'pathlib.Path'>], target: tengu.graphql_client.enums.ModuleInstanceTarget | None = <ModuleInstanceTarget.NIX_SSH_2: 'NIX_SSH_2'>, resources: tengu.graphql_client.input_types.ModuleInstanceResourcesInput | None = ModuleInstanceResourcesInput(gpus=1, gpu_mem=None, gpu_mem_units=None, cpus=None, nodes=None, mem=None, mem_units=None, storage=128, storage_units=<MemUnits.MB: 'MB'>, walltime=None, storage_mounts=None), tags: list[str] | None = None, restore: bool | None = None) -> [<class 'pathlib.Path'>, <class 'pathlib.Path'>]\n",
      "    Prepare a PDB for downstream tasks: protonate, fill missing atoms, etc.\n",
      "    \n",
      "    Module version: github:talo/pdb2pqr/ff5abe87af13f31478ede490d37468a536621e9c#prepare_protein_tengu\n",
      "    \n",
      "    QDX Type Description:\n",
      "    \n",
      "        input_pdb: @bytes \n",
      "    \n",
      "    ->\n",
      "    \n",
      "        output_qdxf: @[Conformer];\n",
      "    \n",
      "        output_pdb: @bytes\n",
      "    \n",
      "    \n",
      "    \n",
      "    :param input_pdb: An input protein as a file: one PDB file\n",
      "    :return output_qdxf: An output protein a vec: one qdxf per model in pdb\n",
      "    :return output_pdb: An output protein as a file: one PDB file\n",
      "\n"
     ]
    }
   ],
   "source": [
    "help(client.prepare_protein)"
   ]
  },
  {
   "cell_type": "markdown",
   "id": "548848f3",
   "metadata": {},
   "source": [
    "## For each ligand, start a gmx + gmx_mmpbsa run"
   ]
  },
  {
   "cell_type": "code",
   "execution_count": null,
   "id": "ee7ea076",
   "metadata": {},
   "outputs": [
    {
     "name": "stdout",
     "output_type": "stream",
     "text": [
      "/home/machineer/qdx/tengu-py-batch-prep/proteins/1B39_protein.pdb\n",
      "/home/machineer/qdx/tengu-py-batch-prep/proteins/8FSU_protein.pdb\n",
      "/home/machineer/qdx/tengu-py-batch-prep/proteins/4QXI_protein.pdb\n"
     ]
    },
    {
     "data": {
      "text/plain": [
       "[('1B39_protein', Arg(id=ffa4d091-ecb7-4fa7-95ef-5a1da8ccf12f, value=None)),\n",
       " ('8FSU_protein', Arg(id=7eb1c698-1b82-40ca-af51-58ea107c51fb, value=None)),\n",
       " ('4QXI_protein', Arg(id=5c235e54-3227-4b63-85bc-09edb68bd961, value=None))]"
      ]
     },
     "execution_count": null,
     "metadata": {},
     "output_type": "execute_result"
    }
   ],
   "source": [
    "proteins = map(lambda x: Path(x), glob(str(PROTEIN_PDB_FOLDER_PATH / \"*.pdb\")))\n",
    "\n",
    "protein_outputs = []\n",
    "\n",
    "for protein_path in proteins:\n",
    "    print(protein_path)\n",
    "    name = protein_path.stem\n",
    "    (prepped_protein_qdxf, prepped_pdb) = await client.prepare_protein(\n",
    "        protein_path,\n",
    "        target=TARGET,\n",
    "        tags=[name],\n",
    "    )\n",
    "    protein_outputs.append((name, prepped_protein_qdxf))\n",
    "\n",
    "protein_outputs"
   ]
  },
  {
   "cell_type": "markdown",
   "id": "e77048a2",
   "metadata": {},
   "source": [
    "## Report progress\n",
    "This will show the status of all of your runs"
   ]
  },
  {
   "cell_type": "code",
   "execution_count": null,
   "id": "12c11d86",
   "metadata": {},
   "outputs": [
    {
     "name": "stdout",
     "output_type": "stream",
     "text": [
      "Module               | Status               | Count\n",
      "--------------------------------------------------\n",
      "prepare_protein      | ModuleInstanceStatus.RESOLVING | 2\n",
      "prepare_protein      | ModuleInstanceStatus.ADMITTED | 1\n"
     ]
    }
   ],
   "source": [
    "status = await client.status(group_by=\"path\")\n",
    "print(f\"{'Module':<20} | {'Status':<20} | Count\")\n",
    "print(\"-\" * 50)\n",
    "for module, (status, path, count) in status.items():\n",
    "    print(f\"{path:<20} | {status:<20} | {count}\")"
   ]
  },
  {
   "cell_type": "markdown",
   "id": "592df1bd",
   "metadata": {},
   "source": [
    "## Download Results\n",
    "This will retrieve results for your completed module_instances"
   ]
  },
  {
   "cell_type": "code",
   "execution_count": null,
   "id": "30bdba39",
   "metadata": {},
   "outputs": [
    {
     "name": "stdout",
     "output_type": "stream",
     "text": [
      "2024-01-23 12:51:58,004 - tengu - INFO - Argument ffa4d091-ecb7-4fa7-95ef-5a1da8ccf12f is now ModuleInstanceStatus.ADMITTED\n",
      "2024-01-23 12:51:58,039 - tengu - INFO - Argument 5c235e54-3227-4b63-85bc-09edb68bd961 is now ModuleInstanceStatus.RESOLVING\n",
      "2024-01-23 12:51:58,081 - tengu - INFO - Argument 7eb1c698-1b82-40ca-af51-58ea107c51fb is now ModuleInstanceStatus.RESOLVING\n",
      "2024-01-23 12:52:09,119 - tengu - INFO - Argument ffa4d091-ecb7-4fa7-95ef-5a1da8ccf12f is now ModuleInstanceStatus.DISPATCHED\n",
      "2024-01-23 12:52:15,777 - tengu - INFO - Argument ffa4d091-ecb7-4fa7-95ef-5a1da8ccf12f is now ModuleInstanceStatus.QUEUED\n",
      "2024-01-23 12:52:20,274 - tengu - INFO - Argument 7eb1c698-1b82-40ca-af51-58ea107c51fb is now ModuleInstanceStatus.ADMITTED\n",
      "2024-01-23 12:52:20,354 - tengu - INFO - Argument 5c235e54-3227-4b63-85bc-09edb68bd961 is now ModuleInstanceStatus.ADMITTED\n"
     ]
    },
    {
     "ename": "Exception",
     "evalue": "(<ModuleFailureReason.RUN: 'RUN'>, ModuleInstanceCommonFailureContext(stdout='', stderr='thread \\'main\\' panicked at /nix/store/eeeeeeeeeeeeeeeeeeeeeeeeeeeeeeee-vendor-cargo-deps/40f807129291673b808a9355e94137a848422f905b66c6b8a5e5c8205bce5c84/qdx-common-0.6.0/src/module.rs:386:33:\\nincompatible input arguments [\"null\"]\\nnote: run with `RUST_BACKTRACE=1` environment variable to display a backtrace', syserr='/home/ryan/.cache/tengu_store/nq_queues/nqdir_0/,18d34a948cd.1708094'))",
     "output_type": "error",
     "traceback": [
      "\u001b[0;31m---------------------------------------------------------------------------\u001b[0m",
      "\u001b[0;31mException\u001b[0m                                 Traceback (most recent call last)",
      "Cell \u001b[0;32mIn[11], line 1\u001b[0m\n\u001b[0;32m----> 1\u001b[0m \u001b[38;5;28;01mawait\u001b[39;00m asyncio\u001b[38;5;241m.\u001b[39mgather(\n\u001b[1;32m      2\u001b[0m     \u001b[38;5;241m*\u001b[39m[output[\u001b[38;5;241m1\u001b[39m]\u001b[38;5;241m.\u001b[39mdownload(filename\u001b[38;5;241m=\u001b[39m\u001b[38;5;124mf\u001b[39m\u001b[38;5;124m\"\u001b[39m\u001b[38;5;124mprotein_\u001b[39m\u001b[38;5;132;01m{\u001b[39;00moutput[\u001b[38;5;241m0\u001b[39m]\u001b[38;5;132;01m}\u001b[39;00m\u001b[38;5;124m.qdxf.json\u001b[39m\u001b[38;5;124m\"\u001b[39m) \u001b[38;5;28;01mfor\u001b[39;00m output \u001b[38;5;129;01min\u001b[39;00m protein_outputs]\n\u001b[1;32m      3\u001b[0m )\n",
      "File \u001b[0;32m~/Programming/tengu-py/tengu/provider.py:203\u001b[0m, in \u001b[0;36mBaseProvider.Arg.download\u001b[0;34m(self, filename, filepath)\u001b[0m\n\u001b[1;32m    201\u001b[0m \u001b[38;5;28;01mif\u001b[39;00m \u001b[38;5;28mself\u001b[39m\u001b[38;5;241m.\u001b[39mprovider \u001b[38;5;129;01mis\u001b[39;00m \u001b[38;5;28;01mNone\u001b[39;00m:\n\u001b[1;32m    202\u001b[0m     \u001b[38;5;28;01mraise\u001b[39;00m \u001b[38;5;167;01mException\u001b[39;00m(\u001b[38;5;124m\"\u001b[39m\u001b[38;5;124mNo provider provided\u001b[39m\u001b[38;5;124m\"\u001b[39m)\n\u001b[0;32m--> 203\u001b[0m \u001b[38;5;28;01mawait\u001b[39;00m \u001b[38;5;28mself\u001b[39m\u001b[38;5;241m.\u001b[39mget()\n\u001b[1;32m    205\u001b[0m \u001b[38;5;28;01mif\u001b[39;00m \u001b[38;5;28mself\u001b[39m\u001b[38;5;241m.\u001b[39mtypeinfo:\n\u001b[1;32m    206\u001b[0m     \u001b[38;5;28;01mif\u001b[39;00m \u001b[38;5;28mself\u001b[39m\u001b[38;5;241m.\u001b[39mtypeinfo[\u001b[38;5;124m\"\u001b[39m\u001b[38;5;124mk\u001b[39m\u001b[38;5;124m\"\u001b[39m] \u001b[38;5;241m==\u001b[39m \u001b[38;5;124m\"\u001b[39m\u001b[38;5;124mobject\u001b[39m\u001b[38;5;124m\"\u001b[39m \u001b[38;5;129;01mor\u001b[39;00m (\n\u001b[1;32m    207\u001b[0m         \u001b[38;5;28mself\u001b[39m\u001b[38;5;241m.\u001b[39mtypeinfo[\u001b[38;5;124m\"\u001b[39m\u001b[38;5;124mk\u001b[39m\u001b[38;5;124m\"\u001b[39m] \u001b[38;5;241m==\u001b[39m \u001b[38;5;124m\"\u001b[39m\u001b[38;5;124moptional\u001b[39m\u001b[38;5;124m\"\u001b[39m \u001b[38;5;129;01mand\u001b[39;00m \u001b[38;5;28mself\u001b[39m\u001b[38;5;241m.\u001b[39mtypeinfo[\u001b[38;5;124m\"\u001b[39m\u001b[38;5;124mt\u001b[39m\u001b[38;5;124m\"\u001b[39m][\u001b[38;5;124m\"\u001b[39m\u001b[38;5;124mk\u001b[39m\u001b[38;5;124m\"\u001b[39m] \u001b[38;5;241m==\u001b[39m \u001b[38;5;124m\"\u001b[39m\u001b[38;5;124mobject\u001b[39m\u001b[38;5;124m\"\u001b[39m\n\u001b[1;32m    208\u001b[0m     ):\n",
      "File \u001b[0;32m~/Programming/tengu-py/tengu/provider.py:235\u001b[0m, in \u001b[0;36mBaseProvider.Arg.get\u001b[0;34m(self)\u001b[0m\n\u001b[1;32m    232\u001b[0m     \u001b[38;5;28;01mif\u001b[39;00m remote_arg\u001b[38;5;241m.\u001b[39msource:\n\u001b[1;32m    233\u001b[0m         \u001b[38;5;66;03m# get the failure reason by checking the source module instance\u001b[39;00m\n\u001b[1;32m    234\u001b[0m         module_instance \u001b[38;5;241m=\u001b[39m \u001b[38;5;28;01mawait\u001b[39;00m \u001b[38;5;28mself\u001b[39m\u001b[38;5;241m.\u001b[39mprovider\u001b[38;5;241m.\u001b[39mmodule_instance(remote_arg\u001b[38;5;241m.\u001b[39msource)\n\u001b[0;32m--> 235\u001b[0m         \u001b[38;5;28;01mraise\u001b[39;00m \u001b[38;5;167;01mException\u001b[39;00m(\n\u001b[1;32m    236\u001b[0m             (module_instance\u001b[38;5;241m.\u001b[39mfailure_reason, module_instance\u001b[38;5;241m.\u001b[39mfailure_context)\n\u001b[1;32m    237\u001b[0m         )\n\u001b[1;32m    238\u001b[0m     \u001b[38;5;28;01mraise\u001b[39;00m \u001b[38;5;167;01mException\u001b[39;00m(\u001b[38;5;124m\"\u001b[39m\u001b[38;5;124mArgument was rejected\u001b[39m\u001b[38;5;124m\"\u001b[39m)\n\u001b[1;32m    239\u001b[0m \u001b[38;5;28;01melse\u001b[39;00m:\n",
      "\u001b[0;31mException\u001b[0m: (<ModuleFailureReason.RUN: 'RUN'>, ModuleInstanceCommonFailureContext(stdout='', stderr='thread \\'main\\' panicked at /nix/store/eeeeeeeeeeeeeeeeeeeeeeeeeeeeeeee-vendor-cargo-deps/40f807129291673b808a9355e94137a848422f905b66c6b8a5e5c8205bce5c84/qdx-common-0.6.0/src/module.rs:386:33:\\nincompatible input arguments [\"null\"]\\nnote: run with `RUST_BACKTRACE=1` environment variable to display a backtrace', syserr='/home/ryan/.cache/tengu_store/nq_queues/nqdir_0/,18d34a948cd.1708094'))"
     ]
    },
    {
     "name": "stdout",
     "output_type": "stream",
     "text": [
      "2024-01-23 13:01:12,808 - tengu - INFO - Argument 7eb1c698-1b82-40ca-af51-58ea107c51fb is now ModuleInstanceStatus.DISPATCHED\n",
      "2024-01-23 13:01:18,302 - tengu - INFO - Argument 7eb1c698-1b82-40ca-af51-58ea107c51fb is now ModuleInstanceStatus.AWAITING_UPLOAD\n",
      "2024-01-23 13:01:35,826 - tengu - INFO - Argument 5c235e54-3227-4b63-85bc-09edb68bd961 is now ModuleInstanceStatus.DISPATCHED\n",
      "2024-01-23 13:01:44,757 - tengu - INFO - Argument 5c235e54-3227-4b63-85bc-09edb68bd961 is now ModuleInstanceStatus.AWAITING_UPLOAD\n"
     ]
    }
   ],
   "source": [
    "await asyncio.gather(\n",
    "    *[output[1].download(filename=f\"protein_{output[0]}.qdxf.json\") for output in protein_outputs]\n",
    ")"
   ]
  },
  {
   "cell_type": "markdown",
   "id": "ce0205d1",
   "metadata": {},
   "source": [
    "## Check failures\n",
    "This will retrieve failed runs in your workspace history"
   ]
  },
  {
   "cell_type": "code",
   "execution_count": null,
   "id": "689a542f",
   "metadata": {},
   "outputs": [],
   "source": [
    "for instance_id, (status, name, count) in (await client.status()).items():\n",
    "    if status.value == \"FAILED\":\n",
    "        async for log_page in client.logs(instance_id, \"stderr\"):\n",
    "            for log in log_page:\n",
    "                print(log)"
   ]
  }
 ],
 "metadata": {
  "kernelspec": {
   "display_name": "python3",
   "language": "python",
   "name": "python3"
  }
 },
 "nbformat": 4,
 "nbformat_minor": 5
}
