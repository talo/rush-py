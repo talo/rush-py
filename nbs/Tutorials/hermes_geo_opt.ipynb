{
 "cells": [
  {
   "cell_type": "markdown",
   "id": "4b0deac7",
   "metadata": {},
   "source": [
    "# Hermes — Run a geometry optimization calculation"
   ]
  },
  {
   "cell_type": "markdown",
   "id": "df6ec311",
   "metadata": {},
   "source": [
    "In this notebook, we'll perform a Hermes calculation to optimise the geometry of a ligand at the STO-3G Hartree-Fock level of chemical theory."
   ]
  },
  {
   "cell_type": "markdown",
   "id": "9c2c2c85",
   "metadata": {},
   "source": [
    "# 0) Complete example\n",
    "See the [sample notebook](/Quickstarts/hermes_hartree_fock_energy_calculation-sample.ipynb) for a complete demonstration."
   ]
  },
  {
   "cell_type": "markdown",
   "id": "18bc8b47",
   "metadata": {},
   "source": [
    "# 1) Setup"
   ]
  },
  {
   "cell_type": "markdown",
   "id": "99cf3d63",
   "metadata": {},
   "source": [
    "## 1.0) Imports"
   ]
  },
  {
   "cell_type": "code",
   "execution_count": 68,
   "id": "5dad653d",
   "metadata": {},
   "outputs": [],
   "source": [
    "import json\n",
    "import os\n",
    "from datetime import datetime\n",
    "from pathlib import Path\n",
    "import py3Dmol\n",
    "import time\n",
    "import IPython.display\n",
    "import pandas as pd\n",
    "import matplotlib.pyplot as plt\n",
    "\n",
    "import rush"
   ]
  },
  {
   "cell_type": "markdown",
   "id": "d7f78e0d",
   "metadata": {},
   "source": [
    "## 1.1) Configuration"
   ]
  },
  {
   "cell_type": "code",
   "execution_count": 3,
   "id": "56019bbd-6406-4716-89cb-58e26dbf92a2",
   "metadata": {},
   "outputs": [],
   "source": [
    "EXPERIMENT = \"rush-py geo opt demo\"\n",
    "LIGAND = \"Menthone\"\n",
    "TAGS = [\"qdx\", EXPERIMENT, LIGAND]"
   ]
  },
  {
   "cell_type": "code",
   "execution_count": 4,
   "id": "061fec48-5fbf-4ff6-ba8f-681eebba5793",
   "metadata": {},
   "outputs": [],
   "source": [
    "# |hide\n",
    "WORK_DIR = Path.home() / \"qdx\" / EXPERIMENT\n",
    "\n",
    "if WORK_DIR.exists():\n",
    "    client = rush.Provider(workspace=WORK_DIR)\n",
    "    await client.nuke(remote=False)\n",
    "\n",
    "os.makedirs(WORK_DIR, exist_ok=True)\n",
    "os.makedirs(WORK_DIR / \".rush\", exist_ok=True)\n",
    "YOUR_TOKEN = os.getenv(\"RUSH_TOKEN\")\n",
    "os.chdir(WORK_DIR)"
   ]
  },
  {
   "cell_type": "markdown",
   "id": "472b833f-2683-4bb4-83be-d82a8e9f79fc",
   "metadata": {},
   "source": [
    "Build our client"
   ]
  },
  {
   "cell_type": "code",
   "execution_count": 5,
   "id": "30772c9d-4f47-4a1c-8530-10a1d6c6d323",
   "metadata": {},
   "outputs": [],
   "source": [
    "os.environ[\"RUSH_TOKEN\"] = YOUR_TOKEN\n",
    "\n",
    "client = rush.build_blocking_provider_with_functions(batch_tags=TAGS)"
   ]
  },
  {
   "cell_type": "markdown",
   "id": "4277b7f7",
   "metadata": {},
   "source": [
    "# 2) Preparation\n",
    "We get our ligand into the qdxf format from xyz for conveience (units are in Å)"
   ]
  },
  {
   "cell_type": "markdown",
   "id": "4de687d0",
   "metadata": {},
   "source": [
    "## 2.0). QDXF to XYZ file conversion helpers"
   ]
  },
  {
   "cell_type": "code",
   "execution_count": 47,
   "id": "37fdd97f",
   "metadata": {},
   "outputs": [],
   "source": [
    "def xyz_to_qdxf_topology(xyz_data):\n",
    "    symbols = []\n",
    "    geometry = []\n",
    "    for line in xyz_data.splitlines()[2:]:\n",
    "        symbol, x, y, z = line.split()\n",
    "        symbols.append(symbol)\n",
    "        geometry.extend([float(x), float(y), float(z)])\n",
    "    return {\n",
    "      \"schema_version\": \"0.2.0\", \n",
    "      \"symbols\": symbols, \n",
    "      \"geometry\": geometry,\n",
    "      \"fragment_formal_charges\": [0]\n",
    "    }\n",
    "\n",
    "\n",
    "def qdxf_topology_to_xyz(qdxf_in, name):\n",
    "    symbols = qdxf_in[\"symbols\"]\n",
    "    geometry = qdxf_in[\"geometry\"]\n",
    "    xyz_data = f\"{len(symbols)}\\n{name}\\n\"\n",
    "    for i in range(len(symbols)):\n",
    "        symbol = symbols[i]\n",
    "        x, y, z = geometry[3 * i : 3 * i + 3]\n",
    "        xyz_data += f\"  {symbol}\"\n",
    "        for coord in [x, y, z]:\n",
    "            xyz_data += \"     \"\n",
    "            if coord >= 0:\n",
    "                xyz_data += \" \"\n",
    "            xyz_data += f\"{(coord):.4f}\"\n",
    "        xyz_data += \"\\n\"\n",
    "    return xyz_data"
   ]
  },
  {
   "cell_type": "markdown",
   "id": "fff06ae6",
   "metadata": {},
   "source": [
    "## 2.1). Menthone XYZ"
   ]
  },
  {
   "cell_type": "code",
   "execution_count": 40,
   "id": "6d7cd08b",
   "metadata": {},
   "outputs": [],
   "source": [
    "menthone_xyz = \"\"\"29\n",
    "Menthone\n",
    "O 0.000000 0.000000 2.558588\n",
    "C -2.680797 -0.675188 0.263980\n",
    "C -1.906884 -0.789063 -1.068912\n",
    "C -0.602098 0.064466 -1.071068\n",
    "C 0.366909 -0.282183 0.130702\n",
    "C -0.433287 -0.404398 1.478748\n",
    "C -1.808494 -1.092292 1.470418\n",
    "C 0.044065 -0.096564 -2.466944\n",
    "C 1.677375 0.591559 0.178761\n",
    "C 2.772719 0.000000 1.089318\n",
    "C 1.454289 2.072516 0.548719\n",
    "H -3.035012 0.366317 0.400380\n",
    "H -3.599144 -1.292723 0.227789\n",
    "H -1.669128 -1.852863 -1.268519\n",
    "H -2.572382 -0.477657 -1.897646\n",
    "H -0.907344 1.125284 -0.965973\n",
    "H 0.706612 -1.317260 -0.057940\n",
    "H -2.333932 -0.872569 2.418013\n",
    "H -1.641652 -2.184271 1.466577\n",
    "H -0.674781 0.102344 -3.284209\n",
    "H 0.444399 -1.115561 -2.625554\n",
    "H 0.876910 0.611365 -2.625751\n",
    "H 2.123665 0.582983 -0.833314\n",
    "H 2.486651 0.015826 2.157705\n",
    "H 3.722633 0.560185 1.006026\n",
    "H 2.999840 -1.050348 0.830270\n",
    "H 2.393351 2.654765 0.503419\n",
    "H 1.052537 2.188312 1.573056\n",
    "H 0.742979 2.567019 -0.136640\n",
    "\"\"\"\n",
    "\n",
    "menthone_qdxf_data = xyz_to_qdxf_topology(menthone_xyz)\n",
    "\n",
    "# write the qdxf file to disk\n",
    "menthone_qdxf = Path(WORK_DIR) / \"menthone.qdxf.json\"\n",
    "with open(menthone_qdxf, \"w\") as f:\n",
    "    json.dump(menthone_qdxf_data, f)"
   ]
  },
  {
   "cell_type": "markdown",
   "id": "9bdb04db",
   "metadata": {},
   "source": [
    "## 2.2). Visualisation of Initial Geometry"
   ]
  },
  {
   "cell_type": "code",
   "execution_count": 41,
   "id": "f57969d8",
   "metadata": {},
   "outputs": [
    {
     "data": {
      "application/3dmoljs_load.v0": "<div id=\"3dmolviewer_1720500943084888\"  style=\"position: relative; width: 640px; height: 480px;\">\n        <p id=\"3dmolwarning_1720500943084888\" style=\"background-color:#ffcccc;color:black\">You appear to be running in JupyterLab (or JavaScript failed to load for some other reason).  You need to install the 3dmol extension: <br>\n        <tt>jupyter labextension install jupyterlab_3dmol</tt></p>\n        </div>\n<script>\n\nvar loadScriptAsync = function(uri){\n  return new Promise((resolve, reject) => {\n    //this is to ignore the existence of requirejs amd\n    var savedexports, savedmodule;\n    if (typeof exports !== 'undefined') savedexports = exports;\n    else exports = {}\n    if (typeof module !== 'undefined') savedmodule = module;\n    else module = {}\n\n    var tag = document.createElement('script');\n    tag.src = uri;\n    tag.async = true;\n    tag.onload = () => {\n        exports = savedexports;\n        module = savedmodule;\n        resolve();\n    };\n  var firstScriptTag = document.getElementsByTagName('script')[0];\n  firstScriptTag.parentNode.insertBefore(tag, firstScriptTag);\n});\n};\n\nif(typeof $3Dmolpromise === 'undefined') {\n$3Dmolpromise = null;\n  $3Dmolpromise = loadScriptAsync('https://cdnjs.cloudflare.com/ajax/libs/3Dmol/2.0.4/3Dmol-min.js');\n}\n\nvar viewer_1720500943084888 = null;\nvar warn = document.getElementById(\"3dmolwarning_1720500943084888\");\nif(warn) {\n    warn.parentNode.removeChild(warn);\n}\n$3Dmolpromise.then(function() {\nviewer_1720500943084888 = $3Dmol.createViewer(document.getElementById(\"3dmolviewer_1720500943084888\"),{backgroundColor:\"white\"});\nviewer_1720500943084888.zoomTo();\n\tviewer_1720500943084888.addModel(\"29\\nMenthone\\nO 0.000000 0.000000 2.558588\\nC -2.680797 -0.675188 0.263980\\nC -1.906884 -0.789063 -1.068912\\nC -0.602098 0.064466 -1.071068\\nC 0.366909 -0.282183 0.130702\\nC -0.433287 -0.404398 1.478748\\nC -1.808494 -1.092292 1.470418\\nC 0.044065 -0.096564 -2.466944\\nC 1.677375 0.591559 0.178761\\nC 2.772719 0.000000 1.089318\\nC 1.454289 2.072516 0.548719\\nH -3.035012 0.366317 0.400380\\nH -3.599144 -1.292723 0.227789\\nH -1.669128 -1.852863 -1.268519\\nH -2.572382 -0.477657 -1.897646\\nH -0.907344 1.125284 -0.965973\\nH 0.706612 -1.317260 -0.057940\\nH -2.333932 -0.872569 2.418013\\nH -1.641652 -2.184271 1.466577\\nH -0.674781 0.102344 -3.284209\\nH 0.444399 -1.115561 -2.625554\\nH 0.876910 0.611365 -2.625751\\nH 2.123665 0.582983 -0.833314\\nH 2.486651 0.015826 2.157705\\nH 3.722633 0.560185 1.006026\\nH 2.999840 -1.050348 0.830270\\nH 2.393351 2.654765 0.503419\\nH 1.052537 2.188312 1.573056\\nH 0.742979 2.567019 -0.136640\\n\",\"xyz\");\n\tviewer_1720500943084888.setStyle({\"stick\": {}});\n\tviewer_1720500943084888.zoomTo();\nviewer_1720500943084888.render();\n});\n</script>",
      "text/html": [
       "<div id=\"3dmolviewer_1720500943084888\"  style=\"position: relative; width: 640px; height: 480px;\">\n",
       "        <p id=\"3dmolwarning_1720500943084888\" style=\"background-color:#ffcccc;color:black\">You appear to be running in JupyterLab (or JavaScript failed to load for some other reason).  You need to install the 3dmol extension: <br>\n",
       "        <tt>jupyter labextension install jupyterlab_3dmol</tt></p>\n",
       "        </div>\n",
       "<script>\n",
       "\n",
       "var loadScriptAsync = function(uri){\n",
       "  return new Promise((resolve, reject) => {\n",
       "    //this is to ignore the existence of requirejs amd\n",
       "    var savedexports, savedmodule;\n",
       "    if (typeof exports !== 'undefined') savedexports = exports;\n",
       "    else exports = {}\n",
       "    if (typeof module !== 'undefined') savedmodule = module;\n",
       "    else module = {}\n",
       "\n",
       "    var tag = document.createElement('script');\n",
       "    tag.src = uri;\n",
       "    tag.async = true;\n",
       "    tag.onload = () => {\n",
       "        exports = savedexports;\n",
       "        module = savedmodule;\n",
       "        resolve();\n",
       "    };\n",
       "  var firstScriptTag = document.getElementsByTagName('script')[0];\n",
       "  firstScriptTag.parentNode.insertBefore(tag, firstScriptTag);\n",
       "});\n",
       "};\n",
       "\n",
       "if(typeof $3Dmolpromise === 'undefined') {\n",
       "$3Dmolpromise = null;\n",
       "  $3Dmolpromise = loadScriptAsync('https://cdnjs.cloudflare.com/ajax/libs/3Dmol/2.0.4/3Dmol-min.js');\n",
       "}\n",
       "\n",
       "var viewer_1720500943084888 = null;\n",
       "var warn = document.getElementById(\"3dmolwarning_1720500943084888\");\n",
       "if(warn) {\n",
       "    warn.parentNode.removeChild(warn);\n",
       "}\n",
       "$3Dmolpromise.then(function() {\n",
       "viewer_1720500943084888 = $3Dmol.createViewer(document.getElementById(\"3dmolviewer_1720500943084888\"),{backgroundColor:\"white\"});\n",
       "viewer_1720500943084888.zoomTo();\n",
       "\tviewer_1720500943084888.addModel(\"29\\nMenthone\\nO 0.000000 0.000000 2.558588\\nC -2.680797 -0.675188 0.263980\\nC -1.906884 -0.789063 -1.068912\\nC -0.602098 0.064466 -1.071068\\nC 0.366909 -0.282183 0.130702\\nC -0.433287 -0.404398 1.478748\\nC -1.808494 -1.092292 1.470418\\nC 0.044065 -0.096564 -2.466944\\nC 1.677375 0.591559 0.178761\\nC 2.772719 0.000000 1.089318\\nC 1.454289 2.072516 0.548719\\nH -3.035012 0.366317 0.400380\\nH -3.599144 -1.292723 0.227789\\nH -1.669128 -1.852863 -1.268519\\nH -2.572382 -0.477657 -1.897646\\nH -0.907344 1.125284 -0.965973\\nH 0.706612 -1.317260 -0.057940\\nH -2.333932 -0.872569 2.418013\\nH -1.641652 -2.184271 1.466577\\nH -0.674781 0.102344 -3.284209\\nH 0.444399 -1.115561 -2.625554\\nH 0.876910 0.611365 -2.625751\\nH 2.123665 0.582983 -0.833314\\nH 2.486651 0.015826 2.157705\\nH 3.722633 0.560185 1.006026\\nH 2.999840 -1.050348 0.830270\\nH 2.393351 2.654765 0.503419\\nH 1.052537 2.188312 1.573056\\nH 0.742979 2.567019 -0.136640\\n\",\"xyz\");\n",
       "\tviewer_1720500943084888.setStyle({\"stick\": {}});\n",
       "\tviewer_1720500943084888.zoomTo();\n",
       "viewer_1720500943084888.render();\n",
       "});\n",
       "</script>"
      ]
     },
     "metadata": {},
     "output_type": "display_data"
    }
   ],
   "source": [
    "initial_geo_vis = py3Dmol.view()\n",
    "initial_geo_vis.addModel(menthone_xyz, \"xyz\")\n",
    "initial_geo_vis.setStyle({\"stick\": {}})\n",
    "initial_geo_vis.zoomTo()\n",
    "initial_geo_vis.show()"
   ]
  },
  {
   "cell_type": "markdown",
   "id": "0249fa25",
   "metadata": {},
   "source": [
    "# 3) Quantum geometry optimization calculation\n",
    "We submit our geometry optimization calculation to rush for processing and then inspect the results"
   ]
  },
  {
   "cell_type": "markdown",
   "id": "8b531669",
   "metadata": {},
   "source": [
    "## 3.0) Arguments"
   ]
  },
  {
   "cell_type": "code",
   "execution_count": 42,
   "id": "09cc8cb2",
   "metadata": {},
   "outputs": [
    {
     "name": "stdout",
     "output_type": "stream",
     "text": [
      "Help on function hermes_geo_opt in module rush.provider:\n",
      "\n",
      "hermes_geo_opt(*args: typing_extensions.Unpack[tuple[Record, typing.Optional[Record], typing.Optional[Record], typing.Optional[Record], Record, RushObject[Record]]], target: 'Target | None' = None, resources: 'Resources | None' = None, tags: 'list[str] | None' = None, restore: 'bool | None' = None) -> tuple[RushObject[list[Record]], list[Record]]\n",
      "    Runs a HERMES energy calculation given a topology, and optionally model and keyword configurations.\n",
      "    \n",
      "    Module version:  \n",
      "    `github:talo/tengu-hermes/ee2d3dcff174e73795a961d1d5fdf805ef601bf8#hermes_geo_opt`\n",
      "    \n",
      "    QDX Type Description:\n",
      "    \n",
      "        in: System {\n",
      "            teams_per_node: u32?,\n",
      "            oversubscribe_gpus: bool?,\n",
      "            gpus_per_team: u32?,\n",
      "            max_gpu_memory_mb: u64?\n",
      "        };\n",
      "        in: Model {\n",
      "            basis: string,\n",
      "            aux_basis: string?,\n",
      "            standard_orientation: string?,\n",
      "            force_cartesian_basis_sets: bool?\n",
      "        }?;\n",
      "        in: SCFKeywords {\n",
      "            compress_ri_b: bool?,\n",
      "            density_basis_set_projection_fallback_enabled: bool?,\n",
      "            max_diis_history_length: u32?,\n",
      "            convergence_metric: ConvergenceMetric[Energy | DIIS | Density]?,\n",
      "            store_ri_b_on_host: bool?,\n",
      "            max_iters: u32?,\n",
      "            use_ri: bool?,\n",
      "            convergence_threshold: f64?,\n",
      "            batch_size: u32?,\n",
      "            density_threshold: f64?\n",
      "        }?;\n",
      "        in: GuessKeywords {\n",
      "            smd: bool?,\n",
      "            bsp_basis: string?,\n",
      "            bsp: bool?,\n",
      "            ssfd_target_size: u32?,\n",
      "            ssfd_scf_keywords: GuessSCF {\n",
      "                density_threshold: f64?,\n",
      "                max_iters: u32?,\n",
      "                batch_size: u32?,\n",
      "                use_ri: bool?,\n",
      "                compress_ri_b: bool?,\n",
      "                convergence_threshold: f64?,\n",
      "                max_diis_history_length: u32?,\n",
      "                density_basis_set_projection_fallback_enabled: bool?,\n",
      "                convergence_metric: ConvergenceMetric[Energy | DIIS | Density]?,\n",
      "                store_ri_b_on_host: bool?\n",
      "            }?,\n",
      "            ssfd_only_converge_in_bsp_basis: bool?,\n",
      "            ssfd: bool?,\n",
      "            hcore: bool?,\n",
      "            external_initial_density_path: Object {size: u64, path: @$HDF5}?,\n",
      "            bsp_scf_keywords: SCFKeywords {\n",
      "                density_basis_set_projection_fallback_enabled: bool?,\n",
      "                max_diis_history_length: u32?,\n",
      "                use_ri: bool?,\n",
      "                store_ri_b_on_host: bool?,\n",
      "                density_threshold: f64?,\n",
      "                compress_ri_b: bool?,\n",
      "                batch_size: u32?,\n",
      "                convergence_threshold: f64?,\n",
      "                max_iters: u32?,\n",
      "                convergence_metric: ConvergenceMetric[Energy | DIIS | Density]?\n",
      "            }?\n",
      "        }?;\n",
      "        in: OptimizationKeywords {\n",
      "            optimiser_reset_interval: u64?,\n",
      "            convergence_criteria: OptimizationConvergenceCriteria {\n",
      "                step_component_threshold: f64?,\n",
      "                delta_energy_threshold: f64?,\n",
      "                metric: OptimizationConvergenceMetric[Baker | GradientOnly]?,\n",
      "                gradient_threshold: f64?\n",
      "            }?,\n",
      "            max_iters: u64,\n",
      "            frozen_angle_slippage_tolerance_degrees: f64?,\n",
      "            frozen_distance_slippage_tolerance_angstroms: f64?,\n",
      "            hessian_guess: HessianGuessType[Identity | ScaledIdentity | Schlegel | Lindh]?,\n",
      "            trust_region_keywords: TrustRegionKeywords {\n",
      "                min_radius: f64?,\n",
      "                initial_radius: f64?,\n",
      "                constrict_factor: f64?,\n",
      "                increase_factor: f64?,\n",
      "                decrease_threshold: f64?,\n",
      "                decrease_factor: f64?,\n",
      "                rejection_threshold: f64?,\n",
      "                increase_threshold: f64?,\n",
      "                max_radius: f64?\n",
      "            }?,\n",
      "        };\n",
      "        in: Object {\n",
      "            format: ObjectFormat[json | bin]?,\n",
      "            path: @Topology {\n",
      "                fragments: [[_(u32)]]?,\n",
      "                constraints: [[u32]]?,\n",
      "                labels: [string]?,\n",
      "                connectivity: [_(\n",
      "                    (\n",
      "                        _(u32),\n",
      "                        _(u32),\n",
      "                    )\n",
      "                )]?,\n",
      "                fragment_formal_charges: [_(i32)]?,\n",
      "                partial_charges: [_(f32)]?,\n",
      "                geometry: [f32],\n",
      "                velocities: [f32]?,\n",
      "                fragment_multiplicities: [_(u8)]?,\n",
      "                schema_version: _(string),\n",
      "                formal_charges: [_(i32)]?,\n",
      "                fragment_partial_charges: [_(f32)]?\n",
      "            },\n",
      "            size: u64\n",
      "        }\n",
      "        ->\n",
      "        out: Object {\n",
      "            path: @[Topology {\n",
      "                velocities: [f32]?,\n",
      "                partial_charges: [_(f32)]?,\n",
      "                fragments: [[_(u32)]]?,\n",
      "                constraints: [[u32]]?,\n",
      "                formal_charges: [_(i32)]?,\n",
      "                labels: [string]?,\n",
      "                fragment_formal_charges: [_(i32)]?,\n",
      "                fragment_partial_charges: [_(f32)]?,\n",
      "                geometry: [f32],\n",
      "                fragment_multiplicities: [_(u8)]?,\n",
      "                connectivity: [_(\n",
      "                    (\n",
      "                        _(u32),\n",
      "                        _(u32),\n",
      "                    )\n",
      "                )]?,\n",
      "                schema_version: _(string)\n",
      "            }],\n",
      "            size: u64,\n",
      "            format: ObjectFormat[json | bin]?\n",
      "        };\n",
      "        out: [OptimizationFrame {max_gradient_component: f64, total_energy: f64}]\n",
      "\n"
     ]
    }
   ],
   "source": [
    "help(client.hermes_geo_opt)"
   ]
  },
  {
   "cell_type": "code",
   "execution_count": 43,
   "id": "8c17a75f-a32f-46f9-a758-55a85cd38066",
   "metadata": {},
   "outputs": [],
   "source": [
    "HERMES_RESOURCES = {\n",
    "    \"gpus\": 1,\n",
    "    \"storage\": 1000,\n",
    "    \"storage_units\": \"MB\",\n",
    "    \"walltime\": 60,\n",
    "}"
   ]
  },
  {
   "cell_type": "code",
   "execution_count": 44,
   "id": "5ea05e5c",
   "metadata": {},
   "outputs": [],
   "source": [
    "(topologies,optimisation_frames) = client.hermes_geo_opt(\n",
    "    {},\n",
    "    {\n",
    "        \"basis\": \"STO-3G\",\n",
    "        \"aux_basis\": \"6-31G\",\n",
    "        \"method\": \"RestrictedHF\",\n",
    "        \"standard_orientation\": \"None\"\n",
    "    },  # configuration for a fast converging, low accuracy run\n",
    "    None,\n",
    "    None,\n",
    "    {\n",
    "        \"max_iters\" : 30\n",
    "    },  # simple optimisation keywords, most systems should converge within 30 steps\n",
    "    menthone_qdxf,\n",
    "    resources=HERMES_RESOURCES,\n",
    ")"
   ]
  },
  {
   "cell_type": "markdown",
   "id": "07da7c50",
   "metadata": {},
   "source": [
    "## 3.1). Visualise the Topology Frames\n",
    "\n",
    "We create a short animation showing the frames of the optimisation proceedure, in practice the user would normally just take the final frame."
   ]
  },
  {
   "cell_type": "code",
   "execution_count": 48,
   "id": "b7c4bb5f",
   "metadata": {},
   "outputs": [
    {
     "name": "stdout",
     "output_type": "stream",
     "text": [
      "2024-07-09 15:02:40,620 - rush - WARNING - File topologies.json already exists in workspace\n"
     ]
    }
   ],
   "source": [
    "topologies_data = json.load(topologies.download(\"topologies.json\").open())\n",
    "xyz_frames = []\n",
    "for topology in topologies_data:\n",
    "    xyz_frames.append(qdxf_topology_to_xyz(topology, \"Menthone\"))"
   ]
  },
  {
   "cell_type": "code",
   "execution_count": 62,
   "id": "e4135a09",
   "metadata": {},
   "outputs": [
    {
     "data": {
      "application/3dmoljs_load.v0": "<div id=\"3dmolviewer_1720502047776607\"  style=\"position: relative; width: 800px; height: 600px;\">\n        <p id=\"3dmolwarning_1720502047776607\" style=\"background-color:#ffcccc;color:black\">You appear to be running in JupyterLab (or JavaScript failed to load for some other reason).  You need to install the 3dmol extension: <br>\n        <tt>jupyter labextension install jupyterlab_3dmol</tt></p>\n        </div>\n<script>\n\nvar loadScriptAsync = function(uri){\n  return new Promise((resolve, reject) => {\n    //this is to ignore the existence of requirejs amd\n    var savedexports, savedmodule;\n    if (typeof exports !== 'undefined') savedexports = exports;\n    else exports = {}\n    if (typeof module !== 'undefined') savedmodule = module;\n    else module = {}\n\n    var tag = document.createElement('script');\n    tag.src = uri;\n    tag.async = true;\n    tag.onload = () => {\n        exports = savedexports;\n        module = savedmodule;\n        resolve();\n    };\n  var firstScriptTag = document.getElementsByTagName('script')[0];\n  firstScriptTag.parentNode.insertBefore(tag, firstScriptTag);\n});\n};\n\nif(typeof $3Dmolpromise === 'undefined') {\n$3Dmolpromise = null;\n  $3Dmolpromise = loadScriptAsync('https://cdnjs.cloudflare.com/ajax/libs/3Dmol/2.0.4/3Dmol-min.js');\n}\n\nvar viewer_1720502047776607 = null;\nvar warn = document.getElementById(\"3dmolwarning_1720502047776607\");\nif(warn) {\n    warn.parentNode.removeChild(warn);\n}\n$3Dmolpromise.then(function() {\nviewer_1720502047776607 = $3Dmol.createViewer(document.getElementById(\"3dmolviewer_1720502047776607\"),{backgroundColor:\"white\"});\nviewer_1720502047776607.zoomTo();\n\tviewer_1720502047776607.removeAllModels();\n\tviewer_1720502047776607.addModel(\"29\\nMenthone\\n  O      0.0000      0.0000      2.5586\\n  C     -2.6808     -0.6752      0.2640\\n  C     -1.9069     -0.7891     -1.0689\\n  C     -0.6021      0.0645     -1.0711\\n  C      0.3669     -0.2822      0.1307\\n  C     -0.4333     -0.4044      1.4787\\n  C     -1.8085     -1.0923      1.4704\\n  C      0.0441     -0.0966     -2.4669\\n  C      1.6774      0.5916      0.1788\\n  C      2.7727      0.0000      1.0893\\n  C      1.4543      2.0725      0.5487\\n  H     -3.0350      0.3663      0.4004\\n  H     -3.5991     -1.2927      0.2278\\n  H     -1.6691     -1.8529     -1.2685\\n  H     -2.5724     -0.4777     -1.8976\\n  H     -0.9073      1.1253     -0.9660\\n  H      0.7066     -1.3173     -0.0579\\n  H     -2.3339     -0.8726      2.4180\\n  H     -1.6417     -2.1843      1.4666\\n  H     -0.6748      0.1023     -3.2842\\n  H      0.4444     -1.1156     -2.6256\\n  H      0.8769      0.6114     -2.6258\\n  H      2.1237      0.5830     -0.8333\\n  H      2.4867      0.0158      2.1577\\n  H      3.7226      0.5602      1.0060\\n  H      2.9998     -1.0503      0.8303\\n  H      2.3934      2.6548      0.5034\\n  H      1.0525      2.1883      1.5731\\n  H      0.7430      2.5670     -0.1366\\n\",\"xyz\");\n\tviewer_1720502047776607.setStyle({\"stick\": {}});\n\tviewer_1720502047776607.zoomTo();\n\tviewer_1720502047776607.render();\n\tviewer_1720502047776607.removeAllModels();\n\tviewer_1720502047776607.addModel(\"29\\nMenthone\\n  O      0.1267      0.0527      2.4856\\n  C     -2.6496     -0.6551      0.2853\\n  C     -1.8931     -0.7818     -1.0499\\n  C     -0.5970      0.0698     -1.0913\\n  C      0.3584     -0.2899      0.0971\\n  C     -0.3776     -0.3705      1.4696\\n  C     -1.7585     -1.0627      1.4743\\n  C      0.0926     -0.0877     -2.4652\\n  C      1.6454      0.5863      0.1657\\n  C      2.7091     -0.0451      1.0910\\n  C      1.3787      2.0578      0.5494\\n  H     -2.9900      0.3738      0.4165\\n  H     -3.5503     -1.2709      0.2691\\n  H     -1.6524     -1.8315     -1.2299\\n  H     -2.5473     -0.4748     -1.8664\\n  H     -0.8989      1.1162     -0.9960\\n  H      0.6923     -1.3158     -0.0962\\n  H     -2.2518     -0.8341      2.4187\\n  H     -1.6016     -2.1439      1.4588\\n  H     -0.6215      0.1056     -3.2638\\n  H      0.4869     -1.0945     -2.5957\\n  H      0.9147      0.6137     -2.5928\\n  H      2.0897      0.5946     -0.8316\\n  H      2.3854     -0.0457      2.1305\\n  H      3.6387      0.5176      1.0265\\n  H      2.9192     -1.0745      0.8033\\n  H      2.3070      2.6255      0.5230\\n  H      0.9639      2.1336      1.5532\\n  H      0.6807      2.5314     -0.1388\\n\",\"xyz\");\n\tviewer_1720502047776607.setStyle({\"stick\": {}});\n\tviewer_1720502047776607.zoomTo();\n\tviewer_1720502047776607.render();\n\tviewer_1720502047776607.removeAllModels();\n\tviewer_1720502047776607.addModel(\"29\\nMenthone\\n  O      0.0910      0.0592      2.5177\\n  C     -2.6433     -0.6501      0.2799\\n  C     -1.8863     -0.7763     -1.0520\\n  C     -0.5934      0.0730     -1.0799\\n  C      0.3591     -0.3013      0.0993\\n  C     -0.3853     -0.3665      1.4698\\n  C     -1.7650     -1.0657      1.4723\\n  C      0.0950     -0.0866     -2.4542\\n  C      1.6453      0.5779      0.1594\\n  C      2.7219     -0.0391      1.0842\\n  C      1.3689      2.0488      0.5449\\n  H     -2.9730      0.3770      0.4133\\n  H     -3.5373     -1.2668      0.2563\\n  H     -1.6418     -1.8196     -1.2349\\n  H     -2.5323     -0.4587     -1.8650\\n  H     -0.8876      1.1158     -0.9767\\n  H      0.6926     -1.3234     -0.0929\\n  H     -2.2628     -0.8348      2.4095\\n  H     -1.6065     -2.1425      1.4525\\n  H     -0.6207      0.1101     -3.2439\\n  H      0.4765     -1.0934     -2.5808\\n  H      0.9166      0.6083     -2.5707\\n  H      2.0734      0.5808     -0.8397\\n  H      2.4010     -0.0317      2.1174\\n  H      3.6410      0.5298      1.0057\\n  H      2.9290     -1.0626      0.7932\\n  H      2.2923      2.6145      0.5080\\n  H      0.9662      2.1177      1.5477\\n  H      0.6655      2.5063     -0.1405\\n\",\"xyz\");\n\tviewer_1720502047776607.setStyle({\"stick\": {}});\n\tviewer_1720502047776607.zoomTo();\n\tviewer_1720502047776607.render();\n\tviewer_1720502047776607.removeAllModels();\n\tviewer_1720502047776607.addModel(\"29\\nMenthone\\n  O      0.0818      0.0730      2.4989\\n  C     -2.6438     -0.6531      0.2791\\n  C     -1.8855     -0.7798     -1.0524\\n  C     -0.5952      0.0743     -1.0786\\n  C      0.3632     -0.3021      0.0959\\n  C     -0.3878     -0.3589      1.4619\\n  C     -1.7634     -1.0668      1.4709\\n  C      0.0827     -0.0870     -2.4595\\n  C      1.6511      0.5790      0.1601\\n  C      2.7217     -0.0394      1.0920\\n  C      1.3776      2.0506      0.5492\\n  H     -2.9734      0.3748      0.4117\\n  H     -3.5353     -1.2748      0.2554\\n  H     -1.6348     -1.8223     -1.2349\\n  H     -2.5339     -0.4610     -1.8642\\n  H     -0.8898      1.1169     -0.9714\\n  H      0.6976     -1.3241     -0.0939\\n  H     -2.2616     -0.8347      2.4084\\n  H     -1.5973     -2.1429      1.4501\\n  H     -0.6384      0.1068     -3.2462\\n  H      0.4618     -1.0954     -2.5867\\n  H      0.9040      0.6074     -2.5843\\n  H      2.0803      0.5818     -0.8387\\n  H      2.3921     -0.0301      2.1234\\n  H      3.6439      0.5270      1.0200\\n  H      2.9289     -1.0639      0.8019\\n  H      2.3026      2.6156      0.5168\\n  H      0.9735      2.1165      1.5523\\n  H      0.6775      2.5127     -0.1371\\n\",\"xyz\");\n\tviewer_1720502047776607.setStyle({\"stick\": {}});\n\tviewer_1720502047776607.zoomTo();\n\tviewer_1720502047776607.render();\n\tviewer_1720502047776607.removeAllModels();\n\tviewer_1720502047776607.addModel(\"29\\nMenthone\\n  O      0.0869      0.0991      2.4864\\n  C     -2.6471     -0.6569      0.2805\\n  C     -1.8851     -0.7825     -1.0501\\n  C     -0.5967      0.0773     -1.0782\\n  C      0.3645     -0.3041      0.0932\\n  C     -0.3882     -0.3491      1.4577\\n  C     -1.7591     -1.0682      1.4692\\n  C      0.0781     -0.0825     -2.4625\\n  C      1.6535      0.5788      0.1585\\n  C      2.7155     -0.0447      1.0970\\n  C      1.3815      2.0511      0.5486\\n  H     -2.9788      0.3714      0.4132\\n  H     -3.5359     -1.2849      0.2568\\n  H     -1.6279     -1.8250     -1.2291\\n  H     -2.5354     -0.4644     -1.8623\\n  H     -0.8916      1.1204     -0.9674\\n  H      0.6972     -1.3276     -0.0936\\n  H     -2.2554     -0.8381      2.4095\\n  H     -1.5834     -2.1434      1.4433\\n  H     -0.6450      0.1088     -3.2500\\n  H      0.4571     -1.0923     -2.5904\\n  H      0.9003      0.6120     -2.5933\\n  H      2.0846      0.5812     -0.8408\\n  H      2.3771     -0.0340      2.1274\\n  H      3.6422      0.5179      1.0330\\n  H      2.9232     -1.0714      0.8100\\n  H      2.3085      2.6159      0.5202\\n  H      0.9750      2.1161      1.5522\\n  H      0.6846      2.5189     -0.1392\\n\",\"xyz\");\n\tviewer_1720502047776607.setStyle({\"stick\": {}});\n\tviewer_1720502047776607.zoomTo();\n\tviewer_1720502047776607.render();\n\tviewer_1720502047776607.removeAllModels();\n\tviewer_1720502047776607.addModel(\"29\\nMenthone\\n  O      0.0681      0.1259      2.4844\\n  C     -2.6496     -0.6608      0.2816\\n  C     -1.8837     -0.7831     -1.0482\\n  C     -0.5972      0.0815     -1.0740\\n  C      0.3635     -0.3078      0.0954\\n  C     -0.3945     -0.3391      1.4580\\n  C     -1.7583     -1.0721      1.4693\\n  C      0.0791     -0.0730     -2.4588\\n  C      1.6547      0.5746      0.1551\\n  C      2.7140     -0.0486      1.0967\\n  C      1.3840      2.0481      0.5409\\n  H     -2.9831      0.3669      0.4158\\n  H     -3.5349     -1.2942      0.2554\\n  H     -1.6212     -1.8250     -1.2235\\n  H     -2.5327     -0.4661     -1.8622\\n  H     -0.8916      1.1244     -0.9573\\n  H      0.6918     -1.3331     -0.0880\\n  H     -2.2539     -0.8485      2.4117\\n  H     -1.5717     -2.1452      1.4353\\n  H     -0.6440      0.1182     -3.2467\\n  H      0.4591     -1.0826     -2.5887\\n  H      0.9016      0.6224     -2.5885\\n  H      2.0839      0.5723     -0.8457\\n  H      2.3736     -0.0335      2.1267\\n  H      3.6429      0.5112      1.0332\\n  H      2.9209     -1.0773      0.8147\\n  H      2.3126      2.6111      0.5102\\n  H      0.9789      2.1171      1.5451\\n  H      0.6877      2.5164     -0.1478\\n\",\"xyz\");\n\tviewer_1720502047776607.setStyle({\"stick\": {}});\n\tviewer_1720502047776607.zoomTo();\n\tviewer_1720502047776607.render();\n\tviewer_1720502047776607.removeAllModels();\n\tviewer_1720502047776607.addModel(\"29\\nMenthone\\n  O      0.0296      0.2008      2.4732\\n  C     -2.6504     -0.6735      0.2831\\n  C     -1.8815     -0.7894     -1.0476\\n  C     -0.6023      0.0886     -1.0699\\n  C      0.3611     -0.3082      0.0963\\n  C     -0.4058     -0.3101      1.4549\\n  C     -1.7499     -1.0779      1.4682\\n  C      0.0702     -0.0517     -2.4579\\n  C      1.6596      0.5658      0.1527\\n  C      2.7065     -0.0596      1.1052\\n  C      1.3998      2.0431      0.5287\\n  H     -2.9922      0.3509      0.4194\\n  H     -3.5264     -1.3190      0.2555\\n  H     -1.6055     -1.8288     -1.2147\\n  H     -2.5306     -0.4822     -1.8651\\n  H     -0.9013      1.1283     -0.9402\\n  H      0.6782     -1.3378     -0.0792\\n  H     -2.2446     -0.8736      2.4152\\n  H     -1.5375     -2.1453      1.4177\\n  H     -0.6578      0.1362     -3.2421\\n  H      0.4584     -1.0573     -2.5948\\n  H      0.8866      0.6510     -2.5872\\n  H      2.0910      0.5525     -0.8470\\n  H      2.3585     -0.0351      2.1325\\n  H      3.6413      0.4909      1.0474\\n  H      2.9069     -1.0922      0.8325\\n  H      2.3342      2.5962      0.4981\\n  H      0.9922      2.1228      1.5308\\n  H      0.7117      2.5147     -0.1660\\n\",\"xyz\");\n\tviewer_1720502047776607.setStyle({\"stick\": {}});\n\tviewer_1720502047776607.zoomTo();\n\tviewer_1720502047776607.render();\n\tviewer_1720502047776607.removeAllModels();\n\tviewer_1720502047776607.addModel(\"29\\nMenthone\\n  O     -0.0297      0.2885      2.4594\\n  C     -2.6531     -0.6936      0.2864\\n  C     -1.8787     -0.7961     -1.0436\\n  C     -0.6094      0.0975     -1.0611\\n  C      0.3543     -0.3042      0.1043\\n  C     -0.4258     -0.2800      1.4554\\n  C     -1.7430     -1.0914      1.4677\\n  C      0.0661     -0.0168     -2.4487\\n  C      1.6636      0.5528      0.1494\\n  C      2.6969     -0.0744      1.1141\\n  C      1.4260      2.0391      0.5004\\n  H     -3.0097      0.3249      0.4270\\n  H     -3.5190     -1.3520      0.2562\\n  H     -1.5865     -1.8320     -1.2037\\n  H     -2.5276     -0.5038     -1.8661\\n  H     -0.9186      1.1319     -0.9155\\n  H      0.6550     -1.3401     -0.0604\\n  H     -2.2411     -0.9195      2.4189\\n  H     -1.4980     -2.1501      1.3953\\n  H     -0.6640      0.1682     -3.2312\\n  H      0.4719     -1.0137     -2.5965\\n  H      0.8707      0.7009     -2.5681\\n  H      2.0976      0.5184     -0.8488\\n  H      2.3453     -0.0318      2.1396\\n  H      3.6393      0.4623      1.0553\\n  H      2.8835     -1.1133      0.8571\\n  H      2.3693      2.5761      0.4636\\n  H      1.0163      2.1426      1.4988\\n  H      0.7485      2.5097     -0.2052\\n\",\"xyz\");\n\tviewer_1720502047776607.setStyle({\"stick\": {}});\n\tviewer_1720502047776607.zoomTo();\n\tviewer_1720502047776607.render();\n\tviewer_1720502047776607.removeAllModels();\n\tviewer_1720502047776607.addModel(\"29\\nMenthone\\n  O     -0.0844      0.3764      2.4388\\n  C     -2.6488     -0.7153      0.2904\\n  C     -1.8757     -0.8051     -1.0413\\n  C     -0.6185      0.1045     -1.0560\\n  C      0.3468     -0.2947      0.1099\\n  C     -0.4406     -0.2501      1.4549\\n  C     -1.7297     -1.1033      1.4677\\n  C      0.0552      0.0209     -2.4450\\n  C      1.6686      0.5377      0.1502\\n  C      2.6842     -0.0905      1.1327\\n  C      1.4555      2.0343      0.4707\\n  H     -3.0209      0.2969      0.4347\\n  H     -3.5068     -1.3836      0.2610\\n  H     -1.5686     -1.8369     -1.1998\\n  H     -2.5281     -0.5290     -1.8663\\n  H     -0.9430      1.1321     -0.8949\\n  H      0.6291     -1.3371     -0.0448\\n  H     -2.2319     -0.9655      2.4220\\n  H     -1.4537     -2.1526      1.3766\\n  H     -0.6801      0.2013     -3.2232\\n  H      0.4836     -0.9639     -2.6065\\n  H      0.8424      0.7585     -2.5545\\n  H      2.1110      0.4781     -0.8426\\n  H      2.3258     -0.0270      2.1547\\n  H      3.6347      0.4309      1.0740\\n  H      2.8556     -1.1356      0.8930\\n  H      2.4083      2.5533      0.4319\\n  H      1.0373      2.1642      1.4621\\n  H      0.7926      2.5011     -0.2506\\n\",\"xyz\");\n\tviewer_1720502047776607.setStyle({\"stick\": {}});\n\tviewer_1720502047776607.zoomTo();\n\tviewer_1720502047776607.render();\n\tviewer_1720502047776607.removeAllModels();\n\tviewer_1720502047776607.addModel(\"29\\nMenthone\\n  O     -0.1056      0.4070      2.4293\\n  C     -2.6449     -0.7281      0.2931\\n  C     -1.8748     -0.8095     -1.0397\\n  C     -0.6240      0.1071     -1.0523\\n  C      0.3423     -0.2883      0.1132\\n  C     -0.4455     -0.2440      1.4565\\n  C     -1.7237     -1.1129      1.4689\\n  C      0.0517      0.0430     -2.4407\\n  C      1.6704      0.5292      0.1506\\n  C      2.6758     -0.0964      1.1459\\n  C      1.4729      2.0333      0.4485\\n  H     -3.0228      0.2817      0.4396\\n  H     -3.5025     -1.3969      0.2650\\n  H     -1.5628     -1.8390     -1.2049\\n  H     -2.5310     -0.5372     -1.8629\\n  H     -0.9597      1.1302     -0.8849\\n  H      0.6154     -1.3337     -0.0388\\n  H     -2.2312     -0.9908      2.4225\\n  H     -1.4359     -2.1584      1.3721\\n  H     -0.6852      0.2212     -3.2176\\n  H      0.4946     -0.9337     -2.6105\\n  H      0.8277      0.7934     -2.5413\\n  H      2.1184      0.4519     -0.8385\\n  H      2.3138     -0.0179      2.1654\\n  H      3.6304      0.4165      1.0841\\n  H      2.8381     -1.1454      0.9179\\n  H      2.4307      2.5424      0.4082\\n  H      1.0485      2.1805      1.4348\\n  H      0.8185      2.4945     -0.2835\\n\",\"xyz\");\n\tviewer_1720502047776607.setStyle({\"stick\": {}});\n\tviewer_1720502047776607.zoomTo();\n\tviewer_1720502047776607.render();\n\tviewer_1720502047776607.removeAllModels();\n\tviewer_1720502047776607.addModel(\"29\\nMenthone\\n  O     -0.1063      0.4136      2.4253\\n  C     -2.6403     -0.7345      0.2951\\n  C     -1.8744     -0.8112     -1.0398\\n  C     -0.6268      0.1088     -1.0510\\n  C      0.3409     -0.2863      0.1125\\n  C     -0.4428     -0.2451      1.4572\\n  C     -1.7182     -1.1184      1.4701\\n  C      0.0481      0.0546     -2.4405\\n  C      1.6723      0.5238      0.1509\\n  C      2.6696     -0.0978      1.1578\\n  C      1.4793      2.0318      0.4349\\n  H     -3.0177      0.2754      0.4432\\n  H     -3.4997     -1.4013      0.2686\\n  H     -1.5618     -1.8391     -1.2139\\n  H     -2.5347     -0.5346     -1.8584\\n  H     -0.9680      1.1298     -0.8809\\n  H      0.6102     -1.3326     -0.0411\\n  H     -2.2284     -0.9995      2.4227\\n  H     -1.4272     -2.1631      1.3733\\n  H     -0.6906      0.2318     -3.2160\\n  H      0.4970     -0.9185     -2.6152\\n  H      0.8187      0.8109     -2.5379\\n  H      2.1258      0.4353     -0.8347\\n  H      2.3016     -0.0095      2.1743\\n  H      3.6265      0.4110      1.0964\\n  H      2.8294     -1.1490      0.9383\\n  H      2.4390      2.5374      0.3967\\n  H      1.0483      2.1879      1.4172\\n  H      0.8305      2.4887     -0.3048\\n\",\"xyz\");\n\tviewer_1720502047776607.setStyle({\"stick\": {}});\n\tviewer_1720502047776607.zoomTo();\n\tviewer_1720502047776607.render();\n\tviewer_1720502047776607.removeAllModels();\n\tviewer_1720502047776607.addModel(\"29\\nMenthone\\n  O     -0.1045      0.4135      2.4231\\n  C     -2.6359     -0.7429      0.2979\\n  C     -1.8748     -0.8113     -1.0400\\n  C     -0.6299      0.1126     -1.0479\\n  C      0.3397     -0.2867      0.1112\\n  C     -0.4395     -0.2498      1.4580\\n  C     -1.7121     -1.1277      1.4713\\n  C      0.0447      0.0690     -2.4385\\n  C      1.6750      0.5170      0.1497\\n  C      2.6608     -0.0968      1.1732\\n  C      1.4864      2.0295      0.4148\\n  H     -3.0110      0.2675      0.4498\\n  H     -3.4973     -1.4075      0.2723\\n  H     -1.5623     -1.8369     -1.2276\\n  H     -2.5402     -0.5246     -1.8512\\n  H     -0.9761      1.1313     -0.8739\\n  H      0.6055     -1.3335     -0.0468\\n  H     -2.2240     -1.0098      2.4232\\n  H     -1.4179     -2.1717      1.3748\\n  H     -0.6955      0.2459     -3.2128\\n  H      0.4983     -0.9011     -2.6185\\n  H      0.8113      0.8299     -2.5322\\n  H      2.1351      0.4130     -0.8315\\n  H      2.2841      0.0056      2.1852\\n  H      3.6204      0.4071      1.1132\\n  H      2.8184     -1.1511      0.9670\\n  H      2.4483      2.5312      0.3795\\n  H      1.0475      2.1973      1.3919\\n  H      0.8453      2.4808     -0.3350\\n\",\"xyz\");\n\tviewer_1720502047776607.setStyle({\"stick\": {}});\n\tviewer_1720502047776607.zoomTo();\n\tviewer_1720502047776607.render();\n\tviewer_1720502047776607.removeAllModels();\n\tviewer_1720502047776607.addModel(\"29\\nMenthone\\n  O     -0.1030      0.4100      2.4233\\n  C     -2.6335     -0.7492      0.3003\\n  C     -1.8758     -0.8085     -1.0404\\n  C     -0.6317      0.1173     -1.0446\\n  C      0.3396     -0.2894      0.1101\\n  C     -0.4372     -0.2542      1.4583\\n  C     -1.7073     -1.1360      1.4718\\n  C      0.0423      0.0799     -2.4360\\n  C      1.6779      0.5106      0.1484\\n  C      2.6547     -0.0940      1.1858\\n  C      1.4898      2.0257      0.3969\\n  H     -3.0069      0.2612      0.4571\\n  H     -3.4952     -1.4133      0.2740\\n  H     -1.5640     -1.8321     -1.2393\\n  H     -2.5448     -0.5114     -1.8451\\n  H     -0.9790      1.1349     -0.8662\\n  H      0.6022     -1.3361     -0.0533\\n  H     -2.2187     -1.0181      2.4240\\n  H     -1.4105     -2.1790      1.3742\\n  H     -0.6986      0.2582     -3.2095\\n  H      0.4966     -0.8892     -2.6197\\n  H      0.8082      0.8419     -2.5275\\n  H      2.1438      0.3932     -0.8287\\n  H      2.2707      0.0206      2.1937\\n  H      3.6161      0.4069      1.1274\\n  H      2.8120     -1.1509      0.9927\\n  H      2.4529      2.5256      0.3645\\n  H      1.0442      2.2035      1.3694\\n  H      0.8551      2.4717     -0.3616\\n\",\"xyz\");\n\tviewer_1720502047776607.setStyle({\"stick\": {}});\n\tviewer_1720502047776607.zoomTo();\n\tviewer_1720502047776607.render();\n\tviewer_1720502047776607.removeAllModels();\n\tviewer_1720502047776607.addModel(\"29\\nMenthone\\n  O     -0.1025      0.4050      2.4249\\n  C     -2.6334     -0.7525      0.3021\\n  C     -1.8773     -0.8044     -1.0406\\n  C     -0.6323      0.1212     -1.0423\\n  C      0.3401     -0.2922      0.1096\\n  C     -0.4365     -0.2574      1.4583\\n  C     -1.7050     -1.1413      1.4715\\n  C      0.0412      0.0850     -2.4339\\n  C      1.6796      0.5071      0.1475\\n  C      2.6515     -0.0908      1.1929\\n  C      1.4916      2.0233      0.3858\\n  H     -3.0077      0.2568      0.4633\\n  H     -3.4935     -1.4185      0.2737\\n  H     -1.5663     -1.8269     -1.2457\\n  H     -2.5478     -0.5008     -1.8415\\n  H     -0.9778      1.1386     -0.8604\\n  H      0.6006     -1.3385     -0.0586\\n  H     -2.2149     -1.0242      2.4247\\n  H     -1.4067     -2.1837      1.3719\\n  H     -0.6993      0.2655     -3.2072\\n  H      0.4938     -0.8847     -2.6189\\n  H      0.8090      0.8454     -2.5245\\n  H      2.1490      0.3814     -0.8271\\n  H      2.2639      0.0311      2.1985\\n  H      3.6135      0.4089      1.1350\\n  H      2.8088     -1.1493      1.0084\\n  H      2.4552      2.5223      0.3554\\n  H      1.0420      2.2074      1.3554\\n  H      0.8612      2.4663     -0.3781\\n\",\"xyz\");\n\tviewer_1720502047776607.setStyle({\"stick\": {}});\n\tviewer_1720502047776607.zoomTo();\n\tviewer_1720502047776607.render();\n\tviewer_1720502047776607.removeAllModels();\n\tviewer_1720502047776607.addModel(\"29\\nMenthone\\n  O     -0.1024      0.4019      2.4257\\n  C     -2.6342     -0.7538      0.3032\\n  C     -1.8787     -0.8003     -1.0404\\n  C     -0.6322      0.1236     -1.0410\\n  C      0.3409     -0.2941      0.1094\\n  C     -0.4363     -0.2592      1.4579\\n  C     -1.7041     -1.1439      1.4710\\n  C      0.0407      0.0867     -2.4327\\n  C      1.6806      0.5052      0.1473\\n  C      2.6506     -0.0886      1.1965\\n  C      1.4919      2.0219      0.3800\\n  H     -3.0115      0.2538      0.4678\\n  H     -3.4918     -1.4227      0.2728\\n  H     -1.5685     -1.8224     -1.2484\\n  H     -2.5494     -0.4940     -1.8400\\n  H     -0.9749      1.1415     -0.8567\\n  H      0.6002     -1.3401     -0.0621\\n  H     -2.2123     -1.0285      2.4252\\n  H     -1.4052     -2.1858      1.3690\\n  H     -0.6994      0.2694     -3.2059\\n  H      0.4908     -0.8841     -2.6180\\n  H      0.8106      0.8448     -2.5230\\n  H      2.1522      0.3753     -0.8256\\n  H      2.2616      0.0372      2.2010\\n  H      3.6127      0.4109      1.1385\\n  H      2.8080     -1.1479      1.0167\\n  H      2.4559      2.5204      0.3513\\n  H      1.0396      2.2094      1.3477\\n  H      0.8644      2.4631     -0.3872\\n\",\"xyz\");\n\tviewer_1720502047776607.setStyle({\"stick\": {}});\n\tviewer_1720502047776607.zoomTo();\n\tviewer_1720502047776607.render();\n\tviewer_1720502047776607.removeAllModels();\n\tviewer_1720502047776607.addModel(\"29\\nMenthone\\n  O     -0.1026      0.4007      2.4253\\n  C     -2.6349     -0.7547      0.3042\\n  C     -1.8800     -0.7966     -1.0398\\n  C     -0.6320      0.1253     -1.0402\\n  C      0.3416     -0.2952      0.1093\\n  C     -0.4360     -0.2604      1.4574\\n  C     -1.7032     -1.1455      1.4705\\n  C      0.0398      0.0876     -2.4321\\n  C      1.6810      0.5042      0.1476\\n  C      2.6497     -0.0872      1.1995\\n  C      1.4930      2.0215      0.3760\\n  H     -3.0169      0.2506      0.4717\\n  H     -3.4894     -1.4276      0.2719\\n  H     -1.5706     -1.8186     -1.2497\\n  H     -2.5506     -0.4894     -1.8391\\n  H     -0.9720      1.1437     -0.8540\\n  H      0.6002     -1.3409     -0.0648\\n  H     -2.2100     -1.0324      2.4257\\n  H     -1.4040     -2.1871      1.3661\\n  H     -0.6999      0.2725     -3.2051\\n  H      0.4878     -0.8841     -2.6179\\n  H      0.8117      0.8438     -2.5224\\n  H      2.1547      0.3713     -0.8240\\n  H      2.2600      0.0416      2.2033\\n  H      3.6121      0.4118      1.1409\\n  H      2.8065     -1.1471      1.0229\\n  H      2.4575      2.5189      0.3493\\n  H      1.0379      2.2118      1.3418\\n  H      0.8686      2.4616     -0.3943\\n\",\"xyz\");\n\tviewer_1720502047776607.setStyle({\"stick\": {}});\n\tviewer_1720502047776607.zoomTo();\n\tviewer_1720502047776607.render();\n\tviewer_1720502047776607.removeAllModels();\n\tviewer_1720502047776607.addModel(\"29\\nMenthone\\n  O     -0.1028      0.4014      2.4239\\n  C     -2.6354     -0.7555      0.3050\\n  C     -1.8809     -0.7941     -1.0392\\n  C     -0.6319      0.1261     -1.0396\\n  C      0.3422     -0.2958      0.1091\\n  C     -0.4355     -0.2613      1.4569\\n  C     -1.7026     -1.1464      1.4702\\n  C      0.0391      0.0883     -2.4320\\n  C      1.6814      0.5034      0.1481\\n  C      2.6493     -0.0865      1.2017\\n  C      1.4939      2.0213      0.3734\\n  H     -3.0220      0.2478      0.4744\\n  H     -3.4871     -1.4318      0.2714\\n  H     -1.5724     -1.8161     -1.2507\\n  H     -2.5514     -0.4864     -1.8384\\n  H     -0.9699      1.1449     -0.8523\\n  H      0.6007     -1.3412     -0.0664\\n  H     -2.2086     -1.0349      2.4261\\n  H     -1.4035     -2.1878      1.3643\\n  H     -0.7007      0.2750     -3.2044\\n  H      0.4855     -0.8838     -2.6186\\n  H      0.8120      0.8434     -2.5219\\n  H      2.1566      0.3688     -0.8225\\n  H      2.2593      0.0446      2.2051\\n  H      3.6120      0.4117      1.1424\\n  H      2.8053     -1.1468      1.0272\\n  H      2.4590      2.5177      0.3490\\n  H      1.0359      2.2136      1.3375\\n  H      0.8724      2.4606     -0.3995\\n\",\"xyz\");\n\tviewer_1720502047776607.setStyle({\"stick\": {}});\n\tviewer_1720502047776607.zoomTo();\n\tviewer_1720502047776607.render();\n\tviewer_1720502047776607.removeAllModels();\n\tviewer_1720502047776607.addModel(\"29\\nMenthone\\n  O     -0.1036      0.4035      2.4223\\n  C     -2.6354     -0.7564      0.3054\\n  C     -1.8812     -0.7931     -1.0389\\n  C     -0.6318      0.1261     -1.0394\\n  C      0.3425     -0.2959      0.1088\\n  C     -0.4350     -0.2617      1.4566\\n  C     -1.7020     -1.1467      1.4703\\n  C      0.0384      0.0890     -2.4322\\n  C      1.6817      0.5030      0.1484\\n  C      2.6488     -0.0865      1.2032\\n  C      1.4950      2.0214      0.3722\\n  H     -3.0252      0.2455      0.4756\\n  H     -3.4852     -1.4351      0.2713\\n  H     -1.5734     -1.8151     -1.2517\\n  H     -2.5519     -0.4848     -1.8378\\n  H     -0.9690      1.1452     -0.8516\\n  H      0.6013     -1.3412     -0.0668\\n  H     -2.2078     -1.0358      2.4263\\n  H     -1.4032     -2.1883      1.3641\\n  H     -0.7018      0.2769     -3.2040\\n  H      0.4842     -0.8832     -2.6199\\n  H      0.8116      0.8439     -2.5219\\n  H      2.1577      0.3676     -0.8218\\n  H      2.2586      0.0462      2.2063\\n  H      3.6119      0.4106      1.1432\\n  H      2.8038     -1.1472      1.0299\\n  H      2.4606      2.5169      0.3498\\n  H      1.0345      2.2147      1.3348\\n  H      0.8758      2.4605     -0.4027\\n\",\"xyz\");\n\tviewer_1720502047776607.setStyle({\"stick\": {}});\n\tviewer_1720502047776607.zoomTo();\n\tviewer_1720502047776607.render();\n\tviewer_1720502047776607.removeAllModels();\n\tviewer_1720502047776607.addModel(\"29\\nMenthone\\n  O     -0.1046      0.4061      2.4207\\n  C     -2.6353     -0.7573      0.3056\\n  C     -1.8813     -0.7930     -1.0388\\n  C     -0.6317      0.1259     -1.0391\\n  C      0.3426     -0.2959      0.1087\\n  C     -0.4346     -0.2617      1.4564\\n  C     -1.7016     -1.1468      1.4707\\n  C      0.0380      0.0897     -2.4323\\n  C      1.6821      0.5027      0.1485\\n  C      2.6487     -0.0868      1.2037\\n  C      1.4955      2.0213      0.3718\\n  H     -3.0270      0.2438      0.4759\\n  H     -3.4839     -1.4376      0.2714\\n  H     -1.5741     -1.8149     -1.2530\\n  H     -2.5521     -0.4835     -1.8371\\n  H     -0.9688      1.1450     -0.8514\\n  H      0.6019     -1.3412     -0.0665\\n  H     -2.2075     -1.0353      2.4266\\n  H     -1.4032     -2.1885      1.3651\\n  H     -0.7024      0.2782     -3.2036\\n  H      0.4835     -0.8825     -2.6210\\n  H      0.8113      0.8445     -2.5217\\n  H      2.1581      0.3672     -0.8216\\n  H      2.2587      0.0472      2.2067\\n  H      3.6123      0.4094      1.1431\\n  H      2.8029     -1.1478      1.0312\\n  H      2.4614      2.5165      0.3514\\n  H      1.0329      2.2149      1.3334\\n  H      0.8781      2.4605     -0.4046\\n\",\"xyz\");\n\tviewer_1720502047776607.setStyle({\"stick\": {}});\n\tviewer_1720502047776607.zoomTo();\n\tviewer_1720502047776607.render();\n\tviewer_1720502047776607.removeAllModels();\n\tviewer_1720502047776607.addModel(\"29\\nMenthone\\n  O     -0.1062      0.4091      2.4195\\n  C     -2.6351     -0.7585      0.3056\\n  C     -1.8812     -0.7932     -1.0389\\n  C     -0.6316      0.1258     -1.0389\\n  C      0.3427     -0.2958      0.1087\\n  C     -0.4345     -0.2612      1.4564\\n  C     -1.7012     -1.1468      1.4711\\n  C      0.0379      0.0902     -2.4323\\n  C      1.6823      0.5026      0.1483\\n  C      2.6486     -0.0873      1.2037\\n  C      1.4961      2.0212      0.3717\\n  H     -3.0283      0.2420      0.4759\\n  H     -3.4826     -1.4402      0.2714\\n  H     -1.5744     -1.8149     -1.2547\\n  H     -2.5523     -0.4821     -1.8364\\n  H     -0.9690      1.1449     -0.8513\\n  H      0.6021     -1.3412     -0.0660\\n  H     -2.2072     -1.0341      2.4268\\n  H     -1.4027     -2.1887      1.3668\\n  H     -0.7029      0.2794     -3.2033\\n  H      0.4829     -0.8820     -2.6219\\n  H      0.8112      0.8450     -2.5215\\n  H      2.1581      0.3672     -0.8219\\n  H      2.2590      0.0480      2.2067\\n  H      3.6128      0.4077      1.1424\\n  H      2.8016     -1.1485      1.0320\\n  H      2.4622      2.5160      0.3537\\n  H      1.0313      2.2147      1.3323\\n  H      0.8806      2.4609     -0.4059\\n\",\"xyz\");\n\tviewer_1720502047776607.setStyle({\"stick\": {}});\n\tviewer_1720502047776607.zoomTo();\n\tviewer_1720502047776607.render();\n\tviewer_1720502047776607.removeAllModels();\n\tviewer_1720502047776607.addModel(\"29\\nMenthone\\n  O     -0.1078      0.4118      2.4188\\n  C     -2.6349     -0.7599      0.3056\\n  C     -1.8811     -0.7933     -1.0392\\n  C     -0.6316      0.1259     -1.0388\\n  C      0.3426     -0.2957      0.1087\\n  C     -0.4348     -0.2603      1.4563\\n  C     -1.7009     -1.1468      1.4716\\n  C      0.0379      0.0905     -2.4322\\n  C      1.6826      0.5025      0.1481\\n  C      2.6487     -0.0877      1.2032\\n  C      1.4962      2.0210      0.3720\\n  H     -3.0293      0.2401      0.4758\\n  H     -3.4815     -1.4427      0.2713\\n  H     -1.5747     -1.8147     -1.2566\\n  H     -2.5526     -0.4805     -1.8356\\n  H     -0.9693      1.1449     -0.8514\\n  H      0.6018     -1.3412     -0.0653\\n  H     -2.2072     -1.0326      2.4269\\n  H     -1.4020     -2.1886      1.3688\\n  H     -0.7028      0.2803     -3.2031\\n  H      0.4825     -0.8819     -2.6222\\n  H      0.8117      0.8449     -2.5212\\n  H      2.1578      0.3673     -0.8225\\n  H      2.2599      0.0488      2.2063\\n  H      3.6136      0.4060      1.1411\\n  H      2.8004     -1.1493      1.0323\\n  H      2.4625      2.5156      0.3564\\n  H      1.0294      2.2141      1.3316\\n  H      0.8827      2.4613     -0.4068\\n\",\"xyz\");\n\tviewer_1720502047776607.setStyle({\"stick\": {}});\n\tviewer_1720502047776607.zoomTo();\n\tviewer_1720502047776607.render();\n\tviewer_1720502047776607.removeAllModels();\n\tviewer_1720502047776607.addModel(\"29\\nMenthone\\n  O     -0.1090      0.4138      2.4186\\n  C     -2.6347     -0.7614      0.3056\\n  C     -1.8811     -0.7932     -1.0394\\n  C     -0.6317      0.1263     -1.0388\\n  C      0.3424     -0.2953      0.1089\\n  C     -0.4353     -0.2590      1.4564\\n  C     -1.7005     -1.1466      1.4719\\n  C      0.0380      0.0906     -2.4321\\n  C      1.6827      0.5026      0.1478\\n  C      2.6487     -0.0881      1.2026\\n  C      1.4965      2.0210      0.3722\\n  H     -3.0303      0.2381      0.4758\\n  H     -3.4804     -1.4453      0.2711\\n  H     -1.5746     -1.8143     -1.2583\\n  H     -2.5530     -0.4791     -1.8350\\n  H     -0.9697      1.1452     -0.8515\\n  H      0.6009     -1.3411     -0.0647\\n  H     -2.2070     -1.0317      2.4271\\n  H     -1.4008     -2.1884      1.3704\\n  H     -0.7024      0.2809     -3.2031\\n  H      0.4821     -0.8820     -2.6220\\n  H      0.8123      0.8446     -2.5210\\n  H      2.1574      0.3675     -0.8230\\n  H      2.2607      0.0496      2.2059\\n  H      3.6142      0.4043      1.1397\\n  H      2.7989     -1.1501      1.0325\\n  H      2.4631      2.5151      0.3590\\n  H      1.0278      2.2137      1.3310\\n  H      0.8849      2.4620     -0.4077\\n\",\"xyz\");\n\tviewer_1720502047776607.setStyle({\"stick\": {}});\n\tviewer_1720502047776607.zoomTo();\n\tviewer_1720502047776607.render();\n\tviewer_1720502047776607.removeAllModels();\n\tviewer_1720502047776607.addModel(\"29\\nMenthone\\n  O     -0.1093      0.4146      2.4188\\n  C     -2.6346     -0.7623      0.3056\\n  C     -1.8811     -0.7930     -1.0396\\n  C     -0.6318      0.1268     -1.0389\\n  C      0.3422     -0.2948      0.1091\\n  C     -0.4357     -0.2579      1.4564\\n  C     -1.7003     -1.1465      1.4721\\n  C      0.0381      0.0906     -2.4319\\n  C      1.6826      0.5027      0.1477\\n  C      2.6488     -0.0883      1.2022\\n  C      1.4967      2.0210      0.3724\\n  H     -3.0313      0.2368      0.4759\\n  H     -3.4796     -1.4470      0.2709\\n  H     -1.5746     -1.8138     -1.2594\\n  H     -2.5535     -0.4784     -1.8347\\n  H     -0.9700      1.1457     -0.8517\\n  H      0.6000     -1.3408     -0.0643\\n  H     -2.2071     -1.0315      2.4271\\n  H     -1.3996     -2.1880      1.3712\\n  H     -0.7020      0.2811     -3.2032\\n  H      0.4817     -0.8823     -2.6215\\n  H      0.8129      0.8440     -2.5208\\n  H      2.1571      0.3676     -0.8232\\n  H      2.2616      0.0503      2.2057\\n  H      3.6147      0.4032      1.1384\\n  H      2.7977     -1.1505      1.0327\\n  H      2.4634      2.5148      0.3609\\n  H      1.0265      2.2136      1.3305\\n  H      0.8865      2.4626     -0.4084\\n\",\"xyz\");\n\tviewer_1720502047776607.setStyle({\"stick\": {}});\n\tviewer_1720502047776607.zoomTo();\n\tviewer_1720502047776607.render();\nviewer_1720502047776607.render();\n});\n</script>",
      "text/html": [
       "<div id=\"3dmolviewer_1720502047776607\"  style=\"position: relative; width: 800px; height: 600px;\">\n",
       "        <p id=\"3dmolwarning_1720502047776607\" style=\"background-color:#ffcccc;color:black\">You appear to be running in JupyterLab (or JavaScript failed to load for some other reason).  You need to install the 3dmol extension: <br>\n",
       "        <tt>jupyter labextension install jupyterlab_3dmol</tt></p>\n",
       "        </div>\n",
       "<script>\n",
       "\n",
       "var loadScriptAsync = function(uri){\n",
       "  return new Promise((resolve, reject) => {\n",
       "    //this is to ignore the existence of requirejs amd\n",
       "    var savedexports, savedmodule;\n",
       "    if (typeof exports !== 'undefined') savedexports = exports;\n",
       "    else exports = {}\n",
       "    if (typeof module !== 'undefined') savedmodule = module;\n",
       "    else module = {}\n",
       "\n",
       "    var tag = document.createElement('script');\n",
       "    tag.src = uri;\n",
       "    tag.async = true;\n",
       "    tag.onload = () => {\n",
       "        exports = savedexports;\n",
       "        module = savedmodule;\n",
       "        resolve();\n",
       "    };\n",
       "  var firstScriptTag = document.getElementsByTagName('script')[0];\n",
       "  firstScriptTag.parentNode.insertBefore(tag, firstScriptTag);\n",
       "});\n",
       "};\n",
       "\n",
       "if(typeof $3Dmolpromise === 'undefined') {\n",
       "$3Dmolpromise = null;\n",
       "  $3Dmolpromise = loadScriptAsync('https://cdnjs.cloudflare.com/ajax/libs/3Dmol/2.0.4/3Dmol-min.js');\n",
       "}\n",
       "\n",
       "var viewer_1720502047776607 = null;\n",
       "var warn = document.getElementById(\"3dmolwarning_1720502047776607\");\n",
       "if(warn) {\n",
       "    warn.parentNode.removeChild(warn);\n",
       "}\n",
       "$3Dmolpromise.then(function() {\n",
       "viewer_1720502047776607 = $3Dmol.createViewer(document.getElementById(\"3dmolviewer_1720502047776607\"),{backgroundColor:\"white\"});\n",
       "viewer_1720502047776607.zoomTo();\n",
       "\tviewer_1720502047776607.removeAllModels();\n",
       "\tviewer_1720502047776607.addModel(\"29\\nMenthone\\n  O      0.0000      0.0000      2.5586\\n  C     -2.6808     -0.6752      0.2640\\n  C     -1.9069     -0.7891     -1.0689\\n  C     -0.6021      0.0645     -1.0711\\n  C      0.3669     -0.2822      0.1307\\n  C     -0.4333     -0.4044      1.4787\\n  C     -1.8085     -1.0923      1.4704\\n  C      0.0441     -0.0966     -2.4669\\n  C      1.6774      0.5916      0.1788\\n  C      2.7727      0.0000      1.0893\\n  C      1.4543      2.0725      0.5487\\n  H     -3.0350      0.3663      0.4004\\n  H     -3.5991     -1.2927      0.2278\\n  H     -1.6691     -1.8529     -1.2685\\n  H     -2.5724     -0.4777     -1.8976\\n  H     -0.9073      1.1253     -0.9660\\n  H      0.7066     -1.3173     -0.0579\\n  H     -2.3339     -0.8726      2.4180\\n  H     -1.6417     -2.1843      1.4666\\n  H     -0.6748      0.1023     -3.2842\\n  H      0.4444     -1.1156     -2.6256\\n  H      0.8769      0.6114     -2.6258\\n  H      2.1237      0.5830     -0.8333\\n  H      2.4867      0.0158      2.1577\\n  H      3.7226      0.5602      1.0060\\n  H      2.9998     -1.0503      0.8303\\n  H      2.3934      2.6548      0.5034\\n  H      1.0525      2.1883      1.5731\\n  H      0.7430      2.5670     -0.1366\\n\",\"xyz\");\n",
       "\tviewer_1720502047776607.setStyle({\"stick\": {}});\n",
       "\tviewer_1720502047776607.zoomTo();\n",
       "\tviewer_1720502047776607.render();\n",
       "\tviewer_1720502047776607.removeAllModels();\n",
       "\tviewer_1720502047776607.addModel(\"29\\nMenthone\\n  O      0.1267      0.0527      2.4856\\n  C     -2.6496     -0.6551      0.2853\\n  C     -1.8931     -0.7818     -1.0499\\n  C     -0.5970      0.0698     -1.0913\\n  C      0.3584     -0.2899      0.0971\\n  C     -0.3776     -0.3705      1.4696\\n  C     -1.7585     -1.0627      1.4743\\n  C      0.0926     -0.0877     -2.4652\\n  C      1.6454      0.5863      0.1657\\n  C      2.7091     -0.0451      1.0910\\n  C      1.3787      2.0578      0.5494\\n  H     -2.9900      0.3738      0.4165\\n  H     -3.5503     -1.2709      0.2691\\n  H     -1.6524     -1.8315     -1.2299\\n  H     -2.5473     -0.4748     -1.8664\\n  H     -0.8989      1.1162     -0.9960\\n  H      0.6923     -1.3158     -0.0962\\n  H     -2.2518     -0.8341      2.4187\\n  H     -1.6016     -2.1439      1.4588\\n  H     -0.6215      0.1056     -3.2638\\n  H      0.4869     -1.0945     -2.5957\\n  H      0.9147      0.6137     -2.5928\\n  H      2.0897      0.5946     -0.8316\\n  H      2.3854     -0.0457      2.1305\\n  H      3.6387      0.5176      1.0265\\n  H      2.9192     -1.0745      0.8033\\n  H      2.3070      2.6255      0.5230\\n  H      0.9639      2.1336      1.5532\\n  H      0.6807      2.5314     -0.1388\\n\",\"xyz\");\n",
       "\tviewer_1720502047776607.setStyle({\"stick\": {}});\n",
       "\tviewer_1720502047776607.zoomTo();\n",
       "\tviewer_1720502047776607.render();\n",
       "\tviewer_1720502047776607.removeAllModels();\n",
       "\tviewer_1720502047776607.addModel(\"29\\nMenthone\\n  O      0.0910      0.0592      2.5177\\n  C     -2.6433     -0.6501      0.2799\\n  C     -1.8863     -0.7763     -1.0520\\n  C     -0.5934      0.0730     -1.0799\\n  C      0.3591     -0.3013      0.0993\\n  C     -0.3853     -0.3665      1.4698\\n  C     -1.7650     -1.0657      1.4723\\n  C      0.0950     -0.0866     -2.4542\\n  C      1.6453      0.5779      0.1594\\n  C      2.7219     -0.0391      1.0842\\n  C      1.3689      2.0488      0.5449\\n  H     -2.9730      0.3770      0.4133\\n  H     -3.5373     -1.2668      0.2563\\n  H     -1.6418     -1.8196     -1.2349\\n  H     -2.5323     -0.4587     -1.8650\\n  H     -0.8876      1.1158     -0.9767\\n  H      0.6926     -1.3234     -0.0929\\n  H     -2.2628     -0.8348      2.4095\\n  H     -1.6065     -2.1425      1.4525\\n  H     -0.6207      0.1101     -3.2439\\n  H      0.4765     -1.0934     -2.5808\\n  H      0.9166      0.6083     -2.5707\\n  H      2.0734      0.5808     -0.8397\\n  H      2.4010     -0.0317      2.1174\\n  H      3.6410      0.5298      1.0057\\n  H      2.9290     -1.0626      0.7932\\n  H      2.2923      2.6145      0.5080\\n  H      0.9662      2.1177      1.5477\\n  H      0.6655      2.5063     -0.1405\\n\",\"xyz\");\n",
       "\tviewer_1720502047776607.setStyle({\"stick\": {}});\n",
       "\tviewer_1720502047776607.zoomTo();\n",
       "\tviewer_1720502047776607.render();\n",
       "\tviewer_1720502047776607.removeAllModels();\n",
       "\tviewer_1720502047776607.addModel(\"29\\nMenthone\\n  O      0.0818      0.0730      2.4989\\n  C     -2.6438     -0.6531      0.2791\\n  C     -1.8855     -0.7798     -1.0524\\n  C     -0.5952      0.0743     -1.0786\\n  C      0.3632     -0.3021      0.0959\\n  C     -0.3878     -0.3589      1.4619\\n  C     -1.7634     -1.0668      1.4709\\n  C      0.0827     -0.0870     -2.4595\\n  C      1.6511      0.5790      0.1601\\n  C      2.7217     -0.0394      1.0920\\n  C      1.3776      2.0506      0.5492\\n  H     -2.9734      0.3748      0.4117\\n  H     -3.5353     -1.2748      0.2554\\n  H     -1.6348     -1.8223     -1.2349\\n  H     -2.5339     -0.4610     -1.8642\\n  H     -0.8898      1.1169     -0.9714\\n  H      0.6976     -1.3241     -0.0939\\n  H     -2.2616     -0.8347      2.4084\\n  H     -1.5973     -2.1429      1.4501\\n  H     -0.6384      0.1068     -3.2462\\n  H      0.4618     -1.0954     -2.5867\\n  H      0.9040      0.6074     -2.5843\\n  H      2.0803      0.5818     -0.8387\\n  H      2.3921     -0.0301      2.1234\\n  H      3.6439      0.5270      1.0200\\n  H      2.9289     -1.0639      0.8019\\n  H      2.3026      2.6156      0.5168\\n  H      0.9735      2.1165      1.5523\\n  H      0.6775      2.5127     -0.1371\\n\",\"xyz\");\n",
       "\tviewer_1720502047776607.setStyle({\"stick\": {}});\n",
       "\tviewer_1720502047776607.zoomTo();\n",
       "\tviewer_1720502047776607.render();\n",
       "\tviewer_1720502047776607.removeAllModels();\n",
       "\tviewer_1720502047776607.addModel(\"29\\nMenthone\\n  O      0.0869      0.0991      2.4864\\n  C     -2.6471     -0.6569      0.2805\\n  C     -1.8851     -0.7825     -1.0501\\n  C     -0.5967      0.0773     -1.0782\\n  C      0.3645     -0.3041      0.0932\\n  C     -0.3882     -0.3491      1.4577\\n  C     -1.7591     -1.0682      1.4692\\n  C      0.0781     -0.0825     -2.4625\\n  C      1.6535      0.5788      0.1585\\n  C      2.7155     -0.0447      1.0970\\n  C      1.3815      2.0511      0.5486\\n  H     -2.9788      0.3714      0.4132\\n  H     -3.5359     -1.2849      0.2568\\n  H     -1.6279     -1.8250     -1.2291\\n  H     -2.5354     -0.4644     -1.8623\\n  H     -0.8916      1.1204     -0.9674\\n  H      0.6972     -1.3276     -0.0936\\n  H     -2.2554     -0.8381      2.4095\\n  H     -1.5834     -2.1434      1.4433\\n  H     -0.6450      0.1088     -3.2500\\n  H      0.4571     -1.0923     -2.5904\\n  H      0.9003      0.6120     -2.5933\\n  H      2.0846      0.5812     -0.8408\\n  H      2.3771     -0.0340      2.1274\\n  H      3.6422      0.5179      1.0330\\n  H      2.9232     -1.0714      0.8100\\n  H      2.3085      2.6159      0.5202\\n  H      0.9750      2.1161      1.5522\\n  H      0.6846      2.5189     -0.1392\\n\",\"xyz\");\n",
       "\tviewer_1720502047776607.setStyle({\"stick\": {}});\n",
       "\tviewer_1720502047776607.zoomTo();\n",
       "\tviewer_1720502047776607.render();\n",
       "\tviewer_1720502047776607.removeAllModels();\n",
       "\tviewer_1720502047776607.addModel(\"29\\nMenthone\\n  O      0.0681      0.1259      2.4844\\n  C     -2.6496     -0.6608      0.2816\\n  C     -1.8837     -0.7831     -1.0482\\n  C     -0.5972      0.0815     -1.0740\\n  C      0.3635     -0.3078      0.0954\\n  C     -0.3945     -0.3391      1.4580\\n  C     -1.7583     -1.0721      1.4693\\n  C      0.0791     -0.0730     -2.4588\\n  C      1.6547      0.5746      0.1551\\n  C      2.7140     -0.0486      1.0967\\n  C      1.3840      2.0481      0.5409\\n  H     -2.9831      0.3669      0.4158\\n  H     -3.5349     -1.2942      0.2554\\n  H     -1.6212     -1.8250     -1.2235\\n  H     -2.5327     -0.4661     -1.8622\\n  H     -0.8916      1.1244     -0.9573\\n  H      0.6918     -1.3331     -0.0880\\n  H     -2.2539     -0.8485      2.4117\\n  H     -1.5717     -2.1452      1.4353\\n  H     -0.6440      0.1182     -3.2467\\n  H      0.4591     -1.0826     -2.5887\\n  H      0.9016      0.6224     -2.5885\\n  H      2.0839      0.5723     -0.8457\\n  H      2.3736     -0.0335      2.1267\\n  H      3.6429      0.5112      1.0332\\n  H      2.9209     -1.0773      0.8147\\n  H      2.3126      2.6111      0.5102\\n  H      0.9789      2.1171      1.5451\\n  H      0.6877      2.5164     -0.1478\\n\",\"xyz\");\n",
       "\tviewer_1720502047776607.setStyle({\"stick\": {}});\n",
       "\tviewer_1720502047776607.zoomTo();\n",
       "\tviewer_1720502047776607.render();\n",
       "\tviewer_1720502047776607.removeAllModels();\n",
       "\tviewer_1720502047776607.addModel(\"29\\nMenthone\\n  O      0.0296      0.2008      2.4732\\n  C     -2.6504     -0.6735      0.2831\\n  C     -1.8815     -0.7894     -1.0476\\n  C     -0.6023      0.0886     -1.0699\\n  C      0.3611     -0.3082      0.0963\\n  C     -0.4058     -0.3101      1.4549\\n  C     -1.7499     -1.0779      1.4682\\n  C      0.0702     -0.0517     -2.4579\\n  C      1.6596      0.5658      0.1527\\n  C      2.7065     -0.0596      1.1052\\n  C      1.3998      2.0431      0.5287\\n  H     -2.9922      0.3509      0.4194\\n  H     -3.5264     -1.3190      0.2555\\n  H     -1.6055     -1.8288     -1.2147\\n  H     -2.5306     -0.4822     -1.8651\\n  H     -0.9013      1.1283     -0.9402\\n  H      0.6782     -1.3378     -0.0792\\n  H     -2.2446     -0.8736      2.4152\\n  H     -1.5375     -2.1453      1.4177\\n  H     -0.6578      0.1362     -3.2421\\n  H      0.4584     -1.0573     -2.5948\\n  H      0.8866      0.6510     -2.5872\\n  H      2.0910      0.5525     -0.8470\\n  H      2.3585     -0.0351      2.1325\\n  H      3.6413      0.4909      1.0474\\n  H      2.9069     -1.0922      0.8325\\n  H      2.3342      2.5962      0.4981\\n  H      0.9922      2.1228      1.5308\\n  H      0.7117      2.5147     -0.1660\\n\",\"xyz\");\n",
       "\tviewer_1720502047776607.setStyle({\"stick\": {}});\n",
       "\tviewer_1720502047776607.zoomTo();\n",
       "\tviewer_1720502047776607.render();\n",
       "\tviewer_1720502047776607.removeAllModels();\n",
       "\tviewer_1720502047776607.addModel(\"29\\nMenthone\\n  O     -0.0297      0.2885      2.4594\\n  C     -2.6531     -0.6936      0.2864\\n  C     -1.8787     -0.7961     -1.0436\\n  C     -0.6094      0.0975     -1.0611\\n  C      0.3543     -0.3042      0.1043\\n  C     -0.4258     -0.2800      1.4554\\n  C     -1.7430     -1.0914      1.4677\\n  C      0.0661     -0.0168     -2.4487\\n  C      1.6636      0.5528      0.1494\\n  C      2.6969     -0.0744      1.1141\\n  C      1.4260      2.0391      0.5004\\n  H     -3.0097      0.3249      0.4270\\n  H     -3.5190     -1.3520      0.2562\\n  H     -1.5865     -1.8320     -1.2037\\n  H     -2.5276     -0.5038     -1.8661\\n  H     -0.9186      1.1319     -0.9155\\n  H      0.6550     -1.3401     -0.0604\\n  H     -2.2411     -0.9195      2.4189\\n  H     -1.4980     -2.1501      1.3953\\n  H     -0.6640      0.1682     -3.2312\\n  H      0.4719     -1.0137     -2.5965\\n  H      0.8707      0.7009     -2.5681\\n  H      2.0976      0.5184     -0.8488\\n  H      2.3453     -0.0318      2.1396\\n  H      3.6393      0.4623      1.0553\\n  H      2.8835     -1.1133      0.8571\\n  H      2.3693      2.5761      0.4636\\n  H      1.0163      2.1426      1.4988\\n  H      0.7485      2.5097     -0.2052\\n\",\"xyz\");\n",
       "\tviewer_1720502047776607.setStyle({\"stick\": {}});\n",
       "\tviewer_1720502047776607.zoomTo();\n",
       "\tviewer_1720502047776607.render();\n",
       "\tviewer_1720502047776607.removeAllModels();\n",
       "\tviewer_1720502047776607.addModel(\"29\\nMenthone\\n  O     -0.0844      0.3764      2.4388\\n  C     -2.6488     -0.7153      0.2904\\n  C     -1.8757     -0.8051     -1.0413\\n  C     -0.6185      0.1045     -1.0560\\n  C      0.3468     -0.2947      0.1099\\n  C     -0.4406     -0.2501      1.4549\\n  C     -1.7297     -1.1033      1.4677\\n  C      0.0552      0.0209     -2.4450\\n  C      1.6686      0.5377      0.1502\\n  C      2.6842     -0.0905      1.1327\\n  C      1.4555      2.0343      0.4707\\n  H     -3.0209      0.2969      0.4347\\n  H     -3.5068     -1.3836      0.2610\\n  H     -1.5686     -1.8369     -1.1998\\n  H     -2.5281     -0.5290     -1.8663\\n  H     -0.9430      1.1321     -0.8949\\n  H      0.6291     -1.3371     -0.0448\\n  H     -2.2319     -0.9655      2.4220\\n  H     -1.4537     -2.1526      1.3766\\n  H     -0.6801      0.2013     -3.2232\\n  H      0.4836     -0.9639     -2.6065\\n  H      0.8424      0.7585     -2.5545\\n  H      2.1110      0.4781     -0.8426\\n  H      2.3258     -0.0270      2.1547\\n  H      3.6347      0.4309      1.0740\\n  H      2.8556     -1.1356      0.8930\\n  H      2.4083      2.5533      0.4319\\n  H      1.0373      2.1642      1.4621\\n  H      0.7926      2.5011     -0.2506\\n\",\"xyz\");\n",
       "\tviewer_1720502047776607.setStyle({\"stick\": {}});\n",
       "\tviewer_1720502047776607.zoomTo();\n",
       "\tviewer_1720502047776607.render();\n",
       "\tviewer_1720502047776607.removeAllModels();\n",
       "\tviewer_1720502047776607.addModel(\"29\\nMenthone\\n  O     -0.1056      0.4070      2.4293\\n  C     -2.6449     -0.7281      0.2931\\n  C     -1.8748     -0.8095     -1.0397\\n  C     -0.6240      0.1071     -1.0523\\n  C      0.3423     -0.2883      0.1132\\n  C     -0.4455     -0.2440      1.4565\\n  C     -1.7237     -1.1129      1.4689\\n  C      0.0517      0.0430     -2.4407\\n  C      1.6704      0.5292      0.1506\\n  C      2.6758     -0.0964      1.1459\\n  C      1.4729      2.0333      0.4485\\n  H     -3.0228      0.2817      0.4396\\n  H     -3.5025     -1.3969      0.2650\\n  H     -1.5628     -1.8390     -1.2049\\n  H     -2.5310     -0.5372     -1.8629\\n  H     -0.9597      1.1302     -0.8849\\n  H      0.6154     -1.3337     -0.0388\\n  H     -2.2312     -0.9908      2.4225\\n  H     -1.4359     -2.1584      1.3721\\n  H     -0.6852      0.2212     -3.2176\\n  H      0.4946     -0.9337     -2.6105\\n  H      0.8277      0.7934     -2.5413\\n  H      2.1184      0.4519     -0.8385\\n  H      2.3138     -0.0179      2.1654\\n  H      3.6304      0.4165      1.0841\\n  H      2.8381     -1.1454      0.9179\\n  H      2.4307      2.5424      0.4082\\n  H      1.0485      2.1805      1.4348\\n  H      0.8185      2.4945     -0.2835\\n\",\"xyz\");\n",
       "\tviewer_1720502047776607.setStyle({\"stick\": {}});\n",
       "\tviewer_1720502047776607.zoomTo();\n",
       "\tviewer_1720502047776607.render();\n",
       "\tviewer_1720502047776607.removeAllModels();\n",
       "\tviewer_1720502047776607.addModel(\"29\\nMenthone\\n  O     -0.1063      0.4136      2.4253\\n  C     -2.6403     -0.7345      0.2951\\n  C     -1.8744     -0.8112     -1.0398\\n  C     -0.6268      0.1088     -1.0510\\n  C      0.3409     -0.2863      0.1125\\n  C     -0.4428     -0.2451      1.4572\\n  C     -1.7182     -1.1184      1.4701\\n  C      0.0481      0.0546     -2.4405\\n  C      1.6723      0.5238      0.1509\\n  C      2.6696     -0.0978      1.1578\\n  C      1.4793      2.0318      0.4349\\n  H     -3.0177      0.2754      0.4432\\n  H     -3.4997     -1.4013      0.2686\\n  H     -1.5618     -1.8391     -1.2139\\n  H     -2.5347     -0.5346     -1.8584\\n  H     -0.9680      1.1298     -0.8809\\n  H      0.6102     -1.3326     -0.0411\\n  H     -2.2284     -0.9995      2.4227\\n  H     -1.4272     -2.1631      1.3733\\n  H     -0.6906      0.2318     -3.2160\\n  H      0.4970     -0.9185     -2.6152\\n  H      0.8187      0.8109     -2.5379\\n  H      2.1258      0.4353     -0.8347\\n  H      2.3016     -0.0095      2.1743\\n  H      3.6265      0.4110      1.0964\\n  H      2.8294     -1.1490      0.9383\\n  H      2.4390      2.5374      0.3967\\n  H      1.0483      2.1879      1.4172\\n  H      0.8305      2.4887     -0.3048\\n\",\"xyz\");\n",
       "\tviewer_1720502047776607.setStyle({\"stick\": {}});\n",
       "\tviewer_1720502047776607.zoomTo();\n",
       "\tviewer_1720502047776607.render();\n",
       "\tviewer_1720502047776607.removeAllModels();\n",
       "\tviewer_1720502047776607.addModel(\"29\\nMenthone\\n  O     -0.1045      0.4135      2.4231\\n  C     -2.6359     -0.7429      0.2979\\n  C     -1.8748     -0.8113     -1.0400\\n  C     -0.6299      0.1126     -1.0479\\n  C      0.3397     -0.2867      0.1112\\n  C     -0.4395     -0.2498      1.4580\\n  C     -1.7121     -1.1277      1.4713\\n  C      0.0447      0.0690     -2.4385\\n  C      1.6750      0.5170      0.1497\\n  C      2.6608     -0.0968      1.1732\\n  C      1.4864      2.0295      0.4148\\n  H     -3.0110      0.2675      0.4498\\n  H     -3.4973     -1.4075      0.2723\\n  H     -1.5623     -1.8369     -1.2276\\n  H     -2.5402     -0.5246     -1.8512\\n  H     -0.9761      1.1313     -0.8739\\n  H      0.6055     -1.3335     -0.0468\\n  H     -2.2240     -1.0098      2.4232\\n  H     -1.4179     -2.1717      1.3748\\n  H     -0.6955      0.2459     -3.2128\\n  H      0.4983     -0.9011     -2.6185\\n  H      0.8113      0.8299     -2.5322\\n  H      2.1351      0.4130     -0.8315\\n  H      2.2841      0.0056      2.1852\\n  H      3.6204      0.4071      1.1132\\n  H      2.8184     -1.1511      0.9670\\n  H      2.4483      2.5312      0.3795\\n  H      1.0475      2.1973      1.3919\\n  H      0.8453      2.4808     -0.3350\\n\",\"xyz\");\n",
       "\tviewer_1720502047776607.setStyle({\"stick\": {}});\n",
       "\tviewer_1720502047776607.zoomTo();\n",
       "\tviewer_1720502047776607.render();\n",
       "\tviewer_1720502047776607.removeAllModels();\n",
       "\tviewer_1720502047776607.addModel(\"29\\nMenthone\\n  O     -0.1030      0.4100      2.4233\\n  C     -2.6335     -0.7492      0.3003\\n  C     -1.8758     -0.8085     -1.0404\\n  C     -0.6317      0.1173     -1.0446\\n  C      0.3396     -0.2894      0.1101\\n  C     -0.4372     -0.2542      1.4583\\n  C     -1.7073     -1.1360      1.4718\\n  C      0.0423      0.0799     -2.4360\\n  C      1.6779      0.5106      0.1484\\n  C      2.6547     -0.0940      1.1858\\n  C      1.4898      2.0257      0.3969\\n  H     -3.0069      0.2612      0.4571\\n  H     -3.4952     -1.4133      0.2740\\n  H     -1.5640     -1.8321     -1.2393\\n  H     -2.5448     -0.5114     -1.8451\\n  H     -0.9790      1.1349     -0.8662\\n  H      0.6022     -1.3361     -0.0533\\n  H     -2.2187     -1.0181      2.4240\\n  H     -1.4105     -2.1790      1.3742\\n  H     -0.6986      0.2582     -3.2095\\n  H      0.4966     -0.8892     -2.6197\\n  H      0.8082      0.8419     -2.5275\\n  H      2.1438      0.3932     -0.8287\\n  H      2.2707      0.0206      2.1937\\n  H      3.6161      0.4069      1.1274\\n  H      2.8120     -1.1509      0.9927\\n  H      2.4529      2.5256      0.3645\\n  H      1.0442      2.2035      1.3694\\n  H      0.8551      2.4717     -0.3616\\n\",\"xyz\");\n",
       "\tviewer_1720502047776607.setStyle({\"stick\": {}});\n",
       "\tviewer_1720502047776607.zoomTo();\n",
       "\tviewer_1720502047776607.render();\n",
       "\tviewer_1720502047776607.removeAllModels();\n",
       "\tviewer_1720502047776607.addModel(\"29\\nMenthone\\n  O     -0.1025      0.4050      2.4249\\n  C     -2.6334     -0.7525      0.3021\\n  C     -1.8773     -0.8044     -1.0406\\n  C     -0.6323      0.1212     -1.0423\\n  C      0.3401     -0.2922      0.1096\\n  C     -0.4365     -0.2574      1.4583\\n  C     -1.7050     -1.1413      1.4715\\n  C      0.0412      0.0850     -2.4339\\n  C      1.6796      0.5071      0.1475\\n  C      2.6515     -0.0908      1.1929\\n  C      1.4916      2.0233      0.3858\\n  H     -3.0077      0.2568      0.4633\\n  H     -3.4935     -1.4185      0.2737\\n  H     -1.5663     -1.8269     -1.2457\\n  H     -2.5478     -0.5008     -1.8415\\n  H     -0.9778      1.1386     -0.8604\\n  H      0.6006     -1.3385     -0.0586\\n  H     -2.2149     -1.0242      2.4247\\n  H     -1.4067     -2.1837      1.3719\\n  H     -0.6993      0.2655     -3.2072\\n  H      0.4938     -0.8847     -2.6189\\n  H      0.8090      0.8454     -2.5245\\n  H      2.1490      0.3814     -0.8271\\n  H      2.2639      0.0311      2.1985\\n  H      3.6135      0.4089      1.1350\\n  H      2.8088     -1.1493      1.0084\\n  H      2.4552      2.5223      0.3554\\n  H      1.0420      2.2074      1.3554\\n  H      0.8612      2.4663     -0.3781\\n\",\"xyz\");\n",
       "\tviewer_1720502047776607.setStyle({\"stick\": {}});\n",
       "\tviewer_1720502047776607.zoomTo();\n",
       "\tviewer_1720502047776607.render();\n",
       "\tviewer_1720502047776607.removeAllModels();\n",
       "\tviewer_1720502047776607.addModel(\"29\\nMenthone\\n  O     -0.1024      0.4019      2.4257\\n  C     -2.6342     -0.7538      0.3032\\n  C     -1.8787     -0.8003     -1.0404\\n  C     -0.6322      0.1236     -1.0410\\n  C      0.3409     -0.2941      0.1094\\n  C     -0.4363     -0.2592      1.4579\\n  C     -1.7041     -1.1439      1.4710\\n  C      0.0407      0.0867     -2.4327\\n  C      1.6806      0.5052      0.1473\\n  C      2.6506     -0.0886      1.1965\\n  C      1.4919      2.0219      0.3800\\n  H     -3.0115      0.2538      0.4678\\n  H     -3.4918     -1.4227      0.2728\\n  H     -1.5685     -1.8224     -1.2484\\n  H     -2.5494     -0.4940     -1.8400\\n  H     -0.9749      1.1415     -0.8567\\n  H      0.6002     -1.3401     -0.0621\\n  H     -2.2123     -1.0285      2.4252\\n  H     -1.4052     -2.1858      1.3690\\n  H     -0.6994      0.2694     -3.2059\\n  H      0.4908     -0.8841     -2.6180\\n  H      0.8106      0.8448     -2.5230\\n  H      2.1522      0.3753     -0.8256\\n  H      2.2616      0.0372      2.2010\\n  H      3.6127      0.4109      1.1385\\n  H      2.8080     -1.1479      1.0167\\n  H      2.4559      2.5204      0.3513\\n  H      1.0396      2.2094      1.3477\\n  H      0.8644      2.4631     -0.3872\\n\",\"xyz\");\n",
       "\tviewer_1720502047776607.setStyle({\"stick\": {}});\n",
       "\tviewer_1720502047776607.zoomTo();\n",
       "\tviewer_1720502047776607.render();\n",
       "\tviewer_1720502047776607.removeAllModels();\n",
       "\tviewer_1720502047776607.addModel(\"29\\nMenthone\\n  O     -0.1026      0.4007      2.4253\\n  C     -2.6349     -0.7547      0.3042\\n  C     -1.8800     -0.7966     -1.0398\\n  C     -0.6320      0.1253     -1.0402\\n  C      0.3416     -0.2952      0.1093\\n  C     -0.4360     -0.2604      1.4574\\n  C     -1.7032     -1.1455      1.4705\\n  C      0.0398      0.0876     -2.4321\\n  C      1.6810      0.5042      0.1476\\n  C      2.6497     -0.0872      1.1995\\n  C      1.4930      2.0215      0.3760\\n  H     -3.0169      0.2506      0.4717\\n  H     -3.4894     -1.4276      0.2719\\n  H     -1.5706     -1.8186     -1.2497\\n  H     -2.5506     -0.4894     -1.8391\\n  H     -0.9720      1.1437     -0.8540\\n  H      0.6002     -1.3409     -0.0648\\n  H     -2.2100     -1.0324      2.4257\\n  H     -1.4040     -2.1871      1.3661\\n  H     -0.6999      0.2725     -3.2051\\n  H      0.4878     -0.8841     -2.6179\\n  H      0.8117      0.8438     -2.5224\\n  H      2.1547      0.3713     -0.8240\\n  H      2.2600      0.0416      2.2033\\n  H      3.6121      0.4118      1.1409\\n  H      2.8065     -1.1471      1.0229\\n  H      2.4575      2.5189      0.3493\\n  H      1.0379      2.2118      1.3418\\n  H      0.8686      2.4616     -0.3943\\n\",\"xyz\");\n",
       "\tviewer_1720502047776607.setStyle({\"stick\": {}});\n",
       "\tviewer_1720502047776607.zoomTo();\n",
       "\tviewer_1720502047776607.render();\n",
       "\tviewer_1720502047776607.removeAllModels();\n",
       "\tviewer_1720502047776607.addModel(\"29\\nMenthone\\n  O     -0.1028      0.4014      2.4239\\n  C     -2.6354     -0.7555      0.3050\\n  C     -1.8809     -0.7941     -1.0392\\n  C     -0.6319      0.1261     -1.0396\\n  C      0.3422     -0.2958      0.1091\\n  C     -0.4355     -0.2613      1.4569\\n  C     -1.7026     -1.1464      1.4702\\n  C      0.0391      0.0883     -2.4320\\n  C      1.6814      0.5034      0.1481\\n  C      2.6493     -0.0865      1.2017\\n  C      1.4939      2.0213      0.3734\\n  H     -3.0220      0.2478      0.4744\\n  H     -3.4871     -1.4318      0.2714\\n  H     -1.5724     -1.8161     -1.2507\\n  H     -2.5514     -0.4864     -1.8384\\n  H     -0.9699      1.1449     -0.8523\\n  H      0.6007     -1.3412     -0.0664\\n  H     -2.2086     -1.0349      2.4261\\n  H     -1.4035     -2.1878      1.3643\\n  H     -0.7007      0.2750     -3.2044\\n  H      0.4855     -0.8838     -2.6186\\n  H      0.8120      0.8434     -2.5219\\n  H      2.1566      0.3688     -0.8225\\n  H      2.2593      0.0446      2.2051\\n  H      3.6120      0.4117      1.1424\\n  H      2.8053     -1.1468      1.0272\\n  H      2.4590      2.5177      0.3490\\n  H      1.0359      2.2136      1.3375\\n  H      0.8724      2.4606     -0.3995\\n\",\"xyz\");\n",
       "\tviewer_1720502047776607.setStyle({\"stick\": {}});\n",
       "\tviewer_1720502047776607.zoomTo();\n",
       "\tviewer_1720502047776607.render();\n",
       "\tviewer_1720502047776607.removeAllModels();\n",
       "\tviewer_1720502047776607.addModel(\"29\\nMenthone\\n  O     -0.1036      0.4035      2.4223\\n  C     -2.6354     -0.7564      0.3054\\n  C     -1.8812     -0.7931     -1.0389\\n  C     -0.6318      0.1261     -1.0394\\n  C      0.3425     -0.2959      0.1088\\n  C     -0.4350     -0.2617      1.4566\\n  C     -1.7020     -1.1467      1.4703\\n  C      0.0384      0.0890     -2.4322\\n  C      1.6817      0.5030      0.1484\\n  C      2.6488     -0.0865      1.2032\\n  C      1.4950      2.0214      0.3722\\n  H     -3.0252      0.2455      0.4756\\n  H     -3.4852     -1.4351      0.2713\\n  H     -1.5734     -1.8151     -1.2517\\n  H     -2.5519     -0.4848     -1.8378\\n  H     -0.9690      1.1452     -0.8516\\n  H      0.6013     -1.3412     -0.0668\\n  H     -2.2078     -1.0358      2.4263\\n  H     -1.4032     -2.1883      1.3641\\n  H     -0.7018      0.2769     -3.2040\\n  H      0.4842     -0.8832     -2.6199\\n  H      0.8116      0.8439     -2.5219\\n  H      2.1577      0.3676     -0.8218\\n  H      2.2586      0.0462      2.2063\\n  H      3.6119      0.4106      1.1432\\n  H      2.8038     -1.1472      1.0299\\n  H      2.4606      2.5169      0.3498\\n  H      1.0345      2.2147      1.3348\\n  H      0.8758      2.4605     -0.4027\\n\",\"xyz\");\n",
       "\tviewer_1720502047776607.setStyle({\"stick\": {}});\n",
       "\tviewer_1720502047776607.zoomTo();\n",
       "\tviewer_1720502047776607.render();\n",
       "\tviewer_1720502047776607.removeAllModels();\n",
       "\tviewer_1720502047776607.addModel(\"29\\nMenthone\\n  O     -0.1046      0.4061      2.4207\\n  C     -2.6353     -0.7573      0.3056\\n  C     -1.8813     -0.7930     -1.0388\\n  C     -0.6317      0.1259     -1.0391\\n  C      0.3426     -0.2959      0.1087\\n  C     -0.4346     -0.2617      1.4564\\n  C     -1.7016     -1.1468      1.4707\\n  C      0.0380      0.0897     -2.4323\\n  C      1.6821      0.5027      0.1485\\n  C      2.6487     -0.0868      1.2037\\n  C      1.4955      2.0213      0.3718\\n  H     -3.0270      0.2438      0.4759\\n  H     -3.4839     -1.4376      0.2714\\n  H     -1.5741     -1.8149     -1.2530\\n  H     -2.5521     -0.4835     -1.8371\\n  H     -0.9688      1.1450     -0.8514\\n  H      0.6019     -1.3412     -0.0665\\n  H     -2.2075     -1.0353      2.4266\\n  H     -1.4032     -2.1885      1.3651\\n  H     -0.7024      0.2782     -3.2036\\n  H      0.4835     -0.8825     -2.6210\\n  H      0.8113      0.8445     -2.5217\\n  H      2.1581      0.3672     -0.8216\\n  H      2.2587      0.0472      2.2067\\n  H      3.6123      0.4094      1.1431\\n  H      2.8029     -1.1478      1.0312\\n  H      2.4614      2.5165      0.3514\\n  H      1.0329      2.2149      1.3334\\n  H      0.8781      2.4605     -0.4046\\n\",\"xyz\");\n",
       "\tviewer_1720502047776607.setStyle({\"stick\": {}});\n",
       "\tviewer_1720502047776607.zoomTo();\n",
       "\tviewer_1720502047776607.render();\n",
       "\tviewer_1720502047776607.removeAllModels();\n",
       "\tviewer_1720502047776607.addModel(\"29\\nMenthone\\n  O     -0.1062      0.4091      2.4195\\n  C     -2.6351     -0.7585      0.3056\\n  C     -1.8812     -0.7932     -1.0389\\n  C     -0.6316      0.1258     -1.0389\\n  C      0.3427     -0.2958      0.1087\\n  C     -0.4345     -0.2612      1.4564\\n  C     -1.7012     -1.1468      1.4711\\n  C      0.0379      0.0902     -2.4323\\n  C      1.6823      0.5026      0.1483\\n  C      2.6486     -0.0873      1.2037\\n  C      1.4961      2.0212      0.3717\\n  H     -3.0283      0.2420      0.4759\\n  H     -3.4826     -1.4402      0.2714\\n  H     -1.5744     -1.8149     -1.2547\\n  H     -2.5523     -0.4821     -1.8364\\n  H     -0.9690      1.1449     -0.8513\\n  H      0.6021     -1.3412     -0.0660\\n  H     -2.2072     -1.0341      2.4268\\n  H     -1.4027     -2.1887      1.3668\\n  H     -0.7029      0.2794     -3.2033\\n  H      0.4829     -0.8820     -2.6219\\n  H      0.8112      0.8450     -2.5215\\n  H      2.1581      0.3672     -0.8219\\n  H      2.2590      0.0480      2.2067\\n  H      3.6128      0.4077      1.1424\\n  H      2.8016     -1.1485      1.0320\\n  H      2.4622      2.5160      0.3537\\n  H      1.0313      2.2147      1.3323\\n  H      0.8806      2.4609     -0.4059\\n\",\"xyz\");\n",
       "\tviewer_1720502047776607.setStyle({\"stick\": {}});\n",
       "\tviewer_1720502047776607.zoomTo();\n",
       "\tviewer_1720502047776607.render();\n",
       "\tviewer_1720502047776607.removeAllModels();\n",
       "\tviewer_1720502047776607.addModel(\"29\\nMenthone\\n  O     -0.1078      0.4118      2.4188\\n  C     -2.6349     -0.7599      0.3056\\n  C     -1.8811     -0.7933     -1.0392\\n  C     -0.6316      0.1259     -1.0388\\n  C      0.3426     -0.2957      0.1087\\n  C     -0.4348     -0.2603      1.4563\\n  C     -1.7009     -1.1468      1.4716\\n  C      0.0379      0.0905     -2.4322\\n  C      1.6826      0.5025      0.1481\\n  C      2.6487     -0.0877      1.2032\\n  C      1.4962      2.0210      0.3720\\n  H     -3.0293      0.2401      0.4758\\n  H     -3.4815     -1.4427      0.2713\\n  H     -1.5747     -1.8147     -1.2566\\n  H     -2.5526     -0.4805     -1.8356\\n  H     -0.9693      1.1449     -0.8514\\n  H      0.6018     -1.3412     -0.0653\\n  H     -2.2072     -1.0326      2.4269\\n  H     -1.4020     -2.1886      1.3688\\n  H     -0.7028      0.2803     -3.2031\\n  H      0.4825     -0.8819     -2.6222\\n  H      0.8117      0.8449     -2.5212\\n  H      2.1578      0.3673     -0.8225\\n  H      2.2599      0.0488      2.2063\\n  H      3.6136      0.4060      1.1411\\n  H      2.8004     -1.1493      1.0323\\n  H      2.4625      2.5156      0.3564\\n  H      1.0294      2.2141      1.3316\\n  H      0.8827      2.4613     -0.4068\\n\",\"xyz\");\n",
       "\tviewer_1720502047776607.setStyle({\"stick\": {}});\n",
       "\tviewer_1720502047776607.zoomTo();\n",
       "\tviewer_1720502047776607.render();\n",
       "\tviewer_1720502047776607.removeAllModels();\n",
       "\tviewer_1720502047776607.addModel(\"29\\nMenthone\\n  O     -0.1090      0.4138      2.4186\\n  C     -2.6347     -0.7614      0.3056\\n  C     -1.8811     -0.7932     -1.0394\\n  C     -0.6317      0.1263     -1.0388\\n  C      0.3424     -0.2953      0.1089\\n  C     -0.4353     -0.2590      1.4564\\n  C     -1.7005     -1.1466      1.4719\\n  C      0.0380      0.0906     -2.4321\\n  C      1.6827      0.5026      0.1478\\n  C      2.6487     -0.0881      1.2026\\n  C      1.4965      2.0210      0.3722\\n  H     -3.0303      0.2381      0.4758\\n  H     -3.4804     -1.4453      0.2711\\n  H     -1.5746     -1.8143     -1.2583\\n  H     -2.5530     -0.4791     -1.8350\\n  H     -0.9697      1.1452     -0.8515\\n  H      0.6009     -1.3411     -0.0647\\n  H     -2.2070     -1.0317      2.4271\\n  H     -1.4008     -2.1884      1.3704\\n  H     -0.7024      0.2809     -3.2031\\n  H      0.4821     -0.8820     -2.6220\\n  H      0.8123      0.8446     -2.5210\\n  H      2.1574      0.3675     -0.8230\\n  H      2.2607      0.0496      2.2059\\n  H      3.6142      0.4043      1.1397\\n  H      2.7989     -1.1501      1.0325\\n  H      2.4631      2.5151      0.3590\\n  H      1.0278      2.2137      1.3310\\n  H      0.8849      2.4620     -0.4077\\n\",\"xyz\");\n",
       "\tviewer_1720502047776607.setStyle({\"stick\": {}});\n",
       "\tviewer_1720502047776607.zoomTo();\n",
       "\tviewer_1720502047776607.render();\n",
       "\tviewer_1720502047776607.removeAllModels();\n",
       "\tviewer_1720502047776607.addModel(\"29\\nMenthone\\n  O     -0.1093      0.4146      2.4188\\n  C     -2.6346     -0.7623      0.3056\\n  C     -1.8811     -0.7930     -1.0396\\n  C     -0.6318      0.1268     -1.0389\\n  C      0.3422     -0.2948      0.1091\\n  C     -0.4357     -0.2579      1.4564\\n  C     -1.7003     -1.1465      1.4721\\n  C      0.0381      0.0906     -2.4319\\n  C      1.6826      0.5027      0.1477\\n  C      2.6488     -0.0883      1.2022\\n  C      1.4967      2.0210      0.3724\\n  H     -3.0313      0.2368      0.4759\\n  H     -3.4796     -1.4470      0.2709\\n  H     -1.5746     -1.8138     -1.2594\\n  H     -2.5535     -0.4784     -1.8347\\n  H     -0.9700      1.1457     -0.8517\\n  H      0.6000     -1.3408     -0.0643\\n  H     -2.2071     -1.0315      2.4271\\n  H     -1.3996     -2.1880      1.3712\\n  H     -0.7020      0.2811     -3.2032\\n  H      0.4817     -0.8823     -2.6215\\n  H      0.8129      0.8440     -2.5208\\n  H      2.1571      0.3676     -0.8232\\n  H      2.2616      0.0503      2.2057\\n  H      3.6147      0.4032      1.1384\\n  H      2.7977     -1.1505      1.0327\\n  H      2.4634      2.5148      0.3609\\n  H      1.0265      2.2136      1.3305\\n  H      0.8865      2.4626     -0.4084\\n\",\"xyz\");\n",
       "\tviewer_1720502047776607.setStyle({\"stick\": {}});\n",
       "\tviewer_1720502047776607.zoomTo();\n",
       "\tviewer_1720502047776607.render();\n",
       "viewer_1720502047776607.render();\n",
       "});\n",
       "</script>"
      ]
     },
     "metadata": {},
     "output_type": "display_data"
    },
    {
     "data": {
      "text/plain": [
       "None"
      ]
     },
     "metadata": {},
     "output_type": "display_data"
    }
   ],
   "source": [
    "optimisation_viewer = py3Dmol.view(width=800, height=600)\n",
    "optimisation_viewer.show()\n",
    "for frame in xyz_frames:\n",
    "    optimisation_viewer.removeAllModels()\n",
    "    optimisation_viewer.addModel(frame, 'xyz')  \n",
    "    optimisation_viewer.setStyle({'stick': {}}) \n",
    "    optimisation_viewer.zoomTo()\n",
    "    optimisation_viewer.render()\n",
    "    IPython.display.clear_output(wait=True)\n",
    "    IPython.display.display(optimisation_viewer.show())\n",
    "    time.sleep(0.5)\n"
   ]
  },
  {
   "cell_type": "markdown",
   "id": "8f8b7d03",
   "metadata": {},
   "source": [
    "## 3.2). Plot the energy of the optimisation frames"
   ]
  },
  {
   "cell_type": "code",
   "execution_count": 74,
   "id": "67d82c39",
   "metadata": {},
   "outputs": [
    {
     "data": {
      "image/png": "[encoded data removed]",
      "text/plain": [
       "<Figure size 640x480 with 1 Axes>"
      ]
     },
     "metadata": {},
     "output_type": "display_data"
    }
   ],
   "source": [
    "energies = [frame[\"total_energy\"] for frame in optimisation_frames.value]\n",
    "plt.plot(energies)\n",
    "plt.title(\"Energy vs Optimisation Step\")\n",
    "plt.xlabel(\"Step\")\n",
    "plt.ylabel(\"Energy (Hartree)\")\n",
    "plt.show()"
   ]
  }
 ],
 "metadata": {
  "kernelspec": {
   "display_name": "python3",
   "language": "python",
   "name": "python3"
  },
  "language_info": {
   "codemirror_mode": {
    "name": "ipython",
    "version": 3
   },
   "file_extension": ".py",
   "mimetype": "text/x-python",
   "name": "python",
   "nbconvert_exporter": "python",
   "pygments_lexer": "ipython3",
   "version": "3.10.12"
  }
 },
 "nbformat": 4,
 "nbformat_minor": 5
}
