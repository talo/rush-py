{
 "cells": [
  {
   "cell_type": "markdown",
   "id": "a7ade04f-1e33-48a7-8ba1-364305e5382c",
   "metadata": {},
   "source": [
    "# GROMACS & CHARMM - Do a GROMACS run with a specific force field choice"
   ]
  },
  {
   "cell_type": "markdown",
   "id": "6f6163a1",
   "metadata": {},
   "source": [
    "We support running GROMACS with the AMBER and CHARMM force fields, specifically amber14SB-OL15 and CHARMM36-ljpme. These are the latest of each that have official ports for GROMACS and provide for protein systems.\n",
    "\n",
    "AMBER is used by default, and both our `prepare_protein` and `gmx` modules will function in an AMBER-based MD workflow without any additional flags.\n",
    "\n",
    "In fact, we have custom support for mapping the version 3.0 PDB residue and atom names (as per the IUPAC standards) to their AMBER-specific residue names and atom names. Thanks to this, any PDB file with these standard names, such as those from RCSB, will work seamlessly with our GROMACS module when using the AMBER force field.\n",
    "\n",
    "When using the CHARMM force field, a compatible PDB file can be generated using `prepare_protein` by setting the `naming_scheme` configuration option to `charmm` as shown below."
   ]
  },
  {
   "cell_type": "markdown",
   "id": "bdebba8b-7135-48ae-bb5c-4917329a3a85",
   "metadata": {},
   "source": [
    "## 0.0) Imports"
   ]
  },
  {
   "cell_type": "code",
   "execution_count": null,
   "id": "78cdaade",
   "metadata": {},
   "outputs": [],
   "source": [
    "from pathlib import Path\n",
    "import rush"
   ]
  },
  {
   "cell_type": "code",
   "execution_count": null,
   "id": "584ed7d6-a01d-4a81-9cbe-25b38387ff71",
   "metadata": {},
   "outputs": [
    {
     "name": "stdout",
     "output_type": "stream",
     "text": [
      "2024-03-21 14:35:57,255 - rush - INFO - Restoring by default via env\n"
     ]
    }
   ],
   "source": [
    "# |hide\n",
    "# Users won't generally create a workspace\n",
    "# We nuke to ensure run is reproducible\n",
    "import os\n",
    "\n",
    "WORK_DIR = Path.home() / \"qdx\" / \"tutorial-gmx-resume\"\n",
    "\n",
    "if WORK_DIR.exists():\n",
    "    client = rush.Provider(workspace=WORK_DIR)\n",
    "    await client.nuke(remote=False)\n",
    "\n",
    "os.makedirs(WORK_DIR, exist_ok=True)"
   ]
  },
  {
   "cell_type": "code",
   "execution_count": null,
   "id": "61d50edd-a7c1-4096-b3e0-496a1f01347c",
   "metadata": {},
   "outputs": [
    {
     "name": "stdout",
     "output_type": "stream",
     "text": [
      "2024-03-21 14:35:57,278 - rush - INFO - Restoring by default via env\n"
     ]
    }
   ],
   "source": [
    "RUSH_TOKEN = os.getenv(\"RUSH_TOKEN\") or \"YOUR_TOKEN_HERE\"\n",
    "client = rush.build_blocking_provider_with_functions(access_token=RUSH_TOKEN)"
   ]
  },
  {
   "cell_type": "code",
   "execution_count": null,
   "id": "a3d4edb5-8f15-440d-a18a-a8c2a230bfc4",
   "metadata": {},
   "outputs": [
    {
     "name": "stdout",
     "output_type": "stream",
     "text": [
      "2024-03-21 14:35:57,952 - rush - INFO - Restoring by default via env\n"
     ]
    }
   ],
   "source": [
    "# |hide\n",
    "# We hide this because users will generally not set a workspace, and won't restore by default\n",
    "client = rush.build_blocking_provider_with_functions(\n",
    "    batch_tags=[\"tutorial-resume-gmx\"],\n",
    "    workspace=WORK_DIR,\n",
    ")"
   ]
  },
  {
   "cell_type": "markdown",
   "id": "ebee89a7",
   "metadata": {},
   "source": [
    "## 0.1) Input Download and Selection"
   ]
  },
  {
   "cell_type": "code",
   "execution_count": null,
   "id": "3fe53173-5dbc-4524-8616-87fb0a6c566a",
   "metadata": {},
   "outputs": [],
   "source": [
    "!pdb_fetch '1B39' | pdb_selchain -A | pdb_delhetatm > '1B39_A_nohet.pdb'"
   ]
  },
  {
   "cell_type": "markdown",
   "id": "66954bd1",
   "metadata": {},
   "source": [
    "## 1) Input Preparation\n",
    "We'll make sure to pass `naming_scheme=\"charmm\"` so that the names of the residues (i.e. amino acids) and atoms in the output will have the correct names for using with the CHARMM force field."
   ]
  },
  {
   "cell_type": "code",
   "execution_count": null,
   "id": "cbc1fb21",
   "metadata": {},
   "outputs": [
    {
     "name": "stdout",
     "output_type": "stream",
     "text": [
      "2024-03-21 14:36:00,622 - rush - INFO - Trying to restore job with tags: ['tutorial-resume-gmx'] and path: github:talo/prepare_protein/947cdbc000031e192153a20a9b4a8fbb12279102#prepare_protein_tengu\n",
      "2024-03-21 14:36:00,694 - rush - WARNING - Multiple module instances found with the same tags and path\n",
      "2024-03-21 14:36:00,695 - rush - WARNING - Multiple module instances found with the same tags and path\n",
      "2024-03-21 14:36:00,695 - rush - WARNING - Multiple module instances found with the same tags and path\n",
      "2024-03-21 14:36:00,695 - rush - WARNING - Multiple module instances found with the same tags and path\n",
      "2024-03-21 14:36:00,696 - rush - WARNING - Multiple module instances found with the same tags and path\n",
      "2024-03-21 14:36:00,762 - rush - INFO - Restoring job from previous run with id 3e4e10dd-f7cf-4e33-b759-cc73d6ae11c9\n"
     ]
    }
   ],
   "source": [
    "_, prepared_protein_pdb = client.prepare_protein(Path.cwd() / \"1B39_A_nohet.pdb\", naming_scheme=\"charmm\")"
   ]
  },
  {
   "cell_type": "markdown",
   "id": "3163f52e",
   "metadata": {},
   "source": [
    "## 2.1) Run GROMACS (modules: gmx)\n",
    "Next we will run a molecular dynamics simulation on our protein using gromacs via the `gmx` module.\n",
    "\n",
    "We'll set \"force_field\" to \"charmm36-ljpme\", the latest official version of the CHARMM force field, in our config dictionary."
   ]
  },
  {
   "cell_type": "code",
   "execution_count": null,
   "id": "7c868ee5-8ec7-454b-b4fd-d4ac8c72b827",
   "metadata": {},
   "outputs": [
    {
     "name": "stdout",
     "output_type": "stream",
     "text": [
      "2024-03-21 14:36:00,773 - rush - INFO - Trying to restore job with tags: ['tutorial-resume-gmx'] and path: github:talo/tengu-gmx/04cff2931b995c33263dfdb477d7f09c8bbd75a7#gmx_tengu\n",
      "2024-03-21 14:36:00,822 - rush - INFO - Restoring job from previous run with id f6d416cf-0cde-4bf1-8ccd-44c0e71aa0d9\n"
     ]
    }
   ],
   "source": [
    "_, streaming_outputs, _, *_rest = client.gmx(\n",
    "    None,\n",
    "    prepared_protein_pdb,\n",
    "    None,\n",
    "    {\n",
    "        \"params_overrides\": {\n",
    "            \"nvt\": {\"nsteps\": 2000},\n",
    "            \"npt\": {\"nsteps\": 2000},\n",
    "            \"md\": {\"nsteps\": 10000},\n",
    "        },\n",
    "        \"force_field\": \"charmm36-ljpme\",\n",
    "        \"num_gpus\": 1,\n",
    "    }\n",
    "    resources={\"gpus\": 1, \"storage\": 1, \"storage_units\": \"GB\"},\n",
    ")"
   ]
  },
  {
   "cell_type": "markdown",
   "id": "cd65c6eb-c521-4f18-a435-f7ad47c10508",
   "metadata": {},
   "source": [
    "# Downloading Results\n",
    "Let's download the logs and confirm that GROMACS ran using the requested force field."
   ]
  },
  {
   "cell_type": "code",
   "execution_count": null,
   "id": "947878a1-19a0-48d1-9ec4-6b963cd2dd62",
   "metadata": {},
   "outputs": [],
   "source": [
    "streaming_outputs.download(\"streaming_outputs.tar.gz\")"
   ]
  },
  {
   "cell_type": "code",
   "execution_count": null,
   "id": "ead305d5-f956-442c-86df-de960e6d6a69",
   "metadata": {},
   "outputs": [],
   "source": [
    "import tarfile\n",
    "\n",
    "with tarfile.open(client.workspace / \"objects\" / \"streaming_outputs.tar.gz\", \"r\") as tf:\n",
    "    logs = [\n",
    "        tf.extractfile(member).read()\n",
    "        for member in tf\n",
    "        if \"log\" in member.name and member.isfile()\n",
    "    ]\n",
    "    for log in enumerate(logs):\n",
    "        for line in log.split(\"\\n\"):\n",
    "            if \"charmm\" in line:\n",
    "                print(line)"
   ]
  },
  {
   "cell_type": "code",
   "execution_count": null,
   "id": "49886900-aaf5-424e-ac2b-cb324a5a6911",
   "metadata": {},
   "outputs": [],
   "source": [
    "with open(client.workspace / \"objects\" / \"gmx_output_frame_0.pdb\", \"r\") as f:\n",
    "    print(str.join(\"\", f.readlines()[0:10]))"
   ]
  }
 ],
 "metadata": {
  "kernelspec": {
   "display_name": "Python 3 (ipykernel)",
   "language": "python",
   "name": "python3"
  },
  "language_info": {
   "name": ""
  }
 },
 "nbformat": 4,
 "nbformat_minor": 5
}
