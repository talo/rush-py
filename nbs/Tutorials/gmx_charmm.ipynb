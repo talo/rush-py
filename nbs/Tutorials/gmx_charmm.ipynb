{
 "cells": [
  {
   "cell_type": "markdown",
   "id": "a7ade04f-1e33-48a7-8ba1-364305e5382c",
   "metadata": {},
   "source": [
    "# GROMACS & CHARMM - Do a GROMACS run with a specific force field choice"
   ]
  },
  {
   "cell_type": "markdown",
   "id": "6f6163a1",
   "metadata": {},
   "source": [
    "We support running GROMACS with the AMBER and CHARMM force fields, specifically amber14SB-OL15 and CHARMM36-ljpme. These are the latest of each that have official ports for GROMACS and provide for protein systems.\n",
    "\n",
    "AMBER is used by default, and both our `prepare_protein` and `gmx` modules will function in an AMBER-based MD workflow without any additional flags.\n",
    "\n",
    "In fact, we have custom support for mapping the version 3.0 PDB residue and atom names (as per the IUPAC standards) to their AMBER-specific residue names and atom names. Thanks to this, any PDB file with these standard names, such as those from RCSB, will work seamlessly with our GROMACS module when using the AMBER force field.\n",
    "\n",
    "When using the CHARMM force field, a compatible PDB file can be generated using `prepare_protein` by setting the `naming_scheme` configuration option to `charmm` as shown below."
   ]
  },
  {
   "cell_type": "markdown",
   "id": "bdebba8b-7135-48ae-bb5c-4917329a3a85",
   "metadata": {},
   "source": [
    "## 0.0) Imports"
   ]
  },
  {
   "cell_type": "code",
   "execution_count": null,
   "id": "78cdaade",
   "metadata": {},
   "outputs": [],
   "source": [
    "from pathlib import Path\n",
    "import rush"
   ]
  },
  {
   "cell_type": "code",
   "execution_count": null,
   "id": "584ed7d6-a01d-4a81-9cbe-25b38387ff71",
   "metadata": {},
   "outputs": [
    {
     "name": "stdout",
     "output_type": "stream",
     "text": [
      "2024-03-22 16:08:41,057 - rush - INFO - Not restoring by default via default\n"
     ]
    }
   ],
   "source": [
    "# |hide\n",
    "# Users won't generally create a workspace\n",
    "# We nuke to ensure run is reproducible\n",
    "import os\n",
    "\n",
    "WORK_DIR = Path.home() / \"qdx\" / \"tutorial-gmx-resume\"\n",
    "\n",
    "if WORK_DIR.exists():\n",
    "    client = rush.Provider(workspace=WORK_DIR)\n",
    "    await client.nuke(remote=False)\n",
    "\n",
    "os.makedirs(WORK_DIR, exist_ok=True)"
   ]
  },
  {
   "cell_type": "code",
   "execution_count": null,
   "id": "61d50edd-a7c1-4096-b3e0-496a1f01347c",
   "metadata": {},
   "outputs": [
    {
     "name": "stdout",
     "output_type": "stream",
     "text": [
      "2024-03-22 16:08:43,749 - rush - INFO - Not restoring by default via default\n"
     ]
    }
   ],
   "source": [
    "RUSH_TOKEN = os.getenv(\"RUSH_TOKEN\") or \"YOUR_TOKEN_HERE\"\n",
    "client = rush.build_blocking_provider_with_functions(access_token=RUSH_TOKEN)"
   ]
  },
  {
   "cell_type": "code",
   "execution_count": null,
   "id": "a3d4edb5-8f15-440d-a18a-a8c2a230bfc4",
   "metadata": {},
   "outputs": [
    {
     "name": "stdout",
     "output_type": "stream",
     "text": [
      "2024-03-22 16:08:46,611 - rush - INFO - Not restoring by default via default\n"
     ]
    }
   ],
   "source": [
    "# |hide\n",
    "# We hide this because users will generally not set a workspace, and won't restore by default\n",
    "client = rush.build_blocking_provider_with_functions(\n",
    "    batch_tags=[\"tutorial-resume-gmx\"],\n",
    "    workspace=WORK_DIR,\n",
    ")"
   ]
  },
  {
   "cell_type": "markdown",
   "id": "ebee89a7",
   "metadata": {},
   "source": [
    "## 0.1) Input Download and Selection"
   ]
  },
  {
   "cell_type": "code",
   "execution_count": null,
   "id": "3fe53173-5dbc-4524-8616-87fb0a6c566a",
   "metadata": {},
   "outputs": [],
   "source": [
    "!pdb_fetch '1B39' | pdb_selchain -A | pdb_delhetatm > '1B39_A_nohet.pdb'"
   ]
  },
  {
   "cell_type": "markdown",
   "id": "66954bd1",
   "metadata": {},
   "source": [
    "## 1) Input Preparation\n",
    "We'll make sure to pass `naming_scheme=\"charmm\"` so that the names of the residues (i.e. amino acids) and atoms in the output will have the correct names for using with the CHARMM force field."
   ]
  },
  {
   "cell_type": "code",
   "execution_count": null,
   "id": "cbc1fb21",
   "metadata": {},
   "outputs": [],
   "source": [
    "_, prepared_protein_pdb = client.prepare_protein(\n",
    "    Path.cwd() / \"1B39_A_nohet.pdb\",\n",
    "    None,\n",
    "    \"charmm\",\n",
    ")"
   ]
  },
  {
   "cell_type": "markdown",
   "id": "3163f52e",
   "metadata": {},
   "source": [
    "## 2.1) Run GROMACS (modules: gmx)\n",
    "Next we will run a molecular dynamics simulation on our protein using gromacs via the `gmx` module.\n",
    "\n",
    "We'll set \"force_field\" to \"charmm36-ljpme\", the latest official version of the CHARMM force field, in our config dictionary."
   ]
  },
  {
   "cell_type": "code",
   "execution_count": null,
   "id": "7c868ee5-8ec7-454b-b4fd-d4ac8c72b827",
   "metadata": {},
   "outputs": [],
   "source": [
    "_, streaming_outputs, _, *_rest = client.gmx(\n",
    "    None,\n",
    "    prepared_protein_pdb,\n",
    "    None,\n",
    "    {\n",
    "        \"params_overrides\": {\n",
    "            \"nvt\": {\"nsteps\": 2000},\n",
    "            \"npt\": {\"nsteps\": 2000},\n",
    "            \"md\": {\"nsteps\": 10000},\n",
    "        },\n",
    "        \"force_field\": \"charmm36-ljpme\",\n",
    "        \"num_gpus\": 1,\n",
    "    },\n",
    "    resources={\"gpus\": 1, \"storage\": 1, \"storage_units\": \"GB\"},\n",
    ")"
   ]
  },
  {
   "cell_type": "markdown",
   "id": "cd65c6eb-c521-4f18-a435-f7ad47c10508",
   "metadata": {},
   "source": [
    "# Downloading Results\n",
    "Let's fetch the run logs and confirm that GROMACS ran using the requested force field."
   ]
  },
  {
   "cell_type": "code",
   "execution_count": null,
   "id": "947878a1-19a0-48d1-9ec4-6b963cd2dd62",
   "metadata": {},
   "outputs": [
    {
     "name": "stdout",
     "output_type": "stream",
     "text": [
      "2024-03-22 16:09:01,655 - rush - INFO - Argument 96dc2630-795e-4498-a077-f28111642f57 is now ModuleInstanceStatus.RESOLVING\n",
      "2024-03-22 16:09:34,280 - rush - INFO - Argument 96dc2630-795e-4498-a077-f28111642f57 is now ModuleInstanceStatus.ADMITTED\n",
      "2024-03-22 16:09:40,786 - rush - INFO - Argument 96dc2630-795e-4498-a077-f28111642f57 is now ModuleInstanceStatus.DISPATCHED\n",
      "2024-03-22 16:09:41,868 - rush - INFO - Argument 96dc2630-795e-4498-a077-f28111642f57 is now ModuleInstanceStatus.RUNNING\n",
      "2024-03-22 16:10:40,229 - rush - INFO - Argument 96dc2630-795e-4498-a077-f28111642f57 is now ModuleInstanceStatus.AWAITING_UPLOAD\n"
     ]
    },
    {
     "data": {
      "text/plain": [
       "PosixPath('/home/machineer/qdx/tutorial-gmx-resume/objects/streaming_outputs.tar.gz')"
      ]
     },
     "execution_count": null,
     "metadata": {},
     "output_type": "execute_result"
    }
   ],
   "source": [
    "streaming_outputs.download(\"streaming_outputs.tar.gz\")"
   ]
  },
  {
   "cell_type": "code",
   "execution_count": null,
   "id": "c3b43f1a-9f88-4e84-b200-4ee2af00e448",
   "metadata": {},
   "outputs": [
    {
     "name": "stdout",
     "output_type": "stream",
     "text": [
      "  gmx pdb2gmx -f protein_in_gmxified.pdb -o protein_in.gro -q protein_in_clean.pdb -ff charmm36-ljpme -water tip3p -noter -ss\n"
     ]
    }
   ],
   "source": [
    "stdout_lines = []\n",
    "for log_page in client.logs(streaming_outputs.source, kind=\"stderr\"):\n",
    "    for log in reversed(log_page):\n",
    "        stdout_lines = [log] + stdout_lines\n",
    "for line in stdout_lines:\n",
    "    if \"pdb2gmx\" in line and \"charmm\" in line:\n",
    "        print(line)"
   ]
  }
 ],
 "metadata": {
  "kernelspec": {
   "display_name": "python3",
   "language": "python",
   "name": "python3"
  }
 },
 "nbformat": 4,
 "nbformat_minor": 5
}
