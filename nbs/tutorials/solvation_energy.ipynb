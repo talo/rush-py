{
 "cells": [
  {
   "cell_type": "markdown",
   "metadata": {},
   "source": [
    "# PBSA-CUDA — computation of solvation energy\n",
    "This notebook will walk us through computing the solvation energy of a Conformer using the Poisson-Boltzmann Surface Area (PBSA) method.\n",
    "\n",
    "This notebook will demonstrate how to calculate for a single ligand, but this example can be easily extended across the entire thermodynamic energy cycle, including the calculation of the protein, the ligand, and the resultant complex."
   ]
  },
  {
   "cell_type": "markdown",
   "metadata": {},
   "source": [
    "## 0) Setup\n",
    "See [Quickstart](../index.ipynb#imports) for more details on the setup."
   ]
  },
  {
   "cell_type": "markdown",
   "metadata": {},
   "source": [
    "## 0.0) Imports"
   ]
  },
  {
   "cell_type": "code",
   "execution_count": 1,
   "metadata": {},
   "outputs": [],
   "source": [
    "import os\n",
    "import json\n",
    "from pathlib import Path\n",
    "\n",
    "import requests\n",
    "import tengu\n"
   ]
  },
  {
   "cell_type": "markdown",
   "metadata": {},
   "source": [
    "## 0.1) Credentials"
   ]
  },
  {
   "cell_type": "code",
   "execution_count": 2,
   "metadata": {},
   "outputs": [],
   "source": [
    "TOKEN = os.getenv(\"TENGU_TOKEN\")\n",
    "# You might have a custom deployment url, by default it will use https://tengu.qdx.ai\n",
    "TENGU_URL = os.getenv(\"TENGU_URL\") or 'https://tengu.qdx.ai'"
   ]
  },
  {
   "cell_type": "markdown",
   "metadata": {},
   "source": [
    "## 0.2) Configuration\n",
    "Let's set some global variables that define our project."
   ]
  },
  {
   "cell_type": "code",
   "execution_count": 3,
   "metadata": {},
   "outputs": [],
   "source": [
    "DESCRIPTION = \"pbsa-solvation-calculation-notebook\"\n",
    "TAGS = ['tengu-py', 'pbsa', 'convert']\n",
    "WORK_DIR = Path.home() / \"qdx\" / \"pbsa-cuda-tengu-py-demo\""
   ]
  },
  {
   "cell_type": "markdown",
   "metadata": {},
   "source": [
    "## 0.3) Build your tengu client\n"
   ]
  },
  {
   "cell_type": "code",
   "execution_count": 4,
   "metadata": {},
   "outputs": [],
   "source": [
    "#|hide\n",
    "if WORK_DIR.exists():\n",
    "    client = tengu.Provider(workspace=WORK_DIR,access_token=TOKEN, url=TENGU_URL)\n",
    "    await client.nuke()"
   ]
  },
  {
   "cell_type": "code",
   "execution_count": 5,
   "metadata": {},
   "outputs": [],
   "source": [
    "os.makedirs(WORK_DIR, exist_ok=True)\n",
    "\n",
    "client = await tengu.build_provider_with_functions(\n",
    "    access_token=TOKEN, url=TENGU_URL, workspace=WORK_DIR, batch_tags=TAGS\n",
    ")"
   ]
  },
  {
   "cell_type": "markdown",
   "metadata": {},
   "source": [
    "## 0.4) Download Asipirin SDF from PubChem"
   ]
  },
  {
   "cell_type": "code",
   "execution_count": 6,
   "metadata": {},
   "outputs": [],
   "source": [
    "# Convert aspirin to a QDXF file so we can use it for this demo\n",
    "SMILES_STRING = \"CC(=O)OC1=CC=CC=C1C(=O)O\"\n",
    "SDF_LINK = f\"https://pubchem.ncbi.nlm.nih.gov/rest/pug/compound/smiles/{SMILES_STRING}/record/SDF?record_type=3d\"\n",
    "\n",
    "file_path = f'{WORK_DIR}/aspirin.sdf'\n",
    "with open(file_path, 'wb') as f:\n",
    "    f.write(requests.get(SDF_LINK).content)"
   ]
  },
  {
   "cell_type": "markdown",
   "metadata": {},
   "source": [
    "## 0.5) Convert SDF file to QDXF format\n",
    "QDXF is the central molecule format of the Tengu API, so before we use the Dubai module to infer connectivity (bonds) for our molecule, we must convert our SDF file to QDXF."
   ]
  },
  {
   "cell_type": "code",
   "execution_count": 7,
   "metadata": {},
   "outputs": [
    {
     "name": "stdout",
     "output_type": "stream",
     "text": [
      "self.typeinfo={'k': 'object', 't': {'k': 'array', 't': 'Conformer'}} self.provider=<tengu.provider.Provider object at 0x119d3e6d0> self.id=UUID('effe1ccd-54c8-4727-9d0e-b0407e1eb055')\n",
      "self.typeinfo={'k': 'object', 't': {'k': 'array', 't': 'Conformer'}} self.provider=<tengu.provider.Provider object at 0x119d3e6d0> self.id=UUID('effe1ccd-54c8-4727-9d0e-b0407e1eb055')\n"
     ]
    }
   ],
   "source": [
    "# We need to specify storage > file size to ensure that we have allocated enough resources for the convert module\n",
    "(ligand,) = await client.convert(\"SDF\", Path(file_path), resources={\"storage\": 5000})\n",
    "await ligand.get()\n",
    "\n",
    "ligand = await ligand.get()\n",
    "ligand = ligand[0]"
   ]
  },
  {
   "cell_type": "markdown",
   "metadata": {},
   "source": [
    "## 1.0) Set PBSA specific module configuration\n",
    "In this stage, we set configuration for the Dubai module, as well as saving our QDXF Aspirin to disk, as the Dubai module needs the file itself."
   ]
  },
  {
   "cell_type": "code",
   "execution_count": 8,
   "metadata": {},
   "outputs": [],
   "source": [
    "PBSA_RESOURCES = {\n",
    "    \"gpus\": 1,\n",
    "    \"storage\": 1024_000,\n",
    "    \"walltime\": 60,\n",
    "}\n",
    "\n",
    "PBSA_PARAMETERS = {\n",
    "    'solute_dielectric': 1.0,\n",
    "    'solvent_dielectric': 78.54,\n",
    "    'solvent_radius': 0.14,\n",
    "    'ion_concentration': 0.0,\n",
    "    'temperature': 298.0,\n",
    "    'spacing': 0.04,\n",
    "    'sasa_gamma': 2.26778,\n",
    "    'sasa_beta': 3.84928,\n",
    "    'sasa_n_samples': 1000,\n",
    "    'convergence': 0.00001,\n",
    "    'box_size_factor': 2.0\n",
    "}"
   ]
  },
  {
   "cell_type": "code",
   "execution_count": 9,
   "metadata": {},
   "outputs": [],
   "source": [
    "LIGAND_FILEPATH = Path(f'{WORK_DIR}/aspirin_pbsa.qdxf.json')\n",
    "json.dump(ligand, open(LIGAND_FILEPATH, 'w'))"
   ]
  },
  {
   "cell_type": "markdown",
   "metadata": {},
   "source": [
    "## 1.1) Run Dubai to infer partial charges\n",
    "We need to run Dubai to infer partial charges, as PBSA-CUDA requires access to the partial charges."
   ]
  },
  {
   "cell_type": "code",
   "execution_count": 10,
   "metadata": {},
   "outputs": [
    {
     "name": "stdout",
     "output_type": "stream",
     "text": [
      "self.typeinfo={'k': 'object', 't': 'Conformer'} self.provider=<tengu.provider.Provider object at 0x119d3e6d0> self.id=UUID('3f1ddbcb-07f4-450a-ad87-aaff874d9b2b')\n"
     ]
    }
   ],
   "source": [
    "DUBAI_RESOURCES = {\n",
    "    \"gpus\": 1,\n",
    "    \"storage\": 1024_000,\n",
    "    \"walltime\": 60,\n",
    "}\n",
    "\n",
    "(ligand_partial_charges,) = await client.dubai(LIGAND_FILEPATH, resources=DUBAI_RESOURCES)\n",
    "ligand_partial_charges = await ligand_partial_charges.get()\n",
    "\n",
    "os.remove(LIGAND_FILEPATH)\n",
    "json.dump(ligand_partial_charges, open(LIGAND_FILEPATH, 'w'))"
   ]
  },
  {
   "cell_type": "markdown",
   "metadata": {},
   "source": [
    "## 1.2) Run PBSA-CUDA\n",
    "Finally, we run PBSA-CUDA to compute solvation energy of our ligand. "
   ]
  },
  {
   "cell_type": "code",
   "execution_count": 11,
   "metadata": {},
   "outputs": [
    {
     "name": "stdout",
     "output_type": "stream",
     "text": [
      "-0.038586\n"
     ]
    }
   ],
   "source": [
    "solvation_energy = await client.pbsa(LIGAND_FILEPATH, PBSA_PARAMETERS, resources=PBSA_RESOURCES)\n",
    "solvation_energy = await solvation_energy[0].get()\n",
    "# TODO: print all energies outputted by PBSA-CUDA"
   ]
  }
 ],
 "metadata": {
  "kernelspec": {
   "display_name": ".venv",
   "language": "python",
   "name": "python3"
  },
  "language_info": {
   "codemirror_mode": {
    "name": "ipython",
    "version": 3
   },
   "file_extension": ".py",
   "mimetype": "text/x-python",
   "name": "python",
   "nbconvert_exporter": "python",
   "pygments_lexer": "ipython3",
   "version": "3.11.7"
  }
 },
 "nbformat": 4,
 "nbformat_minor": 2
}
