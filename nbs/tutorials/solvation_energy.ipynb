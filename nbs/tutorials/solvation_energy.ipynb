{
 "cells": [
  {
   "cell_type": "markdown",
   "metadata": {},
   "source": [
    "# PBSA-CUDA — computation of solvation energy\n",
    "This notebook will walk us through computing the solvation energy of a Conformer using the Poisson-Boltzmann Surface Area (PBSA) method.\n",
    "\n",
    "This notebook will demonstrate how to calculate for a single ligand, but this example can be easily extended across the entire thermodynamic energy cycle, including the calculation of the protein, the ligand, and the resultant complex."
   ]
  },
  {
   "cell_type": "markdown",
   "metadata": {},
   "source": [
    "## 0) Setup\n",
    "See [Quickstart](../index.ipynb#imports) for more details on the setup."
   ]
  },
  {
   "cell_type": "markdown",
   "metadata": {},
   "source": [
    "## 0.0) Imports"
   ]
  },
  {
   "cell_type": "code",
   "execution_count": 1,
   "metadata": {},
   "outputs": [],
   "source": [
    "import os\n",
    "import json\n",
    "from pathlib import Path\n",
    "\n",
    "import requests\n",
    "import tengu"
   ]
  },
  {
   "cell_type": "markdown",
   "metadata": {},
   "source": [
    "## 0.1) Credentials"
   ]
  },
  {
   "cell_type": "code",
   "execution_count": 2,
   "metadata": {},
   "outputs": [],
   "source": [
    "TOKEN = os.getenv(\"TENGU_TOKEN\")\n",
    "# You might have a custom deployment url, by default it will use https://tengu.qdx.ai\n",
    "TENGU_URL = os.getenv(\"TENGU_URL\") or 'https://tengu.qdx.ai'"
   ]
  },
  {
   "cell_type": "markdown",
   "metadata": {},
   "source": [
    "## 0.2) Configuration\n",
    "Let's set some global variables that define our project."
   ]
  },
  {
   "cell_type": "code",
   "execution_count": 3,
   "metadata": {},
   "outputs": [],
   "source": [
    "DESCRIPTION = \"pbsa-solvation-calculation-notebook\"\n",
    "TAGS = ['tengu-py', 'pbsa', 'convert']\n",
    "WORK_DIR = Path.home() / \"qdx\" / \"pbsa-cuda-tengu-py-demo\""
   ]
  },
  {
   "cell_type": "markdown",
   "metadata": {},
   "source": [
    "## 0.3) Build your tengu client\n"
   ]
  },
  {
   "cell_type": "code",
   "execution_count": 4,
   "metadata": {},
   "outputs": [],
   "source": [
    "#|hide\n",
    "if WORK_DIR.exists():\n",
    "    client = tengu.Provider(workspace=WORK_DIR,access_token=TOKEN, url=TENGU_URL)\n",
    "    await client.nuke()"
   ]
  },
  {
   "cell_type": "code",
   "execution_count": 5,
   "metadata": {},
   "outputs": [],
   "source": [
    "os.makedirs(WORK_DIR, exist_ok=True)\n",
    "\n",
    "client = await tengu.build_provider_with_functions(\n",
    "    access_token=TOKEN, url=TENGU_URL, workspace=WORK_DIR, batch_tags=TAGS\n",
    ")"
   ]
  },
  {
   "cell_type": "markdown",
   "metadata": {},
   "source": [
    "## 0.4) Download Asipirin SDF from PubChem"
   ]
  },
  {
   "cell_type": "code",
   "execution_count": 6,
   "metadata": {},
   "outputs": [],
   "source": [
    "# Convert aspirin to a QDXF file so we can use it for this demo\n",
    "SMILES_STRING = \"CC(=O)OC1=CC=CC=C1C(=O)O\"\n",
    "SDF_LINK = f\"https://pubchem.ncbi.nlm.nih.gov/rest/pug/compound/smiles/{SMILES_STRING}/record/SDF?record_type=3d\"\n",
    "\n",
    "file_path = f'{WORK_DIR}/aspirin.sdf'\n",
    "with open(file_path, 'wb') as f:\n",
    "    f.write(requests.get(SDF_LINK).content)"
   ]
  },
  {
   "cell_type": "markdown",
   "metadata": {},
   "source": [
    "## 0.5) Convert SDF file to QDXF format\n",
    "QDXF is the central molecule format of the Tengu API, so before we use the Dubai module (as a pre-requisite to running PBSA) we must convert our SDF file to QDXF."
   ]
  },
  {
   "cell_type": "code",
   "execution_count": 7,
   "metadata": {},
   "outputs": [
    {
     "ename": "Exception",
     "evalue": "(<ModuleFailureReason.RUN: 'RUN'>, ModuleInstanceCommonFailureContext(stdout='', stderr='Error: SDFParseError { line_number: 57, state: DataItems, ty: ParseDataKey }', syserr='/home/ryan/tengu/jobs/,18d2ede3a1e.2336901'))",
     "output_type": "error",
     "traceback": [
      "\u001b[0;31m---------------------------------------------------------------------------\u001b[0m",
      "\u001b[0;31mException\u001b[0m                                 Traceback (most recent call last)",
      "Cell \u001b[0;32mIn[7], line 3\u001b[0m\n\u001b[1;32m      1\u001b[0m \u001b[38;5;66;03m# We need to specify storage > file size to ensure that we have allocated enough resources for the convert module\u001b[39;00m\n\u001b[1;32m      2\u001b[0m (ligand,) \u001b[38;5;241m=\u001b[39m \u001b[38;5;28;01mawait\u001b[39;00m client\u001b[38;5;241m.\u001b[39mconvert(\u001b[38;5;124m\"\u001b[39m\u001b[38;5;124mSDF\u001b[39m\u001b[38;5;124m\"\u001b[39m, Path(file_path), resources\u001b[38;5;241m=\u001b[39m{\u001b[38;5;124m\"\u001b[39m\u001b[38;5;124mstorage\u001b[39m\u001b[38;5;124m\"\u001b[39m: \u001b[38;5;241m5000\u001b[39m})\n\u001b[0;32m----> 3\u001b[0m \u001b[38;5;28;01mawait\u001b[39;00m ligand\u001b[38;5;241m.\u001b[39mget()\n\u001b[1;32m      5\u001b[0m ligand \u001b[38;5;241m=\u001b[39m \u001b[38;5;28;01mawait\u001b[39;00m ligand\u001b[38;5;241m.\u001b[39mget()\n\u001b[1;32m      6\u001b[0m ligand \u001b[38;5;241m=\u001b[39m ligand[\u001b[38;5;241m0\u001b[39m]\n",
      "File \u001b[0;32m~/RustroverProjects/tengu-py/.venv/lib/python3.11/site-packages/tengu/provider.py:224\u001b[0m, in \u001b[0;36mBaseProvider.Arg.get\u001b[0;34m(self)\u001b[0m\n\u001b[1;32m    221\u001b[0m     \u001b[38;5;28;01mif\u001b[39;00m remote_arg\u001b[38;5;241m.\u001b[39msource:\n\u001b[1;32m    222\u001b[0m         \u001b[38;5;66;03m# get the failure reason by checking the source module instance\u001b[39;00m\n\u001b[1;32m    223\u001b[0m         module_instance \u001b[38;5;241m=\u001b[39m \u001b[38;5;28;01mawait\u001b[39;00m \u001b[38;5;28mself\u001b[39m\u001b[38;5;241m.\u001b[39mprovider\u001b[38;5;241m.\u001b[39mmodule_instance(remote_arg\u001b[38;5;241m.\u001b[39msource)\n\u001b[0;32m--> 224\u001b[0m         \u001b[38;5;28;01mraise\u001b[39;00m \u001b[38;5;167;01mException\u001b[39;00m(\n\u001b[1;32m    225\u001b[0m             (module_instance\u001b[38;5;241m.\u001b[39mfailure_reason, module_instance\u001b[38;5;241m.\u001b[39mfailure_context)\n\u001b[1;32m    226\u001b[0m         )\n\u001b[1;32m    227\u001b[0m     \u001b[38;5;28;01mraise\u001b[39;00m \u001b[38;5;167;01mException\u001b[39;00m(\u001b[38;5;124m\"\u001b[39m\u001b[38;5;124mArgument was rejected\u001b[39m\u001b[38;5;124m\"\u001b[39m)\n\u001b[1;32m    228\u001b[0m \u001b[38;5;28;01melse\u001b[39;00m:\n",
      "\u001b[0;31mException\u001b[0m: (<ModuleFailureReason.RUN: 'RUN'>, ModuleInstanceCommonFailureContext(stdout='', stderr='Error: SDFParseError { line_number: 57, state: DataItems, ty: ParseDataKey }', syserr='/home/ryan/tengu/jobs/,18d2ede3a1e.2336901'))"
     ]
    }
   ],
   "source": [
    "# We need to specify storage > file size to ensure that we have allocated enough resources for the convert module\n",
    "(ligand,) = await client.convert(\"SDF\", Path(file_path), resources={\"storage\": 5000})\n",
    "await ligand.get()\n",
    "\n",
    "ligand = await ligand.get()\n",
    "ligand = ligand[0]"
   ]
  },
  {
   "cell_type": "code",
   "execution_count": null,
   "metadata": {},
   "outputs": [],
   "source": [
    "LIGAND_FILEPATH = Path(f'{WORK_DIR}/aspirin_pbsa.qdxf.json')\n",
    "json.dump(ligand, open(LIGAND_FILEPATH, 'w'))"
   ]
  },
  {
   "cell_type": "markdown",
   "metadata": {},
   "source": [
    "## 1.1) Run Dubai to infer partial charges\n",
    "We need to run Dubai to infer partial charges, as PBSA-CUDA requires access to the partial charges."
   ]
  },
  {
   "cell_type": "code",
   "execution_count": null,
   "metadata": {},
   "outputs": [
    {
     "name": "stdout",
     "output_type": "stream",
     "text": [
      "self.typeinfo={'k': 'object', 't': 'Conformer'} self.provider=<tengu.provider.Provider object at 0x119d3e6d0> self.id=UUID('3f1ddbcb-07f4-450a-ad87-aaff874d9b2b')\n"
     ]
    }
   ],
   "source": [
    "DUBAI_RESOURCES = {\n",
    "    \"gpus\": 1,\n",
    "    \"storage\": 1024_000,\n",
    "    \"walltime\": 60,\n",
    "}\n",
    "\n",
    "(ligand_partial_charges,) = await client.dubai(LIGAND_FILEPATH, resources=DUBAI_RESOURCES)\n",
    "ligand_partial_charges = await ligand_partial_charges.get()\n",
    "\n",
    "os.remove(LIGAND_FILEPATH)\n",
    "json.dump(ligand_partial_charges, open(LIGAND_FILEPATH, 'w'))"
   ]
  },
  {
   "cell_type": "markdown",
   "metadata": {},
   "source": [
    "## 1.0) Set PBSA specific module configuration\n",
    "In this stage, we set configuration for the PBSA module."
   ]
  },
  {
   "cell_type": "code",
   "execution_count": null,
   "metadata": {},
   "outputs": [],
   "source": [
    "PBSA_RESOURCES = {\n",
    "    \"gpus\": 1,\n",
    "    \"storage\": 1024_000,\n",
    "    \"walltime\": 60,\n",
    "}\n",
    "\n",
    "PBSA_PARAMETERS = {\n",
    "    'solute_dielectric': 1.0,\n",
    "    'solvent_dielectric': 78.54,\n",
    "    'solvent_radius': 0.14,\n",
    "    'ion_concentration': 0.0,\n",
    "    'temperature': 298.0,\n",
    "    'spacing': 0.04,\n",
    "    'sasa_gamma': 2.26778,\n",
    "    'sasa_beta': 3.84928,\n",
    "    'sasa_n_samples': 1000,\n",
    "    'convergence': 0.00001,\n",
    "    'box_size_factor': 2.0\n",
    "}"
   ]
  },
  {
   "cell_type": "markdown",
   "metadata": {},
   "source": [
    "## 1.2) Run PBSA-CUDA\n",
    "Finally, we run PBSA-CUDA to compute solvation energy of our ligand. "
   ]
  },
  {
   "cell_type": "code",
   "execution_count": null,
   "metadata": {},
   "outputs": [
    {
     "name": "stdout",
     "output_type": "stream",
     "text": [
      "-0.038586\n"
     ]
    }
   ],
   "source": [
    "solvation_energy = await client.pbsa(LIGAND_FILEPATH, PBSA_PARAMETERS, resources=PBSA_RESOURCES)\n",
    "\n",
    "solvation_energy = await solvation_energy[0].get()\n",
    "polar_solvation_energy = solvation_energy[1].get()\n",
    "non_polar_solvation_energy = solvation_energy[2].get()"
   ]
  }
 ],
 "metadata": {
  "kernelspec": {
   "display_name": ".venv",
   "language": "python",
   "name": "python3"
  },
  "language_info": {
   "codemirror_mode": {
    "name": "ipython",
    "version": 3
   },
   "file_extension": ".py",
   "mimetype": "text/x-python",
   "name": "python",
   "nbconvert_exporter": "python",
   "pygments_lexer": "ipython3",
   "version": "3.11.7"
  }
 },
 "nbformat": 4,
 "nbformat_minor": 2
}
