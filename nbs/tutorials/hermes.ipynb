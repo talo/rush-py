{
 "cells": [
  {
   "cell_type": "code",
   "execution_count": null,
   "id": "06bfe65b-504b-4e9f-9700-67c0e7abcf82",
   "metadata": {},
   "outputs": [],
   "source": [
    "import json\n",
    "import os\n",
    "import sys\n",
    "import tarfile\n",
    "\n",
    "from pdbtools import *\n",
    "import requests\n",
    "from datetime import datetime\n",
    "from pathlib import Path\n",
    "\n",
    "import tengu"
   ]
  },
  {
   "cell_type": "markdown",
   "id": "4a8f044d-38a1-4357-9e59-8f90f60c16b3",
   "metadata": {},
   "source": [
    "### 0) Setup"
   ]
  },
  {
   "cell_type": "code",
   "execution_count": null,
   "id": "d3b4f022-5aa4-4485-9cf5-04d633ae0a32",
   "metadata": {},
   "outputs": [],
   "source": [
    "# Set our token - ensure you have exported TENGU_TOKEN in your shell; or just replace the os.getenv with your token\n",
    "TOKEN = os.getenv(\"TENGU_TOKEN\")\n",
    "# You might have a custom deployment url, by default it will use https://tengu.qdx.ai\n",
    "URL = os.getenv(\"TENGU_URL\") or \"https://tengu.qdx.ai\""
   ]
  },
  {
   "cell_type": "code",
   "execution_count": null,
   "id": "0c1a46da-ba72-47fb-8865-a491a9811ede",
   "metadata": {},
   "outputs": [],
   "source": [
    "# Define our project information\n",
    "DESCRIPTION = \"tengu-py demo notebook\"\n",
    "TAGS = [\"qdx\", \"tengu-py\", \"demo\", \"hermes\"]\n",
    "WORK_DIR = Path.home() / \"qdx\" / \"tengu-py-hermes\"\n",
    "OUT_DIR = WORK_DIR / \"runs\"\n",
    "OUT_DIR.mkdir(parents=True, exist_ok=True)\n",
    "\n",
    "# Set our inputs\n",
    "PROTEIN_PDB_PATH = WORK_DIR / \"test_P.pdb\"\n",
    "LIGAND_SDF_PATH = WORK_DIR / \"test_L.sdf\""
   ]
  },
  {
   "cell_type": "code",
   "execution_count": null,
   "id": "f4ee5dc6-ef30-45b2-91e7-b6a5141fa5d9",
   "metadata": {},
   "outputs": [],
   "source": [
    "# Get our client, for calling modules and using the tengu API\n",
    "client = tengu.Provider(access_token=TOKEN, url=URL)"
   ]
  },
  {
   "cell_type": "code",
   "execution_count": null,
   "id": "2be4f2a2-5376-4d09-96d0-870eac27b4c1",
   "metadata": {},
   "outputs": [],
   "source": [
    "# Get our latest modules as a dict[module_name, module_path]\n",
    "modules = client.get_latest_module_paths()"
   ]
  },
  {
   "cell_type": "code",
   "execution_count": null,
   "id": "285d2229-79aa-4d44-929e-938b9df76f84",
   "metadata": {},
   "outputs": [],
   "source": [
    "convert_protein = client.run2(\n",
    "    modules[\"convert\"],\n",
    "    [\n",
    "        \"PDB\",\n",
    "        PROTEIN_PDB_PATH,\n",
    "    ],\n",
    "    target=\"NIX\",\n",
    "    resources={\"storage\": 1_024_000_000, \"walltime\": 15},\n",
    "    tags=TAGS,\n",
    ")\n",
    "convert_protein_run_id = convert_protein[\"module_instance_id\"]\n",
    "converted_protein = convert_protein[\"output_ids\"][0]\n",
    "\n",
    "pick_protein = client.run2(\n",
    "        modules[\"pick_conformer\"],\n",
    "    [\n",
    "        converted_protein,\n",
    "        0\n",
    "    ]\n",
    ")\n",
    "picked_protein = pick_protein[\"output_ids\"][0]\n",
    "\n",
    "print(f\"{datetime.now().time()} | Running protein conversion!\")"
   ]
  },
  {
   "cell_type": "code",
   "execution_count": null,
   "id": "c93107d8-5938-468f-a598-514cb877854c",
   "metadata": {},
   "outputs": [],
   "source": [
    "fragment_protein = client.run2(\n",
    "    modules[\"fragment_aa\"],\n",
    "    [\n",
    "        picked_protein,\n",
    "        1,\n",
    "        \"All\"\n",
    "    ],\n",
    "    target=\"NIX\",\n",
    "    resources={\"storage\": 1_024_000_000, \"walltime\": 15},\n",
    ")"
   ]
  },
  {
   "cell_type": "code",
   "execution_count": null,
   "id": "f7516628-f8a4-4321-99af-eb50f7c45441",
   "metadata": {},
   "outputs": [],
   "source": [
    "client.poll_module_instance(fragment_protein[\"module_instance_id\"])"
   ]
  },
  {
   "cell_type": "code",
   "execution_count": null,
   "id": "8c4d9623-f08a-47db-bce8-3f956a4d72a9",
   "metadata": {},
   "outputs": [],
   "source": [
    "convert_ligand = client.run2(\n",
    "    modules[\"convert\"],\n",
    "    [\n",
    "        \"SDF\",\n",
    "        LIGAND_SDF_PATH,\n",
    "    ],\n",
    "    target=\"NIX\",\n",
    "    resources={\"storage\": 1_024_000_000, \"walltime\": 15},\n",
    "    tags=TAGS,\n",
    ")\n",
    "convert_ligand_run_id = convert_ligand[\"module_instance_id\"]\n",
    "converted_ligand = convert_ligand[\"output_ids\"][0]\n",
    "\n",
    "pick_ligand = client.run2(\n",
    "        modules[\"pick_conformer\"],\n",
    "    [\n",
    "        converted_ligand,\n",
    "        0\n",
    "    ]\n",
    ")\n",
    "picked_ligand = pick_ligand[\"output_ids\"][0]\n",
    "        \n",
    "\n",
    "print(f\"{datetime.now().time()} | Running ligand conversion!\")"
   ]
  },
  {
   "cell_type": "code",
   "execution_count": null,
   "id": "3a8fece8-24a6-4bbb-8001-be628a83c531",
   "metadata": {},
   "outputs": [],
   "source": [
    "hermes_lattice = client.run2(\n",
    "    modules[\"hermes_lattice\"],\n",
    "    [\n",
    "        fragment_protein[\"output_ids\"][0],\n",
    "        picked_ligand,\n",
    "        None,\n",
    "        None,\n",
    "    ],\n",
    "    target=\"NIX_SSH_3\",\n",
    "    resources={\"storage\": 1_024_000_000, \"walltime\": 15},\n",
    "    tags=TAGS,\n",
    ")"
   ]
  },
  {
   "cell_type": "code",
   "execution_count": null,
   "id": "edabac2b-359b-4a9d-90c1-7c52cbd61dae",
   "metadata": {},
   "outputs": [],
   "source": [
    "client.module_instance(\"d2d966ce-d55e-449a-937a-fb83cc38c1de\")"
   ]
  },
  {
   "cell_type": "code",
   "execution_count": null,
   "id": "c6e6aab9-5a2e-4e73-978d-d0fa11c72f24",
   "metadata": {},
   "outputs": [],
   "source": []
  }
 ],
 "metadata": {
  "kernelspec": {
   "display_name": "python3",
   "language": "python",
   "name": "python3"
  }
 },
 "nbformat": 4,
 "nbformat_minor": 5
}
