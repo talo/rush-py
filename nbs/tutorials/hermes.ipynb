{
 "cells": [
  {
   "cell_type": "code",
   "execution_count": null,
   "id": "bbeda3a3",
   "metadata": {},
   "outputs": [],
   "source": [
    "import json\n",
    "import os\n",
    "import sys\n",
    "import tarfile\n",
    "import asyncio\n",
    "\n",
    "from pdbtools import *\n",
    "import requests\n",
    "from datetime import datetime\n",
    "from pathlib import Path\n",
    "\n",
    "import tengu"
   ]
  },
  {
   "cell_type": "markdown",
   "id": "a8801fdb",
   "metadata": {},
   "source": [
    "### 0) Setup"
   ]
  },
  {
   "cell_type": "code",
   "execution_count": null,
   "id": "0e62b603",
   "metadata": {},
   "outputs": [],
   "source": [
    "# Define our project information\n",
    "DESCRIPTION = \"tengu-py demo notebook\"\n",
    "TAGS = [\"qdx\", \"tengu-py-v1\", \"demo\", \"hermes\"]\n",
    "WORK_DIR = Path.home() / \"qdx\" / \"tengu-py-hermes\"\n",
    "OUT_DIR = WORK_DIR / \"runs\"\n",
    "OUT_DIR.mkdir(parents=True, exist_ok=True)\n",
    "\n",
    "# Set our inputs\n",
    "PROTEIN_PDB_PATH = WORK_DIR / \"test_P.pdb\"\n",
    "LIGAND_SDF_PATH = WORK_DIR / \"test_L.sdf\""
   ]
  },
  {
   "cell_type": "code",
   "execution_count": null,
   "id": "278b9693",
   "metadata": {},
   "outputs": [],
   "source": [
    "# Get our client, for calling modules and using the tengu API\n",
    "client = await tengu.build_provider_with_functions(batch_tags=TAGS)"
   ]
  },
  {
   "cell_type": "code",
   "execution_count": null,
   "id": "3ba0b97c",
   "metadata": {},
   "outputs": [
    {
     "name": "stdout",
     "output_type": "stream",
     "text": [
      "checking <tengu.typedef.EnumKind object> PDB\n",
      "checking <tengu.typedef.ObjectKind object> /home/machineer/qdx/tengu-py-hermes/test_P.pdb\n",
      "14:28:03.546047 | Running protein conversion!\n"
     ]
    }
   ],
   "source": [
    "(converted_protein,) = await client.convert(\"PDB\", PROTEIN_PDB_PATH)\n",
    "\n",
    "print(f\"{datetime.now().time()} | Running protein conversion!\")"
   ]
  },
  {
   "cell_type": "code",
   "execution_count": null,
   "id": "9ca16802",
   "metadata": {},
   "outputs": [
    {
     "name": "stdout",
     "output_type": "stream",
     "text": [
      "checking <tengu.typedef.ObjectKind object> Arg(id=644bcbf4-f5b2-4663-8be3-46fd695b64e1, value=None)\n"
     ]
    }
   ],
   "source": [
    "(picked_protein,) = await client.pick_conformer(converted_protein, 0)"
   ]
  },
  {
   "cell_type": "code",
   "execution_count": null,
   "id": "7f516142",
   "metadata": {},
   "outputs": [],
   "source": [
    "pp = await picked_protein.get()"
   ]
  },
  {
   "cell_type": "code",
   "execution_count": null,
   "id": "d5aca64a",
   "metadata": {},
   "outputs": [],
   "source": [
    "pp_download = await picked_protein.download(filepath=\"./pp.json\")"
   ]
  },
  {
   "cell_type": "code",
   "execution_count": null,
   "id": "667b31b7-cf57-41e2-a11e-619508cdfff3",
   "metadata": {},
   "outputs": [
    {
     "name": "stdout",
     "output_type": "stream",
     "text": [
      "Help on function fragment in module tengu.provider:\n",
      "\n",
      "async fragment(*args: [<class 'pathlib.Path'>, <class 'int'>, typing.Optional[~T]], target: tengu.graphql_client.enums.ModuleInstanceTarget | None = <ModuleInstanceTarget.NIX: 'NIX'>, resources: tengu.graphql_client.input_types.ModuleInstanceResourcesInput | None = ModuleInstanceResourcesInput(gpus=0, gpu_mem=None, gpu_mem_units=None, cpus=None, nodes=None, mem=None, mem_units=None, storage=0, storage_units=<MemUnits.MB: 'MB'>, walltime=None, storage_mounts=None), tags: list[str] | None = None, restore: bool | None = None) -> [<class 'pathlib.Path'>]\n",
      "    Fragments a protein QDX file by cutting the backbone at the alpha-beta carbon bonds, skipping each n steps to increase fragment size\n",
      "    \n",
      "    Module version: github:talo/tengu-prelude/e21ba62b15154b9632d29238e9677749febfd088#fragment\n",
      "    \n",
      "    QDX Type Description:\n",
      "    \n",
      "        input: @Conformer;\n",
      "    \n",
      "        steps: u8;\n",
      "    \n",
      "        tolerance: f32? \n",
      "    \n",
      "    ->\n",
      "    \n",
      "        output: @Conformer\n",
      "    \n",
      "    \n",
      "    \n",
      "    :param input: QDX Conformer file\n",
      "    :param steps: number of steps to skip between each fragment\n",
      "    :param tolerance: tolerance beyond experimental bond lengths to consider a bond present\n",
      "    :return output: QDX conformer file\n",
      "\n"
     ]
    }
   ],
   "source": [
    "help(client.fragment)"
   ]
  },
  {
   "cell_type": "code",
   "execution_count": null,
   "id": "b11be3cc",
   "metadata": {},
   "outputs": [
    {
     "name": "stdout",
     "output_type": "stream",
     "text": [
      "loading object\n"
     ]
    }
   ],
   "source": [
    "fragmented_protein = await client.fragment(Path(\"./pp.json\"), 1, None)"
   ]
  },
  {
   "cell_type": "code",
   "execution_count": null,
   "id": "1d77adc4",
   "metadata": {},
   "outputs": [],
   "source": [
    "hermes_energy = await client.hermes_energy(\n",
    "    fragmented_protein[0],\n",
    "    None,\n",
    "    None,\n",
    "    #target=\"NIX_SSH_3\",\n",
    ")"
   ]
  },
  {
   "cell_type": "code",
   "execution_count": null,
   "id": "1db2be68-da52-4ee8-bd36-81eeb58f1959",
   "metadata": {},
   "outputs": [
    {
     "ename": "Exception",
     "evalue": "Argument was rejected",
     "output_type": "error",
     "traceback": [
      "\u001b[0;31m---------------------------------------------------------------------------\u001b[0m",
      "\u001b[0;31mException\u001b[0m                                 Traceback (most recent call last)",
      "Cell \u001b[0;32mIn[22], line 1\u001b[0m\n\u001b[0;32m----> 1\u001b[0m \u001b[38;5;28;01mawait\u001b[39;00m hermes_energy[\u001b[38;5;241m0\u001b[39m]\u001b[38;5;241m.\u001b[39mget()\n",
      "File \u001b[0;32m~/Programming/tengu-py/tengu/provider.py:211\u001b[0m, in \u001b[0;36mBaseProvider.Arg.get\u001b[0;34m(self)\u001b[0m\n\u001b[1;32m    205\u001b[0m         \u001b[38;5;28;01mif\u001b[39;00m (\n\u001b[1;32m    206\u001b[0m             module_instance\u001b[38;5;241m.\u001b[39mstderr\n\u001b[1;32m    207\u001b[0m             \u001b[38;5;129;01mand\u001b[39;00m module_instance\u001b[38;5;241m.\u001b[39mstderr\u001b[38;5;241m.\u001b[39medges\n\u001b[1;32m    208\u001b[0m             \u001b[38;5;129;01mand\u001b[39;00m \u001b[38;5;28mlen\u001b[39m(module_instance\u001b[38;5;241m.\u001b[39mstderr\u001b[38;5;241m.\u001b[39medges) \u001b[38;5;241m>\u001b[39m \u001b[38;5;241m0\u001b[39m\n\u001b[1;32m    209\u001b[0m         ):\n\u001b[1;32m    210\u001b[0m             \u001b[38;5;28;01mraise\u001b[39;00m \u001b[38;5;167;01mException\u001b[39;00m(module_instance\u001b[38;5;241m.\u001b[39mstderr\u001b[38;5;241m.\u001b[39medges[\u001b[38;5;241m-\u001b[39m\u001b[38;5;241m1\u001b[39m]\u001b[38;5;241m.\u001b[39mnode\u001b[38;5;241m.\u001b[39mcontent)\n\u001b[0;32m--> 211\u001b[0m     \u001b[38;5;28;01mraise\u001b[39;00m \u001b[38;5;167;01mException\u001b[39;00m(\u001b[38;5;124m\"\u001b[39m\u001b[38;5;124mArgument was rejected\u001b[39m\u001b[38;5;124m\"\u001b[39m)\n\u001b[1;32m    212\u001b[0m \u001b[38;5;28;01melse\u001b[39;00m:\n\u001b[1;32m    213\u001b[0m     \u001b[38;5;28mself\u001b[39m\u001b[38;5;241m.\u001b[39mvalue \u001b[38;5;241m=\u001b[39m remote_arg\u001b[38;5;241m.\u001b[39mvalue\n",
      "\u001b[0;31mException\u001b[0m: Argument was rejected"
     ]
    }
   ],
   "source": [
    "await hermes_energy[0].get()"
   ]
  },
  {
   "cell_type": "code",
   "execution_count": null,
   "id": "8fd231a1-d3dc-4f54-8b73-6960afe57f70",
   "metadata": {},
   "outputs": [],
   "source": [
    "i = await hermes_energy[0].info()"
   ]
  },
  {
   "cell_type": "code",
   "execution_count": null,
   "id": "7a262571-415d-4e5b-ac4d-b60f01c72f51",
   "metadata": {},
   "outputs": [
    {
     "ename": "AttributeError",
     "evalue": "'ArgumentArgument' object has no attribute 'status'",
     "output_type": "error",
     "traceback": [
      "\u001b[0;31m---------------------------------------------------------------------------\u001b[0m",
      "\u001b[0;31mAttributeError\u001b[0m                            Traceback (most recent call last)",
      "Cell \u001b[0;32mIn[25], line 1\u001b[0m\n\u001b[0;32m----> 1\u001b[0m \u001b[43mi\u001b[49m\u001b[38;5;241;43m.\u001b[39;49m\u001b[43mstatus\u001b[49m\n",
      "File \u001b[0;32m/nix/store/m5ryzkgfalk5xldj507qjay2k0zylpq6-python3-3.10.13-env/lib/python3.10/site-packages/pydantic/main.py:761\u001b[0m, in \u001b[0;36mBaseModel.__getattr__\u001b[0;34m(self, item)\u001b[0m\n\u001b[1;32m    758\u001b[0m     \u001b[38;5;28;01mreturn\u001b[39;00m \u001b[38;5;28msuper\u001b[39m()\u001b[38;5;241m.\u001b[39m\u001b[38;5;21m__getattribute__\u001b[39m(item)  \u001b[38;5;66;03m# Raises AttributeError if appropriate\u001b[39;00m\n\u001b[1;32m    759\u001b[0m \u001b[38;5;28;01melse\u001b[39;00m:\n\u001b[1;32m    760\u001b[0m     \u001b[38;5;66;03m# this is the current error\u001b[39;00m\n\u001b[0;32m--> 761\u001b[0m     \u001b[38;5;28;01mraise\u001b[39;00m \u001b[38;5;167;01mAttributeError\u001b[39;00m(\u001b[38;5;124mf\u001b[39m\u001b[38;5;124m'\u001b[39m\u001b[38;5;132;01m{\u001b[39;00m\u001b[38;5;28mtype\u001b[39m(\u001b[38;5;28mself\u001b[39m)\u001b[38;5;241m.\u001b[39m\u001b[38;5;18m__name__\u001b[39m\u001b[38;5;132;01m!r}\u001b[39;00m\u001b[38;5;124m object has no attribute \u001b[39m\u001b[38;5;132;01m{\u001b[39;00mitem\u001b[38;5;132;01m!r}\u001b[39;00m\u001b[38;5;124m'\u001b[39m)\n",
      "\u001b[0;31mAttributeError\u001b[0m: 'ArgumentArgument' object has no attribute 'status'"
     ]
    }
   ],
   "source": []
  },
  {
   "cell_type": "code",
   "execution_count": null,
   "id": "9c4c2f04-381a-4c37-9bf8-4b45112af55e",
   "metadata": {},
   "outputs": [],
   "source": [
    "async for log in client.logs(i.source, \"stderr\"):\n",
    "    print(log)"
   ]
  },
  {
   "cell_type": "code",
   "execution_count": null,
   "id": "30340a82-bc66-44e4-9eef-d2ae0bcb81ca",
   "metadata": {},
   "outputs": [
    {
     "data": {
      "text/plain": [
       "UUID('45e9f63c-f1db-47ba-a92a-b9d368eef1c7')"
      ]
     },
     "execution_count": null,
     "metadata": {},
     "output_type": "execute_result"
    }
   ],
   "source": [
    "i.source\n"
   ]
  },
  {
   "cell_type": "code",
   "execution_count": null,
   "id": "148be143-3e2a-4bfd-bdd0-e22f9ce9d329",
   "metadata": {},
   "outputs": [],
   "source": []
  }
 ],
 "metadata": {
  "kernelspec": {
   "display_name": "python3",
   "language": "python",
   "name": "python3"
  }
 },
 "nbformat": 4,
 "nbformat_minor": 5
}
