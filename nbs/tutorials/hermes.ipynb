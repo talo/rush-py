{
 "cells": [
  {
   "cell_type": "markdown",
   "id": "f7b8da79-7acc-46e2-9440-60743ee2f98b",
   "metadata": {},
   "source": [
    "# Run a basic Hermes Energy calculation\n",
    "\n",
    "In this notebook, we'll perform a hermes energy calculation on an externally prepared protein"
   ]
  },
  {
   "cell_type": "code",
   "execution_count": null,
   "id": "bbeda3a3",
   "metadata": {},
   "outputs": [],
   "source": [
    "import json\n",
    "import os\n",
    "import sys\n",
    "import tarfile\n",
    "\n",
    "from pdbtools import *\n",
    "import requests\n",
    "from datetime import datetime\n",
    "from pathlib import Path\n",
    "\n",
    "import tengu"
   ]
  },
  {
   "cell_type": "markdown",
   "id": "a8801fdb",
   "metadata": {},
   "source": [
    "## 0) Setup"
   ]
  },
  {
   "cell_type": "code",
   "execution_count": null,
   "id": "0e62b603",
   "metadata": {},
   "outputs": [],
   "source": [
    "# Define our project information\n",
    "DESCRIPTION = \"tengu-py demo notebook\"\n",
    "TAGS = [\"qdx\", \"tengu-py-v1\", \"demo\", \"hermes\"]\n",
    "WORK_DIR = Path.home() / \"qdx\" / \"tengu-py-hermes\"\n",
    "OUT_DIR = WORK_DIR / \"runs\"\n",
    "OUT_DIR.mkdir(parents=True, exist_ok=True)\n",
    "\n",
    "# Set our inputs\n",
    "PROTEIN_PDB_PATH = WORK_DIR / \"test_P.pdb\""
   ]
  },
  {
   "cell_type": "code",
   "execution_count": null,
   "id": "278b9693",
   "metadata": {},
   "outputs": [],
   "source": [
    "# Get our client, for calling modules and using the tengu API\n",
    "client = await tengu.build_provider_with_functions(batch_tags=TAGS)"
   ]
  },
  {
   "cell_type": "markdown",
   "id": "97076d89-89c1-4dea-ab8d-947667314e20",
   "metadata": {},
   "source": [
    "## 1) Conversion\n",
    "We want to convert our raw files into qdxfs"
   ]
  },
  {
   "cell_type": "code",
   "execution_count": null,
   "id": "3ba0b97c",
   "metadata": {},
   "outputs": [
    {
     "name": "stdout",
     "output_type": "stream",
     "text": [
      "14:53:57.021787 | Running protein conversion!\n"
     ]
    }
   ],
   "source": [
    "(converted_protein,) = await client.convert(\"PDB\", PROTEIN_PDB_PATH)\n",
    "\n",
    "print(f\"{datetime.now().time()} | Running protein conversion!\")"
   ]
  },
  {
   "cell_type": "code",
   "execution_count": null,
   "id": "9ca16802",
   "metadata": {},
   "outputs": [],
   "source": [
    "# we get a list of conformers back from conversion, one for each model. We want to select the first\n",
    "(picked_protein,) = await client.pick_conformer(converted_protein, 0)"
   ]
  },
  {
   "cell_type": "code",
   "execution_count": null,
   "id": "d5aca64a",
   "metadata": {},
   "outputs": [],
   "source": [
    "# We download the picked protein so that we can check it with local tools\n",
    "pp_download = await picked_protein.download(filepath=WORK_DIR / \"pp.json\")"
   ]
  },
  {
   "cell_type": "markdown",
   "id": "0581e2ed-60f6-4fb4-803e-2f1a7b5d120e",
   "metadata": {},
   "source": [
    "## 2) Fragmentation"
   ]
  },
  {
   "cell_type": "code",
   "execution_count": null,
   "id": "b11be3cc",
   "metadata": {},
   "outputs": [],
   "source": [
    "(fragmented_protein, ) = await client.fragment(WORK_DIR / \"pp.json\", 1, None)"
   ]
  },
  {
   "cell_type": "markdown",
   "id": "4432e3b1-c736-4e7e-8733-23eca8e15ba4",
   "metadata": {},
   "source": [
    "## 3) Quantum energy calculation"
   ]
  },
  {
   "cell_type": "code",
   "execution_count": null,
   "id": "1d77adc4",
   "metadata": {},
   "outputs": [],
   "source": [
    "hermes_energy = await client.hermes_energy(\n",
    "    fragmented_protein,\n",
    "    None,\n",
    "    None,\n",
    ")"
   ]
  }
 ],
 "metadata": {
  "kernelspec": {
   "display_name": "python3",
   "language": "python",
   "name": "python3"
  }
 },
 "nbformat": 4,
 "nbformat_minor": 5
}
