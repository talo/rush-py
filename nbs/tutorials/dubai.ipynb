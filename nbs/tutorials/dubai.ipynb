{
 "cells": [
  {
   "cell_type": "markdown",
   "metadata": {},
   "source": [
    "# Dubai\n",
    "Quantum-accurate bond inference and partial charge calculations."
   ]
  },
  {
   "cell_type": "markdown",
   "metadata": {},
   "source": [
    "## 0) Setup\n",
    "This is where we prepare the tengu client, directories, and input data we'll be working with."
   ]
  },
  {
   "cell_type": "markdown",
   "metadata": {},
   "source": [
    "## 0.0) Imports"
   ]
  },
  {
   "cell_type": "code",
   "execution_count": 133,
   "metadata": {},
   "outputs": [],
   "source": [
    "import os\n",
    "import json\n",
    "import requests\n",
    "import tengu\n",
    "from pathlib import Path"
   ]
  },
  {
   "cell_type": "markdown",
   "metadata": {},
   "source": [
    "## 0.1) Credentials\n",
    "Add a API URl and a access token to authenticate to the Tengu API."
   ]
  },
  {
   "cell_type": "code",
   "execution_count": 134,
   "metadata": {},
   "outputs": [],
   "source": [
    "# Set our token - ensure you have exported TENGU_TOKEN in your shell; or just replace the os.getenv statement with your token\n",
    "TOKEN = os.getenv(\"TENGU_TOKEN\")\n",
    "\n",
    "# You might have a custom deployment url, by default it will use https://tengu.qdx.ai\n",
    "TENGU_URL = os.getenv(\"TENGU_URL\") or \"https://tengu.qdx.ai\"\n",
    "\n",
    "# If you have environment variables set, they will be automatically used by the Tengu client, so you can\n",
    "# skip this step in your future work with the Tengu client. "
   ]
  },
  {
   "cell_type": "markdown",
   "metadata": {},
   "source": [
    "# 0.2) Configuration\n",
    "Let's set some global variables that define our project."
   ]
  },
  {
   "cell_type": "code",
   "execution_count": 135,
   "metadata": {},
   "outputs": [],
   "source": [
    "# Define our project information\n",
    "DESCRIPTION = \"tengu-py demo notebook\"\n",
    "TAGS = [\"tengu-py\", \"demo\", \"dubai\", \"convert\"]"
   ]
  },
  {
   "cell_type": "markdown",
   "metadata": {},
   "source": [
    "## 0.3) Build your tengu client\n",
    "In this step, we create a Tengu client that serves as the Python interface for the individual cheminformatics modules within the Tengu API."
   ]
  },
  {
   "cell_type": "code",
   "execution_count": 136,
   "metadata": {},
   "outputs": [],
   "source": [
    "# Get our client, for calling modules and using the tengu API.\n",
    "# Note, access_token and url are optional if you have exported the env variables TENGU_TOKEN and TENGU_URL.\n",
    "# Workspace sets the location where we will store our session history file and module lock file.\n",
    "# By using the `build_provider_with_functions` method, we will also build helper functions calling each module.\n",
    "\n",
    "# Delete and recreate the working directory if it exists\n",
    "WORK_DIR = Path.home() / \"qdx\" / \"cairo-tengu-py-demo\"\n",
    "\n",
    "if not WORK_DIR.exists():\n",
    "    Path(WORK_DIR).mkdir(parents=True)  \n",
    "    client = await tengu.build_provider_with_functions(\n",
    "        access_token=TOKEN, url=TENGU_URL, workspace=WORK_DIR, batch_tags=TAGS\n",
    "    )\n",
    "else:\n",
    "    client = await tengu.build_provider_with_functions(\n",
    "        access_token=TOKEN, url=TENGU_URL, workspace=WORK_DIR, batch_tags=TAGS\n",
    "    )\n",
    "    await client.nuke()\n",
    "    Path(WORK_DIR).mkdir(parents=True)\n",
    "    client = await tengu.build_provider_with_functions(\n",
    "        access_token=TOKEN, url=TENGU_URL, workspace=WORK_DIR, batch_tags=TAGS\n",
    "    )\n",
    "\n"
   ]
  },
  {
   "cell_type": "markdown",
   "metadata": {},
   "source": [
    "## 0.4) Download Aspirin from PubChem and convert to QDXF format\n",
    "QDXF is the central molecule format of the Tengu API, so before we use the Dubai module to infer connectivity (bonds) for our molecule, we must convert our SDF file to QDXF."
   ]
  },
  {
   "cell_type": "code",
   "execution_count": 137,
   "metadata": {},
   "outputs": [],
   "source": [
    "# Convert aspirin to a QDXF file so we can use it for this demo\n",
    "SMILES_STRING = \"CC(=O)OC1=CC=CC=C1C(=O)O\"\n",
    "SDF_LINK = f\"https://pubchem.ncbi.nlm.nih.gov/rest/pug/compound/smiles/{SMILES_STRING}/record/SDF?record_type=3d\"\n",
    "\n",
    "file_path = f'{WORK_DIR}/aspirin.sdf'\n",
    "with open(file_path, 'wb') as f:\n",
    "    f.write(requests.get(SDF_LINK).content)\n",
    "\n",
    "# We need to specify storage > file size to ensure that we have allocated enough resources for the convert module\n",
    "(ligand,) = await client.convert(\"SDF\", Path(file_path), resources={\"storage\": 5000})\n",
    "await ligand.get()\n",
    "\n",
    "ligand = await ligand.get()"
   ]
  },
  {
   "cell_type": "code",
   "execution_count": 138,
   "metadata": {},
   "outputs": [],
   "source": [
    "# Remove connectivity, as we will be perceiving bonds (quantum-accurately) using Dubai in the next step\n",
    "EXPECTED_CONNECTIVITY = ligand[0]['topology']['connectivity']\n",
    "\n",
    "ligand = ligand[0]\n",
    "# Remove connectivity as dubai will perceive the bonds for us\n",
    "del ligand['topology']['connectivity']\n",
    "\n",
    "# Use a fragment multiplicity of 1.\n",
    "ligand['topology']['fragment_multiplicities'] = [1]\n"
   ]
  },
  {
   "cell_type": "markdown",
   "metadata": {},
   "source": [
    "## 1.0) Set Dubai module specific configuration\n",
    "In this stage, we set configuration for the Dubai module, as well as saving our QDXF Aspirin to disk, as the Dubai module needs the file itself.\n"
   ]
  },
  {
   "cell_type": "code",
   "execution_count": 139,
   "metadata": {},
   "outputs": [],
   "source": [
    "DUBAI_RESOURCES = {\n",
    "    \"gpus\": 1,\n",
    "    \"storage\": 1024_000,\n",
    "    \"walltime\": 60,\n",
    "}\n",
    "TEMP_FILEPATH = Path(f'{WORK_DIR}/temp/aspirin.qdxf.json')\n",
    "\n",
    "# Create the temp directory, so we can save our temporary QDXF file later.\n",
    "Path(f'{WORK_DIR}/temp').mkdir(parents=True)  \n"
   ]
  },
  {
   "cell_type": "markdown",
   "metadata": {},
   "source": [
    "## 1.1) Run Dubai\n",
    "Finally, we run Dubai to perform quantum-accurate bond inference, as well the calculation of partial charges."
   ]
  },
  {
   "cell_type": "code",
   "execution_count": 140,
   "metadata": {},
   "outputs": [],
   "source": [
    "json.dump(ligand, open(TEMP_FILEPATH, 'w'))\n",
    "\n",
    "(ligand_with_bonds,) = await client.dubai(TEMP_FILEPATH, resources=DUBAI_RESOURCES)"
   ]
  },
  {
   "cell_type": "code",
   "execution_count": 141,
   "metadata": {},
   "outputs": [],
   "source": [
    "from pprint import pprint\n",
    "output_ligand = (await ligand_with_bonds.get())\n",
    "\n",
    "for expected_bond, outputed_bond in zip(EXPECTED_CONNECTIVITY, output_ligand['topology']['connectivity']):\n",
    "    # Check start atoms are the same\n",
    "    assert expected_bond[0] == outputed_bond[0]\n",
    "    # Check ending atoms are the same\n",
    "    assert expected_bond[1] == outputed_bond[1]\n",
    "    # NB: we don't check the third item of the bond -- the bond type, as Dubai accurately outputs ring bonds as \n",
    "    # a specific 'RINGBOND' type, whereas SDF aspirin was interleaving single and double bonds."
   ]
  }
 ],
 "metadata": {
  "kernelspec": {
   "display_name": ".venv",
   "language": "python",
   "name": "python3"
  },
  "language_info": {
   "codemirror_mode": {
    "name": "ipython",
    "version": 3
   },
   "file_extension": ".py",
   "mimetype": "text/x-python",
   "name": "python",
   "nbconvert_exporter": "python",
   "pygments_lexer": "ipython3",
   "version": "3.11.7"
  }
 },
 "nbformat": 4,
 "nbformat_minor": 2
}
