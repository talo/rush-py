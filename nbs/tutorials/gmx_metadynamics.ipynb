{
 "cells": [
  {
   "cell_type": "markdown",
   "id": "e8802c73-ef10-4e9a-b7f6-fa98720c3e4c",
   "metadata": {},
   "source": [
    "# GMX Metadynamics\n",
    "\n",
    "This shows how to use the gmx metadynamics module with the typed interface"
   ]
  },
  {
   "cell_type": "code",
   "execution_count": null,
   "id": "f660d745-2db1-4302-9a82-a179de2e78d2",
   "metadata": {},
   "outputs": [],
   "source": [
    "import pathlib\n",
    "import tengu"
   ]
  },
  {
   "cell_type": "code",
   "execution_count": null,
   "id": "710420af-3539-4353-ba5b-0f245d8fcdd9",
   "metadata": {},
   "outputs": [],
   "source": [
    "# Set our token - ensure you have exported TENGU_TOKEN in your shell; or just replace the os.getenv with your token\n",
    "TOKEN = os.getenv(\"TENGU_TOKEN\")"
   ]
  },
  {
   "cell_type": "code",
   "execution_count": null,
   "id": "3c3f2e2b-51c6-48d9-89d8-4b9282d38d6f",
   "metadata": {},
   "outputs": [],
   "source": [
    "client = tengu.Provider(TOKEN)"
   ]
  },
  {
   "cell_type": "code",
   "execution_count": null,
   "id": "7a43fb40-cf62-42e7-b491-88cdb7ec7274",
   "metadata": {},
   "outputs": [],
   "source": [
    "fns = client.get_module_functions(names=[\"gmx_metadynamics\"])"
   ]
  },
  {
   "cell_type": "code",
   "execution_count": null,
   "id": "8e10d8d9-b85b-416d-a528-e8ba9abfd986",
   "metadata": {},
   "outputs": [],
   "source": [
    "help(fns[\"gmx_metadynamics\"])"
   ]
  },
  {
   "cell_type": "code",
   "execution_count": null,
   "id": "8be15231-02ce-4b77-a363-aefc42ff5ab8",
   "metadata": {},
   "outputs": [],
   "source": [
    "molecular_dynamics = fns[\"gmx_tengu_pdb\"]"
   ]
  },
  {
   "cell_type": "code",
   "execution_count": null,
   "id": "556c22b1-3a5d-401c-ada4-9fc5ca8aa17b",
   "metadata": {},
   "outputs": [],
   "source": [
    "run = molecular_dynamics(\n",
    "    pathlib.Path(\"/home/machineer/qdx/tengu-py-demo/test_P.pdb\"),\n",
    "    pathlib.Path(\"/home/machineer/qdx/tengu-py-demo/test_L.pdb\"),\n",
    "    {\"frame_sel\": None, \n",
    "     \"num_gpus\": 0, \n",
    "     \"num_replicas\":None, \n",
    "     \"ligand_charge\":None, \n",
    "     \"param_overrides\": { \n",
    "         \"em\": [(\"nsteps\", \"1000\")], \n",
    "         \"ions\": [(\"nsteps\", \"1000\")], \n",
    "         \"nvt\": [(\"nsteps\", \"1000\")], \n",
    "         \"md\": [(\"nsteps\", \"1000\")], \n",
    "         \"npt\": [(\"nsteps\", \"1000\")]}\n",
    "    },\n",
    "    resources = {\"storage\": 1000000 }, target=\"GADI\")"
   ]
  },
  {
   "cell_type": "code",
   "execution_count": null,
   "id": "222e9c82-cd45-4dd8-91fb-500ca369a958",
   "metadata": {},
   "outputs": [],
   "source": [
    "print(run[\"module_instance_id\"])"
   ]
  }
 ],
 "metadata": {
  "kernelspec": {
   "display_name": "python3",
   "language": "python",
   "name": "python3"
  }
 },
 "nbformat": 4,
 "nbformat_minor": 5
}
