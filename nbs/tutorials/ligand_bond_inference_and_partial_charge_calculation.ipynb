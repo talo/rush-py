{
 "cells": [
  {
   "cell_type": "markdown",
   "metadata": {},
   "source": [
    "# Dubai - Quantum accurate bond inference and partial charge calculations \n",
    "\n",
    "This notebook will work us through getting quantum-accurate bond inference and Mulliken partial charge calculations for a SMILES string retrieved from PubChem."
   ]
  },
  {
   "cell_type": "markdown",
   "metadata": {},
   "source": [
    "## 0) Setup\n",
    "See [Quickstart](../index.ipynb#imports) for more details on the setup."
   ]
  },
  {
   "cell_type": "markdown",
   "metadata": {},
   "source": [
    "## 0.0) Imports"
   ]
  },
  {
   "cell_type": "code",
   "execution_count": 59,
   "metadata": {},
   "outputs": [],
   "source": [
    "import os\n",
    "import json\n",
    "from pathlib import Path\n",
    "\n",
    "import requests\n",
    "import tengu"
   ]
  },
  {
   "cell_type": "markdown",
   "metadata": {},
   "source": [
    "## 0.1) Credentials\n"
   ]
  },
  {
   "cell_type": "code",
   "execution_count": 60,
   "metadata": {},
   "outputs": [],
   "source": [
    "TOKEN = os.getenv(\"TENGU_TOKEN\")\n",
    "# You might have a custom deployment url, by default it will use https://tengu.qdx.ai\n",
    "TENGU_URL = os.getenv(\"TENGU_URL\") or \"https://tengu.qdx.ai\""
   ]
  },
  {
   "cell_type": "markdown",
   "metadata": {},
   "source": [
    "## 0.2) Configuration\n",
    "Let's set some global variables that define our project."
   ]
  },
  {
   "cell_type": "code",
   "execution_count": 61,
   "metadata": {},
   "outputs": [],
   "source": [
    "DESCRIPTION = \"quantum-bond-inference-notebook\"\n",
    "TAGS = [\"tengu-py\", \"dubai\", \"convert\"]\n",
    "WORK_DIR = Path.home() / \"qdx\" / \"dubai-tengu-py-demo\""
   ]
  },
  {
   "cell_type": "markdown",
   "metadata": {},
   "source": [
    "## 0.3) Build your tengu client"
   ]
  },
  {
   "cell_type": "code",
   "execution_count": 62,
   "metadata": {},
   "outputs": [],
   "source": [
    "#|hide\n",
    "client = tengu.Provider(workspace=WORK_DIR,access_token=TOKEN, url=TENGU_URL)\n",
    "await client.nuke()"
   ]
  },
  {
   "cell_type": "code",
   "execution_count": 63,
   "metadata": {},
   "outputs": [],
   "source": [
    "os.makedirs(WORK_DIR, exist_ok=True)\n",
    "\n",
    "client = await tengu.build_provider_with_functions(\n",
    "    access_token=TOKEN, url=TENGU_URL, workspace=WORK_DIR, batch_tags=TAGS\n",
    ")"
   ]
  },
  {
   "cell_type": "markdown",
   "metadata": {},
   "source": [
    "## 0.4) Download Aspirin SDF from PubChem"
   ]
  },
  {
   "cell_type": "code",
   "execution_count": 64,
   "metadata": {},
   "outputs": [],
   "source": [
    "# Convert aspirin to a QDXF file so we can use it for this demo\n",
    "SMILES_STRING = \"CC(=O)OC1=CC=CC=C1C(=O)O\"\n",
    "SDF_LINK = f\"https://pubchem.ncbi.nlm.nih.gov/rest/pug/compound/smiles/{SMILES_STRING}/record/SDF?record_type=3d\"\n",
    "\n",
    "file_path = f'{WORK_DIR}/aspirin.sdf'\n",
    "with open(file_path, 'wb') as f:\n",
    "    f.write(requests.get(SDF_LINK).content)"
   ]
  },
  {
   "cell_type": "markdown",
   "metadata": {},
   "source": [
    "## 0.5) Convert SDF file to QDXF format\n",
    "QDXF is the central molecule format of the Tengu API, so before we use the Dubai module to infer connectivity (bonds) for our molecule, we must convert our SDF file to QDXF."
   ]
  },
  {
   "cell_type": "code",
   "execution_count": 65,
   "metadata": {},
   "outputs": [],
   "source": [
    "# We need to specify storage > file size to ensure that we have allocated enough resources for the convert module\n",
    "(ligand,) = await client.convert(\"SDF\", Path(file_path), resources={\"storage\": 5000})\n",
    "await ligand.get()\n",
    "\n",
    "ligand = await ligand.get()"
   ]
  },
  {
   "cell_type": "markdown",
   "metadata": {},
   "source": [
    "## 0.6 ) Remove connectivity\n",
    "We remove connectivity, as we will be perceiving bonds (quantum-accurately) using Dubai in the next step."
   ]
  },
  {
   "cell_type": "code",
   "execution_count": 66,
   "metadata": {},
   "outputs": [],
   "source": [
    "EXPECTED_CONNECTIVITY = ligand[0]['topology']['connectivity']\n",
    "ligand = ligand[0]\n",
    "del ligand['topology']['connectivity']\n",
    "\n",
    "ligand['topology']['fragment_multiplicities'] = [1]"
   ]
  },
  {
   "cell_type": "markdown",
   "metadata": {},
   "source": [
    "## 1.0) Set Dubai module specific configuration\n",
    "In this stage, we set configuration for the Dubai module, as well as saving our QDXF Aspirin to disk, as the Dubai module needs the file itself.\n"
   ]
  },
  {
   "cell_type": "code",
   "execution_count": 67,
   "metadata": {},
   "outputs": [],
   "source": [
    "DUBAI_RESOURCES = {\n",
    "    \"gpus\": 1,\n",
    "    \"storage\": 1024_000,\n",
    "    \"walltime\": 60,\n",
    "}\n",
    "LIGAND_FILEPATH = Path(f'{WORK_DIR}/aspirin.qdxf.json')\n",
    "json.dump(ligand, open(LIGAND_FILEPATH, 'w'))"
   ]
  },
  {
   "cell_type": "markdown",
   "metadata": {},
   "source": [
    "## 1.1) Run Dubai\n",
    "Finally, we run Dubai to perform quantum-accurate bond inference, as well the calculation of Mulliken partial charges."
   ]
  },
  {
   "cell_type": "code",
   "execution_count": 68,
   "metadata": {},
   "outputs": [],
   "source": [
    "(ligand_with_bonds,) = await client.dubai(LIGAND_FILEPATH, resources=DUBAI_RESOURCES)"
   ]
  },
  {
   "cell_type": "code",
   "execution_count": 69,
   "metadata": {},
   "outputs": [],
   "source": [
    "output_ligand = await ligand_with_bonds.get()\n",
    "\n",
    "for expected_bond, outputted_bond in zip(EXPECTED_CONNECTIVITY, output_ligand['topology']['connectivity']):\n",
    "    # Check start atoms are the same\n",
    "    assert expected_bond[0] == outputted_bond[0]\n",
    "    # Check ending atoms are the same\n",
    "    assert expected_bond[1] == outputted_bond[1]\n",
    "    # NB: we don't check the third item of the bond -- the bond type. This is because Dubai accurately outputs ring bonds as \n",
    "    # a specific 'RINGBOND' type, whereas SDF aspirin was interleaving single and double bonds."
   ]
  }
 ],
 "metadata": {
  "kernelspec": {
   "display_name": ".venv",
   "language": "python",
   "name": "python3"
  },
  "language_info": {
   "codemirror_mode": {
    "name": "ipython",
    "version": 3
   },
   "file_extension": ".py",
   "mimetype": "text/x-python",
   "name": "python",
   "nbconvert_exporter": "python",
   "pygments_lexer": "ipython3",
   "version": "3.11.7"
  }
 },
 "nbformat": 4,
 "nbformat_minor": 2
}
