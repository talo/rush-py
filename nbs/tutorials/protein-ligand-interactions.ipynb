{
 "cells": [
  {
   "cell_type": "markdown",
   "metadata": {},
   "source": [
    "## PLIP — Protein ligand interaction profiling\n",
    "This notebook will walk us through using PLIP for identification of non-covalent interactions between biological macrmolecules and their ligands.\n",
    "\n",
    "PLIP implementation paper:\n",
    "Adasme et al. PLIP 2021: expanding the scope of the protein-ligand interaction profiler to DNA and RNA. NAR 2021 "
   ]
  },
  {
   "cell_type": "markdown",
   "metadata": {},
   "source": [
    "## 0) Setup\n",
    "See [Quickstart](../index.ipynb#imports) for more details on the setup.\n"
   ]
  },
  {
   "cell_type": "markdown",
   "metadata": {},
   "source": [
    "## 0.0) Imports"
   ]
  },
  {
   "cell_type": "code",
   "execution_count": 17,
   "metadata": {},
   "outputs": [],
   "source": [
    "import os\n",
    "import json\n",
    "from pathlib import Path\n",
    "\n",
    "import requests\n",
    "from pdbtools import pdb_fetch\n",
    "import tengu"
   ]
  },
  {
   "cell_type": "markdown",
   "metadata": {},
   "source": [
    "## 0.1) Credentials"
   ]
  },
  {
   "cell_type": "code",
   "execution_count": 18,
   "metadata": {},
   "outputs": [
    {
     "name": "stdout",
     "output_type": "stream",
     "text": [
      "https://nginx-reverse-proxy-staging-edh4uref5a-as.a.run.app\n"
     ]
    }
   ],
   "source": [
    "TOKEN = os.getenv(\"TENGU_TOKEN\")\n",
    "# You might have a custom deployment url, by default it will use https://tengu.qdx.ai\n",
    "TENGU_URL = os.getenv(\"TENGU_URL\") or \"https://tengu.qdx.ai\"\n",
    "print(TENGU_URL)"
   ]
  },
  {
   "cell_type": "markdown",
   "metadata": {},
   "source": [
    "## 0.2) Configuration\n",
    "Let's set some global variables that define our project"
   ]
  },
  {
   "cell_type": "code",
   "execution_count": 19,
   "metadata": {},
   "outputs": [],
   "source": [
    "DESCRIPTION = \"plip-inference-notebook\"\n",
    "TAGS = [\"tengu-py\", \"plip\", \"notebook\"]\n",
    "\n",
    "WORK_DIR = Path.home() /  \"qdx\" / \"plip-inference-notebook\""
   ]
  },
  {
   "cell_type": "markdown",
   "metadata": {},
   "source": [
    "## 0.3) Build your tengu client"
   ]
  },
  {
   "cell_type": "code",
   "execution_count": 20,
   "metadata": {},
   "outputs": [],
   "source": [
    "#|hide\n",
    "if WORK_DIR.exists():\n",
    "    client = tengu.Provider(workspace=WORK_DIR, access_token=TOKEN, url=TENGU_URL)\n",
    "    await client.nuke()"
   ]
  },
  {
   "cell_type": "code",
   "execution_count": 21,
   "metadata": {},
   "outputs": [],
   "source": [
    "os.makedirs(WORK_DIR, exist_ok=True)\n",
    "\n",
    "client = await tengu.build_provider_with_functions(\n",
    "    access_token=TOKEN, url=TENGU_URL, workspace=WORK_DIR, batch_tags=TAGS\n",
    ")"
   ]
  },
  {
   "cell_type": "markdown",
   "metadata": {},
   "source": [
    "## 0.4 Fetch example PDB"
   ]
  },
  {
   "cell_type": "code",
   "execution_count": 22,
   "metadata": {},
   "outputs": [],
   "source": [
    "PDB_ID = \"1B39\"\n",
    "FILE_NAME = f'{PDB_ID}.pdb'\n",
    "FILE_PATH = WORK_DIR / FILE_NAME\n",
    "complex = list(pdb_fetch.fetch_structure(PDB_ID))\n",
    "\n",
    "with open(FILE_PATH, 'w') as f:\n",
    "    for line in complex:\n",
    "        f.write(line)"
   ]
  },
  {
   "cell_type": "markdown",
   "metadata": {},
   "source": [
    "## 0.5) Convert PDB file to QDXF format\n",
    "QDXF is the central molecule format of the Tengu API, so before we use the Dubai module to infer connectivity (bonds) for our molecule, we must convert our PDB file to QDXF."
   ]
  },
  {
   "cell_type": "code",
   "execution_count": 27,
   "metadata": {},
   "outputs": [],
   "source": [
    "# # We need to specify storage > file size to ensure that we have allocated enough resources for the convert module\n",
    "\n",
    "FILE_SIZE = os.path.getsize(FILE_PATH) * 2\n",
    "(protein,) = await client.convert(\"PDB\", FILE_PATH, target=\"NIX\", resources={\"storage\": FILE_SIZE})\n",
    "\n",
    "protein = await protein.get()"
   ]
  },
  {
   "cell_type": "markdown",
   "metadata": {},
   "source": [
    "# 1.0) Check Tengu API docs to get more information on the PLIP module\n",
    "Before we call the PLIP Tengu module, we can look at the help documentation to get more information on the required inputs, expected outputs, and possible configuration parameters.\n"
   ]
  },
  {
   "cell_type": "code",
   "execution_count": 28,
   "metadata": {},
   "outputs": [
    {
     "ename": "AttributeError",
     "evalue": "'Provider' object has no attribute 'plip'",
     "output_type": "error",
     "traceback": [
      "\u001b[0;31m---------------------------------------------------------------------------\u001b[0m",
      "\u001b[0;31mAttributeError\u001b[0m                            Traceback (most recent call last)",
      "Cell \u001b[0;32mIn[28], line 1\u001b[0m\n\u001b[0;32m----> 1\u001b[0m \u001b[38;5;28;01mawait\u001b[39;00m \u001b[43mclient\u001b[49m\u001b[38;5;241;43m.\u001b[39;49m\u001b[43mplip\u001b[49m(protein, resources\u001b[38;5;241m=\u001b[39m{\u001b[38;5;124m\"\u001b[39m\u001b[38;5;124mstorage\u001b[39m\u001b[38;5;124m\"\u001b[39m: FILE_SIZE})\n",
      "\u001b[0;31mAttributeError\u001b[0m: 'Provider' object has no attribute 'plip'"
     ]
    }
   ],
   "source": [
    "await client.plip(protein, resources={\"storage\": FILE_SIZE})"
   ]
  }
 ],
 "metadata": {
  "kernelspec": {
   "display_name": ".venv",
   "language": "python",
   "name": "python3"
  },
  "language_info": {
   "codemirror_mode": {
    "name": "ipython",
    "version": 3
   },
   "file_extension": ".py",
   "mimetype": "text/x-python",
   "name": "python",
   "nbconvert_exporter": "python",
   "pygments_lexer": "ipython3",
   "version": "3.11.7"
  }
 },
 "nbformat": 4,
 "nbformat_minor": 2
}
