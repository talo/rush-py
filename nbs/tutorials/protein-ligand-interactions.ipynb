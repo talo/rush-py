{
 "cells": [
  {
   "cell_type": "markdown",
   "metadata": {},
   "source": [
    "## PLIP — Protein ligand interaction profiling\n",
    "This notebook will walk us through using PLIP for identification of non-covalent interactions between biological macromolecules and their ligands.\n",
    "\n",
    "**PLIP implementation paper**:\n",
    "Adasme et al. PLIP 2021: expanding the scope of the protein-ligand interaction profiler to DNA and RNA. NAR 2021 "
   ]
  },
  {
   "cell_type": "markdown",
   "metadata": {},
   "source": [
    "## 0) Setup\n",
    "See [Quickstart](../index.ipynb#imports) for more details on the setup.\n"
   ]
  },
  {
   "cell_type": "markdown",
   "metadata": {},
   "source": [
    "## 0.0) Imports"
   ]
  },
  {
   "cell_type": "code",
   "execution_count": 39,
   "metadata": {},
   "outputs": [],
   "source": [
    "import os\n",
    "from pathlib import Path\n",
    "\n",
    "import tengu\n",
    "from pdbtools import pdb_fetch"
   ]
  },
  {
   "cell_type": "markdown",
   "metadata": {},
   "source": [
    "## 0.1) Credentials"
   ]
  },
  {
   "cell_type": "code",
   "execution_count": 40,
   "metadata": {},
   "outputs": [],
   "source": [
    "TOKEN = os.getenv(\"TENGU_TOKEN\")\n",
    "# You might have a custom deployment url, by default the client will use https://tengu.qdx.ai\n",
    "TENGU_URL = os.getenv(\"TENGU_URL\") or \"https://tengu.qdx.ai\""
   ]
  },
  {
   "cell_type": "markdown",
   "metadata": {},
   "source": [
    "## 0.2) Configuration\n",
    "Let's set some global variables that define our project."
   ]
  },
  {
   "cell_type": "code",
   "execution_count": 41,
   "metadata": {},
   "outputs": [],
   "source": [
    "DESCRIPTION = \"plip-inference-notebook\"\n",
    "TAGS = [\"tengu-py\", \"plip\", \"notebook\"]\n",
    "\n",
    "WORK_DIR = Path.home() /  \"qdx\" / \"plip-inference-tengu-py-demo\""
   ]
  },
  {
   "cell_type": "markdown",
   "metadata": {},
   "source": [
    "## 0.3) Build your tengu client"
   ]
  },
  {
   "cell_type": "code",
   "execution_count": 42,
   "metadata": {},
   "outputs": [],
   "source": [
    "#|hide\n",
    "if WORK_DIR.exists():\n",
    "    client = tengu.Provider(workspace=WORK_DIR, access_token=TOKEN, url=TENGU_URL)\n",
    "    await client.nuke()"
   ]
  },
  {
   "cell_type": "code",
   "execution_count": 43,
   "metadata": {},
   "outputs": [],
   "source": [
    "os.makedirs(WORK_DIR, exist_ok=True)\n",
    "\n",
    "client = await tengu.build_provider_with_functions(\n",
    "    access_token=TOKEN, url=TENGU_URL, workspace=WORK_DIR, batch_tags=TAGS\n",
    ")"
   ]
  },
  {
   "cell_type": "markdown",
   "metadata": {},
   "source": [
    "## 0.4) Fetch example PDB\n",
    "Note that PLIP requires a PDB file of a protein-ligand complex."
   ]
  },
  {
   "cell_type": "code",
   "execution_count": 44,
   "metadata": {},
   "outputs": [],
   "source": [
    "PDB_ID = \"1GIH\"\n",
    "FILE_NAME = f'{PDB_ID}.pdb'\n",
    "FILE_PATH = WORK_DIR / FILE_NAME"
   ]
  },
  {
   "cell_type": "code",
   "execution_count": 45,
   "metadata": {},
   "outputs": [],
   "source": [
    "complex = list(pdb_fetch.fetch_structure(PDB_ID))\n",
    "\n",
    "with open(FILE_PATH, 'w') as f:\n",
    "    for line in complex:\n",
    "        f.write(line)"
   ]
  },
  {
   "cell_type": "markdown",
   "metadata": {},
   "source": [
    "# 1.0) Check Tengu API docs to get more information on the PLIP module\n",
    "Before we call the PLIP Tengu module, we can look at the help documentation to get more information on the required inputs, expected outputs, and possible configuration parameters.\n"
   ]
  },
  {
   "cell_type": "code",
   "execution_count": 46,
   "metadata": {},
   "outputs": [
    {
     "name": "stdout",
     "output_type": "stream",
     "text": [
      "Help on function plip in module tengu.provider:\n",
      "\n",
      "async plip(*args: [<class 'pathlib.Path'>], target: tengu.graphql_client.enums.ModuleInstanceTarget | None = <ModuleInstanceTarget.NIX_SSH: 'NIX_SSH'>, resources: tengu.graphql_client.input_types.ModuleInstanceResourcesInput | None = ModuleInstanceResourcesInput(gpus=0, gpu_mem=None, gpu_mem_units=None, cpus=None, nodes=None, mem=None, mem_units=None, storage=128, storage_units=<MemUnits.MB: 'MB'>, walltime=None, storage_mounts=None), tags: list[str] | None = None, restore: bool | None = None) -> [<class 'pathlib.Path'>, <class 'pathlib.Path'>]\n",
      "    Run PLIP on the input PDB file of a protein-ligand complex to obtain interaction data.\n",
      "    \n",
      "    \n",
      "    Module version: github:talo/tengu-plip/9a4ff5b9e5fe77f37505c4718d0d63182885c805#plip_tengu\n",
      "    \n",
      "    QDX Type Description:\n",
      "    \n",
      "        input_complex_pdb_file: @bytes \n",
      "    \n",
      "    ->\n",
      "    \n",
      "        output_conformer: @Conformer;\n",
      "    \n",
      "        output_txt_file: @bytes\n",
      "    \n",
      "    \n",
      "    \n",
      "    :param input_complex_pdb_file: The protein-ligand complex as a PDB file; ligand should be the only HETATM lines.\n",
      "    :return output_conformer: A QDX Conformer of the complex with the computed interaction data\n",
      "    :return output_txt_file: The output txt report from the PLIP run\n",
      "\n"
     ]
    }
   ],
   "source": [
    "help(client.plip)"
   ]
  },
  {
   "cell_type": "markdown",
   "metadata": {},
   "source": [
    "We can see from the above help documentation that we need to pass the Path to our PDB file as an argument."
   ]
  },
  {
   "cell_type": "markdown",
   "metadata": {},
   "source": [
    "## 1.1) Run PLIP\n",
    "Finally, we run PLIP so we can identify interactions between the ligand and the protein within our protein complex."
   ]
  },
  {
   "cell_type": "code",
   "execution_count": 47,
   "metadata": {},
   "outputs": [],
   "source": [
    "PLIP_RESOURCES = {\n",
    "    'storage':  1024_000\n",
    "}\n",
    "\n",
    "output_conformer, output_txt = await client.plip(FILE_PATH, resources=PLIP_RESOURCES)"
   ]
  },
  {
   "cell_type": "markdown",
   "metadata": {},
   "source": [
    "# 1.2) Get output conformer\n",
    "Here, we get the output Conformer (in QDXF format) that is enriched with `binding_site_interactions` by PLIP."
   ]
  },
  {
   "cell_type": "code",
   "execution_count": null,
   "metadata": {},
   "outputs": [],
   "source": [
    "output_conformer = await output_conformer.get()"
   ]
  },
  {
   "cell_type": "markdown",
   "metadata": {},
   "source": [
    "## 1.3) Get PLIP output document\n",
    "PLIP also returns a link to the output document of the results of the PLIP output."
   ]
  },
  {
   "cell_type": "code",
   "execution_count": null,
   "metadata": {},
   "outputs": [],
   "source": [
    "output_txt = await output_txt.get()"
   ]
  }
 ],
 "metadata": {
  "kernelspec": {
   "display_name": ".venv",
   "language": "python",
   "name": "python3"
  },
  "language_info": {
   "codemirror_mode": {
    "name": "ipython",
    "version": 3
   },
   "file_extension": ".py",
   "mimetype": "text/x-python",
   "name": "python",
   "nbconvert_exporter": "python",
   "pygments_lexer": "ipython3",
   "version": "3.11.7"
  }
 },
 "nbformat": 4,
 "nbformat_minor": 2
}
