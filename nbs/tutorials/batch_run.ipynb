{
 "cells": [
  {
   "cell_type": "markdown",
   "id": "e256756e-d77b-40a5-b1a1-a03551c88d00",
   "metadata": {},
   "source": [
    "# Batch Run Example\n",
    "This notebook shows how to load a large amount of data and execute runs on them in parallel"
   ]
  },
  {
   "cell_type": "code",
   "execution_count": null,
   "id": "8d6e5532-10b6-4dee-87ac-6379a6cc1f1a",
   "metadata": {},
   "outputs": [],
   "source": [
    "import json\n",
    "import os\n",
    "import sys\n",
    "import tarfile\n",
    "import asyncio\n",
    "from glob import glob\n",
    "import re\n",
    "from collections import Counter\n",
    "\n",
    "from pdbtools import *\n",
    "import requests\n",
    "from datetime import datetime\n",
    "from pathlib import Path\n",
    "\n",
    "import tengu"
   ]
  },
  {
   "cell_type": "markdown",
   "id": "1a3b72ad-8f0a-4a26-aa14-61fcc07311a0",
   "metadata": {},
   "source": [
    "### 0) Setup"
   ]
  },
  {
   "cell_type": "code",
   "execution_count": null,
   "id": "5707b9d2-c3aa-403b-985f-b1c98f7f31d9",
   "metadata": {},
   "outputs": [],
   "source": [
    "# Set our token - ensure you have exported TENGU_TOKEN in your shell; or just replace the os.getenv with your token\n",
    "TOKEN = os.getenv(\"TENGU_TOKEN\")\n",
    "URL = os.getenv(\"TENGU_URL\")"
   ]
  },
  {
   "cell_type": "code",
   "execution_count": null,
   "id": "11e12831-903d-4a2e-8bbc-68c35f0e6543",
   "metadata": {},
   "outputs": [],
   "source": [
    "# Define our project information\n",
    "DESCRIPTION = \"tengu-py batch notebook\"\n",
    "TAGS = [\"qdx\", \"tengu-py-v2\", \"demo\", \"batch\", \"nogpu\"]\n",
    "WORK_DIR = Path.home() / \"qdx\" / \"tengu-py-batch-demo\"\n",
    "OUT_DIR = WORK_DIR / \"runs\"\n",
    "OUT_DIR.mkdir(parents=True, exist_ok=True)\n",
    "MODULE_LOCK = WORK_DIR / \"lock.json\"\n",
    "\n",
    "# Set our inputs\n",
    "PROTEIN_PDB_PATH = WORK_DIR / \"protein.pdb\"\n",
    "LIGAND_PDB_FOLDER_PATH = WORK_DIR / \"ligands\" # should contain ligands named [name].pdb\n",
    "\n",
    "TARGET=\"GADI\"\n",
    "NUM_GPUS=0"
   ]
  },
  {
   "cell_type": "markdown",
   "id": "f0a06b4d-6d5a-4ef8-8303-9c577a64adb4",
   "metadata": {},
   "source": [
    "## Initialize our tengu client and fetch available module paths"
   ]
  },
  {
   "cell_type": "code",
   "execution_count": null,
   "id": "df8bdaf8-4f65-49b9-b0c5-87ee7641b377",
   "metadata": {},
   "outputs": [],
   "source": [
    "# Get our client, for calling modules and using the tengu API\n",
    "client = tengu.Provider(access_token=TOKEN, url=URL, workspace=WORK_DIR, batch_tags=TAGS)"
   ]
  },
  {
   "cell_type": "code",
   "execution_count": null,
   "id": "1f27e40e-c6a9-43cf-a7a7-489ec31be8e0",
   "metadata": {},
   "outputs": [],
   "source": [
    "# Get our latest modules as a dict[module_name, module_path]\n",
    "# If a lock file exists, load it so that the run is reproducable\n",
    "if MODULE_LOCK.exists():\n",
    "    modules = client.load_module_paths(MODULE_LOCK)\n",
    "else: \n",
    "    modules = await client.get_latest_module_paths()\n",
    "    client.save_module_paths(modules, MODULE_LOCK)"
   ]
  },
  {
   "cell_type": "code",
   "execution_count": null,
   "id": "83380bfa-fc77-4d6e-a081-367248baeb73",
   "metadata": {},
   "outputs": [],
   "source": [
    "fns = await client.get_module_functions()"
   ]
  },
  {
   "cell_type": "markdown",
   "id": "b9ccadd3-1132-4901-bc32-440ab336692a",
   "metadata": {},
   "source": [
    "## For each ligand, start a gmx + gmx_mmpbsa run"
   ]
  },
  {
   "cell_type": "code",
   "execution_count": null,
   "id": "b6af5076-7941-4dae-bf5b-15216b000fce",
   "metadata": {},
   "outputs": [
    {
     "name": "stdout",
     "output_type": "stream",
     "text": [
      "17:34:49.768125 | Running GROMACS MM-PBSA calculation!\n"
     ]
    }
   ],
   "source": [
    "ligands = map(lambda x: Path(x), glob(str(LIGAND_PDB_FOLDER_PATH /\"*.pdb\")))\n",
    "\n",
    "gmx_config = {\n",
    "    \"param_overrides\": {\n",
    "        \"md\": [(\"nsteps\", \"5000\")],\n",
    "        \"em\": [(\"nsteps\", \"1000\")],\n",
    "        \"nvt\": [(\"nsteps\", \"1000\")],\n",
    "        \"npt\": [(\"nsteps\", \"1000\")],\n",
    "        \"ions\": [],\n",
    "    },\n",
    "    \"num_gpus\": NUM_GPUS,\n",
    "    \"num_replicas\": 1,\n",
    "    \"ligand_charge\": None,\n",
    "    \"frame_sel\": {\n",
    "       \"begin_time\": 1,\n",
    "       \"delta_time\": 1,\n",
    "        \"end_time\": 2\n",
    "    },  \n",
    "}\n",
    "gmx_resources = tengu.Resources(gpus= NUM_GPUS, cpus= 48, storage= 2, storage_units= \"GB\", walltime= 60)\n",
    "\n",
    "mmpbsa_config = {\n",
    "    \"start_frame\": 1,\n",
    "    \"end_frame\": 10,\n",
    "    \"num_cpus\": 8,  # cannot be greater than number of frames\n",
    "}\n",
    "\n",
    "mmpbsa_resources = tengu.Resources(storage= 2, storage_units= \"GB\", walltime= 600)\n",
    "\n",
    "gmx_outputs = []\n",
    "mmpbsa_outputs = []\n",
    "for ligand_path in ligands:\n",
    "    name = ligand_path.stem\n",
    "    (gmx_output_tar, wet, dry, gmx_ligand_gro_tar, extra) = await client.gmx_pdb(\n",
    "        PROTEIN_PDB_PATH,\n",
    "        ligand_path,\n",
    "        gmx_config,\n",
    "        target=TARGET,\n",
    "        resources=gmx_resources,\n",
    "        tags= [ name ],\n",
    "        restore = True\n",
    "    )\n",
    "    gmx_outputs.append((name, gmx_output_tar, wet, dry, gmx_ligand_gro_tar))\n",
    "    \n",
    "    (mmpbsa_output_tar,) = await client.gmx_mmpbsa(\n",
    "        gmx_output_tar,\n",
    "        mmpbsa_config,\n",
    "        target=TARGET,\n",
    "        resources=mmpbsa_resources,\n",
    "        tags=[ name ],\n",
    "        restore=True\n",
    "    )\n",
    "    mmpbsa_outputs.append((name, mmpbsa_output_tar))\n",
    "    print(f\"{datetime.now().time()} | Running GROMACS MM-PBSA calculation!\")"
   ]
  },
  {
   "cell_type": "markdown",
   "id": "17dbf8ef-c13e-482b-b03f-e5b71f707af4",
   "metadata": {},
   "source": [
    "## Report progress\n",
    "This will show the status of all of your runs"
   ]
  },
  {
   "cell_type": "code",
   "execution_count": null,
   "id": "a838b7ab-d002-47c3-b937-43607be15c66",
   "metadata": {},
   "outputs": [
    {
     "name": "stdout",
     "output_type": "stream",
     "text": [
      "Module               | Status               | Count\n",
      "--------------------------------------------------\n",
      "gmx_mmpbsa           | RESOLVING            | 2\n",
      "gmx_pdb              | RESOLVING            | 1\n",
      "gmx_pdb              | RUNNING              | 1\n",
      "gmx_mmpbsa           | COMPLETED            | 1\n",
      "gmx_pdb              | COMPLETED            | 3\n"
     ]
    }
   ],
   "source": [
    "status = await client.status(group_by=\"path\")\n",
    "print(f\"{'Module':<20} | {'Status':<20} | Count\")\n",
    "print(\"-\" * 50)\n",
    "for module, (status, path, count) in status.items():\n",
    "    print(f\"{path:<20} | {status:<20} | {count}\")"
   ]
  },
  {
   "cell_type": "markdown",
   "id": "9837c37c-b40c-4f1c-9bda-e28cded66313",
   "metadata": {},
   "source": [
    "## Download Results\n",
    "This will retrieve results for your completed module_instances"
   ]
  },
  {
   "cell_type": "code",
   "execution_count": null,
   "id": "88ab0dcc-5a68-4f36-a3b7-029bde8180bf",
   "metadata": {},
   "outputs": [],
   "source": [
    "await asyncio.gather(*[output[1].download(filename=f\"mmpbsa_{output[0]}.tar.gz\") for output in mmpbsa_outputs])"
   ]
  },
  {
   "cell_type": "markdown",
   "id": "40c0a163-66f3-4a55-9c46-9b7fa0aebc6c",
   "metadata": {},
   "source": [
    "## Check failures\n",
    "This will retrieve failed runs in your workspace history"
   ]
  },
  {
   "cell_type": "code",
   "execution_count": null,
   "id": "fa2549ca-2297-49dc-9c17-fe8219d0138a",
   "metadata": {},
   "outputs": [],
   "source": [
    "for (instance_id, (status,name,count)) in (await client.status()).items():\n",
    "    if status.value == \"FAILED\":\n",
    "        async for log_page in client.logs(instance_id, \"stderr\"):\n",
    "            for log in log_page:\n",
    "                print(log)"
   ]
  }
 ],
 "metadata": {
  "kernelspec": {
   "display_name": "python3",
   "language": "python",
   "name": "python3"
  }
 },
 "nbformat": 4,
 "nbformat_minor": 5
}
