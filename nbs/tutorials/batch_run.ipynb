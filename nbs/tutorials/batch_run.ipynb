{
 "cells": [
  {
   "cell_type": "markdown",
   "id": "639377c9",
   "metadata": {},
   "source": [
    "# Batch Run Example\n",
    "This notebook shows how to load a large amount of data and execute runs on them in parallel"
   ]
  },
  {
   "cell_type": "code",
   "execution_count": null,
   "id": "f8231f8f",
   "metadata": {},
   "outputs": [],
   "source": [
    "import os\n",
    "import asyncio\n",
    "from glob import glob\n",
    "\n",
    "from datetime import datetime\n",
    "from pathlib import Path\n",
    "\n",
    "import tengu"
   ]
  },
  {
   "cell_type": "markdown",
   "id": "a9278afa",
   "metadata": {},
   "source": [
    "### 0) Setup"
   ]
  },
  {
   "cell_type": "code",
   "execution_count": null,
   "id": "62b2f2d2",
   "metadata": {},
   "outputs": [],
   "source": [
    "# Set our token - ensure you have exported TENGU_TOKEN in your shell; or just replace the os.getenv with your token\n",
    "TOKEN = os.getenv(\"TENGU_TOKEN\")\n",
    "URL = os.getenv(\"TENGU_URL\")"
   ]
  },
  {
   "cell_type": "code",
   "execution_count": null,
   "id": "c4a3373c",
   "metadata": {},
   "outputs": [],
   "source": [
    "# Define our project information\n",
    "DESCRIPTION = \"tengu-py batch notebook\"\n",
    "TAGS = [\"qdx\", \"tengu-py-v2\", \"demo\", \"batch\", \"nogpu\"]\n",
    "WORK_DIR = Path.home() / \"qdx\" / \"tengu-py-batch-demo\"\n",
    "\n",
    "# Set our inputs\n",
    "PROTEIN_PDB_PATH = WORK_DIR / \"protein.pdb\"\n",
    "LIGAND_PDB_FOLDER_PATH = WORK_DIR / \"ligands\"  # should contain ligands named [name].pdb\n",
    "\n",
    "TARGET = \"GADI\"\n",
    "NUM_GPUS = 0"
   ]
  },
  {
   "cell_type": "markdown",
   "id": "71f268a3",
   "metadata": {},
   "source": [
    "## Initialize our tengu client and fetch available module paths"
   ]
  },
  {
   "cell_type": "code",
   "execution_count": null,
   "id": "bb7fef23",
   "metadata": {},
   "outputs": [
    {
     "name": "stdout",
     "output_type": "stream",
     "text": [
      "building for  github:talo/tengu-prelude/083e958d64e9e716754f76560bd3e60557e6a691#hermes_binding\n",
      "building for  github:talo/gmx_tengu_support/68cfc9dc1533bd54dfa21b346642410ff0fce570#gmx_frame_select_pdb\n",
      "building for  github:talo/gmx_tengu_support/a15ebf3e86b779203b463193c0ecc025c9f916df#gmx_frame_select\n",
      "building for  github:talo/gmx_tengu_support/d4ea797dcdedf9b91de1b76a32f8a95f0cbf21df#gmx_mmpbsa_tengu\n",
      "building for  github:talo/tengu-module-example/b334a851530033b79762c3341bf584f8939feee1#tengu_echo\n",
      "building for  github:talo/tengu-module-example/b334a851530033b79762c3341bf584f8939feee1#spam\n",
      "building for  github:talo/tengu-module-example/b334a851530033b79762c3341bf584f8939feee1#delay\n",
      "building for  github:talo/tengu-module-flake-parts/b6afd5abb624fed203990045927d381cefc6ef04#dummy\n",
      "building for  github:talo/gmx_tengu_support/a473bc4a302eebebcb5f54a899192be75c0daa91#gmx_tengu_pdb\n",
      "building for  github:talo/gmx_tengu_support/a473bc4a302eebebcb5f54a899192be75c0daa91#gmx_tengu\n",
      "building for  github:talo/gmx_tengu_support/e36ef0823a083d16d8bd0a36f57aef1bc8735c8d#gmx_em\n",
      "building for  github:talo/gypsum_dl/04acd1852cb3e2c8d0347e15763926fdf9a93a5d#prepare_ligand_tengu\n",
      "building for  github:talo/pdb2pqr/6a0c4b2cf6d42f53d1cc889f3926b7e0ab8d1552#prepare_protein_tengu\n",
      "building for  github:talo/pdb2pqr/6a0c4b2cf6d42f53d1cc889f3926b7e0ab8d1552#pdb2pqr_tengu\n",
      "building for  github:talo/tengu-prelude/b624dbe6f9ccb7ccc417d52cdc3dd251de76b604#hermes_lattice\n",
      "building for  github:talo/tengu-prelude/b624dbe6f9ccb7ccc417d52cdc3dd251de76b604#qp_gen_inputs\n",
      "building for  github:talo/tengu-prelude/b624dbe6f9ccb7ccc417d52cdc3dd251de76b604#qp_collate\n",
      "building for  github:talo/tengu-prelude/9b0c89cbd3b7541b6d700ccf66bbdf9e4c82b630#pick_conformer\n",
      "building for  github:talo/tengu-prelude/9b0c89cbd3b7541b6d700ccf66bbdf9e4c82b630#pdbfixer\n",
      "building for  github:talo/tengu-prelude/9b0c89cbd3b7541b6d700ccf66bbdf9e4c82b630#hermes_energy\n",
      "building for  github:talo/tengu-prelude/9b0c89cbd3b7541b6d700ccf66bbdf9e4c82b630#convert\n",
      "building for  github:talo/tengu-prelude/9b0c89cbd3b7541b6d700ccf66bbdf9e4c82b630#concat\n"
     ]
    }
   ],
   "source": [
    "# Get our client, for calling modules and using the tengu API\n",
    "client = await tengu.build_provider_with_functions(\n",
    "    access_token=TOKEN, url=URL, workspace=WORK_DIR, batch_tags=TAGS\n",
    ")"
   ]
  },
  {
   "cell_type": "markdown",
   "id": "548848f3",
   "metadata": {},
   "source": [
    "## For each ligand, start a gmx + gmx_mmpbsa run"
   ]
  },
  {
   "cell_type": "code",
   "execution_count": null,
   "id": "ee7ea076",
   "metadata": {},
   "outputs": [
    {
     "name": "stdout",
     "output_type": "stream",
     "text": [
      "10:44:52.263820 | Running GROMACS MM-PBSA calculation!\n"
     ]
    }
   ],
   "source": [
    "ligands = map(lambda x: Path(x), glob(str(LIGAND_PDB_FOLDER_PATH / \"*.pdb\")))\n",
    "\n",
    "gmx_config = {\n",
    "    \"param_overrides\": {\n",
    "        \"md\": [(\"nsteps\", \"5000\")],\n",
    "        \"em\": [(\"nsteps\", \"1000\")],\n",
    "        \"nvt\": [(\"nsteps\", \"1000\")],\n",
    "        \"npt\": [(\"nsteps\", \"1000\")],\n",
    "        \"ions\": [],\n",
    "    },\n",
    "    \"num_gpus\": NUM_GPUS,\n",
    "    \"num_replicas\": 1,\n",
    "    \"ligand_charge\": None,\n",
    "    \"frame_sel\": {\"begin_time\": 1, \"delta_time\": 1, \"end_time\": 2},\n",
    "}\n",
    "gmx_resources = tengu.Resources(gpus=NUM_GPUS, cpus=48, storage=2, storage_units=\"GB\", walltime=60)\n",
    "\n",
    "mmpbsa_config = {\n",
    "    \"start_frame\": 1,\n",
    "    \"end_frame\": 10,\n",
    "    \"num_cpus\": 8,  # cannot be greater than number of frames\n",
    "}\n",
    "\n",
    "mmpbsa_resources = tengu.Resources(storage=2, storage_units=\"GB\", walltime=600)\n",
    "\n",
    "gmx_outputs = []\n",
    "mmpbsa_outputs = []\n",
    "for ligand_path in ligands:\n",
    "    name = ligand_path.stem\n",
    "    (gmx_output_tar, wet, dry, gmx_ligand_gro_tar, extra) = await client.gmx_pdb(\n",
    "        PROTEIN_PDB_PATH,\n",
    "        ligand_path,\n",
    "        gmx_config,\n",
    "        target=TARGET,\n",
    "        resources=gmx_resources,\n",
    "        tags=[name],\n",
    "        restore=True,\n",
    "    )\n",
    "    gmx_outputs.append((name, gmx_output_tar, wet, dry, gmx_ligand_gro_tar))\n",
    "\n",
    "    (mmpbsa_output_tar,) = await client.gmx_mmpbsa(\n",
    "        gmx_output_tar, mmpbsa_config, target=TARGET, resources=mmpbsa_resources, tags=[name], restore=True\n",
    "    )\n",
    "    mmpbsa_outputs.append((name, mmpbsa_output_tar))\n",
    "    print(f\"{datetime.now().time()} | Running GROMACS MM-PBSA calculation!\")"
   ]
  },
  {
   "cell_type": "markdown",
   "id": "e77048a2",
   "metadata": {},
   "source": [
    "## Report progress\n",
    "This will show the status of all of your runs"
   ]
  },
  {
   "cell_type": "code",
   "execution_count": null,
   "id": "12c11d86",
   "metadata": {},
   "outputs": [
    {
     "name": "stdout",
     "output_type": "stream",
     "text": [
      "Module               | Status               | Count\n",
      "--------------------------------------------------\n",
      "gmx_mmpbsa           | COMPLETED            | 3\n",
      "gmx_pdb              | COMPLETED            | 5\n"
     ]
    }
   ],
   "source": [
    "status = await client.status(group_by=\"path\")\n",
    "print(f\"{'Module':<20} | {'Status':<20} | Count\")\n",
    "print(\"-\" * 50)\n",
    "for module, (status, path, count) in status.items():\n",
    "    print(f\"{path:<20} | {status:<20} | {count}\")"
   ]
  },
  {
   "cell_type": "markdown",
   "id": "592df1bd",
   "metadata": {},
   "source": [
    "## Download Results\n",
    "This will retrieve results for your completed module_instances"
   ]
  },
  {
   "cell_type": "code",
   "execution_count": null,
   "id": "30bdba39",
   "metadata": {},
   "outputs": [
    {
     "data": {
      "text/plain": [
       "[None]"
      ]
     },
     "execution_count": null,
     "metadata": {},
     "output_type": "execute_result"
    }
   ],
   "source": [
    "await asyncio.gather(\n",
    "    *[output[1].download(filename=f\"mmpbsa_{output[0]}.tar.gz\") for output in mmpbsa_outputs]\n",
    ")"
   ]
  },
  {
   "cell_type": "markdown",
   "id": "ce0205d1",
   "metadata": {},
   "source": [
    "## Check failures\n",
    "This will retrieve failed runs in your workspace history"
   ]
  },
  {
   "cell_type": "code",
   "execution_count": null,
   "id": "689a542f",
   "metadata": {},
   "outputs": [],
   "source": [
    "for instance_id, (status, name, count) in (await client.status()).items():\n",
    "    if status.value == \"FAILED\":\n",
    "        async for log_page in client.logs(instance_id, \"stderr\"):\n",
    "            for log in log_page:\n",
    "                print(log)"
   ]
  }
 ],
 "metadata": {
  "kernelspec": {
   "display_name": "python3",
   "language": "python",
   "name": "python3"
  }
 },
 "nbformat": 4,
 "nbformat_minor": 5
}
