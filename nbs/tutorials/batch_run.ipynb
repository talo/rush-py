{
 "cells": [
  {
   "cell_type": "markdown",
   "id": "e256756e-d77b-40a5-b1a1-a03551c88d00",
   "metadata": {},
   "source": [
    "# Batch Run Example\n",
    "This notebook shows how to load a large amount of data and execute runs on them in parallel"
   ]
  },
  {
   "cell_type": "code",
   "execution_count": null,
   "id": "8d6e5532-10b6-4dee-87ac-6379a6cc1f1a",
   "metadata": {},
   "outputs": [],
   "source": [
    "import json\n",
    "import os\n",
    "import sys\n",
    "import tarfile\n",
    "from glob import glob\n",
    "import re\n",
    "from collections import Counter\n",
    "\n",
    "from pdbtools import *\n",
    "import requests\n",
    "from datetime import datetime\n",
    "from pathlib import Path\n",
    "\n",
    "import tengu"
   ]
  },
  {
   "cell_type": "markdown",
   "id": "1a3b72ad-8f0a-4a26-aa14-61fcc07311a0",
   "metadata": {},
   "source": [
    "### 0) Setup"
   ]
  },
  {
   "cell_type": "code",
   "execution_count": null,
   "id": "5707b9d2-c3aa-403b-985f-b1c98f7f31d9",
   "metadata": {},
   "outputs": [],
   "source": [
    "# Set our token - ensure you have exported TENGU_TOKEN in your shell; or just replace the os.getenv with your token\n",
    "TOKEN = os.getenv(\"TENGU_TOKEN\")\n",
    "URL = os.getenv(\"TENGU_URL\")"
   ]
  },
  {
   "cell_type": "code",
   "execution_count": null,
   "id": "df8bdaf8-4f65-49b9-b0c5-87ee7641b377",
   "metadata": {},
   "outputs": [],
   "source": [
    "# Get our client, for calling modules and using the tengu API\n",
    "client = tengu.Provider(access_token=TOKEN, url=URL)"
   ]
  },
  {
   "cell_type": "code",
   "execution_count": null,
   "id": "11e12831-903d-4a2e-8bbc-68c35f0e6543",
   "metadata": {},
   "outputs": [],
   "source": [
    "# Define our project information\n",
    "DESCRIPTION = \"tengu-py batch notebook\"\n",
    "TAGS = [\"qdx\", \"tengu-py\", \"demo\", \"batch\", \"nogpu\"]\n",
    "WORK_DIR = Path.home() / \"qdx\" / \"tengu-py-batch-demo\"\n",
    "OUT_DIR = WORK_DIR / \"runs\"\n",
    "OUT_DIR.mkdir(parents=True, exist_ok=True)\n",
    "MODULE_LOCK = WORK_DIR / \"lock.json\"\n",
    "\n",
    "# Set our inputs\n",
    "PROTEIN_PDB_PATH = WORK_DIR / \"protein.pdb\"\n",
    "LIGAND_PDB_FOLDER_PATH = WORK_DIR / \"ligands\" # should contain ligands named [name].pdb\n",
    "\n",
    "TARGET=\"GADI\"\n",
    "NUM_GPUS=0"
   ]
  },
  {
   "cell_type": "markdown",
   "id": "f0a06b4d-6d5a-4ef8-8303-9c577a64adb4",
   "metadata": {},
   "source": [
    "## Initialize our tengu client and fetch available module paths"
   ]
  },
  {
   "cell_type": "code",
   "execution_count": null,
   "id": "dea671c3-0399-4311-a136-bacc2a5f00b0",
   "metadata": {},
   "outputs": [],
   "source": [
    "# Get our client, for calling modules and using the tengu API\n",
    "client = tengu.Provider(access_token=TOKEN, url=URL)"
   ]
  },
  {
   "cell_type": "code",
   "execution_count": null,
   "id": "1f27e40e-c6a9-43cf-a7a7-489ec31be8e0",
   "metadata": {},
   "outputs": [],
   "source": [
    "# Get our latest modules as a dict[module_name, module_path]\n",
    "# If a lock file exists, load it so that the run is reproducable\n",
    "if MODULE_LOCK.exists():\n",
    "    modules = client.load_module_paths(MODULE_LOCK)\n",
    "else: \n",
    "    modules = client.get_latest_module_paths()\n",
    "    client.save_module_paths(modules, MODULE_LOCK)"
   ]
  },
  {
   "cell_type": "markdown",
   "id": "b9ccadd3-1132-4901-bc32-440ab336692a",
   "metadata": {},
   "source": [
    "## For each ligand, start a gmx + gmx_mmpbsa run"
   ]
  },
  {
   "cell_type": "code",
   "execution_count": null,
   "id": "b6af5076-7941-4dae-bf5b-15216b000fce",
   "metadata": {},
   "outputs": [],
   "source": [
    "ligands = map(lambda x: Path(x), glob(str(LIGAND_PDB_FOLDER_PATH /\"*.pdb\")))\n",
    "\n",
    "gmx_config = {\n",
    "    \"param_overrides\": {\n",
    "        \"md\": [(\"nsteps\", \"5000\")],\n",
    "        \"em\": [(\"nsteps\", \"1000\")],\n",
    "        \"nvt\": [(\"nsteps\", \"1000\")],\n",
    "        \"npt\": [(\"nsteps\", \"1000\")],\n",
    "        \"ions\": [],\n",
    "    },\n",
    "    \"num_gpus\": NUM_GPUS,\n",
    "    \"num_replicas\": 1,\n",
    "    \"ligand_charge\": None,\n",
    "    \"frame_sel\": {\n",
    "       \"begin_time\": 1,\n",
    "       \"delta_time\": 1,\n",
    "        \"end_time\": 2\n",
    "    },  \n",
    "}\n",
    "gmx_resources = {\"gpus\": NUM_GPUS, \"cpus\": 48, \"storage\": 2, \"storage_units\": \"GB\", \"walltime\": 60}\n",
    "\n",
    "mmpbsa_config = {\n",
    "    \"start_frame\": 1,\n",
    "    \"end_frame\": 10,\n",
    "    \"num_cpus\": 8,  # cannot be greater than number of frames\n",
    "}\n",
    "\n",
    "mmpbsa_resources = {\"storage\": 2, \"storage_units\": \"GB\", \"walltime\": 600}\n",
    "\n",
    "for ligand_path in ligands:\n",
    "    name = ligand_path.stem\n",
    "    gmx_result = client.run2(\n",
    "        modules[\"gmx_tengu_pdb\"],\n",
    "        [\n",
    "            PROTEIN_PDB_PATH,\n",
    "            ligand_path,\n",
    "            gmx_config,\n",
    "        ],\n",
    "        target=TARGET,\n",
    "        resources=gmx_resources,\n",
    "        tags=TAGS + [ name ],\n",
    "        restore = True\n",
    "    )\n",
    "    gmx_run_id = gmx_result[\"module_instance_id\"]\n",
    "    gmx_output_id = gmx_result[\"output_ids\"][0]\n",
    "    gmx_ligand_gro_id = gmx_result[\"output_ids\"][3]\n",
    "    \n",
    "    # save gmx run ids\n",
    "    with open(OUT_DIR / f\"02-gmx-{name}-{gmx_run_id}.json\", \"w\") as f:\n",
    "        json.dump(gmx_result, f, default=str, indent=2)\n",
    "    \n",
    "    mmpbsa_result = client.run2(\n",
    "        modules[\"gmx_mmpbsa_tengu\"],\n",
    "        [\n",
    "            gmx_output_id,\n",
    "            mmpbsa_config,\n",
    "        ],\n",
    "        target=TARGET,\n",
    "        resources=mmpbsa_resources,\n",
    "        tags=TAGS + [name],\n",
    "        restore=True\n",
    "    )\n",
    "    mmpbsa_run_id = mmpbsa_result[\"module_instance_id\"]\n",
    "    mmpbsa_output_id = mmpbsa_result[\"output_ids\"][0]\n",
    "    print(f\"{datetime.now().time()} | Running GROMACS MM-PBSA calculation!\")\n",
    "    \n",
    "    # save gmx_mmpbsq run ids\n",
    "    with open(OUT_DIR / f\"03-mmpbsa-{name}-{mmpbsa_run_id}.json\", \"w\") as f:\n",
    "        json.dump(mmpbsa_result, f, default=str, indent=2)"
   ]
  },
  {
   "cell_type": "markdown",
   "id": "17dbf8ef-c13e-482b-b03f-e5b71f707af4",
   "metadata": {},
   "source": [
    "## Report progres\n",
    "This will show the status of all of your runs"
   ]
  },
  {
   "cell_type": "code",
   "execution_count": null,
   "id": "a838b7ab-d002-47c3-b937-43607be15c66",
   "metadata": {},
   "outputs": [],
   "source": [
    "instance_pages = client.module_instances(tags=TAGS)\n",
    "instances = [instance for page in instance_pages for instance in page]\n",
    "c = Counter([(instance[\"status\"], instance[\"path\"].split(\"#\")[1]) for instance in instances])\n",
    "print(f\"{'Module':<10} | {'Status':<20} | Count\")\n",
    "print(\"-\" * 50)\n",
    "for (module, status), count in c.items():\n",
    "    print(f\"{module:<10} | {status:<20} | {count}\")"
   ]
  },
  {
   "cell_type": "markdown",
   "id": "9837c37c-b40c-4f1c-9bda-e28cded66313",
   "metadata": {},
   "source": [
    "## Download Results\n",
    "This will retrieve results for your completed module_instances"
   ]
  },
  {
   "cell_type": "code",
   "execution_count": null,
   "id": "88ab0dcc-5a68-4f36-a3b7-029bde8180bf",
   "metadata": {},
   "outputs": [],
   "source": [
    "completed_instance_pages = client.module_instances(tags=TAGS, status=\"COMPLETED\")\n",
    "completed_instances = [instance for page in completed_instance_pages for instance in page]\n",
    "for instance in completed_instances:\n",
    "    id = instance[\"id\"]\n",
    "    print(f\"{id} completed!\")\n",
    "    if instance[\"path\"].split(\"#\")[1] == \"gmx_mmpbsa_tengu\":\n",
    "        # get name of ligand\n",
    "        run_file = list(glob(f\"{OUT_DIR}/03-mmpbsa-*-{id}.json\"))[0]\n",
    "        regex_pattern = rf\"{OUT_DIR}/03-mmpbsa-([^-]*)-{id}\\.json\"\n",
    "        match = re.search(regex_pattern, run_file)\n",
    "        if match:\n",
    "            name = match.group(1)\n",
    "            client.download_object(mmpbsa_output_id, OUT_DIR / f\"03-mmpbsa-output-{name}-{id}.tar.gz\")\n",
    "            print(f\"{datetime.now().time()} | Downloaded MM-PBSA results for {name}-{id}!\")\n",
    "        else:\n",
    "            tags = instance[\"tags\"]\n",
    "            print(f\"{datetime.now().time()} | Failed to find run file for mmpbsa results with tags {tags}!\")"
   ]
  },
  {
   "cell_type": "markdown",
   "id": "40c0a163-66f3-4a55-9c46-9b7fa0aebc6c",
   "metadata": {},
   "source": [
    "## Check failures\n",
    "This will retrieve failed runs with your specified tags"
   ]
  },
  {
   "cell_type": "code",
   "execution_count": null,
   "id": "fa2549ca-2297-49dc-9c17-fe8219d0138a",
   "metadata": {},
   "outputs": [],
   "source": [
    "failed_instance_pages = client.module_instances(tags=TAGS, status=\"FAILED\")\n",
    "failed_instances = [instance for page in failed_instance_pages for instance in page]\n",
    "for instance in failed_instances:\n",
    "    id = instance[\"id\"]\n",
    "    module_name = instance[\"path\"].split(\"#\")[1]\n",
    "    print(f\"{name}: {id}  failed!\")\n",
    "    stderr_logs = str.join(\"\\n\", [line for node in client.module_instance(id)[\"stderr\"][\"nodes\"] for line in node[\"content\"]])\n",
    "    print(stderr_logs)\n",
    "    stdout_logs = str.join(\"\\n\", [line for node in client.module_instance(id)[\"stdout\"][\"nodes\"] for line in node[\"content\"]])\n",
    "    print(stdout_logs)\n"
   ]
  },
  {
   "cell_type": "code",
   "execution_count": null,
   "id": "38fff201-7a08-4bb7-8e56-c8de889e8ecf",
   "metadata": {},
   "outputs": [],
   "source": []
  }
 ],
 "metadata": {
  "kernelspec": {
   "display_name": "python3",
   "language": "python",
   "name": "python3"
  }
 },
 "nbformat": 4,
 "nbformat_minor": 5
}
