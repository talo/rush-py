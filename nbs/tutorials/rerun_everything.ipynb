{
 "cells": [
  {
   "cell_type": "markdown",
   "id": "056d6e12-7dc9-4e58-bd4d-e4c417177ee8",
   "metadata": {},
   "source": [
    "# Integration test to check that all latest modules run"
   ]
  },
  {
   "cell_type": "code",
   "execution_count": null,
   "id": "56241c0a-94d0-42cb-9d13-7e126559e2bc",
   "metadata": {},
   "outputs": [],
   "source": [
    "import json\n",
    "import os\n",
    "import sys\n",
    "import tarfile\n",
    "from glob import glob\n",
    "import re\n",
    "\n",
    "from collections import Counter\n",
    "import requests\n",
    "from datetime import datetime\n",
    "from pathlib import Path\n",
    "\n",
    "import tengu"
   ]
  },
  {
   "cell_type": "markdown",
   "id": "c277b638-4627-41ce-bc16-b0f34257f7f9",
   "metadata": {},
   "source": [
    "### 0) Setup"
   ]
  },
  {
   "cell_type": "code",
   "execution_count": null,
   "id": "20fe8855-0e9f-4ff0-9890-988f4bd1634a",
   "metadata": {},
   "outputs": [],
   "source": [
    "# Set our token - ensure you have exported TENGU_TOKEN in your shell; or just replace the os.getenv with your token\n",
    "TOKEN = os.getenv(\"TENGU_TOKEN\")\n",
    "URL = os.getenv(\"TENGU_URL\")"
   ]
  },
  {
   "cell_type": "code",
   "execution_count": null,
   "id": "5bd55550-6817-4c29-87e3-7d010930fbe9",
   "metadata": {},
   "outputs": [],
   "source": [
    "# Get our client, for calling modules and using the tengu API\n",
    "client = tengu.Provider(access_token=TOKEN, url=URL)"
   ]
  },
  {
   "cell_type": "code",
   "execution_count": null,
   "id": "2dd8566a-55a2-4063-8258-b4dbfd500085",
   "metadata": {},
   "outputs": [],
   "source": [
    "modules = client.get_latest_module_paths()"
   ]
  },
  {
   "cell_type": "code",
   "execution_count": null,
   "id": "1fa9ce93-4052-4f47-afcd-a7f263a6e169",
   "metadata": {},
   "outputs": [
    {
     "data": {
      "text/plain": [
       "{'hermes_binding': 'github:talo/tengu-prelude/083e958d64e9e716754f76560bd3e60557e6a691#hermes_binding',\n",
       " 'gmx_frame_select_pdb': 'github:talo/gmx_tengu_support/68cfc9dc1533bd54dfa21b346642410ff0fce570#gmx_frame_select_pdb',\n",
       " 'gmx_frame_select': 'github:talo/gmx_tengu_support/a15ebf3e86b779203b463193c0ecc025c9f916df#gmx_frame_select',\n",
       " 'gmx_mmpbsa_tengu': 'github:talo/gmx_tengu_support/d4ea797dcdedf9b91de1b76a32f8a95f0cbf21df#gmx_mmpbsa_tengu',\n",
       " 'tengu_echo': 'github:talo/tengu-module-example/b334a851530033b79762c3341bf584f8939feee1#tengu_echo',\n",
       " 'spam': 'github:talo/tengu-module-example/b334a851530033b79762c3341bf584f8939feee1#spam',\n",
       " 'delay': 'github:talo/tengu-module-example/b334a851530033b79762c3341bf584f8939feee1#delay',\n",
       " 'dummy': 'github:talo/tengu-module-flake-parts/b6afd5abb624fed203990045927d381cefc6ef04#dummy',\n",
       " 'gmx_tengu_pdb': 'github:talo/gmx_tengu_support/a473bc4a302eebebcb5f54a899192be75c0daa91#gmx_tengu_pdb',\n",
       " 'gmx_tengu': 'github:talo/gmx_tengu_support/a473bc4a302eebebcb5f54a899192be75c0daa91#gmx_tengu',\n",
       " 'gmx_em': 'github:talo/gmx_tengu_support/e36ef0823a083d16d8bd0a36f57aef1bc8735c8d#gmx_em',\n",
       " 'prepare_ligand_tengu': 'github:talo/gypsum_dl/04acd1852cb3e2c8d0347e15763926fdf9a93a5d#prepare_ligand_tengu',\n",
       " 'prepare_protein_tengu': 'github:talo/pdb2pqr/6a0c4b2cf6d42f53d1cc889f3926b7e0ab8d1552#prepare_protein_tengu',\n",
       " 'pdb2pqr_tengu': 'github:talo/pdb2pqr/6a0c4b2cf6d42f53d1cc889f3926b7e0ab8d1552#pdb2pqr_tengu',\n",
       " 'hermes_lattice': 'github:talo/tengu-prelude/b624dbe6f9ccb7ccc417d52cdc3dd251de76b604#hermes_lattice',\n",
       " 'qp_gen_inputs': 'github:talo/tengu-prelude/b624dbe6f9ccb7ccc417d52cdc3dd251de76b604#qp_gen_inputs',\n",
       " 'qp_collate': 'github:talo/tengu-prelude/b624dbe6f9ccb7ccc417d52cdc3dd251de76b604#qp_collate',\n",
       " 'pick_conformer': 'github:talo/tengu-prelude/9b0c89cbd3b7541b6d700ccf66bbdf9e4c82b630#pick_conformer',\n",
       " 'pdbfixer': 'github:talo/tengu-prelude/9b0c89cbd3b7541b6d700ccf66bbdf9e4c82b630#pdbfixer',\n",
       " 'hermes_energy': 'github:talo/tengu-prelude/9b0c89cbd3b7541b6d700ccf66bbdf9e4c82b630#hermes_energy',\n",
       " 'convert': 'github:talo/tengu-prelude/9b0c89cbd3b7541b6d700ccf66bbdf9e4c82b630#convert',\n",
       " 'concat': 'github:talo/tengu-prelude/9b0c89cbd3b7541b6d700ccf66bbdf9e4c82b630#concat'}"
      ]
     },
     "execution_count": null,
     "metadata": {},
     "output_type": "execute_result"
    }
   ],
   "source": [
    "modules"
   ]
  },
  {
   "cell_type": "code",
   "execution_count": null,
   "id": "ce0978bb-923e-4401-8546-34ff21414264",
   "metadata": {},
   "outputs": [],
   "source": [
    "deploy_instances = [next(client.module_instances(tags=[\"deploy\"], path=path, status=\"COMPLETED\")) for path in modules.values()]"
   ]
  },
  {
   "cell_type": "code",
   "execution_count": null,
   "id": "e1d19fdc-bea5-43ea-aeda-8e5ad8d62176",
   "metadata": {},
   "outputs": [
    {
     "name": "stdout",
     "output_type": "stream",
     "text": [
      "retrying 3ac69002-d2b8-41ea-a3bc-1d1eef2d3d8f as b2ed1d51-5c15-4615-8234-d12af7af53f7\n",
      "retrying ad61f484-6f68-4d9a-8680-2f281309608c as 89195eea-892c-4815-bb0a-71ca8c24b586\n",
      "retrying cc0800c8-d3a0-4165-a826-1a2f93e9e8ac as a2683ef6-6880-4b51-b67e-648274cfa8b3\n",
      "retrying fc4c034b-f5eb-453f-9ddb-1a81f991d5db as f856ab01-3446-4063-83c6-60fcd3497274\n",
      "retrying 2b1e8c7b-5c4f-4f4d-93f5-c27d1526c61a as 67643642-2077-49f9-a807-0123a49ea0a5\n",
      "retrying 078333b9-9a9c-4b64-9ad9-465d94eb0e88 as a008a5be-e321-4298-8640-2f2d44bda70e\n",
      "retrying d1ff0f82-df6e-4ee2-885a-a0993d985a2b as 4c73318d-64f1-42d4-827a-c7c04cdd6ef8\n",
      "retrying 985f5084-f6c6-4451-8ef1-cdebed4ca65a as ac81b85f-c6b1-44d8-af79-e731ef987fe1\n",
      "retrying c7cd81ef-b83c-4fa4-a872-4b1e31d28c48 as 1bd51a60-f5e4-4f3b-9cdf-309ed254b316\n",
      "retrying 693355fc-a2ee-4d39-8662-ce1b3b9d85d9 as ec3e7125-6723-4e95-9361-ec1327bbd674\n",
      "retrying f76e1733-d459-4756-a9a2-17d3184c95cb as 09698d0e-02fa-430f-bb2a-097cd2ab65d5\n",
      "retrying 8ab4306c-72f4-4cfc-98da-6474860d2cb0 as c74d4742-4ea5-44d0-bccd-2529c5e9809e\n",
      "retrying cd6025a4-5fc2-452d-a75b-5f9451804d6c as 79c534f6-625c-4483-82bc-552a26f0ad0f\n",
      "retrying 046c4e8a-bc69-4501-b4d1-de6d6b2443ee as 6104d289-5b98-403c-918e-22d0e0488341\n",
      "retrying ac3f4bf0-c57b-4c3e-8dca-4b92a4befcaf as 9791c85d-81b7-40da-93c3-ac588d2b064f\n",
      "retrying 1a30416b-616c-4fad-88ca-bd5b8e38b8d0 as 79536fe7-f356-418d-b19a-e3196be37e2c\n",
      "retrying a260942e-e614-4517-8151-17a21cbc9377 as 204c6620-4911-4c27-8c50-c4d3f548af25\n",
      "retrying bcdcd031-ca97-4c5d-9767-68f686f6b545 as 9044f648-d0d8-47a4-b4b5-42bb8874abb3\n",
      "retrying fcb1d206-4afe-4969-9833-684d4846a8cd as 180be420-5cb9-486a-a688-73db747c4170\n",
      "retrying a5bca56d-f855-440f-8164-a436929ba2f7 as e1bbf911-6bce-41f3-a310-a28469991923\n",
      "retrying 0f3a1333-4274-44f0-b158-e0ae9e429a16 as 0f9c380e-5fdc-4bea-83ae-0426099a1f77\n",
      "retrying 11662aa2-50dc-423c-bfa7-6dfcbf0a0a48 as c48f9f9c-e6a5-4823-92c2-82d5f4975f8c\n",
      "retrying 49c3db29-086e-4b36-b0ad-75e3b28fcde7 as 850e95e2-e23f-45a6-856a-023b07bd9db9\n",
      "retrying 9a834e51-30a6-4beb-977e-daf4ab9513cb as 79f73f71-28d8-4acc-a3ea-4a667cafdc04\n",
      "retrying 37071bfc-9b7c-4867-a45e-7f6eec4a1b4b as 5011ebbc-52bf-46d8-9b7d-350a0fe0ccb9\n",
      "retrying debb99d3-8cf6-4b0f-b8b0-8a64839d81f5 as 28d04403-175b-4ec8-979e-4e50a9f39d10\n",
      "retrying 37023535-a4b8-4833-8322-c4260bd1b851 as 9dacaafe-aa9a-44dd-99ac-3ea8dad32364\n",
      "retrying c9194c70-abed-4917-9805-f51bff5604cc as 1c7f9aa8-3c96-41c9-88e8-5d72b05e9ec8\n",
      "retrying 368d7450-20a1-4fca-a3ec-fd0c3a73f22f as 7251f244-4677-42b8-99eb-cbaca20aa7df\n",
      "retrying 80bb8601-641d-4eec-baec-df0f6945b55e as 5fbe73c3-c5ce-407b-ac37-7bbebe6d81ad\n",
      "retrying bc9dccae-2207-4900-8281-34a00a3189af as dc9c8cb8-490e-45f7-a2e9-4d9faf088208\n",
      "retrying 7e31732b-6c43-44f5-8e22-f5f2645d4838 as 36dceb4a-5ff6-4173-b7b7-eb6b80c5ff75\n",
      "retrying 304b8a34-953e-426e-9dd1-b8719de57a5d as 8a0f6ef5-6848-4ce4-b6ee-f9a186b125c4\n",
      "retrying d23babc8-add2-41e7-945c-920e06415d44 as c17320d8-0ed6-433e-82c1-a4c9e9657c66\n"
     ]
    }
   ],
   "source": [
    "for instance_set in deploy_instances:\n",
    "    for instance in instance_set:\n",
    "        if not \"retry\" in str.join(\"\", instance[\"tags\"]):\n",
    "            retry = client.retry(instance[\"id\"])\n",
    "            print(\"retrying\", instance[\"id\"], \"as\", retry)"
   ]
  },
  {
   "cell_type": "code",
   "execution_count": null,
   "id": "2772f8ed-1d98-471a-82dd-9645dc410971",
   "metadata": {},
   "outputs": [],
   "source": [
    "retry_instances = [next(client.module_instances(tags=[\"deploy\", \"retry_0\"], path=path)) for path in modules.values()]"
   ]
  },
  {
   "cell_type": "code",
   "execution_count": null,
   "id": "45382253-5d20-4be7-870a-4ca26031143c",
   "metadata": {},
   "outputs": [
    {
     "name": "stdout",
     "output_type": "stream",
     "text": [
      "Module     | Status               | Target               | Count\n",
      "--------------------------------------------------\n",
      "COMPLETED  | hermes_binding       | NIX_SSH_GPU          | 2\n",
      "COMPLETED  | hermes_binding       | NIX_SSH              | 3\n",
      "QUEUED     | gmx_frame_select_pdb | NIX                  | 1\n",
      "QUEUED     | gmx_frame_select_pdb | GADI                 | 2\n",
      "COMPLETED  | gmx_frame_select_pdb | NIX                  | 3\n",
      "COMPLETED  | gmx_frame_select_pdb | GADI                 | 2\n",
      "QUEUED     | gmx_frame_select     | NIX                  | 1\n",
      "QUEUED     | gmx_frame_select     | GADI                 | 2\n",
      "COMPLETED  | gmx_frame_select     | NIX                  | 3\n",
      "COMPLETED  | gmx_frame_select     | GADI                 | 2\n",
      "RUNNING    | gmx_mmpbsa_tengu     | NIX_SSH_3            | 1\n",
      "RUNNING    | gmx_mmpbsa_tengu     | GADI                 | 1\n",
      "COMPLETED  | gmx_mmpbsa_tengu     | NIX_SSH_3            | 2\n",
      "QUEUED     | gmx_mmpbsa_tengu     | GADI                 | 3\n",
      "FAILED     | gmx_mmpbsa_tengu     | NIX_SSH_3            | 1\n",
      "QUEUED     | tengu_echo           | NIX                  | 1\n",
      "COMPLETED  | tengu_echo           | NIX                  | 3\n",
      "QUEUED     | spam                 | NIX                  | 1\n",
      "COMPLETED  | spam                 | NIX                  | 3\n",
      "QUEUED     | delay                | NIX                  | 1\n",
      "COMPLETED  | delay                | NIX                  | 3\n",
      "RUNNING    | gmx_tengu_pdb        | NIX_SSH              | 1\n",
      "COMPLETED  | gmx_tengu_pdb        | NIX_SSH              | 3\n",
      "RUNNING    | gmx_tengu            | NIX_SSH              | 1\n",
      "QUEUED     | gmx_tengu            | GADI_GPU             | 2\n",
      "COMPLETED  | gmx_tengu            | NIX_SSH              | 2\n",
      "QUEUED     | gmx_tengu            | GADI                 | 2\n",
      "FAILED     | gmx_tengu            | NIX_SSH              | 1\n",
      "RUNNING    | gmx_em               | NIX_SSH_3            | 1\n",
      "COMPLETED  | gmx_em               | NIX_SSH_3            | 2\n",
      "FAILED     | gmx_em               | NIX_SSH_3            | 1\n",
      "COMPLETED  | prepare_protein_tengu | NIX_SSH              | 4\n",
      "COMPLETED  | prepare_protein_tengu | NIX_SSH_2            | 3\n",
      "COMPLETED  | prepare_protein_tengu | NIX_SSH_3            | 3\n",
      "FAILED     | prepare_protein_tengu | NIX_SSH_2            | 1\n",
      "FAILED     | prepare_protein_tengu | NIX_SSH_3            | 1\n",
      "COMPLETED  | pdb2pqr_tengu        | NIX_SSH              | 4\n",
      "COMPLETED  | pdb2pqr_tengu        | NIX_SSH_2            | 3\n",
      "COMPLETED  | pdb2pqr_tengu        | NIX_SSH_3            | 3\n",
      "FAILED     | pdb2pqr_tengu        | NIX_SSH_2            | 1\n",
      "FAILED     | pdb2pqr_tengu        | NIX_SSH_3            | 1\n",
      "RUNNING    | hermes_lattice       | NIX_SSH_GPU          | 1\n",
      "RUNNING    | hermes_lattice       | NIX_SSH_2_GPU        | 1\n",
      "RUNNING    | hermes_lattice       | NIX_SSH_3_GPU        | 1\n",
      "RUNNING    | hermes_lattice       | SETONIX_GPU          | 1\n",
      "COMPLETED  | hermes_lattice       | NIX_SSH_GPU          | 1\n",
      "COMPLETED  | hermes_lattice       | NIX_SSH_2_GPU        | 1\n",
      "COMPLETED  | hermes_lattice       | NIX_SSH_3_GPU        | 1\n",
      "COMPLETED  | hermes_lattice       | SETONIX_GPU          | 1\n",
      "COMPLETED  | hermes_lattice       | NIX_SSH              | 2\n",
      "COMPLETED  | hermes_lattice       | NIX_SSH_2            | 1\n",
      "COMPLETED  | hermes_lattice       | NIX_SSH_3            | 1\n",
      "FAILED     | hermes_lattice       | SETONIX              | 2\n",
      "FAILED     | hermes_lattice       | NIX_SSH_2            | 1\n",
      "FAILED     | hermes_lattice       | NIX_SSH_3            | 1\n",
      "QUEUED     | qp_gen_inputs        | NIX                  | 1\n",
      "COMPLETED  | qp_gen_inputs        | NIX                  | 3\n",
      "QUEUED     | qp_collate           | NIX                  | 1\n",
      "COMPLETED  | qp_collate           | NIX                  | 3\n",
      "QUEUED     | pick_conformer       | NIX                  | 1\n",
      "COMPLETED  | pick_conformer       | NIX                  | 3\n",
      "COMPLETED  | pdbfixer             | NIX_SSH              | 4\n",
      "ADMITTED   | hermes_energy        | NIX_SSH_GPU          | 1\n",
      "ADMITTED   | hermes_energy        | NIX_SSH_2_GPU        | 1\n",
      "ADMITTED   | hermes_energy        | NIX_SSH_3_GPU        | 1\n",
      "COMPLETED  | hermes_energy        | SETONIX_GPU          | 2\n",
      "COMPLETED  | hermes_energy        | NIX_SSH_GPU          | 1\n",
      "COMPLETED  | hermes_energy        | NIX_SSH_2_GPU        | 1\n",
      "COMPLETED  | hermes_energy        | NIX_SSH_3_GPU        | 1\n",
      "COMPLETED  | hermes_energy        | NIX_SSH              | 2\n",
      "COMPLETED  | hermes_energy        | NIX_SSH_2            | 1\n",
      "COMPLETED  | hermes_energy        | NIX_SSH_3            | 1\n",
      "FAILED     | hermes_energy        | SETONIX              | 2\n",
      "FAILED     | hermes_energy        | NIX_SSH_2            | 1\n",
      "FAILED     | hermes_energy        | NIX_SSH_3            | 1\n",
      "QUEUED     | convert              | NIX                  | 1\n",
      "COMPLETED  | convert              | NIX                  | 3\n",
      "QUEUED     | concat               | NIX                  | 1\n",
      "COMPLETED  | concat               | NIX                  | 3\n"
     ]
    }
   ],
   "source": [
    "instances = [instance for page in retry_instances for instance in page]\n",
    "c = Counter([(instance[\"status\"], instance[\"path\"].split(\"#\")[1], instance[\"target\"]) for instance in instances])\n",
    "print(f\"{'Module':<10} | {'Status':<20} | {'Target':<20} | Count\")\n",
    "print(\"-\" * 50)\n",
    "for (module, status, target), count in c.items():\n",
    "    print(f\"{module:<10} | {status:<20} | {target:<20} | {count}\")"
   ]
  },
  {
   "cell_type": "code",
   "execution_count": null,
   "id": "42f233a3-590a-4ed2-86c2-0dea3ba6eab3",
   "metadata": {},
   "outputs": [],
   "source": []
  }
 ],
 "metadata": {
  "kernelspec": {
   "display_name": "python3",
   "language": "python",
   "name": "python3"
  }
 },
 "nbformat": 4,
 "nbformat_minor": 5
}
