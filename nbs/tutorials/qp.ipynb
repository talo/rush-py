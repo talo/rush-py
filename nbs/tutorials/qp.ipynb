{
 "cells": [
  {
   "cell_type": "markdown",
   "id": "0780eb45-ce5e-4e82-808b-c14c44197c49",
   "metadata": {},
   "source": [
    "# Quantum Pairwise Interaction Energy (QP)\n",
    "This protocol splits a selected protein residues into single amino acid fragments, and calculates the HF/RIMP2 energies between the selected amino acids and a ligand."
   ]
  },
  {
   "cell_type": "code",
   "execution_count": null,
   "id": "96d10769-2a02-4459-85a7-3716bc833b15",
   "metadata": {},
   "outputs": [],
   "source": [
    "import json\n",
    "import os\n",
    "import sys\n",
    "import tarfile\n",
    "\n",
    "from pdbtools import *\n",
    "import requests\n",
    "from datetime import datetime\n",
    "from pathlib import Path\n",
    "\n",
    "import tengu"
   ]
  },
  {
   "cell_type": "markdown",
   "id": "93d4f4fa-2b93-4509-86eb-6f194f5a9815",
   "metadata": {},
   "source": [
    "### 0) Setup"
   ]
  },
  {
   "cell_type": "code",
   "execution_count": null,
   "id": "9c02e1c3-33e0-41bc-bbae-ff84d447776a",
   "metadata": {},
   "outputs": [],
   "source": [
    "# Set our token - ensure you have exported TENGU_TOKEN in your shell; or just replace the os.getenv with your token\n",
    "TOKEN = os.getenv(\"TENGU_TOKEN\")"
   ]
  },
  {
   "cell_type": "code",
   "execution_count": null,
   "id": "3ed34066-3201-48bf-a130-db44bcfd0c60",
   "metadata": {},
   "outputs": [],
   "source": [
    "# Define our project information\n",
    "DESCRIPTION = \"tengu-py demo notebook\"\n",
    "TAGS = [\"qdx\", \"tengu-py\", \"qp\", \"demo\"]\n",
    "WORK_DIR = Path.home() / \"qdx\" / \"tengu-py-qp-demo\"\n",
    "OUT_DIR = WORK_DIR / \"runs\"\n",
    "OUT_DIR.mkdir(parents=True, exist_ok=True)\n",
    "\n",
    "# Set our inputs\n",
    "SYSTEM_PDB_PATH = WORK_DIR / \"test.pdb\"\n",
    "PROTEIN_PDB_PATH = WORK_DIR / \"test_P.pdb\"\n",
    "LIGAND_SMILES_STR = \"CCCc1ccccc1O\"\n",
    "LIGAND_PDB_PATH = WORK_DIR / \"test_L.pdb\"\n",
    "MODULE_LOCK = WORK_DIR / \"lock.json\""
   ]
  },
  {
   "cell_type": "code",
   "execution_count": null,
   "id": "5c0fe24c-038d-4367-968b-6fc95f5e0ff0",
   "metadata": {},
   "outputs": [],
   "source": [
    "# fetch datafiles\n",
    "complex = list(pdb_keepcoord.keep_coordinates(pdb_fetch.fetch_structure(\"3HTB\")))\n",
    "protein = pdb_delhetatm.remove_hetatm(pdb_selchain.select_chain(complex, \"A\"))\n",
    "ligand = pdb_rplresname.rename_residues(pdb_selresname.filter_residue_by_name(complex, \"JZ4\"), \"JZ4\", \"UNL\")\n",
    "pdb_tidy\n",
    "with open(SYSTEM_PDB_PATH, 'w') as f:\n",
    "    for l in complex:\n",
    "        f.write(str(l))\n",
    "with open(PROTEIN_PDB_PATH, 'w') as f:\n",
    "    for l in protein:\n",
    "        f.write(str(l))\n",
    "with open(LIGAND_PDB_PATH, 'w') as f:\n",
    "    for l in ligand:\n",
    "        f.write(str(l))       "
   ]
  },
  {
   "cell_type": "markdown",
   "id": "1f3218f4-fcfe-4eb9-9133-2a4b08aa3026",
   "metadata": {},
   "source": [
    "### 1) Prepare Protein\n",
    "We use PDB2PQR to fill in missing atoms and protonate / fill hydrogens"
   ]
  },
  {
   "cell_type": "code",
   "execution_count": null,
   "id": "0f6db279-02f7-4bd4-b51a-d7ad25731943",
   "metadata": {},
   "outputs": [],
   "source": [
    "pdb2pqr_result = client.run2(\n",
    "    modules[\"pdb2pqr_tengu\"],\n",
    "    [\n",
    "        PROTEIN_PDB_PATH,\n",
    "    ],\n",
    "    target=\"NIX_SSH\",\n",
    "    resources={\"gpus\": 1, \"storage\": 1_024_000_000, \"walltime\": 15},\n",
    "    tags=TAGS,\n",
    ")\n",
    "pdb2pqr_run_id = pdb2pqr_result[\"module_instance_id\"]\n",
    "prepped_protein_id = pdb2pqr_result[\"output_ids\"][0]\n",
    "print(f\"{datetime.now().time()} | Running protein prep!\")"
   ]
  },
  {
   "cell_type": "code",
   "execution_count": null,
   "id": "321b488b-eeb5-4048-879a-2ebdc32df26e",
   "metadata": {},
   "outputs": [],
   "source": [
    "with open(OUT_DIR / f\"01-pdb2pqr-{pdb2pqr_run_id}.json\", \"w\") as f:\n",
    "    json.dump(pdb2pqr_result, f, default=str, indent=2)"
   ]
  },
  {
   "cell_type": "code",
   "execution_count": null,
   "id": "67322245-e65c-47d5-af22-7c1a35956a4a",
   "metadata": {},
   "outputs": [],
   "source": [
    "client.poll_module_instance(pdb2pqr_run_id)\n",
    "client.download_object(prepped_protein_id, OUT_DIR / \"01-prepped-protein.pdb\")\n",
    "print(f\"{datetime.now().time()} | Downloaded prepped protein!\")"
   ]
  },
  {
   "cell_type": "code",
   "execution_count": null,
   "id": "7dd99aa2-0551-4b02-a006-a2d58b6894ae",
   "metadata": {},
   "outputs": [],
   "source": [
    "# Get our client, for calling modules and using the tengu API\n",
    "client = tengu.Provider(access_token=TOKEN)"
   ]
  },
  {
   "cell_type": "code",
   "execution_count": null,
   "id": "4fb3b91e-6241-4742-b1cb-543de8e1c17c",
   "metadata": {},
   "outputs": [],
   "source": [
    "# Get our latest modules as a dict[module_name, module_path]\n",
    "# If a lock file exists, load it so that the run is reproducable\n",
    "if MODULE_LOCK.exists():\n",
    "    modules = client.load_module_paths(MODULE_LOCK)\n",
    "else: \n",
    "    modules = client.get_latest_module_paths()\n",
    "    client.save_module_paths(modules, MODULE_LOCK)"
   ]
  },
  {
   "cell_type": "code",
   "execution_count": null,
   "id": "894d2cc2-b84e-4534-a1e2-0422bc7f7912",
   "metadata": {},
   "outputs": [],
   "source": []
  }
 ],
 "metadata": {
  "kernelspec": {
   "display_name": "python3",
   "language": "python",
   "name": "python3"
  }
 },
 "nbformat": 4,
 "nbformat_minor": 5
}
