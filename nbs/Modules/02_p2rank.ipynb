{
 "cells": [
  {
   "cell_type": "markdown",
   "metadata": {},
   "source": [
    "# P2Rank\n",
    "\n",
    "`p2rank` identifies **binding sites** on a given **protein structure**.  \n",
    "It predicts pockets based on **machine learning models** trained on structural features. This function is based on:  \n",
    "[Identifying ligand-binding sites using machine learning](https://jcheminf.biomedcentral.com/articles/10.1186/s13321-018-0285-8)."
   ]
  },
  {
   "cell_type": "markdown",
   "metadata": {},
   "source": [
    "## Module Specification\n",
    "\n",
    "The module takes an `dict` of module-specific options and a `TRCObject` representing a protein. It predicts binding sites and returns a list where each element specifies and provides info about a predicted binding site. That info includes a bounding box around the binding site, the surface atoms for the binding site, and scoring info about it.\n",
    "\n",
    "### Inputs\n",
    "\n",
    "* options: `dict`\n",
    "* protein_trc: `TRCObject`\n",
    "\n",
    "### Outputs\n",
    "* `[(BindingSiteBoundingBox, [uint], dict)]` where the fields, in order, are:\n",
    "    * binding_site_bounding_box: `BindingSiteBoundingBox` representing the predicted binding site on the protein\n",
    "    * surface_atoms: `[uint]` listing the atom indices in the output `Topology` binding site's surface\n",
    "    * p2rank_score: `dict`\n",
    "\n",
    "The p2rank_score dictionary fields are as follows:\n",
    "\n",
    "| Name | Type | Description |\n",
    "| --- | --- | --- |\n",
    "| rank | `int` | 1st is best, and worse down the line\n",
    "| score | `float` | the score of this configuration\n",
    "| probability | `float` | the probability of seeing this configuration\n",
    "\n",
    "### Options\n",
    "\n",
    "There are no exposed options yet! Please just pass the empty dictionary for now."
   ]
  },
  {
   "cell_type": "markdown",
   "metadata": {},
   "source": [
    "### Function usage\n",
    "\n",
    "``` Haskell\n",
    "let\n",
    "    p2rank = \\protein_trc ->  p2rank_rex_s default_runspec {} protein_trc,\n",
    "in\n",
    "    \\protein_trc ->\n",
    "        let\n",
    "            result                    = p2rank protein_trc\n",
    "            binding_site_bounding_box = get 0 result\n",
    "            surface_atoms             = get 1 result\n",
    "            score                     = get 2 result\n",
    "        in\n",
    "            {- do something with the result here :) -} \n",
    "```"
   ]
  }
 ],
 "metadata": {
  "kernelspec": {
   "display_name": "Python 3 (ipykernel)",
   "language": "python",
   "name": "python3"
  },
  "language_info": {
   "codemirror_mode": {
    "name": "ipython",
    "version": 3
   },
   "file_extension": ".py",
   "mimetype": "text/x-python",
   "name": "python",
   "nbconvert_exporter": "python",
   "pygments_lexer": "ipython3",
   "version": "3.10.14"
  }
 },
 "nbformat": 4,
 "nbformat_minor": 4
}
