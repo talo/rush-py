{
 "cells": [
  {
   "cell_type": "markdown",
   "id": "dd663e5c-c4c1-4b34-ad75-adfb20d62dc4",
   "metadata": {},
   "source": [
    "# Prepare Protein\n",
    "\n",
    "The `prepare_protein` module corrects protein structures by inserting missing residues and hydrogens.\n",
    "\n",
    "1. **Fills in Missing Residues**  \n",
    "   The module reconstructs missing segments of the protein backbone and sidechains, ensuring structural completeness.\n",
    "   \n",
    "2. **Adds Hydrogen Atoms**  \n",
    "   Protonation states are assigned based on physiological conditions or user-defined pH values, ensuring a chemically valid structure.\n",
    "\n",
    "Underneath the hood, `prepare_protein` relies on two widely used tools:\n",
    "\n",
    "1. **[PDBFixer](https://github.com/openmm/pdbfixer)**  \n",
    "   PDBFixer is a tool that identifies and corrects issues in PDB files, such as missing atoms and residues, while preserving the overall structure.\n",
    "\n",
    "2. **[PDB2PQR](https://pdb2pqr.readthedocs.io/en/latest/)**  \n",
    "   PDB2PQR is used for assigning protonation states and optimizing hydrogen bonding networks based on the specified pH conditions."
   ]
  },
  {
   "cell_type": "markdown",
   "id": "e93171de-4f5e-4235-9d15-519694a592ea",
   "metadata": {},
   "source": [
    "## Module Specification\n",
    "\n",
    "The module takes an `dict` of module-specific options and a list of `TRC` tuples representing proteins, prepares those proteins, and outputs them as a new list of `TRC` tuples.\n",
    "\n",
    "### Inputs\n",
    "\n",
    "* options: `dict`\n",
    "* protein_trcs: `[TRC]`\n",
    "\n",
    "### Outputs\n",
    "\n",
    "* prepped_protein_trcs: `[TRC]`\n",
    "\n",
    "### Options\n",
    "\n",
    "The options `dict` has the following fields:\n",
    "\n",
    "| Name | Type | Default | Description |\n",
    "|------|------|---------|-------------|\n",
    "| ph | `Option<float>` | `7.0` | The pH to perform the hydrogen atom assignment at. |\n",
    "| naming_scheme | `Option<str>` | `\"Amber\"` | What naming scheme to use for the amino acids. Stick with `none` for standardized names, or use \"Amber\" or \"Charmm\" if the outputs will be used for MD simulation using that force field. |\n",
    "| truncation_threshold | `Option<uint>` | `2` | Adding long sequences of amino acids to the end of chains isn't an accurate procedure. If this many or more are missing from the end of a chain, don't add amino acids to that end. |\n",
    "| capping_style | `Option<str>` | `\"Truncated\"` | Whether to add caps at the ends of the protein chains. Generally good for MD, but if the chain is totally complete, may not be necessary. One of: \"Never\", \"Truncated\", \"Always\". |"
   ]
  },
  {
   "cell_type": "markdown",
   "id": "0bc43f85",
   "metadata": {},
   "source": [
    "## Function usage\n",
    "```haskell\n",
    "let\n",
    "    options = {\n",
    "        ph = some 7.4,\n",
    "        naming_scheme = some \"Amber\",\n",
    "    },\n",
    "    prepare_protein = \\\\protein_conformer_trc -> \n",
    "        map to_data (get 0 (\n",
    "            prepare_protein_rex_s default_runspec options [protein_conformer_trc]\n",
    "        ))\n",
    "in\n",
    "    \\unprepped_trc -> prepare_protein unprepped_trc {- outputs the prepped TRC -}\n",
    "```"
   ]
  },
  {
   "cell_type": "code",
   "execution_count": null,
   "id": "8bf78a28-2de6-41be-9a12-c68f93c61445",
   "metadata": {},
   "outputs": [],
   "source": []
  }
 ],
 "metadata": {
  "kernelspec": {
   "display_name": "Python 3 (ipykernel)",
   "language": "python",
   "name": "python3"
  },
  "language_info": {
   "codemirror_mode": {
    "name": "ipython",
    "version": 3
   },
   "file_extension": ".py",
   "mimetype": "text/x-python",
   "name": "python",
   "nbconvert_exporter": "python",
   "pygments_lexer": "ipython3",
   "version": "3.10.14"
  }
 },
 "nbformat": 4,
 "nbformat_minor": 5
}
