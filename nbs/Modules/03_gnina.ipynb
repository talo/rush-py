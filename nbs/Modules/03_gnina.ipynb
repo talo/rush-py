{
 "cells": [
  {
   "cell_type": "markdown",
   "metadata": {},
   "source": [
    "# GNINA\n",
    "\n",
    "`gnina` performs **molecular docking** and predicts **binding affinity** between a protein and a small molecule. It leverages **deep learning models** to optimize docking poses and estimate **binding energy**. This function is based on: [GNINA: Deep Learning-Based Molecular Docking](https://pubs.acs.org/doi/10.1021/acs.jcim.0c01306)."
   ]
  },
  {
   "cell_type": "markdown",
   "metadata": {},
   "source": [
    "### Inputs\n",
    "\n",
    "* options: `dict`\n",
    "* protein_trcs: `[TRC]`, the proteins to dock the smols onto.\n",
    "* docking_sites: `[GninaDockingSite]`, 1-to-1 with the proteins, specifying the docking site location on the protein.\n",
    "* smol_trcs: `[TRC]`, to dock all against each protein.\n",
    "* ligand_libraries: `LigandLibrary` which provides a more storage-efficient way of passing very many smols for docking.\n",
    "\n",
    "The docking_sites dictionary can either take the form of an \"autobox\":\n",
    "\n",
    "| Name | Type | Default | Description |\n",
    "|------|------|---------|-------------|\n",
    "| autobox_ligand | `TR` | n/a | The reference ligand used to automatically determine the docking site box. |\n",
    "| autobox_add | `Option<float>` | `none` | The additional padding distance to add around the autobox ligand. |\n",
    "\n",
    "or the form of a `BindingSiteBoundingBox`.\n",
    "\n",
    "### Outputs\n",
    "\n",
    "* binding_site_results: `dict`\n",
    "* \n",
    "The `binding_site_results` dictionary fields are as follows:\n",
    "\n",
    "| Name | Type | Description |\n",
    "|------|------|-------------|\n",
    "| pose_trcs | `[TR]` | A list of TRs representing the docking poses. |\n",
    "| scores | `dict` | A list of scoring results for each docking pose. |\n",
    "\n",
    "and the `scores` dictionary fields are as follows:\n",
    "\n",
    "| Name | Type | Description |\n",
    "|------|------|-------------|\n",
    "| mode | `int` | The pose mode number for this scoring result. |\n",
    "| cnn_score | `float` | The CNN-based scoring value for the pose. |\n",
    "| cnn_affinity | `float` | The CNN-predicted binding affinity for the pose. |\n",
    "| affinity | `float` | The calculated binding affinity for the pose. |\n",
    "\n",
    "### Options\n",
    "\n",
    "| Name | Type | Default | Description |\n",
    "|------|------|---------|-------------|\n",
    "| minimize | `Option<bool>` | `none` | Whether to minimize the energy of the final pose. |\n",
    "| exhaustiveness | `Option<uint>` | `none` | The search extent for the docking algorithm. |\n",
    "| num_modes | `Option<uint>` | `none` | The number of dock poses to report. |\n",
    "| covalent_rec_atom | `Option<str>` | `none` | The receptor atom that the ligand is bound to, specified as either \"chain:resnum:atom_name\" or x,y,z cartesian coordinates. |\n",
    "| covalent_lig_atom_pattern | `Option<str>` | `none` | The SMARTS expression for the ligand atom that binds to the receptor. |\n",
    "| covalent_lig_atom_position | `Option<str>` | `none` | The position of ligand in x,y,z cartesian coordinates. |\n",
    "| covalent_optimize_lig | `Option<bool>` | `none` | Whether to optimize the covalent complex of ligand and residue with UFF. |"
   ]
  },
  {
   "cell_type": "markdown",
   "metadata": {},
   "source": [
    "### Function usage\n",
    "\n",
    "```haskell\n",
    "let\n",
    "    gnina = \\protein_trc -> \\bounding_box -> \\smol_tr ->\n",
    "        get 0 (get 0 (\n",
    "            gnina_rex_s runspec {} [protein_trc] [bounding_box] [smol_tr] []\n",
    "        ))\n",
    "in\n",
    "\\protein_trc -> \\bounding_box -> \\smol_tr ->\n",
    "    let\n",
    "        result = gnina protein_trc bounding_box smol_tr\n",
    "    in\n",
    "        list_min (map (get \"affinity\") (get \"scores\" result)) {- get the best affinity value of all the docked poses -}\n",
    "```"
   ]
  },
  {
   "cell_type": "markdown",
   "metadata": {},
   "source": []
  },
  {
   "cell_type": "markdown",
   "metadata": {},
   "source": []
  }
 ],
 "metadata": {
  "kernelspec": {
   "display_name": "Python 3 (ipykernel)",
   "language": "python",
   "name": "python3"
  },
  "language_info": {
   "codemirror_mode": {
    "name": "ipython",
    "version": 3
   },
   "file_extension": ".py",
   "mimetype": "text/x-python",
   "name": "python",
   "nbconvert_exporter": "python",
   "pygments_lexer": "ipython3",
   "version": "3.10.14"
  }
 },
 "nbformat": 4,
 "nbformat_minor": 4
}
