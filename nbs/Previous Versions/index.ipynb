{
 "cells": [
  {
   "cell_type": "markdown",
   "id": "d8628687",
   "metadata": {},
   "source": [
    "# rush-py\n",
    "> Python SDK for the Rush computational chemistry workflow management system "
   ]
  },
  {
   "cell_type": "markdown",
   "id": "6fad9236-c01c-4adc-a39b-f71b399e142e",
   "metadata": {},
   "source": [
    "# Quickstart\n",
    "This guide will walk you through executing a basic job using Rush, by demonstrating how to generate 3D small molecule conformers. For a deeper dive and an example of a full end-to-end in silico protocol, see the [Comprehensive Guide](https://talo.github.io/rush-py/comprehensive_guide.html)."
   ]
  },
  {
   "cell_type": "code",
   "execution_count": 1,
   "id": "ec184dfb-c295-45f2-ab5a-3cdd129afac7",
   "metadata": {},
   "outputs": [],
   "source": [
    "# |hide\n",
    "# hidden setup for the notebook\n",
    "import os\n",
    "import pathlib\n",
    "\n",
    "WORK_DIR = pathlib.Path(\"~/qdx/index_notebook\").expanduser()\n",
    "if WORK_DIR.exists():\n",
    "    !rm -r $WORK_DIR\n",
    "os.makedirs(WORK_DIR, exist_ok=True)\n",
    "# swap into clean workdir so that our tests are deterministic\n",
    "os.chdir(WORK_DIR)\n",
    "PUT_YOUR_TOKEN_HERE = os.environ[\"RUSH_TOKEN\"]\n",
    "PUT_YOUR_PREFERRED_WORKING_DIRECTORY_HERE = WORK_DIR\n",
    "os.environ[\"RUSH_RESTORE_BY_DEFAULT\"] = \"False\""
   ]
  },
  {
   "cell_type": "markdown",
   "id": "7cb2646d",
   "metadata": {},
   "source": [
    "# Install\n",
    "\n",
    "First, install the following modules via the command-line (we require Python ≥ 3.9):"
   ]
  },
  {
   "cell_type": "code",
   "execution_count": 2,
   "id": "762914c2-eca6-4f13-a937-742052ecc0e8",
   "metadata": {},
   "outputs": [
    {
     "name": "stdout",
     "output_type": "stream",
     "text": [
      "Collecting rush-py\n",
      "  Downloading rush_py-4.1.0-py3-none-any.whl.metadata (11 kB)\n",
      "Requirement already satisfied: aiofiles<24.0.0,>=23.2.1 in /nix/store/z8yjbgqpp3qvnczn96d4r50k5l33k9m9-python3-3.12.5-env/lib/python3.12/site-packages (from rush-py) (23.2.1)\n",
      "Requirement already satisfied: backoff<3.0.0,>=2.2.1 in /nix/store/z8yjbgqpp3qvnczn96d4r50k5l33k9m9-python3-3.12.5-env/lib/python3.12/site-packages (from rush-py) (2.2.1)\n",
      "Requirement already satisfied: httpx<0.27.0,>=0.26.0 in /nix/store/z8yjbgqpp3qvnczn96d4r50k5l33k9m9-python3-3.12.5-env/lib/python3.12/site-packages (from rush-py) (0.26.0)\n",
      "Requirement already satisfied: nest-asyncio<2.0.0,>=1.6.0 in /nix/store/z8yjbgqpp3qvnczn96d4r50k5l33k9m9-python3-3.12.5-env/lib/python3.12/site-packages (from rush-py) (1.6.0)\n",
      "Requirement already satisfied: pdb-tools<3.0.0,>=2.5.0 in /nix/store/z8yjbgqpp3qvnczn96d4r50k5l33k9m9-python3-3.12.5-env/lib/python3.12/site-packages (from rush-py) (2.5.0)\n",
      "Requirement already satisfied: pydantic<3.0.0,>=2.6.0 in /nix/store/z8yjbgqpp3qvnczn96d4r50k5l33k9m9-python3-3.12.5-env/lib/python3.12/site-packages (from rush-py) (2.8.2)\n",
      "Requirement already satisfied: typing-extensions<5.0.0,>=4.9.0 in /nix/store/z8yjbgqpp3qvnczn96d4r50k5l33k9m9-python3-3.12.5-env/lib/python3.12/site-packages (from rush-py) (4.12.2)\n",
      "Requirement already satisfied: websockets<13,>=12 in /nix/store/z8yjbgqpp3qvnczn96d4r50k5l33k9m9-python3-3.12.5-env/lib/python3.12/site-packages (from rush-py) (12.0)\n",
      "Requirement already satisfied: anyio in /nix/store/z8yjbgqpp3qvnczn96d4r50k5l33k9m9-python3-3.12.5-env/lib/python3.12/site-packages (from httpx<0.27.0,>=0.26.0->rush-py) (4.4.0)\n",
      "Requirement already satisfied: certifi in /nix/store/z8yjbgqpp3qvnczn96d4r50k5l33k9m9-python3-3.12.5-env/lib/python3.12/site-packages (from httpx<0.27.0,>=0.26.0->rush-py) (2024.8.30)\n",
      "Requirement already satisfied: httpcore==1.* in /nix/store/z8yjbgqpp3qvnczn96d4r50k5l33k9m9-python3-3.12.5-env/lib/python3.12/site-packages (from httpx<0.27.0,>=0.26.0->rush-py) (1.0.5)\n",
      "Requirement already satisfied: idna in /nix/store/z8yjbgqpp3qvnczn96d4r50k5l33k9m9-python3-3.12.5-env/lib/python3.12/site-packages (from httpx<0.27.0,>=0.26.0->rush-py) (3.8)\n",
      "Requirement already satisfied: sniffio in /nix/store/z8yjbgqpp3qvnczn96d4r50k5l33k9m9-python3-3.12.5-env/lib/python3.12/site-packages (from httpx<0.27.0,>=0.26.0->rush-py) (1.3.1)\n",
      "Requirement already satisfied: h11<0.15,>=0.13 in /nix/store/z8yjbgqpp3qvnczn96d4r50k5l33k9m9-python3-3.12.5-env/lib/python3.12/site-packages (from httpcore==1.*->httpx<0.27.0,>=0.26.0->rush-py) (0.14.0)\n",
      "Requirement already satisfied: annotated-types>=0.4.0 in /nix/store/z8yjbgqpp3qvnczn96d4r50k5l33k9m9-python3-3.12.5-env/lib/python3.12/site-packages (from pydantic<3.0.0,>=2.6.0->rush-py) (0.7.0)\n",
      "Requirement already satisfied: pydantic-core==2.20.1 in /nix/store/z8yjbgqpp3qvnczn96d4r50k5l33k9m9-python3-3.12.5-env/lib/python3.12/site-packages (from pydantic<3.0.0,>=2.6.0->rush-py) (2.20.1)\n",
      "Downloading rush_py-4.1.0-py3-none-any.whl (91 kB)\n",
      "\u001b[2K   \u001b[38;2;114;156;31m━━━━━━━━━━━━━━━━━━━━━━━━━━━━━━━━━━━━━━━━\u001b[0m \u001b[32m91.9/91.9 kB\u001b[0m \u001b[31m2.9 MB/s\u001b[0m eta \u001b[36m0:00:00\u001b[0m\n",
      "\u001b[?25hInstalling collected packages: rush-py\n"
     ]
    },
    {
     "name": "stderr",
     "output_type": "stream",
     "text": [
      "\u001b[31mERROR: Could not install packages due to an OSError: [Errno 30] Read-only file system: '/nix/store/z8yjbgqpp3qvnczn96d4r50k5l33k9m9-python3-3.12.5-env/lib/python3.12/site-packages/rush'\n",
      "\u001b[0m\u001b[31m\n",
      "\u001b[0m"
     ]
    },
    {
     "ename": "CalledProcessError",
     "evalue": "Command 'b'# |output: false\\n# |eval: false\\npip install rush-py\\n'' returned non-zero exit status 1.",
     "output_type": "error",
     "traceback": [
      "\u001b[0;31m---------------------------------------------------------------------------\u001b[0m",
      "\u001b[0;31mCalledProcessError\u001b[0m                        Traceback (most recent call last)",
      "Cell \u001b[0;32mIn[2], line 1\u001b[0m\n\u001b[0;32m----> 1\u001b[0m \u001b[43mget_ipython\u001b[49m\u001b[43m(\u001b[49m\u001b[43m)\u001b[49m\u001b[38;5;241;43m.\u001b[39;49m\u001b[43mrun_cell_magic\u001b[49m\u001b[43m(\u001b[49m\u001b[38;5;124;43m'\u001b[39;49m\u001b[38;5;124;43mbash\u001b[39;49m\u001b[38;5;124;43m'\u001b[39;49m\u001b[43m,\u001b[49m\u001b[43m \u001b[49m\u001b[38;5;124;43m'\u001b[39;49m\u001b[38;5;124;43m'\u001b[39;49m\u001b[43m,\u001b[49m\u001b[43m \u001b[49m\u001b[38;5;124;43m'\u001b[39;49m\u001b[38;5;124;43m# |output: false\u001b[39;49m\u001b[38;5;130;43;01m\\n\u001b[39;49;00m\u001b[38;5;124;43m# |eval: false\u001b[39;49m\u001b[38;5;130;43;01m\\n\u001b[39;49;00m\u001b[38;5;124;43mpip install rush-py\u001b[39;49m\u001b[38;5;130;43;01m\\n\u001b[39;49;00m\u001b[38;5;124;43m'\u001b[39;49m\u001b[43m)\u001b[49m\n",
      "File \u001b[0;32m/nix/store/z8yjbgqpp3qvnczn96d4r50k5l33k9m9-python3-3.12.5-env/lib/python3.12/site-packages/IPython/core/interactiveshell.py:2517\u001b[0m, in \u001b[0;36mInteractiveShell.run_cell_magic\u001b[0;34m(self, magic_name, line, cell)\u001b[0m\n\u001b[1;32m   2515\u001b[0m \u001b[38;5;28;01mwith\u001b[39;00m \u001b[38;5;28mself\u001b[39m\u001b[38;5;241m.\u001b[39mbuiltin_trap:\n\u001b[1;32m   2516\u001b[0m     args \u001b[38;5;241m=\u001b[39m (magic_arg_s, cell)\n\u001b[0;32m-> 2517\u001b[0m     result \u001b[38;5;241m=\u001b[39m \u001b[43mfn\u001b[49m\u001b[43m(\u001b[49m\u001b[38;5;241;43m*\u001b[39;49m\u001b[43margs\u001b[49m\u001b[43m,\u001b[49m\u001b[43m \u001b[49m\u001b[38;5;241;43m*\u001b[39;49m\u001b[38;5;241;43m*\u001b[39;49m\u001b[43mkwargs\u001b[49m\u001b[43m)\u001b[49m\n\u001b[1;32m   2519\u001b[0m \u001b[38;5;66;03m# The code below prevents the output from being displayed\u001b[39;00m\n\u001b[1;32m   2520\u001b[0m \u001b[38;5;66;03m# when using magics with decorator @output_can_be_silenced\u001b[39;00m\n\u001b[1;32m   2521\u001b[0m \u001b[38;5;66;03m# when the last Python token in the expression is a ';'.\u001b[39;00m\n\u001b[1;32m   2522\u001b[0m \u001b[38;5;28;01mif\u001b[39;00m \u001b[38;5;28mgetattr\u001b[39m(fn, magic\u001b[38;5;241m.\u001b[39mMAGIC_OUTPUT_CAN_BE_SILENCED, \u001b[38;5;28;01mFalse\u001b[39;00m):\n",
      "File \u001b[0;32m/nix/store/z8yjbgqpp3qvnczn96d4r50k5l33k9m9-python3-3.12.5-env/lib/python3.12/site-packages/IPython/core/magics/script.py:154\u001b[0m, in \u001b[0;36mScriptMagics._make_script_magic.<locals>.named_script_magic\u001b[0;34m(line, cell)\u001b[0m\n\u001b[1;32m    152\u001b[0m \u001b[38;5;28;01melse\u001b[39;00m:\n\u001b[1;32m    153\u001b[0m     line \u001b[38;5;241m=\u001b[39m script\n\u001b[0;32m--> 154\u001b[0m \u001b[38;5;28;01mreturn\u001b[39;00m \u001b[38;5;28;43mself\u001b[39;49m\u001b[38;5;241;43m.\u001b[39;49m\u001b[43mshebang\u001b[49m\u001b[43m(\u001b[49m\u001b[43mline\u001b[49m\u001b[43m,\u001b[49m\u001b[43m \u001b[49m\u001b[43mcell\u001b[49m\u001b[43m)\u001b[49m\n",
      "File \u001b[0;32m/nix/store/z8yjbgqpp3qvnczn96d4r50k5l33k9m9-python3-3.12.5-env/lib/python3.12/site-packages/IPython/core/magics/script.py:314\u001b[0m, in \u001b[0;36mScriptMagics.shebang\u001b[0;34m(self, line, cell)\u001b[0m\n\u001b[1;32m    309\u001b[0m \u001b[38;5;28;01mif\u001b[39;00m args\u001b[38;5;241m.\u001b[39mraise_error \u001b[38;5;129;01mand\u001b[39;00m p\u001b[38;5;241m.\u001b[39mreturncode \u001b[38;5;241m!=\u001b[39m \u001b[38;5;241m0\u001b[39m:\n\u001b[1;32m    310\u001b[0m     \u001b[38;5;66;03m# If we get here and p.returncode is still None, we must have\u001b[39;00m\n\u001b[1;32m    311\u001b[0m     \u001b[38;5;66;03m# killed it but not yet seen its return code. We don't wait for it,\u001b[39;00m\n\u001b[1;32m    312\u001b[0m     \u001b[38;5;66;03m# in case it's stuck in uninterruptible sleep. -9 = SIGKILL\u001b[39;00m\n\u001b[1;32m    313\u001b[0m     rc \u001b[38;5;241m=\u001b[39m p\u001b[38;5;241m.\u001b[39mreturncode \u001b[38;5;129;01mor\u001b[39;00m \u001b[38;5;241m-\u001b[39m\u001b[38;5;241m9\u001b[39m\n\u001b[0;32m--> 314\u001b[0m     \u001b[38;5;28;01mraise\u001b[39;00m CalledProcessError(rc, cell)\n",
      "\u001b[0;31mCalledProcessError\u001b[0m: Command 'b'# |output: false\\n# |eval: false\\npip install rush-py\\n'' returned non-zero exit status 1."
     ]
    }
   ],
   "source": [
    "%%bash\n",
    "# |output: false\n",
    "# |eval: false\n",
    "pip install rush-py"
   ]
  },
  {
   "cell_type": "markdown",
   "id": "8776d341",
   "metadata": {},
   "source": [
    "# Full Code\n",
    "\n",
    "One of the simplest things you can do with Rush is generate 3D small molecule conformers from SMILES using the Auto3D module. We will break down how to do this step-by-step, but lets start with the full code:"
   ]
  },
  {
   "cell_type": "code",
   "execution_count": 3,
   "id": "337827e9",
   "metadata": {},
   "outputs": [
    {
     "ename": "ModuleNotFoundError",
     "evalue": "No module named 'rush'",
     "output_type": "error",
     "traceback": [
      "\u001b[0;31m---------------------------------------------------------------------------\u001b[0m",
      "\u001b[0;31mModuleNotFoundError\u001b[0m                       Traceback (most recent call last)",
      "Cell \u001b[0;32mIn[3], line 1\u001b[0m\n\u001b[0;32m----> 1\u001b[0m \u001b[38;5;28;01mimport\u001b[39;00m \u001b[38;5;21;01mrush\u001b[39;00m\n\u001b[1;32m      3\u001b[0m client \u001b[38;5;241m=\u001b[39m rush\u001b[38;5;241m.\u001b[39mbuild_blocking_provider_with_functions(\n\u001b[1;32m      4\u001b[0m     access_token\u001b[38;5;241m=\u001b[39mPUT_YOUR_TOKEN_HERE\n\u001b[1;32m      5\u001b[0m     \u001b[38;5;66;03m# for example, if your token is 00000000-dddd-cccc-0000-11111111,\u001b[39;00m\n\u001b[1;32m      6\u001b[0m     \u001b[38;5;66;03m# then you should put access_token=\"00000000-dddd-cccc-0000-11111111\"\u001b[39;00m\n\u001b[1;32m      7\u001b[0m     \u001b[38;5;66;03m# (including the double quotes)\u001b[39;00m\n\u001b[1;32m      8\u001b[0m )\n\u001b[1;32m     10\u001b[0m \u001b[38;5;66;03m# setup an SMI file that contains the SMILES string of our ligand\u001b[39;00m\n",
      "\u001b[0;31mModuleNotFoundError\u001b[0m: No module named 'rush'"
     ]
    }
   ],
   "source": [
    "import rush\n",
    "\n",
    "client = rush.build_blocking_provider_with_functions(\n",
    "    access_token=PUT_YOUR_TOKEN_HERE\n",
    "    # for example, if your token is 00000000-dddd-cccc-0000-11111111,\n",
    "    # then you should put access_token=\"00000000-dddd-cccc-0000-11111111\"\n",
    "    # (including the double quotes)\n",
    ")\n",
    "\n",
    "# setup an SMI file that contains the SMILES string of our ligand\n",
    "ligand_smi_filename = client.workspace / \"ligand.smi\"\n",
    "ligand_smi_filename.write_text(\"CN1C=NC2=C1C(=O)N(C(=O)N2C)C 1\")\n",
    "\n",
    "# run Auto3D which will give us 3 conformers of our ligand\n",
    "# in the SDF format and the QDXF format\n",
    "ligand_sdf_handle, ligand_qdxf_handle = client.auto3d(\n",
    "    ligand_smi_filename,  # the filename that stores our ligand\n",
    "    \"smi\",  # the format of the file\n",
    "    {\n",
    "        \"k\": 3,  # number of conformers to generate\n",
    "        \"use_gpu\": True,  # use GPU for faster compute\n",
    "    },\n",
    "    tags=[\n",
    "        \"your_job_name\"\n",
    "    ],  # Add your own identifiers to keep track of your simulations,\n",
    "    # separated by , e.g. tags=[\"small ligands\", \"smiles\"]\n",
    "    resources={\n",
    "        \"gpus\": 1,  # the number of GPUs to use\n",
    "        \"storage\": 5,  # the amount of storage to use\n",
    "        \"storage_units\": \"MB\",  # the units of storage (here we are using megabytes)\n",
    "    },\n",
    ")\n",
    "\n",
    "# print the status of all jobs\n",
    "print(client.status())\n",
    "\n",
    "# download the results (this will block until the Auto3D job has completed)\n",
    "ligand_sdf = ligand_sdf_handle.download()\n",
    "ligand_qdxf = ligand_qdxf_handle.download()\n",
    "\n",
    "print(ligand_sdf)  # print the path to the downloaded SDF file\n",
    "\n",
    "print(\n",
    "    ligand_sdf.read_text()[0:100]\n",
    ")  # print the first 100 characters of the SDF version of the result\n",
    "print(\n",
    "    ligand_qdxf.read_text()[0:100]\n",
    ")  # print the first 100 characters of the the QDXF version of the result"
   ]
  },
  {
   "cell_type": "markdown",
   "id": "21a39a0f",
   "metadata": {},
   "source": [
    "# Step-by-step"
   ]
  },
  {
   "cell_type": "markdown",
   "id": "b765ea83",
   "metadata": {},
   "source": [
    "## Import the Rush Python library\n",
    "\n",
    "The first thing we do is import the `rush` Python library:"
   ]
  },
  {
   "cell_type": "code",
   "execution_count": null,
   "id": "90252533",
   "metadata": {},
   "outputs": [],
   "source": [
    "import rush"
   ]
  },
  {
   "cell_type": "markdown",
   "id": "6b8cf6f0",
   "metadata": {},
   "source": [
    "## Create a Rush client\n",
    "\n",
    "The next step is to create a client. This client will be used to interact with the Rush API. You will need to provide your Access Token to authenticate with the API. You can get your Access Token by signing up at [https://rush.qdx.co](https://rush.qdx.co) and going into your account settings.\n",
    "\n",
    "Usually, you should store your Access Token somewhere safe and not hardcode it into your scripts (e.g. in a configuration file or environment variable). For the sake of this example, we will hardcode it:"
   ]
  },
  {
   "cell_type": "code",
   "execution_count": null,
   "id": "48ff9a07",
   "metadata": {},
   "outputs": [],
   "source": [
    "client = rush.build_blocking_provider_with_functions(\n",
    "    access_token=PUT_YOUR_TOKEN_HERE  # for example, if your token is 00000000-dddd-cccc-0000-11111111,\n",
    "    # then you should put access_token=\"00000000-dddd-cccc-0000-11111111\"\n",
    "    # (including the double quotes)\n",
    ")"
   ]
  },
  {
   "cell_type": "markdown",
   "id": "d6b434cc",
   "metadata": {},
   "source": [
    "But specifying that we want a \"blocking provider\" we are telling Rush that whenever we interact with the API we want to wait for the response before continuing. This is useful for simple scripts that are not running lots of jobs in parallel."
   ]
  },
  {
   "cell_type": "markdown",
   "id": "62470b10",
   "metadata": {},
   "source": [
    "## Create an example SMILES file\n",
    "\n",
    "To run Auto3D we need to specify the SMILES strings for which we want 3D conformers to be generated. These SMILES strings must be stored in a `.smi` file. For this example, we will use a sample file that contains the SMILES strings for one simple small molecule:"
   ]
  },
  {
   "cell_type": "code",
   "execution_count": null,
   "id": "1a49135e",
   "metadata": {},
   "outputs": [],
   "source": [
    "# |output: false\n",
    "# setup an SMI file that contains the SMILES string of our ligand\n",
    "ligand_smi_filename = client.workspace / \"ligand.smi\"\n",
    "ligand_smi_filename.write_text(\"CN1C=NC2=C1C(=O)N(C(=O)N2C)C 1\")"
   ]
  },
  {
   "cell_type": "markdown",
   "id": "2ea10a4d",
   "metadata": {},
   "source": [
    "### A small note about workspaces\n",
    "\n",
    "By default, the `client.workspace` will be your current working directory, so after this code runs you should see a file in your current working directory called `\"ligand.smi\"`. If you want to specify a different workspace directory, you can do so by specifying the `workspace` argument when building the client:"
   ]
  },
  {
   "cell_type": "code",
   "execution_count": null,
   "id": "236cf73f",
   "metadata": {},
   "outputs": [],
   "source": [
    "# instead of creating a client with this code\n",
    "client = rush.build_blocking_provider_with_functions(\n",
    "    access_token=PUT_YOUR_TOKEN_HERE\n",
    ")\n",
    "\n",
    "# you can create a client with this code, and explicitly set the workspace\n",
    "client = rush.build_blocking_provider_with_functions(\n",
    "    access_token=PUT_YOUR_TOKEN_HERE,\n",
    "    workspace=PUT_YOUR_PREFERRED_WORKING_DIRECTORY_HERE,  # for example, if you\n",
    "    # want your run data to be saved in a subfolder called job1, you should put\n",
    "    # workspace = \"./job1\"\n",
    ")"
   ]
  },
  {
   "cell_type": "markdown",
   "id": "69762536",
   "metadata": {},
   "source": [
    "##  Run Auto3D\n",
    "\n",
    "Now that we have our SMILES file, we can use it as input to run the Auto3D module. This will generate 3D conformers (in a variety of possible protonation states) for each SMILES string in the SMILES file:"
   ]
  },
  {
   "cell_type": "code",
   "execution_count": null,
   "id": "522f89b5",
   "metadata": {},
   "outputs": [],
   "source": [
    "# run Auto3D which will give us 3 conformers of our ligand\n",
    "# in the SDF format and the QDXF format\n",
    "ligand_sdf_handle, ligand_qdxf_handle = client.auto3d(\n",
    "    ligand_smi_filename,  # the filename that stores our ligand\n",
    "    \"smi\",  # the format of the file\n",
    "    {\n",
    "        \"k\": 3,  # number of conformers to generate\n",
    "        \"use_gpu\": True,  # use GPU for faster compute\n",
    "    },\n",
    "    tags=[\n",
    "        \"your_job_name\"\n",
    "    ],  # Add your own identifiers to keep track of your simulations,\n",
    "    # separated by , e.g. tags=[\"small ligands\", \"smiles\"]\n",
    "    resources={\n",
    "        \"gpus\": 1,  # the number of GPUs to use\n",
    "        \"storage\": 5,  # the amount of storage to use\n",
    "        \"storage_units\": \"MB\",  # the units of storage (here we are using megabytes)\n",
    "    },\n",
    ")"
   ]
  },
  {
   "cell_type": "markdown",
   "id": "52b18242",
   "metadata": {},
   "source": [
    "### A small note about resources\n",
    "\n",
    "In addition to their module-specific inputs, all modules also accept the `resource=` parameter. This parameter specifies the computational resources that you want to use to run the module. In this example, we have asked Rush to run the Auto3D module using 1 GPU and 5 megabytes of storage space."
   ]
  },
  {
   "cell_type": "markdown",
   "id": "f4af4a7b",
   "metadata": {},
   "source": [
    "## See the job status\n",
    "\n",
    "Calling `client.auto3d` will tell Rush to run a new Auto3D job. However, it will not wait for the job to complete before continuing. This is convenient, because sometimes jobs can take a long time to run, and we might have other code we want to run in the meantime. If we want to track the status of all of our jobs, we can use the `client.status` function:"
   ]
  },
  {
   "cell_type": "code",
   "execution_count": null,
   "id": "20152c74",
   "metadata": {},
   "outputs": [],
   "source": [
    "# print the status of all jobs\n",
    "print(client.status())"
   ]
  },
  {
   "cell_type": "markdown",
   "id": "1b659de7",
   "metadata": {},
   "source": [
    "## Download the results\n",
    "\n",
    "After calling `client.auto3d`, we got back two handles: `ligand_sdf_handle` and `ligand_qdxf_handle`. These handles are references to the results of the Auto3D job. They are stored in Rush and we can access them from anywhere at any time. We can use these handles as inputs to other modules, we can download their contents, and we can even use them to check the status of the Auto3D job that we ran.\n",
    "\n",
    "For now, we simply download the results and print them out:"
   ]
  },
  {
   "cell_type": "code",
   "execution_count": null,
   "id": "327e6682",
   "metadata": {},
   "outputs": [],
   "source": [
    "# download the results (this will block until the Auto3D job has completed)\n",
    "ligand_sdf = ligand_sdf_handle.download()\n",
    "ligand_qdxf = ligand_qdxf_handle.download()\n",
    "\n",
    "print(ligand_sdf.read_text()[0:100])  # print the SDF version of the result\n",
    "print(ligand_qdxf.read_text()[0:100])  # print the QDXF version of the result"
   ]
  },
  {
   "cell_type": "markdown",
   "id": "93a2765c",
   "metadata": {},
   "source": [
    "If you want to find the actual files, they will be in the `objects` directory inside your `client.workspace` directory. Remember, by default, the `client.workspace` is the current working directory."
   ]
  },
  {
   "cell_type": "markdown",
   "id": "b27d058f",
   "metadata": {},
   "source": [
    "### A note about handles\n",
    "\n",
    "For most things that we are interested in doing, we do not have to wait for the job created by `client.auto3d` to actually complete. We can start using `ligand_sdf_handle` and `ligand_qdxf_handle` straight away. For example, we could pass them as inputs to a molecular dynamics simulation job. This would tell Rush to automatically run the molecular dynamics simulation job as soon as the Auto3D job completes.\n",
    "\n",
    "However, the `download` function is kind of special and will explicitly block our program from continuing until the Auto3D job is complete. This is because `download` actually fetches the contents of the handles from Rush, and to do so it needs to be sure the contents actually exists."
   ]
  },
  {
   "cell_type": "markdown",
   "id": "bb799201",
   "metadata": {},
   "source": [
    "# Next steps\n",
    "\n",
    "In this quickstart, we generated 3D small molecule conformers from SMILES strings using the Auto3D module. We learned how to:\n",
    "\n",
    "1. Create a client\n",
    "2. Run the Auto3D module\n",
    "3. Check the status of the job\n",
    "4. Download the results\n",
    "\n",
    "Checkout our other quickstarts to see how to use other modules. For example, now that we have some 3D small molecule conformers, we can run molecular dynamics simulation, quantum energy calculations, quantum geometry optimizations, docking, and much more!"
   ]
  }
 ],
 "metadata": {
  "kernelspec": {
   "display_name": "Python 3 (ipykernel)",
   "language": "python",
   "name": "python3"
  },
  "language_info": {
   "codemirror_mode": {
    "name": "ipython",
    "version": 3
   },
   "file_extension": ".py",
   "mimetype": "text/x-python",
   "name": "python",
   "nbconvert_exporter": "python",
   "pygments_lexer": "ipython3",
   "version": "3.12.5"
  }
 },
 "nbformat": 4,
 "nbformat_minor": 5
}
