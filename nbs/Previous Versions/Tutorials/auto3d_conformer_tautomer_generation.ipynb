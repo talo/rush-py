{
 "cells": [
  {
   "cell_type": "markdown",
   "id": "fa7a18db-f5d1-42ab-91cb-8df7de7eecdb",
   "metadata": {},
   "source": [
    "# Run a basic Hermes Hartree-Fock energy calculation on ligand conformers from Auto3d"
   ]
  },
  {
   "cell_type": "markdown",
   "id": "6b9e0688-9c56-4922-bdf9-f29c41fd15c1",
   "metadata": {},
   "source": [
    "In this notebook, we'll perform a hermes energy calculation on a ligand derived from a smiles string"
   ]
  },
  {
   "cell_type": "markdown",
   "id": "ded1f9e9",
   "metadata": {},
   "source": [
    "# 0) Complete example\n",
    "See the [sample notebook](/Quickstarts/auto3d_conformer_tautomer_generation-sample.ipynb) for a complete demonstration."
   ]
  },
  {
   "cell_type": "markdown",
   "id": "dbf4feb5-2f37-4f2e-b1ea-943756525df2",
   "metadata": {},
   "source": [
    "# 1) Setup"
   ]
  },
  {
   "cell_type": "markdown",
   "id": "dbcb9011",
   "metadata": {},
   "source": [
    "## 1.0) Imports"
   ]
  },
  {
   "cell_type": "code",
   "execution_count": null,
   "id": "de35042a-572b-4c97-9ed2-96d192ae59cd",
   "metadata": {},
   "outputs": [],
   "source": [
    "import json\n",
    "import os\n",
    "import sys\n",
    "import tarfile\n",
    "\n",
    "from pdbtools import *\n",
    "import requests\n",
    "from datetime import datetime\n",
    "from pathlib import Path\n",
    "import py3Dmol\n",
    "\n",
    "import rush"
   ]
  },
  {
   "cell_type": "markdown",
   "id": "60a75a2b",
   "metadata": {},
   "source": [
    "## 1.1) Configuration"
   ]
  },
  {
   "cell_type": "code",
   "execution_count": null,
   "id": "1e25927d-d93d-4380-8e02-a025530504bb",
   "metadata": {},
   "outputs": [],
   "source": [
    "EXPERIMENT = \"tengu-py-auto3d_hermes\"\n",
    "LIGAND_SMILES = \"CC(=O)OC1=CC=CC=C1C(=O)O \"\n",
    "LIGAND = \"ASPRIN\"\n",
    "TAGS = [\"qdx\", EXPERIMENT, LIGAND]"
   ]
  },
  {
   "cell_type": "code",
   "execution_count": null,
   "id": "05d81d8c-291d-4902-b87c-7b9a2d9d83f5",
   "metadata": {},
   "outputs": [
    {
     "name": "stdout",
     "output_type": "stream",
     "text": [
      "2024-05-07 17:26:37,603 - rush - WARNING - Module auto3d has a different version on the server: github:talo/tengu-auto3d/19d66c0f29a1c204b0149af0000983874675a272#auto3d_tengu.\n",
      "                                Use `.update_modules()` to update the lock file\n",
      "2024-05-07 17:26:37,605 - rush - WARNING - Module gnina_pdb has a different version on the server: github:talo/tengu-gnina/226c2d5b94f4e4773c41a13613d588fad41c0eab#gnina_tengu_pdb.\n",
      "                                Use `.update_modules()` to update the lock file\n",
      "2024-05-07 17:26:37,606 - rush - WARNING - Module p2rank has a different version on the server: github:talo/tengu-p2rank/b8b810bc2a40fe507d65a4280922ac576a223519#p2rank_tengu.\n",
      "                                Use `.update_modules()` to update the lock file\n",
      "2024-05-07 17:26:37,607 - rush - WARNING - Module p2rank_pdb has a different version on the server: github:talo/tengu-p2rank/b8b810bc2a40fe507d65a4280922ac576a223519#p2rank_pdb_tengu.\n",
      "                                Use `.update_modules()` to update the lock file\n",
      "2024-05-07 17:26:37,608 - rush - WARNING - Module gnina has a different version on the server: github:talo/tengu-gnina/b68dc7b9ede92b2c4f2887e42cdf13b191b7c368#gnina_tengu.\n",
      "                                Use `.update_modules()` to update the lock file\n",
      "2024-05-07 17:26:37,608 - rush - WARNING - Module github:talo/tengu-rxdock/e4a2716694bd78d3d672c0db727936881f692d9c#rxdock_tengu is not in the lock file\n",
      "2024-05-07 17:26:37,609 - rush - WARNING - Module colabfold_fold has a different version on the server: github:talo/colabfold_tengu/f0bfcd1224adc86e54d52bdf49a7b9f1125018eb#colabfold_tengu_fold.\n",
      "                                Use `.update_modules()` to update the lock file\n",
      "2024-05-07 17:26:37,610 - rush - WARNING - Module mmseqs2 has a different version on the server: github:talo/colabfold_tengu/279da07e4f58e122981bcfcf9398a51cf4b38471#mmseqs2_tengu.\n",
      "                                Use `.update_modules()` to update the lock file\n",
      "2024-05-07 17:26:37,610 - rush - WARNING - Module plip has a different version on the server: github:talo/tengu-plip/86dc3c7bea0f03f1fae5c7ca951ea0ebbbebd46a#plip_tengu.\n",
      "                                Use `.update_modules()` to update the lock file\n",
      "2024-05-07 17:26:37,611 - rush - WARNING - Module github:talo/tengu-msa_subsampler/13d109a69a0268a94e906963b263961240aab0b7#msa_subsampler is not in the lock file\n",
      "2024-05-07 17:26:37,612 - rush - WARNING - Module gmx has a different version on the server: github:talo/tengu-gmx/95efe7b6e930145925cd9ec495961efdf2dda6ca#gmx_tengu.\n",
      "                                Use `.update_modules()` to update the lock file\n",
      "2024-05-07 17:26:37,612 - rush - WARNING - Module nnff has a different version on the server: github:talo/nnff/0972bf203ba5391534e6732aba9fd7ee588c32cb#nnff_tengu.\n",
      "                                Use `.update_modules()` to update the lock file\n",
      "2024-05-07 17:26:37,613 - rush - WARNING - Module gmx_resume has a different version on the server: github:talo/tengu-gmx/fe45ae04de1f36e1fbc6fe3c59890fd44450ca03#gmx_resume_tengu.\n",
      "                                Use `.update_modules()` to update the lock file\n",
      "2024-05-07 17:26:37,614 - rush - WARNING - Module prepare_protein has a different version on the server: github:talo/prepare_protein/091b1c36a90c56d75500ff2fcad2055414557991#prepare_protein_tengu.\n",
      "                                Use `.update_modules()` to update the lock file\n",
      "2024-05-07 17:26:37,615 - rush - WARNING - Module github:talo/tengu-module-example/5cbcd752c614769b2e1bf18a9bc8031034e471a8#tengu_echo is not in the lock file\n",
      "2024-05-07 17:26:37,615 - rush - WARNING - Module github:talo/tengu-module-example/d7b013bf8024c75410928e037fbaae0a01b74613#spam is not in the lock file\n",
      "2024-05-07 17:26:37,616 - rush - WARNING - Module github:talo/tengu-module-example/d7b013bf8024c75410928e037fbaae0a01b74613#delay is not in the lock file\n",
      "2024-05-07 17:26:37,617 - rush - WARNING - Module github:talo/qm_geo_opt/8030ca9dd1da58c9ef526ac7432523a2aa308a37#qm_geo_opt_tengu is not in the lock file\n",
      "2024-05-07 17:26:37,617 - rush - WARNING - Module gmx_mmpbsa has a different version on the server: github:talo/tengu-gmx/b8b9f617eaada271beec74d9b7500916cfdfa803#gmx_mmpbsa_tengu.\n",
      "                                Use `.update_modules()` to update the lock file\n",
      "2024-05-07 17:26:37,618 - rush - WARNING - Module hermes_energy_batch has a different version on the server: github:talo/tengu-prelude/464d2641a6109f6b831ec0e62a846b9283652d0f#hermes_energy_batch.\n",
      "                                Use `.update_modules()` to update the lock file\n",
      "2024-05-07 17:26:37,618 - rush - WARNING - Module colabfold_search has a different version on the server: github:talo/colabfold_tengu/583ed598f602952dbce00931d67b992aee7bb49a#colabfold_tengu_search.\n",
      "                                Use `.update_modules()` to update the lock file\n",
      "2024-05-07 17:26:37,619 - rush - WARNING - Module github:talo/colabfold_tengu/807cdf3f1a618b2ede4f47b549d667f754df395d#colabfold_tengu_fasta_fold is not in the lock file\n",
      "2024-05-07 17:26:37,620 - rush - WARNING - Module dubai has a different version on the server: github:talo/Dubai/cf7835b4c099e19ea77e0f28e999136bcaf62e5a#dubai_tengu.\n",
      "                                Use `.update_modules()` to update the lock file\n",
      "2024-05-07 17:26:37,621 - rush - WARNING - Module pbsa has a different version on the server: github:talo/pbsa-cuda/03a11fe0a52f047a5fa424514a7c89d5f106a5d9#pbsa_tengu.\n",
      "                                Use `.update_modules()` to update the lock file\n"
     ]
    }
   ],
   "source": [
    "# |hide\n",
    "WORK_DIR = Path.home() / \"qdx\" / EXPERIMENT\n",
    "\n",
    "if WORK_DIR.exists():\n",
    "    client = rush.Provider(workspace=WORK_DIR)\n",
    "    await client.nuke(remote=False)\n",
    "\n",
    "os.makedirs(WORK_DIR, exist_ok=True)\n",
    "os.makedirs(WORK_DIR / \".rush\", exist_ok=True)\n",
    "\n",
    "os.chdir(WORK_DIR)\n",
    "YOUR_TOKEN = os.getenv(\"RUSH_TOKEN\")"
   ]
  },
  {
   "cell_type": "markdown",
   "id": "770f5c87",
   "metadata": {},
   "source": [
    "## 1.2) Build your client"
   ]
  },
  {
   "cell_type": "code",
   "execution_count": null,
   "id": "c588f092-d7db-4128-b21f-8f5cfa00f65b",
   "metadata": {},
   "outputs": [],
   "source": [
    "# Get our client, for calling modules and using the rush API\n",
    "client = rush.build_blocking_provider_with_functions(batch_tags=TAGS)"
   ]
  },
  {
   "cell_type": "markdown",
   "id": "c95c0376-6dac-419c-a48d-30a8d877aead",
   "metadata": {},
   "source": [
    "# 2) Preparation\n",
    "We want to convert our raw files into prepared qdxfs, with correct charges and missing residues filled"
   ]
  },
  {
   "cell_type": "code",
   "execution_count": null,
   "id": "60cd0e23-f6ea-434c-9593-799c8ae4204c",
   "metadata": {},
   "outputs": [
    {
     "name": "stdout",
     "output_type": "stream",
     "text": [
      "Help on function auto3d in module rush.provider:\n",
      "\n",
      "auto3d(*args: *tuple[RushObject[bytes], str, Record], target: 'Target | None' = None, resources: 'Resources | None' = None, tags: 'list[str] | None' = None, restore: 'bool | None' = None) -> tuple[RushObject[bytes], RushObject[list[Record]]]\n",
      "    Generate 3D conformers from SMILES strings and other inputs\n",
      "\n",
      "    Module version:\n",
      "    `github:talo/tengu-auto3d/19d66c0f29a1c204b0149af0000983874675a272#auto3d_tengu`\n",
      "\n",
      "    QDX Type Description:\n",
      "\n",
      "        molecule_file: Object[@$Bytes];\n",
      "        molecule_file_type: string;\n",
      "        options: Auto3dOptions {\n",
      "            optimizing_engine: Auto3dOptimizingEngines[ANI2x | ANI2xt | AIMNET]?,\n",
      "            enumerate_isomer: bool?,\n",
      "            batchsize_atoms: u32?,\n",
      "            max_confs: u32?,\n",
      "            use_gpu: bool?,\n",
      "            enumerate_tautomer: bool?,\n",
      "            verbose: bool?,\n",
      "            memory: u32?,\n",
      "            patience: u32?,\n",
      "            capacity: u32?,\n",
      "            gpu_idx: [u32]?,\n",
      "            k: i32?,\n",
      "            opt_steps: u32?,\n",
      "            window: f32?,\n",
      "            mpi_np: u32?,\n",
      "            job_name: string?,\n",
      "            threshold: f32?,\n",
      "            convergence_threshold: f32?\n",
      "        }\n",
      "        ->\n",
      "        conformer_sdf: Object {format: ObjectFormat[json | bin]?, path: @$SDF, size: u32};\n",
      "        conformers: Object[[Conformer]]\n",
      "\n",
      "\n",
      "    :param molecule_file: The input molecules as a file; either one SMILES string per line, or an SDF\n",
      "    :param molecule_file_type: The string 'smi' or 'sdf', depending on the input type\n",
      "    :param options: A dict with options to pass; see auto3d docs for details\n",
      "    :return conformer_sdf: A sdf file containing the ligand(s)'s conformers\n",
      "    :return conformers: A vec of qdxf conformers\n",
      "\n"
     ]
    }
   ],
   "source": [
    "help(client.auto3d)"
   ]
  },
  {
   "cell_type": "code",
   "execution_count": null,
   "id": "1d8f5da1-9bf1-499b-86be-94327de03353",
   "metadata": {},
   "outputs": [
    {
     "name": "stdout",
     "output_type": "stream",
     "text": [
      "17:26:40.429981 | Running ligand preparation!\n"
     ]
    }
   ],
   "source": [
    "ligand_path = client.workspace / \"aspirin.smiles\"\n",
    "with open(ligand_path, \"w\") as ligand_file:\n",
    "    print(f\"{LIGAND_SMILES} {LIGAND_SMILES}\", file=ligand_file)\n",
    "\n",
    "(conformer_sdf, conformer_qdxf) = client.auto3d(\n",
    "    ligand_path,\n",
    "    \"smi\",\n",
    "    {\"k\": 5, \"use_gpu\": True},\n",
    "    resources={\"gpus\": 1, \"storage\": \"5\", \"storage_units\": \"GB\"},\n",
    ")\n",
    "\n",
    "print(f\"{datetime.now().time()} | Running ligand preparation!\")"
   ]
  },
  {
   "cell_type": "code",
   "execution_count": null,
   "id": "fd5b5747-7c8e-4be6-806e-d153727508c0",
   "metadata": {},
   "outputs": [
    {
     "data": {
      "text/plain": [
       "UUID('7fbbd6f9-2b3c-4a45-9e07-51f557eb801b')"
      ]
     },
     "execution_count": null,
     "metadata": {},
     "output_type": "execute_result"
    }
   ],
   "source": [
    "conformer_qdxf.source"
   ]
  },
  {
   "cell_type": "code",
   "execution_count": null,
   "id": "25809836-bb56-4b3b-bb71-3d61159f10b5",
   "metadata": {},
   "outputs": [],
   "source": [
    "conformer_sdf.value"
   ]
  },
  {
   "cell_type": "code",
   "execution_count": null,
   "id": "7b43c296-425b-4c97-adbb-55db9288b01c",
   "metadata": {},
   "outputs": [
    {
     "name": "stdout",
     "output_type": "stream",
     "text": [
      "2024-05-07 17:26:40,721 - rush - INFO - Argument 62e4339b-546a-4335-9ca8-52df95c64768 is now ModuleInstanceStatus.RESOLVING\n",
      "2024-05-07 17:26:44,258 - rush - INFO - Argument 62e4339b-546a-4335-9ca8-52df95c64768 is now ModuleInstanceStatus.ADMITTED\n",
      "2024-05-07 17:26:47,782 - rush - INFO - Argument 62e4339b-546a-4335-9ca8-52df95c64768 is now ModuleInstanceStatus.DISPATCHED\n",
      "2024-05-07 17:26:49,010 - rush - INFO - Argument 62e4339b-546a-4335-9ca8-52df95c64768 is now ModuleInstanceStatus.RUNNING\n",
      "2024-05-07 17:27:24,581 - rush - INFO - Argument 62e4339b-546a-4335-9ca8-52df95c64768 is now ModuleInstanceStatus.AWAITING_UPLOAD\n"
     ]
    }
   ],
   "source": [
    "try:\n",
    "    conformer_sdf.download(filename=\"01_prepared_ligand.sdf\")\n",
    "except FileExistsError:\n",
    "    # we will raise an error if you try to overwrite an existing file; you can\n",
    "    # force the file to overwrite by passing an absolute filepath instead\n",
    "    pass"
   ]
  },
  {
   "cell_type": "markdown",
   "id": "de55d6dc-31c7-49b2-ab5f-68424c3df9cf",
   "metadata": {},
   "source": [
    "You should visualize your prepared ligand to spot check any issues"
   ]
  },
  {
   "cell_type": "code",
   "execution_count": null,
   "id": "df1c95e9-59e2-48a9-a478-b6efb638fbe0",
   "metadata": {},
   "outputs": [
    {
     "data": {
      "application/3dmoljs_load.v0": "<div id=\"3dmolviewer_17150740570923462\"  style=\"position: relative; width: 640px; height: 480px;\">\n        <p id=\"3dmolwarning_17150740570923462\" style=\"background-color:#ffcccc;color:black\">3Dmol.js failed to load for some reason.  Please check your browser console for error messages.<br></p>\n        </div>\n<script>\n\nvar loadScriptAsync = function(uri){\n  return new Promise((resolve, reject) => {\n    //this is to ignore the existence of requirejs amd\n    var savedexports, savedmodule;\n    if (typeof exports !== 'undefined') savedexports = exports;\n    else exports = {}\n    if (typeof module !== 'undefined') savedmodule = module;\n    else module = {}\n\n    var tag = document.createElement('script');\n    tag.src = uri;\n    tag.async = true;\n    tag.onload = () => {\n        exports = savedexports;\n        module = savedmodule;\n        resolve();\n    };\n  var firstScriptTag = document.getElementsByTagName('script')[0];\n  firstScriptTag.parentNode.insertBefore(tag, firstScriptTag);\n});\n};\n\nif(typeof $3Dmolpromise === 'undefined') {\n$3Dmolpromise = null;\n  $3Dmolpromise = loadScriptAsync('https://cdnjs.cloudflare.com/ajax/libs/3Dmol/2.1.0/3Dmol-min.js');\n}\n\nvar viewer_17150740570923462 = null;\nvar warn = document.getElementById(\"3dmolwarning_17150740570923462\");\nif(warn) {\n    warn.parentNode.removeChild(warn);\n}\n$3Dmolpromise.then(function() {\nviewer_17150740570923462 = $3Dmol.createViewer(document.getElementById(\"3dmolviewer_17150740570923462\"),{backgroundColor:\"white\"});\nviewer_17150740570923462.zoomTo();\n\tviewer_17150740570923462.addModel(\"CC(=O)OC1=CC=CC=C1C(=O)O\\n     RDKit          3D\\n\\n 21 21  0  0  0  0  0  0  0  0999 V2000\\n    3.3787    0.4985   -0.2050 C   0  0  0  0  0  0  0  0  0  0  0  0\\n    2.0682    0.1100    0.3990 C   0  0  0  0  0  0  0  0  0  0  0  0\\n    1.7280    0.2615    1.5341 O   0  0  0  0  0  0  0  0  0  0  0  0\\n    1.2682   -0.4801   -0.5451 O   0  0  0  0  0  0  0  0  0  0  0  0\\n   -0.0529   -0.6836   -0.2097 C   0  0  0  0  0  0  0  0  0  0  0  0\\n   -0.4564   -1.9869    0.0166 C   0  0  0  0  0  0  0  0  0  0  0  0\\n   -1.7813   -2.2554    0.3117 C   0  0  0  0  0  0  0  0  0  0  0  0\\n   -2.7032   -1.2207    0.3831 C   0  0  0  0  0  0  0  0  0  0  0  0\\n   -2.2934    0.0789    0.1495 C   0  0  0  0  0  0  0  0  0  0  0  0\\n   -0.9642    0.3714   -0.1557 C   0  0  0  0  0  0  0  0  0  0  0  0\\n   -0.5396    1.7706   -0.4298 C   0  0  0  0  0  0  0  0  0  0  0  0\\n    0.5485    2.1271   -0.8016 O   0  0  0  0  0  0  0  0  0  0  0  0\\n   -1.5379    2.6566   -0.2262 O   0  0  0  0  0  0  0  0  0  0  0  0\\n    4.0837    0.7310    0.5851 H   0  0  0  0  0  0  0  0  0  0  0  0\\n    3.7569   -0.2997   -0.8377 H   0  0  0  0  0  0  0  0  0  0  0  0\\n    3.2208    1.3786   -0.8246 H   0  0  0  0  0  0  0  0  0  0  0  0\\n    0.2771   -2.7773   -0.0357 H   0  0  0  0  0  0  0  0  0  0  0  0\\n   -2.0886   -3.2748    0.4922 H   0  0  0  0  0  0  0  0  0  0  0  0\\n   -3.7372   -1.4217    0.6194 H   0  0  0  0  0  0  0  0  0  0  0  0\\n   -3.0029    0.8886    0.2045 H   0  0  0  0  0  0  0  0  0  0  0  0\\n   -1.1729    3.5275   -0.4243 H   0  0  0  0  0  0  0  0  0  0  0  0\\n  1  2  1  0\\n  2  3  2  0\\n  2  4  1  0\\n  4  5  1  0\\n  5  6  2  0\\n  6  7  1  0\\n  7  8  2  0\\n  8  9  1  0\\n  9 10  2  0\\n 10 11  1  0\\n 11 12  2  0\\n 11 13  1  0\\n 10  5  1  0\\n  1 14  1  0\\n  1 15  1  0\\n  1 16  1  0\\n  6 17  1  0\\n  7 18  1  0\\n  8 19  1  0\\n  9 20  1  0\\n 13 21  1  0\\nM  END\\n>  <ID>  (1) \\nCC(=O)OC1=CC=CC=C1C(=O)O_0_24\\n\\n>  <E_tot>  (1) \\n-649.1534615206007\\n\\n>  <fmax>  (1) \\n0.0018965064082294703\\n\\n>  <Converged>  (1) \\nTrue\\n\\n>  <E_rel(kcal/mol)>  (1) \\n0.0\\n\\n$$$$\\nCC(=O)OC1=CC=CC=C1C(=O)O\\n     RDKit          3D\\n\\n 21 21  0  0  0  0  0  0  0  0999 V2000\\n   -3.4033    0.2818   -0.1908 C   0  0  0  0  0  0  0  0  0  0  0  0\\n   -2.0729   -0.1280    0.3529 C   0  0  0  0  0  0  0  0  0  0  0  0\\n   -1.7579   -0.1997    1.5029 O   0  0  0  0  0  0  0  0  0  0  0  0\\n   -1.2202   -0.4422   -0.6742 O   0  0  0  0  0  0  0  0  0  0  0  0\\n    0.1100   -0.6148   -0.3591 C   0  0  0  0  0  0  0  0  0  0  0  0\\n    0.6179   -1.8988   -0.4378 C   0  0  0  0  0  0  0  0  0  0  0  0\\n    1.9578   -2.1259   -0.1770 C   0  0  0  0  0  0  0  0  0  0  0  0\\n    2.7904   -1.0697    0.1648 C   0  0  0  0  0  0  0  0  0  0  0  0\\n    2.2768    0.2120    0.2346 C   0  0  0  0  0  0  0  0  0  0  0  0\\n    0.9312    0.4645   -0.0312 C   0  0  0  0  0  0  0  0  0  0  0  0\\n    0.3968    1.8521    0.0158 C   0  0  0  0  0  0  0  0  0  0  0  0\\n   -0.7022    2.2052   -0.3260 O   0  0  0  0  0  0  0  0  0  0  0  0\\n    1.3043    2.7338    0.4866 O   0  0  0  0  0  0  0  0  0  0  0  0\\n   -3.2966    1.2580   -0.6586 H   0  0  0  0  0  0  0  0  0  0  0  0\\n   -3.7361   -0.4228   -0.9485 H   0  0  0  0  0  0  0  0  0  0  0  0\\n   -4.1202    0.3398    0.6202 H   0  0  0  0  0  0  0  0  0  0  0  0\\n   -0.0469   -2.7084   -0.6983 H   0  0  0  0  0  0  0  0  0  0  0  0\\n    2.3466   -3.1317   -0.2356 H   0  0  0  0  0  0  0  0  0  0  0  0\\n    3.8352   -1.2402    0.3761 H   0  0  0  0  0  0  0  0  0  0  0  0\\n    2.9164    1.0381    0.5006 H   0  0  0  0  0  0  0  0  0  0  0  0\\n    0.8732    3.5969    0.4824 H   0  0  0  0  0  0  0  0  0  0  0  0\\n  1  2  1  0\\n  2  3  2  0\\n  2  4  1  0\\n  4  5  1  0\\n  5  6  2  0\\n  6  7  1  0\\n  7  8  2  0\\n  8  9  1  0\\n  9 10  2  0\\n 10 11  1  0\\n 11 12  2  0\\n 11 13  1  0\\n 10  5  1  0\\n  1 14  1  0\\n  1 15  1  0\\n  1 16  1  0\\n  6 17  1  0\\n  7 18  1  0\\n  8 19  1  0\\n  9 20  1  0\\n 13 21  1  0\\nM  END\\n>  <ID>  (2) \\nCC(=O)OC1=CC=CC=C1C(=O)O_0_6\\n\\n>  <E_tot>  (2) \\n-649.1534603657176\\n\\n>  <fmax>  (2) \\n0.0028993531595915556\\n\\n>  <Converged>  (2) \\nTrue\\n\\n>  <E_rel(kcal/mol)>  (2) \\n0.0007247000962815054\\n\\n$$$$\\n\",\"sdf\");\n\tviewer_17150740570923462.setStyle({\"stick\": {}});\n\tviewer_17150740570923462.zoomTo();\nviewer_17150740570923462.render();\n});\n</script>",
      "text/html": [
       "<div id=\"3dmolviewer_17150740570923462\"  style=\"position: relative; width: 640px; height: 480px;\">\n",
       "        <p id=\"3dmolwarning_17150740570923462\" style=\"background-color:#ffcccc;color:black\">3Dmol.js failed to load for some reason.  Please check your browser console for error messages.<br></p>\n",
       "        </div>\n",
       "<script>\n",
       "\n",
       "var loadScriptAsync = function(uri){\n",
       "  return new Promise((resolve, reject) => {\n",
       "    //this is to ignore the existence of requirejs amd\n",
       "    var savedexports, savedmodule;\n",
       "    if (typeof exports !== 'undefined') savedexports = exports;\n",
       "    else exports = {}\n",
       "    if (typeof module !== 'undefined') savedmodule = module;\n",
       "    else module = {}\n",
       "\n",
       "    var tag = document.createElement('script');\n",
       "    tag.src = uri;\n",
       "    tag.async = true;\n",
       "    tag.onload = () => {\n",
       "        exports = savedexports;\n",
       "        module = savedmodule;\n",
       "        resolve();\n",
       "    };\n",
       "  var firstScriptTag = document.getElementsByTagName('script')[0];\n",
       "  firstScriptTag.parentNode.insertBefore(tag, firstScriptTag);\n",
       "});\n",
       "};\n",
       "\n",
       "if(typeof $3Dmolpromise === 'undefined') {\n",
       "$3Dmolpromise = null;\n",
       "  $3Dmolpromise = loadScriptAsync('https://cdnjs.cloudflare.com/ajax/libs/3Dmol/2.1.0/3Dmol-min.js');\n",
       "}\n",
       "\n",
       "var viewer_17150740570923462 = null;\n",
       "var warn = document.getElementById(\"3dmolwarning_17150740570923462\");\n",
       "if(warn) {\n",
       "    warn.parentNode.removeChild(warn);\n",
       "}\n",
       "$3Dmolpromise.then(function() {\n",
       "viewer_17150740570923462 = $3Dmol.createViewer(document.getElementById(\"3dmolviewer_17150740570923462\"),{backgroundColor:\"white\"});\n",
       "viewer_17150740570923462.zoomTo();\n",
       "\tviewer_17150740570923462.addModel(\"CC(=O)OC1=CC=CC=C1C(=O)O\\n     RDKit          3D\\n\\n 21 21  0  0  0  0  0  0  0  0999 V2000\\n    3.3787    0.4985   -0.2050 C   0  0  0  0  0  0  0  0  0  0  0  0\\n    2.0682    0.1100    0.3990 C   0  0  0  0  0  0  0  0  0  0  0  0\\n    1.7280    0.2615    1.5341 O   0  0  0  0  0  0  0  0  0  0  0  0\\n    1.2682   -0.4801   -0.5451 O   0  0  0  0  0  0  0  0  0  0  0  0\\n   -0.0529   -0.6836   -0.2097 C   0  0  0  0  0  0  0  0  0  0  0  0\\n   -0.4564   -1.9869    0.0166 C   0  0  0  0  0  0  0  0  0  0  0  0\\n   -1.7813   -2.2554    0.3117 C   0  0  0  0  0  0  0  0  0  0  0  0\\n   -2.7032   -1.2207    0.3831 C   0  0  0  0  0  0  0  0  0  0  0  0\\n   -2.2934    0.0789    0.1495 C   0  0  0  0  0  0  0  0  0  0  0  0\\n   -0.9642    0.3714   -0.1557 C   0  0  0  0  0  0  0  0  0  0  0  0\\n   -0.5396    1.7706   -0.4298 C   0  0  0  0  0  0  0  0  0  0  0  0\\n    0.5485    2.1271   -0.8016 O   0  0  0  0  0  0  0  0  0  0  0  0\\n   -1.5379    2.6566   -0.2262 O   0  0  0  0  0  0  0  0  0  0  0  0\\n    4.0837    0.7310    0.5851 H   0  0  0  0  0  0  0  0  0  0  0  0\\n    3.7569   -0.2997   -0.8377 H   0  0  0  0  0  0  0  0  0  0  0  0\\n    3.2208    1.3786   -0.8246 H   0  0  0  0  0  0  0  0  0  0  0  0\\n    0.2771   -2.7773   -0.0357 H   0  0  0  0  0  0  0  0  0  0  0  0\\n   -2.0886   -3.2748    0.4922 H   0  0  0  0  0  0  0  0  0  0  0  0\\n   -3.7372   -1.4217    0.6194 H   0  0  0  0  0  0  0  0  0  0  0  0\\n   -3.0029    0.8886    0.2045 H   0  0  0  0  0  0  0  0  0  0  0  0\\n   -1.1729    3.5275   -0.4243 H   0  0  0  0  0  0  0  0  0  0  0  0\\n  1  2  1  0\\n  2  3  2  0\\n  2  4  1  0\\n  4  5  1  0\\n  5  6  2  0\\n  6  7  1  0\\n  7  8  2  0\\n  8  9  1  0\\n  9 10  2  0\\n 10 11  1  0\\n 11 12  2  0\\n 11 13  1  0\\n 10  5  1  0\\n  1 14  1  0\\n  1 15  1  0\\n  1 16  1  0\\n  6 17  1  0\\n  7 18  1  0\\n  8 19  1  0\\n  9 20  1  0\\n 13 21  1  0\\nM  END\\n>  <ID>  (1) \\nCC(=O)OC1=CC=CC=C1C(=O)O_0_24\\n\\n>  <E_tot>  (1) \\n-649.1534615206007\\n\\n>  <fmax>  (1) \\n0.0018965064082294703\\n\\n>  <Converged>  (1) \\nTrue\\n\\n>  <E_rel(kcal/mol)>  (1) \\n0.0\\n\\n$$$$\\nCC(=O)OC1=CC=CC=C1C(=O)O\\n     RDKit          3D\\n\\n 21 21  0  0  0  0  0  0  0  0999 V2000\\n   -3.4033    0.2818   -0.1908 C   0  0  0  0  0  0  0  0  0  0  0  0\\n   -2.0729   -0.1280    0.3529 C   0  0  0  0  0  0  0  0  0  0  0  0\\n   -1.7579   -0.1997    1.5029 O   0  0  0  0  0  0  0  0  0  0  0  0\\n   -1.2202   -0.4422   -0.6742 O   0  0  0  0  0  0  0  0  0  0  0  0\\n    0.1100   -0.6148   -0.3591 C   0  0  0  0  0  0  0  0  0  0  0  0\\n    0.6179   -1.8988   -0.4378 C   0  0  0  0  0  0  0  0  0  0  0  0\\n    1.9578   -2.1259   -0.1770 C   0  0  0  0  0  0  0  0  0  0  0  0\\n    2.7904   -1.0697    0.1648 C   0  0  0  0  0  0  0  0  0  0  0  0\\n    2.2768    0.2120    0.2346 C   0  0  0  0  0  0  0  0  0  0  0  0\\n    0.9312    0.4645   -0.0312 C   0  0  0  0  0  0  0  0  0  0  0  0\\n    0.3968    1.8521    0.0158 C   0  0  0  0  0  0  0  0  0  0  0  0\\n   -0.7022    2.2052   -0.3260 O   0  0  0  0  0  0  0  0  0  0  0  0\\n    1.3043    2.7338    0.4866 O   0  0  0  0  0  0  0  0  0  0  0  0\\n   -3.2966    1.2580   -0.6586 H   0  0  0  0  0  0  0  0  0  0  0  0\\n   -3.7361   -0.4228   -0.9485 H   0  0  0  0  0  0  0  0  0  0  0  0\\n   -4.1202    0.3398    0.6202 H   0  0  0  0  0  0  0  0  0  0  0  0\\n   -0.0469   -2.7084   -0.6983 H   0  0  0  0  0  0  0  0  0  0  0  0\\n    2.3466   -3.1317   -0.2356 H   0  0  0  0  0  0  0  0  0  0  0  0\\n    3.8352   -1.2402    0.3761 H   0  0  0  0  0  0  0  0  0  0  0  0\\n    2.9164    1.0381    0.5006 H   0  0  0  0  0  0  0  0  0  0  0  0\\n    0.8732    3.5969    0.4824 H   0  0  0  0  0  0  0  0  0  0  0  0\\n  1  2  1  0\\n  2  3  2  0\\n  2  4  1  0\\n  4  5  1  0\\n  5  6  2  0\\n  6  7  1  0\\n  7  8  2  0\\n  8  9  1  0\\n  9 10  2  0\\n 10 11  1  0\\n 11 12  2  0\\n 11 13  1  0\\n 10  5  1  0\\n  1 14  1  0\\n  1 15  1  0\\n  1 16  1  0\\n  6 17  1  0\\n  7 18  1  0\\n  8 19  1  0\\n  9 20  1  0\\n 13 21  1  0\\nM  END\\n>  <ID>  (2) \\nCC(=O)OC1=CC=CC=C1C(=O)O_0_6\\n\\n>  <E_tot>  (2) \\n-649.1534603657176\\n\\n>  <fmax>  (2) \\n0.0028993531595915556\\n\\n>  <Converged>  (2) \\nTrue\\n\\n>  <E_rel(kcal/mol)>  (2) \\n0.0007247000962815054\\n\\n$$$$\\n\",\"sdf\");\n",
       "\tviewer_17150740570923462.setStyle({\"stick\": {}});\n",
       "\tviewer_17150740570923462.zoomTo();\n",
       "viewer_17150740570923462.render();\n",
       "});\n",
       "</script>"
      ]
     },
     "metadata": {},
     "output_type": "display_data"
    }
   ],
   "source": [
    "view = py3Dmol.view()\n",
    "with open(client.workspace / \"objects\" / \"01_prepared_ligand.sdf\", \"r\") as f:\n",
    "    view.addModel(f.read(), \"sdf\")\n",
    "    view.setStyle({\"stick\": {}})\n",
    "    view.zoomTo()\n",
    "    view.show()"
   ]
  },
  {
   "cell_type": "markdown",
   "id": "30ec215f-08c7-4ad2-a756-f0e9eebe50d1",
   "metadata": {},
   "source": [
    "# 3) Quantum energy calculation\n",
    "Finally, we submit our fragmented protein for quantum energy calculation, with custom configuration."
   ]
  },
  {
   "cell_type": "code",
   "execution_count": null,
   "id": "f61f6890-a2b5-4015-8c6a-c0b244ae88e3",
   "metadata": {},
   "outputs": [
    {
     "name": "stdout",
     "output_type": "stream",
     "text": [
      "Help on function hermes_energy in module rush.provider:\n",
      "\n",
      "hermes_energy(*args: *tuple[RushObject[Record], Record, Optional[Record], Optional[Record], Optional[Record], Optional[Record]], target: 'Target | None' = None, resources: 'Resources | None' = None, tags: 'list[str] | None' = None, restore: 'bool | None' = None) -> tuple[RushObject[Record]]\n",
      "    Runs a HERMES energy calculation given a topology, and optionally model and keyword configurations.\n",
      "    Will use the default model and keywords if none are provided\n",
      "\n",
      "    Module version:\n",
      "    `github:talo/tengu-prelude/3d11b61a2092fbec721966ffa99743f8bfabe6c2#hermes_energy`\n",
      "\n",
      "    QDX Type Description:\n",
      "\n",
      "        input: Object[Conformer];\n",
      "        system: System {\n",
      "            teams_per_node: u32?,\n",
      "            oversubscribe_gpus: bool?,\n",
      "            gpus_per_team: u32?,\n",
      "            max_gpu_memory_mb: u32?\n",
      "        };\n",
      "        model: Model {\n",
      "            basis: string,\n",
      "            force_cartesian_basis_sets: bool?,\n",
      "            standard_orientation: string?,\n",
      "            aux_basis: string?\n",
      "        }?;\n",
      "        scf keywords: SCF {\n",
      "            max_diis_history_length: u32?,\n",
      "            convergence_threshold: f64?,\n",
      "            batch_size: u32?,\n",
      "            max_iters: u32?,\n",
      "            density_threshold: f64?,\n",
      "            convergence_metric: string?,\n",
      "            density_basis_set_projection_fallback_enabled: bool?,\n",
      "            use_ri: bool?\n",
      "        }?;\n",
      "        frag keywords: Frag {\n",
      "            reference_fragment: u32?,\n",
      "            cutoff_type: CutoffType[Centroid | ClosestPair]?,\n",
      "            level: FragLevel[Monomer | Dimer | Trimer | Tetramer],\n",
      "            included_fragments: [u32]?,\n",
      "            cutoffs: FragCutoffs {tetramer: f64?, dimer: f64?, trimer: f64?}?\n",
      "        }?;\n",
      "        guess keywords: Guess {\n",
      "            ssfd_scf_keywords: GuessSCF {\n",
      "                density_basis_set_projection_fallback_enabled: bool?,\n",
      "                use_ri: bool?,\n",
      "                max_iters: u32?,\n",
      "                convergence_threshold: f64?,\n",
      "                convergence_metric: ConvergenceMetric[Energy | DIIS | Density]?,\n",
      "                batch_size: u32?,\n",
      "                max_diis_history_length: u32?,\n",
      "                density_threshold: f64?\n",
      "            }?,\n",
      "            bsp_scf_keywords: SCF {\n",
      "                density_basis_set_projection_fallback_enabled: bool?,\n",
      "                convergence_metric: string?,\n",
      "                convergence_threshold: f64?,\n",
      "                max_iters: u32?,\n",
      "                batch_size: u32?,\n",
      "                use_ri: bool?,\n",
      "                max_diis_history_length: u32?,\n",
      "                density_threshold: f64?\n",
      "            }?,\n",
      "            ssfd_target_size: u32?,\n",
      "            bsp: bool?,\n",
      "            ssfd_only_converge_in_bsp_basis: bool?,\n",
      "            smd: bool?,\n",
      "            ssfd: bool?,\n",
      "            bsp_basis: string?\n",
      "        }?\n",
      "        ->\n",
      "        energy: Object {\n",
      "            size: u32,\n",
      "            format: ObjectFormat[json | bin]?,\n",
      "            path: @QMMBE {\n",
      "                reference_fragment: u32?,\n",
      "                expanded_hf_gradients: [f64]?,\n",
      "                expanded_mp2_gradients: [f64]?,\n",
      "                expanded_density: Tensorf64 {\n",
      "                    data: [f64],\n",
      "                    shape: [u32],\n",
      "                    kind: TensorKind[Dense | SquareSymmetric | LowerTriangular]\n",
      "                }?,\n",
      "                expanded_mp2_os_correction: f64?,\n",
      "                expanded_mp2_ss_correction: f64?,\n",
      "                distance_metric: CutoffType[Centroid | ClosestPair]?,\n",
      "                nmers: [[Nmer {\n",
      "                    delta_mp2_os_correction: f64?,\n",
      "                    delta_hf_energy: f64?,\n",
      "                    mulliken_charges: [f64]?,\n",
      "                    h_caps: [u32]?,\n",
      "                    hf_gradients: [f64]?,\n",
      "                    coeffs_initial: Tensorf64 {\n",
      "                        kind: TensorKind[Dense | SquareSymmetric | LowerTriangular],\n",
      "                        shape: [u32],\n",
      "                        data: [f64]\n",
      "                    }?,\n",
      "                    mp2_gradients: [f64]?,\n",
      "                    hf_energy: f64?,\n",
      "                    fragment_distance: f64?,\n",
      "                    mp2_os_correction: f64?,\n",
      "                    mp2_ss_correction: f64?,\n",
      "                    delta_mp2_ss_correction: f64?,\n",
      "                    overlap: Tensorf64 {\n",
      "                        shape: [u32],\n",
      "                        kind: TensorKind[Dense | SquareSymmetric | LowerTriangular],\n",
      "                        data: [f64]\n",
      "                    }?,\n",
      "                    h_core: Tensorf64 {\n",
      "                        data: [f64],\n",
      "                        kind: TensorKind[Dense | SquareSymmetric | LowerTriangular],\n",
      "                        shape: [u32]\n",
      "                    }?,\n",
      "                    num_iters: u32,\n",
      "                    bond_orders: [[f64]]?,\n",
      "                    fragments: [u32],\n",
      "                    fock: Tensorf64 {\n",
      "                        data: [f64],\n",
      "                        kind: TensorKind[Dense | SquareSymmetric | LowerTriangular],\n",
      "                        shape: [u32]\n",
      "                    }?,\n",
      "                    num_basis_fns: u32,\n",
      "                    density: Tensorf64 {\n",
      "                        data: [f64],\n",
      "                        shape: [u32],\n",
      "                        kind: TensorKind[Dense | SquareSymmetric | LowerTriangular]\n",
      "                    }?,\n",
      "                    molecular_orbital_energies: [f64]?,\n",
      "                    coeffs_final: Tensorf64 {\n",
      "                        shape: [u32],\n",
      "                        data: [f64],\n",
      "                        kind: TensorKind[Dense | SquareSymmetric | LowerTriangular]\n",
      "                    }?\n",
      "                }]],\n",
      "                expanded_hf_energy: f64?\n",
      "            }\n",
      "        }\n",
      "\n",
      "\n",
      "    :param input: Conformer with topology\n",
      "    :param system: system resources configuration\n",
      "    :param model: Optional Model configuration\n",
      "    :param scf keywords: Optional Self Consistent Field configuration\n",
      "    :param frag keywords: Optional Fragmentation configuration\n",
      "    :param guess keywords: Optional initial guess configuration\n",
      "    :return energy: energy results\n",
      "\n"
     ]
    }
   ],
   "source": [
    "help(client.hermes_energy)"
   ]
  },
  {
   "cell_type": "code",
   "execution_count": null,
   "id": "d049185e-f584-41c7-a52f-01cef8c68c15",
   "metadata": {},
   "outputs": [],
   "source": [
    "HERMES_RESOURCES = {\n",
    "    \"gpus\": 1,\n",
    "    \"storage\": 100,\n",
    "    \"storage_units\": \"MB\",\n",
    "    \"walltime\": 60,\n",
    "}"
   ]
  },
  {
   "cell_type": "code",
   "execution_count": null,
   "id": "904cf300-232d-4e4d-8b14-24b628445f02",
   "metadata": {},
   "outputs": [],
   "source": [
    "(conformer,) = client.pick_conformer(conformer_qdxf, 0)"
   ]
  },
  {
   "cell_type": "code",
   "execution_count": null,
   "id": "921a889d-07e7-4b70-9962-59839a4a133d",
   "metadata": {},
   "outputs": [
    {
     "name": "stdout",
     "output_type": "stream",
     "text": [
      "2024-05-07 17:27:37,403 - rush - INFO - Argument eacda067-1323-4558-9762-54379137272e is now ModuleInstanceStatus.RESOLVING\n",
      "2024-05-07 17:27:40,897 - rush - INFO - Argument eacda067-1323-4558-9762-54379137272e is now ModuleInstanceStatus.ADMITTED\n",
      "2024-05-07 17:27:45,595 - rush - INFO - Argument eacda067-1323-4558-9762-54379137272e is now ModuleInstanceStatus.DISPATCHED\n",
      "2024-05-07 17:27:46,748 - rush - INFO - Argument eacda067-1323-4558-9762-54379137272e is now ModuleInstanceStatus.AWAITING_UPLOAD\n"
     ]
    }
   ],
   "source": [
    "conformer_out = json.load(open(conformer.download(overwrite=True), \"r\"))"
   ]
  },
  {
   "cell_type": "code",
   "execution_count": null,
   "id": "ff8b364e-e19b-4784-b720-85b2edd36d23",
   "metadata": {},
   "outputs": [],
   "source": [
    "(hermes_energy,) = client.hermes_energy(\n",
    "    conformer,\n",
    "    {},\n",
    "    {\n",
    "        \"method\": \"RestrictedRIMP2\",\n",
    "        \"basis\": \"cc-pVDZ\",\n",
    "        \"aux_basis\": \"cc-pVDZ-RIFIT\",\n",
    "        \"force_cartesian_basis_sets\": True,\n",
    "        \"standard_orientation\": \"FullSystem\",\n",
    "    },\n",
    "    None,\n",
    "    None,\n",
    "    None,\n",
    "    resources=HERMES_RESOURCES,\n",
    ")"
   ]
  },
  {
   "cell_type": "code",
   "execution_count": null,
   "id": "85a80c21-81cf-4176-80af-4c86434ee967",
   "metadata": {},
   "outputs": [
    {
     "name": "stdout",
     "output_type": "stream",
     "text": [
      "2024-05-07 17:27:59,001 - rush - INFO - Argument 1c0384f2-f487-4125-896f-17e294544dd9 is now ModuleInstanceStatus.RESOLVING\n",
      "2024-05-07 17:28:01,352 - rush - INFO - Argument 1c0384f2-f487-4125-896f-17e294544dd9 is now ModuleInstanceStatus.ADMITTED\n",
      "2024-05-07 17:28:03,722 - rush - INFO - Argument 1c0384f2-f487-4125-896f-17e294544dd9 is now ModuleInstanceStatus.DISPATCHED\n",
      "2024-05-07 17:28:04,951 - rush - INFO - Argument 1c0384f2-f487-4125-896f-17e294544dd9 is now ModuleInstanceStatus.RUNNING\n",
      "2024-05-07 17:28:17,103 - rush - INFO - Argument 1c0384f2-f487-4125-896f-17e294544dd9 is now ModuleInstanceStatus.AWAITING_UPLOAD\n"
     ]
    },
    {
     "data": {
      "text/plain": [
       "{'method': 'RestrictedRIMP2',\n",
       " 'distance_metric': None,\n",
       " 'nmers': [[{'fragments': [0],\n",
       "    'density': None,\n",
       "    'fock': None,\n",
       "    'overlap': None,\n",
       "    'h_core': None,\n",
       "    'coeffs_initial': None,\n",
       "    'coeffs_final': None,\n",
       "    'molecular_orbital_energies': None,\n",
       "    'hf_gradients': None,\n",
       "    'mp2_gradients': None,\n",
       "    'hf_energy': -645.0202122381007,\n",
       "    'mp2_ss_correction': -0.5339090219971997,\n",
       "    'mp2_os_correction': -1.4322158086920598,\n",
       "    'delta_hf_energy': None,\n",
       "    'delta_mp2_ss_correction': None,\n",
       "    'delta_mp2_os_correction': None,\n",
       "    'mulliken_charges': None,\n",
       "    'fragment_distance': None,\n",
       "    'bond_orders': None,\n",
       "    'h_caps': None,\n",
       "    'num_iters': 9,\n",
       "    'num_basis_fns': 235}]],\n",
       " 'reference_fragment': None,\n",
       " 'expanded_hf_energy': -645.0202122381007,\n",
       " 'expanded_mp2_ss_correction': -0.5339090219971997,\n",
       " 'expanded_mp2_os_correction': -1.4322158086920598,\n",
       " 'expanded_density': None,\n",
       " 'expanded_hf_gradients': None,\n",
       " 'expanded_mp2_gradients': None}"
      ]
     },
     "execution_count": null,
     "metadata": {},
     "output_type": "execute_result"
    }
   ],
   "source": [
    "json.load(hermes_energy.download().open())"
   ]
  },
  {
   "cell_type": "code",
   "execution_count": null,
   "id": "1f32539f-8b44-443a-a149-94ada1cb7ce5",
   "metadata": {},
   "outputs": [],
   "source": []
  }
 ],
 "metadata": {
  "kernelspec": {
   "display_name": "python3",
   "language": "python",
   "name": "python3"
  }
 },
 "nbformat": 4,
 "nbformat_minor": 5
}
