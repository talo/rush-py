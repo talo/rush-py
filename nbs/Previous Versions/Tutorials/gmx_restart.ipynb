{
 "cells": [
  {
   "cell_type": "markdown",
   "id": "a7ade04f-1e33-48a7-8ba1-364305e5382c",
   "metadata": {},
   "source": [
    "# GROMACS Resume -  Start a long GROMACS run that times out, and resume it"
   ]
  },
  {
   "cell_type": "markdown",
   "id": "6f6163a1",
   "metadata": {},
   "source": [
    "On the supercomputers, a maximum runtime of 24h is enforced. If a longer GROMACS run is needed, the run can easily be resumed. One of the outputs provided by the Rush `gmx` module is designed to be used as the input to the `gmx_resume` module, which will resume the run from the latest checkpoint. The outputs to this module are identical to those of the `gmx` module itself, so the run can be resumed as many times as necessary to finish it."
   ]
  },
  {
   "cell_type": "markdown",
   "id": "e3255512",
   "metadata": {},
   "source": [
    "## 0.0) Imports"
   ]
  },
  {
   "cell_type": "code",
   "execution_count": null,
   "id": "78cdaade",
   "metadata": {},
   "outputs": [],
   "source": [
    "from pathlib import Path\n",
    "import time\n",
    "\n",
    "import rush"
   ]
  },
  {
   "cell_type": "code",
   "execution_count": null,
   "id": "584ed7d6-a01d-4a81-9cbe-25b38387ff71",
   "metadata": {},
   "outputs": [
    {
     "name": "stdout",
     "output_type": "stream",
     "text": [
      "2024-04-10 17:21:43,192 - rush - INFO - Not restoring by default via default\n"
     ]
    }
   ],
   "source": [
    "# |hide\n",
    "# Users won't generally create a workspace\n",
    "# We nuke to ensure run is reproducible\n",
    "import os\n",
    "\n",
    "WORK_DIR = Path.home() / \"qdx\" / \"tutorial-gmx-resume\"\n",
    "\n",
    "if WORK_DIR.exists():\n",
    "    client = rush.Provider(workspace=WORK_DIR)\n",
    "    await client.nuke(remote=False)\n",
    "\n",
    "os.makedirs(WORK_DIR, exist_ok=True)"
   ]
  },
  {
   "cell_type": "code",
   "execution_count": null,
   "id": "61d50edd-a7c1-4096-b3e0-496a1f01347c",
   "metadata": {},
   "outputs": [
    {
     "name": "stdout",
     "output_type": "stream",
     "text": [
      "2024-04-10 17:21:43,456 - rush - INFO - Not restoring by default via default\n",
      "2024-04-10 17:21:43,633 - rush - WARNING - Module plip has a different version on the server: github:talo/tengu-plip/1776ec43500276f85b33e53d900388134b00992f#plip_tengu.\n",
      "                                Use `.update_modules()` to update the lock file\n",
      "2024-04-10 17:21:43,633 - rush - WARNING - Module auto3d has a different version on the server: github:talo/tengu-auto3d/e1a1a06ea10a6baefea33f2bd0be8c1e0df5d56c#auto3d_tengu.\n",
      "                                Use `.update_modules()` to update the lock file\n",
      "2024-04-10 17:21:43,633 - rush - WARNING - Module hermes_energy has a different version on the server: github:talo/tengu-prelude/d14c895b2bc40ab59136382f5b848523bf70436c#hermes_energy.\n",
      "                                Use `.update_modules()` to update the lock file\n",
      "2024-04-10 17:21:43,634 - rush - WARNING - Module github:talo/tengu-p2rank/42e6c56a5bfa027d4ca3e8d190b9469b561cf37c#p2rank_tengu is not in the lock file\n",
      "2024-04-10 17:21:43,634 - rush - WARNING - Module pick_conformer has a different version on the server: github:talo/tengu-prelude/6fa3b9382a0011780681cec36e014dc9cc7686df#pick_conformer.\n",
      "                                Use `.update_modules()` to update the lock file\n",
      "2024-04-10 17:21:43,634 - rush - WARNING - Module fragment_aa has a different version on the server: github:talo/tengu-prelude/6fa3b9382a0011780681cec36e014dc9cc7686df#fragment_aa.\n",
      "                                Use `.update_modules()` to update the lock file\n",
      "2024-04-10 17:21:43,634 - rush - WARNING - Module fragment has a different version on the server: github:talo/tengu-prelude/6fa3b9382a0011780681cec36e014dc9cc7686df#fragment.\n",
      "                                Use `.update_modules()` to update the lock file\n",
      "2024-04-10 17:21:43,634 - rush - WARNING - Module concat has a different version on the server: github:talo/tengu-prelude/6fa3b9382a0011780681cec36e014dc9cc7686df#concat.\n",
      "                                Use `.update_modules()` to update the lock file\n",
      "2024-04-10 17:21:43,634 - rush - WARNING - Module convert has a different version on the server: github:talo/tengu-prelude/6fa3b9382a0011780681cec36e014dc9cc7686df#convert.\n",
      "                                Use `.update_modules()` to update the lock file\n",
      "2024-04-10 17:21:43,635 - rush - WARNING - Module github:talo/tengu-module-example/5cbcd752c614769b2e1bf18a9bc8031034e471a8#tengu_echo is not in the lock file\n",
      "2024-04-10 17:21:43,635 - rush - WARNING - Module github:talo/tengu-module-example/d7b013bf8024c75410928e037fbaae0a01b74613#spam is not in the lock file\n",
      "2024-04-10 17:21:43,635 - rush - WARNING - Module github:talo/tengu-module-example/d7b013bf8024c75410928e037fbaae0a01b74613#delay is not in the lock file\n",
      "2024-04-10 17:21:43,635 - rush - WARNING - Module github:talo/qm_geo_opt/8030ca9dd1da58c9ef526ac7432523a2aa308a37#qm_geo_opt_tengu is not in the lock file\n",
      "2024-04-10 17:21:43,635 - rush - WARNING - Module gmx_resume has a different version on the server: github:talo/tengu-gmx/eaaa2472bd2dc67eed931fa1816fd0b46c509599#gmx_resume_tengu.\n",
      "                                Use `.update_modules()` to update the lock file\n",
      "2024-04-10 17:21:43,635 - rush - WARNING - Module gmx has a different version on the server: github:talo/tengu-gmx/9eab938f2ac983ce6764c1473851849b5e4d9b24#gmx_tengu.\n",
      "                                Use `.update_modules()` to update the lock file\n",
      "2024-04-10 17:21:43,636 - rush - WARNING - Module gmx_mmpbsa has a different version on the server: github:talo/tengu-gmx/b8b9f617eaada271beec74d9b7500916cfdfa803#gmx_mmpbsa_tengu.\n",
      "                                Use `.update_modules()` to update the lock file\n",
      "2024-04-10 17:21:43,636 - rush - WARNING - Module prepare_protein has a different version on the server: github:talo/prepare_protein/fbeca1ad893cd763b00dc275c43806c0edce03de#prepare_protein_tengu.\n",
      "                                Use `.update_modules()` to update the lock file\n",
      "2024-04-10 17:21:43,636 - rush - WARNING - Module hermes_energy_batch has a different version on the server: github:talo/tengu-prelude/464d2641a6109f6b831ec0e62a846b9283652d0f#hermes_energy_batch.\n",
      "                                Use `.update_modules()` to update the lock file\n",
      "2024-04-10 17:21:43,636 - rush - WARNING - Module github:talo/colabfold_tengu/9709de515acd5ddbe2a1cdc295da40367fcc8a32#colabfold_tengu_fold is not in the lock file\n",
      "2024-04-10 17:21:43,637 - rush - WARNING - Module github:talo/colabfold_tengu/807cdf3f1a618b2ede4f47b549d667f754df395d#colabfold_tengu_fasta_fold is not in the lock file\n",
      "2024-04-10 17:21:43,637 - rush - WARNING - Module dubai has a different version on the server: github:talo/Dubai/cf7835b4c099e19ea77e0f28e999136bcaf62e5a#dubai_tengu.\n",
      "                                Use `.update_modules()` to update the lock file\n",
      "2024-04-10 17:21:43,637 - rush - WARNING - Module pbsa has a different version on the server: github:talo/pbsa-cuda/03a11fe0a52f047a5fa424514a7c89d5f106a5d9#pbsa_tengu.\n",
      "                                Use `.update_modules()` to update the lock file\n"
     ]
    }
   ],
   "source": [
    "RUSH_TOKEN = os.getenv(\"RUSH_TOKEN\") or \"YOUR_TOKEN_HERE\"\n",
    "client = rush.build_blocking_provider_with_functions(access_token=RUSH_TOKEN)"
   ]
  },
  {
   "cell_type": "code",
   "execution_count": null,
   "id": "a3d4edb5-8f15-440d-a18a-a8c2a230bfc4",
   "metadata": {},
   "outputs": [
    {
     "name": "stdout",
     "output_type": "stream",
     "text": [
      "2024-04-10 17:21:44,222 - rush - INFO - Not restoring by default via default\n"
     ]
    }
   ],
   "source": [
    "# |hide\n",
    "# We hide this because users will generally not set a workspace, and won't restore by default\n",
    "client = rush.build_blocking_provider_with_functions(\n",
    "    batch_tags=[\"tutorial-resume-gmx\"],\n",
    "    workspace=WORK_DIR,\n",
    ")"
   ]
  },
  {
   "cell_type": "markdown",
   "id": "ebee89a7",
   "metadata": {},
   "source": [
    "## 0.1) Input Download and Selection"
   ]
  },
  {
   "cell_type": "code",
   "execution_count": null,
   "id": "3fe53173-5dbc-4524-8616-87fb0a6c566a",
   "metadata": {},
   "outputs": [],
   "source": [
    "!pdb_fetch '1B39' | pdb_selchain -A | pdb_delhetatm > '1B39_A_nohet.pdb'"
   ]
  },
  {
   "cell_type": "markdown",
   "id": "66954bd1",
   "metadata": {},
   "source": [
    "## 1) Input Preparation"
   ]
  },
  {
   "cell_type": "code",
   "execution_count": null,
   "id": "cbc1fb21",
   "metadata": {},
   "outputs": [],
   "source": [
    "_, prepared_protein_pdb = client.prepare_protein(\n",
    "    Path.cwd() / \"1B39_A_nohet.pdb\", None, None\n",
    ")"
   ]
  },
  {
   "cell_type": "markdown",
   "id": "3163f52e",
   "metadata": {},
   "source": [
    "## 2.1) Run GROMACS (modules: gmx, gmx_resume)\n",
    "Next we will run a molecular dynamics simulation on our protein using gromacs via the `gmx` module.\n",
    "\n",
    "We'll set `timeout_duration_mins = 1` so that the run times out before it finishes, and then resume via the `gmx_resume` module using the first output, which is the archive that contains all the necessary data for resuming the run from the last saved checkpoint.\n",
    "\n",
    "We'll set `checkpoint_interval_mins = 1.0/60` so that the checkpointing takes place once per second.\n",
    "\n",
    "We can restart as many times as we need to in order for the run to finish. Use a unique tag for each restarted run so that each sequential restart will be tagged and cached appropriately. See below for an example.\n",
    "\n",
    "For each restarted run, please pass the same config file that was passed to the original `gmx` call. There is no support for shortening or extending runs, or changing any other run parameters, of runs that have already been started. Passing the same config ensures that progress is reported properly and that there are no other inconsistencies. So, the initial run config should specify the full desired run.\n",
    "\n",
    "One current limitation is that the frame selection can only operate on the data generated by the last call to `gmx` or `gmx_restart`. Otherwise, the output xtc files from all the calls must be joined and processed manually."
   ]
  },
  {
   "cell_type": "code",
   "execution_count": null,
   "id": "e95ced73-4330-4368-a4cf-7b97e76dc2dd",
   "metadata": {},
   "outputs": [],
   "source": [
    "gmx_config = {\n",
    "    \"params_overrides\": {\n",
    "        \"nvt\": {\"nsteps\": 2000},\n",
    "        \"npt\": {\"nsteps\": 2000},\n",
    "        \"md\": {\"nsteps\": 150000},\n",
    "    },\n",
    "    \"frame_sel\": {\n",
    "        \"start_time_ps\": 290,\n",
    "        \"end_time_ps\": 300,\n",
    "        \"delta_time_ps\": 1,\n",
    "    },\n",
    "    \"checkpoint_interval_mins\": 1.0 / 60,\n",
    "    \"timeout_duration_mins\": 1,\n",
    "    \"num_gpus\": 1,\n",
    "    \"save_wets\": False,\n",
    "}"
   ]
  },
  {
   "cell_type": "code",
   "execution_count": null,
   "id": "7c868ee5-8ec7-454b-b4fd-d4ac8c72b827",
   "metadata": {},
   "outputs": [],
   "source": [
    "resume_files_first, streaming_outputs, static_outputs, *rest = client.gmx(\n",
    "    None,\n",
    "    prepared_protein_pdb,\n",
    "    None,\n",
    "    gmx_config,\n",
    "    resources={\"gpus\": 1, \"storage\": 1, \"storage_units\": \"GB\"},\n",
    ")"
   ]
  },
  {
   "cell_type": "code",
   "execution_count": null,
   "id": "0f687cb4-f95e-4423-974a-72ba3cd1e324",
   "metadata": {},
   "outputs": [
    {
     "name": "stdout",
     "output_type": "stream",
     "text": [
      "2024-04-10 17:21:47,053 - rush - INFO - Argument ff370371-90b6-4995-8aab-41064ea67fbf is now ModuleInstanceStatus.RESOLVING\n",
      "2024-04-10 17:22:20,612 - rush - INFO - Argument ff370371-90b6-4995-8aab-41064ea67fbf is now ModuleInstanceStatus.ADMITTED\n",
      "2024-04-10 17:22:22,778 - rush - INFO - Argument ff370371-90b6-4995-8aab-41064ea67fbf is now ModuleInstanceStatus.DISPATCHED\n",
      "2024-04-10 17:22:23,853 - rush - INFO - Argument ff370371-90b6-4995-8aab-41064ea67fbf is now ModuleInstanceStatus.RUNNING\n",
      "2024-04-10 17:23:48,697 - rush - INFO - Argument ff370371-90b6-4995-8aab-41064ea67fbf is now ModuleInstanceStatus.AWAITING_UPLOAD\n"
     ]
    },
    {
     "data": {
      "text/plain": [
       "'https://storage.googleapis.com/qdx-store/58c8901d-6ed7-4a35-a1d5-f7607878f9e1?x-goog-signature=0bfb96d595cdead3286c86597620807aafd6aea903df258a76fc8ee49a31d103c48b3838c8ca11f4394c427a566ce280728b5d46b0a09c5cb6b1e1f75bc6a887988f128378e1de7dfa3af7a41f6bad52f3512ce6d875a7582e36f212fd2275ec7b288b872c41d89ac87ce1fb4f690fa9827a62ea014c10b22e6eeeb2e923704f1dffa000649998f4286cce2d6c33f7dd5669d724d70f3e5966ccf8feff3751f381a68e66e31832a128c4b0644a2f0c51df8a24bbf70cf9537ab5e8da5035fc5cf36b5722017d89a7a8ee7b8c1e1d3188aca2810fa0c26eee4a1cedf89b1c327976a72cd1bed12b706d0701db5c7727389f72163675cda5a6c0e341aca268e794&x-goog-algorithm=GOOG4-RSA-SHA256&x-goog-credential=qdx-store-user%40humming-bird-321603.iam.gserviceaccount.com%2F20240410%2Fasia-southeast1%2Fstorage%2Fgoog4_request&x-goog-date=20240410T092421Z&x-goog-expires=3600&x-goog-signedheaders=host'"
      ]
     },
     "execution_count": null,
     "metadata": {},
     "output_type": "execute_result"
    }
   ],
   "source": [
    "resume_files_first.get()"
   ]
  },
  {
   "cell_type": "markdown",
   "id": "e4c10df8",
   "metadata": {},
   "source": [
    "## Checking progress of GROMACS run\n",
    "To determine if your GROMACS run is done, or if further runs are required, you can look at the progress output.\n",
    "How to check this output is demonstrated below. \n",
    "\n",
    "\n",
    "This is an example progress event that indicates that the job has not completed, and will require resuming.\n",
    "`n` is the number of execution steps in the GMX module. If `n` is less than `n_expected`, or `done` is false the run is not yet completed.\n",
    "\n",
    "\n",
    "`gmx_resume_tengu progress: {\n",
    "  \"n\": 600,\n",
    "  \"n_expected\": 601,\n",
    "  \"n_max\": 601,\n",
    "  \"done\": false\n",
    "}`\n",
    "\n",
    "We keep running resume until the progress is done"
   ]
  },
  {
   "cell_type": "code",
   "execution_count": null,
   "id": "e7cb1e68-a675-431d-a657-a5aa5908c9ab",
   "metadata": {},
   "outputs": [
    {
     "name": "stdout",
     "output_type": "stream",
     "text": [
      "Help on function gmx_resume in module rush.provider:\n",
      "\n",
      "gmx_resume(*args: *tuple[RushObject[bytes], Record], target: 'Target | None' = None, resources: 'Resources | None' = None, tags: 'list[str] | None' = None, restore: 'bool | None' = None) -> tuple[RushObject[bytes], RushObject[bytes], RushObject[bytes], RushObject[bytes], RushObject[bytes], RushObject[bytes], RushObject[bytes]]\n",
      "    Runs a molecular dynamics simluation using GROMACS from either protein, resuming from a checkpoint.\n",
      "    Uses GMX 2023.3 https://doi.org/10.5281/zenodo.10017686 and Acpype https://doi.org/10.1186/1756-0500-5-367\n",
      "\n",
      "    Module version:\n",
      "    `github:talo/tengu-gmx/eaaa2472bd2dc67eed931fa1816fd0b46c509599#gmx_resume_tengu`\n",
      "\n",
      "    QDX Type Description:\n",
      "\n",
      "        resume_files: Object[@$Bytes];\n",
      "        gmx_config: GMXTenguConfig {\n",
      "            frame_sel: FrameSelConfig {\n",
      "                delta_time_ps: u32,\n",
      "                start_time_ps: u32,\n",
      "                end_time_ps: u32\n",
      "            }?,\n",
      "            timeout_duration_mins: u32?,\n",
      "            force_field: string?,\n",
      "            ignore_hydrogens: bool?,\n",
      "            num_gpus: u8,\n",
      "            save_wets: bool?,\n",
      "            num_replicas: u8?,\n",
      "            params_overrides: GMXOverrides {\n",
      "                npt: NPTOverrides {\n",
      "                    fourierspacing: f64?,\n",
      "                    rvdw: f64?,\n",
      "                    coulombtype: string?,\n",
      "                    constraints: string?,\n",
      "                    rlist: f64?,\n",
      "                    disp_corr: string?,\n",
      "                    pbc: string?,\n",
      "                    cutoff_scheme: string?,\n",
      "                    nstlog: i32?,\n",
      "                    nstenergy: i32?,\n",
      "                    pme_order: i32?,\n",
      "                    define: string?,\n",
      "                    tau_p: f64?,\n",
      "                    lincs_iter: i32?,\n",
      "                    rcoulomb: f64?,\n",
      "                    refcoord_scaling: string?,\n",
      "                    pcoupltype: string?,\n",
      "                    constraint_algorithm: string?,\n",
      "                    dt: f64?,\n",
      "                    tcoupl: string?,\n",
      "                    lincs_order: i32?,\n",
      "                    nsteps: i32?,\n",
      "                    rvdw_switch: f64?,\n",
      "                    compressibility: f64?,\n",
      "                    ref_t: [f64]?,\n",
      "                    pcoupl: string?,\n",
      "                    gen_vel: string?,\n",
      "                    tc_grps: string?,\n",
      "                    vdwtype: string?,\n",
      "                    ref_p: f64?,\n",
      "                    vdw_modifier: string?,\n",
      "                    nstxout_compressed: i32?,\n",
      "                    continuation: string?,\n",
      "                    tau_t: [f64]?,\n",
      "                    integrator: string?\n",
      "                }?,\n",
      "                md: MDOverrides {\n",
      "                    rvdw: f64?,\n",
      "                    ref_p: f64?,\n",
      "                    cutoff_scheme: string?,\n",
      "                    fourierspacing: f64?,\n",
      "                    constraint_algorithm: string?,\n",
      "                    integrator: string?,\n",
      "                    constraints: string?,\n",
      "                    vdwtype: string?,\n",
      "                    tau_t: [f64]?,\n",
      "                    tcoupl: string?,\n",
      "                    rvdw_switch: f64?,\n",
      "                    pcoupltype: string?,\n",
      "                    tc_grps: string?,\n",
      "                    nsteps: i32?,\n",
      "                    compressibility: f64?,\n",
      "                    rcoulomb: f64?,\n",
      "                    pcoupl: string?,\n",
      "                    dt: f64?,\n",
      "                    tau_p: f64?,\n",
      "                    gen_vel: string?,\n",
      "                    nstenergy: i32?,\n",
      "                    nstxout_compressed: i32?,\n",
      "                    lincs_order: i32?,\n",
      "                    disp_corr: string?,\n",
      "                    nstlog: i32?,\n",
      "                    rlist: f64?,\n",
      "                    pme_order: i32?,\n",
      "                    continuation: string?,\n",
      "                    pbc: string?,\n",
      "                    lincs_iter: i32?,\n",
      "                    coulombtype: string?,\n",
      "                    vdw_modifier: string?,\n",
      "                    ref_t: [f64]?\n",
      "                }?,\n",
      "                nvt: NVTOverrides {\n",
      "                    dt: f64?,\n",
      "                    continuation: string?,\n",
      "                    vdw_modifier: string?,\n",
      "                    nstlog: i32?,\n",
      "                    gen_vel: string?,\n",
      "                    constraints: string?,\n",
      "                    lincs_order: i32?,\n",
      "                    tau_t: [f64]?,\n",
      "                    rlist: f64?,\n",
      "                    nsteps: i32?,\n",
      "                    constraint_algorithm: string?,\n",
      "                    ref_t: [f64]?,\n",
      "                    define: string?,\n",
      "                    nstxout_compressed: i32?,\n",
      "                    tc_grps: string?,\n",
      "                    disp_corr: string?,\n",
      "                    fourierspacing: f64?,\n",
      "                    pme_order: i32?,\n",
      "                    tcoupl: string?,\n",
      "                    integrator: string?,\n",
      "                    pbc: string?,\n",
      "                    vdwtype: string?,\n",
      "                    rvdw: f64?,\n",
      "                    gen_temp: f64?,\n",
      "                    rcoulomb: f64?,\n",
      "                    nstenergy: i32?,\n",
      "                    cutoff_scheme: string?,\n",
      "                    lincs_iter: i32?,\n",
      "                    coulombtype: string?,\n",
      "                    rvdw_switch: f64?,\n",
      "                    gen_seed: i32?,\n",
      "                    pcoupl: string?\n",
      "                }?,\n",
      "                ions: IonsOverrides {\n",
      "                    coulombtype: string?,\n",
      "                    nstlog: i32?,\n",
      "                    nsteps: i32?,\n",
      "                    rvdw: f64?,\n",
      "                    rlist: f64?,\n",
      "                    pbc: string?,\n",
      "                    cutoff_scheme: string?,\n",
      "                    emstep: f64?,\n",
      "                    integrator: string?,\n",
      "                    rcoulomb: f64?,\n",
      "                    emtol: f64?\n",
      "                }?,\n",
      "                em: EMOverrides {\n",
      "                    nsteps: i32?,\n",
      "                    rcoulomb: f64?,\n",
      "                    rlist: f64?,\n",
      "                    emtol: f64?,\n",
      "                    cutoff_scheme: string?,\n",
      "                    integrator: string?,\n",
      "                    pbc: string?,\n",
      "                    emstep: f64?,\n",
      "                    rvdw: f64?,\n",
      "                    nstlog: i32?,\n",
      "                    coulombtype: string?\n",
      "                }?\n",
      "            }?,\n",
      "            water_box_size: f32?,\n",
      "            perf_flags_override: string?,\n",
      "            ligand_charge: i8?,\n",
      "            checkpoint_interval_mins: f32?\n",
      "        }\n",
      "        ->\n",
      "        resume_files: Object[@$Bytes];\n",
      "        streaming_outputs: Object[@$Bytes];\n",
      "        static_outputs: Object[@$Bytes];\n",
      "        output_xtcs_dry: Object[@$Bytes];\n",
      "        output_frames_pdb_dry: Object[@$Bytes];\n",
      "        output_xtcs_wet: Object[@$Bytes];\n",
      "        output_frames_pdb_wet: Object[@$Bytes]\n",
      "\n",
      "\n",
      "    :param resume_files: The untouched tar.gz resume_files output from a past run, to resume from\n",
      "    :param gmx_config: Configuration record\n",
      "    :return resume_files: .tpr, .cpt, .ndx, .top, & .itp files of the production MD runs, plus the input ligand pdb\n",
      "    :return streaming_outputs: .edr, .log, & .xtc files of the production MD runs\n",
      "    :return static_outputs: .gro & .xvg files files from the runs\n",
      "    :return output_xtcs_dry: Processed dry trajectories, i.e., without water molecules, from the production MD runs\n",
      "    :return output_frames_pdb_dry: Outputs of select_frame; pdb frames without water\n",
      "    :return output_xtcs_wet: Processed wet trajectories, i.e. with water molecules, from the production MD runs\n",
      "    :return output_frames_pdb_wet: Outputs of select_frame; pdb frames with water\n",
      "\n"
     ]
    }
   ],
   "source": [
    "help(client.gmx_resume)"
   ]
  },
  {
   "cell_type": "code",
   "execution_count": null,
   "id": "18d47c80",
   "metadata": {},
   "outputs": [
    {
     "name": "stdout",
     "output_type": "stream",
     "text": [
      "2024-04-10 17:24:22,169 - rush - INFO - Argument e8a349bc-a6ab-4753-ba70-b1bd867eaa1f is now ModuleInstanceStatus.RESOLVING\n",
      "2024-04-10 17:24:23,277 - rush - INFO - Argument e8a349bc-a6ab-4753-ba70-b1bd867eaa1f is now ModuleInstanceStatus.ADMITTED\n",
      "2024-04-10 17:24:29,853 - rush - INFO - Argument e8a349bc-a6ab-4753-ba70-b1bd867eaa1f is now ModuleInstanceStatus.RUNNING\n",
      "2024-04-10 17:25:00,050 - rush - INFO - Argument e8a349bc-a6ab-4753-ba70-b1bd867eaa1f is now ModuleInstanceStatus.AWAITING_UPLOAD\n",
      "n=154000 n_expected=154000 n_max=154000 done=True\n"
     ]
    }
   ],
   "source": [
    "done = False\n",
    "resumes = 0\n",
    "resume_files = resume_files_first\n",
    "while not done:\n",
    "    resume_files, _, _, xtc_dry, pdb_dry, _, _ = client.gmx_resume(\n",
    "        resume_files,\n",
    "        gmx_config,\n",
    "        tags=[f\"gmx-resume-{resumes}\"],\n",
    "        restore=False,\n",
    "        resources={\"gpus\": 1, \"storage\": 1, \"storage_units\": \"GB\"},\n",
    "    )\n",
    "    # wait for module to finish\n",
    "    resume_files.get()\n",
    "    progress = client.module_instance_blocking(resume_files.source).progress\n",
    "    print(progress)\n",
    "    done = progress.done\n",
    "    resumes += 1"
   ]
  },
  {
   "cell_type": "markdown",
   "id": "cd65c6eb-c521-4f18-a435-f7ad47c10508",
   "metadata": {},
   "source": [
    "# Downloading Results\n",
    "To download extracted frames and fetch their pdbs, we can do the following"
   ]
  },
  {
   "cell_type": "code",
   "execution_count": null,
   "id": "e08f87cb-855b-4d1b-98fa-10bacd0ae957",
   "metadata": {},
   "outputs": [
    {
     "data": {
      "text/plain": [
       "PosixPath('/home/machineer/qdx/tutorial-gmx-resume/objects/dry_frames.tar.gz')"
      ]
     },
     "execution_count": null,
     "metadata": {},
     "output_type": "execute_result"
    }
   ],
   "source": [
    "pdb_dry.download(\"dry_frames.tar.gz\")"
   ]
  },
  {
   "cell_type": "code",
   "execution_count": null,
   "id": "a4c43cfb-1c61-4df9-a534-93db9350667f",
   "metadata": {},
   "outputs": [
    {
     "data": {
      "text/plain": [
       "{'path': '045bb474-ba46-4be6-b685-2192bd670074', 'size': 0}"
      ]
     },
     "execution_count": null,
     "metadata": {},
     "output_type": "execute_result"
    }
   ],
   "source": [
    "pdb_dry.value"
   ]
  },
  {
   "cell_type": "code",
   "execution_count": null,
   "id": "ead305d5-f956-442c-86df-de960e6d6a69",
   "metadata": {},
   "outputs": [],
   "source": [
    "import tarfile\n",
    "\n",
    "with tarfile.open(client.workspace / \"objects\" / \"dry_frames.tar.gz\", \"r\") as tf:\n",
    "    selected_frame_pdbs = [\n",
    "        tf.extractfile(member).read()\n",
    "        for member in tf\n",
    "        if \"pdb\" in member.name and member.isfile()\n",
    "    ]\n",
    "    for i, frame in enumerate(selected_frame_pdbs):\n",
    "        with open(\n",
    "            client.workspace / \"objects\" / f\"gmx_output_frame_{i}.pdb\", \"w\"\n",
    "        ) as pf:\n",
    "            print(frame.decode(\"utf-8\"), file=pf)"
   ]
  },
  {
   "cell_type": "code",
   "execution_count": null,
   "id": "49886900-aaf5-424e-ac2b-cb324a5a6911",
   "metadata": {},
   "outputs": [
    {
     "name": "stdout",
     "output_type": "stream",
     "text": [
      "REMARK    GENERATED BY TRJCONV\n",
      "TITLE     Protein in water t= 295.00000 step= 147500\n",
      "REMARK    THIS IS A SIMULATION BOX\n",
      "CRYST1   87.777   87.777   87.777  60.00  60.00  90.00 P 1           1\n",
      "MODEL        6\n",
      "ATOM      1  N   MET     1      50.060  68.710   7.380  1.00  0.00           N\n",
      "ATOM      2  H1  MET     1      49.560  67.830   7.380  1.00  0.00           H\n",
      "ATOM      3  H2  MET     1      49.990  69.010   8.340  1.00  0.00           H\n",
      "ATOM      4  H3  MET     1      49.660  69.430   6.810  1.00  0.00           H\n",
      "ATOM      5  CA  MET     1      51.550  68.700   7.170  1.00  0.00           C\n",
      "\n"
     ]
    }
   ],
   "source": [
    "with open(client.workspace / \"objects\" / \"gmx_output_frame_0.pdb\", \"r\") as f:\n",
    "    print(str.join(\"\", f.readlines()[0:10]))"
   ]
  },
  {
   "cell_type": "code",
   "execution_count": null,
   "id": "88e8ec4b-4cf4-4d98-aef8-68df83d00674",
   "metadata": {},
   "outputs": [],
   "source": []
  }
 ],
 "metadata": {
  "kernelspec": {
   "display_name": "python3",
   "language": "python",
   "name": "python3"
  }
 },
 "nbformat": 4,
 "nbformat_minor": 5
}
