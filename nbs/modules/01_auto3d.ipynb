{
 "cells": [
  {
   "cell_type": "markdown",
   "id": "b3391406-9462-4004-ada5-315cba702943",
   "metadata": {
    "jupyter": {
     "source_hidden": true
    },
    "scrolled": true
   },
   "source": [
    "# Module: auto3d\n",
    "\n",
    "`auto3d` generates a **3D molecular structure** from a **SMILES**. This is based on [https://auto3d.readthedocs.io/en/latest/usage.html]\n",
    "\n",
    "### Function usage\n",
    "\n",
    "``` Haskell\n",
    "let\n",
    "    auto3d = \\\\smi ->  map to_data (get 0 (auto3d_rex_s default_runspec_gpu { [parameters] } [smi])),\n",
    "\n",
    "in\n",
    "\\\\input ->\n",
    "    let\n",
    "        smol_structure = auto3d smiles,\n",
    "```\n",
    "\n",
    "### Parameters\n",
    "----------\n",
    "| Parameter | Type | Default | Description |\n",
    "| --- | --- | --- | --- |\n",
    "| `smi` | `String` | `None` | (_Required_)The **SMILES** representation of the molecule. |\n",
    "| `k` | `Integer` | `1` | _(Optional)_ Output top `k` structures for each molecule. |\n",
    "| `window` | `Float` | `None` | _(Optional)_ Outputs structures whose energies are within `x` kcal/mol from the lowest energy conformer. |\n",
    "| `memory` | `Integer` | `None` | _(Optional)_ Memory in GB. |\n",
    "| `capacity` | `Integer` | `42` | _(Optional)_ Number of SMILES the model handles per 1GB of memory. |\n",
    "| `enumerate_tautomer` | `Boolean` | `False` | _(Optional)_ When `True`, enumerates tautomers for the input. |\n",
    "| `max_confs` | `Integer` | `None` | _(Optional)_ Maximum number of isomers per SMILES. Defaults to a dynamic value (`heavy_atoms - 1`). |\n",
    "| `enumerate_isomer` | `Boolean` | `True` | _(Optional)_ When `True`, cis/trans and R/S isomers are enumerated. |\n",
    "| `mpi_np` | `Integer` | `4` | _(Optional)_ Number of MPI processes. |\n",
    "| `optimizing_engine` | `{ANI2x \\| ANI2xt \\| AIMNET}` | `AIMNET` | _(Optional)_ The engine used for optimization. |\n",
    "| `opt_steps` | `Integer` | `5000` | _(Optional)_ Maximum number of optimization steps. |\n",
    "| `convergence_threshold` | `Float` | `0.003` | _(Optional)_ Optimization is considered converged if maximum force is below this threshold. |\n",
    "| `patience` | `Integer` | `1000` | _(Optional)_ If force does not decrease for `patience` steps, conformer drops out of optimization loop. |\n",
    "| `threshold` | `Float` | `0.3` | _(Optional)_ If RMSD between two conformers is within this threshold, one is removed as a duplicate. |\n",
    "| `verbose` | `Boolean` | `False` | _(Optional)_ When `True`, saves all metadata while running. |\n",
    "| `job_name` | `String` | `None` | _(Optional)_ Custom job name. |\n",
    "| `batchsize_atoms` | `Integer` | `1024` | _(Optional)_ Number of atoms in one optimization batch per 1GB memory. |\n",
    "\n",
    "\n",
    "### Returns\n",
    "-------\n",
    "| Output | Type | Description |\n",
    "| --- | --- | --- |\n",
    "| `smol_structure` | `SmolStructure` | A **3D molecular structure** generated from the input **SMILES** string. |\n",
    "\n"
   ]
  },
  {
   "cell_type": "markdown",
   "id": "eba772e3",
   "metadata": {},
   "source": []
  }
 ],
 "metadata": {
  "kernelspec": {
   "display_name": ".venv",
   "language": "python",
   "name": "python3"
  },
  "language_info": {
   "codemirror_mode": {
    "name": "ipython",
    "version": 3
   },
   "file_extension": ".py",
   "mimetype": "text/x-python",
   "name": "python",
   "nbconvert_exporter": "python",
   "pygments_lexer": "ipython3",
   "version": "3.12.7"
  }
 },
 "nbformat": 4,
 "nbformat_minor": 5
}
