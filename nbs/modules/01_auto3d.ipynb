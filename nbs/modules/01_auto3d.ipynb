{
 "cells": [
  {
   "cell_type": "markdown",
   "id": "c8d99ad0-fdfb-4362-862b-0428df2955b4",
   "metadata": {
    "scrolled": true
   },
   "source": [
    "# Module: auto3d\n",
    "\n",
    "`auto3d` generates a **3D molecular structure** from a **SMILES**. This is based on https://auto3d.readthedocs.io/en/latest/usage.html"
   ]
  },
  {
   "cell_type": "markdown",
   "id": "1b430f45-5202-454e-a69c-3672c5630022",
   "metadata": {
    "scrolled": true
   },
   "source": [
    "## Module Specification\n",
    "\n",
    "The module takes an `dict` of module-specific options and a list of `TRC` tuples representing proteins, prepares those proteins, and outputs them as a new list of `TRC` tuples.\n",
    "\n",
    "### Inputs\n",
    "\n",
    "* options: `dict`\n",
    "* smiles: `[str]` - each `str` should be a valid SMILES string representing a small molecule\n",
    "\n",
    "### Outputs\n",
    "\n",
    "* smol_trcs: `[TRC]`\n",
    "\n",
    "### Options\n",
    "\n",
    "The options `dict` has the following fields:\n",
    "\n",
    "| Parameter | Type | Default | Description |\n",
    "| --- | --- | --- | --- |\n",
    "| `k` | `int` | `none` | _(Optional)_ Output top `k` structures for each molecule. |\n",
    "| `window` | `float` | `none` | _(Optional)_ Outputs structures whose energies are within $x$ kcal/mol from the lowest energy conformer. |\n",
    "| `max_confs` | `uint` | `none` | _(Optional)_ Maximum number of isomers per SMILES. Defaults to a dynamic value (`heavy_atoms - 1`). |\n",
    "| `enumerate_tautomer` | `bool` | `false` | _(Optional)_ When `true`, enumerates tautomers for the input. |\n",
    "| `enumerate_isomer` | `bool` | `true` | _(Optional)_ When `true`, cis/trans and R/S isomers are enumerated. |\n",
    "| `optimizing_engine` | `{\"ANI2x\"\\| \"ANI2xt\" \\| \"AIMNET\"}` | `\"AIMNET\"` | _(Optional)_ The engine used for optimization. |\n",
    "| `opt_steps` | `uint` | `5000` | _(Optional)_ Maximum number of optimization steps. |\n",
    "| `convergence_threshold` | `float` | `0.003` | _(Optional)_ Optimization is considered converged if maximum force is below this threshold. |\n",
    "| `patience` | `uint` | `1000` | _(Optional)_ If force does not decrease for `patience` steps, conformer drops out of optimization loop. |\n",
    "| `threshold` | `float` | `0.3` | _(Optional)_ If RMSD between two conformers is within this threshold, one is removed as a duplicate. |\n",
    "| `verbose` | `bool` | `false` | _(Optional)_ When `true`, saves all metadata while running. |\n",
    "| `capacity` | `uint` | `40` | _(Optional)_ Number of SMILES the model handles per 1GB of memory. |\n",
    "| `batchsize_atoms` | `uint` | `1024` | _(Optional)_ Number of atoms in one optimization batch per 1GB memory. |"
   ]
  },
  {
   "cell_type": "markdown",
   "id": "5f1deae6-18fe-4709-adc4-b32fc40d3f10",
   "metadata": {
    "scrolled": true
   },
   "source": [
    "### Function usage\n",
    "\n",
    "```haskell\n",
    "let\n",
    "    auto3d = \\smi -> map to_data (get 0 (\n",
    "        auto3d_rex_s default_runspec_gpu { k = 1, optimizing_engine = \"ANI2xt\" } [smi]\n",
    "    ))\n",
    "in\n",
    "    \\smi -> auto3d [smi] {- outputs the smol conformer TR -}\n",
    "```"
   ]
  },
  {
   "cell_type": "markdown",
   "id": "eba772e3",
   "metadata": {},
   "source": []
  }
 ],
 "metadata": {
  "kernelspec": {
   "display_name": "Python 3 (ipykernel)",
   "language": "python",
   "name": "python3"
  },
  "language_info": {
   "codemirror_mode": {
    "name": "ipython",
    "version": 3
   },
   "file_extension": ".py",
   "mimetype": "text/x-python",
   "name": "python",
   "nbconvert_exporter": "python",
   "pygments_lexer": "ipython3",
   "version": "3.12.8"
  }
 },
 "nbformat": 4,
 "nbformat_minor": 5
}
