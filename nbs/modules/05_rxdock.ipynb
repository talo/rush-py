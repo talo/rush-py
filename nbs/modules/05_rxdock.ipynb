{
 "cells": [
  {
   "cell_type": "markdown",
   "id": "dd663e5c-c4c1-4b34-ad75-adfb20d62dc4",
   "metadata": {},
   "source": [
    "# RxDock Module\n",
    "\n",
    "This workflow incorporates **[RxDock](https://rxdock.gitlab.io)** as the docking software, providing an efficient and flexible approach to structure-based drug discovery. RxDock is an open-source docking program designed for high-throughput virtual screening and molecular docking, supporting both rigid and flexible docking protocols.\n",
    "\n",
    "## Functionality\n",
    "\n",
    "1. **Defining the Docking Grid**  \n",
    "   - RxDock requires a docking grid definition, which can be set based on known ligand positions or predicted binding sites.\n",
    "\n",
    "3. **Docking with RxDock**  \n",
    "   - The docking process accounts for ligand flexibility and different scoring functions to evaluate binding affinity.\n",
    "\n",
    "4. **Post-Processing and Analysis**  \n",
    "   - Docked poses are filtered and ranked based on their docking scores.  \n",
    "   - The best-scoring ligand conformations are selected for further analysis or downstream simulations.\n"
   ]
  },
  {
   "cell_type": "code",
   "execution_count": 2,
   "id": "8511e519-d815-481f-a9c0-f78ec6c240ce",
   "metadata": {},
   "outputs": [],
   "source": [
    "from rush import build_blocking_provider"
   ]
  },
  {
   "cell_type": "code",
   "execution_count": 1,
   "id": "8fd4995b",
   "metadata": {},
   "outputs": [],
   "source": [
    "# |hide\n",
    "# hidden setup for the notebook\n",
    "import os\n",
    "import pathlib\n",
    "\n",
    "WORK_DIR = pathlib.Path(\"~/qdx/benchmark_notebook\").expanduser()\n",
    "if WORK_DIR.exists():\n",
    "    !rm -r $WORK_DIR\n",
    "os.makedirs(WORK_DIR, exist_ok=True)\n",
    "# swap into clean workdir so that our tests are deterministic\n",
    "os.chdir(WORK_DIR)\n",
    "PUT_YOUR_PREFERRED_WORKING_DIRECTORY_HERE = WORK_DIR\n",
    "PUT_YOUR_TOKEN_HERE = os.environ[\"RUSH_TOKEN\"]\n",
    "RUSH_URL = os.environ[\"RUSH_URL\"]\n",
    "os.environ[\"RUSH_RESTORE_BY_DEFAULT\"] = \"False\""
   ]
  },
  {
   "cell_type": "code",
   "execution_count": null,
   "id": "c4a6f821",
   "metadata": {},
   "outputs": [],
   "source": []
  },
  {
   "cell_type": "code",
   "execution_count": 10,
   "id": "8820614c",
   "metadata": {},
   "outputs": [
    {
     "name": "stdout",
     "output_type": "stream",
     "text": [
      "2025-02-07 10:49:09,515 - rush - INFO - Not restoring by default via env\n"
     ]
    }
   ],
   "source": [
    "client = build_blocking_provider(\n",
    "    access_token=PUT_YOUR_TOKEN_HERE,\n",
    "    url = RUSH_URL,\n",
    "    # for example, if your token is 00000000-dddd-cccc-0000-11111111,\n",
    "    # then you should put access_token=\"00000000-dddd-cccc-0000-11111111\"\n",
    "    # (including the double quotes)\n",
    ")\n",
    "benchmark = client.benchmark(name=\"OpenFF CDK2 RMSD17 Benchmark\")"
   ]
  },
  {
   "cell_type": "code",
   "execution_count": null,
   "id": "b5b980cf-2e72-4bd3-842b-aff4dbc65aaf",
   "metadata": {},
   "outputs": [
    {
     "data": {
      "text/markdown": [
       "```haskell\n",
       "let\n",
       "    auto3d = \\smi ->  map to_data (get 0 (auto3d_rex_s default_runspec_gpu { k = 1 } [smi])),\n",
       "\n",
       "    rxdock_options = {\n",
       "            n_runs = 2,\n",
       "            radius = 8.0,\n",
       "            min_volumn = none,\n",
       "            small_sphere = none\n",
       "        },\n",
       "\n",
       "    rxdock = \\protein_conformer_trc -> \\small_molecule_conformer_tr ->\n",
       "            rxdock_rex_s default_runspec rxdock_options [protein_conformer_trc] [small_molecule_conformer_tr],\n",
       "\n",
       "in\n",
       "\\input ->\n",
       "    let\n",
       "        protein = load (id (get 0 input)) 'ProteinConformer',\n",
       "        smol_id = id (get 1 input),\n",
       "        smiles = smi (load smol_id 'Smol'),\n",
       "\n",
       "        structure = load (structure_id protein) 'Structure',\n",
       "        trc = [\n",
       "            topology structure,\n",
       "            residues structure,\n",
       "            chains structure\n",
       "        ],\n",
       "\n",
       "        smol_structure = auto3d smiles,\n",
       "\n",
       "        docked_structure = rxdock trc [smol_structure],\n",
       "        print docked_structure,\n",
       "        \n",
       "        min_affinity =  get 0 docked_structure,\n",
       "\n",
       "        binding_affinity = BindingAffinity {\n",
       "            affinity = min_affinity,\n",
       "            affinity_metric = 'kcal/mol',\n",
       "            protein_id = protein_id protein,\n",
       "            smol_id = smol_id,\n",
       "            metadata = Metadata {\n",
       "                name = \"blah\",\n",
       "                description = none,\n",
       "                tags = []\n",
       "            }\n",
       "        }\n",
       "    in\n",
       "        [BenchmarkArg {\n",
       "            entity = \"BindingAffinity\",\n",
       "            id = save binding_affinity\n",
       "        }]\n",
       "```"
      ],
      "text/plain": [
       "<IPython.core.display.Markdown object>"
      ]
     },
     "execution_count": 17,
     "metadata": {},
     "output_type": "execute_result"
    }
   ],
   "source": [
    "# |hide\n",
    "from IPython.display import Markdown as md\n",
    "rex_code_above = \"\"\"\n",
    "let\n",
    "    auto3d = \\\\smi ->  map to_data (get 0 (auto3d_rex_s default_runspec_gpu { k = 1 } [smi])),\n",
    "\n",
    "    rxdock_options = {\n",
    "            n_runs = 2,\n",
    "            radius = 8.0,\n",
    "            min_volumn = none,\n",
    "            small_sphere = none\n",
    "        },\n",
    "\n",
    "    rxdock = \\\\protein_conformer_trc -> \\\\small_molecule_conformer_tr ->\n",
    "            rxdock_rex_s default_runspec rxdock_options [protein_conformer_trc] [small_molecule_conformer_tr],\n",
    "\n",
    "in\n",
    "\\\\input ->\n",
    "    let\n",
    "        protein = load (id (get 0 input)) 'ProteinConformer',\n",
    "        smol_id = id (get 1 input),\n",
    "        smiles = smi (load smol_id 'Smol'),\n",
    "\n",
    "        structure = load (structure_id protein) 'Structure',\n",
    "        trc = [\n",
    "            topology structure,\n",
    "            residues structure,\n",
    "            chains structure\n",
    "        ],\n",
    "\n",
    "        smol_structure = auto3d smiles,\n",
    "\n",
    "        docked_structure = rxdock trc [smol_structure],\n",
    "        hello = print docked_structure,\n",
    "        \n",
    "        min_affinity =  get 0 docked_structure,\n",
    "\n",
    "        binding_affinity = BindingAffinity {\n",
    "            affinity = min_affinity,\n",
    "            affinity_metric = 'kcal/mol',\n",
    "            protein_id = protein_id protein,\n",
    "            smol_id = smol_id,\n",
    "            metadata = Metadata {\n",
    "                name = \"blah\",\n",
    "                description = none,\n",
    "                tags = []\n",
    "            }\n",
    "        }\n",
    "    in\n",
    "        [BenchmarkArg {\n",
    "            entity = \"BindingAffinity\",\n",
    "            id = save binding_affinity\n",
    "        }]\n",
    "\"\"\"\n",
    "\n",
    "md(f\"```haskell{rex_code_above}```\")"
   ]
  },
  {
   "cell_type": "code",
   "execution_count": 18,
   "id": "33f2e2b4",
   "metadata": {},
   "outputs": [
    {
     "ename": "GraphQLClientGraphQLMultiError",
     "evalue": "parse errors [ParserErr { span: Span { begin: Position { line: 32, column: 15 }, end: Position { line: 32, column: 30 } }, message: \"expected `=` got docked_structure\" }]",
     "output_type": "error",
     "traceback": [
      "\u001b[0;31m---------------------------------------------------------------------------\u001b[0m",
      "\u001b[0;31mGraphQLClientGraphQLMultiError\u001b[0m            Traceback (most recent call last)",
      "Cell \u001b[0;32mIn[18], line 1\u001b[0m\n\u001b[0;32m----> 1\u001b[0m submission \u001b[38;5;241m=\u001b[39m \u001b[43mclient\u001b[49m\u001b[38;5;241;43m.\u001b[39;49m\u001b[43mrun_benchmark\u001b[49m\u001b[43m(\u001b[49m\n\u001b[1;32m      2\u001b[0m \u001b[43m    \u001b[49m\u001b[43mbenchmark\u001b[49m\u001b[38;5;241;43m.\u001b[39;49m\u001b[43mid\u001b[49m\u001b[43m,\u001b[49m\u001b[43m \u001b[49m\n\u001b[1;32m      3\u001b[0m \u001b[43m    \u001b[49m\u001b[43mrex_code_above\u001b[49m\u001b[43m,\u001b[49m\u001b[43m \u001b[49m\n\u001b[1;32m      4\u001b[0m \u001b[43m    \u001b[49m\u001b[38;5;124;43m\"\u001b[39;49m\u001b[38;5;124;43musing rxdock\u001b[39;49m\u001b[38;5;124;43m\"\u001b[39;49m\u001b[43m,\u001b[49m\u001b[43m \u001b[49m\n\u001b[1;32m      5\u001b[0m \u001b[43m    \u001b[49m\u001b[43msample\u001b[49m\u001b[38;5;241;43m=\u001b[39;49m\u001b[38;5;241;43m0.01\u001b[39;49m\u001b[43m)\u001b[49m\n",
      "File \u001b[0;32m~/Development/rush-py/.venv/lib/python3.12/site-packages/rush/provider.py:2071\u001b[0m, in \u001b[0;36m_make_blocking.<locals>.closureb.<locals>.blocking_func\u001b[0;34m(*args, **kwargs)\u001b[0m\n\u001b[1;32m   2070\u001b[0m \u001b[38;5;28;01mdef\u001b[39;00m\u001b[38;5;250m \u001b[39m\u001b[38;5;21mblocking_func\u001b[39m(\u001b[38;5;241m*\u001b[39margs: Any, \u001b[38;5;241m*\u001b[39m\u001b[38;5;241m*\u001b[39mkwargs: Any) \u001b[38;5;241m-\u001b[39m\u001b[38;5;241m>\u001b[39m Any:\n\u001b[0;32m-> 2071\u001b[0m     r \u001b[38;5;241m=\u001b[39m \u001b[43masyncio_run\u001b[49m\u001b[43m(\u001b[49m\u001b[43mwrap_coroutine\u001b[49m\u001b[43m(\u001b[49m\u001b[43mfunc\u001b[49m\u001b[43m(\u001b[49m\u001b[43mprovider\u001b[49m\u001b[43m,\u001b[49m\u001b[43m \u001b[49m\u001b[38;5;241;43m*\u001b[39;49m\u001b[43margs\u001b[49m\u001b[43m,\u001b[49m\u001b[43m \u001b[49m\u001b[38;5;241;43m*\u001b[39;49m\u001b[38;5;241;43m*\u001b[39;49m\u001b[43mkwargs\u001b[49m\u001b[43m)\u001b[49m\u001b[43m)\u001b[49m\u001b[43m)\u001b[49m\n\u001b[1;32m   2072\u001b[0m     \u001b[38;5;28;01mif\u001b[39;00m \u001b[38;5;28misinstance\u001b[39m(r, AsyncGenerator):\n\u001b[1;32m   2073\u001b[0m         r_a: AsyncGenerator[Any, Any] \u001b[38;5;241m=\u001b[39m r\n",
      "File \u001b[0;32m~/Development/rush-py/.venv/lib/python3.12/site-packages/rush/async_utils.py:55\u001b[0m, in \u001b[0;36masyncio_run\u001b[0;34m(coro, override)\u001b[0m\n\u001b[1;32m     53\u001b[0m     \u001b[38;5;28;01mreturn\u001b[39;00m asyncio\u001b[38;5;241m.\u001b[39mrun_coroutine_threadsafe(coro, LOOP)\u001b[38;5;241m.\u001b[39mresult()\n\u001b[1;32m     54\u001b[0m \u001b[38;5;28;01melif\u001b[39;00m loop_running:\n\u001b[0;32m---> 55\u001b[0m     r \u001b[38;5;241m=\u001b[39m \u001b[43masyncio\u001b[49m\u001b[38;5;241;43m.\u001b[39;49m\u001b[43mrun\u001b[49m\u001b[43m(\u001b[49m\u001b[43mcoro\u001b[49m\u001b[43m)\u001b[49m\n\u001b[1;32m     56\u001b[0m     \u001b[38;5;28;01mreturn\u001b[39;00m r\n\u001b[1;32m     57\u001b[0m \u001b[38;5;28;01melse\u001b[39;00m:\n",
      "File \u001b[0;32m~/Development/rush-py/.venv/lib/python3.12/site-packages/nest_asyncio.py:30\u001b[0m, in \u001b[0;36m_patch_asyncio.<locals>.run\u001b[0;34m(main, debug)\u001b[0m\n\u001b[1;32m     28\u001b[0m task \u001b[38;5;241m=\u001b[39m asyncio\u001b[38;5;241m.\u001b[39mensure_future(main)\n\u001b[1;32m     29\u001b[0m \u001b[38;5;28;01mtry\u001b[39;00m:\n\u001b[0;32m---> 30\u001b[0m     \u001b[38;5;28;01mreturn\u001b[39;00m \u001b[43mloop\u001b[49m\u001b[38;5;241;43m.\u001b[39;49m\u001b[43mrun_until_complete\u001b[49m\u001b[43m(\u001b[49m\u001b[43mtask\u001b[49m\u001b[43m)\u001b[49m\n\u001b[1;32m     31\u001b[0m \u001b[38;5;28;01mfinally\u001b[39;00m:\n\u001b[1;32m     32\u001b[0m     \u001b[38;5;28;01mif\u001b[39;00m \u001b[38;5;129;01mnot\u001b[39;00m task\u001b[38;5;241m.\u001b[39mdone():\n",
      "File \u001b[0;32m~/Development/rush-py/.venv/lib/python3.12/site-packages/nest_asyncio.py:98\u001b[0m, in \u001b[0;36m_patch_loop.<locals>.run_until_complete\u001b[0;34m(self, future)\u001b[0m\n\u001b[1;32m     95\u001b[0m \u001b[38;5;28;01mif\u001b[39;00m \u001b[38;5;129;01mnot\u001b[39;00m f\u001b[38;5;241m.\u001b[39mdone():\n\u001b[1;32m     96\u001b[0m     \u001b[38;5;28;01mraise\u001b[39;00m \u001b[38;5;167;01mRuntimeError\u001b[39;00m(\n\u001b[1;32m     97\u001b[0m         \u001b[38;5;124m'\u001b[39m\u001b[38;5;124mEvent loop stopped before Future completed.\u001b[39m\u001b[38;5;124m'\u001b[39m)\n\u001b[0;32m---> 98\u001b[0m \u001b[38;5;28;01mreturn\u001b[39;00m \u001b[43mf\u001b[49m\u001b[38;5;241;43m.\u001b[39;49m\u001b[43mresult\u001b[49m\u001b[43m(\u001b[49m\u001b[43m)\u001b[49m\n",
      "File \u001b[0;32m/opt/homebrew/Cellar/python@3.12/3.12.7_1/Frameworks/Python.framework/Versions/3.12/lib/python3.12/asyncio/futures.py:203\u001b[0m, in \u001b[0;36mFuture.result\u001b[0;34m(self)\u001b[0m\n\u001b[1;32m    201\u001b[0m \u001b[38;5;28mself\u001b[39m\u001b[38;5;241m.\u001b[39m__log_traceback \u001b[38;5;241m=\u001b[39m \u001b[38;5;28;01mFalse\u001b[39;00m\n\u001b[1;32m    202\u001b[0m \u001b[38;5;28;01mif\u001b[39;00m \u001b[38;5;28mself\u001b[39m\u001b[38;5;241m.\u001b[39m_exception \u001b[38;5;129;01mis\u001b[39;00m \u001b[38;5;129;01mnot\u001b[39;00m \u001b[38;5;28;01mNone\u001b[39;00m:\n\u001b[0;32m--> 203\u001b[0m     \u001b[38;5;28;01mraise\u001b[39;00m \u001b[38;5;28mself\u001b[39m\u001b[38;5;241m.\u001b[39m_exception\u001b[38;5;241m.\u001b[39mwith_traceback(\u001b[38;5;28mself\u001b[39m\u001b[38;5;241m.\u001b[39m_exception_tb)\n\u001b[1;32m    204\u001b[0m \u001b[38;5;28;01mreturn\u001b[39;00m \u001b[38;5;28mself\u001b[39m\u001b[38;5;241m.\u001b[39m_result\n",
      "File \u001b[0;32m/opt/homebrew/Cellar/python@3.12/3.12.7_1/Frameworks/Python.framework/Versions/3.12/lib/python3.12/asyncio/tasks.py:314\u001b[0m, in \u001b[0;36mTask.__step_run_and_handle_result\u001b[0;34m(***failed resolving arguments***)\u001b[0m\n\u001b[1;32m    310\u001b[0m \u001b[38;5;28;01mtry\u001b[39;00m:\n\u001b[1;32m    311\u001b[0m     \u001b[38;5;28;01mif\u001b[39;00m exc \u001b[38;5;129;01mis\u001b[39;00m \u001b[38;5;28;01mNone\u001b[39;00m:\n\u001b[1;32m    312\u001b[0m         \u001b[38;5;66;03m# We use the `send` method directly, because coroutines\u001b[39;00m\n\u001b[1;32m    313\u001b[0m         \u001b[38;5;66;03m# don't have `__iter__` and `__next__` methods.\u001b[39;00m\n\u001b[0;32m--> 314\u001b[0m         result \u001b[38;5;241m=\u001b[39m \u001b[43mcoro\u001b[49m\u001b[38;5;241;43m.\u001b[39;49m\u001b[43msend\u001b[49m\u001b[43m(\u001b[49m\u001b[38;5;28;43;01mNone\u001b[39;49;00m\u001b[43m)\u001b[49m\n\u001b[1;32m    315\u001b[0m     \u001b[38;5;28;01melse\u001b[39;00m:\n\u001b[1;32m    316\u001b[0m         result \u001b[38;5;241m=\u001b[39m coro\u001b[38;5;241m.\u001b[39mthrow(exc)\n",
      "File \u001b[0;32m~/Development/rush-py/.venv/lib/python3.12/site-packages/rush/provider.py:2007\u001b[0m, in \u001b[0;36mwrap_coroutine\u001b[0;34m(coro)\u001b[0m\n\u001b[1;32m   2006\u001b[0m \u001b[38;5;28;01masync\u001b[39;00m \u001b[38;5;28;01mdef\u001b[39;00m\u001b[38;5;250m \u001b[39m\u001b[38;5;21mwrap_coroutine\u001b[39m(coro: Awaitable[TA]) \u001b[38;5;241m-\u001b[39m\u001b[38;5;241m>\u001b[39m TA:\n\u001b[0;32m-> 2007\u001b[0m     \u001b[38;5;28;01mreturn\u001b[39;00m \u001b[38;5;28;01mawait\u001b[39;00m coro\n",
      "File \u001b[0;32m~/Development/rush-py/.venv/lib/python3.12/site-packages/rush/provider.py:621\u001b[0m, in \u001b[0;36mBaseProvider.run_benchmark\u001b[0;34m(self, benchmark_id, rex_fn, name, sample, with_outs)\u001b[0m\n\u001b[1;32m    619\u001b[0m     \u001b[38;5;28;01mraise\u001b[39;00m \u001b[38;5;167;01mException\u001b[39;00m(\u001b[38;5;124m\"\u001b[39m\u001b[38;5;124mPlease set up a project first with client.create_project and client.set_project\u001b[39m\u001b[38;5;124m\"\u001b[39m)\n\u001b[1;32m    620\u001b[0m \u001b[38;5;28minput\u001b[39m \u001b[38;5;241m=\u001b[39m CreateRun(rex\u001b[38;5;241m=\u001b[39mrex_fn, name\u001b[38;5;241m=\u001b[39mname, project_id\u001b[38;5;241m=\u001b[39m\u001b[38;5;28mself\u001b[39m\u001b[38;5;241m.\u001b[39mproject_id)\n\u001b[0;32m--> 621\u001b[0m res \u001b[38;5;241m=\u001b[39m \u001b[38;5;28;01mawait\u001b[39;00m \u001b[38;5;28mself\u001b[39m\u001b[38;5;241m.\u001b[39mclient\u001b[38;5;241m.\u001b[39mrun_benchmark(\u001b[38;5;28minput\u001b[39m, benchmark_id, sample_pct\u001b[38;5;241m=\u001b[39msample, with_outs\u001b[38;5;241m=\u001b[39mwith_outs)\n\u001b[1;32m    622\u001b[0m \u001b[38;5;28;01mif\u001b[39;00m res\u001b[38;5;241m.\u001b[39mid:\n\u001b[1;32m    623\u001b[0m     ui_url \u001b[38;5;241m=\u001b[39m UI_URL_MAP[\u001b[38;5;28mself\u001b[39m\u001b[38;5;241m.\u001b[39mclient\u001b[38;5;241m.\u001b[39murl\u001b[38;5;241m.\u001b[39mstrip(\u001b[38;5;124m\"\u001b[39m\u001b[38;5;124m/\u001b[39m\u001b[38;5;124m\"\u001b[39m)]\n",
      "File \u001b[0;32m~/Development/rush-py/.venv/lib/python3.12/site-packages/rush/graphql_client/client.py:4035\u001b[0m, in \u001b[0;36mClient.run_benchmark\u001b[0;34m(self, input, benchmark_id, sample_pct, with_outs, **kwargs)\u001b[0m\n\u001b[1;32m   4026\u001b[0m variables: Dict[\u001b[38;5;28mstr\u001b[39m, \u001b[38;5;28mobject\u001b[39m] \u001b[38;5;241m=\u001b[39m {\n\u001b[1;32m   4027\u001b[0m     \u001b[38;5;124m\"\u001b[39m\u001b[38;5;124minput\u001b[39m\u001b[38;5;124m\"\u001b[39m: \u001b[38;5;28minput\u001b[39m,\n\u001b[1;32m   4028\u001b[0m     \u001b[38;5;124m\"\u001b[39m\u001b[38;5;124mbenchmark_id\u001b[39m\u001b[38;5;124m\"\u001b[39m: benchmark_id,\n\u001b[1;32m   4029\u001b[0m     \u001b[38;5;124m\"\u001b[39m\u001b[38;5;124msample_pct\u001b[39m\u001b[38;5;124m\"\u001b[39m: sample_pct,\n\u001b[1;32m   4030\u001b[0m     \u001b[38;5;124m\"\u001b[39m\u001b[38;5;124mwith_outs\u001b[39m\u001b[38;5;124m\"\u001b[39m: with_outs,\n\u001b[1;32m   4031\u001b[0m }\n\u001b[1;32m   4032\u001b[0m response \u001b[38;5;241m=\u001b[39m \u001b[38;5;28;01mawait\u001b[39;00m \u001b[38;5;28mself\u001b[39m\u001b[38;5;241m.\u001b[39mexecute(\n\u001b[1;32m   4033\u001b[0m     query\u001b[38;5;241m=\u001b[39mquery, operation_name\u001b[38;5;241m=\u001b[39m\u001b[38;5;124m\"\u001b[39m\u001b[38;5;124mrun_benchmark\u001b[39m\u001b[38;5;124m\"\u001b[39m, variables\u001b[38;5;241m=\u001b[39mvariables, \u001b[38;5;241m*\u001b[39m\u001b[38;5;241m*\u001b[39mkwargs\n\u001b[1;32m   4034\u001b[0m )\n\u001b[0;32m-> 4035\u001b[0m data \u001b[38;5;241m=\u001b[39m \u001b[38;5;28;43mself\u001b[39;49m\u001b[38;5;241;43m.\u001b[39;49m\u001b[43mget_data\u001b[49m\u001b[43m(\u001b[49m\u001b[43mresponse\u001b[49m\u001b[43m)\u001b[49m\n\u001b[1;32m   4036\u001b[0m \u001b[38;5;28;01mreturn\u001b[39;00m RunBenchmark\u001b[38;5;241m.\u001b[39mmodel_validate(data)\u001b[38;5;241m.\u001b[39mrun_benchmark\n",
      "File \u001b[0;32m~/Development/rush-py/.venv/lib/python3.12/site-packages/rush/graphql_client/async_base_client.py:141\u001b[0m, in \u001b[0;36mAsyncBaseClient.get_data\u001b[0;34m(self, response)\u001b[0m\n\u001b[1;32m    138\u001b[0m errors \u001b[38;5;241m=\u001b[39m response_json\u001b[38;5;241m.\u001b[39mget(\u001b[38;5;124m\"\u001b[39m\u001b[38;5;124merrors\u001b[39m\u001b[38;5;124m\"\u001b[39m)\n\u001b[1;32m    140\u001b[0m \u001b[38;5;28;01mif\u001b[39;00m errors:\n\u001b[0;32m--> 141\u001b[0m     \u001b[38;5;28;01mraise\u001b[39;00m GraphQLClientGraphQLMultiError\u001b[38;5;241m.\u001b[39mfrom_errors_dicts(\n\u001b[1;32m    142\u001b[0m         errors_dicts\u001b[38;5;241m=\u001b[39merrors, data\u001b[38;5;241m=\u001b[39mdata\n\u001b[1;32m    143\u001b[0m     )\n\u001b[1;32m    145\u001b[0m \u001b[38;5;28;01mreturn\u001b[39;00m cast(Dict[\u001b[38;5;28mstr\u001b[39m, Any], data)\n",
      "\u001b[0;31mGraphQLClientGraphQLMultiError\u001b[0m: parse errors [ParserErr { span: Span { begin: Position { line: 32, column: 15 }, end: Position { line: 32, column: 30 } }, message: \"expected `=` got docked_structure\" }]"
     ]
    }
   ],
   "source": [
    "submission = client.run_benchmark(\n",
    "    benchmark.id, \n",
    "    rex_code_above, \n",
    "    \"using rxdock\", \n",
    "    sample=0.01)"
   ]
  },
  {
   "cell_type": "code",
   "execution_count": null,
   "id": "2e8afb79",
   "metadata": {},
   "outputs": [],
   "source": []
  }
 ],
 "metadata": {
  "kernelspec": {
   "display_name": ".venv",
   "language": "python",
   "name": "python3"
  },
  "language_info": {
   "codemirror_mode": {
    "name": "ipython",
    "version": 3
   },
   "file_extension": ".py",
   "mimetype": "text/x-python",
   "name": "python",
   "nbconvert_exporter": "python",
   "pygments_lexer": "ipython3",
   "version": "3.12.7"
  }
 },
 "nbformat": 4,
 "nbformat_minor": 5
}
