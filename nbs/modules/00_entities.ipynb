{
 "cells": [
  {
   "cell_type": "markdown",
   "metadata": {},
   "source": [
    "# Rush Entities\n",
    "\n",
    "Rush workflows operate on **entities**, which are **typed objects** that are passed between functions within a `rex` expression.  \n",
    "These entities represent various molecular structures, docking results, and computational outputs.\n",
    "\n",
    "## Entity Overview\n",
    "The table below summarizes the key entities used in **Rush**.\n",
    "\n",
    "| Entity | Description |\n",
    "| --- | --- |\n",
    "| `ProteinConformer` | A processed protein structure used in docking. |\n",
    "| `Structure` | A molecular structure (either protein or small molecule). |\n",
    "| `BoundingBox` | A predicted **binding site** on a protein, used for docking. |\n",
    "| `SmolStructure` | A **3D small molecule** generated from a SMILES string. |\n",
    "| `DockingResult` | A set of docked molecular poses and their **predicted affinities**. |\n",
    "| `BindingAffinity` | A processed **affinity result**, used for benchmarking. |\n",
    "\n",
    "---\n",
    "\n",
    "## Entity Details\n",
    "\n",
    "### **ProteinConformer**\n",
    "A **processed protein structure** used in docking calculations.\n",
    "\n",
    "#### **Example**\n",
    "```rex\n",
    "protein = load (id (get 0 input)) 'ProteinConformer'\n",
    "```"
   ]
  }
 ],
 "metadata": {
  "language_info": {
   "name": "python"
  }
 },
 "nbformat": 4,
 "nbformat_minor": 2
}
