{
 "cells": [
  {
   "cell_type": "markdown",
   "metadata": {},
   "source": [
    "# Module: Dojo\n",
    "\n",
    "This workflow...\n",
    "\n"
   ]
  },
  {
   "cell_type": "code",
   "execution_count": 3,
   "metadata": {},
   "outputs": [],
   "source": [
    "from rush import build_blocking_provider"
   ]
  },
  {
   "cell_type": "code",
   "execution_count": 4,
   "metadata": {},
   "outputs": [],
   "source": [
    "# |hide\n",
    "# hidden setup for the notebook\n",
    "import os\n",
    "import pathlib\n",
    "\n",
    "WORK_DIR = pathlib.Path(\"~/qdx/benchmark_notebook\").expanduser()\n",
    "if WORK_DIR.exists():\n",
    "    !rm -r $WORK_DIR\n",
    "os.makedirs(WORK_DIR, exist_ok=True)\n",
    "# swap into clean workdir so that our tests are deterministic\n",
    "os.chdir(WORK_DIR)\n",
    "PUT_YOUR_PREFERRED_WORKING_DIRECTORY_HERE = WORK_DIR\n",
    "PUT_YOUR_TOKEN_HERE = os.environ[\"RUSH_TOKEN\"]\n",
    "RUSH_URL = os.environ[\"RUSH_URL\"]\n",
    "os.environ[\"RUSH_RESTORE_BY_DEFAULT\"] = \"False\""
   ]
  },
  {
   "cell_type": "code",
   "execution_count": 5,
   "metadata": {},
   "outputs": [
    {
     "name": "stdout",
     "output_type": "stream",
     "text": [
      "2025-02-06 16:20:37,527 - rush - INFO - Not restoring by default via env\n"
     ]
    }
   ],
   "source": [
    "client = build_blocking_provider(\n",
    "    access_token=PUT_YOUR_TOKEN_HERE,\n",
    "    url = RUSH_URL,\n",
    "    # for example, if your token is 00000000-dddd-cccc-0000-11111111,\n",
    "    # then you should put access_token=\"00000000-dddd-cccc-0000-11111111\"\n",
    "    # (including the double quotes)\n",
    ")"
   ]
  },
  {
   "cell_type": "code",
   "execution_count": 9,
   "metadata": {},
   "outputs": [],
   "source": [
    "benchmark = client.benchmark(name=\"OpenFF CDK2 RMSD17 Benchmark\")"
   ]
  },
  {
   "cell_type": "code",
   "execution_count": 22,
   "metadata": {},
   "outputs": [
    {
     "data": {
      "text/markdown": [
       "```haskell\n",
       "let\n",
       "\n",
       "    auto3d = \\smi ->  map to_data (get 0 (auto3d_rex_s default_runspec_gpu { k = 1 } [smi])),\n",
       "\n",
       "    dojo = \\default_runspec -> \\config -> \\input_trc -> \\input_ffxml ->\n",
       "        dojo_rex_s default_runspec config input_trc input_ffxml\n",
       "\n",
       "in\n",
       "\\input ->\n",
       "    let\n",
       "        smol_id = id (get 1 input),\n",
       "        smiles = smi (load smol_id \"Smol\"),\n",
       "\n",
       "        dojo_conf = {\n",
       "            simulation = {\n",
       "                step_size_ps = 0.001,\n",
       "                stages = [\n",
       "                    {\n",
       "                        Nvt = {\n",
       "                            temperature_kelvin = 300,\n",
       "                            steps = 1000\n",
       "                        }\n",
       "                    }\n",
       "                ]\n",
       "            },\n",
       "            trajectory = {\n",
       "                interval = 100,\n",
       "                info = true\n",
       "            }\n",
       "        },\n",
       "\n",
       "        dojo_out        = dojo      default_runspec dojo_conf   [smol_structure] []\n",
       "\n",
       "    in\n",
       "        []\n",
       "```"
      ],
      "text/plain": [
       "<IPython.core.display.Markdown object>"
      ]
     },
     "execution_count": 22,
     "metadata": {},
     "output_type": "execute_result"
    }
   ],
   "source": [
    "# |hide\n",
    "from IPython.display import Markdown as md\n",
    "rex_code_above = \"\"\"\n",
    "let\n",
    "\n",
    "    auto3d = \\\\smi ->  map to_data (get 0 (auto3d_rex_s default_runspec_gpu { k = 1 } [smi])),\n",
    "\n",
    "    dojo = \\\\default_runspec -> \\\\config -> \\\\input_trc -> \\\\input_ffxml ->\n",
    "        dojo_rex_s default_runspec config input_trc input_ffxml\n",
    "\n",
    "in\n",
    "\\\\input ->\n",
    "    let\n",
    "        smol_id = id (get 1 input),\n",
    "        smiles = smi (load smol_id \"Smol\"),\n",
    "        smol_structure = auto3d smiles,\n",
    "        \n",
    "        dojo_conf = {\n",
    "            simulation = {\n",
    "                step_size_ps = 0.001,\n",
    "                stages = [\n",
    "                    {\n",
    "                        Nvt = {\n",
    "                            temperature_kelvin = 300,\n",
    "                            steps = 1000\n",
    "                        }\n",
    "                    }\n",
    "                ]\n",
    "            },\n",
    "            trajectory = {\n",
    "                interval = 100,\n",
    "                info = true\n",
    "            }\n",
    "        },\n",
    "\n",
    "        dojo_out        = dojo      default_runspec dojo_conf   [smol_structure] []\n",
    "\n",
    "    in\n",
    "        []\n",
    "\"\"\"\n",
    "\n",
    "md(f\"```haskell{rex_code_above}```\")"
   ]
  },
  {
   "cell_type": "code",
   "execution_count": 23,
   "metadata": {},
   "outputs": [
    {
     "name": "stdout",
     "output_type": "stream",
     "text": [
      "View your submission at https://rush-qdx-2-staging.web.app/project/07c7d14a-3a55-491c-ab50-65cca07ec7a0/runs?selectedRunId=56c70920-8430-40a8-ac4c-4b00d27482cb\n"
     ]
    }
   ],
   "source": [
    "submission = client.run_benchmark(\n",
    "    benchmark.id, \n",
    "    rex_code_above, \n",
    "    \"dojo\", \n",
    "    sample=0.2)"
   ]
  },
  {
   "cell_type": "code",
   "execution_count": null,
   "metadata": {},
   "outputs": [],
   "source": []
  }
 ],
 "metadata": {
  "kernelspec": {
   "display_name": ".venv",
   "language": "python",
   "name": "python3"
  },
  "language_info": {
   "codemirror_mode": {
    "name": "ipython",
    "version": 3
   },
   "file_extension": ".py",
   "mimetype": "text/x-python",
   "name": "python",
   "nbconvert_exporter": "python",
   "pygments_lexer": "ipython3",
   "version": "3.12.7"
  }
 },
 "nbformat": 4,
 "nbformat_minor": 2
}
