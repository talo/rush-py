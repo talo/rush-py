{
  "cells": [
    {
      "cell_type": "markdown",
      "id": "dd663e5c-c4c1-4b34-ad75-adfb20d62dc4",
      "metadata": {},
      "source": [
        "# Prepare Protein Module\n",
        "\n",
        "In this example, the workflow is augmented with the `prepare_protein` module, which primarily focuses on completing incomplete protein structures by inserting missing residues and hydrogens.\n",
        "\n",
        "1. **Fills in Missing Residues**  \n",
        "   Using advanced modeling techniques, the module reconstructs missing segments of the protein backbone and sidechains, ensuring structural completeness.\n",
        "   \n",
        "2. **Adds Missing Hydrogen Atoms**  \n",
        "   Protonation states are assigned based on physiological conditions or user-defined pH values, ensuring a chemically valid structure.\n",
        "\n",
        "Underneath the hood, `prepare_protein` relies on two widely used tools:\n",
        "\n",
        "1. **[PDBFixer](https://github.com/openmm/pdbfixer)**  \n",
        "   PDBFixer is a tool that identifies and corrects issues in PDB files, such as missing atoms and residues, while preserving the overall structure.\n",
        "\n",
        "2. **[PDB2PQR](https://pdb2pqr.readthedocs.io/en/latest/)**  \n",
        "   PDB2PQR is used for assigning protonation states and optimizing hydrogen bonding networks based on the specified pH conditions.\n"
      ]
    },
    {
      "cell_type": "markdown",
      "id": "0bc43f85",
      "metadata": {},
      "source": [
        "## Function usage\n",
        "```heskell\n",
        "let\n",
        "    prepare_protein_options = {\n",
        "        truncation_threshold = some 2,\n",
        "        capping_style = some 'Truncated',\n",
        "        naming_scheme = some 'Amber',\n",
        "        ph = some 7.4\n",
        "    },\n",
        "\n",
        "    prepare_protein = \\\\protein_conformer_trc -> \n",
        "        map to_data (get 0 ( prepare_protein_rex_s default_runspec prepare_protein_options [protein_conformer_trc] ))\n",
        "\n",
        "\n",
        "in\n",
        "\\\\input ->\n",
        "    let\n",
        "        prepare_protein_result =  prepare_protein unprepped_trc ,\n",
        "        \n",
        "        topology = get 0 (prepare_protein_result),\n",
        "        residues = get 1 (prepare_protein_result),\n",
        "        chains = get 2 (prepare_protein_result),\n",
        "        prepared_trc = [ topology, residues, chains ],\n",
        "\n",
        "\n",
        "```\n"
      ]
    },
    {
      "cell_type": "code",
      "execution_count": 1,
      "id": "8511e519-d815-481f-a9c0-f78ec6c240ce",
      "metadata": {},
      "outputs": [
        {
          "ename": "ImportError",
          "evalue": "cannot import name 'build_blocking_provider' from 'rush' (/Users/quekweiliang/miniconda3/lib/python3.11/site-packages/rush/__init__.py)",
          "output_type": "error",
          "traceback": [
            "\u001b[0;31m---------------------------------------------------------------------------\u001b[0m",
            "\u001b[0;31mImportError\u001b[0m                               Traceback (most recent call last)",
            "Cell \u001b[0;32mIn[1], line 1\u001b[0m\n\u001b[0;32m----> 1\u001b[0m \u001b[38;5;28;01mfrom\u001b[39;00m\u001b[38;5;250m \u001b[39m\u001b[38;5;21;01mrush\u001b[39;00m\u001b[38;5;250m \u001b[39m\u001b[38;5;28;01mimport\u001b[39;00m build_blocking_provider\n",
            "\u001b[0;31mImportError\u001b[0m: cannot import name 'build_blocking_provider' from 'rush' (/Users/quekweiliang/miniconda3/lib/python3.11/site-packages/rush/__init__.py)"
          ]
        }
      ],
      "source": [
        "from rush import build_blocking_provider"
      ]
    },
    {
      "cell_type": "code",
      "execution_count": 2,
      "id": "8fd4995b",
      "metadata": {},
      "outputs": [],
      "source": [
        "# |hide\n",
        "# hidden setup for the notebook\n",
        "import os\n",
        "import pathlib\n",
        "\n",
        "WORK_DIR = pathlib.Path(\"~/qdx/benchmark_notebook\").expanduser()\n",
        "if WORK_DIR.exists():\n",
        "    !rm -r $WORK_DIR\n",
        "os.makedirs(WORK_DIR, exist_ok=True)\n",
        "# swap into clean workdir so that our tests are deterministic\n",
        "os.chdir(WORK_DIR)\n",
        "PUT_YOUR_TOKEN_HERE = os.environ[\"RUSH_TOKEN\"]\n",
        "PUT_YOUR_PREFERRED_WORKING_DIRECTORY_HERE = WORK_DIR\n",
        "RUSH_URL=os.environ[\"RUSH_URL\"]\n",
        "os.environ[\"RUSH_RESTORE_BY_DEFAULT\"] = \"False\""
      ]
    },
    {
      "cell_type": "code",
      "execution_count": 3,
      "id": "8820614c",
      "metadata": {},
      "outputs": [
        {
          "name": "stdout",
          "output_type": "stream",
          "text": [
            "2025-02-05 18:24:27,664 - rush - INFO - Not restoring by default via env\n"
          ]
        },
        {
          "ename": "GraphQLClientGraphQLMultiError",
          "evalue": "Data `tengu_dal::user::User` does not exist.",
          "output_type": "error",
          "traceback": [
            "\u001b[0;31m---------------------------------------------------------------------------\u001b[0m",
            "\u001b[0;31mGraphQLClientGraphQLMultiError\u001b[0m            Traceback (most recent call last)",
            "Cell \u001b[0;32mIn[3], line 1\u001b[0m\n\u001b[0;32m----> 1\u001b[0m client \u001b[38;5;241m=\u001b[39m \u001b[43mbuild_blocking_provider\u001b[49m\u001b[43m(\u001b[49m\n\u001b[1;32m      2\u001b[0m \u001b[43m    \u001b[49m\u001b[43maccess_token\u001b[49m\u001b[38;5;241;43m=\u001b[39;49m\u001b[43mPUT_YOUR_TOKEN_HERE\u001b[49m\u001b[43m,\u001b[49m\n\u001b[1;32m      3\u001b[0m \u001b[43m    \u001b[49m\u001b[43murl\u001b[49m\u001b[43m \u001b[49m\u001b[38;5;241;43m=\u001b[39;49m\u001b[43m \u001b[49m\u001b[43mRUSH_URL\u001b[49m\u001b[43m,\u001b[49m\n\u001b[1;32m      4\u001b[0m \u001b[43m    \u001b[49m\u001b[38;5;66;43;03m# for example, if your token is 00000000-dddd-cccc-0000-11111111,\u001b[39;49;00m\n\u001b[1;32m      5\u001b[0m \u001b[43m    \u001b[49m\u001b[38;5;66;43;03m# then you should put access_token=\"00000000-dddd-cccc-0000-11111111\"\u001b[39;49;00m\n\u001b[1;32m      6\u001b[0m \u001b[43m    \u001b[49m\u001b[38;5;66;43;03m# (including the double quotes)\u001b[39;49;00m\n\u001b[1;32m      7\u001b[0m \u001b[43m)\u001b[49m\n",
            "File \u001b[0;32m~/Development/rush-py/.venv/lib/python3.12/site-packages/rush/provider.py:2210\u001b[0m, in \u001b[0;36mbuild_blocking_provider\u001b[0;34m(workspace, access_token, url, batch_tags, project, module_names, module_tags, logger, restore_by_default)\u001b[0m\n\u001b[1;32m   2207\u001b[0m         _LOOP_THREAD \u001b[38;5;241m=\u001b[39m threading\u001b[38;5;241m.\u001b[39mThread(target\u001b[38;5;241m=\u001b[39mstart_background_loop, args\u001b[38;5;241m=\u001b[39m(LOOP,), daemon\u001b[38;5;241m=\u001b[39m\u001b[38;5;28;01mTrue\u001b[39;00m)\n\u001b[1;32m   2208\u001b[0m         _LOOP_THREAD\u001b[38;5;241m.\u001b[39mstart()\n\u001b[0;32m-> 2210\u001b[0m \u001b[43masyncio_run\u001b[49m\u001b[43m(\u001b[49m\u001b[43mprovider\u001b[49m\u001b[38;5;241;43m.\u001b[39;49m\u001b[43mset_default_project\u001b[49m\u001b[43m(\u001b[49m\u001b[43m)\u001b[49m\u001b[43m)\u001b[49m\n\u001b[1;32m   2212\u001b[0m _make_blocking(provider, {})\n\u001b[1;32m   2214\u001b[0m \u001b[38;5;28;01mreturn\u001b[39;00m provider\n",
            "File \u001b[0;32m~/Development/rush-py/.venv/lib/python3.12/site-packages/rush/async_utils.py:55\u001b[0m, in \u001b[0;36masyncio_run\u001b[0;34m(coro, override)\u001b[0m\n\u001b[1;32m     53\u001b[0m     \u001b[38;5;28;01mreturn\u001b[39;00m asyncio\u001b[38;5;241m.\u001b[39mrun_coroutine_threadsafe(coro, LOOP)\u001b[38;5;241m.\u001b[39mresult()\n\u001b[1;32m     54\u001b[0m \u001b[38;5;28;01melif\u001b[39;00m loop_running:\n\u001b[0;32m---> 55\u001b[0m     r \u001b[38;5;241m=\u001b[39m \u001b[43masyncio\u001b[49m\u001b[38;5;241;43m.\u001b[39;49m\u001b[43mrun\u001b[49m\u001b[43m(\u001b[49m\u001b[43mcoro\u001b[49m\u001b[43m)\u001b[49m\n\u001b[1;32m     56\u001b[0m     \u001b[38;5;28;01mreturn\u001b[39;00m r\n\u001b[1;32m     57\u001b[0m \u001b[38;5;28;01melse\u001b[39;00m:\n",
            "File \u001b[0;32m~/Development/rush-py/.venv/lib/python3.12/site-packages/nest_asyncio.py:30\u001b[0m, in \u001b[0;36m_patch_asyncio.<locals>.run\u001b[0;34m(main, debug)\u001b[0m\n\u001b[1;32m     28\u001b[0m task \u001b[38;5;241m=\u001b[39m asyncio\u001b[38;5;241m.\u001b[39mensure_future(main)\n\u001b[1;32m     29\u001b[0m \u001b[38;5;28;01mtry\u001b[39;00m:\n\u001b[0;32m---> 30\u001b[0m     \u001b[38;5;28;01mreturn\u001b[39;00m \u001b[43mloop\u001b[49m\u001b[38;5;241;43m.\u001b[39;49m\u001b[43mrun_until_complete\u001b[49m\u001b[43m(\u001b[49m\u001b[43mtask\u001b[49m\u001b[43m)\u001b[49m\n\u001b[1;32m     31\u001b[0m \u001b[38;5;28;01mfinally\u001b[39;00m:\n\u001b[1;32m     32\u001b[0m     \u001b[38;5;28;01mif\u001b[39;00m \u001b[38;5;129;01mnot\u001b[39;00m task\u001b[38;5;241m.\u001b[39mdone():\n",
            "File \u001b[0;32m~/Development/rush-py/.venv/lib/python3.12/site-packages/nest_asyncio.py:98\u001b[0m, in \u001b[0;36m_patch_loop.<locals>.run_until_complete\u001b[0;34m(self, future)\u001b[0m\n\u001b[1;32m     95\u001b[0m \u001b[38;5;28;01mif\u001b[39;00m \u001b[38;5;129;01mnot\u001b[39;00m f\u001b[38;5;241m.\u001b[39mdone():\n\u001b[1;32m     96\u001b[0m     \u001b[38;5;28;01mraise\u001b[39;00m \u001b[38;5;167;01mRuntimeError\u001b[39;00m(\n\u001b[1;32m     97\u001b[0m         \u001b[38;5;124m'\u001b[39m\u001b[38;5;124mEvent loop stopped before Future completed.\u001b[39m\u001b[38;5;124m'\u001b[39m)\n\u001b[0;32m---> 98\u001b[0m \u001b[38;5;28;01mreturn\u001b[39;00m \u001b[43mf\u001b[49m\u001b[38;5;241;43m.\u001b[39;49m\u001b[43mresult\u001b[49m\u001b[43m(\u001b[49m\u001b[43m)\u001b[49m\n",
            "File \u001b[0;32m/opt/homebrew/Cellar/python@3.12/3.12.7_1/Frameworks/Python.framework/Versions/3.12/lib/python3.12/asyncio/futures.py:203\u001b[0m, in \u001b[0;36mFuture.result\u001b[0;34m(self)\u001b[0m\n\u001b[1;32m    201\u001b[0m \u001b[38;5;28mself\u001b[39m\u001b[38;5;241m.\u001b[39m__log_traceback \u001b[38;5;241m=\u001b[39m \u001b[38;5;28;01mFalse\u001b[39;00m\n\u001b[1;32m    202\u001b[0m \u001b[38;5;28;01mif\u001b[39;00m \u001b[38;5;28mself\u001b[39m\u001b[38;5;241m.\u001b[39m_exception \u001b[38;5;129;01mis\u001b[39;00m \u001b[38;5;129;01mnot\u001b[39;00m \u001b[38;5;28;01mNone\u001b[39;00m:\n\u001b[0;32m--> 203\u001b[0m     \u001b[38;5;28;01mraise\u001b[39;00m \u001b[38;5;28mself\u001b[39m\u001b[38;5;241m.\u001b[39m_exception\u001b[38;5;241m.\u001b[39mwith_traceback(\u001b[38;5;28mself\u001b[39m\u001b[38;5;241m.\u001b[39m_exception_tb)\n\u001b[1;32m    204\u001b[0m \u001b[38;5;28;01mreturn\u001b[39;00m \u001b[38;5;28mself\u001b[39m\u001b[38;5;241m.\u001b[39m_result\n",
            "File \u001b[0;32m/opt/homebrew/Cellar/python@3.12/3.12.7_1/Frameworks/Python.framework/Versions/3.12/lib/python3.12/asyncio/tasks.py:314\u001b[0m, in \u001b[0;36mTask.__step_run_and_handle_result\u001b[0;34m(***failed resolving arguments***)\u001b[0m\n\u001b[1;32m    310\u001b[0m \u001b[38;5;28;01mtry\u001b[39;00m:\n\u001b[1;32m    311\u001b[0m     \u001b[38;5;28;01mif\u001b[39;00m exc \u001b[38;5;129;01mis\u001b[39;00m \u001b[38;5;28;01mNone\u001b[39;00m:\n\u001b[1;32m    312\u001b[0m         \u001b[38;5;66;03m# We use the `send` method directly, because coroutines\u001b[39;00m\n\u001b[1;32m    313\u001b[0m         \u001b[38;5;66;03m# don't have `__iter__` and `__next__` methods.\u001b[39;00m\n\u001b[0;32m--> 314\u001b[0m         result \u001b[38;5;241m=\u001b[39m \u001b[43mcoro\u001b[49m\u001b[38;5;241;43m.\u001b[39;49m\u001b[43msend\u001b[49m\u001b[43m(\u001b[49m\u001b[38;5;28;43;01mNone\u001b[39;49;00m\u001b[43m)\u001b[49m\n\u001b[1;32m    315\u001b[0m     \u001b[38;5;28;01melse\u001b[39;00m:\n\u001b[1;32m    316\u001b[0m         result \u001b[38;5;241m=\u001b[39m coro\u001b[38;5;241m.\u001b[39mthrow(exc)\n",
            "File \u001b[0;32m~/Development/rush-py/.venv/lib/python3.12/site-packages/rush/provider.py:1625\u001b[0m, in \u001b[0;36mBaseProvider.set_default_project\u001b[0;34m(self)\u001b[0m\n\u001b[1;32m   1623\u001b[0m \u001b[38;5;28;01masync\u001b[39;00m \u001b[38;5;28;01mdef\u001b[39;00m\u001b[38;5;250m \u001b[39m\u001b[38;5;21mset_default_project\u001b[39m(\u001b[38;5;28mself\u001b[39m):\n\u001b[1;32m   1624\u001b[0m     \u001b[38;5;28;01mif\u001b[39;00m \u001b[38;5;129;01mnot\u001b[39;00m \u001b[38;5;28mself\u001b[39m\u001b[38;5;241m.\u001b[39mproject_id:\n\u001b[0;32m-> 1625\u001b[0m         p \u001b[38;5;241m=\u001b[39m \u001b[38;5;28;01mawait\u001b[39;00m anext((\u001b[38;5;28;01mawait\u001b[39;00m \u001b[38;5;28mself\u001b[39m\u001b[38;5;241m.\u001b[39mprojects(tags\u001b[38;5;241m=\u001b[39m[\u001b[38;5;124m\"\u001b[39m\u001b[38;5;124mdefault\u001b[39m\u001b[38;5;124m\"\u001b[39m])))\n\u001b[1;32m   1626\u001b[0m         \u001b[38;5;28;01mif\u001b[39;00m p \u001b[38;5;129;01mand\u001b[39;00m \u001b[38;5;28mlen\u001b[39m(p\u001b[38;5;241m.\u001b[39medges) \u001b[38;5;241m>\u001b[39m \u001b[38;5;241m0\u001b[39m:\n\u001b[1;32m   1627\u001b[0m             \u001b[38;5;28mself\u001b[39m\u001b[38;5;241m.\u001b[39mproject_id \u001b[38;5;241m=\u001b[39m p\u001b[38;5;241m.\u001b[39medges[\u001b[38;5;241m0\u001b[39m]\u001b[38;5;241m.\u001b[39mnode\u001b[38;5;241m.\u001b[39mid\n",
            "File \u001b[0;32m~/Development/rush-py/.venv/lib/python3.12/site-packages/rush/provider.py:446\u001b[0m, in \u001b[0;36mBaseProvider._query_with_pagination\u001b[0;34m(self, fn, page_vars, variables)\u001b[0m\n\u001b[1;32m    440\u001b[0m \u001b[38;5;28;01masync\u001b[39;00m \u001b[38;5;28;01mdef\u001b[39;00m\u001b[38;5;250m \u001b[39m\u001b[38;5;21m_query_with_pagination\u001b[39m(\n\u001b[1;32m    441\u001b[0m     \u001b[38;5;28mself\u001b[39m,\n\u001b[1;32m    442\u001b[0m     fn: Paged[T1, TPage],\n\u001b[1;32m    443\u001b[0m     page_vars: PageVars,\n\u001b[1;32m    444\u001b[0m     variables: \u001b[38;5;28mdict\u001b[39m[\u001b[38;5;28mstr\u001b[39m, Any],\n\u001b[1;32m    445\u001b[0m ) \u001b[38;5;241m-\u001b[39m\u001b[38;5;241m>\u001b[39m AsyncIterable[Page[T1, TPage]]:\n\u001b[0;32m--> 446\u001b[0m     result \u001b[38;5;241m=\u001b[39m \u001b[38;5;28;01mawait\u001b[39;00m fn(\u001b[38;5;241m*\u001b[39m\u001b[38;5;241m*\u001b[39mvariables)\n\u001b[1;32m    448\u001b[0m     page_info_res \u001b[38;5;241m=\u001b[39m result\u001b[38;5;241m.\u001b[39mpage_info\n\u001b[1;32m    449\u001b[0m     \u001b[38;5;28;01myield\u001b[39;00m result \u001b[38;5;129;01mor\u001b[39;00m EmptyPage[T1, TPage]()\n",
            "File \u001b[0;32m~/Development/rush-py/.venv/lib/python3.12/site-packages/rush/provider.py:668\u001b[0m, in \u001b[0;36mBaseProvider.projects.<locals>.return_paged\u001b[0;34m(after, before, first, last, **kwargs)\u001b[0m\n\u001b[1;32m    661\u001b[0m \u001b[38;5;28;01masync\u001b[39;00m \u001b[38;5;28;01mdef\u001b[39;00m\u001b[38;5;250m \u001b[39m\u001b[38;5;21mreturn_paged\u001b[39m(\n\u001b[1;32m    662\u001b[0m     after: Union[Optional[\u001b[38;5;28mstr\u001b[39m], UnsetType] \u001b[38;5;241m=\u001b[39m UNSET,\n\u001b[1;32m    663\u001b[0m     before: Union[Optional[\u001b[38;5;28mstr\u001b[39m], UnsetType] \u001b[38;5;241m=\u001b[39m UNSET,\n\u001b[0;32m   (...)\u001b[0m\n\u001b[1;32m    666\u001b[0m     \u001b[38;5;241m*\u001b[39m\u001b[38;5;241m*\u001b[39mkwargs: Any,\n\u001b[1;32m    667\u001b[0m ) \u001b[38;5;241m-\u001b[39m\u001b[38;5;241m>\u001b[39m Page[ProjectsMeAccountProjectsEdgesNode, ProjectsMeAccountProjectsPageInfo]:\n\u001b[0;32m--> 668\u001b[0m     res \u001b[38;5;241m=\u001b[39m \u001b[38;5;28;01mawait\u001b[39;00m \u001b[38;5;28mself\u001b[39m\u001b[38;5;241m.\u001b[39mclient\u001b[38;5;241m.\u001b[39mprojects(first\u001b[38;5;241m=\u001b[39mfirst, after\u001b[38;5;241m=\u001b[39mafter, last\u001b[38;5;241m=\u001b[39mlast, before\u001b[38;5;241m=\u001b[39mbefore, \u001b[38;5;241m*\u001b[39m\u001b[38;5;241m*\u001b[39mkwargs)\n\u001b[1;32m    669\u001b[0m     \u001b[38;5;66;03m# The types for this pass in mypy, but not in pyright\u001b[39;00m\n\u001b[1;32m    670\u001b[0m     \u001b[38;5;28;01mreturn\u001b[39;00m res\u001b[38;5;241m.\u001b[39maccount\u001b[38;5;241m.\u001b[39mprojects\n",
            "File \u001b[0;32m~/Development/rush-py/.venv/lib/python3.12/site-packages/rush/graphql_client/client.py:3399\u001b[0m, in \u001b[0;36mClient.projects\u001b[0;34m(self, after, before, first, last, filter, **kwargs)\u001b[0m\n\u001b[1;32m   3391\u001b[0m variables: Dict[\u001b[38;5;28mstr\u001b[39m, \u001b[38;5;28mobject\u001b[39m] \u001b[38;5;241m=\u001b[39m {\n\u001b[1;32m   3392\u001b[0m     \u001b[38;5;124m\"\u001b[39m\u001b[38;5;124mafter\u001b[39m\u001b[38;5;124m\"\u001b[39m: after,\n\u001b[1;32m   3393\u001b[0m     \u001b[38;5;124m\"\u001b[39m\u001b[38;5;124mbefore\u001b[39m\u001b[38;5;124m\"\u001b[39m: before,\n\u001b[0;32m   (...)\u001b[0m\n\u001b[1;32m   3396\u001b[0m     \u001b[38;5;124m\"\u001b[39m\u001b[38;5;124mfilter\u001b[39m\u001b[38;5;124m\"\u001b[39m: \u001b[38;5;28mfilter\u001b[39m,\n\u001b[1;32m   3397\u001b[0m }\n\u001b[1;32m   3398\u001b[0m response \u001b[38;5;241m=\u001b[39m \u001b[38;5;28;01mawait\u001b[39;00m \u001b[38;5;28mself\u001b[39m\u001b[38;5;241m.\u001b[39mexecute(query\u001b[38;5;241m=\u001b[39mquery, operation_name\u001b[38;5;241m=\u001b[39m\u001b[38;5;124m\"\u001b[39m\u001b[38;5;124mprojects\u001b[39m\u001b[38;5;124m\"\u001b[39m, variables\u001b[38;5;241m=\u001b[39mvariables, \u001b[38;5;241m*\u001b[39m\u001b[38;5;241m*\u001b[39mkwargs)\n\u001b[0;32m-> 3399\u001b[0m data \u001b[38;5;241m=\u001b[39m \u001b[38;5;28;43mself\u001b[39;49m\u001b[38;5;241;43m.\u001b[39;49m\u001b[43mget_data\u001b[49m\u001b[43m(\u001b[49m\u001b[43mresponse\u001b[49m\u001b[43m)\u001b[49m\n\u001b[1;32m   3400\u001b[0m \u001b[38;5;28;01mreturn\u001b[39;00m Projects\u001b[38;5;241m.\u001b[39mmodel_validate(data)\u001b[38;5;241m.\u001b[39mme\n",
            "File \u001b[0;32m~/Development/rush-py/.venv/lib/python3.12/site-packages/rush/graphql_client/async_base_client.py:141\u001b[0m, in \u001b[0;36mAsyncBaseClient.get_data\u001b[0;34m(self, response)\u001b[0m\n\u001b[1;32m    138\u001b[0m errors \u001b[38;5;241m=\u001b[39m response_json\u001b[38;5;241m.\u001b[39mget(\u001b[38;5;124m\"\u001b[39m\u001b[38;5;124merrors\u001b[39m\u001b[38;5;124m\"\u001b[39m)\n\u001b[1;32m    140\u001b[0m \u001b[38;5;28;01mif\u001b[39;00m errors:\n\u001b[0;32m--> 141\u001b[0m     \u001b[38;5;28;01mraise\u001b[39;00m GraphQLClientGraphQLMultiError\u001b[38;5;241m.\u001b[39mfrom_errors_dicts(\n\u001b[1;32m    142\u001b[0m         errors_dicts\u001b[38;5;241m=\u001b[39merrors, data\u001b[38;5;241m=\u001b[39mdata\n\u001b[1;32m    143\u001b[0m     )\n\u001b[1;32m    145\u001b[0m \u001b[38;5;28;01mreturn\u001b[39;00m cast(Dict[\u001b[38;5;28mstr\u001b[39m, Any], data)\n",
            "\u001b[0;31mGraphQLClientGraphQLMultiError\u001b[0m: Data `tengu_dal::user::User` does not exist."
          ]
        }
      ],
      "source": [
        "client = build_blocking_provider(\n",
        "    access_token=PUT_YOUR_TOKEN_HERE,\n",
        "    url = RUSH_URL,\n",
        "    # for example, if your token is 00000000-dddd-cccc-0000-11111111,\n",
        "    # then you should put access_token=\"00000000-dddd-cccc-0000-11111111\"\n",
        "    # (including the double quotes)\n",
        ")"
      ]
    },
    {
      "cell_type": "code",
      "execution_count": 6,
      "id": "21608796",
      "metadata": {},
      "outputs": [
        {
          "name": "stdout",
          "output_type": "stream",
          "text": [
            "2025-02-05 17:38:01,482 - rush - INFO - Not restoring by default via env\n"
          ]
        }
      ],
      "source": [
        "benchmark = client.benchmark(name=\"OpenFF CDK2 RMSD17 Benchmark\")"
      ]
    },
    {
      "cell_type": "code",
      "execution_count": 13,
      "id": "b5b980cf-2e72-4bd3-842b-aff4dbc65aaf",
      "metadata": {},
      "outputs": [],
      "source": [
        "# |hide\n",
        "from IPython.display import Markdown as md\n",
        "rex_code_above = \"\"\"\n",
        "let\n",
        "\n",
        "    auto3d = \\\\smi ->  map to_data (get 0 (auto3d_rex_s default_runspec_gpu { k = 1 } [smi])),\n",
        "\n",
        "    p2rank = \\\\prot_conf ->  p2rank_rex_s default_runspec {} prot_conf,\n",
        "\n",
        "    gnina = \\\\prot_conf -> \\\\bounding_box -> \\\\smol_conf ->\n",
        "        get 0 (get 0 (gnina_rex_s default_runspec_gpu {} [prot_conf] [bounding_box] smol_conf [])),\n",
        "\n",
        "    prepare_protein_options = {\n",
        "        truncation_threshold = some 2,\n",
        "        capping_style = some 'Truncated',\n",
        "        naming_scheme = some 'Amber',\n",
        "        ph = some 7.4\n",
        "    },\n",
        "\n",
        "    prepare_protein = \\\\protein_conformer_trc -> \n",
        "        map to_data (get 0 ( prepare_protein_rex_s default_runspec prepare_protein_options [protein_conformer_trc] ))\n",
        "\n",
        "in\n",
        "\\\\input ->\n",
        "    let\n",
        "        protein = load (id (get 0 input)) 'ProteinConformer',\n",
        "        smol_id = id (get 1 input),\n",
        "        smiles = smi (load smol_id 'Smol'),\n",
        "\n",
        "        structure = load (structure_id protein) 'Structure',\n",
        "        trc = [\n",
        "            topology structure,\n",
        "            residues structure,\n",
        "            chains structure\n",
        "        ],\n",
        "\n",
        "        prepare_protein_result =  prepare_protein trc ,\n",
        "        \n",
        "        topology = get 0 (prepare_protein_result),\n",
        "        residues = get 1 (prepare_protein_result),\n",
        "        chains = get 2 (prepare_protein_result),\n",
        "        prepared_trc = [ topology, residues, chains ],\n",
        "\n",
        "        bounding_box = get 0 (get 0 (p2rank prepared_trc)),\n",
        "\n",
        "        smol_structure = auto3d smiles,\n",
        "\n",
        "        docked_structure = gnina prepared_trc bounding_box [smol_structure],\n",
        "\n",
        "        min_affinity = list_min (map (get \"affinity\") (get \"scores\" docked_structure)),\n",
        "\n",
        "        binding_affinity = BindingAffinity {\n",
        "            affinity = min_affinity,\n",
        "            affinity_metric = 'kcal/mol',\n",
        "            protein_id = protein_id protein,\n",
        "            smol_id = smol_id,\n",
        "            metadata = Metadata {\n",
        "                name = \"blah\",\n",
        "                description = none,\n",
        "                tags = []\n",
        "            }\n",
        "        }\n",
        "    in\n",
        "        [BenchmarkArg {\n",
        "            entity = \"BindingAffinity\",\n",
        "            id = save binding_affinity\n",
        "        }]\n",
        "\"\"\""
      ]
    },
    {
      "cell_type": "code",
      "execution_count": 6,
      "id": "7f94a9d3",
      "metadata": {},
      "outputs": [
        {
          "data": {
            "text/markdown": [
              "```haskell\n",
              "let\n",
              "    runspec = RunSpec {\n",
              "        target = 'Bullet',\n",
              "        resources = Resources {\n",
              "            storage = some 10,\n",
              "            storage_units = some \"MB\",\n",
              "            gpus = some 1\n",
              "        }\n",
              "    },\n",
              "\n",
              "    runspec_nogpu = RunSpec {\n",
              "        target = 'Bullet',\n",
              "        resources = Resources {\n",
              "            storage = some 10,\n",
              "            storage_units = some \"MB\",\n",
              "            gpus = none\n",
              "        }\n",
              "    },\n",
              "\n",
              "    auto3d = \\smi ->\n",
              "        let\n",
              "            result = get 0 (auto3d_rex_s runspec { k = 1 } [smi]),\n",
              "            make_virtual_object = \\index ->\n",
              "                VirtualObject {\n",
              "                    path = get \"path\" (get index result),\n",
              "                    size = get \"size\" (get index result),\n",
              "                    format = \"json\"\n",
              "                }\n",
              "        in\n",
              "            (make_virtual_object 0, make_virtual_object 1),\n",
              "\n",
              "    p2rank = \\prot_conf ->  p2rank_rex_s runspec_nogpu {} prot_conf,\n",
              "\n",
              "    gnina = \\prot_conf -> \\bounding_box -> \\smol_conf ->\n",
              "        get 0 (get 0 (gnina_rex_s runspec {} [prot_conf] [bounding_box] smol_conf [])),\n",
              "\n",
              "\n",
              "    prepare_protein_options = {\n",
              "        truncation_threshold = some 2,\n",
              "        capping_style = some 'Truncated',\n",
              "        naming_scheme = some 'Amber',\n",
              "        ph = some 7.4\n",
              "    },\n",
              "\n",
              "    prepare_protein = \\protein_conformer_trc -> \n",
              "        prepare_protein_rex_s runspec prepare_protein_options [protein_conformer_trc],\n",
              "\n",
              "in\n",
              "\\input ->\n",
              "    let\n",
              "        protein = load (id (get 0 input)) 'ProteinConformer',\n",
              "        smol_id = id (get 1 input),\n",
              "        smiles = smi (load smol_id 'Smol'),\n",
              "\n",
              "        structure = load (structure_id protein) 'Structure',\n",
              "        trc = [\n",
              "            topology structure,\n",
              "            residues structure,\n",
              "            chains structure\n",
              "        ],\n",
              "\n",
              "        prepare_protein_result = get 0 ( prepare_protein trc ),\n",
              "        make_virtual_object = \\index ->\n",
              "            VirtualObject {\n",
              "                path = get \"path\" (get index prepare_protein_result),\n",
              "                size = get \"size\" (get index prepare_protein_result),\n",
              "                format = \"json\"\n",
              "            },\n",
              "        topology = make_virtual_object 0,\n",
              "        residues = make_virtual_object 1,\n",
              "        chains = make_virtual_object 2,\n",
              "        prepared_trc = [ topology, residues, chains ],\n",
              "\n",
              "        bounding_box = get 0 (get 0 (p2rank prepared_trc)),\n",
              "\n",
              "        smol_structure = auto3d smiles,\n",
              "\n",
              "        docked_structure = gnina prepared_trc bounding_box [smol_structure],\n",
              "\n",
              "        min_affinity = list_min (map (get \"affinity\") (get \"scores\" docked_structure)),\n",
              "\n",
              "        binding_affinity = BindingAffinity {\n",
              "            affinity = min_affinity,\n",
              "            affinity_metric = 'kcal/mol',\n",
              "            protein_id = protein_id protein,\n",
              "            smol_id = smol_id,\n",
              "            metadata = Metadata {\n",
              "                name = \"blah\",\n",
              "                description = none,\n",
              "                tags = []\n",
              "            }\n",
              "        }\n",
              "    in\n",
              "        [BenchmarkArg {\n",
              "            entity = \"BindingAffinity\",\n",
              "            id = save binding_affinity\n",
              "        }]\n",
              "```"
            ],
            "text/plain": [
              "<IPython.core.display.Markdown object>"
            ]
          },
          "execution_count": 6,
          "metadata": {},
          "output_type": "execute_result"
        }
      ],
      "source": [
        "#| echo:false\n",
        "md(f\"```haskell{rex_code_above}```\")"
      ]
    },
    {
      "cell_type": "code",
      "execution_count": 14,
      "id": "33f2e2b4",
      "metadata": {},
      "outputs": [
        {
          "name": "stdout",
          "output_type": "stream",
          "text": [
            "View your submission at https://rush-qdx-2-staging.web.app/project/07c7d14a-3a55-491c-ab50-65cca07ec7a0/runs?selectedRunId=e09375f5-1f2c-467a-8bd7-615eb5c1cfb4\n"
          ]
        }
      ],
      "source": [
        "submission = client.run_benchmark(\n",
        "    benchmark.id, \n",
        "    rex_code_above, \n",
        "    \"with prepare protein\", \n",
        "    sample=0.2)"
      ]
    },
    {
      "cell_type": "code",
      "execution_count": null,
      "id": "7aa50bb0",
      "metadata": {},
      "outputs": [],
      "source": []
    }
  ],
  "metadata": {
    "kernelspec": {
      "display_name": "base",
      "language": "python",
      "name": "python3"
    },
    "language_info": {
      "codemirror_mode": {
        "name": "ipython",
        "version": 3
      },
      "file_extension": ".py",
      "mimetype": "text/x-python",
      "name": "python",
      "nbconvert_exporter": "python",
      "pygments_lexer": "ipython3",
      "version": "3.11.8"
    }
  },
  "nbformat": 4,
  "nbformat_minor": 5
}
