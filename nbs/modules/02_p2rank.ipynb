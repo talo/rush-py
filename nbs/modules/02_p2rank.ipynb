{
 "cells": [
  {
   "cell_type": "markdown",
   "metadata": {},
   "source": [
    "# Module: P2rank\n",
    "\n",
    "`p2rank` identifies **binding sites** on a given **protein structure**.  \n",
    "It predicts pockets based on **machine learning models** trained on structural features. This function is based on:  \n",
    "[Identifying ligand-binding sites using machine learning](https://jcheminf.biomedcentral.com/articles/10.1186/s13321-018-0285-8).\n",
    "\n",
    "### Function usage\n",
    "\n",
    "``` Haskell\n",
    "let\n",
    "    p2rank = \\\\prot_conf ->  p2rank_rex_s default_runspec {} prot_conf,\n",
    "\n",
    "in\n",
    "\\\\input ->\n",
    "    let\n",
    "        bounding_box = get 0 (get 0 (p2rank trc)),\n",
    "```\n",
    "\n",
    "\n",
    "### Parameters\n",
    "----------\n",
    "None of the parameters of `p2rank` are exposed at this point.\n",
    "\n",
    "\n",
    "### Returns\n",
    "-------\n",
    "| Output | Type | Description |\n",
    "| --- | --- | --- |\n",
    "| `bounding_box` | `BoundingBox` | A predicted binding site on the protein structure.. |\n"
   ]
  },
  {
   "cell_type": "markdown",
   "metadata": {},
   "source": []
  }
 ],
 "metadata": {
  "language_info": {
   "name": "python"
  }
 },
 "nbformat": 4,
 "nbformat_minor": 2
}
