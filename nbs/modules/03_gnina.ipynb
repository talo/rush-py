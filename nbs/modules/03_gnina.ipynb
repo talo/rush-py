{
 "cells": [
  {
   "cell_type": "markdown",
   "metadata": {},
   "source": [
    "# Module: Gnina\n",
    "\n",
    "`gnina` performs **molecular docking** and predicts **binding affinity** between a protein and a small molecule. It leverages **deep learning models** to optimize docking poses and estimate **binding energy**. This function is based on: [GNINA: Deep Learning-Based Molecular Docking](https://pubs.acs.org/doi/10.1021/acs.jcim.0c01306).\n",
    "\n",
    "### Function usage\n",
    "\n",
    "```Haskell\n",
    "let\n",
    "    gnina = \\\\prot_conf -> \\\\bounding_box -> \\\\smol_conf ->\n",
    "        get 0 (get 0 (gnina_rex_s runspec {} [prot_conf] [bounding_box] smol_conf [])),\n",
    "\n",
    "in\n",
    "\\\\input ->\n",
    "    let\n",
    "        docked_structure = gnina trc bounding_box [smol_structure],\n",
    "        min_affinity = list_min (map (get \"affinity\") (get \"scores\" docked_structure)),\n",
    "```\n",
    "\n",
    "### Parameters\n",
    "| Parameter | Type | Default | Description |\n",
    "| --- | --- | --- | --- |\n",
    "| `minimize` | `Boolean` | `None` | _(Optional)_ Whether to minimize the energy of the final pose. |\n",
    "| `exhaustiveness` | `Integer` | `None` | _(Optional)_ The search extent for the docking algorithm. |\n",
    "| `num_modes` | `Integer` | `None` | _(Optional)_ The number of docking poses to report. |\n",
    "\n",
    "\n",
    "### Returns\n",
    "| Output | Type | Description |\n",
    "| --- | --- | --- |\n",
    "| `docked_structure` | `DockingResult` | A set of docked molecular poses and their predicted scores. |\n",
    "| `min_affinity` | `Float` | The **minimum predicted binding affinity** (in kcal/mol). |\n"
   ]
  },
  {
   "cell_type": "markdown",
   "metadata": {},
   "source": []
  },
  {
   "cell_type": "markdown",
   "metadata": {},
   "source": []
  }
 ],
 "metadata": {
  "language_info": {
   "name": "python"
  }
 },
 "nbformat": 4,
 "nbformat_minor": 2
}
