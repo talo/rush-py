{
 "cells": [
  {
   "cell_type": "markdown",
   "id": "0c7513fe",
   "metadata": {},
   "source": [
    "# qm_geo_opt — Run quantum accurate geometry optimisation on a small molecule"
   ]
  },
  {
   "cell_type": "markdown",
   "id": "0a652bd7",
   "metadata": {},
   "source": [
    "This notebook shows how to geometry optimise a small molecule using RIMP2 accurate gradients."
   ]
  },
  {
   "cell_type": "markdown",
   "id": "848b8d45",
   "metadata": {},
   "source": [
    "# 0) Complete example\n",
    "See the [sample notebook](/Quickstarts/qm_geo_opt_calculation-sample.ipynb) for a complete demonstration."
   ]
  },
  {
   "cell_type": "markdown",
   "id": "0cf2ad7e",
   "metadata": {},
   "source": [
    "# 1) Setup"
   ]
  },
  {
   "cell_type": "markdown",
   "id": "1217714d",
   "metadata": {},
   "source": [
    "## 1.0) Imports"
   ]
  },
  {
   "cell_type": "code",
   "execution_count": null,
   "id": "3182a4ca",
   "metadata": {},
   "outputs": [],
   "source": [
    "import os\n",
    "from glob import glob\n",
    "from pathlib import Path\n",
    "import json\n",
    "\n",
    "import rush"
   ]
  },
  {
   "cell_type": "markdown",
   "id": "b3bbd958",
   "metadata": {},
   "source": [
    "## 1.1) Configuration"
   ]
  },
  {
   "cell_type": "code",
   "execution_count": null,
   "id": "9710ddf8",
   "metadata": {},
   "outputs": [],
   "source": [
    "# Define our project information\n",
    "EXPERIMENT = \"rush qm geo opt notebook\"\n",
    "MOLECULE_NAME = \"cyclobutane\"\n",
    "TAGS = [\"qdx\", EXPERIMENT, MOLECULE_NAME]"
   ]
  },
  {
   "cell_type": "code",
   "execution_count": null,
   "id": "5769ad94",
   "metadata": {},
   "outputs": [],
   "source": [
    "# |hide\n",
    "WORK_DIR = Path.home() / \"qdx\" / EXPERIMENT\n",
    "\n",
    "if WORK_DIR.exists():\n",
    "    client = rush.Provider(workspace=WORK_DIR)\n",
    "    await client.nuke(remote=False)\n",
    "os.makedirs(WORK_DIR, exist_ok=True)"
   ]
  },
  {
   "cell_type": "markdown",
   "id": "3dd0f2c1",
   "metadata": {},
   "source": [
    "## 1.2) Build your client"
   ]
  },
  {
   "cell_type": "code",
   "execution_count": null,
   "id": "2f657948",
   "metadata": {},
   "outputs": [],
   "source": [
    "# By using the `build_provider_with_functions` method, we will also build\n",
    "# helper functions calling each module\n",
    "client = await rush.build_provider_with_functions(batch_tags=TAGS)"
   ]
  },
  {
   "cell_type": "code",
   "execution_count": null,
   "id": "4f9a42fe-1a06-4881-8b16-95ab304d6529",
   "metadata": {},
   "outputs": [],
   "source": [
    "# |hide\n",
    "client = await rush.build_provider_with_functions(\n",
    "    batch_tags=TAGS, workspace=WORK_DIR, restore_by_default=True\n",
    ")"
   ]
  },
  {
   "cell_type": "markdown",
   "id": "51dcbedc",
   "metadata": {},
   "source": [
    "## 1.3) Get the qm_geo_opt rush module"
   ]
  },
  {
   "cell_type": "code",
   "execution_count": null,
   "id": "2be0e5ea",
   "metadata": {},
   "outputs": [],
   "source": [
    "# Get our latest modules as a dict[module_name, module_path]\n",
    "# If a lock file exists, load it so that the run is reproducible\n",
    "# This will be done automatically if you use the `build_provider_with_functions`\n",
    "# method\n",
    "modules = await client.get_latest_module_paths()"
   ]
  },
  {
   "cell_type": "code",
   "execution_count": null,
   "id": "d6ec818c-249f-4b7e-a8bf-74c4a69d8948",
   "metadata": {},
   "outputs": [
    {
     "name": "stdout",
     "output_type": "stream",
     "text": [
      "auto3d: github:talo/tengu-auto3d/4896c5559f73046314ac4aaa0f660d86a0d259d7#auto3d_tengu\n",
      "concat: github:talo/tengu-prelude/f506c7ead174cdb7e8d1725139254bb85c6b62f8#concat\n",
      "convert: github:talo/tengu-prelude/f506c7ead174cdb7e8d1725139254bb85c6b62f8#convert\n",
      "dubai: github:talo/Dubai/4a177b6f5711de65abf0c8856adf3c2604ca228d#dubai_tengu\n",
      "fragment: github:talo/tengu-prelude/f506c7ead174cdb7e8d1725139254bb85c6b62f8#fragment\n",
      "fragment_aa: github:talo/tengu-prelude/f506c7ead174cdb7e8d1725139254bb85c6b62f8#fragment_aa\n",
      "gmx: github:talo/gmx_tengu_support/75f745b09ec24280298b265e18127fcd41747be7#gmx_tengu\n",
      "gmx_resume: github:talo/gmx_tengu_support/75f745b09ec24280298b265e18127fcd41747be7#gmx_resume_tengu\n",
      "hermes_energy: github:talo/tengu-prelude/f506c7ead174cdb7e8d1725139254bb85c6b62f8#hermes_energy\n",
      "hermes_energy_batch: github:talo/tengu-prelude/f506c7ead174cdb7e8d1725139254bb85c6b62f8#hermes_energy_batch\n",
      "pbsa: github:talo/pbsa-cuda/85b807d2fa6b1ea843440d93a2644ce891e41d6d#pbsa_tengu\n",
      "pdb2pqr: github:talo/prepare_protein/947cdbc000031e192153a20a9b4a8fbb12279102#pdb2pqr_tengu\n",
      "pick_conformer: github:talo/tengu-prelude/f506c7ead174cdb7e8d1725139254bb85c6b62f8#pick_conformer\n",
      "plip: github:talo/tengu-plip/b0119d6e16e564376dee67f5deb418f03b818065#plip_tengu\n",
      "prepare_protein: github:talo/prepare_protein/947cdbc000031e192153a20a9b4a8fbb12279102#prepare_protein_tengu\n"
     ]
    }
   ],
   "source": [
    "for name, path in sorted(modules.items()):\n",
    "    print(f\"{name}: {path}\")"
   ]
  },
  {
   "cell_type": "code",
   "execution_count": null,
   "id": "3203fc44",
   "metadata": {},
   "outputs": [
    {
     "ename": "AttributeError",
     "evalue": "'Provider' object has no attribute 'qm_geo_opt'",
     "output_type": "error",
     "traceback": [
      "\u001b[0;31m---------------------------------------------------------------------------\u001b[0m",
      "\u001b[0;31mAttributeError\u001b[0m                            Traceback (most recent call last)",
      "Cell \u001b[0;32mIn[8], line 1\u001b[0m\n\u001b[0;32m----> 1\u001b[0m help(\u001b[43mclient\u001b[49m\u001b[38;5;241;43m.\u001b[39;49m\u001b[43mqm_geo_opt\u001b[49m)\n",
      "\u001b[0;31mAttributeError\u001b[0m: 'Provider' object has no attribute 'qm_geo_opt'"
     ]
    }
   ],
   "source": [
    "help(client.qm_geo_opt)"
   ]
  },
  {
   "cell_type": "markdown",
   "id": "4a51e3aa",
   "metadata": {},
   "source": [
    "# 2) Run geometry optimisation"
   ]
  },
  {
   "cell_type": "markdown",
   "id": "2c962187",
   "metadata": {},
   "source": [
    "## 2.0) Create input geometry\n",
    "We will be creating a QDXF Conformer from an unoptimised cyclobutane XYZ"
   ]
  },
  {
   "cell_type": "code",
   "execution_count": null,
   "id": "bbc62bcc",
   "metadata": {},
   "outputs": [],
   "source": [
    "def xyz_to_qdxf_topology(xyz_data: str):\n",
    "    symbols = []\n",
    "    geometry = []\n",
    "    for line in xyz_data.splitlines()[2:]:\n",
    "        symbol, x, y, z = line.split()\n",
    "        symbols.append(symbol)\n",
    "        geometry.extend([float(x), float(y), float(z)])\n",
    "    return {\"topology\": {\"symbols\": symbols, \"geometry\": geometry}}\n",
    "\n",
    "\n",
    "def qdxf_topology_to_xyz(qdxf_in: dict, name: str):\n",
    "    symbols = qdxf_in[\"topology\"][\"symbols\"]\n",
    "    geometry = qdxf_in[\"topology\"][\"geometry\"]\n",
    "    xyz_data = f\"{len(symbols)}\\n{name}\\n\"\n",
    "    for i in range(len(symbols)):\n",
    "        symbol = symbols[i]\n",
    "        x, y, z = geometry[3 * i : 3 * i + 3]\n",
    "        xyz_data += f\"  {symbol}\"\n",
    "        for coord in [x, y, z]:\n",
    "            xyz_data += \"     \"\n",
    "            if coord >= 0:\n",
    "                xyz_data += \" \"\n",
    "            xyz_data += f\"{(coord):.4f}\"\n",
    "        xyz_data += \"\\n\"\n",
    "    return xyz_data"
   ]
  },
  {
   "cell_type": "code",
   "execution_count": null,
   "id": "14e6f480",
   "metadata": {},
   "outputs": [],
   "source": [
    "cyclobutane_xyz = \"\"\"12\n",
    "cyclobutane\n",
    "  C     -0.750      0.452     -0.417\n",
    "  C     -0.696     -0.588      0.609\n",
    "  C      0.820     -0.678      0.537\n",
    "  C      0.892      0.417     -0.428\n",
    "  H     -1.285      1.273      0.066\n",
    "  H     -1.328      0.080     -1.263\n",
    "  H     -1.225     -1.507      0.366\n",
    "  H     -1.029     -0.162      1.555\n",
    "  H      1.158     -1.594      0.054\n",
    "  H      1.310     -0.477      1.488\n",
    "  H      1.432      0.009     -1.290\n",
    "  H      1.506      1.236     -0.056\n",
    "\"\"\""
   ]
  },
  {
   "cell_type": "code",
   "execution_count": null,
   "id": "57259b4e",
   "metadata": {},
   "outputs": [],
   "source": [
    "cyclobutane_qdxf = xyz_to_qdxf_topology(cyclobutane_xyz)"
   ]
  },
  {
   "cell_type": "code",
   "execution_count": null,
   "id": "8b6f0323",
   "metadata": {},
   "outputs": [],
   "source": [
    "# write the qdxf file to disk\n",
    "cyclobutane_qdxf_input_file = Path(WORK_DIR) / \"cyclobutane.qdxf.json\"\n",
    "with open(cyclobutane_qdxf_input_file, \"w\") as f:\n",
    "    json.dump(cyclobutane_qdxf, f)"
   ]
  },
  {
   "cell_type": "markdown",
   "id": "e743f9e4",
   "metadata": {},
   "source": [
    "## 2.1) Arguments"
   ]
  },
  {
   "cell_type": "code",
   "execution_count": null,
   "id": "134e9f8e",
   "metadata": {},
   "outputs": [],
   "source": [
    "params = {\n",
    "    \"use_internal_coords\": True,\n",
    "    \"max_iterations\": 100,\n",
    "    \"conv_threshold\": 1e-4,\n",
    "    \"basis_set\": \"cc-pVDZ\",\n",
    "}"
   ]
  },
  {
   "cell_type": "markdown",
   "id": "3ff1ca0b",
   "metadata": {},
   "source": [
    "## 2.2) Call geometry optimisation over the input geometry"
   ]
  },
  {
   "cell_type": "code",
   "execution_count": null,
   "id": "8c7d5a22",
   "metadata": {},
   "outputs": [],
   "source": [
    "QM_GEO_OPT_RESOURCES = {\n",
    "    \"gpus\": 1,\n",
    "    \"storage\": 1024_000,\n",
    "    \"walltime\": 60,\n",
    "}\n",
    "(geo_opt_out, results) = await client.qm_geo_opt(\n",
    "    cyclobutane_qdxf_input_file, params, resources=QM_GEO_OPT_RESOURCES\n",
    ")\n",
    "print(await geo_opt_out.get())"
   ]
  },
  {
   "cell_type": "markdown",
   "id": "6b6b5ee7",
   "metadata": {},
   "source": [
    "## 2.3) Check that calculations converged"
   ]
  },
  {
   "cell_type": "code",
   "execution_count": null,
   "id": "f5209813",
   "metadata": {},
   "outputs": [],
   "source": [
    "results_out = await results.get()\n",
    "assert results_out[\"converged\"]"
   ]
  },
  {
   "cell_type": "markdown",
   "id": "327dbb28",
   "metadata": {},
   "source": [
    "# 3) Visualise pre-optimised and optimised geometries"
   ]
  },
  {
   "cell_type": "code",
   "execution_count": null,
   "id": "0e54199a",
   "metadata": {},
   "outputs": [],
   "source": [
    "import py3Dmol"
   ]
  },
  {
   "cell_type": "code",
   "execution_count": null,
   "id": "a902d8b6",
   "metadata": {},
   "outputs": [],
   "source": [
    "pre_opt_view = py3Dmol.view()\n",
    "pre_opt_view.addModel(cyclobutane_xyz, \"xyz\")\n",
    "pre_opt_view.setStyle({\"stick\": {}})\n",
    "pre_opt_view.zoomTo()\n",
    "pre_opt_view.show()"
   ]
  },
  {
   "cell_type": "code",
   "execution_count": null,
   "id": "d62a77e5",
   "metadata": {},
   "outputs": [],
   "source": [
    "topologies_out = await geo_opt_out.get()\n",
    "opt_cyclobutane_xyz = qdxf_topology_to_xyz(\n",
    "    topologies_out[-1], \"optimised cyclobutane\"\n",
    ")\n",
    "\n",
    "opt_view = py3Dmol.view()\n",
    "opt_view.addModel(opt_cyclobutane_xyz, \"xyz\", {})\n",
    "opt_view.setStyle({\"stick\": {}})\n",
    "opt_view.zoomTo()\n",
    "opt_view.show()"
   ]
  }
 ],
 "metadata": {
  "kernelspec": {
   "display_name": "python3",
   "language": "python",
   "name": "python3"
  }
 },
 "nbformat": 4,
 "nbformat_minor": 5
}
