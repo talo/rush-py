{
 "cells": [
  {
   "cell_type": "markdown",
   "id": "572aa4ac-3b57-4e7b-8fcc-cb382faaede2",
   "metadata": {},
   "source": [
    "# QDX Experiment Tracking Notebook\n",
    "\n",
    "This repository contains an example jupyter notebook setup with dvc + nbdev hooks for productive expermentation.\n",
    "\n",
    "## Usage\n",
    "\n",
    "Create a new repository on GitHub, and choose `talo/experiment-notebook-template` as a template\n",
    "\n",
    "`git clone` your experiment locally\n",
    "`nix develop` before making changes - you will need to have `nbdev` in your environment before committing so that it can apply its notebook merge fixes\n",
    "\n",
    "## Examples\n",
    "Below is an example experiment to demonstrate tracking capabilities"
   ]
  },
  {
   "cell_type": "code",
   "execution_count": null,
   "id": "cba413ed-81bb-4ac1-9738-c2b9898cb46c",
   "metadata": {},
   "outputs": [],
   "source": [
    "import qdx"
   ]
  }
 ],
 "metadata": {
  "kernelspec": {
   "display_name": "python3",
   "language": "python",
   "name": "python3"
  }
 },
 "nbformat": 4,
 "nbformat_minor": 5
}
